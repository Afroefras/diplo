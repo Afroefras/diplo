{
 "cells": [
  {
   "cell_type": "markdown",
   "id": "36b93100",
   "metadata": {},
   "source": [
    "# Módulo V Práctica 1"
   ]
  },
  {
   "cell_type": "markdown",
   "id": "36b0ae92",
   "metadata": {},
   "source": [
    "## Import"
   ]
  },
  {
   "cell_type": "code",
   "execution_count": 1,
   "id": "7a50dc8c",
   "metadata": {
    "ExecuteTime": {
     "end_time": "2021-05-08T15:42:30.733729Z",
     "start_time": "2021-05-08T15:42:30.724157Z"
    }
   },
   "outputs": [
    {
     "name": "stdout",
     "output_type": "stream",
     "text": [
      "['.DS_Store', 'cred.json']\n"
     ]
    }
   ],
   "source": [
    "import os\n",
    "\n",
    "BASE_DIR = '/Users/efraflores/Desktop/EF/Diplo/data/05'\n",
    "print(os.listdir(BASE_DIR))"
   ]
  },
  {
   "cell_type": "code",
   "execution_count": 10,
   "id": "ec08998f",
   "metadata": {
    "ExecuteTime": {
     "end_time": "2021-05-08T15:52:48.745297Z",
     "start_time": "2021-05-08T15:52:48.725534Z"
    }
   },
   "outputs": [
    {
     "ename": "ModuleNotFoundError",
     "evalue": "No module named 'pandas'",
     "output_type": "error",
     "traceback": [
      "\u001b[0;31m---------------------------------------------------------------------------\u001b[0m",
      "\u001b[0;31mModuleNotFoundError\u001b[0m                       Traceback (most recent call last)",
      "\u001b[0;32m<ipython-input-10-c95a0f06ce2f>\u001b[0m in \u001b[0;36m<module>\u001b[0;34m\u001b[0m\n\u001b[1;32m      1\u001b[0m \u001b[0;32mimport\u001b[0m \u001b[0mjson\u001b[0m \u001b[0;32mas\u001b[0m \u001b[0mjs\u001b[0m\u001b[0;34m\u001b[0m\u001b[0;34m\u001b[0m\u001b[0m\n\u001b[0;32m----> 2\u001b[0;31m \u001b[0;32mimport\u001b[0m \u001b[0mpandas\u001b[0m \u001b[0;32mas\u001b[0m \u001b[0mpd\u001b[0m\u001b[0;34m\u001b[0m\u001b[0;34m\u001b[0m\u001b[0m\n\u001b[0m\u001b[1;32m      3\u001b[0m \u001b[0;32mfrom\u001b[0m \u001b[0msqlalchemy\u001b[0m \u001b[0;32mimport\u001b[0m \u001b[0mcreate_engine\u001b[0m\u001b[0;34m\u001b[0m\u001b[0;34m\u001b[0m\u001b[0m\n\u001b[1;32m      4\u001b[0m \u001b[0;34m\u001b[0m\u001b[0m\n\u001b[1;32m      5\u001b[0m \u001b[0;32mwith\u001b[0m \u001b[0mopen\u001b[0m\u001b[0;34m(\u001b[0m\u001b[0mos\u001b[0m\u001b[0;34m.\u001b[0m\u001b[0mpath\u001b[0m\u001b[0;34m.\u001b[0m\u001b[0mjoin\u001b[0m\u001b[0;34m(\u001b[0m\u001b[0mBASE_DIR\u001b[0m\u001b[0;34m,\u001b[0m\u001b[0;34m\"cred.json\"\u001b[0m\u001b[0;34m)\u001b[0m\u001b[0;34m,\u001b[0m \u001b[0;34m\"r+\"\u001b[0m\u001b[0;34m)\u001b[0m \u001b[0;32mas\u001b[0m \u001b[0mfile\u001b[0m\u001b[0;34m:\u001b[0m\u001b[0;34m\u001b[0m\u001b[0;34m\u001b[0m\u001b[0m\n",
      "\u001b[0;31mModuleNotFoundError\u001b[0m: No module named 'pandas'"
     ]
    }
   ],
   "source": [
    "import json as js\n",
    "import pandas as pd\n",
    "from sqlalchemy import create_engine\n",
    "\n",
    "with open(os.path.join(BASE_DIR,\"cred.json\"), \"r+\") as file:\n",
    "    cred = js.load(file)\n",
    "    \n",
    "conn = create_engine(f\"{cred['flavour']}://{cred['username']}:{cred['password']}@{cred['host']}:{cred['port']}/{cred['sakila']}\").connect()"
   ]
  },
  {
   "cell_type": "code",
   "execution_count": 12,
   "id": "9e1e8549",
   "metadata": {
    "ExecuteTime": {
     "end_time": "2021-05-08T20:10:40.819039Z",
     "start_time": "2021-05-08T20:10:40.612271Z"
    }
   },
   "outputs": [
    {
     "name": "stdout",
     "output_type": "stream",
     "text": [
      "/Users/efraflores/Desktop/hub/diplo/venv/lib/python3.9/site-packages\r\n"
     ]
    }
   ],
   "source": [
    "!python -c 'import sysconfig; print(sysconfig.get_paths()[\"purelib\"])'"
   ]
  },
  {
   "cell_type": "code",
   "execution_count": 11,
   "id": "478acb89",
   "metadata": {
    "ExecuteTime": {
     "end_time": "2021-05-08T18:59:30.333807Z",
     "start_time": "2021-05-08T18:59:29.357730Z"
    }
   },
   "outputs": [
    {
     "name": "stdout",
     "output_type": "stream",
     "text": [
      "Requirement already satisfied: pandas in /Users/efraflores/Desktop/hub/diplo/venv/lib/python3.9/site-packages (1.2.4)\r\n",
      "Requirement already satisfied: python-dateutil>=2.7.3 in /Users/efraflores/Desktop/hub/diplo/venv/lib/python3.9/site-packages (from pandas) (2.8.1)\r\n",
      "Requirement already satisfied: numpy>=1.16.5 in /Users/efraflores/Desktop/hub/diplo/venv/lib/python3.9/site-packages (from pandas) (1.20.2)\r\n",
      "Requirement already satisfied: pytz>=2017.3 in /Users/efraflores/Desktop/hub/diplo/venv/lib/python3.9/site-packages (from pandas) (2021.1)\r\n",
      "Requirement already satisfied: six>=1.5 in /Users/efraflores/Desktop/hub/diplo/venv/lib/python3.9/site-packages (from python-dateutil>=2.7.3->pandas) (1.16.0)\r\n"
     ]
    }
   ],
   "source": [
    "!pip install pandas"
   ]
  },
  {
   "cell_type": "code",
   "execution_count": null,
   "id": "2412d31e",
   "metadata": {},
   "outputs": [],
   "source": [
    "/Users/efraflores/Desktop/hub/diplo/venv/lib/python3.9/site-packages\n",
    "/Users/efraflores/Desktop/hub/diplo/venv/lib/python3.9/site-packages\n",
    "/Users/efraflores/Desktop/hub/diplo/venv/lib/python3.9/site-packages"
   ]
  }
 ],
 "metadata": {
  "kernelspec": {
   "display_name": "Python 3",
   "language": "python",
   "name": "python3"
  },
  "language_info": {
   "codemirror_mode": {
    "name": "ipython",
    "version": 3
   },
   "file_extension": ".py",
   "mimetype": "text/x-python",
   "name": "python",
   "nbconvert_exporter": "python",
   "pygments_lexer": "ipython3",
   "version": "3.9.1"
  },
  "toc": {
   "base_numbering": 1,
   "nav_menu": {},
   "number_sections": true,
   "sideBar": true,
   "skip_h1_title": true,
   "title_cell": "Table of Contents",
   "title_sidebar": "Contents",
   "toc_cell": false,
   "toc_position": {},
   "toc_section_display": true,
   "toc_window_display": false
  },
  "varInspector": {
   "cols": {
    "lenName": 16,
    "lenType": 16,
    "lenVar": 40
   },
   "kernels_config": {
    "python": {
     "delete_cmd_postfix": "",
     "delete_cmd_prefix": "del ",
     "library": "var_list.py",
     "varRefreshCmd": "print(var_dic_list())"
    },
    "r": {
     "delete_cmd_postfix": ") ",
     "delete_cmd_prefix": "rm(",
     "library": "var_list.r",
     "varRefreshCmd": "cat(var_dic_list()) "
    }
   },
   "types_to_exclude": [
    "module",
    "function",
    "builtin_function_or_method",
    "instance",
    "_Feature"
   ],
   "window_display": false
  }
 },
 "nbformat": 4,
 "nbformat_minor": 5
}
