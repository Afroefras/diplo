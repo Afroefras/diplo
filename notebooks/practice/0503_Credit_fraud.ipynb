{
 "cells": [
  {
   "cell_type": "markdown",
   "id": "3208bd07",
   "metadata": {},
   "source": [
    "# Credit Fraud"
   ]
  },
  {
   "cell_type": "markdown",
   "id": "d033220d",
   "metadata": {
    "heading_collapsed": true
   },
   "source": [
    "## Import"
   ]
  },
  {
   "cell_type": "code",
   "execution_count": 1,
   "id": "67e59250",
   "metadata": {
    "ExecuteTime": {
     "end_time": "2021-05-22T18:12:59.687167Z",
     "start_time": "2021-05-22T18:12:59.677841Z"
    },
    "hidden": true
   },
   "outputs": [],
   "source": [
    "import sys\n",
    "sys.path.append('/Users/efraflores/Desktop/hub/diplo/venv/lib/python3.9/site-packages')"
   ]
  },
  {
   "cell_type": "code",
   "execution_count": 2,
   "id": "b18986c7",
   "metadata": {
    "ExecuteTime": {
     "end_time": "2021-05-22T18:12:59.695476Z",
     "start_time": "2021-05-22T18:12:59.690473Z"
    },
    "hidden": true
   },
   "outputs": [
    {
     "name": "stdout",
     "output_type": "stream",
     "text": [
      "['0501_cred.json', '0503_fraud.csv', '.DS_Store', 'tad_continous.csv', '0503_trans.csv', 'ufo_discrete_model.pkl', '0503_holder.csv', 'ufo_continous_model.pkl', '0503_tad.csv', '0503_Xclustering.csv', '0503_city.csv', '0501_untitled.csv', 'tad_discrete.csv', 'ufo_sentim.csv', '0502_ufo_data.csv']\n"
     ]
    }
   ],
   "source": [
    "import os\n",
    "\n",
    "BASE_DIR = '/Users/efraflores/Desktop/EF/Diplo/data/05'\n",
    "print(os.listdir(BASE_DIR))"
   ]
  },
  {
   "cell_type": "code",
   "execution_count": 3,
   "id": "767b5dcd",
   "metadata": {
    "ExecuteTime": {
     "end_time": "2021-05-22T18:13:02.940676Z",
     "start_time": "2021-05-22T18:12:59.698771Z"
    },
    "hidden": true
   },
   "outputs": [
    {
     "name": "stdout",
     "output_type": "stream",
     "text": [
      "city\n"
     ]
    },
    {
     "data": {
      "text/html": [
       "<div>\n",
       "<style scoped>\n",
       "    .dataframe tbody tr th:only-of-type {\n",
       "        vertical-align: middle;\n",
       "    }\n",
       "\n",
       "    .dataframe tbody tr th {\n",
       "        vertical-align: top;\n",
       "    }\n",
       "\n",
       "    .dataframe thead th {\n",
       "        text-align: right;\n",
       "    }\n",
       "</style>\n",
       "<table border=\"1\" class=\"dataframe\">\n",
       "  <thead>\n",
       "    <tr style=\"text-align: right;\">\n",
       "      <th></th>\n",
       "      <th>city</th>\n",
       "      <th>state</th>\n",
       "      <th>zip</th>\n",
       "      <th>lat</th>\n",
       "      <th>long</th>\n",
       "      <th>city_pop</th>\n",
       "      <th>id_city</th>\n",
       "    </tr>\n",
       "  </thead>\n",
       "  <tbody>\n",
       "    <tr>\n",
       "      <th>840</th>\n",
       "      <td>Dumont</td>\n",
       "      <td>CO</td>\n",
       "      <td>80436</td>\n",
       "      <td>39.7532</td>\n",
       "      <td>-105.6356</td>\n",
       "      <td>565</td>\n",
       "      <td>10841</td>\n",
       "    </tr>\n",
       "  </tbody>\n",
       "</table>\n",
       "</div>"
      ],
      "text/plain": [
       "       city state    zip     lat      long  city_pop  id_city\n",
       "840  Dumont    CO  80436 39.7532 -105.6356       565    10841"
      ]
     },
     "metadata": {},
     "output_type": "display_data"
    },
    {
     "name": "stdout",
     "output_type": "stream",
     "text": [
      "trans\n"
     ]
    },
    {
     "data": {
      "text/html": [
       "<div>\n",
       "<style scoped>\n",
       "    .dataframe tbody tr th:only-of-type {\n",
       "        vertical-align: middle;\n",
       "    }\n",
       "\n",
       "    .dataframe tbody tr th {\n",
       "        vertical-align: top;\n",
       "    }\n",
       "\n",
       "    .dataframe thead th {\n",
       "        text-align: right;\n",
       "    }\n",
       "</style>\n",
       "<table border=\"1\" class=\"dataframe\">\n",
       "  <thead>\n",
       "    <tr style=\"text-align: right;\">\n",
       "      <th></th>\n",
       "      <th>trans_num</th>\n",
       "      <th>unix_time</th>\n",
       "      <th>trans_date_trans_time</th>\n",
       "      <th>cc_num</th>\n",
       "      <th>id_holder</th>\n",
       "      <th>category</th>\n",
       "      <th>merchant</th>\n",
       "      <th>merch_lat</th>\n",
       "      <th>merch_long</th>\n",
       "      <th>amt</th>\n",
       "    </tr>\n",
       "  </thead>\n",
       "  <tbody>\n",
       "    <tr>\n",
       "      <th>661046</th>\n",
       "      <td>7d1dbb18b14bca80643e947b3ca47aaa</td>\n",
       "      <td>1349691031</td>\n",
       "      <td>2019-10-08 10:10:31</td>\n",
       "      <td>4279161831637</td>\n",
       "      <td>200615</td>\n",
       "      <td>gas_transport</td>\n",
       "      <td>fraud_Berge LLC</td>\n",
       "      <td>40.0895</td>\n",
       "      <td>-78.7911</td>\n",
       "      <td>25.8400</td>\n",
       "    </tr>\n",
       "  </tbody>\n",
       "</table>\n",
       "</div>"
      ],
      "text/plain": [
       "                               trans_num   unix_time trans_date_trans_time  \\\n",
       "661046  7d1dbb18b14bca80643e947b3ca47aaa  1349691031   2019-10-08 10:10:31   \n",
       "\n",
       "               cc_num  id_holder       category         merchant  merch_lat  \\\n",
       "661046  4279161831637     200615  gas_transport  fraud_Berge LLC    40.0895   \n",
       "\n",
       "        merch_long     amt  \n",
       "661046    -78.7911 25.8400  "
      ]
     },
     "metadata": {},
     "output_type": "display_data"
    },
    {
     "name": "stdout",
     "output_type": "stream",
     "text": [
      "holder\n"
     ]
    },
    {
     "data": {
      "text/html": [
       "<div>\n",
       "<style scoped>\n",
       "    .dataframe tbody tr th:only-of-type {\n",
       "        vertical-align: middle;\n",
       "    }\n",
       "\n",
       "    .dataframe tbody tr th {\n",
       "        vertical-align: top;\n",
       "    }\n",
       "\n",
       "    .dataframe thead th {\n",
       "        text-align: right;\n",
       "    }\n",
       "</style>\n",
       "<table border=\"1\" class=\"dataframe\">\n",
       "  <thead>\n",
       "    <tr style=\"text-align: right;\">\n",
       "      <th></th>\n",
       "      <th>first</th>\n",
       "      <th>last</th>\n",
       "      <th>gender</th>\n",
       "      <th>street</th>\n",
       "      <th>job</th>\n",
       "      <th>dob</th>\n",
       "      <th>id_city</th>\n",
       "      <th>id_holder</th>\n",
       "    </tr>\n",
       "  </thead>\n",
       "  <tbody>\n",
       "    <tr>\n",
       "      <th>68</th>\n",
       "      <td>Ariana</td>\n",
       "      <td>Campbell</td>\n",
       "      <td>F</td>\n",
       "      <td>50932 Neal Valley</td>\n",
       "      <td>Biochemist, clinical</td>\n",
       "      <td>1936-11-05</td>\n",
       "      <td>10243</td>\n",
       "      <td>200069</td>\n",
       "    </tr>\n",
       "  </tbody>\n",
       "</table>\n",
       "</div>"
      ],
      "text/plain": [
       "     first      last gender             street                   job  \\\n",
       "68  Ariana  Campbell      F  50932 Neal Valley  Biochemist, clinical   \n",
       "\n",
       "           dob  id_city  id_holder  \n",
       "68  1936-11-05    10243     200069  "
      ]
     },
     "metadata": {},
     "output_type": "display_data"
    }
   ],
   "source": [
    "import pandas as pd\n",
    "pd.options.display.float_format = '{:.4f}'.format\n",
    "\n",
    "dfs = {}\n",
    "for file_name in ['city','trans','holder']:\n",
    "    dfs[file_name] = pd.read_csv(os.path.join(BASE_DIR,f'0503_{file_name}.csv'))\n",
    "    print(file_name)\n",
    "    display(dfs[file_name].sample())"
   ]
  },
  {
   "cell_type": "markdown",
   "id": "0c35a6f2",
   "metadata": {
    "heading_collapsed": true
   },
   "source": [
    "## Functions"
   ]
  },
  {
   "cell_type": "markdown",
   "id": "d1983b77",
   "metadata": {
    "heading_collapsed": true,
    "hidden": true
   },
   "source": [
    "### Timing and tone"
   ]
  },
  {
   "cell_type": "code",
   "execution_count": 4,
   "id": "b82f77d7",
   "metadata": {
    "ExecuteTime": {
     "end_time": "2021-05-22T18:13:02.947567Z",
     "start_time": "2021-05-22T18:13:02.942648Z"
    },
    "hidden": true
   },
   "outputs": [],
   "source": [
    "import time\n",
    "import numpy as np\n",
    "from IPython.lib.display import Audio\n",
    "\n",
    "start = time.time()\n",
    "def time_exp(x):\n",
    "    #Just print how many minutes and seconds have passed\n",
    "    minutes, seconds = np.floor(x/60), 60*(x/60-np.floor(x/60))\n",
    "    print(f\"{'{:.0f}'.format(minutes)} minutos con {'{:.2f}'.format(seconds)} segundos\")\n",
    "    \n",
    "def tone(a=1000, b=700, play_time_seconds=1, framerate=4410):\n",
    "    #Make a sound! Useful while training models\n",
    "    t = np.linspace(0, play_time_seconds, framerate*play_time_seconds)*np.pi\n",
    "    return Audio(np.sin(a*t)+np.sin(b*t), rate=framerate, autoplay=True)"
   ]
  },
  {
   "cell_type": "markdown",
   "id": "39f6041b",
   "metadata": {
    "heading_collapsed": true,
    "hidden": true
   },
   "source": [
    "### IQR"
   ]
  },
  {
   "cell_type": "markdown",
   "id": "15aba05f",
   "metadata": {
    "hidden": true
   },
   "source": [
    "Omit outliers with the IQR method\n",
    "\n",
    "<https://online.stat.psu.edu/stat200/lesson/3/3.2>"
   ]
  },
  {
   "cell_type": "code",
   "execution_count": 5,
   "id": "4556fb61",
   "metadata": {
    "ExecuteTime": {
     "end_time": "2021-05-22T18:13:02.955323Z",
     "start_time": "2021-05-22T18:13:02.951175Z"
    },
    "hidden": true
   },
   "outputs": [],
   "source": [
    "def iqr(data,x,p=0.3):\n",
    "    dim_before = len(data)\n",
    "    var = data[x]\n",
    "    q1 = var.quantile(p/2)\n",
    "    q3 = var.quantile(1-p/2)\n",
    "    iqr = q3 - q1\n",
    "    data = data[(var.isnull()) | ((var >= q1 - 1.5*iqr) & (var <= q3 + 1.5*iqr))]\n",
    "    print(f'There are {\"{:.1%}\".format(len(data)/dim_before)}% of the previous rows')\n",
    "    return data"
   ]
  },
  {
   "cell_type": "markdown",
   "id": "bbaa2fef",
   "metadata": {
    "heading_collapsed": true,
    "hidden": true
   },
   "source": [
    "### Isolation Forest"
   ]
  },
  {
   "cell_type": "code",
   "execution_count": 6,
   "id": "f08e0a64",
   "metadata": {
    "ExecuteTime": {
     "end_time": "2021-05-22T18:13:03.791234Z",
     "start_time": "2021-05-22T18:13:02.958807Z"
    },
    "hidden": true
   },
   "outputs": [],
   "source": [
    "from sklearn.ensemble import IsolationForest\n",
    "\n",
    "def outliers(data,cols,p=0.04):\n",
    "    df = data.copy()\n",
    "    dim_before = len(df)\n",
    "    outlier = IsolationForest(contamination=p,n_jobs=-1)\n",
    "    df['outlier'] = outlier.fit_predict(df[cols])\n",
    "    df = df[df['outlier']!=-1].drop(columns = 'outlier')\n",
    "    print(f'There are {\"{:.1%}\".format(len(df)/dim_before)}% of the previous rows')\n",
    "    return df"
   ]
  },
  {
   "cell_type": "markdown",
   "id": "21c10019",
   "metadata": {
    "heading_collapsed": true,
    "hidden": true
   },
   "source": [
    "### Multishift"
   ]
  },
  {
   "cell_type": "code",
   "execution_count": 7,
   "id": "9425b1bb",
   "metadata": {
    "ExecuteTime": {
     "end_time": "2021-05-22T18:13:03.805843Z",
     "start_time": "2021-05-22T18:13:03.793659Z"
    },
    "hidden": true
   },
   "outputs": [],
   "source": [
    "def multishift(data,id_cols,date_cols,shifts,**pivot_args):\n",
    "    df = data.copy()\n",
    "    if len(id_cols) > 1:\n",
    "        #Merge all column names as a string\n",
    "        id_col = ','.join(id_cols)\n",
    "        #And as a column\n",
    "        df[id_col] = df[id_cols].apply(lambda x:','.join(x.dropna().astype(str)),axis=1)\n",
    "    else: id_col = id_cols[0]\n",
    "    #Change data structure to build the \"shifting\"\n",
    "    df = df.pivot_table(index=[id_col]+date_cols,\n",
    "                        **pivot_args,\n",
    "                        fill_value=0)\n",
    "    #Concatenate multiple columns if they are\n",
    "    df.columns = ['_'.join([x for x in col]) if \n",
    "                  not isinstance(df.columns[0],str) #First element is not a string\n",
    "                  else col for col in df.columns]\n",
    "    #Bring the id_col for taking the set (unique values) in the next loop\n",
    "    df.reset_index(inplace=True)\n",
    "    #Drop any \"id_col\"+date-set that has a lower frequency than the max of the \"shifts-list\"\n",
    "    freq = df[id_col].value_counts().to_frame()\n",
    "    omit_idx = freq[freq[id_col]<max(shifts)].index.to_list()\n",
    "    if len(omit_idx)>0:\n",
    "        df = df[~df[id_col].isin(omit_idx)].copy()\n",
    "    #Each shift must be calculated at \"id_col\" level\n",
    "    total = pd.DataFrame()\n",
    "    for row in set(df[id_col]):\n",
    "        #Set the id_col as index (again) to call all the rows with that id_col\n",
    "        df_id = df.set_index(id_col).loc[row:row,:]\n",
    "        cols = df_id.columns[len(date_cols):].tolist()\n",
    "        #Start the \"shifting\"\n",
    "        aux = df_id.copy().iloc[:,len(date_cols):].reset_index(drop=True)\n",
    "        for i in shifts:\n",
    "            shifted = df_id.iloc[:,len(date_cols):].shift(i).rename(columns={x:f'{x}_{str(i).zfill(2)}'\n",
    "                                                                             for x in cols})\n",
    "            aux = aux.join(shifted.reset_index(drop=True))\n",
    "        aux[id_col] = row\n",
    "        total = total.append(aux,ignore_index=True)\n",
    "    if len(id_cols) > 1:\n",
    "        total[[x for x in id_col.split(',')]] = total[id_col].str.split(',',expand=True)\n",
    "        total.drop(columns=id_col)\n",
    "    total[date_cols] = df[date_cols].copy()\n",
    "    return total.set_index(id_cols+date_cols),omit_idx"
   ]
  },
  {
   "cell_type": "markdown",
   "id": "a39d191f",
   "metadata": {
    "heading_collapsed": true,
    "hidden": true
   },
   "source": [
    "### Percentiles"
   ]
  },
  {
   "cell_type": "code",
   "execution_count": 8,
   "id": "750cff6b",
   "metadata": {
    "ExecuteTime": {
     "end_time": "2021-05-22T18:13:03.811029Z",
     "start_time": "2021-05-22T18:13:03.807731Z"
    },
    "hidden": true
   },
   "outputs": [],
   "source": [
    "def perc15(x): return np.percentile(x,15)\n",
    "def perc25(x): return np.percentile(x,25)\n",
    "def perc75(x): return np.percentile(x,75)\n",
    "def perc85(x): return np.percentile(x,85)"
   ]
  },
  {
   "cell_type": "markdown",
   "id": "76f7ec79",
   "metadata": {
    "heading_collapsed": true,
    "hidden": true
   },
   "source": [
    "### K-clusters"
   ]
  },
  {
   "cell_type": "code",
   "execution_count": 9,
   "id": "6917393b",
   "metadata": {
    "ExecuteTime": {
     "end_time": "2021-05-22T18:13:03.914515Z",
     "start_time": "2021-05-22T18:13:03.813033Z"
    },
    "hidden": true
   },
   "outputs": [],
   "source": [
    "'''!pip install pygal'''\n",
    "import pygal\n",
    "from sklearn.cluster import KMeans\n",
    "from sklearn.metrics import davies_bouldin_score, silhouette_score, silhouette_samples\n",
    "\n",
    "def koptimo(df):\n",
    "    sse,db,slc = {}, {}, {}\n",
    "    for k in range(2, 16):\n",
    "        kmeans = KMeans(n_clusters = k, max_iter= 100, random_state = 22).fit(df)\n",
    "        if k == 3: labels = kmeans.labels_\n",
    "        clusters = kmeans.labels_\n",
    "        sse[k] = kmeans.inertia_ \n",
    "        db[k] = davies_bouldin_score(df, clusters)\n",
    "        slc[k] = silhouette_score(df, clusters)\n",
    "\n",
    "    dicts = [sse,db,slc]\n",
    "\n",
    "    for dicc in dicts:\n",
    "        min_value = min(list(dicc.values()))\n",
    "        max_value = max(list(dicc.values()))\n",
    "        for k in dicc.keys():\n",
    "            dicc[k] = (dicc[k] - min_value + 1)/(max_value - min_value + 1)\n",
    "\n",
    "    line_chart = pygal.Line()\n",
    "    line_chart.title = 'K-óptimo'\n",
    "    line_chart.x_labels = map(str, sse.keys())\n",
    "    for name, dicc in zip(['Inertia','DB','Silhouette'],dicts):\n",
    "        line_chart.add(name, list(map(lambda x: round(x,2), dicc.values())))\n",
    "    display(line_chart)\n",
    "    return line_chart"
   ]
  },
  {
   "cell_type": "markdown",
   "id": "01caf379",
   "metadata": {
    "heading_collapsed": true,
    "hidden": true
   },
   "source": [
    "### Clustering"
   ]
  },
  {
   "cell_type": "code",
   "execution_count": 10,
   "id": "5a41a3e3",
   "metadata": {
    "ExecuteTime": {
     "end_time": "2021-05-22T18:13:04.384706Z",
     "start_time": "2021-05-22T18:13:03.918769Z"
    },
    "hidden": true
   },
   "outputs": [],
   "source": [
    "'''!pip install seaborn'''\n",
    "import string\n",
    "import warnings\n",
    "import seaborn as sns\n",
    "import matplotlib.pyplot as plt\n",
    "from sklearn.cluster import KMeans\n",
    "from sklearn.pipeline import Pipeline\n",
    "from sklearn.decomposition import PCA\n",
    "from sklearn.mixture import GaussianMixture\n",
    "from sklearn.preprocessing import MinMaxScaler\n",
    "\n",
    "warnings.filterwarnings('ignore')\n",
    "\n",
    "def clustering(df,\n",
    "               cols,\n",
    "               n_clusters=5,\n",
    "               kmeans=False):\n",
    "    df = df.copy()\n",
    "    mm_df = MinMaxScaler()\n",
    "    Xs = pd.DataFrame(mm_df.fit_transform(df[cols]), \n",
    "                      index = df.index,\n",
    "                      columns = cols)\n",
    "    \n",
    "    cluster = (KMeans(n_clusters, random_state=22) if kmeans \n",
    "               else GaussianMixture(n_clusters, random_state=22))\n",
    "    Xs['cluster'] = cluster.fit_predict(Xs)\n",
    "    \n",
    "    dict_cluster = dict(enumerate(string.ascii_uppercase[:n_clusters]))\n",
    "    df['cluster'] = Xs['cluster'].map(dict_cluster) \n",
    "    print(f'Distribución de registros en los {n_clusters} clústeres')\n",
    "    display(df['cluster'].value_counts(1).reset_index().sort_values(by='index').set_index('index').style.background_gradient(cmap='Blues').format('{:.1%}'))\n",
    "\n",
    "    pca = PCA(2)\n",
    "    pipe_pca = Pipeline(steps=[('MinMax', mm_df),('PCA', pca)])\n",
    "    Xg = pd.DataFrame(pipe_pca.fit_transform(df.iloc[:,:-1]), \n",
    "                      index = df.index,\n",
    "                      columns = ['p1','p2'])\n",
    "    Xg['cluster'] = df['cluster'].copy()\n",
    "    print(f'Varianza explicada con 2dim: {\"{:.1%}\".format(pca.explained_variance_ratio_.sum())}')\n",
    "    \n",
    "    plt.figure(figsize=(10,6))\n",
    "    sns.scatterplot(data=Xg.sort_values(by='cluster'),\n",
    "                    x='p1',\n",
    "                    y='p2',\n",
    "                    alpha=0.5,\n",
    "                    hue='cluster', \n",
    "                    palette = 'Paired')\n",
    "    plt.legend(bbox_to_anchor=(1.01, 1),borderaxespad=0)\n",
    "    plt.show();\n",
    "    \n",
    "    return df"
   ]
  },
  {
   "cell_type": "markdown",
   "id": "c5bbefd8",
   "metadata": {
    "heading_collapsed": true,
    "hidden": true
   },
   "source": [
    "### Profiles"
   ]
  },
  {
   "cell_type": "code",
   "execution_count": 11,
   "id": "b6debffd",
   "metadata": {
    "ExecuteTime": {
     "end_time": "2021-05-22T18:13:04.395750Z",
     "start_time": "2021-05-22T18:13:04.388250Z"
    },
    "hidden": true
   },
   "outputs": [],
   "source": [
    "def profiles(df,cols=None,cluster='cluster'):\n",
    "    n_clusters = len(set(df[cluster]))\n",
    "    \n",
    "    if cols==None:\n",
    "        cols=df.columns\n",
    "        aux = df[cols].groupby(cluster).mean()\n",
    "        #aux = aux.transpose()\n",
    "        for col in aux.columns:\n",
    "            aux[col] /= aux[col].sum()\n",
    "\n",
    "        fig = plt.figure()\n",
    "        fig, ax = plt.subplots(figsize=(int(n_clusters/1.5),max(1,int(len(aux.columns)/3))))\n",
    "        fig.patch.set_facecolor('white')\n",
    "        fig.patch.set_alpha(0.9)\n",
    "        sns.heatmap(aux.transpose(),cmap='Blues')\n",
    "        plt.show();\n",
    "        \n",
    "    else:\n",
    "        for col in cols:\n",
    "            aux = df.copy()\n",
    "            aux['n'] = 1\n",
    "            aux = aux.pivot_table(index=cluster,\n",
    "                                  columns=col,\n",
    "                                  values='n',\n",
    "                                  aggfunc='count',\n",
    "                                  fill_value=0)\n",
    "            for columna in aux.columns:\n",
    "                aux[columna] /= aux[columna].sum()\n",
    "\n",
    "            fig = plt.figure()\n",
    "            fig, ax = plt.subplots(figsize=(int(n_clusters/1.5),max(1,int(len(set(df[col]))/4))))\n",
    "            fig.patch.set_facecolor('white')\n",
    "            fig.patch.set_alpha(0.9)\n",
    "            sns.heatmap(aux.transpose(), cmap = 'Blues')\n",
    "            plt.show();"
   ]
  },
  {
   "cell_type": "markdown",
   "id": "e09a946f",
   "metadata": {
    "heading_collapsed": true
   },
   "source": [
    "## Transform"
   ]
  },
  {
   "cell_type": "markdown",
   "id": "0b1123e2",
   "metadata": {
    "heading_collapsed": true,
    "hidden": true
   },
   "source": [
    "### Holder"
   ]
  },
  {
   "cell_type": "code",
   "execution_count": 12,
   "id": "8c3daa46",
   "metadata": {
    "ExecuteTime": {
     "end_time": "2021-05-22T18:13:04.415837Z",
     "start_time": "2021-05-22T18:13:04.397807Z"
    },
    "hidden": true
   },
   "outputs": [
    {
     "data": {
      "text/html": [
       "<div>\n",
       "<style scoped>\n",
       "    .dataframe tbody tr th:only-of-type {\n",
       "        vertical-align: middle;\n",
       "    }\n",
       "\n",
       "    .dataframe tbody tr th {\n",
       "        vertical-align: top;\n",
       "    }\n",
       "\n",
       "    .dataframe thead th {\n",
       "        text-align: right;\n",
       "    }\n",
       "</style>\n",
       "<table border=\"1\" class=\"dataframe\">\n",
       "  <thead>\n",
       "    <tr style=\"text-align: right;\">\n",
       "      <th></th>\n",
       "      <th>gender</th>\n",
       "      <th>dob</th>\n",
       "      <th>lat</th>\n",
       "      <th>long</th>\n",
       "    </tr>\n",
       "    <tr>\n",
       "      <th>id_holder</th>\n",
       "      <th></th>\n",
       "      <th></th>\n",
       "      <th></th>\n",
       "      <th></th>\n",
       "    </tr>\n",
       "  </thead>\n",
       "  <tbody>\n",
       "    <tr>\n",
       "      <th>200852</th>\n",
       "      <td>M</td>\n",
       "      <td>1984-07-20</td>\n",
       "      <td>36.0424</td>\n",
       "      <td>-79.3242</td>\n",
       "    </tr>\n",
       "  </tbody>\n",
       "</table>\n",
       "</div>"
      ],
      "text/plain": [
       "          gender        dob     lat     long\n",
       "id_holder                                   \n",
       "200852         M 1984-07-20 36.0424 -79.3242"
      ]
     },
     "execution_count": 12,
     "metadata": {},
     "output_type": "execute_result"
    }
   ],
   "source": [
    "holder = dfs['holder'].merge(dfs['city'][['id_city','lat','long']],how='left',on='id_city')\n",
    "holder = holder.drop(columns=['first','last','street','job','id_city']).set_index('id_holder')\n",
    "holder['dob'] = pd.to_datetime(holder['dob'])\n",
    "holder.sample()"
   ]
  },
  {
   "cell_type": "markdown",
   "id": "0b5f5d7a",
   "metadata": {
    "heading_collapsed": true,
    "hidden": true
   },
   "source": [
    "### Transactions"
   ]
  },
  {
   "cell_type": "markdown",
   "id": "dd4a9c12",
   "metadata": {
    "heading_collapsed": true,
    "hidden": true
   },
   "source": [
    "#### Date variables"
   ]
  },
  {
   "cell_type": "code",
   "execution_count": 13,
   "id": "b7b7aceb",
   "metadata": {
    "ExecuteTime": {
     "end_time": "2021-05-22T18:13:07.551822Z",
     "start_time": "2021-05-22T18:13:04.418106Z"
    },
    "hidden": true,
    "scrolled": true
   },
   "outputs": [
    {
     "name": "stdout",
     "output_type": "stream",
     "text": [
      "year\n"
     ]
    },
    {
     "data": {
      "image/png": "[encoded data removed]",
      "text/plain": [
       "<Figure size 432x288 with 1 Axes>"
      ]
     },
     "metadata": {
      "needs_background": "light"
     },
     "output_type": "display_data"
    },
    {
     "name": "stdout",
     "output_type": "stream",
     "text": [
      "month\n"
     ]
    },
    {
     "data": {
      "image/png": "[encoded data removed]",
      "text/plain": [
       "<Figure size 432x288 with 1 Axes>"
      ]
     },
     "metadata": {
      "needs_background": "light"
     },
     "output_type": "display_data"
    },
    {
     "name": "stdout",
     "output_type": "stream",
     "text": [
      "week\n"
     ]
    },
    {
     "data": {
      "image/png": "[encoded data removed]",
      "text/plain": [
       "<Figure size 432x288 with 1 Axes>"
      ]
     },
     "metadata": {
      "needs_background": "light"
     },
     "output_type": "display_data"
    },
    {
     "name": "stdout",
     "output_type": "stream",
     "text": [
      "dow\n"
     ]
    },
    {
     "data": {
      "image/png": "[encoded data removed]",
      "text/plain": [
       "<Figure size 432x288 with 1 Axes>"
      ]
     },
     "metadata": {
      "needs_background": "light"
     },
     "output_type": "display_data"
    },
    {
     "name": "stdout",
     "output_type": "stream",
     "text": [
      "hour\n"
     ]
    },
    {
     "data": {
      "image/png": "[encoded data removed]",
      "text/plain": [
       "<Figure size 432x288 with 1 Axes>"
      ]
     },
     "metadata": {
      "needs_background": "light"
     },
     "output_type": "display_data"
    },
    {
     "name": "stdout",
     "output_type": "stream",
     "text": [
      "hrmin\n"
     ]
    },
    {
     "data": {
      "image/png": "[encoded data removed]",
      "text/plain": [
       "<Figure size 432x288 with 1 Axes>"
      ]
     },
     "metadata": {
      "needs_background": "light"
     },
     "output_type": "display_data"
    }
   ],
   "source": [
    "import matplotlib.pyplot as plt\n",
    "\n",
    "trans = dfs['trans'].drop(columns=['cc_num','merchant'])\n",
    "trans['trans_date_trans_time'] = pd.to_datetime(dfs['trans']['trans_date_trans_time'])\n",
    "trans['year'] = trans['trans_date_trans_time'].dt.year\n",
    "trans['month'] = trans['trans_date_trans_time'].dt.month\n",
    "trans['week'] = trans['trans_date_trans_time'].dt.isocalendar().week\n",
    "trans['dow'] = trans['trans_date_trans_time'].dt.day_name().str[:3]\n",
    "trans['hour'] = trans['trans_date_trans_time'].dt.hour\n",
    "trans['hrmin'] = (trans['hour'] + \n",
    "                  trans['trans_date_trans_time'].dt.minute/60+\n",
    "                  trans['trans_date_trans_time'].dt.second/60**2)\n",
    "for x in ['year','month','week','dow','hour','hrmin']:\n",
    "    print(x)\n",
    "    plt.show(trans[x].hist())"
   ]
  },
  {
   "cell_type": "markdown",
   "id": "5953448b",
   "metadata": {
    "heading_collapsed": true,
    "hidden": true
   },
   "source": [
    "#### Holder variables"
   ]
  },
  {
   "cell_type": "code",
   "execution_count": 14,
   "id": "e5b2d103",
   "metadata": {
    "ExecuteTime": {
     "end_time": "2021-05-22T18:13:13.354447Z",
     "start_time": "2021-05-22T18:13:07.553331Z"
    },
    "hidden": true
   },
   "outputs": [
    {
     "name": "stdout",
     "output_type": "stream",
     "text": [
      "age\n"
     ]
    },
    {
     "data": {
      "image/png": "[encoded data removed]",
      "text/plain": [
       "<Figure size 432x288 with 1 Axes>"
      ]
     },
     "metadata": {
      "needs_background": "light"
     },
     "output_type": "display_data"
    },
    {
     "name": "stdout",
     "output_type": "stream",
     "text": [
      "distance\n"
     ]
    },
    {
     "data": {
      "image/png": "[encoded data removed]",
      "text/plain": [
       "<Figure size 432x288 with 1 Axes>"
      ]
     },
     "metadata": {
      "needs_background": "light"
     },
     "output_type": "display_data"
    }
   ],
   "source": [
    "import mpu\n",
    "\n",
    "df = trans.set_index('id_holder').join(holder).reset_index()\n",
    "df['age'] = ((df['trans_date_trans_time'] - df['dob'])/np.timedelta64(1,'D')).astype(int)\n",
    "df['distance'] = [mpu.haversine_distance((x[0],x[1]),(y[0],y[1])) for x,y in \n",
    "                  zip(zip(df['merch_lat'],df['merch_long']),zip(df['lat'],df['long']))]\n",
    "for x in ['age','distance']:\n",
    "    print(x)\n",
    "    plt.show(df[x].hist())"
   ]
  },
  {
   "cell_type": "markdown",
   "id": "b36041dd",
   "metadata": {
    "heading_collapsed": true
   },
   "source": [
    "## TAD"
   ]
  },
  {
   "cell_type": "code",
   "execution_count": 15,
   "id": "c4e2f65c",
   "metadata": {
    "ExecuteTime": {
     "end_time": "2021-05-22T18:13:13.865804Z",
     "start_time": "2021-05-22T18:13:13.356594Z"
    },
    "hidden": true
   },
   "outputs": [
    {
     "data": {
      "text/html": [
       "<div>\n",
       "<style scoped>\n",
       "    .dataframe tbody tr th:only-of-type {\n",
       "        vertical-align: middle;\n",
       "    }\n",
       "\n",
       "    .dataframe tbody tr th {\n",
       "        vertical-align: top;\n",
       "    }\n",
       "\n",
       "    .dataframe thead th {\n",
       "        text-align: right;\n",
       "    }\n",
       "</style>\n",
       "<table border=\"1\" class=\"dataframe\">\n",
       "  <thead>\n",
       "    <tr style=\"text-align: right;\">\n",
       "      <th></th>\n",
       "      <th>id_holder</th>\n",
       "      <th>trans_num</th>\n",
       "      <th>unix_time</th>\n",
       "      <th>trans_date_trans_time</th>\n",
       "      <th>category</th>\n",
       "      <th>merch_lat</th>\n",
       "      <th>merch_long</th>\n",
       "      <th>amt</th>\n",
       "      <th>year</th>\n",
       "      <th>month</th>\n",
       "      <th>week</th>\n",
       "      <th>dow</th>\n",
       "      <th>hour</th>\n",
       "      <th>hrmin</th>\n",
       "      <th>gender</th>\n",
       "      <th>dob</th>\n",
       "      <th>lat</th>\n",
       "      <th>long</th>\n",
       "      <th>age</th>\n",
       "      <th>distance</th>\n",
       "    </tr>\n",
       "  </thead>\n",
       "  <tbody>\n",
       "    <tr>\n",
       "      <th>190239</th>\n",
       "      <td>200148</td>\n",
       "      <td>12f11762efd77efac8fea5a945bb8675</td>\n",
       "      <td>1351947747</td>\n",
       "      <td>2019-11-03 13:02:27</td>\n",
       "      <td>travel</td>\n",
       "      <td>41.3490</td>\n",
       "      <td>-83.4624</td>\n",
       "      <td>1.8700</td>\n",
       "      <td>2019</td>\n",
       "      <td>11</td>\n",
       "      <td>44</td>\n",
       "      <td>Sun</td>\n",
       "      <td>13</td>\n",
       "      <td>13.0408</td>\n",
       "      <td>F</td>\n",
       "      <td>1965-09-15</td>\n",
       "      <td>41.5686</td>\n",
       "      <td>-83.3632</td>\n",
       "      <td>19772</td>\n",
       "      <td>25.7783</td>\n",
       "    </tr>\n",
       "  </tbody>\n",
       "</table>\n",
       "</div>"
      ],
      "text/plain": [
       "        id_holder                         trans_num   unix_time  \\\n",
       "190239     200148  12f11762efd77efac8fea5a945bb8675  1351947747   \n",
       "\n",
       "       trans_date_trans_time category  merch_lat  merch_long    amt  year  \\\n",
       "190239   2019-11-03 13:02:27   travel    41.3490    -83.4624 1.8700  2019   \n",
       "\n",
       "        month  week  dow  hour   hrmin gender        dob     lat     long  \\\n",
       "190239     11    44  Sun    13 13.0408      F 1965-09-15 41.5686 -83.3632   \n",
       "\n",
       "          age  distance  \n",
       "190239  19772   25.7783  "
      ]
     },
     "metadata": {},
     "output_type": "display_data"
    }
   ],
   "source": [
    "display(df.sample())"
   ]
  },
  {
   "cell_type": "markdown",
   "id": "99258c03",
   "metadata": {
    "heading_collapsed": true,
    "hidden": true
   },
   "source": [
    "### Multishift"
   ]
  },
  {
   "cell_type": "code",
   "execution_count": 16,
   "id": "86286b10",
   "metadata": {
    "ExecuteTime": {
     "end_time": "2021-05-22T18:13:14.022184Z",
     "start_time": "2021-05-22T18:13:13.868039Z"
    },
    "hidden": true
   },
   "outputs": [
    {
     "data": {
      "text/html": [
       "<style  type=\"text/css\" >\n",
       "#T_2f4d6_row0_col0,#T_2f4d6_row0_col2,#T_2f4d6_row1_col4,#T_2f4d6_row1_col6,#T_2f4d6_row2_col8,#T_2f4d6_row2_col10,#T_2f4d6_row3_col12,#T_2f4d6_row3_col14,#T_2f4d6_row4_col16,#T_2f4d6_row4_col18,#T_2f4d6_row5_col1,#T_2f4d6_row5_col20,#T_2f4d6_row5_col22,#T_2f4d6_row6_col5,#T_2f4d6_row6_col23,#T_2f4d6_row7_col3,#T_2f4d6_row7_col9,#T_2f4d6_row7_col11,#T_2f4d6_row7_col21,#T_2f4d6_row8_col0,#T_2f4d6_row8_col7,#T_2f4d6_row8_col13,#T_2f4d6_row8_col15,#T_2f4d6_row8_col17,#T_2f4d6_row8_col19{\n",
       "            background-color:  #242629;\n",
       "            color:  #f1f1f1;\n",
       "        }#T_2f4d6_row0_col1,#T_2f4d6_row1_col5{\n",
       "            background-color:  #435b7c;\n",
       "            color:  #f1f1f1;\n",
       "        }#T_2f4d6_row0_col3,#T_2f4d6_row1_col7,#T_2f4d6_row3_col10,#T_2f4d6_row4_col14,#T_2f4d6_row6_col2,#T_2f4d6_row7_col6{\n",
       "            background-color:  #4b6992;\n",
       "            color:  #f1f1f1;\n",
       "        }#T_2f4d6_row0_col4,#T_2f4d6_row0_col5,#T_2f4d6_row0_col6,#T_2f4d6_row0_col7,#T_2f4d6_row0_col8,#T_2f4d6_row0_col9,#T_2f4d6_row0_col10,#T_2f4d6_row0_col11,#T_2f4d6_row0_col12,#T_2f4d6_row0_col13,#T_2f4d6_row0_col14,#T_2f4d6_row0_col15,#T_2f4d6_row0_col16,#T_2f4d6_row0_col17,#T_2f4d6_row0_col18,#T_2f4d6_row0_col19,#T_2f4d6_row0_col20,#T_2f4d6_row0_col21,#T_2f4d6_row0_col22,#T_2f4d6_row0_col23,#T_2f4d6_row1_col8,#T_2f4d6_row1_col9,#T_2f4d6_row1_col10,#T_2f4d6_row1_col11,#T_2f4d6_row1_col12,#T_2f4d6_row1_col13,#T_2f4d6_row1_col14,#T_2f4d6_row1_col15,#T_2f4d6_row1_col16,#T_2f4d6_row1_col17,#T_2f4d6_row1_col18,#T_2f4d6_row1_col19,#T_2f4d6_row1_col20,#T_2f4d6_row1_col21,#T_2f4d6_row1_col22,#T_2f4d6_row1_col23,#T_2f4d6_row2_col12,#T_2f4d6_row2_col13,#T_2f4d6_row2_col14,#T_2f4d6_row2_col15,#T_2f4d6_row2_col16,#T_2f4d6_row2_col17,#T_2f4d6_row2_col18,#T_2f4d6_row2_col19,#T_2f4d6_row2_col20,#T_2f4d6_row2_col21,#T_2f4d6_row2_col22,#T_2f4d6_row2_col23,#T_2f4d6_row3_col16,#T_2f4d6_row3_col17,#T_2f4d6_row3_col18,#T_2f4d6_row3_col19,#T_2f4d6_row3_col20,#T_2f4d6_row3_col21,#T_2f4d6_row3_col22,#T_2f4d6_row3_col23,#T_2f4d6_row4_col20,#T_2f4d6_row4_col21,#T_2f4d6_row4_col22,#T_2f4d6_row4_col23{\n",
       "            background-color:  #000000;\n",
       "            color:  #f1f1f1;\n",
       "        }#T_2f4d6_row1_col0,#T_2f4d6_row2_col4,#T_2f4d6_row3_col8,#T_2f4d6_row4_col12{\n",
       "            background-color:  #344154;\n",
       "            color:  #f1f1f1;\n",
       "        }#T_2f4d6_row1_col1,#T_2f4d6_row2_col5{\n",
       "            background-color:  #405675;\n",
       "            color:  #f1f1f1;\n",
       "        }#T_2f4d6_row1_col2,#T_2f4d6_row2_col6{\n",
       "            background-color:  #445e81;\n",
       "            color:  #f1f1f1;\n",
       "        }#T_2f4d6_row1_col3,#T_2f4d6_row2_col7{\n",
       "            background-color:  #36465b;\n",
       "            color:  #f1f1f1;\n",
       "        }#T_2f4d6_row2_col0,#T_2f4d6_row3_col4,#T_2f4d6_row4_col8,#T_2f4d6_row5_col12{\n",
       "            background-color:  #48648b;\n",
       "            color:  #f1f1f1;\n",
       "        }#T_2f4d6_row2_col1,#T_2f4d6_row3_col5{\n",
       "            background-color:  #323f50;\n",
       "            color:  #f1f1f1;\n",
       "        }#T_2f4d6_row2_col2,#T_2f4d6_row3_col6{\n",
       "            background-color:  #49668e;\n",
       "            color:  #f1f1f1;\n",
       "        }#T_2f4d6_row2_col3,#T_2f4d6_row3_col7{\n",
       "            background-color:  #466287;\n",
       "            color:  #f1f1f1;\n",
       "        }#T_2f4d6_row2_col9{\n",
       "            background-color:  #4c6c97;\n",
       "            color:  #f1f1f1;\n",
       "        }#T_2f4d6_row2_col11{\n",
       "            background-color:  #4a6992;\n",
       "            color:  #f1f1f1;\n",
       "        }#T_2f4d6_row3_col0,#T_2f4d6_row3_col1,#T_2f4d6_row4_col4,#T_2f4d6_row4_col5,#T_2f4d6_row5_col8,#T_2f4d6_row6_col12{\n",
       "            background-color:  #5378aa;\n",
       "            color:  #000000;\n",
       "        }#T_2f4d6_row3_col2,#T_2f4d6_row4_col6{\n",
       "            background-color:  #415979;\n",
       "            color:  #f1f1f1;\n",
       "        }#T_2f4d6_row3_col3,#T_2f4d6_row4_col7{\n",
       "            background-color:  #3c4f6a;\n",
       "            color:  #f1f1f1;\n",
       "        }#T_2f4d6_row3_col9{\n",
       "            background-color:  #48658c;\n",
       "            color:  #f1f1f1;\n",
       "        }#T_2f4d6_row3_col11,#T_2f4d6_row8_col23{\n",
       "            background-color:  #36455a;\n",
       "            color:  #f1f1f1;\n",
       "        }#T_2f4d6_row3_col13{\n",
       "            background-color:  #4f709e;\n",
       "            color:  #000000;\n",
       "        }#T_2f4d6_row3_col15,#T_2f4d6_row4_col19,#T_2f4d6_row5_col0,#T_2f4d6_row5_col23,#T_2f4d6_row6_col3,#T_2f4d6_row6_col4,#T_2f4d6_row6_col13,#T_2f4d6_row6_col18,#T_2f4d6_row7_col1,#T_2f4d6_row7_col2,#T_2f4d6_row7_col7,#T_2f4d6_row7_col8,#T_2f4d6_row7_col10,#T_2f4d6_row7_col16,#T_2f4d6_row7_col17,#T_2f4d6_row7_col22,#T_2f4d6_row8_col5,#T_2f4d6_row8_col6,#T_2f4d6_row8_col9,#T_2f4d6_row8_col11,#T_2f4d6_row8_col12,#T_2f4d6_row8_col14,#T_2f4d6_row8_col20,#T_2f4d6_row8_col21{\n",
       "            background-color:  #6699dd;\n",
       "            color:  #000000;\n",
       "        }#T_2f4d6_row4_col0,#T_2f4d6_row5_col4,#T_2f4d6_row6_col8,#T_2f4d6_row7_col12{\n",
       "            background-color:  #323f51;\n",
       "            color:  #f1f1f1;\n",
       "        }#T_2f4d6_row4_col1,#T_2f4d6_row5_col5{\n",
       "            background-color:  #2c343f;\n",
       "            color:  #f1f1f1;\n",
       "        }#T_2f4d6_row4_col2,#T_2f4d6_row5_col6{\n",
       "            background-color:  #2e3744;\n",
       "            color:  #f1f1f1;\n",
       "        }#T_2f4d6_row4_col3,#T_2f4d6_row5_col7{\n",
       "            background-color:  #364459;\n",
       "            color:  #f1f1f1;\n",
       "        }#T_2f4d6_row4_col9{\n",
       "            background-color:  #37475d;\n",
       "            color:  #f1f1f1;\n",
       "        }#T_2f4d6_row4_col10,#T_2f4d6_row5_col14{\n",
       "            background-color:  #5073a1;\n",
       "            color:  #000000;\n",
       "        }#T_2f4d6_row4_col11{\n",
       "            background-color:  #466186;\n",
       "            color:  #f1f1f1;\n",
       "        }#T_2f4d6_row4_col13{\n",
       "            background-color:  #4b6a93;\n",
       "            color:  #f1f1f1;\n",
       "        }#T_2f4d6_row4_col15{\n",
       "            background-color:  #435c7d;\n",
       "            color:  #f1f1f1;\n",
       "        }#T_2f4d6_row4_col17{\n",
       "            background-color:  #4a6891;\n",
       "            color:  #f1f1f1;\n",
       "        }#T_2f4d6_row5_col2,#T_2f4d6_row6_col6{\n",
       "            background-color:  #5b86c0;\n",
       "            color:  #000000;\n",
       "        }#T_2f4d6_row5_col3,#T_2f4d6_row6_col7{\n",
       "            background-color:  #25272b;\n",
       "            color:  #f1f1f1;\n",
       "        }#T_2f4d6_row5_col9{\n",
       "            background-color:  #6292d2;\n",
       "            color:  #000000;\n",
       "        }#T_2f4d6_row5_col10,#T_2f4d6_row6_col14{\n",
       "            background-color:  #476388;\n",
       "            color:  #f1f1f1;\n",
       "        }#T_2f4d6_row5_col11{\n",
       "            background-color:  #3c4f69;\n",
       "            color:  #f1f1f1;\n",
       "        }#T_2f4d6_row5_col13{\n",
       "            background-color:  #384960;\n",
       "            color:  #f1f1f1;\n",
       "        }#T_2f4d6_row5_col15{\n",
       "            background-color:  #5f8dca;\n",
       "            color:  #000000;\n",
       "        }#T_2f4d6_row5_col16,#T_2f4d6_row6_col20{\n",
       "            background-color:  #3a4c65;\n",
       "            color:  #f1f1f1;\n",
       "        }#T_2f4d6_row5_col17{\n",
       "            background-color:  #456084;\n",
       "            color:  #f1f1f1;\n",
       "        }#T_2f4d6_row5_col18,#T_2f4d6_row6_col22{\n",
       "            background-color:  #5e8bc7;\n",
       "            color:  #000000;\n",
       "        }#T_2f4d6_row5_col19{\n",
       "            background-color:  #26292e;\n",
       "            color:  #f1f1f1;\n",
       "        }#T_2f4d6_row5_col21{\n",
       "            background-color:  #455f82;\n",
       "            color:  #f1f1f1;\n",
       "        }#T_2f4d6_row6_col0,#T_2f4d6_row7_col4,#T_2f4d6_row8_col8{\n",
       "            background-color:  #608ecc;\n",
       "            color:  #000000;\n",
       "        }#T_2f4d6_row6_col1,#T_2f4d6_row7_col5{\n",
       "            background-color:  #567eb3;\n",
       "            color:  #000000;\n",
       "        }#T_2f4d6_row6_col9,#T_2f4d6_row6_col17{\n",
       "            background-color:  #2f3846;\n",
       "            color:  #f1f1f1;\n",
       "        }#T_2f4d6_row6_col10,#T_2f4d6_row7_col14,#T_2f4d6_row8_col1{\n",
       "            background-color:  #303a49;\n",
       "            color:  #f1f1f1;\n",
       "        }#T_2f4d6_row6_col11{\n",
       "            background-color:  #354458;\n",
       "            color:  #f1f1f1;\n",
       "        }#T_2f4d6_row6_col15{\n",
       "            background-color:  #4c6c97;\n",
       "            color:  #000000;\n",
       "        }#T_2f4d6_row6_col16,#T_2f4d6_row7_col20{\n",
       "            background-color:  #567db1;\n",
       "            color:  #000000;\n",
       "        }#T_2f4d6_row6_col19{\n",
       "            background-color:  #5982ba;\n",
       "            color:  #000000;\n",
       "        }#T_2f4d6_row6_col21{\n",
       "            background-color:  #3f5573;\n",
       "            color:  #f1f1f1;\n",
       "        }#T_2f4d6_row7_col0,#T_2f4d6_row8_col4{\n",
       "            background-color:  #5b85be;\n",
       "            color:  #000000;\n",
       "        }#T_2f4d6_row7_col13{\n",
       "            background-color:  #2f3a48;\n",
       "            color:  #f1f1f1;\n",
       "        }#T_2f4d6_row7_col15{\n",
       "            background-color:  #425a7a;\n",
       "            color:  #f1f1f1;\n",
       "        }#T_2f4d6_row7_col18,#T_2f4d6_row8_col22{\n",
       "            background-color:  #5982b8;\n",
       "            color:  #000000;\n",
       "        }#T_2f4d6_row7_col19{\n",
       "            background-color:  #37485e;\n",
       "            color:  #f1f1f1;\n",
       "        }#T_2f4d6_row7_col23{\n",
       "            background-color:  #5982b9;\n",
       "            color:  #000000;\n",
       "        }#T_2f4d6_row8_col2{\n",
       "            background-color:  #2b323c;\n",
       "            color:  #f1f1f1;\n",
       "        }#T_2f4d6_row8_col3{\n",
       "            background-color:  #334052;\n",
       "            color:  #f1f1f1;\n",
       "        }#T_2f4d6_row8_col10{\n",
       "            background-color:  #5276a7;\n",
       "            color:  #000000;\n",
       "        }#T_2f4d6_row8_col16{\n",
       "            background-color:  #384961;\n",
       "            color:  #f1f1f1;\n",
       "        }#T_2f4d6_row8_col18{\n",
       "            background-color:  #354459;\n",
       "            color:  #f1f1f1;\n",
       "        }</style><table id=\"T_2f4d6_\" ><thead>    <tr>        <th class=\"blank\" ></th>        <th class=\"blank\" ></th>        <th class=\"blank level0\" ></th>        <th class=\"col_heading level0 col0\" >amt_count</th>        <th class=\"col_heading level0 col1\" >amt_median</th>        <th class=\"col_heading level0 col2\" >amt_sum</th>        <th class=\"col_heading level0 col3\" >distance_mean</th>        <th class=\"col_heading level0 col4\" >amt_count_01</th>        <th class=\"col_heading level0 col5\" >amt_median_01</th>        <th class=\"col_heading level0 col6\" >amt_sum_01</th>        <th class=\"col_heading level0 col7\" >distance_mean_01</th>        <th class=\"col_heading level0 col8\" >amt_count_02</th>        <th class=\"col_heading level0 col9\" >amt_median_02</th>        <th class=\"col_heading level0 col10\" >amt_sum_02</th>        <th class=\"col_heading level0 col11\" >distance_mean_02</th>        <th class=\"col_heading level0 col12\" >amt_count_03</th>        <th class=\"col_heading level0 col13\" >amt_median_03</th>        <th class=\"col_heading level0 col14\" >amt_sum_03</th>        <th class=\"col_heading level0 col15\" >distance_mean_03</th>        <th class=\"col_heading level0 col16\" >amt_count_04</th>        <th class=\"col_heading level0 col17\" >amt_median_04</th>        <th class=\"col_heading level0 col18\" >amt_sum_04</th>        <th class=\"col_heading level0 col19\" >distance_mean_04</th>        <th class=\"col_heading level0 col20\" >amt_count_05</th>        <th class=\"col_heading level0 col21\" >amt_median_05</th>        <th class=\"col_heading level0 col22\" >amt_sum_05</th>        <th class=\"col_heading level0 col23\" >distance_mean_05</th>    </tr>    <tr>        <th class=\"index_name level0\" >id_holder</th>        <th class=\"index_name level1\" >year</th>        <th class=\"index_name level2\" >month</th>        <th class=\"blank\" ></th>        <th class=\"blank\" ></th>        <th class=\"blank\" ></th>        <th class=\"blank\" ></th>        <th class=\"blank\" ></th>        <th class=\"blank\" ></th>        <th class=\"blank\" ></th>        <th class=\"blank\" ></th>        <th class=\"blank\" ></th>        <th class=\"blank\" ></th>        <th class=\"blank\" ></th>        <th class=\"blank\" ></th>        <th class=\"blank\" ></th>        <th class=\"blank\" ></th>        <th class=\"blank\" ></th>        <th class=\"blank\" ></th>        <th class=\"blank\" ></th>        <th class=\"blank\" ></th>        <th class=\"blank\" ></th>        <th class=\"blank\" ></th>        <th class=\"blank\" ></th>        <th class=\"blank\" ></th>        <th class=\"blank\" ></th>        <th class=\"blank\" ></th>    </tr></thead><tbody>\n",
       "                <tr>\n",
       "                        <th id=\"T_2f4d6_level0_row0\" class=\"row_heading level0 row0\" rowspan=\"9\">200001</th>\n",
       "                        <th id=\"T_2f4d6_level1_row0\" class=\"row_heading level1 row0\" rowspan=\"9\">2019</th>\n",
       "                        <th id=\"T_2f4d6_level2_row0\" class=\"row_heading level2 row0\" >1</th>\n",
       "                        <td id=\"T_2f4d6_row0_col0\" class=\"data row0 col0\" >80.0</td>\n",
       "                        <td id=\"T_2f4d6_row0_col1\" class=\"data row0 col1\" >77.2</td>\n",
       "                        <td id=\"T_2f4d6_row0_col2\" class=\"data row0 col2\" >7469.5</td>\n",
       "                        <td id=\"T_2f4d6_row0_col3\" class=\"data row0 col3\" >76.4</td>\n",
       "                        <td id=\"T_2f4d6_row0_col4\" class=\"data row0 col4\" >nan</td>\n",
       "                        <td id=\"T_2f4d6_row0_col5\" class=\"data row0 col5\" >nan</td>\n",
       "                        <td id=\"T_2f4d6_row0_col6\" class=\"data row0 col6\" >nan</td>\n",
       "                        <td id=\"T_2f4d6_row0_col7\" class=\"data row0 col7\" >nan</td>\n",
       "                        <td id=\"T_2f4d6_row0_col8\" class=\"data row0 col8\" >nan</td>\n",
       "                        <td id=\"T_2f4d6_row0_col9\" class=\"data row0 col9\" >nan</td>\n",
       "                        <td id=\"T_2f4d6_row0_col10\" class=\"data row0 col10\" >nan</td>\n",
       "                        <td id=\"T_2f4d6_row0_col11\" class=\"data row0 col11\" >nan</td>\n",
       "                        <td id=\"T_2f4d6_row0_col12\" class=\"data row0 col12\" >nan</td>\n",
       "                        <td id=\"T_2f4d6_row0_col13\" class=\"data row0 col13\" >nan</td>\n",
       "                        <td id=\"T_2f4d6_row0_col14\" class=\"data row0 col14\" >nan</td>\n",
       "                        <td id=\"T_2f4d6_row0_col15\" class=\"data row0 col15\" >nan</td>\n",
       "                        <td id=\"T_2f4d6_row0_col16\" class=\"data row0 col16\" >nan</td>\n",
       "                        <td id=\"T_2f4d6_row0_col17\" class=\"data row0 col17\" >nan</td>\n",
       "                        <td id=\"T_2f4d6_row0_col18\" class=\"data row0 col18\" >nan</td>\n",
       "                        <td id=\"T_2f4d6_row0_col19\" class=\"data row0 col19\" >nan</td>\n",
       "                        <td id=\"T_2f4d6_row0_col20\" class=\"data row0 col20\" >nan</td>\n",
       "                        <td id=\"T_2f4d6_row0_col21\" class=\"data row0 col21\" >nan</td>\n",
       "                        <td id=\"T_2f4d6_row0_col22\" class=\"data row0 col22\" >nan</td>\n",
       "                        <td id=\"T_2f4d6_row0_col23\" class=\"data row0 col23\" >nan</td>\n",
       "            </tr>\n",
       "            <tr>\n",
       "                                        <th id=\"T_2f4d6_level2_row1\" class=\"row_heading level2 row1\" >2</th>\n",
       "                        <td id=\"T_2f4d6_row1_col0\" class=\"data row1 col0\" >95.0</td>\n",
       "                        <td id=\"T_2f4d6_row1_col1\" class=\"data row1 col1\" >77.0</td>\n",
       "                        <td id=\"T_2f4d6_row1_col2\" class=\"data row1 col2\" >11615.0</td>\n",
       "                        <td id=\"T_2f4d6_row1_col3\" class=\"data row1 col3\" >73.9</td>\n",
       "                        <td id=\"T_2f4d6_row1_col4\" class=\"data row1 col4\" >80.0</td>\n",
       "                        <td id=\"T_2f4d6_row1_col5\" class=\"data row1 col5\" >77.2</td>\n",
       "                        <td id=\"T_2f4d6_row1_col6\" class=\"data row1 col6\" >7469.5</td>\n",
       "                        <td id=\"T_2f4d6_row1_col7\" class=\"data row1 col7\" >76.4</td>\n",
       "                        <td id=\"T_2f4d6_row1_col8\" class=\"data row1 col8\" >nan</td>\n",
       "                        <td id=\"T_2f4d6_row1_col9\" class=\"data row1 col9\" >nan</td>\n",
       "                        <td id=\"T_2f4d6_row1_col10\" class=\"data row1 col10\" >nan</td>\n",
       "                        <td id=\"T_2f4d6_row1_col11\" class=\"data row1 col11\" >nan</td>\n",
       "                        <td id=\"T_2f4d6_row1_col12\" class=\"data row1 col12\" >nan</td>\n",
       "                        <td id=\"T_2f4d6_row1_col13\" class=\"data row1 col13\" >nan</td>\n",
       "                        <td id=\"T_2f4d6_row1_col14\" class=\"data row1 col14\" >nan</td>\n",
       "                        <td id=\"T_2f4d6_row1_col15\" class=\"data row1 col15\" >nan</td>\n",
       "                        <td id=\"T_2f4d6_row1_col16\" class=\"data row1 col16\" >nan</td>\n",
       "                        <td id=\"T_2f4d6_row1_col17\" class=\"data row1 col17\" >nan</td>\n",
       "                        <td id=\"T_2f4d6_row1_col18\" class=\"data row1 col18\" >nan</td>\n",
       "                        <td id=\"T_2f4d6_row1_col19\" class=\"data row1 col19\" >nan</td>\n",
       "                        <td id=\"T_2f4d6_row1_col20\" class=\"data row1 col20\" >nan</td>\n",
       "                        <td id=\"T_2f4d6_row1_col21\" class=\"data row1 col21\" >nan</td>\n",
       "                        <td id=\"T_2f4d6_row1_col22\" class=\"data row1 col22\" >nan</td>\n",
       "                        <td id=\"T_2f4d6_row1_col23\" class=\"data row1 col23\" >nan</td>\n",
       "            </tr>\n",
       "            <tr>\n",
       "                                        <th id=\"T_2f4d6_level2_row2\" class=\"row_heading level2 row2\" >3</th>\n",
       "                        <td id=\"T_2f4d6_row2_col0\" class=\"data row2 col0\" >114.0</td>\n",
       "                        <td id=\"T_2f4d6_row2_col1\" class=\"data row2 col1\" >76.1</td>\n",
       "                        <td id=\"T_2f4d6_row2_col2\" class=\"data row2 col2\" >12203.9</td>\n",
       "                        <td id=\"T_2f4d6_row2_col3\" class=\"data row2 col3\" >75.9</td>\n",
       "                        <td id=\"T_2f4d6_row2_col4\" class=\"data row2 col4\" >95.0</td>\n",
       "                        <td id=\"T_2f4d6_row2_col5\" class=\"data row2 col5\" >77.0</td>\n",
       "                        <td id=\"T_2f4d6_row2_col6\" class=\"data row2 col6\" >11615.0</td>\n",
       "                        <td id=\"T_2f4d6_row2_col7\" class=\"data row2 col7\" >73.9</td>\n",
       "                        <td id=\"T_2f4d6_row2_col8\" class=\"data row2 col8\" >80.0</td>\n",
       "                        <td id=\"T_2f4d6_row2_col9\" class=\"data row2 col9\" >77.2</td>\n",
       "                        <td id=\"T_2f4d6_row2_col10\" class=\"data row2 col10\" >7469.5</td>\n",
       "                        <td id=\"T_2f4d6_row2_col11\" class=\"data row2 col11\" >76.4</td>\n",
       "                        <td id=\"T_2f4d6_row2_col12\" class=\"data row2 col12\" >nan</td>\n",
       "                        <td id=\"T_2f4d6_row2_col13\" class=\"data row2 col13\" >nan</td>\n",
       "                        <td id=\"T_2f4d6_row2_col14\" class=\"data row2 col14\" >nan</td>\n",
       "                        <td id=\"T_2f4d6_row2_col15\" class=\"data row2 col15\" >nan</td>\n",
       "                        <td id=\"T_2f4d6_row2_col16\" class=\"data row2 col16\" >nan</td>\n",
       "                        <td id=\"T_2f4d6_row2_col17\" class=\"data row2 col17\" >nan</td>\n",
       "                        <td id=\"T_2f4d6_row2_col18\" class=\"data row2 col18\" >nan</td>\n",
       "                        <td id=\"T_2f4d6_row2_col19\" class=\"data row2 col19\" >nan</td>\n",
       "                        <td id=\"T_2f4d6_row2_col20\" class=\"data row2 col20\" >nan</td>\n",
       "                        <td id=\"T_2f4d6_row2_col21\" class=\"data row2 col21\" >nan</td>\n",
       "                        <td id=\"T_2f4d6_row2_col22\" class=\"data row2 col22\" >nan</td>\n",
       "                        <td id=\"T_2f4d6_row2_col23\" class=\"data row2 col23\" >nan</td>\n",
       "            </tr>\n",
       "            <tr>\n",
       "                                        <th id=\"T_2f4d6_level2_row3\" class=\"row_heading level2 row3\" >4</th>\n",
       "                        <td id=\"T_2f4d6_row3_col0\" class=\"data row3 col0\" >125.0</td>\n",
       "                        <td id=\"T_2f4d6_row3_col1\" class=\"data row3 col1\" >78.5</td>\n",
       "                        <td id=\"T_2f4d6_row3_col2\" class=\"data row3 col2\" >11235.0</td>\n",
       "                        <td id=\"T_2f4d6_row3_col3\" class=\"data row3 col3\" >74.6</td>\n",
       "                        <td id=\"T_2f4d6_row3_col4\" class=\"data row3 col4\" >114.0</td>\n",
       "                        <td id=\"T_2f4d6_row3_col5\" class=\"data row3 col5\" >76.1</td>\n",
       "                        <td id=\"T_2f4d6_row3_col6\" class=\"data row3 col6\" >12203.9</td>\n",
       "                        <td id=\"T_2f4d6_row3_col7\" class=\"data row3 col7\" >75.9</td>\n",
       "                        <td id=\"T_2f4d6_row3_col8\" class=\"data row3 col8\" >95.0</td>\n",
       "                        <td id=\"T_2f4d6_row3_col9\" class=\"data row3 col9\" >77.0</td>\n",
       "                        <td id=\"T_2f4d6_row3_col10\" class=\"data row3 col10\" >11615.0</td>\n",
       "                        <td id=\"T_2f4d6_row3_col11\" class=\"data row3 col11\" >73.9</td>\n",
       "                        <td id=\"T_2f4d6_row3_col12\" class=\"data row3 col12\" >80.0</td>\n",
       "                        <td id=\"T_2f4d6_row3_col13\" class=\"data row3 col13\" >77.2</td>\n",
       "                        <td id=\"T_2f4d6_row3_col14\" class=\"data row3 col14\" >7469.5</td>\n",
       "                        <td id=\"T_2f4d6_row3_col15\" class=\"data row3 col15\" >76.4</td>\n",
       "                        <td id=\"T_2f4d6_row3_col16\" class=\"data row3 col16\" >nan</td>\n",
       "                        <td id=\"T_2f4d6_row3_col17\" class=\"data row3 col17\" >nan</td>\n",
       "                        <td id=\"T_2f4d6_row3_col18\" class=\"data row3 col18\" >nan</td>\n",
       "                        <td id=\"T_2f4d6_row3_col19\" class=\"data row3 col19\" >nan</td>\n",
       "                        <td id=\"T_2f4d6_row3_col20\" class=\"data row3 col20\" >nan</td>\n",
       "                        <td id=\"T_2f4d6_row3_col21\" class=\"data row3 col21\" >nan</td>\n",
       "                        <td id=\"T_2f4d6_row3_col22\" class=\"data row3 col22\" >nan</td>\n",
       "                        <td id=\"T_2f4d6_row3_col23\" class=\"data row3 col23\" >nan</td>\n",
       "            </tr>\n",
       "            <tr>\n",
       "                                        <th id=\"T_2f4d6_level2_row4\" class=\"row_heading level2 row4\" >5</th>\n",
       "                        <td id=\"T_2f4d6_row4_col0\" class=\"data row4 col0\" >94.0</td>\n",
       "                        <td id=\"T_2f4d6_row4_col1\" class=\"data row4 col1\" >75.6</td>\n",
       "                        <td id=\"T_2f4d6_row4_col2\" class=\"data row4 col2\" >8725.9</td>\n",
       "                        <td id=\"T_2f4d6_row4_col3\" class=\"data row4 col3\" >73.8</td>\n",
       "                        <td id=\"T_2f4d6_row4_col4\" class=\"data row4 col4\" >125.0</td>\n",
       "                        <td id=\"T_2f4d6_row4_col5\" class=\"data row4 col5\" >78.5</td>\n",
       "                        <td id=\"T_2f4d6_row4_col6\" class=\"data row4 col6\" >11235.0</td>\n",
       "                        <td id=\"T_2f4d6_row4_col7\" class=\"data row4 col7\" >74.6</td>\n",
       "                        <td id=\"T_2f4d6_row4_col8\" class=\"data row4 col8\" >114.0</td>\n",
       "                        <td id=\"T_2f4d6_row4_col9\" class=\"data row4 col9\" >76.1</td>\n",
       "                        <td id=\"T_2f4d6_row4_col10\" class=\"data row4 col10\" >12203.9</td>\n",
       "                        <td id=\"T_2f4d6_row4_col11\" class=\"data row4 col11\" >75.9</td>\n",
       "                        <td id=\"T_2f4d6_row4_col12\" class=\"data row4 col12\" >95.0</td>\n",
       "                        <td id=\"T_2f4d6_row4_col13\" class=\"data row4 col13\" >77.0</td>\n",
       "                        <td id=\"T_2f4d6_row4_col14\" class=\"data row4 col14\" >11615.0</td>\n",
       "                        <td id=\"T_2f4d6_row4_col15\" class=\"data row4 col15\" >73.9</td>\n",
       "                        <td id=\"T_2f4d6_row4_col16\" class=\"data row4 col16\" >80.0</td>\n",
       "                        <td id=\"T_2f4d6_row4_col17\" class=\"data row4 col17\" >77.2</td>\n",
       "                        <td id=\"T_2f4d6_row4_col18\" class=\"data row4 col18\" >7469.5</td>\n",
       "                        <td id=\"T_2f4d6_row4_col19\" class=\"data row4 col19\" >76.4</td>\n",
       "                        <td id=\"T_2f4d6_row4_col20\" class=\"data row4 col20\" >nan</td>\n",
       "                        <td id=\"T_2f4d6_row4_col21\" class=\"data row4 col21\" >nan</td>\n",
       "                        <td id=\"T_2f4d6_row4_col22\" class=\"data row4 col22\" >nan</td>\n",
       "                        <td id=\"T_2f4d6_row4_col23\" class=\"data row4 col23\" >nan</td>\n",
       "            </tr>\n",
       "            <tr>\n",
       "                                        <th id=\"T_2f4d6_level2_row5\" class=\"row_heading level2 row5\" >6</th>\n",
       "                        <td id=\"T_2f4d6_row5_col0\" class=\"data row5 col0\" >143.0</td>\n",
       "                        <td id=\"T_2f4d6_row5_col1\" class=\"data row5 col1\" >75.0</td>\n",
       "                        <td id=\"T_2f4d6_row5_col2\" class=\"data row5 col2\" >14561.6</td>\n",
       "                        <td id=\"T_2f4d6_row5_col3\" class=\"data row5 col3\" >71.8</td>\n",
       "                        <td id=\"T_2f4d6_row5_col4\" class=\"data row5 col4\" >94.0</td>\n",
       "                        <td id=\"T_2f4d6_row5_col5\" class=\"data row5 col5\" >75.6</td>\n",
       "                        <td id=\"T_2f4d6_row5_col6\" class=\"data row5 col6\" >8725.9</td>\n",
       "                        <td id=\"T_2f4d6_row5_col7\" class=\"data row5 col7\" >73.8</td>\n",
       "                        <td id=\"T_2f4d6_row5_col8\" class=\"data row5 col8\" >125.0</td>\n",
       "                        <td id=\"T_2f4d6_row5_col9\" class=\"data row5 col9\" >78.5</td>\n",
       "                        <td id=\"T_2f4d6_row5_col10\" class=\"data row5 col10\" >11235.0</td>\n",
       "                        <td id=\"T_2f4d6_row5_col11\" class=\"data row5 col11\" >74.6</td>\n",
       "                        <td id=\"T_2f4d6_row5_col12\" class=\"data row5 col12\" >114.0</td>\n",
       "                        <td id=\"T_2f4d6_row5_col13\" class=\"data row5 col13\" >76.1</td>\n",
       "                        <td id=\"T_2f4d6_row5_col14\" class=\"data row5 col14\" >12203.9</td>\n",
       "                        <td id=\"T_2f4d6_row5_col15\" class=\"data row5 col15\" >75.9</td>\n",
       "                        <td id=\"T_2f4d6_row5_col16\" class=\"data row5 col16\" >95.0</td>\n",
       "                        <td id=\"T_2f4d6_row5_col17\" class=\"data row5 col17\" >77.0</td>\n",
       "                        <td id=\"T_2f4d6_row5_col18\" class=\"data row5 col18\" >11615.0</td>\n",
       "                        <td id=\"T_2f4d6_row5_col19\" class=\"data row5 col19\" >73.9</td>\n",
       "                        <td id=\"T_2f4d6_row5_col20\" class=\"data row5 col20\" >80.0</td>\n",
       "                        <td id=\"T_2f4d6_row5_col21\" class=\"data row5 col21\" >77.2</td>\n",
       "                        <td id=\"T_2f4d6_row5_col22\" class=\"data row5 col22\" >7469.5</td>\n",
       "                        <td id=\"T_2f4d6_row5_col23\" class=\"data row5 col23\" >76.4</td>\n",
       "            </tr>\n",
       "            <tr>\n",
       "                                        <th id=\"T_2f4d6_level2_row6\" class=\"row_heading level2 row6\" >7</th>\n",
       "                        <td id=\"T_2f4d6_row6_col0\" class=\"data row6 col0\" >137.0</td>\n",
       "                        <td id=\"T_2f4d6_row6_col1\" class=\"data row6 col1\" >78.7</td>\n",
       "                        <td id=\"T_2f4d6_row6_col2\" class=\"data row6 col2\" >12409.9</td>\n",
       "                        <td id=\"T_2f4d6_row6_col3\" class=\"data row6 col3\" >79.7</td>\n",
       "                        <td id=\"T_2f4d6_row6_col4\" class=\"data row6 col4\" >143.0</td>\n",
       "                        <td id=\"T_2f4d6_row6_col5\" class=\"data row6 col5\" >75.0</td>\n",
       "                        <td id=\"T_2f4d6_row6_col6\" class=\"data row6 col6\" >14561.6</td>\n",
       "                        <td id=\"T_2f4d6_row6_col7\" class=\"data row6 col7\" >71.8</td>\n",
       "                        <td id=\"T_2f4d6_row6_col8\" class=\"data row6 col8\" >94.0</td>\n",
       "                        <td id=\"T_2f4d6_row6_col9\" class=\"data row6 col9\" >75.6</td>\n",
       "                        <td id=\"T_2f4d6_row6_col10\" class=\"data row6 col10\" >8725.9</td>\n",
       "                        <td id=\"T_2f4d6_row6_col11\" class=\"data row6 col11\" >73.8</td>\n",
       "                        <td id=\"T_2f4d6_row6_col12\" class=\"data row6 col12\" >125.0</td>\n",
       "                        <td id=\"T_2f4d6_row6_col13\" class=\"data row6 col13\" >78.5</td>\n",
       "                        <td id=\"T_2f4d6_row6_col14\" class=\"data row6 col14\" >11235.0</td>\n",
       "                        <td id=\"T_2f4d6_row6_col15\" class=\"data row6 col15\" >74.6</td>\n",
       "                        <td id=\"T_2f4d6_row6_col16\" class=\"data row6 col16\" >114.0</td>\n",
       "                        <td id=\"T_2f4d6_row6_col17\" class=\"data row6 col17\" >76.1</td>\n",
       "                        <td id=\"T_2f4d6_row6_col18\" class=\"data row6 col18\" >12203.9</td>\n",
       "                        <td id=\"T_2f4d6_row6_col19\" class=\"data row6 col19\" >75.9</td>\n",
       "                        <td id=\"T_2f4d6_row6_col20\" class=\"data row6 col20\" >95.0</td>\n",
       "                        <td id=\"T_2f4d6_row6_col21\" class=\"data row6 col21\" >77.0</td>\n",
       "                        <td id=\"T_2f4d6_row6_col22\" class=\"data row6 col22\" >11615.0</td>\n",
       "                        <td id=\"T_2f4d6_row6_col23\" class=\"data row6 col23\" >73.9</td>\n",
       "            </tr>\n",
       "            <tr>\n",
       "                                        <th id=\"T_2f4d6_level2_row7\" class=\"row_heading level2 row7\" >8</th>\n",
       "                        <td id=\"T_2f4d6_row7_col0\" class=\"data row7 col0\" >132.0</td>\n",
       "                        <td id=\"T_2f4d6_row7_col1\" class=\"data row7 col1\" >79.8</td>\n",
       "                        <td id=\"T_2f4d6_row7_col2\" class=\"data row7 col2\" >15933.3</td>\n",
       "                        <td id=\"T_2f4d6_row7_col3\" class=\"data row7 col3\" >71.7</td>\n",
       "                        <td id=\"T_2f4d6_row7_col4\" class=\"data row7 col4\" >137.0</td>\n",
       "                        <td id=\"T_2f4d6_row7_col5\" class=\"data row7 col5\" >78.7</td>\n",
       "                        <td id=\"T_2f4d6_row7_col6\" class=\"data row7 col6\" >12409.9</td>\n",
       "                        <td id=\"T_2f4d6_row7_col7\" class=\"data row7 col7\" >79.7</td>\n",
       "                        <td id=\"T_2f4d6_row7_col8\" class=\"data row7 col8\" >143.0</td>\n",
       "                        <td id=\"T_2f4d6_row7_col9\" class=\"data row7 col9\" >75.0</td>\n",
       "                        <td id=\"T_2f4d6_row7_col10\" class=\"data row7 col10\" >14561.6</td>\n",
       "                        <td id=\"T_2f4d6_row7_col11\" class=\"data row7 col11\" >71.8</td>\n",
       "                        <td id=\"T_2f4d6_row7_col12\" class=\"data row7 col12\" >94.0</td>\n",
       "                        <td id=\"T_2f4d6_row7_col13\" class=\"data row7 col13\" >75.6</td>\n",
       "                        <td id=\"T_2f4d6_row7_col14\" class=\"data row7 col14\" >8725.9</td>\n",
       "                        <td id=\"T_2f4d6_row7_col15\" class=\"data row7 col15\" >73.8</td>\n",
       "                        <td id=\"T_2f4d6_row7_col16\" class=\"data row7 col16\" >125.0</td>\n",
       "                        <td id=\"T_2f4d6_row7_col17\" class=\"data row7 col17\" >78.5</td>\n",
       "                        <td id=\"T_2f4d6_row7_col18\" class=\"data row7 col18\" >11235.0</td>\n",
       "                        <td id=\"T_2f4d6_row7_col19\" class=\"data row7 col19\" >74.6</td>\n",
       "                        <td id=\"T_2f4d6_row7_col20\" class=\"data row7 col20\" >114.0</td>\n",
       "                        <td id=\"T_2f4d6_row7_col21\" class=\"data row7 col21\" >76.1</td>\n",
       "                        <td id=\"T_2f4d6_row7_col22\" class=\"data row7 col22\" >12203.9</td>\n",
       "                        <td id=\"T_2f4d6_row7_col23\" class=\"data row7 col23\" >75.9</td>\n",
       "            </tr>\n",
       "            <tr>\n",
       "                                        <th id=\"T_2f4d6_level2_row8\" class=\"row_heading level2 row8\" >9</th>\n",
       "                        <td id=\"T_2f4d6_row8_col0\" class=\"data row8 col0\" >80.0</td>\n",
       "                        <td id=\"T_2f4d6_row8_col1\" class=\"data row8 col1\" >75.9</td>\n",
       "                        <td id=\"T_2f4d6_row8_col2\" class=\"data row8 col2\" >8343.7</td>\n",
       "                        <td id=\"T_2f4d6_row8_col3\" class=\"data row8 col3\" >73.5</td>\n",
       "                        <td id=\"T_2f4d6_row8_col4\" class=\"data row8 col4\" >132.0</td>\n",
       "                        <td id=\"T_2f4d6_row8_col5\" class=\"data row8 col5\" >79.8</td>\n",
       "                        <td id=\"T_2f4d6_row8_col6\" class=\"data row8 col6\" >15933.3</td>\n",
       "                        <td id=\"T_2f4d6_row8_col7\" class=\"data row8 col7\" >71.7</td>\n",
       "                        <td id=\"T_2f4d6_row8_col8\" class=\"data row8 col8\" >137.0</td>\n",
       "                        <td id=\"T_2f4d6_row8_col9\" class=\"data row8 col9\" >78.7</td>\n",
       "                        <td id=\"T_2f4d6_row8_col10\" class=\"data row8 col10\" >12409.9</td>\n",
       "                        <td id=\"T_2f4d6_row8_col11\" class=\"data row8 col11\" >79.7</td>\n",
       "                        <td id=\"T_2f4d6_row8_col12\" class=\"data row8 col12\" >143.0</td>\n",
       "                        <td id=\"T_2f4d6_row8_col13\" class=\"data row8 col13\" >75.0</td>\n",
       "                        <td id=\"T_2f4d6_row8_col14\" class=\"data row8 col14\" >14561.6</td>\n",
       "                        <td id=\"T_2f4d6_row8_col15\" class=\"data row8 col15\" >71.8</td>\n",
       "                        <td id=\"T_2f4d6_row8_col16\" class=\"data row8 col16\" >94.0</td>\n",
       "                        <td id=\"T_2f4d6_row8_col17\" class=\"data row8 col17\" >75.6</td>\n",
       "                        <td id=\"T_2f4d6_row8_col18\" class=\"data row8 col18\" >8725.9</td>\n",
       "                        <td id=\"T_2f4d6_row8_col19\" class=\"data row8 col19\" >73.8</td>\n",
       "                        <td id=\"T_2f4d6_row8_col20\" class=\"data row8 col20\" >125.0</td>\n",
       "                        <td id=\"T_2f4d6_row8_col21\" class=\"data row8 col21\" >78.5</td>\n",
       "                        <td id=\"T_2f4d6_row8_col22\" class=\"data row8 col22\" >11235.0</td>\n",
       "                        <td id=\"T_2f4d6_row8_col23\" class=\"data row8 col23\" >74.6</td>\n",
       "            </tr>\n",
       "    </tbody></table>"
      ],
      "text/plain": [
       "<pandas.io.formats.style.Styler at 0x7ff47b8c3d90>"
      ]
     },
     "execution_count": 16,
     "metadata": {},
     "output_type": "execute_result"
    }
   ],
   "source": [
    "import seaborn as sns\n",
    "color = sns.dark_palette(\"#69d\",as_cmap=True)\n",
    "\n",
    "multishift(df.head(1000),\n",
    "           id_cols=['id_holder'],\n",
    "           date_cols=['year','month'],\n",
    "           shifts=range(1,6),\n",
    "           aggfunc={'amt':['count',sum,'median'],\n",
    "                    'distance':'mean'})[0].style.background_gradient(cmap=color).format('{:.1f}')"
   ]
  },
  {
   "cell_type": "code",
   "execution_count": 17,
   "id": "35ea5274",
   "metadata": {
    "ExecuteTime": {
     "end_time": "2021-05-22T18:17:42.854896Z",
     "start_time": "2021-05-22T18:13:14.024114Z"
    },
    "hidden": true
   },
   "outputs": [
    {
     "name": "stdout",
     "output_type": "stream",
     "text": [
      "(69839, 120) 75\n"
     ]
    }
   ],
   "source": [
    "from statistics import mode\n",
    "\n",
    "X,omitted = multishift(df,\n",
    "                       id_cols=['id_holder'],\n",
    "                       date_cols=['year','week'],\n",
    "                       shifts=range(1,6),\n",
    "                       aggfunc={'category':mode,\n",
    "                                'dow':mode,\n",
    "                                'age':'mean',\n",
    "                                'hrmin':['mean',perc15,perc25,perc75,perc85],\n",
    "                                'distance':['mean',perc15,perc25,perc75,perc85],\n",
    "                                'amt':['count',sum,'mean',perc15,perc25,perc75,perc85],\n",
    "                       })\n",
    "print(X.shape,len(omitted))"
   ]
  },
  {
   "cell_type": "code",
   "execution_count": 18,
   "id": "fba60fc4",
   "metadata": {
    "ExecuteTime": {
     "end_time": "2021-05-22T18:17:42.864582Z",
     "start_time": "2021-05-22T18:17:42.859260Z"
    },
    "hidden": true
   },
   "outputs": [],
   "source": [
    "#X.reset_index().to_csv(os.path.join(BASE_DIR,'0503_Xclustering.csv'),index=False)"
   ]
  },
  {
   "cell_type": "markdown",
   "id": "209bdde7",
   "metadata": {
    "heading_collapsed": true,
    "hidden": true
   },
   "source": [
    "### Category encoder"
   ]
  },
  {
   "cell_type": "code",
   "execution_count": 19,
   "id": "e1d76f91",
   "metadata": {
    "ExecuteTime": {
     "end_time": "2021-05-22T18:17:43.157449Z",
     "start_time": "2021-05-22T18:17:42.866711Z"
    },
    "hidden": true
   },
   "outputs": [
    {
     "data": {
      "text/plain": [
       "(65299, 120)"
      ]
     },
     "execution_count": 19,
     "metadata": {},
     "output_type": "execute_result"
    }
   ],
   "source": [
    "#X = pd.read_csv(os.path.join(BASE_DIR,'0503_Xclustering.csv'),index_col=[0,1])\n",
    "X.dropna(inplace=True)\n",
    "X.shape"
   ]
  },
  {
   "cell_type": "code",
   "execution_count": 20,
   "id": "518b6f51",
   "metadata": {
    "ExecuteTime": {
     "end_time": "2021-05-22T18:17:43.339273Z",
     "start_time": "2021-05-22T18:17:43.159493Z"
    },
    "hidden": true
   },
   "outputs": [
    {
     "data": {
      "text/plain": [
       "['category_mode',\n",
       " 'dow_mode',\n",
       " 'category_mode_01',\n",
       " 'dow_mode_01',\n",
       " 'category_mode_02',\n",
       " 'dow_mode_02',\n",
       " 'category_mode_03',\n",
       " 'dow_mode_03',\n",
       " 'category_mode_04',\n",
       " 'dow_mode_04',\n",
       " 'category_mode_05',\n",
       " 'dow_mode_05']"
      ]
     },
     "execution_count": 20,
     "metadata": {},
     "output_type": "execute_result"
    }
   ],
   "source": [
    "num = X.head().describe().columns.to_list()\n",
    "cat = [x for x in X.columns if x not in num]\n",
    "cat"
   ]
  },
  {
   "cell_type": "code",
   "execution_count": 21,
   "id": "29073ea0",
   "metadata": {
    "ExecuteTime": {
     "end_time": "2021-05-22T18:17:43.743632Z",
     "start_time": "2021-05-22T18:17:43.341166Z"
    },
    "hidden": true
   },
   "outputs": [
    {
     "name": "stdout",
     "output_type": "stream",
     "text": [
      "{'category_mode': LabelEncoder(), 'dow_mode': LabelEncoder(), 'category_mode_01': LabelEncoder(), 'dow_mode_01': LabelEncoder(), 'category_mode_02': LabelEncoder(), 'dow_mode_02': LabelEncoder(), 'category_mode_03': LabelEncoder(), 'dow_mode_03': LabelEncoder(), 'category_mode_04': LabelEncoder(), 'dow_mode_04': LabelEncoder(), 'category_mode_05': LabelEncoder(), 'dow_mode_05': LabelEncoder()}\n"
     ]
    },
    {
     "data": {
      "text/html": [
       "<div>\n",
       "<style scoped>\n",
       "    .dataframe tbody tr th:only-of-type {\n",
       "        vertical-align: middle;\n",
       "    }\n",
       "\n",
       "    .dataframe tbody tr th {\n",
       "        vertical-align: top;\n",
       "    }\n",
       "\n",
       "    .dataframe thead th {\n",
       "        text-align: right;\n",
       "    }\n",
       "</style>\n",
       "<table border=\"1\" class=\"dataframe\">\n",
       "  <thead>\n",
       "    <tr style=\"text-align: right;\">\n",
       "      <th></th>\n",
       "      <th></th>\n",
       "      <th></th>\n",
       "      <th>category_mode</th>\n",
       "      <th>dow_mode</th>\n",
       "      <th>category_mode_01</th>\n",
       "      <th>dow_mode_01</th>\n",
       "      <th>category_mode_02</th>\n",
       "      <th>dow_mode_02</th>\n",
       "      <th>category_mode_03</th>\n",
       "      <th>dow_mode_03</th>\n",
       "      <th>category_mode_04</th>\n",
       "      <th>dow_mode_04</th>\n",
       "      <th>category_mode_05</th>\n",
       "      <th>dow_mode_05</th>\n",
       "    </tr>\n",
       "    <tr>\n",
       "      <th>id_holder</th>\n",
       "      <th>year</th>\n",
       "      <th>week</th>\n",
       "      <th></th>\n",
       "      <th></th>\n",
       "      <th></th>\n",
       "      <th></th>\n",
       "      <th></th>\n",
       "      <th></th>\n",
       "      <th></th>\n",
       "      <th></th>\n",
       "      <th></th>\n",
       "      <th></th>\n",
       "      <th></th>\n",
       "      <th></th>\n",
       "    </tr>\n",
       "  </thead>\n",
       "  <tbody>\n",
       "    <tr>\n",
       "      <th>200372</th>\n",
       "      <th>2019.0000</th>\n",
       "      <th>4.0000</th>\n",
       "      <td>10</td>\n",
       "      <td>2</td>\n",
       "      <td>7</td>\n",
       "      <td>3</td>\n",
       "      <td>4</td>\n",
       "      <td>0</td>\n",
       "      <td>4</td>\n",
       "      <td>1</td>\n",
       "      <td>1</td>\n",
       "      <td>5</td>\n",
       "      <td>1</td>\n",
       "      <td>6</td>\n",
       "    </tr>\n",
       "  </tbody>\n",
       "</table>\n",
       "</div>"
      ],
      "text/plain": [
       "                            category_mode  dow_mode  category_mode_01  \\\n",
       "id_holder year      week                                                \n",
       "200372    2019.0000 4.0000             10         2                 7   \n",
       "\n",
       "                            dow_mode_01  category_mode_02  dow_mode_02  \\\n",
       "id_holder year      week                                                 \n",
       "200372    2019.0000 4.0000            3                 4            0   \n",
       "\n",
       "                            category_mode_03  dow_mode_03  category_mode_04  \\\n",
       "id_holder year      week                                                      \n",
       "200372    2019.0000 4.0000                 4            1                 1   \n",
       "\n",
       "                            dow_mode_04  category_mode_05  dow_mode_05  \n",
       "id_holder year      week                                                \n",
       "200372    2019.0000 4.0000            5                 1            6  "
      ]
     },
     "execution_count": 21,
     "metadata": {},
     "output_type": "execute_result"
    }
   ],
   "source": [
    "from sklearn.preprocessing import LabelEncoder\n",
    "encod = {}\n",
    "for x in cat:\n",
    "    encod[x] = LabelEncoder()\n",
    "    X[x] = encod[x].fit_transform(X[x])\n",
    "    \n",
    "print(encod)\n",
    "X[cat].sample()"
   ]
  },
  {
   "cell_type": "markdown",
   "id": "23f6cbba",
   "metadata": {
    "heading_collapsed": true,
    "hidden": true
   },
   "source": [
    "### Holder level"
   ]
  },
  {
   "cell_type": "code",
   "execution_count": 22,
   "id": "5d95ddd0",
   "metadata": {
    "ExecuteTime": {
     "end_time": "2021-05-22T18:17:47.878930Z",
     "start_time": "2021-05-22T18:17:43.745842Z"
    },
    "hidden": true
   },
   "outputs": [
    {
     "data": {
      "text/html": [
       "<div>\n",
       "<style scoped>\n",
       "    .dataframe tbody tr th:only-of-type {\n",
       "        vertical-align: middle;\n",
       "    }\n",
       "\n",
       "    .dataframe tbody tr th {\n",
       "        vertical-align: top;\n",
       "    }\n",
       "\n",
       "    .dataframe thead th {\n",
       "        text-align: right;\n",
       "    }\n",
       "</style>\n",
       "<table border=\"1\" class=\"dataframe\">\n",
       "  <thead>\n",
       "    <tr style=\"text-align: right;\">\n",
       "      <th></th>\n",
       "      <th>age_mean_2019.0_1.0</th>\n",
       "      <th>age_mean_2019.0_2.0</th>\n",
       "      <th>age_mean_2019.0_3.0</th>\n",
       "      <th>age_mean_2019.0_4.0</th>\n",
       "      <th>age_mean_2019.0_5.0</th>\n",
       "      <th>age_mean_2019.0_6.0</th>\n",
       "      <th>age_mean_2019.0_7.0</th>\n",
       "      <th>age_mean_2019.0_8.0</th>\n",
       "      <th>age_mean_2019.0_9.0</th>\n",
       "      <th>age_mean_2019.0_10.0</th>\n",
       "      <th>...</th>\n",
       "      <th>hrmin_perc85_05_2020.0_16.0</th>\n",
       "      <th>hrmin_perc85_05_2020.0_17.0</th>\n",
       "      <th>hrmin_perc85_05_2020.0_18.0</th>\n",
       "      <th>hrmin_perc85_05_2020.0_19.0</th>\n",
       "      <th>hrmin_perc85_05_2020.0_20.0</th>\n",
       "      <th>hrmin_perc85_05_2020.0_21.0</th>\n",
       "      <th>hrmin_perc85_05_2020.0_22.0</th>\n",
       "      <th>hrmin_perc85_05_2020.0_23.0</th>\n",
       "      <th>hrmin_perc85_05_2020.0_24.0</th>\n",
       "      <th>hrmin_perc85_05_2020.0_25.0</th>\n",
       "    </tr>\n",
       "    <tr>\n",
       "      <th>id_holder</th>\n",
       "      <th></th>\n",
       "      <th></th>\n",
       "      <th></th>\n",
       "      <th></th>\n",
       "      <th></th>\n",
       "      <th></th>\n",
       "      <th></th>\n",
       "      <th></th>\n",
       "      <th></th>\n",
       "      <th></th>\n",
       "      <th></th>\n",
       "      <th></th>\n",
       "      <th></th>\n",
       "      <th></th>\n",
       "      <th></th>\n",
       "      <th></th>\n",
       "      <th></th>\n",
       "      <th></th>\n",
       "      <th></th>\n",
       "      <th></th>\n",
       "      <th></th>\n",
       "    </tr>\n",
       "  </thead>\n",
       "  <tbody>\n",
       "    <tr>\n",
       "      <th>200563</th>\n",
       "      <td>24248.0000</td>\n",
       "      <td>0.0000</td>\n",
       "      <td>0.0000</td>\n",
       "      <td>0.0000</td>\n",
       "      <td>0.0000</td>\n",
       "      <td>0.0000</td>\n",
       "      <td>23749.6667</td>\n",
       "      <td>23756.0000</td>\n",
       "      <td>23764.5000</td>\n",
       "      <td>23771.8750</td>\n",
       "      <td>...</td>\n",
       "      <td>20.0506</td>\n",
       "      <td>11.8778</td>\n",
       "      <td>18.6993</td>\n",
       "      <td>20.8204</td>\n",
       "      <td>18.7573</td>\n",
       "      <td>19.4741</td>\n",
       "      <td>11.7053</td>\n",
       "      <td>15.1999</td>\n",
       "      <td>19.9916</td>\n",
       "      <td>3.6750</td>\n",
       "    </tr>\n",
       "  </tbody>\n",
       "</table>\n",
       "<p>1 rows × 9240 columns</p>\n",
       "</div>"
      ],
      "text/plain": [
       "           age_mean_2019.0_1.0  age_mean_2019.0_2.0  age_mean_2019.0_3.0  \\\n",
       "id_holder                                                                  \n",
       "200563              24248.0000               0.0000               0.0000   \n",
       "\n",
       "           age_mean_2019.0_4.0  age_mean_2019.0_5.0  age_mean_2019.0_6.0  \\\n",
       "id_holder                                                                  \n",
       "200563                  0.0000               0.0000               0.0000   \n",
       "\n",
       "           age_mean_2019.0_7.0  age_mean_2019.0_8.0  age_mean_2019.0_9.0  \\\n",
       "id_holder                                                                  \n",
       "200563              23749.6667           23756.0000           23764.5000   \n",
       "\n",
       "           age_mean_2019.0_10.0  ...  hrmin_perc85_05_2020.0_16.0  \\\n",
       "id_holder                        ...                                \n",
       "200563               23771.8750  ...                      20.0506   \n",
       "\n",
       "           hrmin_perc85_05_2020.0_17.0  hrmin_perc85_05_2020.0_18.0  \\\n",
       "id_holder                                                             \n",
       "200563                         11.8778                      18.6993   \n",
       "\n",
       "           hrmin_perc85_05_2020.0_19.0  hrmin_perc85_05_2020.0_20.0  \\\n",
       "id_holder                                                             \n",
       "200563                         20.8204                      18.7573   \n",
       "\n",
       "           hrmin_perc85_05_2020.0_21.0  hrmin_perc85_05_2020.0_22.0  \\\n",
       "id_holder                                                             \n",
       "200563                         19.4741                      11.7053   \n",
       "\n",
       "           hrmin_perc85_05_2020.0_23.0  hrmin_perc85_05_2020.0_24.0  \\\n",
       "id_holder                                                             \n",
       "200563                         15.1999                      19.9916   \n",
       "\n",
       "           hrmin_perc85_05_2020.0_25.0  \n",
       "id_holder                               \n",
       "200563                          3.6750  \n",
       "\n",
       "[1 rows x 9240 columns]"
      ]
     },
     "execution_count": 22,
     "metadata": {},
     "output_type": "execute_result"
    }
   ],
   "source": [
    "X_holder = X.reset_index().pivot_table(index='id_holder',\n",
    "                                       columns=['year','week'],\n",
    "                                       values=X.columns,\n",
    "                                       fill_value=0)\n",
    "X_holder.columns = ['_'.join([str(x) for x in col]) for col in X_holder.columns]\n",
    "X_holder.sample()"
   ]
  },
  {
   "cell_type": "code",
   "execution_count": 23,
   "id": "690211de",
   "metadata": {
    "ExecuteTime": {
     "end_time": "2021-05-22T18:17:47.885164Z",
     "start_time": "2021-05-22T18:17:47.880663Z"
    },
    "hidden": true
   },
   "outputs": [
    {
     "data": {
      "text/plain": [
       "((908, 9240), (983, 4), 75)"
      ]
     },
     "execution_count": 23,
     "metadata": {},
     "output_type": "execute_result"
    }
   ],
   "source": [
    "X_holder.shape , holder.shape , len(omitted)"
   ]
  },
  {
   "cell_type": "markdown",
   "id": "5d201824",
   "metadata": {
    "heading_collapsed": true
   },
   "source": [
    "## Clustering"
   ]
  },
  {
   "cell_type": "markdown",
   "id": "06fc55a2",
   "metadata": {
    "heading_collapsed": true,
    "hidden": true
   },
   "source": [
    "### K-clusters"
   ]
  },
  {
   "cell_type": "markdown",
   "id": "1eac3d4e",
   "metadata": {
    "ExecuteTime": {
     "end_time": "2021-05-22T17:45:53.187556Z",
     "start_time": "2021-05-22T17:45:42.538518Z"
    },
    "hidden": true
   },
   "source": [
    "line_chart = koptimo(X_holder)"
   ]
  },
  {
   "cell_type": "markdown",
   "id": "6fb3afbd",
   "metadata": {
    "ExecuteTime": {
     "end_time": "2021-05-22T17:45:53.209962Z",
     "start_time": "2021-05-22T17:45:35.134Z"
    },
    "hidden": true
   },
   "source": [
    "line_chart.render_in_browser()"
   ]
  },
  {
   "cell_type": "markdown",
   "id": "a5f02696",
   "metadata": {
    "heading_collapsed": true,
    "hidden": true
   },
   "source": [
    "### Model"
   ]
  },
  {
   "cell_type": "markdown",
   "id": "56497942",
   "metadata": {
    "ExecuteTime": {
     "end_time": "2021-05-22T17:07:17.217098Z",
     "start_time": "2021-05-22T17:07:01.951233Z"
    },
    "hidden": true
   },
   "source": [
    "for i in [4,5,8,11]:\n",
    "    clustering(X_holder,X_holder.columns,n_clusters=i,kmeans=True)"
   ]
  },
  {
   "cell_type": "code",
   "execution_count": 24,
   "id": "6a6aeddb",
   "metadata": {
    "ExecuteTime": {
     "end_time": "2021-05-22T18:17:50.602923Z",
     "start_time": "2021-05-22T18:17:47.886759Z"
    },
    "hidden": true
   },
   "outputs": [
    {
     "name": "stdout",
     "output_type": "stream",
     "text": [
      "Distribución de registros en los 4 clústeres\n"
     ]
    },
    {
     "data": {
      "text/html": [
       "<style  type=\"text/css\" >\n",
       "#T_a033c_row0_col0{\n",
       "            background-color:  #08306b;\n",
       "            color:  #f1f1f1;\n",
       "        }#T_a033c_row1_col0{\n",
       "            background-color:  #cfe1f2;\n",
       "            color:  #000000;\n",
       "        }#T_a033c_row2_col0{\n",
       "            background-color:  #f7fbff;\n",
       "            color:  #000000;\n",
       "        }#T_a033c_row3_col0{\n",
       "            background-color:  #1865ac;\n",
       "            color:  #f1f1f1;\n",
       "        }</style><table id=\"T_a033c_\" ><thead>    <tr>        <th class=\"blank level0\" ></th>        <th class=\"col_heading level0 col0\" >cluster</th>    </tr>    <tr>        <th class=\"index_name level0\" >index</th>        <th class=\"blank\" ></th>    </tr></thead><tbody>\n",
       "                <tr>\n",
       "                        <th id=\"T_a033c_level0_row0\" class=\"row_heading level0 row0\" >A</th>\n",
       "                        <td id=\"T_a033c_row0_col0\" class=\"data row0 col0\" >34.1%</td>\n",
       "            </tr>\n",
       "            <tr>\n",
       "                        <th id=\"T_a033c_level0_row1\" class=\"row_heading level0 row1\" >B</th>\n",
       "                        <td id=\"T_a033c_row1_col0\" class=\"data row1 col0\" >19.6%</td>\n",
       "            </tr>\n",
       "            <tr>\n",
       "                        <th id=\"T_a033c_level0_row2\" class=\"row_heading level0 row2\" >C</th>\n",
       "                        <td id=\"T_a033c_row2_col0\" class=\"data row2 col0\" >15.9%</td>\n",
       "            </tr>\n",
       "            <tr>\n",
       "                        <th id=\"T_a033c_level0_row3\" class=\"row_heading level0 row3\" >D</th>\n",
       "                        <td id=\"T_a033c_row3_col0\" class=\"data row3 col0\" >30.4%</td>\n",
       "            </tr>\n",
       "    </tbody></table>"
      ],
      "text/plain": [
       "<pandas.io.formats.style.Styler at 0x7ff45c5a46a0>"
      ]
     },
     "metadata": {},
     "output_type": "display_data"
    },
    {
     "name": "stdout",
     "output_type": "stream",
     "text": [
      "Varianza explicada con 2dim: 13.8%\n"
     ]
    },
    {
     "data": {
      "image/png": "[encoded data removed]",
      "text/plain": [
       "<Figure size 720x432 with 1 Axes>"
      ]
     },
     "metadata": {
      "needs_background": "light"
     },
     "output_type": "display_data"
    }
   ],
   "source": [
    "X_clusters = clustering(X_holder,X_holder.columns,n_clusters=4,kmeans=True)"
   ]
  },
  {
   "cell_type": "markdown",
   "id": "27fd7a3e",
   "metadata": {
    "heading_collapsed": true,
    "hidden": true
   },
   "source": [
    "### Diff between clusters"
   ]
  },
  {
   "cell_type": "code",
   "execution_count": 25,
   "id": "78e833d8",
   "metadata": {
    "ExecuteTime": {
     "end_time": "2021-05-22T18:17:50.613954Z",
     "start_time": "2021-05-22T18:17:50.611517Z"
    },
    "hidden": true,
    "scrolled": true
   },
   "outputs": [],
   "source": [
    "#profiles(X_clusters)"
   ]
  },
  {
   "cell_type": "markdown",
   "id": "3849e742",
   "metadata": {
    "heading_collapsed": true
   },
   "source": [
    "## Omitted"
   ]
  },
  {
   "cell_type": "code",
   "execution_count": 26,
   "id": "7ebdcab2",
   "metadata": {
    "ExecuteTime": {
     "end_time": "2021-05-22T18:17:50.819882Z",
     "start_time": "2021-05-22T18:17:50.621123Z"
    },
    "hidden": true
   },
   "outputs": [
    {
     "name": "stdout",
     "output_type": "stream",
     "text": [
      "(75, 21)\n"
     ]
    },
    {
     "data": {
      "text/html": [
       "<div>\n",
       "<style scoped>\n",
       "    .dataframe tbody tr th:only-of-type {\n",
       "        vertical-align: middle;\n",
       "    }\n",
       "\n",
       "    .dataframe tbody tr th {\n",
       "        vertical-align: top;\n",
       "    }\n",
       "\n",
       "    .dataframe thead th {\n",
       "        text-align: right;\n",
       "    }\n",
       "</style>\n",
       "<table border=\"1\" class=\"dataframe\">\n",
       "  <thead>\n",
       "    <tr style=\"text-align: right;\">\n",
       "      <th></th>\n",
       "      <th>age_mean</th>\n",
       "      <th>amt_count</th>\n",
       "      <th>amt_mean</th>\n",
       "      <th>amt_perc15</th>\n",
       "      <th>amt_perc25</th>\n",
       "      <th>amt_perc75</th>\n",
       "      <th>amt_perc85</th>\n",
       "      <th>amt_sum</th>\n",
       "      <th>category_mode</th>\n",
       "      <th>distance_mean</th>\n",
       "      <th>...</th>\n",
       "      <th>distance_perc25</th>\n",
       "      <th>distance_perc75</th>\n",
       "      <th>distance_perc85</th>\n",
       "      <th>dow_mode</th>\n",
       "      <th>hrmin_mean</th>\n",
       "      <th>hrmin_perc15</th>\n",
       "      <th>hrmin_perc25</th>\n",
       "      <th>hrmin_perc75</th>\n",
       "      <th>hrmin_perc85</th>\n",
       "      <th>cluster</th>\n",
       "    </tr>\n",
       "    <tr>\n",
       "      <th>id_holder</th>\n",
       "      <th></th>\n",
       "      <th></th>\n",
       "      <th></th>\n",
       "      <th></th>\n",
       "      <th></th>\n",
       "      <th></th>\n",
       "      <th></th>\n",
       "      <th></th>\n",
       "      <th></th>\n",
       "      <th></th>\n",
       "      <th></th>\n",
       "      <th></th>\n",
       "      <th></th>\n",
       "      <th></th>\n",
       "      <th></th>\n",
       "      <th></th>\n",
       "      <th></th>\n",
       "      <th></th>\n",
       "      <th></th>\n",
       "      <th></th>\n",
       "      <th></th>\n",
       "    </tr>\n",
       "  </thead>\n",
       "  <tbody>\n",
       "    <tr>\n",
       "      <th>200491</th>\n",
       "      <td>23051.6667</td>\n",
       "      <td>9</td>\n",
       "      <td>549.3356</td>\n",
       "      <td>67.6340</td>\n",
       "      <td>299.9700</td>\n",
       "      <td>956.1900</td>\n",
       "      <td>990.9340</td>\n",
       "      <td>4944.0200</td>\n",
       "      <td>shopping_net</td>\n",
       "      <td>72.4287</td>\n",
       "      <td>...</td>\n",
       "      <td>65.0162</td>\n",
       "      <td>79.4723</td>\n",
       "      <td>89.3659</td>\n",
       "      <td>Wed</td>\n",
       "      <td>14.5206</td>\n",
       "      <td>2.6453</td>\n",
       "      <td>3.3600</td>\n",
       "      <td>23.0217</td>\n",
       "      <td>23.2074</td>\n",
       "      <td>00</td>\n",
       "    </tr>\n",
       "  </tbody>\n",
       "</table>\n",
       "<p>1 rows × 21 columns</p>\n",
       "</div>"
      ],
      "text/plain": [
       "            age_mean  amt_count  amt_mean  amt_perc15  amt_perc25  amt_perc75  \\\n",
       "id_holder                                                                       \n",
       "200491    23051.6667          9  549.3356     67.6340    299.9700    956.1900   \n",
       "\n",
       "           amt_perc85   amt_sum category_mode  distance_mean  ...  \\\n",
       "id_holder                                                     ...   \n",
       "200491       990.9340 4944.0200  shopping_net        72.4287  ...   \n",
       "\n",
       "           distance_perc25  distance_perc75  distance_perc85  dow_mode  \\\n",
       "id_holder                                                                \n",
       "200491             65.0162          79.4723          89.3659       Wed   \n",
       "\n",
       "          hrmin_mean  hrmin_perc15  hrmin_perc25  hrmin_perc75  hrmin_perc85  \\\n",
       "id_holder                                                                      \n",
       "200491       14.5206        2.6453        3.3600       23.0217       23.2074   \n",
       "\n",
       "           cluster  \n",
       "id_holder           \n",
       "200491          00  \n",
       "\n",
       "[1 rows x 21 columns]"
      ]
     },
     "execution_count": 26,
     "metadata": {},
     "output_type": "execute_result"
    }
   ],
   "source": [
    "extra = df[df['id_holder'].isin(omitted)]\n",
    "extra = extra.pivot_table(index='id_holder',\n",
    "                          aggfunc={'category':mode,\n",
    "                                   'dow':mode,\n",
    "                                   'age':'mean',\n",
    "                                   'hrmin':['mean',perc15,perc25,perc75,perc85],\n",
    "                                   'distance':['mean',perc15,perc25,perc75,perc85],\n",
    "                                   'amt':['count',sum,'mean',perc15,perc25,perc75,perc85]})\n",
    "extra.columns = ['_'.join([str(x) for x in col]) for col in extra.columns]\n",
    "extra['cluster'] = '00'\n",
    "print(extra.shape)\n",
    "extra.sample()"
   ]
  },
  {
   "cell_type": "code",
   "execution_count": 27,
   "id": "390370b5",
   "metadata": {
    "ExecuteTime": {
     "end_time": "2021-05-22T18:17:51.019273Z",
     "start_time": "2021-05-22T18:17:50.821764Z"
    },
    "hidden": true
   },
   "outputs": [],
   "source": [
    "total = X_clusters.append(extra).fillna(0)\n",
    "#profiles(total)"
   ]
  },
  {
   "cell_type": "markdown",
   "id": "7fec2491",
   "metadata": {
    "heading_collapsed": true
   },
   "source": [
    "## Fraud"
   ]
  },
  {
   "cell_type": "code",
   "execution_count": 28,
   "id": "899b56a1",
   "metadata": {
    "ExecuteTime": {
     "end_time": "2021-05-22T18:17:51.033410Z",
     "start_time": "2021-05-22T18:17:51.021593Z"
    },
    "hidden": true
   },
   "outputs": [
    {
     "data": {
      "text/html": [
       "<div>\n",
       "<style scoped>\n",
       "    .dataframe tbody tr th:only-of-type {\n",
       "        vertical-align: middle;\n",
       "    }\n",
       "\n",
       "    .dataframe tbody tr th {\n",
       "        vertical-align: top;\n",
       "    }\n",
       "\n",
       "    .dataframe thead th {\n",
       "        text-align: right;\n",
       "    }\n",
       "</style>\n",
       "<table border=\"1\" class=\"dataframe\">\n",
       "  <thead>\n",
       "    <tr style=\"text-align: right;\">\n",
       "      <th></th>\n",
       "      <th>cluster</th>\n",
       "    </tr>\n",
       "  </thead>\n",
       "  <tbody>\n",
       "    <tr>\n",
       "      <th>00</th>\n",
       "      <td>75</td>\n",
       "    </tr>\n",
       "    <tr>\n",
       "      <th>A</th>\n",
       "      <td>310</td>\n",
       "    </tr>\n",
       "    <tr>\n",
       "      <th>B</th>\n",
       "      <td>178</td>\n",
       "    </tr>\n",
       "    <tr>\n",
       "      <th>C</th>\n",
       "      <td>144</td>\n",
       "    </tr>\n",
       "    <tr>\n",
       "      <th>D</th>\n",
       "      <td>276</td>\n",
       "    </tr>\n",
       "  </tbody>\n",
       "</table>\n",
       "</div>"
      ],
      "text/plain": [
       "    cluster\n",
       "00       75\n",
       "A       310\n",
       "B       178\n",
       "C       144\n",
       "D       276"
      ]
     },
     "execution_count": 28,
     "metadata": {},
     "output_type": "execute_result"
    }
   ],
   "source": [
    "total['cluster'].value_counts().to_frame().sort_index()"
   ]
  },
  {
   "cell_type": "code",
   "execution_count": 29,
   "id": "6b4514ed",
   "metadata": {
    "ExecuteTime": {
     "end_time": "2021-05-22T18:17:51.061135Z",
     "start_time": "2021-05-22T18:17:51.035730Z"
    },
    "hidden": true
   },
   "outputs": [
    {
     "data": {
      "text/html": [
       "<div>\n",
       "<style scoped>\n",
       "    .dataframe tbody tr th:only-of-type {\n",
       "        vertical-align: middle;\n",
       "    }\n",
       "\n",
       "    .dataframe tbody tr th {\n",
       "        vertical-align: top;\n",
       "    }\n",
       "\n",
       "    .dataframe thead th {\n",
       "        text-align: right;\n",
       "    }\n",
       "</style>\n",
       "<table border=\"1\" class=\"dataframe\">\n",
       "  <thead>\n",
       "    <tr style=\"text-align: right;\">\n",
       "      <th></th>\n",
       "      <th>frauds</th>\n",
       "    </tr>\n",
       "    <tr>\n",
       "      <th>trans_num</th>\n",
       "      <th></th>\n",
       "    </tr>\n",
       "  </thead>\n",
       "  <tbody>\n",
       "    <tr>\n",
       "      <th>04edfdae840ed0862dc385c4f3f9e0ea</th>\n",
       "      <td>1</td>\n",
       "    </tr>\n",
       "  </tbody>\n",
       "</table>\n",
       "</div>"
      ],
      "text/plain": [
       "                                  frauds\n",
       "trans_num                               \n",
       "04edfdae840ed0862dc385c4f3f9e0ea       1"
      ]
     },
     "execution_count": 29,
     "metadata": {},
     "output_type": "execute_result"
    }
   ],
   "source": [
    "fraud = pd.read_csv(os.path.join(BASE_DIR,'0503_fraud.csv'))\n",
    "fraud['frauds'] = 1\n",
    "fraud.set_index('trans_num',inplace=True)\n",
    "fraud.sample()"
   ]
  },
  {
   "cell_type": "code",
   "execution_count": 30,
   "id": "098ea0e0",
   "metadata": {
    "ExecuteTime": {
     "end_time": "2021-05-22T18:17:53.771228Z",
     "start_time": "2021-05-22T18:17:51.063454Z"
    },
    "hidden": true
   },
   "outputs": [
    {
     "data": {
      "text/html": [
       "<div>\n",
       "<style scoped>\n",
       "    .dataframe tbody tr th:only-of-type {\n",
       "        vertical-align: middle;\n",
       "    }\n",
       "\n",
       "    .dataframe tbody tr th {\n",
       "        vertical-align: top;\n",
       "    }\n",
       "\n",
       "    .dataframe thead th {\n",
       "        text-align: right;\n",
       "    }\n",
       "</style>\n",
       "<table border=\"1\" class=\"dataframe\">\n",
       "  <thead>\n",
       "    <tr style=\"text-align: right;\">\n",
       "      <th></th>\n",
       "      <th>id_holder</th>\n",
       "      <th>unix_time</th>\n",
       "      <th>trans_date_trans_time</th>\n",
       "      <th>category</th>\n",
       "      <th>merch_lat</th>\n",
       "      <th>merch_long</th>\n",
       "      <th>amt</th>\n",
       "      <th>year</th>\n",
       "      <th>month</th>\n",
       "      <th>week</th>\n",
       "      <th>...</th>\n",
       "      <th>hour</th>\n",
       "      <th>hrmin</th>\n",
       "      <th>gender</th>\n",
       "      <th>dob</th>\n",
       "      <th>lat</th>\n",
       "      <th>long</th>\n",
       "      <th>age</th>\n",
       "      <th>distance</th>\n",
       "      <th>frauds</th>\n",
       "      <th>cluster</th>\n",
       "    </tr>\n",
       "  </thead>\n",
       "  <tbody>\n",
       "    <tr>\n",
       "      <th>341438</th>\n",
       "      <td>200281</td>\n",
       "      <td>1359262170</td>\n",
       "      <td>2020-01-27 04:49:30</td>\n",
       "      <td>gas_transport</td>\n",
       "      <td>35.2714</td>\n",
       "      <td>-89.5840</td>\n",
       "      <td>62.6500</td>\n",
       "      <td>2020</td>\n",
       "      <td>1</td>\n",
       "      <td>5</td>\n",
       "      <td>...</td>\n",
       "      <td>4</td>\n",
       "      <td>4.8250</td>\n",
       "      <td>M</td>\n",
       "      <td>1993-03-23</td>\n",
       "      <td>35.2229</td>\n",
       "      <td>-89.5518</td>\n",
       "      <td>9806</td>\n",
       "      <td>6.1307</td>\n",
       "      <td>0.0000</td>\n",
       "      <td>B</td>\n",
       "    </tr>\n",
       "  </tbody>\n",
       "</table>\n",
       "<p>1 rows × 21 columns</p>\n",
       "</div>"
      ],
      "text/plain": [
       "        id_holder   unix_time trans_date_trans_time       category  merch_lat  \\\n",
       "341438     200281  1359262170   2020-01-27 04:49:30  gas_transport    35.2714   \n",
       "\n",
       "        merch_long     amt  year  month  week  ... hour  hrmin  gender  \\\n",
       "341438    -89.5840 62.6500  2020      1     5  ...    4 4.8250       M   \n",
       "\n",
       "              dob     lat     long   age  distance  frauds  cluster  \n",
       "341438 1993-03-23 35.2229 -89.5518  9806    6.1307  0.0000        B  \n",
       "\n",
       "[1 rows x 21 columns]"
      ]
     },
     "execution_count": 30,
     "metadata": {},
     "output_type": "execute_result"
    }
   ],
   "source": [
    "frauds = df.set_index('trans_num').join(fraud).merge(total['cluster'].reset_index(),\n",
    "                                                     on='id_holder').fillna({'frauds':0})\n",
    "frauds.sample()"
   ]
  },
  {
   "cell_type": "code",
   "execution_count": 31,
   "id": "8aca9b93",
   "metadata": {
    "ExecuteTime": {
     "end_time": "2021-05-22T18:17:54.061264Z",
     "start_time": "2021-05-22T18:17:53.773420Z"
    },
    "hidden": true
   },
   "outputs": [
    {
     "data": {
      "text/html": [
       "<div>\n",
       "<style scoped>\n",
       "    .dataframe tbody tr th:only-of-type {\n",
       "        vertical-align: middle;\n",
       "    }\n",
       "\n",
       "    .dataframe tbody tr th {\n",
       "        vertical-align: top;\n",
       "    }\n",
       "\n",
       "    .dataframe thead th {\n",
       "        text-align: right;\n",
       "    }\n",
       "</style>\n",
       "<table border=\"1\" class=\"dataframe\">\n",
       "  <thead>\n",
       "    <tr style=\"text-align: right;\">\n",
       "      <th></th>\n",
       "      <th>cluster</th>\n",
       "      <th>sum_frauds</th>\n",
       "      <th>mean_frauds</th>\n",
       "    </tr>\n",
       "    <tr>\n",
       "      <th>id_holder</th>\n",
       "      <th></th>\n",
       "      <th></th>\n",
       "      <th></th>\n",
       "    </tr>\n",
       "  </thead>\n",
       "  <tbody>\n",
       "    <tr>\n",
       "      <th>200375</th>\n",
       "      <td>00</td>\n",
       "      <td>10</td>\n",
       "      <td>1.0000</td>\n",
       "    </tr>\n",
       "    <tr>\n",
       "      <th>200285</th>\n",
       "      <td>00</td>\n",
       "      <td>8</td>\n",
       "      <td>1.0000</td>\n",
       "    </tr>\n",
       "    <tr>\n",
       "      <th>200104</th>\n",
       "      <td>00</td>\n",
       "      <td>12</td>\n",
       "      <td>1.0000</td>\n",
       "    </tr>\n",
       "    <tr>\n",
       "      <th>200651</th>\n",
       "      <td>00</td>\n",
       "      <td>13</td>\n",
       "      <td>1.0000</td>\n",
       "    </tr>\n",
       "    <tr>\n",
       "      <th>200179</th>\n",
       "      <td>00</td>\n",
       "      <td>9</td>\n",
       "      <td>1.0000</td>\n",
       "    </tr>\n",
       "  </tbody>\n",
       "</table>\n",
       "</div>"
      ],
      "text/plain": [
       "          cluster  sum_frauds  mean_frauds\n",
       "id_holder                                 \n",
       "200375         00          10       1.0000\n",
       "200285         00           8       1.0000\n",
       "200104         00          12       1.0000\n",
       "200651         00          13       1.0000\n",
       "200179         00           9       1.0000"
      ]
     },
     "execution_count": 31,
     "metadata": {},
     "output_type": "execute_result"
    }
   ],
   "source": [
    "summary = frauds.pivot_table(index=['id_holder','cluster'],\n",
    "                             values='frauds',\n",
    "                             aggfunc=[sum,'mean'],\n",
    "                             fill_value=0)\n",
    "summary.columns = ['_'.join(x) for x in summary.columns]\n",
    "summary = summary.reset_index().set_index('id_holder')\n",
    "summary.sort_values('mean_frauds',0,0).head()"
   ]
  },
  {
   "cell_type": "markdown",
   "id": "b12f757c",
   "metadata": {
    "heading_collapsed": true
   },
   "source": [
    "## Total"
   ]
  },
  {
   "cell_type": "code",
   "execution_count": 32,
   "id": "aab6b5da",
   "metadata": {
    "ExecuteTime": {
     "end_time": "2021-05-22T18:17:54.076748Z",
     "start_time": "2021-05-22T18:17:54.063208Z"
    },
    "hidden": true
   },
   "outputs": [
    {
     "data": {
      "text/html": [
       "<div>\n",
       "<style scoped>\n",
       "    .dataframe tbody tr th:only-of-type {\n",
       "        vertical-align: middle;\n",
       "    }\n",
       "\n",
       "    .dataframe tbody tr th {\n",
       "        vertical-align: top;\n",
       "    }\n",
       "\n",
       "    .dataframe thead th {\n",
       "        text-align: right;\n",
       "    }\n",
       "</style>\n",
       "<table border=\"1\" class=\"dataframe\">\n",
       "  <thead>\n",
       "    <tr style=\"text-align: right;\">\n",
       "      <th></th>\n",
       "      <th>sum_frauds_sum</th>\n",
       "      <th>sum_frauds_mean</th>\n",
       "      <th>mean_frauds_mean</th>\n",
       "      <th>mean_frauds_median</th>\n",
       "    </tr>\n",
       "    <tr>\n",
       "      <th>cluster</th>\n",
       "      <th></th>\n",
       "      <th></th>\n",
       "      <th></th>\n",
       "      <th></th>\n",
       "    </tr>\n",
       "  </thead>\n",
       "  <tbody>\n",
       "    <tr>\n",
       "      <th>00</th>\n",
       "      <td>741</td>\n",
       "      <td>9.8800</td>\n",
       "      <td>1.0000</td>\n",
       "      <td>1.0000</td>\n",
       "    </tr>\n",
       "    <tr>\n",
       "      <th>A</th>\n",
       "      <td>2302</td>\n",
       "      <td>7.4258</td>\n",
       "      <td>0.0063</td>\n",
       "      <td>0.0049</td>\n",
       "    </tr>\n",
       "    <tr>\n",
       "      <th>B</th>\n",
       "      <td>1404</td>\n",
       "      <td>7.8876</td>\n",
       "      <td>0.0076</td>\n",
       "      <td>0.0059</td>\n",
       "    </tr>\n",
       "    <tr>\n",
       "      <th>C</th>\n",
       "      <td>1096</td>\n",
       "      <td>7.6111</td>\n",
       "      <td>0.0073</td>\n",
       "      <td>0.0060</td>\n",
       "    </tr>\n",
       "    <tr>\n",
       "      <th>D</th>\n",
       "      <td>1963</td>\n",
       "      <td>7.1123</td>\n",
       "      <td>0.0079</td>\n",
       "      <td>0.0068</td>\n",
       "    </tr>\n",
       "  </tbody>\n",
       "</table>\n",
       "</div>"
      ],
      "text/plain": [
       "         sum_frauds_sum  sum_frauds_mean  mean_frauds_mean  mean_frauds_median\n",
       "cluster                                                                       \n",
       "00                  741           9.8800            1.0000              1.0000\n",
       "A                  2302           7.4258            0.0063              0.0049\n",
       "B                  1404           7.8876            0.0076              0.0059\n",
       "C                  1096           7.6111            0.0073              0.0060\n",
       "D                  1963           7.1123            0.0079              0.0068"
      ]
     },
     "execution_count": 32,
     "metadata": {},
     "output_type": "execute_result"
    }
   ],
   "source": [
    "tot_frauds = summary.groupby('cluster').agg({'sum_frauds':[sum,'mean'],\n",
    "                                             'mean_frauds':['mean','median']})\n",
    "tot_frauds.columns = ['_'.join(x) for x in tot_frauds.columns]\n",
    "tot_frauds"
   ]
  },
  {
   "cell_type": "code",
   "execution_count": 33,
   "id": "0673fd8b",
   "metadata": {
    "ExecuteTime": {
     "end_time": "2021-05-22T18:17:54.448053Z",
     "start_time": "2021-05-22T18:17:54.078518Z"
    },
    "hidden": true
   },
   "outputs": [
    {
     "data": {
      "text/plain": [
       "25"
      ]
     },
     "execution_count": 33,
     "metadata": {},
     "output_type": "execute_result"
    }
   ],
   "source": [
    "final = X.reset_index().set_index('id_holder').join(summary)\n",
    "prev = final.head().filter(regex='_\\d{2}').columns.to_list()\n",
    "actual = [x for x in final.columns if x not in prev]\n",
    "len(actual)"
   ]
  },
  {
   "cell_type": "code",
   "execution_count": 34,
   "id": "e39c1fd1",
   "metadata": {
    "ExecuteTime": {
     "end_time": "2021-05-22T18:17:54.544145Z",
     "start_time": "2021-05-22T18:17:54.450034Z"
    },
    "hidden": true
   },
   "outputs": [],
   "source": [
    "final = final[actual].append(extra)\n",
    "final['age_mean'] /= 365"
   ]
  },
  {
   "cell_type": "code",
   "execution_count": 35,
   "id": "41e187cf",
   "metadata": {
    "ExecuteTime": {
     "end_time": "2021-05-22T18:17:54.614698Z",
     "start_time": "2021-05-22T18:17:54.546358Z"
    },
    "hidden": true
   },
   "outputs": [
    {
     "data": {
      "text/html": [
       "<style  type=\"text/css\" >\n",
       "#T_15073_row0_col0,#T_15073_row0_col1,#T_15073_row0_col20,#T_15073_row0_col21{\n",
       "            background-color:  #000000;\n",
       "            color:  #f1f1f1;\n",
       "        }#T_15073_row0_col2,#T_15073_row2_col10{\n",
       "            background-color:  #1865ac;\n",
       "            color:  #f1f1f1;\n",
       "        }#T_15073_row0_col3,#T_15073_row1_col1,#T_15073_row1_col2,#T_15073_row1_col11,#T_15073_row1_col21,#T_15073_row2_col7,#T_15073_row2_col8,#T_15073_row3_col0,#T_15073_row3_col7,#T_15073_row3_col8,#T_15073_row3_col10,#T_15073_row3_col12,#T_15073_row4_col4,#T_15073_row4_col5,#T_15073_row4_col6,#T_15073_row4_col7,#T_15073_row4_col8,#T_15073_row4_col9,#T_15073_row4_col13,#T_15073_row4_col14,#T_15073_row4_col15,#T_15073_row4_col16,#T_15073_row4_col17,#T_15073_row4_col18,#T_15073_row4_col19,#T_15073_row4_col20{\n",
       "            background-color:  #f7fbff;\n",
       "            color:  #000000;\n",
       "        }#T_15073_row0_col4,#T_15073_row0_col5,#T_15073_row0_col6,#T_15073_row0_col7,#T_15073_row0_col8,#T_15073_row0_col9,#T_15073_row0_col10,#T_15073_row0_col11,#T_15073_row0_col12,#T_15073_row0_col15,#T_15073_row0_col18,#T_15073_row0_col19,#T_15073_row1_col3,#T_15073_row1_col13,#T_15073_row1_col14,#T_15073_row1_col16,#T_15073_row1_col17,#T_15073_row2_col0,#T_15073_row2_col20,#T_15073_row3_col1,#T_15073_row4_col2,#T_15073_row4_col21{\n",
       "            background-color:  #08306b;\n",
       "            color:  #f1f1f1;\n",
       "        }#T_15073_row0_col13{\n",
       "            background-color:  #d1e2f3;\n",
       "            color:  #000000;\n",
       "        }#T_15073_row0_col14{\n",
       "            background-color:  #99c7e0;\n",
       "            color:  #000000;\n",
       "        }#T_15073_row0_col16{\n",
       "            background-color:  #71b1d7;\n",
       "            color:  #000000;\n",
       "        }#T_15073_row0_col17{\n",
       "            background-color:  #1562a9;\n",
       "            color:  #f1f1f1;\n",
       "        }#T_15073_row1_col0{\n",
       "            background-color:  #edf4fc;\n",
       "            color:  #000000;\n",
       "        }#T_15073_row1_col4,#T_15073_row2_col6{\n",
       "            background-color:  #f5f9fe;\n",
       "            color:  #000000;\n",
       "        }#T_15073_row1_col5{\n",
       "            background-color:  #f0f6fd;\n",
       "            color:  #000000;\n",
       "        }#T_15073_row1_col6{\n",
       "            background-color:  #f2f8fd;\n",
       "            color:  #000000;\n",
       "        }#T_15073_row1_col7,#T_15073_row1_col8,#T_15073_row2_col4,#T_15073_row3_col4,#T_15073_row3_col6{\n",
       "            background-color:  #f6faff;\n",
       "            color:  #000000;\n",
       "        }#T_15073_row1_col9{\n",
       "            background-color:  #dfebf7;\n",
       "            color:  #000000;\n",
       "        }#T_15073_row1_col10{\n",
       "            background-color:  #1b69af;\n",
       "            color:  #f1f1f1;\n",
       "        }#T_15073_row1_col12{\n",
       "            background-color:  #bcd7eb;\n",
       "            color:  #000000;\n",
       "        }#T_15073_row1_col15{\n",
       "            background-color:  #3b8bc2;\n",
       "            color:  #000000;\n",
       "        }#T_15073_row1_col18{\n",
       "            background-color:  #8dc1dd;\n",
       "            color:  #000000;\n",
       "        }#T_15073_row1_col19,#T_15073_row4_col3{\n",
       "            background-color:  #82bbdb;\n",
       "            color:  #000000;\n",
       "        }#T_15073_row1_col20{\n",
       "            background-color:  #92c4de;\n",
       "            color:  #000000;\n",
       "        }#T_15073_row2_col1{\n",
       "            background-color:  #115ca5;\n",
       "            color:  #f1f1f1;\n",
       "        }#T_15073_row2_col2{\n",
       "            background-color:  #aed1e7;\n",
       "            color:  #000000;\n",
       "        }#T_15073_row2_col3{\n",
       "            background-color:  #2a7ab9;\n",
       "            color:  #000000;\n",
       "        }#T_15073_row2_col5{\n",
       "            background-color:  #f3f8fe;\n",
       "            color:  #000000;\n",
       "        }#T_15073_row2_col9{\n",
       "            background-color:  #ebf3fb;\n",
       "            color:  #000000;\n",
       "        }#T_15073_row2_col11{\n",
       "            background-color:  #bfd8ed;\n",
       "            color:  #000000;\n",
       "        }#T_15073_row2_col12{\n",
       "            background-color:  #72b2d8;\n",
       "            color:  #000000;\n",
       "        }#T_15073_row2_col13{\n",
       "            background-color:  #3a8ac2;\n",
       "            color:  #000000;\n",
       "        }#T_15073_row2_col14{\n",
       "            background-color:  #529dcc;\n",
       "            color:  #000000;\n",
       "        }#T_15073_row2_col15{\n",
       "            background-color:  #8abfdd;\n",
       "            color:  #000000;\n",
       "        }#T_15073_row2_col16{\n",
       "            background-color:  #3282be;\n",
       "            color:  #000000;\n",
       "        }#T_15073_row2_col17,#T_15073_row3_col21{\n",
       "            background-color:  #3888c1;\n",
       "            color:  #000000;\n",
       "        }#T_15073_row2_col18{\n",
       "            background-color:  #c1d9ed;\n",
       "            color:  #000000;\n",
       "        }#T_15073_row2_col19{\n",
       "            background-color:  #bdd7ec;\n",
       "            color:  #000000;\n",
       "        }#T_15073_row2_col21{\n",
       "            background-color:  #0c56a0;\n",
       "            color:  #f1f1f1;\n",
       "        }#T_15073_row3_col2,#T_15073_row4_col10{\n",
       "            background-color:  #61a7d2;\n",
       "            color:  #000000;\n",
       "        }#T_15073_row3_col3{\n",
       "            background-color:  #1663aa;\n",
       "            color:  #f1f1f1;\n",
       "        }#T_15073_row3_col5,#T_15073_row3_col11{\n",
       "            background-color:  #f5fafe;\n",
       "            color:  #000000;\n",
       "        }#T_15073_row3_col9{\n",
       "            background-color:  #e9f2fa;\n",
       "            color:  #000000;\n",
       "        }#T_15073_row3_col13{\n",
       "            background-color:  #dbe9f6;\n",
       "            color:  #000000;\n",
       "        }#T_15073_row3_col14{\n",
       "            background-color:  #add0e6;\n",
       "            color:  #000000;\n",
       "        }#T_15073_row3_col15{\n",
       "            background-color:  #a1cbe2;\n",
       "            color:  #000000;\n",
       "        }#T_15073_row3_col16{\n",
       "            background-color:  #57a0ce;\n",
       "            color:  #000000;\n",
       "        }#T_15073_row3_col17{\n",
       "            background-color:  #539ecd;\n",
       "            color:  #000000;\n",
       "        }#T_15073_row3_col18{\n",
       "            background-color:  #cadef0;\n",
       "            color:  #000000;\n",
       "        }#T_15073_row3_col19{\n",
       "            background-color:  #c7dcef;\n",
       "            color:  #000000;\n",
       "        }#T_15073_row3_col20{\n",
       "            background-color:  #3d8dc4;\n",
       "            color:  #000000;\n",
       "        }#T_15073_row4_col0{\n",
       "            background-color:  #d5e5f4;\n",
       "            color:  #000000;\n",
       "        }#T_15073_row4_col1{\n",
       "            background-color:  #e0ecf8;\n",
       "            color:  #000000;\n",
       "        }#T_15073_row4_col11{\n",
       "            background-color:  #7ab6d9;\n",
       "            color:  #000000;\n",
       "        }#T_15073_row4_col12{\n",
       "            background-color:  #3484bf;\n",
       "            color:  #000000;\n",
       "        }</style><table id=\"T_15073_\" ><thead>    <tr>        <th class=\"blank level0\" ></th>        <th class=\"col_heading level0 col0\" >year</th>        <th class=\"col_heading level0 col1\" >week</th>        <th class=\"col_heading level0 col2\" >age_mean</th>        <th class=\"col_heading level0 col3\" >amt_count</th>        <th class=\"col_heading level0 col4\" >amt_mean</th>        <th class=\"col_heading level0 col5\" >amt_perc15</th>        <th class=\"col_heading level0 col6\" >amt_perc25</th>        <th class=\"col_heading level0 col7\" >amt_perc75</th>        <th class=\"col_heading level0 col8\" >amt_perc85</th>        <th class=\"col_heading level0 col9\" >amt_sum</th>        <th class=\"col_heading level0 col10\" >distance_mean</th>        <th class=\"col_heading level0 col11\" >distance_perc15</th>        <th class=\"col_heading level0 col12\" >distance_perc25</th>        <th class=\"col_heading level0 col13\" >distance_perc75</th>        <th class=\"col_heading level0 col14\" >distance_perc85</th>        <th class=\"col_heading level0 col15\" >hrmin_mean</th>        <th class=\"col_heading level0 col16\" >hrmin_perc15</th>        <th class=\"col_heading level0 col17\" >hrmin_perc25</th>        <th class=\"col_heading level0 col18\" >hrmin_perc75</th>        <th class=\"col_heading level0 col19\" >hrmin_perc85</th>        <th class=\"col_heading level0 col20\" >sum_frauds</th>        <th class=\"col_heading level0 col21\" >mean_frauds</th>    </tr>    <tr>        <th class=\"index_name level0\" >cluster</th>        <th class=\"blank\" ></th>        <th class=\"blank\" ></th>        <th class=\"blank\" ></th>        <th class=\"blank\" ></th>        <th class=\"blank\" ></th>        <th class=\"blank\" ></th>        <th class=\"blank\" ></th>        <th class=\"blank\" ></th>        <th class=\"blank\" ></th>        <th class=\"blank\" ></th>        <th class=\"blank\" ></th>        <th class=\"blank\" ></th>        <th class=\"blank\" ></th>        <th class=\"blank\" ></th>        <th class=\"blank\" ></th>        <th class=\"blank\" ></th>        <th class=\"blank\" ></th>        <th class=\"blank\" ></th>        <th class=\"blank\" ></th>        <th class=\"blank\" ></th>        <th class=\"blank\" ></th>        <th class=\"blank\" ></th>    </tr></thead><tbody>\n",
       "                <tr>\n",
       "                        <th id=\"T_15073_level0_row0\" class=\"row_heading level0 row0\" >00</th>\n",
       "                        <td id=\"T_15073_row0_col0\" class=\"data row0 col0\" >nan</td>\n",
       "                        <td id=\"T_15073_row0_col1\" class=\"data row0 col1\" >nan</td>\n",
       "                        <td id=\"T_15073_row0_col2\" class=\"data row0 col2\" >58.875499</td>\n",
       "                        <td id=\"T_15073_row0_col3\" class=\"data row0 col3\" >9.880000</td>\n",
       "                        <td id=\"T_15073_row0_col4\" class=\"data row0 col4\" >596.327436</td>\n",
       "                        <td id=\"T_15073_row0_col5\" class=\"data row0 col5\" >223.873187</td>\n",
       "                        <td id=\"T_15073_row0_col6\" class=\"data row0 col6\" >330.323567</td>\n",
       "                        <td id=\"T_15073_row0_col7\" class=\"data row0 col7\" >890.628533</td>\n",
       "                        <td id=\"T_15073_row0_col8\" class=\"data row0 col8\" >956.059320</td>\n",
       "                        <td id=\"T_15073_row0_col9\" class=\"data row0 col9\" >5898.948133</td>\n",
       "                        <td id=\"T_15073_row0_col10\" class=\"data row0 col10\" >76.406104</td>\n",
       "                        <td id=\"T_15073_row0_col11\" class=\"data row0 col11\" >50.057941</td>\n",
       "                        <td id=\"T_15073_row0_col12\" class=\"data row0 col12\" >58.937273</td>\n",
       "                        <td id=\"T_15073_row0_col13\" class=\"data row0 col13\" >95.180043</td>\n",
       "                        <td id=\"T_15073_row0_col14\" class=\"data row0 col14\" >103.210604</td>\n",
       "                        <td id=\"T_15073_row0_col15\" class=\"data row0 col15\" >15.629756</td>\n",
       "                        <td id=\"T_15073_row0_col16\" class=\"data row0 col16\" >5.973411</td>\n",
       "                        <td id=\"T_15073_row0_col17\" class=\"data row0 col17\" >9.439514</td>\n",
       "                        <td id=\"T_15073_row0_col18\" class=\"data row0 col18\" >22.613258</td>\n",
       "                        <td id=\"T_15073_row0_col19\" class=\"data row0 col19\" >23.043266</td>\n",
       "                        <td id=\"T_15073_row0_col20\" class=\"data row0 col20\" >nan</td>\n",
       "                        <td id=\"T_15073_row0_col21\" class=\"data row0 col21\" >nan</td>\n",
       "            </tr>\n",
       "            <tr>\n",
       "                        <th id=\"T_15073_level0_row1\" class=\"row_heading level0 row1\" >A</th>\n",
       "                        <td id=\"T_15073_row1_col0\" class=\"data row1 col0\" >2019.323523</td>\n",
       "                        <td id=\"T_15073_row1_col1\" class=\"data row1 col1\" >21.824040</td>\n",
       "                        <td id=\"T_15073_row1_col2\" class=\"data row1 col2\" >34.963696</td>\n",
       "                        <td id=\"T_15073_row1_col3\" class=\"data row1 col3\" >21.904792</td>\n",
       "                        <td id=\"T_15073_row1_col4\" class=\"data row1 col4\" >73.785206</td>\n",
       "                        <td id=\"T_15073_row1_col5\" class=\"data row1 col5\" >19.038062</td>\n",
       "                        <td id=\"T_15073_row1_col6\" class=\"data row1 col6\" >25.592542</td>\n",
       "                        <td id=\"T_15073_row1_col7\" class=\"data row1 col7\" >88.025711</td>\n",
       "                        <td id=\"T_15073_row1_col8\" class=\"data row1 col8\" >116.023695</td>\n",
       "                        <td id=\"T_15073_row1_col9\" class=\"data row1 col9\" >1596.617780</td>\n",
       "                        <td id=\"T_15073_row1_col10\" class=\"data row1 col10\" >76.240152</td>\n",
       "                        <td id=\"T_15073_row1_col11\" class=\"data row1 col11\" >47.474561</td>\n",
       "                        <td id=\"T_15073_row1_col12\" class=\"data row1 col12\" >57.888867</td>\n",
       "                        <td id=\"T_15073_row1_col13\" class=\"data row1 col13\" >96.001926</td>\n",
       "                        <td id=\"T_15073_row1_col14\" class=\"data row1 col14\" >104.032296</td>\n",
       "                        <td id=\"T_15073_row1_col15\" class=\"data row1 col15\" >14.179628</td>\n",
       "                        <td id=\"T_15073_row1_col16\" class=\"data row1 col16\" >7.341629</td>\n",
       "                        <td id=\"T_15073_row1_col17\" class=\"data row1 col17\" >10.133517</td>\n",
       "                        <td id=\"T_15073_row1_col18\" class=\"data row1 col18\" >18.930137</td>\n",
       "                        <td id=\"T_15073_row1_col19\" class=\"data row1 col19\" >20.485620</td>\n",
       "                        <td id=\"T_15073_row1_col20\" class=\"data row1 col20\" >7.426193</td>\n",
       "                        <td id=\"T_15073_row1_col21\" class=\"data row1 col21\" >0.006269</td>\n",
       "            </tr>\n",
       "            <tr>\n",
       "                        <th id=\"T_15073_level0_row2\" class=\"row_heading level0 row2\" >B</th>\n",
       "                        <td id=\"T_15073_row2_col0\" class=\"data row2 col0\" >2019.347122</td>\n",
       "                        <td id=\"T_15073_row2_col1\" class=\"data row2 col1\" >22.759931</td>\n",
       "                        <td id=\"T_15073_row2_col2\" class=\"data row2 col2\" >44.763083</td>\n",
       "                        <td id=\"T_15073_row2_col3\" class=\"data row2 col3\" >18.511285</td>\n",
       "                        <td id=\"T_15073_row2_col4\" class=\"data row2 col4\" >69.657490</td>\n",
       "                        <td id=\"T_15073_row2_col5\" class=\"data row2 col5\" >15.476831</td>\n",
       "                        <td id=\"T_15073_row2_col6\" class=\"data row2 col6\" >21.845991</td>\n",
       "                        <td id=\"T_15073_row2_col7\" class=\"data row2 col7\" >85.279076</td>\n",
       "                        <td id=\"T_15073_row2_col8\" class=\"data row2 col8\" >112.126017</td>\n",
       "                        <td id=\"T_15073_row2_col9\" class=\"data row2 col9\" >1294.097884</td>\n",
       "                        <td id=\"T_15073_row2_col10\" class=\"data row2 col10\" >76.250497</td>\n",
       "                        <td id=\"T_15073_row2_col11\" class=\"data row2 col11\" >48.175373</td>\n",
       "                        <td id=\"T_15073_row2_col12\" class=\"data row2 col12\" >58.180588</td>\n",
       "                        <td id=\"T_15073_row2_col13\" class=\"data row2 col13\" >95.646982</td>\n",
       "                        <td id=\"T_15073_row2_col14\" class=\"data row2 col14\" >103.466755</td>\n",
       "                        <td id=\"T_15073_row2_col15\" class=\"data row2 col15\" >13.243881</td>\n",
       "                        <td id=\"T_15073_row2_col16\" class=\"data row2 col16\" >6.502841</td>\n",
       "                        <td id=\"T_15073_row2_col17\" class=\"data row2 col17\" >8.914393</td>\n",
       "                        <td id=\"T_15073_row2_col18\" class=\"data row2 col18\" >17.984117</td>\n",
       "                        <td id=\"T_15073_row2_col19\" class=\"data row2 col19\" >19.723435</td>\n",
       "                        <td id=\"T_15073_row2_col20\" class=\"data row2 col20\" >7.888325</td>\n",
       "                        <td id=\"T_15073_row2_col21\" class=\"data row2 col21\" >0.007634</td>\n",
       "            </tr>\n",
       "            <tr>\n",
       "                        <th id=\"T_15073_level0_row3\" class=\"row_heading level0 row3\" >C</th>\n",
       "                        <td id=\"T_15073_row3_col0\" class=\"data row3 col0\" >2019.322222</td>\n",
       "                        <td id=\"T_15073_row3_col1\" class=\"data row3 col1\" >22.952464</td>\n",
       "                        <td id=\"T_15073_row3_col2\" class=\"data row3 col2\" >50.902829</td>\n",
       "                        <td id=\"T_15073_row3_col3\" class=\"data row3 col3\" >19.522268</td>\n",
       "                        <td id=\"T_15073_row3_col4\" class=\"data row3 col4\" >68.475483</td>\n",
       "                        <td id=\"T_15073_row3_col5\" class=\"data row3 col5\" >13.083858</td>\n",
       "                        <td id=\"T_15073_row3_col6\" class=\"data row3 col6\" >19.468484</td>\n",
       "                        <td id=\"T_15073_row3_col7\" class=\"data row3 col7\" >85.720386</td>\n",
       "                        <td id=\"T_15073_row3_col8\" class=\"data row3 col8\" >114.097165</td>\n",
       "                        <td id=\"T_15073_row3_col9\" class=\"data row3 col9\" >1348.490803</td>\n",
       "                        <td id=\"T_15073_row3_col10\" class=\"data row3 col10\" >75.647584</td>\n",
       "                        <td id=\"T_15073_row3_col11\" class=\"data row3 col11\" >47.500347</td>\n",
       "                        <td id=\"T_15073_row3_col12\" class=\"data row3 col12\" >57.472403</td>\n",
       "                        <td id=\"T_15073_row3_col13\" class=\"data row3 col13\" >95.124729</td>\n",
       "                        <td id=\"T_15073_row3_col14\" class=\"data row3 col14\" >103.133522</td>\n",
       "                        <td id=\"T_15073_row3_col15\" class=\"data row3 col15\" >12.990080</td>\n",
       "                        <td id=\"T_15073_row3_col16\" class=\"data row3 col16\" >6.172596</td>\n",
       "                        <td id=\"T_15073_row3_col17\" class=\"data row3 col17\" >8.587923</td>\n",
       "                        <td id=\"T_15073_row3_col18\" class=\"data row3 col18\" >17.755812</td>\n",
       "                        <td id=\"T_15073_row3_col19\" class=\"data row3 col19\" >19.564415</td>\n",
       "                        <td id=\"T_15073_row3_col20\" class=\"data row3 col20\" >7.609313</td>\n",
       "                        <td id=\"T_15073_row3_col21\" class=\"data row3 col21\" >0.007328</td>\n",
       "            </tr>\n",
       "            <tr>\n",
       "                        <th id=\"T_15073_level0_row4\" class=\"row_heading level0 row4\" >D</th>\n",
       "                        <td id=\"T_15073_row4_col0\" class=\"data row4 col0\" >2019.326524</td>\n",
       "                        <td id=\"T_15073_row4_col1\" class=\"data row4 col1\" >21.953044</td>\n",
       "                        <td id=\"T_15073_row4_col2\" class=\"data row4 col2\" >65.017179</td>\n",
       "                        <td id=\"T_15073_row4_col3\" class=\"data row4 col3\" >15.216822</td>\n",
       "                        <td id=\"T_15073_row4_col4\" class=\"data row4 col4\" >65.654559</td>\n",
       "                        <td id=\"T_15073_row4_col5\" class=\"data row4 col5\" >10.962875</td>\n",
       "                        <td id=\"T_15073_row4_col6\" class=\"data row4 col6\" >17.317608</td>\n",
       "                        <td id=\"T_15073_row4_col7\" class=\"data row4 col7\" >84.361158</td>\n",
       "                        <td id=\"T_15073_row4_col8\" class=\"data row4 col8\" >111.279303</td>\n",
       "                        <td id=\"T_15073_row4_col9\" class=\"data row4 col9\" >1002.504803</td>\n",
       "                        <td id=\"T_15073_row4_col10\" class=\"data row4 col10\" >76.049727</td>\n",
       "                        <td id=\"T_15073_row4_col11\" class=\"data row4 col11\" >48.672062</td>\n",
       "                        <td id=\"T_15073_row4_col12\" class=\"data row4 col12\" >58.465837</td>\n",
       "                        <td id=\"T_15073_row4_col13\" class=\"data row4 col13\" >94.980694</td>\n",
       "                        <td id=\"T_15073_row4_col14\" class=\"data row4 col14\" >102.692027</td>\n",
       "                        <td id=\"T_15073_row4_col15\" class=\"data row4 col15\" >11.476055</td>\n",
       "                        <td id=\"T_15073_row4_col16\" class=\"data row4 col16\" >4.675687</td>\n",
       "                        <td id=\"T_15073_row4_col17\" class=\"data row4 col17\" >6.515381</td>\n",
       "                        <td id=\"T_15073_row4_col18\" class=\"data row4 col18\" >16.303308</td>\n",
       "                        <td id=\"T_15073_row4_col19\" class=\"data row4 col19\" >18.438846</td>\n",
       "                        <td id=\"T_15073_row4_col20\" class=\"data row4 col20\" >7.110400</td>\n",
       "                        <td id=\"T_15073_row4_col21\" class=\"data row4 col21\" >0.007869</td>\n",
       "            </tr>\n",
       "    </tbody></table>"
      ],
      "text/plain": [
       "<pandas.io.formats.style.Styler at 0x7ff464a4b370>"
      ]
     },
     "execution_count": 35,
     "metadata": {},
     "output_type": "execute_result"
    }
   ],
   "source": [
    "final.groupby(\"cluster\").mean().style.background_gradient(cmap='Blues')"
   ]
  },
  {
   "cell_type": "code",
   "execution_count": 69,
   "id": "84a03b2e",
   "metadata": {
    "ExecuteTime": {
     "end_time": "2021-05-22T19:01:57.890582Z",
     "start_time": "2021-05-22T19:01:57.752956Z"
    },
    "hidden": true
   },
   "outputs": [
    {
     "data": {
      "text/html": [
       "<style  type=\"text/css\" >\n",
       "#T_fbfb3_row0_col0{\n",
       "            background-color:  #a8cee4;\n",
       "            color:  #000000;\n",
       "        }#T_fbfb3_row0_col1{\n",
       "            background-color:  #b0d2e7;\n",
       "            color:  #000000;\n",
       "        }#T_fbfb3_row0_col2,#T_fbfb3_row11_col3{\n",
       "            background-color:  #c3daee;\n",
       "            color:  #000000;\n",
       "        }#T_fbfb3_row0_col3{\n",
       "            background-color:  #b3d3e8;\n",
       "            color:  #000000;\n",
       "        }#T_fbfb3_row1_col0{\n",
       "            background-color:  #99c7e0;\n",
       "            color:  #000000;\n",
       "        }#T_fbfb3_row1_col1{\n",
       "            background-color:  #b4d3e9;\n",
       "            color:  #000000;\n",
       "        }#T_fbfb3_row1_col2{\n",
       "            background-color:  #c7dcef;\n",
       "            color:  #000000;\n",
       "        }#T_fbfb3_row1_col3,#T_fbfb3_row5_col1{\n",
       "            background-color:  #cddff1;\n",
       "            color:  #000000;\n",
       "        }#T_fbfb3_row2_col0,#T_fbfb3_row2_col1,#T_fbfb3_row2_col2,#T_fbfb3_row2_col3{\n",
       "            background-color:  #08306b;\n",
       "            color:  #f1f1f1;\n",
       "        }#T_fbfb3_row3_col0{\n",
       "            background-color:  #d9e7f5;\n",
       "            color:  #000000;\n",
       "        }#T_fbfb3_row3_col1{\n",
       "            background-color:  #eaf3fb;\n",
       "            color:  #000000;\n",
       "        }#T_fbfb3_row3_col2{\n",
       "            background-color:  #eff6fc;\n",
       "            color:  #000000;\n",
       "        }#T_fbfb3_row3_col3,#T_fbfb3_row13_col0,#T_fbfb3_row13_col1,#T_fbfb3_row13_col2{\n",
       "            background-color:  #f7fbff;\n",
       "            color:  #000000;\n",
       "        }#T_fbfb3_row4_col0{\n",
       "            background-color:  #083e81;\n",
       "            color:  #f1f1f1;\n",
       "        }#T_fbfb3_row4_col1{\n",
       "            background-color:  #1c6bb0;\n",
       "            color:  #f1f1f1;\n",
       "        }#T_fbfb3_row4_col2{\n",
       "            background-color:  #3a8ac2;\n",
       "            color:  #000000;\n",
       "        }#T_fbfb3_row4_col3{\n",
       "            background-color:  #4b98ca;\n",
       "            color:  #000000;\n",
       "        }#T_fbfb3_row5_col0{\n",
       "            background-color:  #bfd8ed;\n",
       "            color:  #000000;\n",
       "        }#T_fbfb3_row5_col2{\n",
       "            background-color:  #d4e4f4;\n",
       "            color:  #000000;\n",
       "        }#T_fbfb3_row5_col3{\n",
       "            background-color:  #cfe1f2;\n",
       "            color:  #000000;\n",
       "        }#T_fbfb3_row6_col0{\n",
       "            background-color:  #1663aa;\n",
       "            color:  #f1f1f1;\n",
       "        }#T_fbfb3_row6_col1{\n",
       "            background-color:  #4997c9;\n",
       "            color:  #000000;\n",
       "        }#T_fbfb3_row6_col2{\n",
       "            background-color:  #5ba3d0;\n",
       "            color:  #000000;\n",
       "        }#T_fbfb3_row6_col3,#T_fbfb3_row7_col1{\n",
       "            background-color:  #77b5d9;\n",
       "            color:  #000000;\n",
       "        }#T_fbfb3_row7_col0{\n",
       "            background-color:  #6dafd7;\n",
       "            color:  #000000;\n",
       "        }#T_fbfb3_row7_col2{\n",
       "            background-color:  #8abfdd;\n",
       "            color:  #000000;\n",
       "        }#T_fbfb3_row7_col3{\n",
       "            background-color:  #81badb;\n",
       "            color:  #000000;\n",
       "        }#T_fbfb3_row8_col0{\n",
       "            background-color:  #d9e8f5;\n",
       "            color:  #000000;\n",
       "        }#T_fbfb3_row8_col1{\n",
       "            background-color:  #dfecf7;\n",
       "            color:  #000000;\n",
       "        }#T_fbfb3_row8_col2{\n",
       "            background-color:  #e4eff9;\n",
       "            color:  #000000;\n",
       "        }#T_fbfb3_row8_col3{\n",
       "            background-color:  #dbe9f6;\n",
       "            color:  #000000;\n",
       "        }#T_fbfb3_row9_col0{\n",
       "            background-color:  #add0e6;\n",
       "            color:  #000000;\n",
       "        }#T_fbfb3_row9_col1{\n",
       "            background-color:  #cbdef1;\n",
       "            color:  #000000;\n",
       "        }#T_fbfb3_row9_col2{\n",
       "            background-color:  #d3e4f3;\n",
       "            color:  #000000;\n",
       "        }#T_fbfb3_row9_col3{\n",
       "            background-color:  #d5e5f4;\n",
       "            color:  #000000;\n",
       "        }#T_fbfb3_row10_col0{\n",
       "            background-color:  #bdd7ec;\n",
       "            color:  #000000;\n",
       "        }#T_fbfb3_row10_col1{\n",
       "            background-color:  #c8dcf0;\n",
       "            color:  #000000;\n",
       "        }#T_fbfb3_row10_col2{\n",
       "            background-color:  #c2d9ee;\n",
       "            color:  #000000;\n",
       "        }#T_fbfb3_row10_col3{\n",
       "            background-color:  #bed8ec;\n",
       "            color:  #000000;\n",
       "        }#T_fbfb3_row11_col0{\n",
       "            background-color:  #79b5d9;\n",
       "            color:  #000000;\n",
       "        }#T_fbfb3_row11_col1{\n",
       "            background-color:  #a3cce3;\n",
       "            color:  #000000;\n",
       "        }#T_fbfb3_row11_col2{\n",
       "            background-color:  #afd1e7;\n",
       "            color:  #000000;\n",
       "        }#T_fbfb3_row12_col0{\n",
       "            background-color:  #2474b7;\n",
       "            color:  #f1f1f1;\n",
       "        }#T_fbfb3_row12_col1{\n",
       "            background-color:  #5da5d1;\n",
       "            color:  #000000;\n",
       "        }#T_fbfb3_row12_col2{\n",
       "            background-color:  #4f9bcb;\n",
       "            color:  #000000;\n",
       "        }#T_fbfb3_row12_col3{\n",
       "            background-color:  #8cc0dd;\n",
       "            color:  #000000;\n",
       "        }#T_fbfb3_row13_col3{\n",
       "            background-color:  #edf4fc;\n",
       "            color:  #000000;\n",
       "        }</style><table id=\"T_fbfb3_\" ><thead>    <tr>        <th class=\"index_name level0\" >cluster</th>        <th class=\"col_heading level0 col0\" >A</th>        <th class=\"col_heading level0 col1\" >B</th>        <th class=\"col_heading level0 col2\" >C</th>        <th class=\"col_heading level0 col3\" >D</th>    </tr>    <tr>        <th class=\"index_name level0\" >decode_category_mode</th>        <th class=\"blank\" ></th>        <th class=\"blank\" ></th>        <th class=\"blank\" ></th>        <th class=\"blank\" ></th>    </tr></thead><tbody>\n",
       "                <tr>\n",
       "                        <th id=\"T_fbfb3_level0_row0\" class=\"row_heading level0 row0\" >entertainment</th>\n",
       "                        <td id=\"T_fbfb3_row0_col0\" class=\"data row0 col0\" >1249</td>\n",
       "                        <td id=\"T_fbfb3_row0_col1\" class=\"data row0 col1\" >797</td>\n",
       "                        <td id=\"T_fbfb3_row0_col2\" class=\"data row0 col2\" >583</td>\n",
       "                        <td id=\"T_fbfb3_row0_col3\" class=\"data row0 col3\" >1343</td>\n",
       "            </tr>\n",
       "            <tr>\n",
       "                        <th id=\"T_fbfb3_level0_row1\" class=\"row_heading level0 row1\" >food_dining</th>\n",
       "                        <td id=\"T_fbfb3_row1_col0\" class=\"data row1 col0\" >1381</td>\n",
       "                        <td id=\"T_fbfb3_row1_col1\" class=\"data row1 col1\" >772</td>\n",
       "                        <td id=\"T_fbfb3_row1_col2\" class=\"data row1 col2\" >554</td>\n",
       "                        <td id=\"T_fbfb3_row1_col3\" class=\"data row1 col3\" >968</td>\n",
       "            </tr>\n",
       "            <tr>\n",
       "                        <th id=\"T_fbfb3_level0_row2\" class=\"row_heading level0 row2\" >gas_transport</th>\n",
       "                        <td id=\"T_fbfb3_row2_col0\" class=\"data row2 col0\" >3320</td>\n",
       "                        <td id=\"T_fbfb3_row2_col1\" class=\"data row2 col1\" >2209</td>\n",
       "                        <td id=\"T_fbfb3_row2_col2\" class=\"data row2 col2\" >1978</td>\n",
       "                        <td id=\"T_fbfb3_row2_col3\" class=\"data row2 col3\" >4203</td>\n",
       "            </tr>\n",
       "            <tr>\n",
       "                        <th id=\"T_fbfb3_level0_row3\" class=\"row_heading level0 row3\" >grocery_net</th>\n",
       "                        <td id=\"T_fbfb3_row3_col0\" class=\"data row3 col0\" >632</td>\n",
       "                        <td id=\"T_fbfb3_row3_col1\" class=\"data row3 col1\" >276</td>\n",
       "                        <td id=\"T_fbfb3_row3_col2\" class=\"data row3 col2\" >172</td>\n",
       "                        <td id=\"T_fbfb3_row3_col3\" class=\"data row3 col3\" >65</td>\n",
       "            </tr>\n",
       "            <tr>\n",
       "                        <th id=\"T_fbfb3_level0_row4\" class=\"row_heading level0 row4\" >grocery_pos</th>\n",
       "                        <td id=\"T_fbfb3_row4_col0\" class=\"data row4 col0\" >3146</td>\n",
       "                        <td id=\"T_fbfb3_row4_col1\" class=\"data row4 col1\" >1737</td>\n",
       "                        <td id=\"T_fbfb3_row4_col2\" class=\"data row4 col2\" >1328</td>\n",
       "                        <td id=\"T_fbfb3_row4_col3\" class=\"data row4 col3\" >2537</td>\n",
       "            </tr>\n",
       "            <tr>\n",
       "                        <th id=\"T_fbfb3_level0_row5\" class=\"row_heading level0 row5\" >health_fitness</th>\n",
       "                        <td id=\"T_fbfb3_row5_col0\" class=\"data row5 col0\" >1012</td>\n",
       "                        <td id=\"T_fbfb3_row5_col1\" class=\"data row5 col1\" >591</td>\n",
       "                        <td id=\"T_fbfb3_row5_col2\" class=\"data row5 col2\" >431</td>\n",
       "                        <td id=\"T_fbfb3_row5_col3\" class=\"data row5 col3\" >912</td>\n",
       "            </tr>\n",
       "            <tr>\n",
       "                        <th id=\"T_fbfb3_level0_row6\" class=\"row_heading level0 row6\" >home</th>\n",
       "                        <td id=\"T_fbfb3_row6_col0\" class=\"data row6 col0\" >2697</td>\n",
       "                        <td id=\"T_fbfb3_row6_col1\" class=\"data row6 col1\" >1387</td>\n",
       "                        <td id=\"T_fbfb3_row6_col2\" class=\"data row6 col2\" >1129</td>\n",
       "                        <td id=\"T_fbfb3_row6_col3\" class=\"data row6 col3\" >2012</td>\n",
       "            </tr>\n",
       "            <tr>\n",
       "                        <th id=\"T_fbfb3_level0_row7\" class=\"row_heading level0 row7\" >kids_pets</th>\n",
       "                        <td id=\"T_fbfb3_row7_col0\" class=\"data row7 col0\" >1721</td>\n",
       "                        <td id=\"T_fbfb3_row7_col1\" class=\"data row7 col1\" >1115</td>\n",
       "                        <td id=\"T_fbfb3_row7_col2\" class=\"data row7 col2\" >890</td>\n",
       "                        <td id=\"T_fbfb3_row7_col3\" class=\"data row7 col3\" >1915</td>\n",
       "            </tr>\n",
       "            <tr>\n",
       "                        <th id=\"T_fbfb3_level0_row8\" class=\"row_heading level0 row8\" >misc_net</th>\n",
       "                        <td id=\"T_fbfb3_row8_col0\" class=\"data row8 col0\" >623</td>\n",
       "                        <td id=\"T_fbfb3_row8_col1\" class=\"data row8 col1\" >382</td>\n",
       "                        <td id=\"T_fbfb3_row8_col2\" class=\"data row8 col2\" >271</td>\n",
       "                        <td id=\"T_fbfb3_row8_col3\" class=\"data row8 col3\" >653</td>\n",
       "            </tr>\n",
       "            <tr>\n",
       "                        <th id=\"T_fbfb3_level0_row9\" class=\"row_heading level0 row9\" >misc_pos</th>\n",
       "                        <td id=\"T_fbfb3_row9_col0\" class=\"data row9 col0\" >1194</td>\n",
       "                        <td id=\"T_fbfb3_row9_col1\" class=\"data row9 col1\" >607</td>\n",
       "                        <td id=\"T_fbfb3_row9_col2\" class=\"data row9 col2\" >439</td>\n",
       "                        <td id=\"T_fbfb3_row9_col3\" class=\"data row9 col3\" >787</td>\n",
       "            </tr>\n",
       "            <tr>\n",
       "                        <th id=\"T_fbfb3_level0_row10\" class=\"row_heading level0 row10\" >personal_care</th>\n",
       "                        <td id=\"T_fbfb3_row10_col0\" class=\"data row10 col0\" >1028</td>\n",
       "                        <td id=\"T_fbfb3_row10_col1\" class=\"data row10 col1\" >634</td>\n",
       "                        <td id=\"T_fbfb3_row10_col2\" class=\"data row10 col2\" >589</td>\n",
       "                        <td id=\"T_fbfb3_row10_col3\" class=\"data row10 col3\" >1211</td>\n",
       "            </tr>\n",
       "            <tr>\n",
       "                        <th id=\"T_fbfb3_level0_row11\" class=\"row_heading level0 row11\" >shopping_net</th>\n",
       "                        <td id=\"T_fbfb3_row11_col0\" class=\"data row11 col0\" >1624</td>\n",
       "                        <td id=\"T_fbfb3_row11_col1\" class=\"data row11 col1\" >883</td>\n",
       "                        <td id=\"T_fbfb3_row11_col2\" class=\"data row11 col2\" >697</td>\n",
       "                        <td id=\"T_fbfb3_row11_col3\" class=\"data row11 col3\" >1132</td>\n",
       "            </tr>\n",
       "            <tr>\n",
       "                        <th id=\"T_fbfb3_level0_row12\" class=\"row_heading level0 row12\" >shopping_pos</th>\n",
       "                        <td id=\"T_fbfb3_row12_col0\" class=\"data row12 col0\" >2480</td>\n",
       "                        <td id=\"T_fbfb3_row12_col1\" class=\"data row12 col1\" >1259</td>\n",
       "                        <td id=\"T_fbfb3_row12_col2\" class=\"data row12 col2\" >1196</td>\n",
       "                        <td id=\"T_fbfb3_row12_col3\" class=\"data row12 col3\" >1809</td>\n",
       "            </tr>\n",
       "            <tr>\n",
       "                        <th id=\"T_fbfb3_level0_row13\" class=\"row_heading level0 row13\" >travel</th>\n",
       "                        <td id=\"T_fbfb3_row13_col0\" class=\"data row13 col0\" >148</td>\n",
       "                        <td id=\"T_fbfb3_row13_col1\" class=\"data row13 col1\" >139</td>\n",
       "                        <td id=\"T_fbfb3_row13_col2\" class=\"data row13 col2\" >93</td>\n",
       "                        <td id=\"T_fbfb3_row13_col3\" class=\"data row13 col3\" >280</td>\n",
       "            </tr>\n",
       "    </tbody></table>"
      ],
      "text/plain": [
       "<pandas.io.formats.style.Styler at 0x7ff42171c7f0>"
      ]
     },
     "metadata": {},
     "output_type": "display_data"
    },
    {
     "data": {
      "text/html": [
       "<style  type=\"text/css\" >\n",
       "#T_236ee_row0_col0{\n",
       "            background-color:  #eff6fc;\n",
       "            color:  #000000;\n",
       "        }#T_236ee_row0_col1{\n",
       "            background-color:  #f2f7fd;\n",
       "            color:  #000000;\n",
       "        }#T_236ee_row0_col2{\n",
       "            background-color:  #f2f8fd;\n",
       "            color:  #000000;\n",
       "        }#T_236ee_row0_col3{\n",
       "            background-color:  #f5f9fe;\n",
       "            color:  #000000;\n",
       "        }#T_236ee_row1_col0,#T_236ee_row1_col1,#T_236ee_row1_col2,#T_236ee_row1_col3{\n",
       "            background-color:  #08306b;\n",
       "            color:  #f1f1f1;\n",
       "        }#T_236ee_row2_col0,#T_236ee_row2_col1{\n",
       "            background-color:  #bcd7eb;\n",
       "            color:  #000000;\n",
       "        }#T_236ee_row2_col2{\n",
       "            background-color:  #c7dcef;\n",
       "            color:  #000000;\n",
       "        }#T_236ee_row2_col3{\n",
       "            background-color:  #c4daee;\n",
       "            color:  #000000;\n",
       "        }#T_236ee_row3_col0{\n",
       "            background-color:  #4b98ca;\n",
       "            color:  #000000;\n",
       "        }#T_236ee_row3_col1{\n",
       "            background-color:  #66abd4;\n",
       "            color:  #000000;\n",
       "        }#T_236ee_row3_col2{\n",
       "            background-color:  #69add5;\n",
       "            color:  #000000;\n",
       "        }#T_236ee_row3_col3{\n",
       "            background-color:  #7fb9da;\n",
       "            color:  #000000;\n",
       "        }#T_236ee_row4_col0{\n",
       "            background-color:  #ecf4fb;\n",
       "            color:  #000000;\n",
       "        }#T_236ee_row4_col1,#T_236ee_row4_col3{\n",
       "            background-color:  #f1f7fd;\n",
       "            color:  #000000;\n",
       "        }#T_236ee_row4_col2{\n",
       "            background-color:  #eef5fc;\n",
       "            color:  #000000;\n",
       "        }#T_236ee_row5_col0{\n",
       "            background-color:  #d0e1f2;\n",
       "            color:  #000000;\n",
       "        }#T_236ee_row5_col1{\n",
       "            background-color:  #d1e2f3;\n",
       "            color:  #000000;\n",
       "        }#T_236ee_row5_col2,#T_236ee_row5_col3{\n",
       "            background-color:  #d0e2f2;\n",
       "            color:  #000000;\n",
       "        }#T_236ee_row6_col0,#T_236ee_row6_col1,#T_236ee_row6_col2,#T_236ee_row6_col3{\n",
       "            background-color:  #f7fbff;\n",
       "            color:  #000000;\n",
       "        }</style><table id=\"T_236ee_\" ><thead>    <tr>        <th class=\"index_name level0\" >cluster</th>        <th class=\"col_heading level0 col0\" >A</th>        <th class=\"col_heading level0 col1\" >B</th>        <th class=\"col_heading level0 col2\" >C</th>        <th class=\"col_heading level0 col3\" >D</th>    </tr>    <tr>        <th class=\"index_name level0\" >decode_dow_mode</th>        <th class=\"blank\" ></th>        <th class=\"blank\" ></th>        <th class=\"blank\" ></th>        <th class=\"blank\" ></th>    </tr></thead><tbody>\n",
       "                <tr>\n",
       "                        <th id=\"T_236ee_level0_row0\" class=\"row_heading level0 row0\" >Fri</th>\n",
       "                        <td id=\"T_236ee_row0_col0\" class=\"data row0 col0\" >1428</td>\n",
       "                        <td id=\"T_236ee_row0_col1\" class=\"data row0 col1\" >831</td>\n",
       "                        <td id=\"T_236ee_row0_col2\" class=\"data row0 col2\" >631</td>\n",
       "                        <td id=\"T_236ee_row0_col3\" class=\"data row0 col3\" >1205</td>\n",
       "            </tr>\n",
       "            <tr>\n",
       "                        <th id=\"T_236ee_level0_row1\" class=\"row_heading level0 row1\" >Mon</th>\n",
       "                        <td id=\"T_236ee_row1_col0\" class=\"data row1 col0\" >7662</td>\n",
       "                        <td id=\"T_236ee_row1_col1\" class=\"data row1 col1\" >4513</td>\n",
       "                        <td id=\"T_236ee_row1_col2\" class=\"data row1 col2\" >3778</td>\n",
       "                        <td id=\"T_236ee_row1_col3\" class=\"data row1 col3\" >7273</td>\n",
       "            </tr>\n",
       "            <tr>\n",
       "                        <th id=\"T_236ee_level0_row2\" class=\"row_heading level0 row2\" >Sat</th>\n",
       "                        <td id=\"T_236ee_row2_col0\" class=\"data row2 col0\" >3005</td>\n",
       "                        <td id=\"T_236ee_row2_col1\" class=\"data row2 col1\" >1782</td>\n",
       "                        <td id=\"T_236ee_row2_col2\" class=\"data row2 col2\" >1332</td>\n",
       "                        <td id=\"T_236ee_row2_col3\" class=\"data row2 col3\" >2702</td>\n",
       "            </tr>\n",
       "            <tr>\n",
       "                        <th id=\"T_236ee_level0_row3\" class=\"row_heading level0 row3\" >Sun</th>\n",
       "                        <td id=\"T_236ee_row3_col0\" class=\"data row3 col0\" >5022</td>\n",
       "                        <td id=\"T_236ee_row3_col1\" class=\"data row3 col1\" >2666</td>\n",
       "                        <td id=\"T_236ee_row3_col2\" class=\"data row3 col2\" >2180</td>\n",
       "                        <td id=\"T_236ee_row3_col3\" class=\"data row3 col3\" >3883</td>\n",
       "            </tr>\n",
       "            <tr>\n",
       "                        <th id=\"T_236ee_level0_row4\" class=\"row_heading level0 row4\" >Thu</th>\n",
       "                        <td id=\"T_236ee_row4_col0\" class=\"data row4 col0\" >1516</td>\n",
       "                        <td id=\"T_236ee_row4_col1\" class=\"data row4 col1\" >834</td>\n",
       "                        <td id=\"T_236ee_row4_col2\" class=\"data row4 col2\" >694</td>\n",
       "                        <td id=\"T_236ee_row4_col3\" class=\"data row4 col3\" >1319</td>\n",
       "            </tr>\n",
       "            <tr>\n",
       "                        <th id=\"T_236ee_level0_row5\" class=\"row_heading level0 row5\" >Tue</th>\n",
       "                        <td id=\"T_236ee_row5_col0\" class=\"data row5 col0\" >2467</td>\n",
       "                        <td id=\"T_236ee_row5_col1\" class=\"data row5 col1\" >1449</td>\n",
       "                        <td id=\"T_236ee_row5_col2\" class=\"data row5 col2\" >1187</td>\n",
       "                        <td id=\"T_236ee_row5_col3\" class=\"data row5 col3\" >2328</td>\n",
       "            </tr>\n",
       "            <tr>\n",
       "                        <th id=\"T_236ee_level0_row6\" class=\"row_heading level0 row6\" >Wed</th>\n",
       "                        <td id=\"T_236ee_row6_col0\" class=\"data row6 col0\" >1155</td>\n",
       "                        <td id=\"T_236ee_row6_col1\" class=\"data row6 col1\" >713</td>\n",
       "                        <td id=\"T_236ee_row6_col2\" class=\"data row6 col2\" >548</td>\n",
       "                        <td id=\"T_236ee_row6_col3\" class=\"data row6 col3\" >1117</td>\n",
       "            </tr>\n",
       "    </tbody></table>"
      ],
      "text/plain": [
       "<pandas.io.formats.style.Styler at 0x7ff4217523d0>"
      ]
     },
     "metadata": {},
     "output_type": "display_data"
    }
   ],
   "source": [
    "aux = final[final['cluster']!='00'].copy()\n",
    "for cate in ['category_mode','dow_mode']:\n",
    "    aux[f'decode_{cate}'] = encod[cate].inverse_transform(aux[cate].values.tolist())\n",
    "    perf_cat = aux.pivot_table(index='cluster',columns=f'decode_{cate}',values='year',aggfunc='count')\n",
    "    display(perf_cat.T.style.background_gradient(cmap='Blues'))"
   ]
  },
  {
   "cell_type": "markdown",
   "id": "e0834ce9",
   "metadata": {
    "heading_collapsed": true
   },
   "source": [
    "## Export"
   ]
  },
  {
   "cell_type": "code",
   "execution_count": 36,
   "id": "10e3daa9",
   "metadata": {
    "ExecuteTime": {
     "end_time": "2021-05-22T18:18:05.594480Z",
     "start_time": "2021-05-22T18:17:54.616427Z"
    },
    "hidden": true
   },
   "outputs": [
    {
     "data": {
      "text/plain": [
       "(983, 9261)"
      ]
     },
     "execution_count": 36,
     "metadata": {},
     "output_type": "execute_result"
    }
   ],
   "source": [
    "#Save TAD\n",
    "total.to_csv(os.path.join(BASE_DIR,'0503_tad.csv'),index=False)\n",
    "total.shape"
   ]
  },
  {
   "cell_type": "markdown",
   "id": "c097bd04",
   "metadata": {},
   "source": [
    "## End"
   ]
  },
  {
   "cell_type": "code",
   "execution_count": 37,
   "id": "37766442",
   "metadata": {
    "ExecuteTime": {
     "end_time": "2021-05-22T18:18:05.613476Z",
     "start_time": "2021-05-22T18:18:05.596533Z"
    }
   },
   "outputs": [
    {
     "name": "stdout",
     "output_type": "stream",
     "text": [
      "5 minutos con 2.65 segundos\n"
     ]
    },
    {
     "data": {
      "text/html": [
       "\n",
       "                <audio  controls=\"controls\" autoplay=\"autoplay\">\n",
       "                    <source src=\"data:audio/wav;base64,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\" type=\"audio/wav\" />\n",
       "                    Your browser does not support the audio element.\n",
       "                </audio>\n",
       "              "
      ],
      "text/plain": [
       "<IPython.lib.display.Audio object>"
      ]
     },
     "execution_count": 37,
     "metadata": {},
     "output_type": "execute_result"
    }
   ],
   "source": [
    "time_exp(time.time() - start)\n",
    "tone()"
   ]
  }
 ],
 "metadata": {
  "kernelspec": {
   "display_name": "Python 3",
   "language": "python",
   "name": "python3"
  },
  "language_info": {
   "codemirror_mode": {
    "name": "ipython",
    "version": 3
   },
   "file_extension": ".py",
   "mimetype": "text/x-python",
   "name": "python",
   "nbconvert_exporter": "python",
   "pygments_lexer": "ipython3",
   "version": "3.9.1"
  },
  "toc": {
   "base_numbering": 1,
   "nav_menu": {},
   "number_sections": true,
   "sideBar": true,
   "skip_h1_title": true,
   "title_cell": "Table of Contents",
   "title_sidebar": "Contents",
   "toc_cell": false,
   "toc_position": {
    "height": "calc(100% - 180px)",
    "left": "10px",
    "top": "150px",
    "width": "263.391px"
   },
   "toc_section_display": true,
   "toc_window_display": true
  },
  "varInspector": {
   "cols": {
    "lenName": 16,
    "lenType": 16,
    "lenVar": 40
   },
   "kernels_config": {
    "python": {
     "delete_cmd_postfix": "",
     "delete_cmd_prefix": "del ",
     "library": "var_list.py",
     "varRefreshCmd": "print(var_dic_list())"
    },
    "r": {
     "delete_cmd_postfix": ") ",
     "delete_cmd_prefix": "rm(",
     "library": "var_list.r",
     "varRefreshCmd": "cat(var_dic_list()) "
    }
   },
   "types_to_exclude": [
    "module",
    "function",
    "builtin_function_or_method",
    "instance",
    "_Feature"
   ],
   "window_display": false
  }
 },
 "nbformat": 4,
 "nbformat_minor": 5
}
