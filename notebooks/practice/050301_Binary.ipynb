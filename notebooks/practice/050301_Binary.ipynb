{
 "cells": [
  {
   "cell_type": "markdown",
   "metadata": {},
   "source": [
    "# OA strikes back!"
   ]
  },
  {
   "cell_type": "markdown",
   "metadata": {
    "heading_collapsed": true
   },
   "source": [
    "## Import"
   ]
  },
  {
   "cell_type": "code",
   "execution_count": 1,
   "metadata": {
    "ExecuteTime": {
     "end_time": "2021-05-29T18:47:01.690005Z",
     "start_time": "2021-05-29T18:47:01.680339Z"
    },
    "hidden": true
   },
   "outputs": [
    {
     "name": "stdout",
     "output_type": "stream",
     "text": [
      "['.DS_Store', 'FloresHernandezEfrainIsmael_DefaultPayment.csv', 'FloresHernandezEfrainIsmael_PAYAMT1.csv', 'ann.csv', 'logreg.csv', 'train_PAY_AMT1.csv', 'train_default.csv', 'val_PAY_AMT1.csv', 'val_default.csv', 'xgb.csv']\n"
     ]
    }
   ],
   "source": [
    "import os\n",
    "import sys\n",
    "sys.path.append('/Users/efraflores/Desktop/hub/diplo/venv/lib/python3.9/site-packages')\n",
    "\n",
    "BASE_DIR = '/Users/efraflores/Desktop/EF/Diplo/data/05/0505'\n",
    "print(sorted(os.listdir(BASE_DIR)))"
   ]
  },
  {
   "cell_type": "code",
   "execution_count": 2,
   "metadata": {
    "ExecuteTime": {
     "end_time": "2021-05-29T18:47:02.279805Z",
     "start_time": "2021-05-29T18:47:01.693220Z"
    },
    "hidden": true
   },
   "outputs": [
    {
     "data": {
      "text/html": [
       "<div>\n",
       "<style scoped>\n",
       "    .dataframe tbody tr th:only-of-type {\n",
       "        vertical-align: middle;\n",
       "    }\n",
       "\n",
       "    .dataframe tbody tr th {\n",
       "        vertical-align: top;\n",
       "    }\n",
       "\n",
       "    .dataframe thead th {\n",
       "        text-align: right;\n",
       "    }\n",
       "</style>\n",
       "<table border=\"1\" class=\"dataframe\">\n",
       "  <thead>\n",
       "    <tr style=\"text-align: right;\">\n",
       "      <th></th>\n",
       "      <th>LIMIT_BAL</th>\n",
       "      <th>SEX</th>\n",
       "      <th>EDUCATION</th>\n",
       "      <th>MARRIAGE</th>\n",
       "      <th>AGE</th>\n",
       "      <th>PAY_0</th>\n",
       "      <th>PAY_2</th>\n",
       "      <th>PAY_3</th>\n",
       "      <th>PAY_4</th>\n",
       "      <th>PAY_5</th>\n",
       "      <th>...</th>\n",
       "      <th>BILL_AMT4</th>\n",
       "      <th>BILL_AMT5</th>\n",
       "      <th>BILL_AMT6</th>\n",
       "      <th>PAY_AMT1</th>\n",
       "      <th>PAY_AMT2</th>\n",
       "      <th>PAY_AMT3</th>\n",
       "      <th>PAY_AMT4</th>\n",
       "      <th>PAY_AMT5</th>\n",
       "      <th>PAY_AMT6</th>\n",
       "      <th>default.payment.next.month</th>\n",
       "    </tr>\n",
       "    <tr>\n",
       "      <th>ACCOUNT_ID</th>\n",
       "      <th></th>\n",
       "      <th></th>\n",
       "      <th></th>\n",
       "      <th></th>\n",
       "      <th></th>\n",
       "      <th></th>\n",
       "      <th></th>\n",
       "      <th></th>\n",
       "      <th></th>\n",
       "      <th></th>\n",
       "      <th></th>\n",
       "      <th></th>\n",
       "      <th></th>\n",
       "      <th></th>\n",
       "      <th></th>\n",
       "      <th></th>\n",
       "      <th></th>\n",
       "      <th></th>\n",
       "      <th></th>\n",
       "      <th></th>\n",
       "      <th></th>\n",
       "    </tr>\n",
       "  </thead>\n",
       "  <tbody>\n",
       "    <tr>\n",
       "      <th>14444</th>\n",
       "      <td>340000.0</td>\n",
       "      <td>2</td>\n",
       "      <td>2</td>\n",
       "      <td>2</td>\n",
       "      <td>29</td>\n",
       "      <td>0</td>\n",
       "      <td>-1</td>\n",
       "      <td>-1</td>\n",
       "      <td>-1</td>\n",
       "      <td>0</td>\n",
       "      <td>...</td>\n",
       "      <td>100928.0</td>\n",
       "      <td>26083.0</td>\n",
       "      <td>20214.0</td>\n",
       "      <td>16787.0</td>\n",
       "      <td>16514.0</td>\n",
       "      <td>100940.0</td>\n",
       "      <td>20229.0</td>\n",
       "      <td>25.0</td>\n",
       "      <td>8.0</td>\n",
       "      <td>0</td>\n",
       "    </tr>\n",
       "  </tbody>\n",
       "</table>\n",
       "<p>1 rows × 24 columns</p>\n",
       "</div>"
      ],
      "text/plain": [
       "            LIMIT_BAL  SEX  EDUCATION  MARRIAGE  AGE  PAY_0  PAY_2  PAY_3  \\\n",
       "ACCOUNT_ID                                                                  \n",
       "14444        340000.0    2          2         2   29      0     -1     -1   \n",
       "\n",
       "            PAY_4  PAY_5  ...  BILL_AMT4  BILL_AMT5  BILL_AMT6  PAY_AMT1  \\\n",
       "ACCOUNT_ID                ...                                              \n",
       "14444          -1      0  ...   100928.0    26083.0    20214.0   16787.0   \n",
       "\n",
       "            PAY_AMT2  PAY_AMT3  PAY_AMT4  PAY_AMT5  PAY_AMT6  \\\n",
       "ACCOUNT_ID                                                     \n",
       "14444        16514.0  100940.0   20229.0      25.0       8.0   \n",
       "\n",
       "            default.payment.next.month  \n",
       "ACCOUNT_ID                              \n",
       "14444                                0  \n",
       "\n",
       "[1 rows x 24 columns]"
      ]
     },
     "execution_count": 2,
     "metadata": {},
     "output_type": "execute_result"
    }
   ],
   "source": [
    "import pandas as pd\n",
    "\n",
    "df = pd.read_csv(os.path.join(BASE_DIR,'train_default.csv'),sep='|').set_index('ACCOUNT_ID')\n",
    "df.sample()"
   ]
  },
  {
   "cell_type": "markdown",
   "metadata": {
    "heading_collapsed": true
   },
   "source": [
    "## Functions"
   ]
  },
  {
   "cell_type": "markdown",
   "metadata": {
    "heading_collapsed": true,
    "hidden": true
   },
   "source": [
    "### Timing and tone"
   ]
  },
  {
   "cell_type": "code",
   "execution_count": 3,
   "metadata": {
    "ExecuteTime": {
     "end_time": "2021-05-29T18:47:02.286531Z",
     "start_time": "2021-05-29T18:47:02.282176Z"
    },
    "hidden": true
   },
   "outputs": [],
   "source": [
    "import time\n",
    "import numpy as np\n",
    "from IPython.lib.display import Audio\n",
    "\n",
    "start = time.time()\n",
    "def time_exp(x):\n",
    "    #Just print how many minutes and seconds have passed\n",
    "    minutes, seconds = np.floor(x/60), 60*(x/60-np.floor(x/60))\n",
    "    print(f\"{'{:.0f}'.format(minutes)} minutos con {'{:.2f}'.format(seconds)} segundos\")\n",
    "    \n",
    "def tone(a=1000, b=700, play_time_seconds=1, framerate=4410):\n",
    "    #Make a sound! Useful while training models\n",
    "    t = np.linspace(0, play_time_seconds, framerate*play_time_seconds)*np.pi\n",
    "    return Audio(np.sin(a*t)+np.sin(b*t), rate=framerate, autoplay=True)"
   ]
  },
  {
   "cell_type": "markdown",
   "metadata": {
    "heading_collapsed": true,
    "hidden": true
   },
   "source": [
    "### Balance"
   ]
  },
  {
   "cell_type": "code",
   "execution_count": 4,
   "metadata": {
    "ExecuteTime": {
     "end_time": "2021-05-29T18:47:02.295121Z",
     "start_time": "2021-05-29T18:47:02.289287Z"
    },
    "hidden": true
   },
   "outputs": [],
   "source": [
    "def balance(data):\n",
    "    df = data.copy()\n",
    "    for i in range(1,7):\n",
    "        for j in range(1,i+1):\n",
    "            if i!=j:\n",
    "                for pb in ['PAY','BILL']:\n",
    "                    df[f'{pb}_AMT{i}_{j}'] = df[f'{pb}_AMT{i}'] - df[f'{pb}_AMT{j}']\n",
    "                    df[f'{pb}_AMT{i}_{j}'] = df[f'{pb}_AMT{i}'] / (df[f'{pb}_AMT{j}']+1e-10)\n",
    "                    \n",
    "            pay_cols = [x for x in df.columns if x.startswith('PAY_AMT')\n",
    "                        and int(x[-1]) >= i and int(x[-1]) <= j]\n",
    "            bill_cols = [x for x in df.columns if x.startswith('BILL_AMT') \n",
    "                         and int(x[-1]) >= i and int(x[-1]) <= j]\n",
    "            \n",
    "            df[f'BALANCE_ACUM_AMT{i}_{j}'] = (df[pay_cols].sum(axis=1) - \n",
    "                                              df[bill_cols].sum(axis=1))\n",
    "            df[f'BALANCE_ACUM_PERC_AMT{i}_{j}'] = (df[pay_cols].sum(axis=1) / \n",
    "                                                   (df[bill_cols].sum(axis=1)+1e-10))\n",
    "    return df"
   ]
  },
  {
   "cell_type": "markdown",
   "metadata": {
    "heading_collapsed": true,
    "hidden": true
   },
   "source": [
    "### Embedding"
   ]
  },
  {
   "cell_type": "code",
   "execution_count": 5,
   "metadata": {
    "ExecuteTime": {
     "end_time": "2021-05-29T18:47:02.300743Z",
     "start_time": "2021-05-29T18:47:02.297088Z"
    },
    "hidden": true,
    "scrolled": true
   },
   "outputs": [
    {
     "data": {
      "text/plain": [
       "'!pip install tensorflow'"
      ]
     },
     "execution_count": 5,
     "metadata": {},
     "output_type": "execute_result"
    }
   ],
   "source": [
    "'''!pip install tensorflow'''"
   ]
  },
  {
   "cell_type": "code",
   "execution_count": 6,
   "metadata": {
    "ExecuteTime": {
     "end_time": "2021-05-29T18:47:07.498448Z",
     "start_time": "2021-05-29T18:47:02.302281Z"
    },
    "hidden": true
   },
   "outputs": [],
   "source": [
    "from keras.models import Sequential\n",
    "from sklearn.preprocessing import LabelEncoder\n",
    "from keras.layers import Embedding, Dense, Flatten, LeakyReLU\n",
    "\n",
    "def make_embedding(X, feature, target, embedding_size=22, epochs=11):\n",
    "    print(f\"Creating embedding for {feature}\\n\")\n",
    "    le = LabelEncoder()\n",
    "    X_feat = le.fit_transform(X[feature])\n",
    "    \n",
    "    model = Sequential()\n",
    "    model.add(Embedding(input_dim = len(le.classes_), \n",
    "                        output_dim = embedding_size,\n",
    "                        input_length = 1, \n",
    "                        name=\"embedding\"))\n",
    "    model.add(Flatten())\n",
    "    model.add(Dense(len(le.classes_)**3,activation='sigmoid'))\n",
    "    model.add(Dense(len(le.classes_)**2,activation='sigmoid'))\n",
    "    model.add(Dense(1,activation='sigmoid'))\n",
    "              \n",
    "    model.compile(loss = \"binary_crossentropy\", optimizer = \"adam\", metrics=[\"accuracy\"])\n",
    "    model.fit(x = X_feat, y=X[target].to_numpy(), epochs = epochs, batch_size = 500)\n",
    "              \n",
    "    layer = model.get_layer('embedding')\n",
    "    output_embeddings = layer.get_weights()\n",
    "    X_emb = pd.DataFrame(output_embeddings[0], \n",
    "                         columns=[f\"{feature}_embedding_{x}\" for x in \n",
    "                                  range(embedding_size)]).reset_index()\n",
    "    X_emb[feature] = X_emb[\"index\"].map(lambda x: le.inverse_transform([x])[0])\n",
    "    X = X.reset_index().merge(X_emb, on = feature, how=\"inner\").drop(columns=[feature, \"index\"])\n",
    "    return X.set_index('ACCOUNT_ID'), X_emb"
   ]
  },
  {
   "cell_type": "markdown",
   "metadata": {
    "heading_collapsed": true,
    "hidden": true
   },
   "source": [
    "### Autoencoder"
   ]
  },
  {
   "cell_type": "code",
   "execution_count": 7,
   "metadata": {
    "ExecuteTime": {
     "end_time": "2021-05-29T18:47:07.507370Z",
     "start_time": "2021-05-29T18:47:07.500361Z"
    },
    "hidden": true
   },
   "outputs": [],
   "source": [
    "from keras.models import Model\n",
    "from keras import metrics, Input\n",
    "\n",
    "def make_autoencoder(X_train, encoding_dim=40, batch_size=500, epochs=150):\n",
    "    kmetrics = [metrics.RootMeanSquaredError(name='rms'),metrics.MeanAbsoluteError(name='mae')]   \n",
    "\n",
    "    len_input_output = X_train.shape[-1]\n",
    "    input_ = Input(shape=(len_input_output,))\n",
    "    \n",
    "    encoded = Dense(units=encoding_dim**2, activation=LeakyReLU())(input_)\n",
    "    encoded = Dense(units=encoding_dim*2, activation=LeakyReLU())(encoded)\n",
    "    bottleneck = Dense(units=encoding_dim, activation=LeakyReLU())(encoded)\n",
    "    decoded = Dense(units=encoding_dim*2, activation=LeakyReLU())(bottleneck)\n",
    "    decoded = Dense(units=encoding_dim**2, activation=LeakyReLU())(decoded)\n",
    "    output = Dense(units=len_input_output, activation=\"linear\")(decoded)\n",
    "    \n",
    "    autoencoder = Model(inputs=input_, outputs=output)\n",
    "    autoencoder.compile(optimizer='adam', loss='mean_squared_error',metrics=[kmetrics])\n",
    "    autoencoder.fit(X_train, X_train,batch_size=batch_size,epochs=epochs)\n",
    "    \n",
    "    encoder = Model(inputs=input_, outputs=bottleneck)\n",
    "    return autoencoder, encoder"
   ]
  },
  {
   "cell_type": "markdown",
   "metadata": {
    "heading_collapsed": true,
    "hidden": true
   },
   "source": [
    "### Pipeline"
   ]
  },
  {
   "cell_type": "code",
   "execution_count": 8,
   "metadata": {
    "ExecuteTime": {
     "end_time": "2021-05-29T18:47:07.521509Z",
     "start_time": "2021-05-29T18:47:07.512191Z"
    },
    "hidden": true
   },
   "outputs": [],
   "source": [
    "def full_pipeline(data,emb_dict,scaler,\n",
    "                  target = 'default.payment.next.month',\n",
    "                  cat = ['SEX', 'EDUCATION', 'MARRIAGE','PAY_0', 'PAY_2', 'PAY_3', 'PAY_4', 'PAY_5', 'PAY_6'],\n",
    "                  id_col='ACCOUNT_ID',val=False):\n",
    "    df = data.copy()\n",
    "    emb = emb_dict\n",
    "    mm = scaler\n",
    "    \n",
    "    df = balance(df)\n",
    "    num = [x for x in df.columns if x not in cat+[target]]\n",
    "    for i,col in enumerate(cat):\n",
    "        aux = df.reset_index().merge(emb[col].drop(columns='index'),\n",
    "                                     on=col,how='left').fillna(0).set_index(id_col)\n",
    "        if i==0: X = aux\n",
    "        else: X = X.join(aux.filter(like='embedding'))\n",
    "    emb_cols = [x for x in X if x in X.head().filter(like='embedding')]\n",
    "    if val: y_test = None\n",
    "    else: y_test = X[target].values\n",
    "    X_test = X[num+emb_cols].copy()\n",
    "    X_test = pd.DataFrame(mm.transform(X_test),index=X_test.index,columns=X_test.columns)\n",
    "    X_encod = pd.DataFrame(data=encoder.predict(X_test), index=X_test.index)\n",
    "    return X_test,X_encod,y_test"
   ]
  },
  {
   "cell_type": "markdown",
   "metadata": {
    "heading_collapsed": true
   },
   "source": [
    "## Transform"
   ]
  },
  {
   "cell_type": "markdown",
   "metadata": {
    "heading_collapsed": true,
    "hidden": true
   },
   "source": [
    "### Train - test"
   ]
  },
  {
   "cell_type": "code",
   "execution_count": 9,
   "metadata": {
    "ExecuteTime": {
     "end_time": "2021-05-29T18:47:07.568355Z",
     "start_time": "2021-05-29T18:47:07.526455Z"
    },
    "hidden": true
   },
   "outputs": [],
   "source": [
    "from sklearn.model_selection import train_test_split\n",
    "\n",
    "df, test = train_test_split(df,train_size=0.77,random_state=22)"
   ]
  },
  {
   "cell_type": "markdown",
   "metadata": {
    "heading_collapsed": true,
    "hidden": true
   },
   "source": [
    "### Variables"
   ]
  },
  {
   "cell_type": "code",
   "execution_count": 10,
   "metadata": {
    "ExecuteTime": {
     "end_time": "2021-05-29T18:47:07.788998Z",
     "start_time": "2021-05-29T18:47:07.570332Z"
    },
    "hidden": true
   },
   "outputs": [
    {
     "data": {
      "text/html": [
       "<div>\n",
       "<style scoped>\n",
       "    .dataframe tbody tr th:only-of-type {\n",
       "        vertical-align: middle;\n",
       "    }\n",
       "\n",
       "    .dataframe tbody tr th {\n",
       "        vertical-align: top;\n",
       "    }\n",
       "\n",
       "    .dataframe thead th {\n",
       "        text-align: right;\n",
       "    }\n",
       "</style>\n",
       "<table border=\"1\" class=\"dataframe\">\n",
       "  <thead>\n",
       "    <tr style=\"text-align: right;\">\n",
       "      <th></th>\n",
       "      <th>LIMIT_BAL</th>\n",
       "      <th>SEX</th>\n",
       "      <th>EDUCATION</th>\n",
       "      <th>MARRIAGE</th>\n",
       "      <th>AGE</th>\n",
       "      <th>PAY_0</th>\n",
       "      <th>PAY_2</th>\n",
       "      <th>PAY_3</th>\n",
       "      <th>PAY_4</th>\n",
       "      <th>PAY_5</th>\n",
       "      <th>...</th>\n",
       "      <th>PAY_AMT6_4</th>\n",
       "      <th>BILL_AMT6_4</th>\n",
       "      <th>BALANCE_ACUM_AMT6_4</th>\n",
       "      <th>BALANCE_ACUM_PERC_AMT6_4</th>\n",
       "      <th>PAY_AMT6_5</th>\n",
       "      <th>BILL_AMT6_5</th>\n",
       "      <th>BALANCE_ACUM_AMT6_5</th>\n",
       "      <th>BALANCE_ACUM_PERC_AMT6_5</th>\n",
       "      <th>BALANCE_ACUM_AMT6_6</th>\n",
       "      <th>BALANCE_ACUM_PERC_AMT6_6</th>\n",
       "    </tr>\n",
       "    <tr>\n",
       "      <th>ACCOUNT_ID</th>\n",
       "      <th></th>\n",
       "      <th></th>\n",
       "      <th></th>\n",
       "      <th></th>\n",
       "      <th></th>\n",
       "      <th></th>\n",
       "      <th></th>\n",
       "      <th></th>\n",
       "      <th></th>\n",
       "      <th></th>\n",
       "      <th></th>\n",
       "      <th></th>\n",
       "      <th></th>\n",
       "      <th></th>\n",
       "      <th></th>\n",
       "      <th></th>\n",
       "      <th></th>\n",
       "      <th></th>\n",
       "      <th></th>\n",
       "      <th></th>\n",
       "      <th></th>\n",
       "    </tr>\n",
       "  </thead>\n",
       "  <tbody>\n",
       "    <tr>\n",
       "      <th>21392</th>\n",
       "      <td>340000.0</td>\n",
       "      <td>2</td>\n",
       "      <td>1</td>\n",
       "      <td>1</td>\n",
       "      <td>35</td>\n",
       "      <td>1</td>\n",
       "      <td>-1</td>\n",
       "      <td>-1</td>\n",
       "      <td>-1</td>\n",
       "      <td>-2</td>\n",
       "      <td>...</td>\n",
       "      <td>0.0</td>\n",
       "      <td>-201.066667</td>\n",
       "      <td>0.0</td>\n",
       "      <td>0.0</td>\n",
       "      <td>0.0</td>\n",
       "      <td>-201.066667</td>\n",
       "      <td>0.0</td>\n",
       "      <td>0.0</td>\n",
       "      <td>-3016.0</td>\n",
       "      <td>0.0</td>\n",
       "    </tr>\n",
       "  </tbody>\n",
       "</table>\n",
       "<p>1 rows × 96 columns</p>\n",
       "</div>"
      ],
      "text/plain": [
       "            LIMIT_BAL  SEX  EDUCATION  MARRIAGE  AGE  PAY_0  PAY_2  PAY_3  \\\n",
       "ACCOUNT_ID                                                                  \n",
       "21392        340000.0    2          1         1   35      1     -1     -1   \n",
       "\n",
       "            PAY_4  PAY_5  ...  PAY_AMT6_4  BILL_AMT6_4  BALANCE_ACUM_AMT6_4  \\\n",
       "ACCOUNT_ID                ...                                                 \n",
       "21392          -1     -2  ...         0.0  -201.066667                  0.0   \n",
       "\n",
       "            BALANCE_ACUM_PERC_AMT6_4  PAY_AMT6_5  BILL_AMT6_5  \\\n",
       "ACCOUNT_ID                                                      \n",
       "21392                            0.0         0.0  -201.066667   \n",
       "\n",
       "            BALANCE_ACUM_AMT6_5  BALANCE_ACUM_PERC_AMT6_5  \\\n",
       "ACCOUNT_ID                                                  \n",
       "21392                       0.0                       0.0   \n",
       "\n",
       "            BALANCE_ACUM_AMT6_6  BALANCE_ACUM_PERC_AMT6_6  \n",
       "ACCOUNT_ID                                                 \n",
       "21392                   -3016.0                       0.0  \n",
       "\n",
       "[1 rows x 96 columns]"
      ]
     },
     "execution_count": 10,
     "metadata": {},
     "output_type": "execute_result"
    }
   ],
   "source": [
    "df = balance(df)\n",
    "df.sample()"
   ]
  },
  {
   "cell_type": "code",
   "execution_count": 11,
   "metadata": {
    "ExecuteTime": {
     "end_time": "2021-05-29T18:47:07.794098Z",
     "start_time": "2021-05-29T18:47:07.790971Z"
    },
    "hidden": true
   },
   "outputs": [],
   "source": [
    "target = 'default.payment.next.month'\n",
    "cat = ['SEX', 'EDUCATION', 'MARRIAGE','PAY_0', 'PAY_2', 'PAY_3', 'PAY_4', 'PAY_5', 'PAY_6']\n",
    "num = [x for x in df.columns if x not in cat+[target]]"
   ]
  },
  {
   "cell_type": "markdown",
   "metadata": {
    "heading_collapsed": true,
    "hidden": true
   },
   "source": [
    "### Embedding"
   ]
  },
  {
   "cell_type": "code",
   "execution_count": 12,
   "metadata": {
    "ExecuteTime": {
     "end_time": "2021-05-29T18:47:35.507780Z",
     "start_time": "2021-05-29T18:47:07.796018Z"
    },
    "hidden": true,
    "scrolled": true
   },
   "outputs": [
    {
     "name": "stdout",
     "output_type": "stream",
     "text": [
      "Creating embedding for SEX\n",
      "\n",
      "Epoch 1/11\n",
      "9/9 [==============================] - 15s 1ms/step - loss: 0.8945 - accuracy: 0.2269\n",
      "Epoch 2/11\n",
      "9/9 [==============================] - 0s 993us/step - loss: 0.8682 - accuracy: 0.2292\n",
      "Epoch 3/11\n",
      "9/9 [==============================] - 0s 989us/step - loss: 0.8459 - accuracy: 0.2261\n",
      "Epoch 4/11\n",
      "9/9 [==============================] - 0s 978us/step - loss: 0.8226 - accuracy: 0.2277\n",
      "Epoch 5/11\n",
      "9/9 [==============================] - 0s 942us/step - loss: 0.8046 - accuracy: 0.2182\n",
      "Epoch 6/11\n",
      "9/9 [==============================] - 0s 997us/step - loss: 0.7818 - accuracy: 0.2243\n",
      "Epoch 7/11\n",
      "9/9 [==============================] - 0s 931us/step - loss: 0.7617 - accuracy: 0.2265\n",
      "Epoch 8/11\n",
      "9/9 [==============================] - 0s 975us/step - loss: 0.7433 - accuracy: 0.2266\n",
      "Epoch 9/11\n",
      "9/9 [==============================] - 0s 969us/step - loss: 0.7263 - accuracy: 0.2231\n",
      "Epoch 10/11\n",
      "9/9 [==============================] - 0s 943us/step - loss: 0.7091 - accuracy: 0.2280\n",
      "Epoch 11/11\n",
      "9/9 [==============================] - 0s 949us/step - loss: 0.6937 - accuracy: 0.4268\n",
      "Creating embedding for EDUCATION\n",
      "\n",
      "Epoch 1/11\n",
      "9/9 [==============================] - 1s 3ms/step - loss: 0.7489 - accuracy: 0.5076\n",
      "Epoch 2/11\n",
      "9/9 [==============================] - 0s 2ms/step - loss: 0.5927 - accuracy: 0.7699\n",
      "Epoch 3/11\n",
      "9/9 [==============================] - 0s 2ms/step - loss: 0.5608 - accuracy: 0.7698\n",
      "Epoch 4/11\n",
      "9/9 [==============================] - 0s 2ms/step - loss: 0.5374 - accuracy: 0.7782\n",
      "Epoch 5/11\n",
      "9/9 [==============================] - 0s 2ms/step - loss: 0.5293 - accuracy: 0.7792\n",
      "Epoch 6/11\n",
      "9/9 [==============================] - 0s 3ms/step - loss: 0.5251 - accuracy: 0.7817\n",
      "Epoch 7/11\n",
      "9/9 [==============================] - 0s 3ms/step - loss: 0.5341 - accuracy: 0.7742\n",
      "Epoch 8/11\n",
      "9/9 [==============================] - 0s 3ms/step - loss: 0.5372 - accuracy: 0.7712\n",
      "Epoch 9/11\n",
      "9/9 [==============================] - 0s 2ms/step - loss: 0.5384 - accuracy: 0.7706\n",
      "Epoch 10/11\n",
      "9/9 [==============================] - 0s 2ms/step - loss: 0.5362 - accuracy: 0.7719\n",
      "Epoch 11/11\n",
      "9/9 [==============================] - 0s 2ms/step - loss: 0.5368 - accuracy: 0.7711\n",
      "Creating embedding for MARRIAGE\n",
      "\n",
      "Epoch 1/11\n",
      "9/9 [==============================] - 1s 2ms/step - loss: 0.8638 - accuracy: 0.2239\n",
      "Epoch 2/11\n",
      "9/9 [==============================] - 0s 2ms/step - loss: 0.7200 - accuracy: 0.3232\n",
      "Epoch 3/11\n",
      "9/9 [==============================] - 0s 2ms/step - loss: 0.6263 - accuracy: 0.7745\n",
      "Epoch 4/11\n",
      "9/9 [==============================] - 0s 1ms/step - loss: 0.5751 - accuracy: 0.7706\n",
      "Epoch 5/11\n",
      "9/9 [==============================] - 0s 1ms/step - loss: 0.5424 - accuracy: 0.7823\n",
      "Epoch 6/11\n",
      "9/9 [==============================] - 0s 1ms/step - loss: 0.5415 - accuracy: 0.7712\n",
      "Epoch 7/11\n",
      "9/9 [==============================] - 0s 1ms/step - loss: 0.5392 - accuracy: 0.7705\n",
      "Epoch 8/11\n",
      "9/9 [==============================] - 0s 1ms/step - loss: 0.5280 - accuracy: 0.7795\n",
      "Epoch 9/11\n",
      "9/9 [==============================] - 0s 1ms/step - loss: 0.5218 - accuracy: 0.7842\n",
      "Epoch 10/11\n",
      "9/9 [==============================] - 0s 1ms/step - loss: 0.5337 - accuracy: 0.7745\n",
      "Epoch 11/11\n",
      "9/9 [==============================] - 0s 1ms/step - loss: 0.5333 - accuracy: 0.7748\n",
      "Creating embedding for PAY_0\n",
      "\n",
      "Epoch 1/11\n",
      "9/9 [==============================] - 1s 5ms/step - loss: 0.6404 - accuracy: 0.6161\n",
      "Epoch 2/11\n",
      "9/9 [==============================] - 0s 4ms/step - loss: 0.5519 - accuracy: 0.7728\n",
      "Epoch 3/11\n",
      "9/9 [==============================] - 0s 4ms/step - loss: 0.5365 - accuracy: 0.7789\n",
      "Epoch 4/11\n",
      "9/9 [==============================] - 0s 4ms/step - loss: 0.5345 - accuracy: 0.7724\n",
      "Epoch 5/11\n",
      "9/9 [==============================] - 0s 5ms/step - loss: 0.5243 - accuracy: 0.7769\n",
      "Epoch 6/11\n",
      "9/9 [==============================] - 0s 5ms/step - loss: 0.5308 - accuracy: 0.7663\n",
      "Epoch 7/11\n",
      "9/9 [==============================] - 0s 5ms/step - loss: 0.5127 - accuracy: 0.7753\n",
      "Epoch 8/11\n",
      "9/9 [==============================] - 0s 5ms/step - loss: 0.4952 - accuracy: 0.7805\n",
      "Epoch 9/11\n",
      "9/9 [==============================] - 0s 5ms/step - loss: 0.4897 - accuracy: 0.7778\n",
      "Epoch 10/11\n",
      "9/9 [==============================] - 0s 6ms/step - loss: 0.4703 - accuracy: 0.7845\n",
      "Epoch 11/11\n",
      "9/9 [==============================] - 0s 6ms/step - loss: 0.4600 - accuracy: 0.8128\n",
      "Creating embedding for PAY_2\n",
      "\n",
      "Epoch 1/11\n",
      "9/9 [==============================] - 1s 4ms/step - loss: 0.6084 - accuracy: 0.7707\n",
      "Epoch 2/11\n",
      "9/9 [==============================] - 0s 4ms/step - loss: 0.5449 - accuracy: 0.7733\n",
      "Epoch 3/11\n",
      "9/9 [==============================] - 0s 4ms/step - loss: 0.5417 - accuracy: 0.7690\n",
      "Epoch 4/11\n",
      "9/9 [==============================] - 0s 3ms/step - loss: 0.5378 - accuracy: 0.7713\n",
      "Epoch 5/11\n",
      "9/9 [==============================] - 0s 4ms/step - loss: 0.5217 - accuracy: 0.7795\n",
      "Epoch 6/11\n",
      "9/9 [==============================] - 0s 4ms/step - loss: 0.5256 - accuracy: 0.7738\n",
      "Epoch 7/11\n",
      "9/9 [==============================] - 0s 4ms/step - loss: 0.5162 - accuracy: 0.7759\n",
      "Epoch 8/11\n",
      "9/9 [==============================] - 0s 4ms/step - loss: 0.5134 - accuracy: 0.7712\n",
      "Epoch 9/11\n",
      "9/9 [==============================] - 0s 4ms/step - loss: 0.4976 - accuracy: 0.7745\n",
      "Epoch 10/11\n",
      "9/9 [==============================] - 0s 6ms/step - loss: 0.4848 - accuracy: 0.7784\n",
      "Epoch 11/11\n",
      "9/9 [==============================] - 0s 5ms/step - loss: 0.4733 - accuracy: 0.7991\n",
      "Creating embedding for PAY_3\n",
      "\n",
      "Epoch 1/11\n",
      "9/9 [==============================] - 1s 9ms/step - loss: 0.5972 - accuracy: 0.7745\n",
      "Epoch 2/11\n",
      "9/9 [==============================] - 0s 4ms/step - loss: 0.5456 - accuracy: 0.7753\n",
      "Epoch 3/11\n",
      "9/9 [==============================] - 0s 4ms/step - loss: 0.5219 - accuracy: 0.7849\n",
      "Epoch 4/11\n",
      "9/9 [==============================] - 0s 4ms/step - loss: 0.5251 - accuracy: 0.7796\n",
      "Epoch 5/11\n",
      "9/9 [==============================] - 0s 4ms/step - loss: 0.5320 - accuracy: 0.7728\n",
      "Epoch 6/11\n",
      "9/9 [==============================] - 0s 4ms/step - loss: 0.5298 - accuracy: 0.7724\n",
      "Epoch 7/11\n",
      "9/9 [==============================] - 0s 4ms/step - loss: 0.5093 - accuracy: 0.7859\n",
      "Epoch 8/11\n",
      "9/9 [==============================] - 0s 4ms/step - loss: 0.5149 - accuracy: 0.7807\n",
      "Epoch 9/11\n",
      "9/9 [==============================] - 0s 4ms/step - loss: 0.5101 - accuracy: 0.7720\n",
      "Epoch 10/11\n",
      "9/9 [==============================] - 0s 4ms/step - loss: 0.4896 - accuracy: 0.7860\n",
      "Epoch 11/11\n",
      "9/9 [==============================] - 0s 4ms/step - loss: 0.4889 - accuracy: 0.7880\n",
      "Creating embedding for PAY_4\n",
      "\n",
      "Epoch 1/11\n",
      "9/9 [==============================] - 1s 5ms/step - loss: 0.6081 - accuracy: 0.6112\n",
      "Epoch 2/11\n",
      "9/9 [==============================] - 0s 5ms/step - loss: 0.5337 - accuracy: 0.7810\n",
      "Epoch 3/11\n",
      "9/9 [==============================] - 0s 4ms/step - loss: 0.5442 - accuracy: 0.7680\n",
      "Epoch 4/11\n",
      "9/9 [==============================] - 0s 5ms/step - loss: 0.5363 - accuracy: 0.7745\n",
      "Epoch 5/11\n",
      "9/9 [==============================] - 0s 5ms/step - loss: 0.5395 - accuracy: 0.7676\n",
      "Epoch 6/11\n",
      "9/9 [==============================] - 0s 4ms/step - loss: 0.5204 - accuracy: 0.7817\n",
      "Epoch 7/11\n",
      "9/9 [==============================] - 0s 3ms/step - loss: 0.5225 - accuracy: 0.7780\n",
      "Epoch 8/11\n",
      "9/9 [==============================] - 0s 3ms/step - loss: 0.5188 - accuracy: 0.7773\n",
      "Epoch 9/11\n",
      "9/9 [==============================] - 0s 3ms/step - loss: 0.5139 - accuracy: 0.7767\n",
      "Epoch 10/11\n",
      "9/9 [==============================] - 0s 4ms/step - loss: 0.5094 - accuracy: 0.7740\n",
      "Epoch 11/11\n",
      "9/9 [==============================] - 0s 4ms/step - loss: 0.4872 - accuracy: 0.7889\n",
      "Creating embedding for PAY_5\n",
      "\n",
      "Epoch 1/11\n",
      "9/9 [==============================] - 1s 4ms/step - loss: 0.5493 - accuracy: 0.7678\n",
      "Epoch 2/11\n",
      "9/9 [==============================] - 0s 5ms/step - loss: 0.5356 - accuracy: 0.7755\n",
      "Epoch 3/11\n",
      "9/9 [==============================] - 0s 4ms/step - loss: 0.5413 - accuracy: 0.7701\n",
      "Epoch 4/11\n",
      "9/9 [==============================] - 0s 5ms/step - loss: 0.5277 - accuracy: 0.7779\n",
      "Epoch 5/11\n",
      "9/9 [==============================] - 0s 5ms/step - loss: 0.5339 - accuracy: 0.7713\n",
      "Epoch 6/11\n"
     ]
    },
    {
     "name": "stdout",
     "output_type": "stream",
     "text": [
      "9/9 [==============================] - 0s 5ms/step - loss: 0.5215 - accuracy: 0.7790\n",
      "Epoch 7/11\n",
      "9/9 [==============================] - 0s 5ms/step - loss: 0.5269 - accuracy: 0.7734\n",
      "Epoch 8/11\n",
      "9/9 [==============================] - 0s 5ms/step - loss: 0.5178 - accuracy: 0.7727\n",
      "Epoch 9/11\n",
      "9/9 [==============================] - 0s 5ms/step - loss: 0.5086 - accuracy: 0.7751\n",
      "Epoch 10/11\n",
      "9/9 [==============================] - 0s 5ms/step - loss: 0.5065 - accuracy: 0.7759\n",
      "Epoch 11/11\n",
      "9/9 [==============================] - 0s 5ms/step - loss: 0.5111 - accuracy: 0.7808\n",
      "Creating embedding for PAY_6\n",
      "\n",
      "Epoch 1/11\n",
      "9/9 [==============================] - 1s 4ms/step - loss: 0.5395 - accuracy: 0.7815\n",
      "Epoch 2/11\n",
      "9/9 [==============================] - 0s 4ms/step - loss: 0.5287 - accuracy: 0.7794\n",
      "Epoch 3/11\n",
      "9/9 [==============================] - 0s 4ms/step - loss: 0.5402 - accuracy: 0.7705\n",
      "Epoch 4/11\n",
      "9/9 [==============================] - 0s 3ms/step - loss: 0.5309 - accuracy: 0.7759\n",
      "Epoch 5/11\n",
      "9/9 [==============================] - 0s 3ms/step - loss: 0.5354 - accuracy: 0.7697\n",
      "Epoch 6/11\n",
      "9/9 [==============================] - 0s 4ms/step - loss: 0.5215 - accuracy: 0.7795\n",
      "Epoch 7/11\n",
      "9/9 [==============================] - 0s 4ms/step - loss: 0.5203 - accuracy: 0.7779\n",
      "Epoch 8/11\n",
      "9/9 [==============================] - 0s 3ms/step - loss: 0.5164 - accuracy: 0.7768\n",
      "Epoch 9/11\n",
      "9/9 [==============================] - 0s 3ms/step - loss: 0.5154 - accuracy: 0.7733\n",
      "Epoch 10/11\n",
      "9/9 [==============================] - 0s 3ms/step - loss: 0.5164 - accuracy: 0.7673\n",
      "Epoch 11/11\n",
      "9/9 [==============================] - 0s 3ms/step - loss: 0.5035 - accuracy: 0.7807\n",
      "(4331, 293)\n"
     ]
    },
    {
     "data": {
      "text/html": [
       "<div>\n",
       "<style scoped>\n",
       "    .dataframe tbody tr th:only-of-type {\n",
       "        vertical-align: middle;\n",
       "    }\n",
       "\n",
       "    .dataframe tbody tr th {\n",
       "        vertical-align: top;\n",
       "    }\n",
       "\n",
       "    .dataframe thead th {\n",
       "        text-align: right;\n",
       "    }\n",
       "</style>\n",
       "<table border=\"1\" class=\"dataframe\">\n",
       "  <thead>\n",
       "    <tr style=\"text-align: right;\">\n",
       "      <th></th>\n",
       "      <th>LIMIT_BAL</th>\n",
       "      <th>EDUCATION</th>\n",
       "      <th>MARRIAGE</th>\n",
       "      <th>AGE</th>\n",
       "      <th>PAY_0</th>\n",
       "      <th>PAY_2</th>\n",
       "      <th>PAY_3</th>\n",
       "      <th>PAY_4</th>\n",
       "      <th>PAY_5</th>\n",
       "      <th>PAY_6</th>\n",
       "      <th>...</th>\n",
       "      <th>PAY_6_embedding_12</th>\n",
       "      <th>PAY_6_embedding_13</th>\n",
       "      <th>PAY_6_embedding_14</th>\n",
       "      <th>PAY_6_embedding_15</th>\n",
       "      <th>PAY_6_embedding_16</th>\n",
       "      <th>PAY_6_embedding_17</th>\n",
       "      <th>PAY_6_embedding_18</th>\n",
       "      <th>PAY_6_embedding_19</th>\n",
       "      <th>PAY_6_embedding_20</th>\n",
       "      <th>PAY_6_embedding_21</th>\n",
       "    </tr>\n",
       "    <tr>\n",
       "      <th>ACCOUNT_ID</th>\n",
       "      <th></th>\n",
       "      <th></th>\n",
       "      <th></th>\n",
       "      <th></th>\n",
       "      <th></th>\n",
       "      <th></th>\n",
       "      <th></th>\n",
       "      <th></th>\n",
       "      <th></th>\n",
       "      <th></th>\n",
       "      <th></th>\n",
       "      <th></th>\n",
       "      <th></th>\n",
       "      <th></th>\n",
       "      <th></th>\n",
       "      <th></th>\n",
       "      <th></th>\n",
       "      <th></th>\n",
       "      <th></th>\n",
       "      <th></th>\n",
       "      <th></th>\n",
       "    </tr>\n",
       "  </thead>\n",
       "  <tbody>\n",
       "    <tr>\n",
       "      <th>20094</th>\n",
       "      <td>80000.0</td>\n",
       "      <td>3</td>\n",
       "      <td>1</td>\n",
       "      <td>35</td>\n",
       "      <td>2</td>\n",
       "      <td>2</td>\n",
       "      <td>2</td>\n",
       "      <td>2</td>\n",
       "      <td>2</td>\n",
       "      <td>0</td>\n",
       "      <td>...</td>\n",
       "      <td>-0.096402</td>\n",
       "      <td>-0.12379</td>\n",
       "      <td>-0.099009</td>\n",
       "      <td>0.00654</td>\n",
       "      <td>-0.123277</td>\n",
       "      <td>0.049697</td>\n",
       "      <td>0.096703</td>\n",
       "      <td>0.103617</td>\n",
       "      <td>-0.084617</td>\n",
       "      <td>0.117575</td>\n",
       "    </tr>\n",
       "  </tbody>\n",
       "</table>\n",
       "<p>1 rows × 293 columns</p>\n",
       "</div>"
      ],
      "text/plain": [
       "            LIMIT_BAL  EDUCATION  MARRIAGE  AGE  PAY_0  PAY_2  PAY_3  PAY_4  \\\n",
       "ACCOUNT_ID                                                                    \n",
       "20094         80000.0          3         1   35      2      2      2      2   \n",
       "\n",
       "            PAY_5  PAY_6  ...  PAY_6_embedding_12  PAY_6_embedding_13  \\\n",
       "ACCOUNT_ID                ...                                           \n",
       "20094           2      0  ...           -0.096402            -0.12379   \n",
       "\n",
       "            PAY_6_embedding_14  PAY_6_embedding_15  PAY_6_embedding_16  \\\n",
       "ACCOUNT_ID                                                               \n",
       "20094                -0.099009             0.00654           -0.123277   \n",
       "\n",
       "            PAY_6_embedding_17  PAY_6_embedding_18  PAY_6_embedding_19  \\\n",
       "ACCOUNT_ID                                                               \n",
       "20094                 0.049697            0.096703            0.103617   \n",
       "\n",
       "            PAY_6_embedding_20  PAY_6_embedding_21  \n",
       "ACCOUNT_ID                                          \n",
       "20094                -0.084617            0.117575  \n",
       "\n",
       "[1 rows x 293 columns]"
      ]
     },
     "metadata": {},
     "output_type": "display_data"
    }
   ],
   "source": [
    "emb = {}\n",
    "for i,x in enumerate(cat):\n",
    "    aux,emb[x] = make_embedding(df,x,target)\n",
    "    if i==0: X = aux\n",
    "    else: X = X.join(aux.filter(like='embedding'))\n",
    "    \n",
    "print(X.shape)\n",
    "display(X.sample())"
   ]
  },
  {
   "cell_type": "markdown",
   "metadata": {
    "heading_collapsed": true,
    "hidden": true
   },
   "source": [
    "### Autoencoder"
   ]
  },
  {
   "cell_type": "code",
   "execution_count": 13,
   "metadata": {
    "ExecuteTime": {
     "end_time": "2021-05-29T18:47:35.745765Z",
     "start_time": "2021-05-29T18:47:35.510467Z"
    },
    "hidden": true
   },
   "outputs": [],
   "source": [
    "emb_cols = [x for x in X if x in X.head().filter(like='embedding')]\n",
    "\n",
    "y_train = X[target].values\n",
    "X_train = X[num+emb_cols].copy()"
   ]
  },
  {
   "cell_type": "code",
   "execution_count": 14,
   "metadata": {
    "ExecuteTime": {
     "end_time": "2021-05-29T18:47:35.791999Z",
     "start_time": "2021-05-29T18:47:35.747572Z"
    },
    "hidden": true
   },
   "outputs": [],
   "source": [
    "from sklearn.preprocessing import MinMaxScaler\n",
    "mm = MinMaxScaler()\n",
    "X_train = pd.DataFrame(mm.fit_transform(X_train),index=X_train.index,columns=X_train.columns)"
   ]
  },
  {
   "cell_type": "code",
   "execution_count": 15,
   "metadata": {
    "ExecuteTime": {
     "end_time": "2021-05-29T18:48:04.968610Z",
     "start_time": "2021-05-29T18:47:35.793908Z"
    },
    "hidden": true,
    "scrolled": true
   },
   "outputs": [
    {
     "name": "stdout",
     "output_type": "stream",
     "text": [
      "Epoch 1/150\n",
      "9/9 [==============================] - 2s 19ms/step - loss: 0.2183 - rms: 0.4636 - mae: 0.3277\n",
      "Epoch 2/150\n",
      "9/9 [==============================] - 0s 17ms/step - loss: 0.0682 - rms: 0.2609 - mae: 0.1862\n",
      "Epoch 3/150\n",
      "9/9 [==============================] - 0s 17ms/step - loss: 0.0418 - rms: 0.2043 - mae: 0.1418\n",
      "Epoch 4/150\n",
      "9/9 [==============================] - 0s 17ms/step - loss: 0.0279 - rms: 0.1671 - mae: 0.1109\n",
      "Epoch 5/150\n",
      "9/9 [==============================] - 0s 17ms/step - loss: 0.0214 - rms: 0.1461 - mae: 0.0918\n",
      "Epoch 6/150\n",
      "9/9 [==============================] - 0s 17ms/step - loss: 0.0168 - rms: 0.1298 - mae: 0.0795\n",
      "Epoch 7/150\n",
      "9/9 [==============================] - 0s 17ms/step - loss: 0.0137 - rms: 0.1169 - mae: 0.0688\n",
      "Epoch 8/150\n",
      "9/9 [==============================] - 0s 17ms/step - loss: 0.0106 - rms: 0.1031 - mae: 0.0595\n",
      "Epoch 9/150\n",
      "9/9 [==============================] - 0s 18ms/step - loss: 0.0087 - rms: 0.0931 - mae: 0.0540\n",
      "Epoch 10/150\n",
      "9/9 [==============================] - 0s 17ms/step - loss: 0.0070 - rms: 0.0836 - mae: 0.0496\n",
      "Epoch 11/150\n",
      "9/9 [==============================] - 0s 17ms/step - loss: 0.0061 - rms: 0.0784 - mae: 0.0462\n",
      "Epoch 12/150\n",
      "9/9 [==============================] - 0s 18ms/step - loss: 0.0054 - rms: 0.0736 - mae: 0.0434\n",
      "Epoch 13/150\n",
      "9/9 [==============================] - 0s 20ms/step - loss: 0.0050 - rms: 0.0704 - mae: 0.0411\n",
      "Epoch 14/150\n",
      "9/9 [==============================] - 0s 19ms/step - loss: 0.0043 - rms: 0.0659 - mae: 0.0386\n",
      "Epoch 15/150\n",
      "9/9 [==============================] - 0s 22ms/step - loss: 0.0039 - rms: 0.0623 - mae: 0.0367\n",
      "Epoch 16/150\n",
      "9/9 [==============================] - 0s 19ms/step - loss: 0.0035 - rms: 0.0591 - mae: 0.0349\n",
      "Epoch 17/150\n",
      "9/9 [==============================] - 0s 19ms/step - loss: 0.0035 - rms: 0.0590 - mae: 0.0368\n",
      "Epoch 18/150\n",
      "9/9 [==============================] - 0s 19ms/step - loss: 0.0031 - rms: 0.0553 - mae: 0.0328\n",
      "Epoch 19/150\n",
      "9/9 [==============================] - 0s 20ms/step - loss: 0.0028 - rms: 0.0529 - mae: 0.0309\n",
      "Epoch 20/150\n",
      "9/9 [==============================] - 0s 19ms/step - loss: 0.0026 - rms: 0.0506 - mae: 0.0292\n",
      "Epoch 21/150\n",
      "9/9 [==============================] - 0s 19ms/step - loss: 0.0027 - rms: 0.0516 - mae: 0.0308\n",
      "Epoch 22/150\n",
      "9/9 [==============================] - 0s 19ms/step - loss: 0.0024 - rms: 0.0488 - mae: 0.0280\n",
      "Epoch 23/150\n",
      "9/9 [==============================] - 0s 19ms/step - loss: 0.0022 - rms: 0.0472 - mae: 0.0262\n",
      "Epoch 24/150\n",
      "9/9 [==============================] - 0s 20ms/step - loss: 0.0022 - rms: 0.0471 - mae: 0.0268\n",
      "Epoch 25/150\n",
      "9/9 [==============================] - 0s 20ms/step - loss: 0.0023 - rms: 0.0485 - mae: 0.0275\n",
      "Epoch 26/150\n",
      "9/9 [==============================] - 0s 19ms/step - loss: 0.0020 - rms: 0.0453 - mae: 0.0243\n",
      "Epoch 27/150\n",
      "9/9 [==============================] - 0s 19ms/step - loss: 0.0019 - rms: 0.0439 - mae: 0.0231\n",
      "Epoch 28/150\n",
      "9/9 [==============================] - 0s 20ms/step - loss: 0.0019 - rms: 0.0440 - mae: 0.0228\n",
      "Epoch 29/150\n",
      "9/9 [==============================] - 0s 20ms/step - loss: 0.0018 - rms: 0.0429 - mae: 0.0226\n",
      "Epoch 30/150\n",
      "9/9 [==============================] - 0s 20ms/step - loss: 0.0019 - rms: 0.0434 - mae: 0.0227\n",
      "Epoch 31/150\n",
      "9/9 [==============================] - 0s 20ms/step - loss: 0.0024 - rms: 0.0488 - mae: 0.0302\n",
      "Epoch 32/150\n",
      "9/9 [==============================] - 0s 19ms/step - loss: 0.0019 - rms: 0.0438 - mae: 0.0250\n",
      "Epoch 33/150\n",
      "9/9 [==============================] - 0s 20ms/step - loss: 0.0017 - rms: 0.0414 - mae: 0.0227\n",
      "Epoch 34/150\n",
      "9/9 [==============================] - 0s 20ms/step - loss: 0.0016 - rms: 0.0403 - mae: 0.0212\n",
      "Epoch 35/150\n",
      "9/9 [==============================] - 0s 20ms/step - loss: 0.0017 - rms: 0.0406 - mae: 0.0222\n",
      "Epoch 36/150\n",
      "9/9 [==============================] - 0s 20ms/step - loss: 0.0016 - rms: 0.0401 - mae: 0.0226\n",
      "Epoch 37/150\n",
      "9/9 [==============================] - 0s 20ms/step - loss: 0.0015 - rms: 0.0385 - mae: 0.0212\n",
      "Epoch 38/150\n",
      "9/9 [==============================] - 0s 20ms/step - loss: 0.0014 - rms: 0.0377 - mae: 0.0200\n",
      "Epoch 39/150\n",
      "9/9 [==============================] - 0s 20ms/step - loss: 0.0015 - rms: 0.0389 - mae: 0.0218\n",
      "Epoch 40/150\n",
      "9/9 [==============================] - 0s 19ms/step - loss: 0.0015 - rms: 0.0393 - mae: 0.0228\n",
      "Epoch 41/150\n",
      "9/9 [==============================] - 0s 20ms/step - loss: 0.0015 - rms: 0.0381 - mae: 0.0213\n",
      "Epoch 42/150\n",
      "9/9 [==============================] - 0s 19ms/step - loss: 0.0014 - rms: 0.0369 - mae: 0.0204\n",
      "Epoch 43/150\n",
      "9/9 [==============================] - 0s 26ms/step - loss: 0.0013 - rms: 0.0360 - mae: 0.0191\n",
      "Epoch 44/150\n",
      "9/9 [==============================] - 0s 20ms/step - loss: 0.0013 - rms: 0.0360 - mae: 0.0186\n",
      "Epoch 45/150\n",
      "9/9 [==============================] - 0s 20ms/step - loss: 0.0013 - rms: 0.0361 - mae: 0.0189\n",
      "Epoch 46/150\n",
      "9/9 [==============================] - 0s 20ms/step - loss: 0.0016 - rms: 0.0397 - mae: 0.0236\n",
      "Epoch 47/150\n",
      "9/9 [==============================] - 0s 20ms/step - loss: 0.0014 - rms: 0.0375 - mae: 0.0216\n",
      "Epoch 48/150\n",
      "9/9 [==============================] - 0s 20ms/step - loss: 0.0013 - rms: 0.0359 - mae: 0.0193\n",
      "Epoch 49/150\n",
      "9/9 [==============================] - 0s 20ms/step - loss: 0.0013 - rms: 0.0361 - mae: 0.0188\n",
      "Epoch 50/150\n",
      "9/9 [==============================] - 0s 19ms/step - loss: 0.0012 - rms: 0.0353 - mae: 0.0185\n",
      "Epoch 51/150\n",
      "9/9 [==============================] - 0s 20ms/step - loss: 0.0016 - rms: 0.0402 - mae: 0.0239\n",
      "Epoch 52/150\n",
      "9/9 [==============================] - 0s 20ms/step - loss: 0.0013 - rms: 0.0358 - mae: 0.0195\n",
      "Epoch 53/150\n",
      "9/9 [==============================] - 0s 19ms/step - loss: 0.0013 - rms: 0.0354 - mae: 0.0183\n",
      "Epoch 54/150\n",
      "9/9 [==============================] - 0s 20ms/step - loss: 0.0012 - rms: 0.0344 - mae: 0.0174\n",
      "Epoch 55/150\n",
      "9/9 [==============================] - 0s 19ms/step - loss: 0.0013 - rms: 0.0359 - mae: 0.0191\n",
      "Epoch 56/150\n",
      "9/9 [==============================] - 0s 20ms/step - loss: 0.0016 - rms: 0.0405 - mae: 0.0240\n",
      "Epoch 57/150\n",
      "9/9 [==============================] - 0s 20ms/step - loss: 0.0013 - rms: 0.0360 - mae: 0.0196\n",
      "Epoch 58/150\n",
      "9/9 [==============================] - 0s 21ms/step - loss: 0.0012 - rms: 0.0349 - mae: 0.0185\n",
      "Epoch 59/150\n",
      "9/9 [==============================] - 0s 20ms/step - loss: 0.0011 - rms: 0.0335 - mae: 0.0172\n",
      "Epoch 60/150\n",
      "9/9 [==============================] - 0s 20ms/step - loss: 0.0011 - rms: 0.0337 - mae: 0.0170\n",
      "Epoch 61/150\n",
      "9/9 [==============================] - 0s 19ms/step - loss: 0.0013 - rms: 0.0366 - mae: 0.0213\n",
      "Epoch 62/150\n",
      "9/9 [==============================] - 0s 20ms/step - loss: 0.0012 - rms: 0.0342 - mae: 0.0185\n",
      "Epoch 63/150\n",
      "9/9 [==============================] - 0s 19ms/step - loss: 0.0011 - rms: 0.0333 - mae: 0.0176\n",
      "Epoch 64/150\n",
      "9/9 [==============================] - 0s 19ms/step - loss: 0.0012 - rms: 0.0347 - mae: 0.0192\n",
      "Epoch 65/150\n",
      "9/9 [==============================] - 0s 19ms/step - loss: 0.0012 - rms: 0.0340 - mae: 0.0178\n",
      "Epoch 66/150\n",
      "9/9 [==============================] - 0s 19ms/step - loss: 0.0011 - rms: 0.0332 - mae: 0.0168\n",
      "Epoch 67/150\n",
      "9/9 [==============================] - 0s 19ms/step - loss: 0.0010 - rms: 0.0320 - mae: 0.0159\n",
      "Epoch 68/150\n",
      "9/9 [==============================] - 0s 20ms/step - loss: 0.0011 - rms: 0.0327 - mae: 0.0169\n",
      "Epoch 69/150\n",
      "9/9 [==============================] - 0s 19ms/step - loss: 0.0016 - rms: 0.0396 - mae: 0.0249\n",
      "Epoch 70/150\n",
      "9/9 [==============================] - 0s 19ms/step - loss: 0.0012 - rms: 0.0343 - mae: 0.0187\n",
      "Epoch 71/150\n",
      "9/9 [==============================] - 0s 19ms/step - loss: 0.0011 - rms: 0.0325 - mae: 0.0169\n",
      "Epoch 72/150\n",
      "9/9 [==============================] - 0s 19ms/step - loss: 0.0010 - rms: 0.0323 - mae: 0.0161\n",
      "Epoch 73/150\n",
      "9/9 [==============================] - 0s 19ms/step - loss: 0.0010 - rms: 0.0317 - mae: 0.0161\n",
      "Epoch 74/150\n",
      "9/9 [==============================] - 0s 19ms/step - loss: 0.0011 - rms: 0.0325 - mae: 0.0171\n",
      "Epoch 75/150\n",
      "9/9 [==============================] - 0s 18ms/step - loss: 0.0010 - rms: 0.0320 - mae: 0.0166\n",
      "Epoch 76/150\n"
     ]
    },
    {
     "name": "stdout",
     "output_type": "stream",
     "text": [
      "9/9 [==============================] - 0s 18ms/step - loss: 9.8748e-04 - rms: 0.0314 - mae: 0.0164\n",
      "Epoch 77/150\n",
      "9/9 [==============================] - 0s 19ms/step - loss: 0.0012 - rms: 0.0344 - mae: 0.0199\n",
      "Epoch 78/150\n",
      "9/9 [==============================] - 0s 19ms/step - loss: 0.0010 - rms: 0.0317 - mae: 0.0163\n",
      "Epoch 79/150\n",
      "9/9 [==============================] - 0s 19ms/step - loss: 9.4391e-04 - rms: 0.0307 - mae: 0.0154\n",
      "Epoch 80/150\n",
      "9/9 [==============================] - 0s 20ms/step - loss: 0.0010 - rms: 0.0318 - mae: 0.0168\n",
      "Epoch 81/150\n",
      "9/9 [==============================] - 0s 19ms/step - loss: 9.6222e-04 - rms: 0.0310 - mae: 0.0165\n",
      "Epoch 82/150\n",
      "9/9 [==============================] - 0s 19ms/step - loss: 9.5724e-04 - rms: 0.0309 - mae: 0.0159\n",
      "Epoch 83/150\n",
      "9/9 [==============================] - 0s 19ms/step - loss: 9.9737e-04 - rms: 0.0316 - mae: 0.0166\n",
      "Epoch 84/150\n",
      "9/9 [==============================] - 0s 20ms/step - loss: 0.0012 - rms: 0.0339 - mae: 0.0192\n",
      "Epoch 85/150\n",
      "9/9 [==============================] - 0s 19ms/step - loss: 9.6369e-04 - rms: 0.0310 - mae: 0.0166\n",
      "Epoch 86/150\n",
      "9/9 [==============================] - 0s 19ms/step - loss: 9.8756e-04 - rms: 0.0314 - mae: 0.0168\n",
      "Epoch 87/150\n",
      "9/9 [==============================] - 0s 19ms/step - loss: 9.8111e-04 - rms: 0.0313 - mae: 0.0165\n",
      "Epoch 88/150\n",
      "9/9 [==============================] - 0s 19ms/step - loss: 9.3934e-04 - rms: 0.0306 - mae: 0.0157\n",
      "Epoch 89/150\n",
      "9/9 [==============================] - 0s 19ms/step - loss: 9.4441e-04 - rms: 0.0307 - mae: 0.0165\n",
      "Epoch 90/150\n",
      "9/9 [==============================] - 0s 19ms/step - loss: 9.3089e-04 - rms: 0.0305 - mae: 0.0155\n",
      "Epoch 91/150\n",
      "9/9 [==============================] - 0s 20ms/step - loss: 0.0015 - rms: 0.0386 - mae: 0.0244\n",
      "Epoch 92/150\n",
      "9/9 [==============================] - 0s 20ms/step - loss: 0.0011 - rms: 0.0328 - mae: 0.0186\n",
      "Epoch 93/150\n",
      "9/9 [==============================] - 0s 19ms/step - loss: 9.2531e-04 - rms: 0.0304 - mae: 0.0159\n",
      "Epoch 94/150\n",
      "9/9 [==============================] - 0s 19ms/step - loss: 8.8426e-04 - rms: 0.0297 - mae: 0.0153\n",
      "Epoch 95/150\n",
      "9/9 [==============================] - 0s 20ms/step - loss: 0.0011 - rms: 0.0324 - mae: 0.0183\n",
      "Epoch 96/150\n",
      "9/9 [==============================] - 0s 20ms/step - loss: 8.9868e-04 - rms: 0.0300 - mae: 0.0156\n",
      "Epoch 97/150\n",
      "9/9 [==============================] - 0s 20ms/step - loss: 8.4065e-04 - rms: 0.0290 - mae: 0.0143\n",
      "Epoch 98/150\n",
      "9/9 [==============================] - 0s 19ms/step - loss: 8.3104e-04 - rms: 0.0288 - mae: 0.0138\n",
      "Epoch 99/150\n",
      "9/9 [==============================] - 0s 19ms/step - loss: 8.1249e-04 - rms: 0.0285 - mae: 0.0140\n",
      "Epoch 100/150\n",
      "9/9 [==============================] - 0s 20ms/step - loss: 0.0012 - rms: 0.0342 - mae: 0.0204\n",
      "Epoch 101/150\n",
      "9/9 [==============================] - 0s 20ms/step - loss: 0.0011 - rms: 0.0334 - mae: 0.0190\n",
      "Epoch 102/150\n",
      "9/9 [==============================] - 0s 20ms/step - loss: 8.9039e-04 - rms: 0.0298 - mae: 0.0160\n",
      "Epoch 103/150\n",
      "9/9 [==============================] - 0s 20ms/step - loss: 8.6905e-04 - rms: 0.0295 - mae: 0.0152\n",
      "Epoch 104/150\n",
      "9/9 [==============================] - 0s 21ms/step - loss: 7.9790e-04 - rms: 0.0282 - mae: 0.0138\n",
      "Epoch 105/150\n",
      "9/9 [==============================] - 0s 19ms/step - loss: 8.1325e-04 - rms: 0.0285 - mae: 0.0143\n",
      "Epoch 106/150\n",
      "9/9 [==============================] - 0s 20ms/step - loss: 9.4332e-04 - rms: 0.0307 - mae: 0.0170\n",
      "Epoch 107/150\n",
      "9/9 [==============================] - 0s 20ms/step - loss: 8.3703e-04 - rms: 0.0289 - mae: 0.0151\n",
      "Epoch 108/150\n",
      "9/9 [==============================] - 0s 19ms/step - loss: 8.0491e-04 - rms: 0.0284 - mae: 0.0146\n",
      "Epoch 109/150\n",
      "9/9 [==============================] - 0s 19ms/step - loss: 0.0011 - rms: 0.0334 - mae: 0.0196\n",
      "Epoch 110/150\n",
      "9/9 [==============================] - 0s 21ms/step - loss: 9.7489e-04 - rms: 0.0312 - mae: 0.0178\n",
      "Epoch 111/150\n",
      "9/9 [==============================] - 0s 20ms/step - loss: 8.5795e-04 - rms: 0.0293 - mae: 0.0152\n",
      "Epoch 112/150\n",
      "9/9 [==============================] - 0s 21ms/step - loss: 7.8865e-04 - rms: 0.0281 - mae: 0.0141\n",
      "Epoch 113/150\n",
      "9/9 [==============================] - 0s 20ms/step - loss: 7.6915e-04 - rms: 0.0277 - mae: 0.0139\n",
      "Epoch 114/150\n",
      "9/9 [==============================] - 0s 20ms/step - loss: 9.5292e-04 - rms: 0.0309 - mae: 0.0170\n",
      "Epoch 115/150\n",
      "9/9 [==============================] - 0s 21ms/step - loss: 8.2547e-04 - rms: 0.0287 - mae: 0.0158\n",
      "Epoch 116/150\n",
      "9/9 [==============================] - 0s 20ms/step - loss: 7.7140e-04 - rms: 0.0278 - mae: 0.0146\n",
      "Epoch 117/150\n",
      "9/9 [==============================] - 0s 20ms/step - loss: 7.7459e-04 - rms: 0.0278 - mae: 0.0137\n",
      "Epoch 118/150\n",
      "9/9 [==============================] - 0s 20ms/step - loss: 7.5442e-04 - rms: 0.0275 - mae: 0.0141\n",
      "Epoch 119/150\n",
      "9/9 [==============================] - 0s 20ms/step - loss: 7.5315e-04 - rms: 0.0274 - mae: 0.0144\n",
      "Epoch 120/150\n",
      "9/9 [==============================] - 0s 19ms/step - loss: 9.9576e-04 - rms: 0.0315 - mae: 0.0192\n",
      "Epoch 121/150\n",
      "9/9 [==============================] - 0s 20ms/step - loss: 8.7680e-04 - rms: 0.0296 - mae: 0.0173\n",
      "Epoch 122/150\n",
      "9/9 [==============================] - 0s 20ms/step - loss: 7.7414e-04 - rms: 0.0278 - mae: 0.0151\n",
      "Epoch 123/150\n",
      "9/9 [==============================] - 0s 20ms/step - loss: 6.9384e-04 - rms: 0.0263 - mae: 0.0134\n",
      "Epoch 124/150\n",
      "9/9 [==============================] - 0s 20ms/step - loss: 7.2671e-04 - rms: 0.0270 - mae: 0.0142\n",
      "Epoch 125/150\n",
      "9/9 [==============================] - 0s 19ms/step - loss: 8.4137e-04 - rms: 0.0290 - mae: 0.0169\n",
      "Epoch 126/150\n",
      "9/9 [==============================] - 0s 20ms/step - loss: 8.4391e-04 - rms: 0.0290 - mae: 0.0171\n",
      "Epoch 127/150\n",
      "9/9 [==============================] - 0s 19ms/step - loss: 7.3228e-04 - rms: 0.0271 - mae: 0.0149\n",
      "Epoch 128/150\n",
      "9/9 [==============================] - 0s 20ms/step - loss: 6.9580e-04 - rms: 0.0264 - mae: 0.0139\n",
      "Epoch 129/150\n",
      "9/9 [==============================] - 0s 20ms/step - loss: 6.8064e-04 - rms: 0.0261 - mae: 0.0138\n",
      "Epoch 130/150\n",
      "9/9 [==============================] - 0s 20ms/step - loss: 6.5032e-04 - rms: 0.0255 - mae: 0.0134\n",
      "Epoch 131/150\n",
      "9/9 [==============================] - 0s 19ms/step - loss: 7.7632e-04 - rms: 0.0278 - mae: 0.0159\n",
      "Epoch 132/150\n",
      "9/9 [==============================] - 0s 19ms/step - loss: 7.1472e-04 - rms: 0.0267 - mae: 0.0150\n",
      "Epoch 133/150\n",
      "9/9 [==============================] - 0s 20ms/step - loss: 6.8782e-04 - rms: 0.0262 - mae: 0.0139\n",
      "Epoch 134/150\n",
      "9/9 [==============================] - 0s 20ms/step - loss: 7.0267e-04 - rms: 0.0265 - mae: 0.0141\n",
      "Epoch 135/150\n",
      "9/9 [==============================] - 0s 19ms/step - loss: 6.6147e-04 - rms: 0.0257 - mae: 0.0137\n",
      "Epoch 136/150\n",
      "9/9 [==============================] - 0s 19ms/step - loss: 9.3537e-04 - rms: 0.0305 - mae: 0.0188\n",
      "Epoch 137/150\n",
      "9/9 [==============================] - 0s 19ms/step - loss: 8.9226e-04 - rms: 0.0299 - mae: 0.0185\n",
      "Epoch 138/150\n",
      "9/9 [==============================] - 0s 19ms/step - loss: 6.7379e-04 - rms: 0.0259 - mae: 0.0140\n",
      "Epoch 139/150\n",
      "9/9 [==============================] - 0s 19ms/step - loss: 6.4405e-04 - rms: 0.0254 - mae: 0.0129\n",
      "Epoch 140/150\n",
      "9/9 [==============================] - 0s 19ms/step - loss: 6.5867e-04 - rms: 0.0256 - mae: 0.0142\n",
      "Epoch 141/150\n",
      "9/9 [==============================] - 0s 19ms/step - loss: 0.0010 - rms: 0.0323 - mae: 0.0200\n",
      "Epoch 142/150\n",
      "9/9 [==============================] - 0s 20ms/step - loss: 7.6210e-04 - rms: 0.0276 - mae: 0.0159\n",
      "Epoch 143/150\n",
      "9/9 [==============================] - 0s 19ms/step - loss: 6.4395e-04 - rms: 0.0254 - mae: 0.0140\n",
      "Epoch 144/150\n",
      "9/9 [==============================] - 0s 19ms/step - loss: 5.9265e-04 - rms: 0.0243 - mae: 0.0125\n",
      "Epoch 145/150\n",
      "9/9 [==============================] - 0s 19ms/step - loss: 7.9403e-04 - rms: 0.0282 - mae: 0.0166\n",
      "Epoch 146/150\n",
      "9/9 [==============================] - 0s 19ms/step - loss: 7.1567e-04 - rms: 0.0267 - mae: 0.0152\n",
      "Epoch 147/150\n",
      "9/9 [==============================] - 0s 19ms/step - loss: 6.2385e-04 - rms: 0.0250 - mae: 0.0134\n",
      "Epoch 148/150\n",
      "9/9 [==============================] - 0s 20ms/step - loss: 6.4385e-04 - rms: 0.0254 - mae: 0.0143\n",
      "Epoch 149/150\n"
     ]
    },
    {
     "name": "stdout",
     "output_type": "stream",
     "text": [
      "9/9 [==============================] - 0s 19ms/step - loss: 5.9021e-04 - rms: 0.0243 - mae: 0.0127\n",
      "Epoch 150/150\n",
      "9/9 [==============================] - 0s 21ms/step - loss: 7.4738e-04 - rms: 0.0273 - mae: 0.0156\n"
     ]
    }
   ],
   "source": [
    "autoencoder, encoder = make_autoencoder(X_train)"
   ]
  },
  {
   "cell_type": "code",
   "execution_count": 16,
   "metadata": {
    "ExecuteTime": {
     "end_time": "2021-05-29T18:48:05.562802Z",
     "start_time": "2021-05-29T18:48:04.971432Z"
    },
    "hidden": true
   },
   "outputs": [
    {
     "data": {
      "text/html": [
       "<div>\n",
       "<style scoped>\n",
       "    .dataframe tbody tr th:only-of-type {\n",
       "        vertical-align: middle;\n",
       "    }\n",
       "\n",
       "    .dataframe tbody tr th {\n",
       "        vertical-align: top;\n",
       "    }\n",
       "\n",
       "    .dataframe thead th {\n",
       "        text-align: right;\n",
       "    }\n",
       "</style>\n",
       "<table border=\"1\" class=\"dataframe\">\n",
       "  <thead>\n",
       "    <tr style=\"text-align: right;\">\n",
       "      <th></th>\n",
       "      <th>0</th>\n",
       "      <th>1</th>\n",
       "      <th>2</th>\n",
       "      <th>3</th>\n",
       "      <th>4</th>\n",
       "      <th>5</th>\n",
       "      <th>6</th>\n",
       "      <th>7</th>\n",
       "      <th>8</th>\n",
       "      <th>9</th>\n",
       "      <th>...</th>\n",
       "      <th>30</th>\n",
       "      <th>31</th>\n",
       "      <th>32</th>\n",
       "      <th>33</th>\n",
       "      <th>34</th>\n",
       "      <th>35</th>\n",
       "      <th>36</th>\n",
       "      <th>37</th>\n",
       "      <th>38</th>\n",
       "      <th>39</th>\n",
       "    </tr>\n",
       "    <tr>\n",
       "      <th>ACCOUNT_ID</th>\n",
       "      <th></th>\n",
       "      <th></th>\n",
       "      <th></th>\n",
       "      <th></th>\n",
       "      <th></th>\n",
       "      <th></th>\n",
       "      <th></th>\n",
       "      <th></th>\n",
       "      <th></th>\n",
       "      <th></th>\n",
       "      <th></th>\n",
       "      <th></th>\n",
       "      <th></th>\n",
       "      <th></th>\n",
       "      <th></th>\n",
       "      <th></th>\n",
       "      <th></th>\n",
       "      <th></th>\n",
       "      <th></th>\n",
       "      <th></th>\n",
       "      <th></th>\n",
       "    </tr>\n",
       "  </thead>\n",
       "  <tbody>\n",
       "    <tr>\n",
       "      <th>11446</th>\n",
       "      <td>0.317294</td>\n",
       "      <td>0.994946</td>\n",
       "      <td>1.399298</td>\n",
       "      <td>-0.464400</td>\n",
       "      <td>-0.727414</td>\n",
       "      <td>1.392812</td>\n",
       "      <td>1.038190</td>\n",
       "      <td>0.889307</td>\n",
       "      <td>1.689521</td>\n",
       "      <td>-0.669084</td>\n",
       "      <td>...</td>\n",
       "      <td>0.689858</td>\n",
       "      <td>0.652407</td>\n",
       "      <td>1.650110</td>\n",
       "      <td>0.387902</td>\n",
       "      <td>-0.294057</td>\n",
       "      <td>2.240679</td>\n",
       "      <td>2.127872</td>\n",
       "      <td>-0.176391</td>\n",
       "      <td>0.129132</td>\n",
       "      <td>1.085297</td>\n",
       "    </tr>\n",
       "    <tr>\n",
       "      <th>6182</th>\n",
       "      <td>0.298733</td>\n",
       "      <td>1.520576</td>\n",
       "      <td>0.716799</td>\n",
       "      <td>-0.543950</td>\n",
       "      <td>-0.646253</td>\n",
       "      <td>1.186133</td>\n",
       "      <td>2.256117</td>\n",
       "      <td>1.127705</td>\n",
       "      <td>1.190298</td>\n",
       "      <td>-0.779202</td>\n",
       "      <td>...</td>\n",
       "      <td>0.908797</td>\n",
       "      <td>0.016232</td>\n",
       "      <td>1.688911</td>\n",
       "      <td>1.541536</td>\n",
       "      <td>-0.352706</td>\n",
       "      <td>2.705161</td>\n",
       "      <td>1.588462</td>\n",
       "      <td>-0.220503</td>\n",
       "      <td>0.489256</td>\n",
       "      <td>0.720605</td>\n",
       "    </tr>\n",
       "    <tr>\n",
       "      <th>29751</th>\n",
       "      <td>0.336467</td>\n",
       "      <td>1.385456</td>\n",
       "      <td>0.803694</td>\n",
       "      <td>-0.492975</td>\n",
       "      <td>-0.722666</td>\n",
       "      <td>1.648448</td>\n",
       "      <td>1.841466</td>\n",
       "      <td>1.028980</td>\n",
       "      <td>0.809998</td>\n",
       "      <td>-0.880041</td>\n",
       "      <td>...</td>\n",
       "      <td>0.920395</td>\n",
       "      <td>0.040013</td>\n",
       "      <td>2.016186</td>\n",
       "      <td>1.275022</td>\n",
       "      <td>-0.304415</td>\n",
       "      <td>2.555124</td>\n",
       "      <td>1.910320</td>\n",
       "      <td>-0.344932</td>\n",
       "      <td>0.513919</td>\n",
       "      <td>0.497719</td>\n",
       "    </tr>\n",
       "    <tr>\n",
       "      <th>10253</th>\n",
       "      <td>0.394356</td>\n",
       "      <td>1.403658</td>\n",
       "      <td>0.684658</td>\n",
       "      <td>-0.413215</td>\n",
       "      <td>-0.453107</td>\n",
       "      <td>0.646201</td>\n",
       "      <td>1.696243</td>\n",
       "      <td>0.797192</td>\n",
       "      <td>0.906407</td>\n",
       "      <td>-0.720687</td>\n",
       "      <td>...</td>\n",
       "      <td>0.492553</td>\n",
       "      <td>1.719538</td>\n",
       "      <td>0.813455</td>\n",
       "      <td>1.094664</td>\n",
       "      <td>-0.220320</td>\n",
       "      <td>2.698684</td>\n",
       "      <td>2.075214</td>\n",
       "      <td>-0.042801</td>\n",
       "      <td>0.305157</td>\n",
       "      <td>1.599067</td>\n",
       "    </tr>\n",
       "  </tbody>\n",
       "</table>\n",
       "<p>4 rows × 40 columns</p>\n",
       "</div>"
      ],
      "text/plain": [
       "                  0         1         2         3         4         5   \\\n",
       "ACCOUNT_ID                                                               \n",
       "11446       0.317294  0.994946  1.399298 -0.464400 -0.727414  1.392812   \n",
       "6182        0.298733  1.520576  0.716799 -0.543950 -0.646253  1.186133   \n",
       "29751       0.336467  1.385456  0.803694 -0.492975 -0.722666  1.648448   \n",
       "10253       0.394356  1.403658  0.684658 -0.413215 -0.453107  0.646201   \n",
       "\n",
       "                  6         7         8         9   ...        30        31  \\\n",
       "ACCOUNT_ID                                          ...                       \n",
       "11446       1.038190  0.889307  1.689521 -0.669084  ...  0.689858  0.652407   \n",
       "6182        2.256117  1.127705  1.190298 -0.779202  ...  0.908797  0.016232   \n",
       "29751       1.841466  1.028980  0.809998 -0.880041  ...  0.920395  0.040013   \n",
       "10253       1.696243  0.797192  0.906407 -0.720687  ...  0.492553  1.719538   \n",
       "\n",
       "                  32        33        34        35        36        37  \\\n",
       "ACCOUNT_ID                                                               \n",
       "11446       1.650110  0.387902 -0.294057  2.240679  2.127872 -0.176391   \n",
       "6182        1.688911  1.541536 -0.352706  2.705161  1.588462 -0.220503   \n",
       "29751       2.016186  1.275022 -0.304415  2.555124  1.910320 -0.344932   \n",
       "10253       0.813455  1.094664 -0.220320  2.698684  2.075214 -0.042801   \n",
       "\n",
       "                  38        39  \n",
       "ACCOUNT_ID                      \n",
       "11446       0.129132  1.085297  \n",
       "6182        0.489256  0.720605  \n",
       "29751       0.513919  0.497719  \n",
       "10253       0.305157  1.599067  \n",
       "\n",
       "[4 rows x 40 columns]"
      ]
     },
     "execution_count": 16,
     "metadata": {},
     "output_type": "execute_result"
    }
   ],
   "source": [
    "X_encod = pd.DataFrame(data=encoder.predict(X_train), index=X_train.index)\n",
    "X_encod.sample(4)"
   ]
  },
  {
   "cell_type": "markdown",
   "metadata": {
    "heading_collapsed": true
   },
   "source": [
    "## Model"
   ]
  },
  {
   "cell_type": "markdown",
   "metadata": {
    "heading_collapsed": true,
    "hidden": true
   },
   "source": [
    "### Logreg"
   ]
  },
  {
   "cell_type": "code",
   "execution_count": 17,
   "metadata": {
    "ExecuteTime": {
     "end_time": "2021-05-29T18:48:07.126426Z",
     "start_time": "2021-05-29T18:48:05.564838Z"
    },
    "hidden": true
   },
   "outputs": [
    {
     "data": {
      "text/plain": [
       "0.8212883860540291"
      ]
     },
     "execution_count": 17,
     "metadata": {},
     "output_type": "execute_result"
    }
   ],
   "source": [
    "from sklearn.linear_model import LogisticRegression\n",
    "logreg = LogisticRegression(n_jobs=-1)\n",
    "logreg.fit(X_encod,y_train).score(X_encod,y_train)"
   ]
  },
  {
   "cell_type": "markdown",
   "metadata": {
    "heading_collapsed": true,
    "hidden": true
   },
   "source": [
    "### XGBoost"
   ]
  },
  {
   "cell_type": "markdown",
   "metadata": {
    "ExecuteTime": {
     "end_time": "2021-05-29T16:54:35.944128Z",
     "start_time": "2021-05-29T16:54:19.892032Z"
    },
    "hidden": true
   },
   "source": [
    "from xgboost.sklearn import XGBClassifier\n",
    "xgb = XGBClassifier()\n",
    "\n",
    "param_xgb = {'learning_rate':[x/100 for x in range(1,111,10)],\n",
    "             'n_estimators':[x for x in range(1,111,10)],\n",
    "             'max_depth':[x for x in range(1,11,2)], \n",
    "             'min_child_weight':[x for x in range(1,111,10)],\n",
    "             'objective':['count:poisson','multi:softmax'],\n",
    "             'subsample':[x/100 for x in range(50,111,10)], \n",
    "             'colsample_bytree':[x/100 for x in range(50,111,10)], \n",
    "            }\n",
    "\n",
    "from sklearn.model_selection import RandomizedSearchCV\n",
    "search_xgb = RandomizedSearchCV(param_distributions = param_xgb, \n",
    "                                cv = 4, \n",
    "                                n_jobs = -1, \n",
    "                                scoring = 'roc_auc', \n",
    "                                estimator = xgb, \n",
    "                                verbose = 5,\n",
    "                                n_iter = 100,\n",
    "                                random_state = 22)\n",
    "search_xgb.fit(X_encod,y_train).score(X_encod,y_train)"
   ]
  },
  {
   "cell_type": "markdown",
   "metadata": {
    "heading_collapsed": true,
    "hidden": true
   },
   "source": [
    "### ANN"
   ]
  },
  {
   "cell_type": "code",
   "execution_count": 18,
   "metadata": {
    "ExecuteTime": {
     "end_time": "2021-05-29T18:48:48.800447Z",
     "start_time": "2021-05-29T18:48:07.130090Z"
    },
    "hidden": true,
    "scrolled": true
   },
   "outputs": [
    {
     "name": "stdout",
     "output_type": "stream",
     "text": [
      "Epoch 1/100\n",
      "136/136 [==============================] - 2s 3ms/step - loss: 0.4828 - accuracy: 0.7969\n",
      "Epoch 2/100\n",
      "136/136 [==============================] - 0s 3ms/step - loss: 0.4514 - accuracy: 0.8149\n",
      "Epoch 3/100\n",
      "136/136 [==============================] - 0s 3ms/step - loss: 0.4605 - accuracy: 0.8168\n",
      "Epoch 4/100\n",
      "136/136 [==============================] - 0s 3ms/step - loss: 0.4358 - accuracy: 0.8249\n",
      "Epoch 5/100\n",
      "136/136 [==============================] - 0s 3ms/step - loss: 0.4315 - accuracy: 0.8255\n",
      "Epoch 6/100\n",
      "136/136 [==============================] - 0s 3ms/step - loss: 0.4570 - accuracy: 0.8165\n",
      "Epoch 7/100\n",
      "136/136 [==============================] - 0s 3ms/step - loss: 0.4423 - accuracy: 0.8191\n",
      "Epoch 8/100\n",
      "136/136 [==============================] - 0s 3ms/step - loss: 0.4414 - accuracy: 0.8210\n",
      "Epoch 9/100\n",
      "136/136 [==============================] - 0s 3ms/step - loss: 0.4328 - accuracy: 0.8306\n",
      "Epoch 10/100\n",
      "136/136 [==============================] - 0s 3ms/step - loss: 0.4464 - accuracy: 0.8181\n",
      "Epoch 11/100\n",
      "136/136 [==============================] - 0s 3ms/step - loss: 0.4366 - accuracy: 0.8286\n",
      "Epoch 12/100\n",
      "136/136 [==============================] - 0s 3ms/step - loss: 0.4499 - accuracy: 0.8186\n",
      "Epoch 13/100\n",
      "136/136 [==============================] - 0s 3ms/step - loss: 0.4305 - accuracy: 0.8263\n",
      "Epoch 14/100\n",
      "136/136 [==============================] - 0s 3ms/step - loss: 0.4262 - accuracy: 0.8293\n",
      "Epoch 15/100\n",
      "136/136 [==============================] - 0s 3ms/step - loss: 0.4578 - accuracy: 0.8163\n",
      "Epoch 16/100\n",
      "136/136 [==============================] - 0s 3ms/step - loss: 0.4376 - accuracy: 0.8158\n",
      "Epoch 17/100\n",
      "136/136 [==============================] - 0s 3ms/step - loss: 0.4437 - accuracy: 0.8151\n",
      "Epoch 18/100\n",
      "136/136 [==============================] - 0s 3ms/step - loss: 0.4377 - accuracy: 0.8216\n",
      "Epoch 19/100\n",
      "136/136 [==============================] - 0s 3ms/step - loss: 0.4220 - accuracy: 0.8270\n",
      "Epoch 20/100\n",
      "136/136 [==============================] - 0s 3ms/step - loss: 0.4143 - accuracy: 0.8370\n",
      "Epoch 21/100\n",
      "136/136 [==============================] - 0s 3ms/step - loss: 0.4192 - accuracy: 0.8388\n",
      "Epoch 22/100\n",
      "136/136 [==============================] - 0s 3ms/step - loss: 0.4426 - accuracy: 0.8195\n",
      "Epoch 23/100\n",
      "136/136 [==============================] - 0s 3ms/step - loss: 0.4391 - accuracy: 0.8147\n",
      "Epoch 24/100\n",
      "136/136 [==============================] - 0s 3ms/step - loss: 0.4137 - accuracy: 0.8344\n",
      "Epoch 25/100\n",
      "136/136 [==============================] - 0s 3ms/step - loss: 0.4407 - accuracy: 0.8225\n",
      "Epoch 26/100\n",
      "136/136 [==============================] - 1s 4ms/step - loss: 0.4236 - accuracy: 0.8287\n",
      "Epoch 27/100\n",
      "136/136 [==============================] - 0s 3ms/step - loss: 0.4304 - accuracy: 0.8289\n",
      "Epoch 28/100\n",
      "136/136 [==============================] - 0s 3ms/step - loss: 0.4297 - accuracy: 0.8239\n",
      "Epoch 29/100\n",
      "136/136 [==============================] - 0s 3ms/step - loss: 0.4361 - accuracy: 0.8176\n",
      "Epoch 30/100\n",
      "136/136 [==============================] - 0s 3ms/step - loss: 0.4400 - accuracy: 0.8164\n",
      "Epoch 31/100\n",
      "136/136 [==============================] - 0s 3ms/step - loss: 0.4420 - accuracy: 0.8298\n",
      "Epoch 32/100\n",
      "136/136 [==============================] - 0s 3ms/step - loss: 0.4270 - accuracy: 0.8259\n",
      "Epoch 33/100\n",
      "136/136 [==============================] - 0s 3ms/step - loss: 0.4339 - accuracy: 0.8212\n",
      "Epoch 34/100\n",
      "136/136 [==============================] - 0s 3ms/step - loss: 0.4180 - accuracy: 0.8361\n",
      "Epoch 35/100\n",
      "136/136 [==============================] - 0s 3ms/step - loss: 0.4312 - accuracy: 0.8238\n",
      "Epoch 36/100\n",
      "136/136 [==============================] - 0s 3ms/step - loss: 0.4277 - accuracy: 0.8240\n",
      "Epoch 37/100\n",
      "136/136 [==============================] - 0s 3ms/step - loss: 0.4199 - accuracy: 0.8284\n",
      "Epoch 38/100\n",
      "136/136 [==============================] - 0s 3ms/step - loss: 0.4188 - accuracy: 0.8322\n",
      "Epoch 39/100\n",
      "136/136 [==============================] - 0s 3ms/step - loss: 0.4048 - accuracy: 0.8346\n",
      "Epoch 40/100\n",
      "136/136 [==============================] - 0s 3ms/step - loss: 0.4175 - accuracy: 0.8309\n",
      "Epoch 41/100\n",
      "136/136 [==============================] - 0s 3ms/step - loss: 0.4284 - accuracy: 0.8253\n",
      "Epoch 42/100\n",
      "136/136 [==============================] - 0s 3ms/step - loss: 0.4183 - accuracy: 0.8282\n",
      "Epoch 43/100\n",
      "136/136 [==============================] - 0s 3ms/step - loss: 0.4395 - accuracy: 0.8163\n",
      "Epoch 44/100\n",
      "136/136 [==============================] - 0s 3ms/step - loss: 0.4330 - accuracy: 0.8234\n",
      "Epoch 45/100\n",
      "136/136 [==============================] - 0s 3ms/step - loss: 0.4099 - accuracy: 0.8320\n",
      "Epoch 46/100\n",
      "136/136 [==============================] - 0s 3ms/step - loss: 0.4114 - accuracy: 0.8331\n",
      "Epoch 47/100\n",
      "136/136 [==============================] - 0s 3ms/step - loss: 0.4260 - accuracy: 0.8238\n",
      "Epoch 48/100\n",
      "136/136 [==============================] - 0s 3ms/step - loss: 0.4329 - accuracy: 0.8216\n",
      "Epoch 49/100\n",
      "136/136 [==============================] - 0s 3ms/step - loss: 0.4178 - accuracy: 0.8253\n",
      "Epoch 50/100\n",
      "136/136 [==============================] - 0s 3ms/step - loss: 0.4256 - accuracy: 0.8234\n",
      "Epoch 51/100\n",
      "136/136 [==============================] - 0s 3ms/step - loss: 0.4073 - accuracy: 0.8342\n",
      "Epoch 52/100\n",
      "136/136 [==============================] - 0s 3ms/step - loss: 0.4318 - accuracy: 0.8213\n",
      "Epoch 53/100\n",
      "136/136 [==============================] - 0s 3ms/step - loss: 0.4348 - accuracy: 0.8201\n",
      "Epoch 54/100\n",
      "136/136 [==============================] - 0s 3ms/step - loss: 0.4000 - accuracy: 0.8334\n",
      "Epoch 55/100\n",
      "136/136 [==============================] - 0s 3ms/step - loss: 0.4244 - accuracy: 0.8258\n",
      "Epoch 56/100\n",
      "136/136 [==============================] - 0s 3ms/step - loss: 0.4154 - accuracy: 0.8245\n",
      "Epoch 57/100\n",
      "136/136 [==============================] - 0s 3ms/step - loss: 0.4201 - accuracy: 0.8306\n",
      "Epoch 58/100\n",
      "136/136 [==============================] - 0s 3ms/step - loss: 0.4227 - accuracy: 0.8283\n",
      "Epoch 59/100\n",
      "136/136 [==============================] - 0s 3ms/step - loss: 0.4073 - accuracy: 0.8322\n",
      "Epoch 60/100\n",
      "136/136 [==============================] - 0s 3ms/step - loss: 0.4257 - accuracy: 0.8233\n",
      "Epoch 61/100\n",
      "136/136 [==============================] - 0s 3ms/step - loss: 0.4119 - accuracy: 0.8290\n",
      "Epoch 62/100\n",
      "136/136 [==============================] - 0s 3ms/step - loss: 0.4039 - accuracy: 0.8382\n",
      "Epoch 63/100\n",
      "136/136 [==============================] - 0s 3ms/step - loss: 0.4277 - accuracy: 0.8199\n",
      "Epoch 64/100\n",
      "136/136 [==============================] - 0s 3ms/step - loss: 0.4051 - accuracy: 0.8409\n",
      "Epoch 65/100\n",
      "136/136 [==============================] - 0s 3ms/step - loss: 0.4259 - accuracy: 0.8313\n",
      "Epoch 66/100\n",
      "136/136 [==============================] - 0s 3ms/step - loss: 0.4458 - accuracy: 0.8129\n",
      "Epoch 67/100\n",
      "136/136 [==============================] - 0s 3ms/step - loss: 0.4109 - accuracy: 0.8349\n",
      "Epoch 68/100\n",
      "136/136 [==============================] - 0s 3ms/step - loss: 0.4042 - accuracy: 0.8433\n",
      "Epoch 69/100\n",
      "136/136 [==============================] - 0s 3ms/step - loss: 0.4152 - accuracy: 0.8344\n",
      "Epoch 70/100\n",
      "136/136 [==============================] - 0s 3ms/step - loss: 0.4233 - accuracy: 0.8218\n",
      "Epoch 71/100\n",
      "136/136 [==============================] - 0s 3ms/step - loss: 0.4035 - accuracy: 0.8354\n",
      "Epoch 72/100\n",
      "136/136 [==============================] - 0s 3ms/step - loss: 0.4131 - accuracy: 0.8259\n",
      "Epoch 73/100\n",
      "136/136 [==============================] - 0s 3ms/step - loss: 0.4110 - accuracy: 0.8325\n",
      "Epoch 74/100\n",
      "136/136 [==============================] - 0s 3ms/step - loss: 0.4230 - accuracy: 0.8265\n",
      "Epoch 75/100\n",
      "136/136 [==============================] - 0s 3ms/step - loss: 0.4200 - accuracy: 0.8238\n",
      "Epoch 76/100\n",
      "136/136 [==============================] - 0s 3ms/step - loss: 0.4005 - accuracy: 0.8456\n",
      "Epoch 77/100\n",
      "136/136 [==============================] - 0s 3ms/step - loss: 0.4161 - accuracy: 0.8263\n",
      "Epoch 78/100\n",
      "136/136 [==============================] - 0s 3ms/step - loss: 0.3908 - accuracy: 0.8430\n",
      "Epoch 79/100\n",
      "136/136 [==============================] - 0s 3ms/step - loss: 0.4146 - accuracy: 0.8317\n",
      "Epoch 80/100\n",
      "136/136 [==============================] - 0s 3ms/step - loss: 0.4139 - accuracy: 0.8246\n",
      "Epoch 81/100\n"
     ]
    },
    {
     "name": "stdout",
     "output_type": "stream",
     "text": [
      "136/136 [==============================] - 0s 3ms/step - loss: 0.4108 - accuracy: 0.8328\n",
      "Epoch 82/100\n",
      "136/136 [==============================] - 0s 3ms/step - loss: 0.3994 - accuracy: 0.8425\n",
      "Epoch 83/100\n",
      "136/136 [==============================] - 0s 3ms/step - loss: 0.4022 - accuracy: 0.8373\n",
      "Epoch 84/100\n",
      "136/136 [==============================] - 0s 3ms/step - loss: 0.4129 - accuracy: 0.8409\n",
      "Epoch 85/100\n",
      "136/136 [==============================] - 0s 3ms/step - loss: 0.4043 - accuracy: 0.8369\n",
      "Epoch 86/100\n",
      "136/136 [==============================] - 0s 3ms/step - loss: 0.4085 - accuracy: 0.8360\n",
      "Epoch 87/100\n",
      "136/136 [==============================] - 0s 3ms/step - loss: 0.4116 - accuracy: 0.8294\n",
      "Epoch 88/100\n",
      "136/136 [==============================] - 0s 3ms/step - loss: 0.4036 - accuracy: 0.8395\n",
      "Epoch 89/100\n",
      "136/136 [==============================] - 0s 3ms/step - loss: 0.4135 - accuracy: 0.8277\n",
      "Epoch 90/100\n",
      "136/136 [==============================] - 0s 3ms/step - loss: 0.4098 - accuracy: 0.8340\n",
      "Epoch 91/100\n",
      "136/136 [==============================] - 0s 3ms/step - loss: 0.4185 - accuracy: 0.8293\n",
      "Epoch 92/100\n",
      "136/136 [==============================] - 0s 3ms/step - loss: 0.3921 - accuracy: 0.8439\n",
      "Epoch 93/100\n",
      "136/136 [==============================] - 0s 3ms/step - loss: 0.4131 - accuracy: 0.8287\n",
      "Epoch 94/100\n",
      "136/136 [==============================] - 0s 3ms/step - loss: 0.4128 - accuracy: 0.8321\n",
      "Epoch 95/100\n",
      "136/136 [==============================] - 0s 3ms/step - loss: 0.3867 - accuracy: 0.8422\n",
      "Epoch 96/100\n",
      "136/136 [==============================] - 0s 3ms/step - loss: 0.3998 - accuracy: 0.8366\n",
      "Epoch 97/100\n",
      "136/136 [==============================] - 0s 3ms/step - loss: 0.4111 - accuracy: 0.8373\n",
      "Epoch 98/100\n",
      "136/136 [==============================] - 0s 3ms/step - loss: 0.4067 - accuracy: 0.8366\n",
      "Epoch 99/100\n",
      "136/136 [==============================] - 0s 3ms/step - loss: 0.3940 - accuracy: 0.8359\n",
      "Epoch 100/100\n",
      "136/136 [==============================] - 0s 3ms/step - loss: 0.3993 - accuracy: 0.8346\n"
     ]
    },
    {
     "data": {
      "text/plain": [
       "<keras.callbacks.History at 0x7fde9b8bcbe0>"
      ]
     },
     "execution_count": 18,
     "metadata": {},
     "output_type": "execute_result"
    }
   ],
   "source": [
    "x = Input(shape=X_train.shape[-1])\n",
    "    \n",
    "y = Dense(units=700, activation=LeakyReLU())(x)\n",
    "y = Dense(units=400, activation=LeakyReLU())(y)\n",
    "y = Dense(units=100, activation=LeakyReLU())(y)\n",
    "y = Dense(units=50, activation=LeakyReLU())(y)\n",
    "y = Dense(units=30, activation=LeakyReLU())(y)\n",
    "y = Dense(units=10, activation=LeakyReLU())(y)\n",
    "y = Dense(units=1, activation='sigmoid')(y)\n",
    "\n",
    "model_ann = Model(inputs=x, outputs=y)\n",
    "model_ann.compile(optimizer='adam', loss='binary_crossentropy',metrics='accuracy')\n",
    "model_ann.fit(X_train, y_train, epochs=100)"
   ]
  },
  {
   "cell_type": "markdown",
   "metadata": {
    "heading_collapsed": true,
    "hidden": true
   },
   "source": [
    "### Test"
   ]
  },
  {
   "cell_type": "code",
   "execution_count": 19,
   "metadata": {
    "ExecuteTime": {
     "end_time": "2021-05-29T18:48:49.535082Z",
     "start_time": "2021-05-29T18:48:48.802389Z"
    },
    "hidden": true
   },
   "outputs": [
    {
     "data": {
      "text/plain": [
       "0.8006182380216383"
      ]
     },
     "execution_count": 19,
     "metadata": {},
     "output_type": "execute_result"
    }
   ],
   "source": [
    "model = logreg\n",
    "\n",
    "X_test,X_test_encod,y_test = full_pipeline(test,emb,mm)\n",
    "model.score(X_test_encod,y_test)"
   ]
  },
  {
   "cell_type": "code",
   "execution_count": 20,
   "metadata": {
    "ExecuteTime": {
     "end_time": "2021-05-29T18:48:50.314569Z",
     "start_time": "2021-05-29T18:48:49.537874Z"
    },
    "hidden": true
   },
   "outputs": [
    {
     "name": "stdout",
     "output_type": "stream",
     "text": [
      "41/41 [==============================] - 1s 2ms/step - loss: 0.4640 - accuracy: 0.8045\n"
     ]
    },
    {
     "data": {
      "text/plain": [
       "[0.463961660861969, 0.8044822216033936]"
      ]
     },
     "execution_count": 20,
     "metadata": {},
     "output_type": "execute_result"
    }
   ],
   "source": [
    "model = model_ann\n",
    "model.evaluate(X_test,y_test)"
   ]
  },
  {
   "cell_type": "markdown",
   "metadata": {
    "heading_collapsed": true
   },
   "source": [
    "## Export"
   ]
  },
  {
   "cell_type": "code",
   "execution_count": 21,
   "metadata": {
    "ExecuteTime": {
     "end_time": "2021-05-29T18:48:51.470133Z",
     "start_time": "2021-05-29T18:48:50.316649Z"
    },
    "hidden": true
   },
   "outputs": [],
   "source": [
    "val = pd.read_csv(os.path.join(BASE_DIR,'val_default.csv'),sep='|').set_index('ACCOUNT_ID')\n",
    "X_val,X_val_encod,_ = full_pipeline(val,emb,mm,val=True)\n",
    "pred = pd.DataFrame(model.predict(X_val),columns=['y_hat'])\n",
    "pred['y_hat'] = [1 if x>0.5 else 0 for x in pred['y_hat']]\n",
    "final = X_val_encod.reset_index()[['ACCOUNT_ID']].join(pred)\n",
    "final.to_csv(os.path.join(BASE_DIR,'FloresHernandezEfrainIsmael_DefaultPayment.csv'),index=False)"
   ]
  },
  {
   "cell_type": "code",
   "execution_count": 23,
   "metadata": {
    "ExecuteTime": {
     "end_time": "2021-05-29T19:17:07.738203Z",
     "start_time": "2021-05-29T19:17:07.192135Z"
    },
    "hidden": true
   },
   "outputs": [],
   "source": [
    "import pickle\n",
    "\n",
    "#First, save the architecture\n",
    "with open(os.path.join(BASE_DIR,'0504_default_architecture.json'), 'w') as f:\n",
    "    f.write(model.to_json())\n",
    "\n",
    "#Then, the paramaters learned by itself\n",
    "model.save_weights(os.path.join(BASE_DIR,'0504_default_weights.h5'))"
   ]
  },
  {
   "cell_type": "markdown",
   "metadata": {},
   "source": [
    "## End"
   ]
  },
  {
   "cell_type": "code",
   "execution_count": 22,
   "metadata": {
    "ExecuteTime": {
     "end_time": "2021-05-29T18:48:51.483228Z",
     "start_time": "2021-05-29T18:48:51.472039Z"
    }
   },
   "outputs": [
    {
     "name": "stdout",
     "output_type": "stream",
     "text": [
      "1 minutos con 49.19 segundos\n"
     ]
    },
    {
     "data": {
      "text/html": [
       "\n",
       "                <audio  controls=\"controls\" autoplay=\"autoplay\">\n",
       "                    <source src=\"data:audio/wav;base64,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\" type=\"audio/wav\" />\n",
       "                    Your browser does not support the audio element.\n",
       "                </audio>\n",
       "              "
      ],
      "text/plain": [
       "<IPython.lib.display.Audio object>"
      ]
     },
     "execution_count": 22,
     "metadata": {},
     "output_type": "execute_result"
    }
   ],
   "source": [
    "time_exp(time.time() - start)\n",
    "tone()"
   ]
  }
 ],
 "metadata": {
  "kernelspec": {
   "display_name": "Python 3",
   "language": "python",
   "name": "python3"
  },
  "language_info": {
   "codemirror_mode": {
    "name": "ipython",
    "version": 3
   },
   "file_extension": ".py",
   "mimetype": "text/x-python",
   "name": "python",
   "nbconvert_exporter": "python",
   "pygments_lexer": "ipython3",
   "version": "3.9.1"
  },
  "toc": {
   "base_numbering": 1,
   "nav_menu": {},
   "number_sections": true,
   "sideBar": true,
   "skip_h1_title": true,
   "title_cell": "Table of Contents",
   "title_sidebar": "Contents",
   "toc_cell": false,
   "toc_position": {},
   "toc_section_display": true,
   "toc_window_display": true
  },
  "varInspector": {
   "cols": {
    "lenName": 16,
    "lenType": 16,
    "lenVar": 40
   },
   "kernels_config": {
    "python": {
     "delete_cmd_postfix": "",
     "delete_cmd_prefix": "del ",
     "library": "var_list.py",
     "varRefreshCmd": "print(var_dic_list())"
    },
    "r": {
     "delete_cmd_postfix": ") ",
     "delete_cmd_prefix": "rm(",
     "library": "var_list.r",
     "varRefreshCmd": "cat(var_dic_list()) "
    }
   },
   "types_to_exclude": [
    "module",
    "function",
    "builtin_function_or_method",
    "instance",
    "_Feature"
   ],
   "window_display": false
  }
 },
 "nbformat": 4,
 "nbformat_minor": 4
}
