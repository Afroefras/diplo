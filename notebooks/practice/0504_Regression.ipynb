{
 "cells": [
  {
   "cell_type": "markdown",
   "metadata": {},
   "source": [
    "# OA strikes back!"
   ]
  },
  {
   "cell_type": "markdown",
   "metadata": {
    "heading_collapsed": true
   },
   "source": [
    "## Import"
   ]
  },
  {
   "cell_type": "code",
   "execution_count": 1,
   "metadata": {
    "ExecuteTime": {
     "end_time": "2021-05-29T19:15:41.356339Z",
     "start_time": "2021-05-29T19:15:41.344971Z"
    },
    "hidden": true
   },
   "outputs": [
    {
     "name": "stdout",
     "output_type": "stream",
     "text": [
      "['.DS_Store', 'FloresHernandezEfrainIsmael_DefaultPayment.csv', 'FloresHernandezEfrainIsmael_PAYAMT1.csv', 'ann.csv', 'logreg.csv', 'train_PAY_AMT1.csv', 'train_default.csv', 'val_PAY_AMT1.csv', 'val_default.csv', 'xgb.csv']\n"
     ]
    }
   ],
   "source": [
    "import os\n",
    "import sys\n",
    "sys.path.append('/Users/efraflores/Desktop/hub/diplo/venv/lib/python3.9/site-packages')\n",
    "\n",
    "BASE_DIR = '/Users/efraflores/Desktop/EF/Diplo/data/05/0505'\n",
    "print(sorted(os.listdir(BASE_DIR)))"
   ]
  },
  {
   "cell_type": "code",
   "execution_count": 2,
   "metadata": {
    "ExecuteTime": {
     "end_time": "2021-05-29T19:15:41.976175Z",
     "start_time": "2021-05-29T19:15:41.358852Z"
    },
    "hidden": true
   },
   "outputs": [
    {
     "data": {
      "text/html": [
       "<div>\n",
       "<style scoped>\n",
       "    .dataframe tbody tr th:only-of-type {\n",
       "        vertical-align: middle;\n",
       "    }\n",
       "\n",
       "    .dataframe tbody tr th {\n",
       "        vertical-align: top;\n",
       "    }\n",
       "\n",
       "    .dataframe thead th {\n",
       "        text-align: right;\n",
       "    }\n",
       "</style>\n",
       "<table border=\"1\" class=\"dataframe\">\n",
       "  <thead>\n",
       "    <tr style=\"text-align: right;\">\n",
       "      <th></th>\n",
       "      <th>LIMIT_BAL</th>\n",
       "      <th>SEX</th>\n",
       "      <th>EDUCATION</th>\n",
       "      <th>MARRIAGE</th>\n",
       "      <th>AGE</th>\n",
       "      <th>PAY_2</th>\n",
       "      <th>PAY_3</th>\n",
       "      <th>PAY_4</th>\n",
       "      <th>PAY_5</th>\n",
       "      <th>PAY_6</th>\n",
       "      <th>...</th>\n",
       "      <th>BILL_AMT3</th>\n",
       "      <th>BILL_AMT4</th>\n",
       "      <th>BILL_AMT5</th>\n",
       "      <th>BILL_AMT6</th>\n",
       "      <th>PAY_AMT1</th>\n",
       "      <th>PAY_AMT2</th>\n",
       "      <th>PAY_AMT3</th>\n",
       "      <th>PAY_AMT4</th>\n",
       "      <th>PAY_AMT5</th>\n",
       "      <th>PAY_AMT6</th>\n",
       "    </tr>\n",
       "    <tr>\n",
       "      <th>ACCOUNT_ID</th>\n",
       "      <th></th>\n",
       "      <th></th>\n",
       "      <th></th>\n",
       "      <th></th>\n",
       "      <th></th>\n",
       "      <th></th>\n",
       "      <th></th>\n",
       "      <th></th>\n",
       "      <th></th>\n",
       "      <th></th>\n",
       "      <th></th>\n",
       "      <th></th>\n",
       "      <th></th>\n",
       "      <th></th>\n",
       "      <th></th>\n",
       "      <th></th>\n",
       "      <th></th>\n",
       "      <th></th>\n",
       "      <th></th>\n",
       "      <th></th>\n",
       "      <th></th>\n",
       "    </tr>\n",
       "  </thead>\n",
       "  <tbody>\n",
       "    <tr>\n",
       "      <th>9599</th>\n",
       "      <td>240000.0</td>\n",
       "      <td>1</td>\n",
       "      <td>1</td>\n",
       "      <td>1</td>\n",
       "      <td>34</td>\n",
       "      <td>0</td>\n",
       "      <td>-2</td>\n",
       "      <td>-1</td>\n",
       "      <td>0</td>\n",
       "      <td>0</td>\n",
       "      <td>...</td>\n",
       "      <td>0.0</td>\n",
       "      <td>4557.0</td>\n",
       "      <td>7557.0</td>\n",
       "      <td>9275.0</td>\n",
       "      <td>0.0</td>\n",
       "      <td>0.0</td>\n",
       "      <td>4557.0</td>\n",
       "      <td>3000.0</td>\n",
       "      <td>4000.0</td>\n",
       "      <td>2282.0</td>\n",
       "    </tr>\n",
       "  </tbody>\n",
       "</table>\n",
       "<p>1 rows × 22 columns</p>\n",
       "</div>"
      ],
      "text/plain": [
       "            LIMIT_BAL  SEX  EDUCATION  MARRIAGE  AGE  PAY_2  PAY_3  PAY_4  \\\n",
       "ACCOUNT_ID                                                                  \n",
       "9599         240000.0    1          1         1   34      0     -2     -1   \n",
       "\n",
       "            PAY_5  PAY_6  ...  BILL_AMT3  BILL_AMT4  BILL_AMT5  BILL_AMT6  \\\n",
       "ACCOUNT_ID                ...                                               \n",
       "9599            0      0  ...        0.0     4557.0     7557.0     9275.0   \n",
       "\n",
       "            PAY_AMT1  PAY_AMT2  PAY_AMT3  PAY_AMT4  PAY_AMT5  PAY_AMT6  \n",
       "ACCOUNT_ID                                                              \n",
       "9599             0.0       0.0    4557.0    3000.0    4000.0    2282.0  \n",
       "\n",
       "[1 rows x 22 columns]"
      ]
     },
     "execution_count": 2,
     "metadata": {},
     "output_type": "execute_result"
    }
   ],
   "source": [
    "import pandas as pd\n",
    "\n",
    "df = pd.read_csv(os.path.join(BASE_DIR,'train_PAY_AMT1.csv'),sep='|').set_index('ACCOUNT_ID')\n",
    "df.sample()"
   ]
  },
  {
   "cell_type": "markdown",
   "metadata": {
    "heading_collapsed": true
   },
   "source": [
    "## Functions"
   ]
  },
  {
   "cell_type": "markdown",
   "metadata": {
    "heading_collapsed": true,
    "hidden": true
   },
   "source": [
    "### Timing and tone"
   ]
  },
  {
   "cell_type": "code",
   "execution_count": 3,
   "metadata": {
    "ExecuteTime": {
     "end_time": "2021-05-29T19:15:41.984238Z",
     "start_time": "2021-05-29T19:15:41.979302Z"
    },
    "hidden": true
   },
   "outputs": [],
   "source": [
    "import time\n",
    "import numpy as np\n",
    "from IPython.lib.display import Audio\n",
    "\n",
    "start = time.time()\n",
    "def time_exp(x):\n",
    "    #Just print how many minutes and seconds have passed\n",
    "    minutes, seconds = np.floor(x/60), 60*(x/60-np.floor(x/60))\n",
    "    print(f\"{'{:.0f}'.format(minutes)} minutos con {'{:.2f}'.format(seconds)} segundos\")\n",
    "    \n",
    "def tone(a=1000, b=700, play_time_seconds=1, framerate=4410):\n",
    "    #Make a sound! Useful while training models\n",
    "    t = np.linspace(0, play_time_seconds, framerate*play_time_seconds)*np.pi\n",
    "    return Audio(np.sin(a*t)+np.sin(b*t), rate=framerate, autoplay=True)"
   ]
  },
  {
   "cell_type": "markdown",
   "metadata": {
    "heading_collapsed": true,
    "hidden": true
   },
   "source": [
    "### Balance"
   ]
  },
  {
   "cell_type": "code",
   "execution_count": 4,
   "metadata": {
    "ExecuteTime": {
     "end_time": "2021-05-29T19:15:41.992696Z",
     "start_time": "2021-05-29T19:15:41.986729Z"
    },
    "hidden": true
   },
   "outputs": [],
   "source": [
    "def balance(data):\n",
    "    df = data.copy()\n",
    "    for i in range(2,7):\n",
    "        for j in range(2,i+1):\n",
    "            if i!=j:\n",
    "                for pb in ['PAY','BILL']:\n",
    "                    df[f'{pb}_AMT{i}_{j}'] = df[f'{pb}_AMT{i}'] - df[f'{pb}_AMT{j}']\n",
    "                    df[f'{pb}_AMT{i}_{j}'] = df[f'{pb}_AMT{i}'] / (df[f'{pb}_AMT{j}']+1e-10)\n",
    "                    \n",
    "            pay_cols = [x for x in df.columns if x.startswith('PAY_AMT')\n",
    "                        and int(x[-1]) >= i and int(x[-1]) <= j]\n",
    "            bill_cols = [x for x in df.columns if x.startswith('BILL_AMT') \n",
    "                         and int(x[-1]) >= i and int(x[-1]) <= j]\n",
    "            \n",
    "            df[f'BALANCE_ACUM_AMT{i}_{j}'] = (df[pay_cols].sum(axis=1) - \n",
    "                                              df[bill_cols].sum(axis=1))\n",
    "            df[f'BALANCE_ACUM_PERC_AMT{i}_{j}'] = (df[pay_cols].sum(axis=1) / \n",
    "                                                   (df[bill_cols].sum(axis=1)+1e-10))\n",
    "    return df"
   ]
  },
  {
   "cell_type": "markdown",
   "metadata": {
    "heading_collapsed": true,
    "hidden": true
   },
   "source": [
    "### Autoencoder"
   ]
  },
  {
   "cell_type": "code",
   "execution_count": 5,
   "metadata": {
    "ExecuteTime": {
     "end_time": "2021-05-29T19:15:46.644317Z",
     "start_time": "2021-05-29T19:15:41.994928Z"
    },
    "hidden": true
   },
   "outputs": [],
   "source": [
    "from keras.models import Model\n",
    "from keras import metrics, Input\n",
    "from keras.layers import Dense, LeakyReLU\n",
    "\n",
    "def make_autoencoder(X_train, encoding_dim=32, batch_size=500, epochs=150):\n",
    "    kmetrics = [metrics.RootMeanSquaredError(name='rms'),metrics.MeanAbsoluteError(name='mae')]   \n",
    "\n",
    "    len_input_output = X_train.shape[-1]\n",
    "    input_ = Input(shape=(len_input_output,))\n",
    "    \n",
    "    encoded = Dense(units=encoding_dim**2, activation=LeakyReLU())(input_)\n",
    "    encoded = Dense(units=encoding_dim*2, activation=LeakyReLU())(encoded)\n",
    "    bottleneck = Dense(units=encoding_dim, activation=LeakyReLU())(encoded)\n",
    "    decoded = Dense(units=encoding_dim*2, activation=LeakyReLU())(bottleneck)\n",
    "    decoded = Dense(units=encoding_dim**2, activation=LeakyReLU())(decoded)\n",
    "    output = Dense(units=len_input_output, activation=\"linear\")(decoded)\n",
    "    \n",
    "    autoencoder = Model(inputs=input_, outputs=output)\n",
    "    autoencoder.compile(optimizer='adam', loss='mean_squared_error',metrics=[kmetrics])\n",
    "    autoencoder.fit(X_train, X_train,batch_size=batch_size,epochs=epochs)\n",
    "    \n",
    "    encoder = Model(inputs=input_, outputs=bottleneck)\n",
    "    return autoencoder, encoder"
   ]
  },
  {
   "cell_type": "markdown",
   "metadata": {
    "heading_collapsed": true,
    "hidden": true
   },
   "source": [
    "### R2"
   ]
  },
  {
   "cell_type": "code",
   "execution_count": 6,
   "metadata": {
    "ExecuteTime": {
     "end_time": "2021-05-29T19:15:46.653961Z",
     "start_time": "2021-05-29T19:15:46.647220Z"
    },
    "hidden": true
   },
   "outputs": [],
   "source": [
    "from tensorflow.keras import backend as K\n",
    "\n",
    "def r2(y_true, y_pred):\n",
    "    res =  K.sum(K.square(y_true-y_pred)) \n",
    "    tot = K.sum(K.square(y_true-K.mean(y_true))) \n",
    "    return (1-res/(tot+K.epsilon()))"
   ]
  },
  {
   "cell_type": "markdown",
   "metadata": {
    "heading_collapsed": true,
    "hidden": true
   },
   "source": [
    "### Pipeline"
   ]
  },
  {
   "cell_type": "code",
   "execution_count": 7,
   "metadata": {
    "ExecuteTime": {
     "end_time": "2021-05-29T19:15:46.665304Z",
     "start_time": "2021-05-29T19:15:46.657744Z"
    },
    "hidden": true
   },
   "outputs": [],
   "source": [
    "def full_pipeline(data,\n",
    "                  encod_obj,prep_obj,\n",
    "                  cat_cols,num_cols,\n",
    "                  target_col,id_col='ACCOUNT_ID',\n",
    "                  val=False):\n",
    "    df = data.copy()\n",
    "    encoder = encod_obj\n",
    "    prep = prep_obj\n",
    "    cat = cat_cols\n",
    "    num = num_cols\n",
    "    target = target_col\n",
    "    \n",
    "    df = balance(df)\n",
    "    if val: y_test = None\n",
    "    else: y_test = df[target].values\n",
    "    X_test = df[cat+num].copy()\n",
    "    X_test = pd.DataFrame(prep.transform(X_test),\n",
    "                          index=X_test.index,columns=X_test.columns)\n",
    "    X_encod = pd.DataFrame(encoder.predict(X_test), index=X_test.index)\n",
    "    return X_test,X_encod,y_test"
   ]
  },
  {
   "cell_type": "markdown",
   "metadata": {
    "heading_collapsed": true
   },
   "source": [
    "## Transform"
   ]
  },
  {
   "cell_type": "markdown",
   "metadata": {
    "heading_collapsed": true,
    "hidden": true
   },
   "source": [
    "### Train - test"
   ]
  },
  {
   "cell_type": "code",
   "execution_count": 8,
   "metadata": {
    "ExecuteTime": {
     "end_time": "2021-05-29T19:15:47.331081Z",
     "start_time": "2021-05-29T19:15:46.672405Z"
    },
    "hidden": true
   },
   "outputs": [],
   "source": [
    "from sklearn.model_selection import train_test_split\n",
    "\n",
    "df, test = train_test_split(df,train_size=0.87,random_state=22)"
   ]
  },
  {
   "cell_type": "markdown",
   "metadata": {
    "heading_collapsed": true,
    "hidden": true
   },
   "source": [
    "### Variables"
   ]
  },
  {
   "cell_type": "code",
   "execution_count": 9,
   "metadata": {
    "ExecuteTime": {
     "end_time": "2021-05-29T19:15:47.486943Z",
     "start_time": "2021-05-29T19:15:47.334383Z"
    },
    "hidden": true
   },
   "outputs": [
    {
     "data": {
      "text/html": [
       "<div>\n",
       "<style scoped>\n",
       "    .dataframe tbody tr th:only-of-type {\n",
       "        vertical-align: middle;\n",
       "    }\n",
       "\n",
       "    .dataframe tbody tr th {\n",
       "        vertical-align: top;\n",
       "    }\n",
       "\n",
       "    .dataframe thead th {\n",
       "        text-align: right;\n",
       "    }\n",
       "</style>\n",
       "<table border=\"1\" class=\"dataframe\">\n",
       "  <thead>\n",
       "    <tr style=\"text-align: right;\">\n",
       "      <th></th>\n",
       "      <th>LIMIT_BAL</th>\n",
       "      <th>SEX</th>\n",
       "      <th>EDUCATION</th>\n",
       "      <th>MARRIAGE</th>\n",
       "      <th>AGE</th>\n",
       "      <th>PAY_2</th>\n",
       "      <th>PAY_3</th>\n",
       "      <th>PAY_4</th>\n",
       "      <th>PAY_5</th>\n",
       "      <th>PAY_6</th>\n",
       "      <th>...</th>\n",
       "      <th>PAY_AMT6_4</th>\n",
       "      <th>BILL_AMT6_4</th>\n",
       "      <th>BALANCE_ACUM_AMT6_4</th>\n",
       "      <th>BALANCE_ACUM_PERC_AMT6_4</th>\n",
       "      <th>PAY_AMT6_5</th>\n",
       "      <th>BILL_AMT6_5</th>\n",
       "      <th>BALANCE_ACUM_AMT6_5</th>\n",
       "      <th>BALANCE_ACUM_PERC_AMT6_5</th>\n",
       "      <th>BALANCE_ACUM_AMT6_6</th>\n",
       "      <th>BALANCE_ACUM_PERC_AMT6_6</th>\n",
       "    </tr>\n",
       "    <tr>\n",
       "      <th>ACCOUNT_ID</th>\n",
       "      <th></th>\n",
       "      <th></th>\n",
       "      <th></th>\n",
       "      <th></th>\n",
       "      <th></th>\n",
       "      <th></th>\n",
       "      <th></th>\n",
       "      <th></th>\n",
       "      <th></th>\n",
       "      <th></th>\n",
       "      <th></th>\n",
       "      <th></th>\n",
       "      <th></th>\n",
       "      <th></th>\n",
       "      <th></th>\n",
       "      <th></th>\n",
       "      <th></th>\n",
       "      <th></th>\n",
       "      <th></th>\n",
       "      <th></th>\n",
       "      <th></th>\n",
       "    </tr>\n",
       "  </thead>\n",
       "  <tbody>\n",
       "    <tr>\n",
       "      <th>25086</th>\n",
       "      <td>180000.0</td>\n",
       "      <td>2</td>\n",
       "      <td>2</td>\n",
       "      <td>2</td>\n",
       "      <td>34</td>\n",
       "      <td>0</td>\n",
       "      <td>0</td>\n",
       "      <td>0</td>\n",
       "      <td>0</td>\n",
       "      <td>0</td>\n",
       "      <td>...</td>\n",
       "      <td>1.0</td>\n",
       "      <td>1.005484</td>\n",
       "      <td>0.0</td>\n",
       "      <td>0.0</td>\n",
       "      <td>1.086957</td>\n",
       "      <td>1.012982</td>\n",
       "      <td>0.0</td>\n",
       "      <td>0.0</td>\n",
       "      <td>-122419.0</td>\n",
       "      <td>0.039241</td>\n",
       "    </tr>\n",
       "  </tbody>\n",
       "</table>\n",
       "<p>1 rows × 72 columns</p>\n",
       "</div>"
      ],
      "text/plain": [
       "            LIMIT_BAL  SEX  EDUCATION  MARRIAGE  AGE  PAY_2  PAY_3  PAY_4  \\\n",
       "ACCOUNT_ID                                                                  \n",
       "25086        180000.0    2          2         2   34      0      0      0   \n",
       "\n",
       "            PAY_5  PAY_6  ...  PAY_AMT6_4  BILL_AMT6_4  BALANCE_ACUM_AMT6_4  \\\n",
       "ACCOUNT_ID                ...                                                 \n",
       "25086           0      0  ...         1.0     1.005484                  0.0   \n",
       "\n",
       "            BALANCE_ACUM_PERC_AMT6_4  PAY_AMT6_5  BILL_AMT6_5  \\\n",
       "ACCOUNT_ID                                                      \n",
       "25086                            0.0    1.086957     1.012982   \n",
       "\n",
       "            BALANCE_ACUM_AMT6_5  BALANCE_ACUM_PERC_AMT6_5  \\\n",
       "ACCOUNT_ID                                                  \n",
       "25086                       0.0                       0.0   \n",
       "\n",
       "            BALANCE_ACUM_AMT6_6  BALANCE_ACUM_PERC_AMT6_6  \n",
       "ACCOUNT_ID                                                 \n",
       "25086                 -122419.0                  0.039241  \n",
       "\n",
       "[1 rows x 72 columns]"
      ]
     },
     "execution_count": 9,
     "metadata": {},
     "output_type": "execute_result"
    }
   ],
   "source": [
    "df = balance(df)\n",
    "df.sample()"
   ]
  },
  {
   "cell_type": "code",
   "execution_count": 10,
   "metadata": {
    "ExecuteTime": {
     "end_time": "2021-05-29T19:15:47.491691Z",
     "start_time": "2021-05-29T19:15:47.488795Z"
    },
    "hidden": true
   },
   "outputs": [],
   "source": [
    "target = 'PAY_AMT1'\n",
    "cat = ['SEX', 'EDUCATION', 'MARRIAGE','PAY_2', 'PAY_3', 'PAY_4', 'PAY_5', 'PAY_6']\n",
    "num = [x for x in df.columns if x not in cat+[target]]"
   ]
  },
  {
   "cell_type": "markdown",
   "metadata": {
    "heading_collapsed": true,
    "hidden": true
   },
   "source": [
    "### Preprocessing"
   ]
  },
  {
   "cell_type": "code",
   "execution_count": 11,
   "metadata": {
    "ExecuteTime": {
     "end_time": "2021-05-29T19:15:47.497855Z",
     "start_time": "2021-05-29T19:15:47.493555Z"
    },
    "hidden": true
   },
   "outputs": [],
   "source": [
    "y_train = df[target].values\n",
    "X_train = df[cat+num].copy()"
   ]
  },
  {
   "cell_type": "code",
   "execution_count": 12,
   "metadata": {
    "ExecuteTime": {
     "end_time": "2021-05-29T19:15:47.660896Z",
     "start_time": "2021-05-29T19:15:47.499511Z"
    },
    "hidden": true
   },
   "outputs": [],
   "source": [
    "'''!pip install category_encoders'''\n",
    "from category_encoders.cat_boost import CatBoostEncoder\n",
    "#Encoder para categóricas\n",
    "encod = CatBoostEncoder()\n",
    "\n",
    "from sklearn.preprocessing import MinMaxScaler\n",
    "#Escala para numéricas\n",
    "mm_x = MinMaxScaler()\n",
    "\n",
    "from sklearn.compose import ColumnTransformer\n",
    "#Se aplicará transformación para cada tipo de columnas\n",
    "prep = ColumnTransformer(transformers=[('Cat_encod', encod, cat),\n",
    "                                       ('Scale', mm_x, num)])\n",
    "\n",
    "X_train = pd.DataFrame(prep.fit_transform(X_train,y_train),\n",
    "                       index=X_train.index,columns=X_train.columns)"
   ]
  },
  {
   "cell_type": "markdown",
   "metadata": {
    "heading_collapsed": true,
    "hidden": true
   },
   "source": [
    "### Autoencoder"
   ]
  },
  {
   "cell_type": "code",
   "execution_count": 13,
   "metadata": {
    "ExecuteTime": {
     "end_time": "2021-05-29T19:16:16.658218Z",
     "start_time": "2021-05-29T19:15:47.663159Z"
    },
    "hidden": true,
    "scrolled": true
   },
   "outputs": [
    {
     "name": "stdout",
     "output_type": "stream",
     "text": [
      "Epoch 1/150\n",
      "10/10 [==============================] - 16s 7ms/step - loss: 0.1953 - rms: 0.4390 - mae: 0.1656\n",
      "Epoch 2/150\n",
      "10/10 [==============================] - 0s 6ms/step - loss: 0.0512 - rms: 0.2263 - mae: 0.0980\n",
      "Epoch 3/150\n",
      "10/10 [==============================] - 0s 7ms/step - loss: 0.0370 - rms: 0.1924 - mae: 0.0771\n",
      "Epoch 4/150\n",
      "10/10 [==============================] - 0s 7ms/step - loss: 0.0280 - rms: 0.1672 - mae: 0.0667\n",
      "Epoch 5/150\n",
      "10/10 [==============================] - 0s 7ms/step - loss: 0.0192 - rms: 0.1384 - mae: 0.0556\n",
      "Epoch 6/150\n",
      "10/10 [==============================] - 0s 7ms/step - loss: 0.0153 - rms: 0.1235 - mae: 0.0507\n",
      "Epoch 7/150\n",
      "10/10 [==============================] - 0s 7ms/step - loss: 0.0106 - rms: 0.1031 - mae: 0.0440\n",
      "Epoch 8/150\n",
      "10/10 [==============================] - 0s 7ms/step - loss: 0.0075 - rms: 0.0868 - mae: 0.0402\n",
      "Epoch 9/150\n",
      "10/10 [==============================] - 0s 7ms/step - loss: 0.0054 - rms: 0.0732 - mae: 0.0353\n",
      "Epoch 10/150\n",
      "10/10 [==============================] - 0s 7ms/step - loss: 0.0040 - rms: 0.0636 - mae: 0.0312\n",
      "Epoch 11/150\n",
      "10/10 [==============================] - 0s 7ms/step - loss: 0.0031 - rms: 0.0559 - mae: 0.0277\n",
      "Epoch 12/150\n",
      "10/10 [==============================] - 0s 7ms/step - loss: 0.0029 - rms: 0.0537 - mae: 0.0260\n",
      "Epoch 13/150\n",
      "10/10 [==============================] - 0s 7ms/step - loss: 0.0026 - rms: 0.0513 - mae: 0.0247\n",
      "Epoch 14/150\n",
      "10/10 [==============================] - 0s 7ms/step - loss: 0.0024 - rms: 0.0485 - mae: 0.0232\n",
      "Epoch 15/150\n",
      "10/10 [==============================] - 0s 7ms/step - loss: 0.0020 - rms: 0.0444 - mae: 0.0217\n",
      "Epoch 16/150\n",
      "10/10 [==============================] - 0s 7ms/step - loss: 0.0017 - rms: 0.0411 - mae: 0.0205\n",
      "Epoch 17/150\n",
      "10/10 [==============================] - 0s 7ms/step - loss: 0.0015 - rms: 0.0385 - mae: 0.0192\n",
      "Epoch 18/150\n",
      "10/10 [==============================] - 0s 7ms/step - loss: 0.0013 - rms: 0.0366 - mae: 0.0180\n",
      "Epoch 19/150\n",
      "10/10 [==============================] - 0s 7ms/step - loss: 0.0012 - rms: 0.0351 - mae: 0.0171\n",
      "Epoch 20/150\n",
      "10/10 [==============================] - 0s 7ms/step - loss: 0.0012 - rms: 0.0350 - mae: 0.0167\n",
      "Epoch 21/150\n",
      "10/10 [==============================] - 0s 7ms/step - loss: 0.0012 - rms: 0.0341 - mae: 0.0162\n",
      "Epoch 22/150\n",
      "10/10 [==============================] - 0s 7ms/step - loss: 0.0011 - rms: 0.0332 - mae: 0.0160\n",
      "Epoch 23/150\n",
      "10/10 [==============================] - 0s 6ms/step - loss: 0.0011 - rms: 0.0326 - mae: 0.0157\n",
      "Epoch 24/150\n",
      "10/10 [==============================] - 0s 7ms/step - loss: 0.0010 - rms: 0.0319 - mae: 0.0155\n",
      "Epoch 25/150\n",
      "10/10 [==============================] - 0s 7ms/step - loss: 9.5216e-04 - rms: 0.0308 - mae: 0.0152\n",
      "Epoch 26/150\n",
      "10/10 [==============================] - 0s 7ms/step - loss: 9.2199e-04 - rms: 0.0304 - mae: 0.0149\n",
      "Epoch 27/150\n",
      "10/10 [==============================] - 0s 7ms/step - loss: 9.2358e-04 - rms: 0.0304 - mae: 0.0151\n",
      "Epoch 28/150\n",
      "10/10 [==============================] - 0s 7ms/step - loss: 9.0229e-04 - rms: 0.0300 - mae: 0.0150\n",
      "Epoch 29/150\n",
      "10/10 [==============================] - 0s 7ms/step - loss: 8.1077e-04 - rms: 0.0285 - mae: 0.0145\n",
      "Epoch 30/150\n",
      "10/10 [==============================] - 0s 7ms/step - loss: 8.8010e-04 - rms: 0.0297 - mae: 0.0156\n",
      "Epoch 31/150\n",
      "10/10 [==============================] - 0s 7ms/step - loss: 8.2174e-04 - rms: 0.0287 - mae: 0.0151\n",
      "Epoch 32/150\n",
      "10/10 [==============================] - 0s 7ms/step - loss: 7.2344e-04 - rms: 0.0269 - mae: 0.0143\n",
      "Epoch 33/150\n",
      "10/10 [==============================] - 0s 7ms/step - loss: 6.8571e-04 - rms: 0.0262 - mae: 0.0136\n",
      "Epoch 34/150\n",
      "10/10 [==============================] - 0s 7ms/step - loss: 6.7464e-04 - rms: 0.0259 - mae: 0.0134\n",
      "Epoch 35/150\n",
      "10/10 [==============================] - 0s 7ms/step - loss: 7.3497e-04 - rms: 0.0271 - mae: 0.0142\n",
      "Epoch 36/150\n",
      "10/10 [==============================] - 0s 7ms/step - loss: 6.3157e-04 - rms: 0.0251 - mae: 0.0127\n",
      "Epoch 37/150\n",
      "10/10 [==============================] - 0s 7ms/step - loss: 6.4202e-04 - rms: 0.0253 - mae: 0.0125\n",
      "Epoch 38/150\n",
      "10/10 [==============================] - 0s 7ms/step - loss: 6.1722e-04 - rms: 0.0248 - mae: 0.0126\n",
      "Epoch 39/150\n",
      "10/10 [==============================] - 0s 7ms/step - loss: 6.6200e-04 - rms: 0.0257 - mae: 0.0130\n",
      "Epoch 40/150\n",
      "10/10 [==============================] - 0s 7ms/step - loss: 6.0341e-04 - rms: 0.0246 - mae: 0.0125\n",
      "Epoch 41/150\n",
      "10/10 [==============================] - 0s 7ms/step - loss: 5.9692e-04 - rms: 0.0244 - mae: 0.0120\n",
      "Epoch 42/150\n",
      "10/10 [==============================] - 0s 7ms/step - loss: 5.1475e-04 - rms: 0.0227 - mae: 0.0112\n",
      "Epoch 43/150\n",
      "10/10 [==============================] - 0s 7ms/step - loss: 4.9490e-04 - rms: 0.0222 - mae: 0.0111\n",
      "Epoch 44/150\n",
      "10/10 [==============================] - 0s 7ms/step - loss: 4.8722e-04 - rms: 0.0221 - mae: 0.0111\n",
      "Epoch 45/150\n",
      "10/10 [==============================] - 0s 7ms/step - loss: 4.6877e-04 - rms: 0.0216 - mae: 0.0111\n",
      "Epoch 46/150\n",
      "10/10 [==============================] - 0s 7ms/step - loss: 4.8613e-04 - rms: 0.0220 - mae: 0.0109\n",
      "Epoch 47/150\n",
      "10/10 [==============================] - 0s 7ms/step - loss: 5.3243e-04 - rms: 0.0231 - mae: 0.0114\n",
      "Epoch 48/150\n",
      "10/10 [==============================] - 0s 7ms/step - loss: 5.2072e-04 - rms: 0.0228 - mae: 0.0112\n",
      "Epoch 49/150\n",
      "10/10 [==============================] - 0s 7ms/step - loss: 5.7613e-04 - rms: 0.0240 - mae: 0.0117\n",
      "Epoch 50/150\n",
      "10/10 [==============================] - 0s 7ms/step - loss: 5.2692e-04 - rms: 0.0229 - mae: 0.0115\n",
      "Epoch 51/150\n",
      "10/10 [==============================] - 0s 7ms/step - loss: 4.5726e-04 - rms: 0.0214 - mae: 0.0107\n",
      "Epoch 52/150\n",
      "10/10 [==============================] - 0s 7ms/step - loss: 4.7611e-04 - rms: 0.0218 - mae: 0.0109\n",
      "Epoch 53/150\n",
      "10/10 [==============================] - 0s 7ms/step - loss: 4.1798e-04 - rms: 0.0204 - mae: 0.0104\n",
      "Epoch 54/150\n",
      "10/10 [==============================] - 0s 7ms/step - loss: 4.2575e-04 - rms: 0.0206 - mae: 0.0106\n",
      "Epoch 55/150\n",
      "10/10 [==============================] - 0s 8ms/step - loss: 5.0433e-04 - rms: 0.0224 - mae: 0.0110\n",
      "Epoch 56/150\n",
      "10/10 [==============================] - 0s 7ms/step - loss: 5.1894e-04 - rms: 0.0228 - mae: 0.0118\n",
      "Epoch 57/150\n",
      "10/10 [==============================] - 0s 7ms/step - loss: 4.3935e-04 - rms: 0.0210 - mae: 0.0105\n",
      "Epoch 58/150\n",
      "10/10 [==============================] - 0s 8ms/step - loss: 4.4113e-04 - rms: 0.0210 - mae: 0.0101\n",
      "Epoch 59/150\n",
      "10/10 [==============================] - 0s 7ms/step - loss: 4.4180e-04 - rms: 0.0210 - mae: 0.0105\n",
      "Epoch 60/150\n",
      "10/10 [==============================] - 0s 10ms/step - loss: 4.4603e-04 - rms: 0.0211 - mae: 0.0112\n",
      "Epoch 61/150\n",
      "10/10 [==============================] - 0s 9ms/step - loss: 4.2761e-04 - rms: 0.0207 - mae: 0.0110\n",
      "Epoch 62/150\n",
      "10/10 [==============================] - 0s 9ms/step - loss: 3.6919e-04 - rms: 0.0192 - mae: 0.0101\n",
      "Epoch 63/150\n",
      "10/10 [==============================] - 0s 10ms/step - loss: 4.0726e-04 - rms: 0.0202 - mae: 0.0103\n",
      "Epoch 64/150\n",
      "10/10 [==============================] - 0s 10ms/step - loss: 3.7069e-04 - rms: 0.0193 - mae: 0.0100\n",
      "Epoch 65/150\n",
      "10/10 [==============================] - 0s 11ms/step - loss: 3.9676e-04 - rms: 0.0199 - mae: 0.0102\n",
      "Epoch 66/150\n",
      "10/10 [==============================] - 0s 11ms/step - loss: 3.6852e-04 - rms: 0.0192 - mae: 0.0102\n",
      "Epoch 67/150\n",
      "10/10 [==============================] - 0s 9ms/step - loss: 4.4053e-04 - rms: 0.0210 - mae: 0.0113\n",
      "Epoch 68/150\n",
      "10/10 [==============================] - 0s 9ms/step - loss: 4.0502e-04 - rms: 0.0201 - mae: 0.0104\n",
      "Epoch 69/150\n",
      "10/10 [==============================] - 0s 10ms/step - loss: 3.5948e-04 - rms: 0.0190 - mae: 0.0097\n",
      "Epoch 70/150\n",
      "10/10 [==============================] - 0s 9ms/step - loss: 3.6514e-04 - rms: 0.0191 - mae: 0.0099\n",
      "Epoch 71/150\n",
      "10/10 [==============================] - 0s 10ms/step - loss: 3.8006e-04 - rms: 0.0195 - mae: 0.0099\n",
      "Epoch 72/150\n",
      "10/10 [==============================] - 0s 10ms/step - loss: 3.2956e-04 - rms: 0.0182 - mae: 0.0094\n",
      "Epoch 73/150\n",
      "10/10 [==============================] - 0s 9ms/step - loss: 3.2765e-04 - rms: 0.0181 - mae: 0.0095\n",
      "Epoch 74/150\n"
     ]
    },
    {
     "name": "stdout",
     "output_type": "stream",
     "text": [
      "10/10 [==============================] - 0s 9ms/step - loss: 4.1517e-04 - rms: 0.0203 - mae: 0.0108\n",
      "Epoch 75/150\n",
      "10/10 [==============================] - 0s 9ms/step - loss: 3.7159e-04 - rms: 0.0193 - mae: 0.0102\n",
      "Epoch 76/150\n",
      "10/10 [==============================] - 0s 9ms/step - loss: 3.9515e-04 - rms: 0.0199 - mae: 0.0105\n",
      "Epoch 77/150\n",
      "10/10 [==============================] - 0s 10ms/step - loss: 3.5739e-04 - rms: 0.0189 - mae: 0.0101\n",
      "Epoch 78/150\n",
      "10/10 [==============================] - 0s 9ms/step - loss: 3.2293e-04 - rms: 0.0180 - mae: 0.0095\n",
      "Epoch 79/150\n",
      "10/10 [==============================] - 0s 9ms/step - loss: 3.3153e-04 - rms: 0.0182 - mae: 0.0096\n",
      "Epoch 80/150\n",
      "10/10 [==============================] - 0s 9ms/step - loss: 4.1797e-04 - rms: 0.0204 - mae: 0.0102\n",
      "Epoch 81/150\n",
      "10/10 [==============================] - 0s 9ms/step - loss: 4.7884e-04 - rms: 0.0218 - mae: 0.0117\n",
      "Epoch 82/150\n",
      "10/10 [==============================] - 0s 10ms/step - loss: 3.3095e-04 - rms: 0.0182 - mae: 0.0092\n",
      "Epoch 83/150\n",
      "10/10 [==============================] - 0s 10ms/step - loss: 2.9132e-04 - rms: 0.0171 - mae: 0.0088\n",
      "Epoch 84/150\n",
      "10/10 [==============================] - 0s 9ms/step - loss: 3.1607e-04 - rms: 0.0178 - mae: 0.0092\n",
      "Epoch 85/150\n",
      "10/10 [==============================] - 0s 10ms/step - loss: 3.0342e-04 - rms: 0.0174 - mae: 0.0094\n",
      "Epoch 86/150\n",
      "10/10 [==============================] - 0s 9ms/step - loss: 3.6827e-04 - rms: 0.0192 - mae: 0.0102\n",
      "Epoch 87/150\n",
      "10/10 [==============================] - 0s 10ms/step - loss: 3.6419e-04 - rms: 0.0191 - mae: 0.0103\n",
      "Epoch 88/150\n",
      "10/10 [==============================] - 0s 10ms/step - loss: 3.1790e-04 - rms: 0.0178 - mae: 0.0097\n",
      "Epoch 89/150\n",
      "10/10 [==============================] - 0s 10ms/step - loss: 3.3823e-04 - rms: 0.0184 - mae: 0.0097\n",
      "Epoch 90/150\n",
      "10/10 [==============================] - 0s 10ms/step - loss: 3.0591e-04 - rms: 0.0175 - mae: 0.0091\n",
      "Epoch 91/150\n",
      "10/10 [==============================] - 0s 9ms/step - loss: 3.9390e-04 - rms: 0.0198 - mae: 0.0107\n",
      "Epoch 92/150\n",
      "10/10 [==============================] - 0s 9ms/step - loss: 3.7430e-04 - rms: 0.0193 - mae: 0.0106\n",
      "Epoch 93/150\n",
      "10/10 [==============================] - 0s 9ms/step - loss: 2.8302e-04 - rms: 0.0168 - mae: 0.0090\n",
      "Epoch 94/150\n",
      "10/10 [==============================] - 0s 8ms/step - loss: 3.3413e-04 - rms: 0.0182 - mae: 0.0094\n",
      "Epoch 95/150\n",
      "10/10 [==============================] - 0s 9ms/step - loss: 2.8690e-04 - rms: 0.0169 - mae: 0.0087\n",
      "Epoch 96/150\n",
      "10/10 [==============================] - 0s 9ms/step - loss: 2.6739e-04 - rms: 0.0163 - mae: 0.0087\n",
      "Epoch 97/150\n",
      "10/10 [==============================] - 0s 9ms/step - loss: 3.7580e-04 - rms: 0.0194 - mae: 0.0103\n",
      "Epoch 98/150\n",
      "10/10 [==============================] - 0s 9ms/step - loss: 2.7608e-04 - rms: 0.0166 - mae: 0.0090\n",
      "Epoch 99/150\n",
      "10/10 [==============================] - 0s 10ms/step - loss: 2.5694e-04 - rms: 0.0160 - mae: 0.0089\n",
      "Epoch 100/150\n",
      "10/10 [==============================] - 0s 11ms/step - loss: 2.4795e-04 - rms: 0.0157 - mae: 0.0084\n",
      "Epoch 101/150\n",
      "10/10 [==============================] - 0s 11ms/step - loss: 2.9464e-04 - rms: 0.0172 - mae: 0.0092\n",
      "Epoch 102/150\n",
      "10/10 [==============================] - 0s 12ms/step - loss: 3.1627e-04 - rms: 0.0178 - mae: 0.0097\n",
      "Epoch 103/150\n",
      "10/10 [==============================] - 0s 11ms/step - loss: 2.7822e-04 - rms: 0.0167 - mae: 0.0092\n",
      "Epoch 104/150\n",
      "10/10 [==============================] - 0s 9ms/step - loss: 2.5156e-04 - rms: 0.0159 - mae: 0.0083\n",
      "Epoch 105/150\n",
      "10/10 [==============================] - 0s 8ms/step - loss: 2.5570e-04 - rms: 0.0160 - mae: 0.0082\n",
      "Epoch 106/150\n",
      "10/10 [==============================] - 0s 9ms/step - loss: 3.0088e-04 - rms: 0.0173 - mae: 0.0093\n",
      "Epoch 107/150\n",
      "10/10 [==============================] - 0s 8ms/step - loss: 3.7032e-04 - rms: 0.0192 - mae: 0.0104\n",
      "Epoch 108/150\n",
      "10/10 [==============================] - 0s 8ms/step - loss: 2.8941e-04 - rms: 0.0170 - mae: 0.0091\n",
      "Epoch 109/150\n",
      "10/10 [==============================] - 0s 8ms/step - loss: 2.4057e-04 - rms: 0.0155 - mae: 0.0085\n",
      "Epoch 110/150\n",
      "10/10 [==============================] - 0s 8ms/step - loss: 2.8531e-04 - rms: 0.0169 - mae: 0.0087\n",
      "Epoch 111/150\n",
      "10/10 [==============================] - 0s 8ms/step - loss: 2.3896e-04 - rms: 0.0155 - mae: 0.0083\n",
      "Epoch 112/150\n",
      "10/10 [==============================] - 0s 8ms/step - loss: 2.9076e-04 - rms: 0.0170 - mae: 0.0092\n",
      "Epoch 113/150\n",
      "10/10 [==============================] - 0s 8ms/step - loss: 2.3659e-04 - rms: 0.0154 - mae: 0.0084\n",
      "Epoch 114/150\n",
      "10/10 [==============================] - 0s 8ms/step - loss: 2.5983e-04 - rms: 0.0161 - mae: 0.0085\n",
      "Epoch 115/150\n",
      "10/10 [==============================] - 0s 8ms/step - loss: 3.8115e-04 - rms: 0.0195 - mae: 0.0106\n",
      "Epoch 116/150\n",
      "10/10 [==============================] - 0s 8ms/step - loss: 2.3659e-04 - rms: 0.0154 - mae: 0.0084\n",
      "Epoch 117/150\n",
      "10/10 [==============================] - 0s 8ms/step - loss: 2.3698e-04 - rms: 0.0154 - mae: 0.0083\n",
      "Epoch 118/150\n",
      "10/10 [==============================] - 0s 8ms/step - loss: 2.1974e-04 - rms: 0.0148 - mae: 0.0080\n",
      "Epoch 119/150\n",
      "10/10 [==============================] - 0s 8ms/step - loss: 4.2167e-04 - rms: 0.0205 - mae: 0.0108\n",
      "Epoch 120/150\n",
      "10/10 [==============================] - 0s 8ms/step - loss: 3.4454e-04 - rms: 0.0185 - mae: 0.0099\n",
      "Epoch 121/150\n",
      "10/10 [==============================] - 0s 8ms/step - loss: 2.5203e-04 - rms: 0.0159 - mae: 0.0084\n",
      "Epoch 122/150\n",
      "10/10 [==============================] - 0s 9ms/step - loss: 2.1442e-04 - rms: 0.0146 - mae: 0.0078\n",
      "Epoch 123/150\n",
      "10/10 [==============================] - 0s 8ms/step - loss: 2.1043e-04 - rms: 0.0145 - mae: 0.0077\n",
      "Epoch 124/150\n",
      "10/10 [==============================] - 0s 8ms/step - loss: 1.9881e-04 - rms: 0.0141 - mae: 0.0077\n",
      "Epoch 125/150\n",
      "10/10 [==============================] - 0s 8ms/step - loss: 2.1794e-04 - rms: 0.0148 - mae: 0.0079\n",
      "Epoch 126/150\n",
      "10/10 [==============================] - 0s 8ms/step - loss: 2.9889e-04 - rms: 0.0173 - mae: 0.0094\n",
      "Epoch 127/150\n",
      "10/10 [==============================] - 0s 8ms/step - loss: 2.4987e-04 - rms: 0.0158 - mae: 0.0086\n",
      "Epoch 128/150\n",
      "10/10 [==============================] - 0s 10ms/step - loss: 2.3341e-04 - rms: 0.0153 - mae: 0.0083\n",
      "Epoch 129/150\n",
      "10/10 [==============================] - 0s 11ms/step - loss: 2.3359e-04 - rms: 0.0153 - mae: 0.0080\n",
      "Epoch 130/150\n",
      "10/10 [==============================] - 0s 12ms/step - loss: 2.1465e-04 - rms: 0.0146 - mae: 0.0078\n",
      "Epoch 131/150\n",
      "10/10 [==============================] - 0s 13ms/step - loss: 2.2239e-04 - rms: 0.0149 - mae: 0.0080: 0s - loss: 2.2127e-04 - rms: 0.0149 - mae: 0.00\n",
      "Epoch 132/150\n",
      "10/10 [==============================] - 0s 12ms/step - loss: 2.0996e-04 - rms: 0.0145 - mae: 0.0078\n",
      "Epoch 133/150\n",
      "10/10 [==============================] - 0s 10ms/step - loss: 2.5824e-04 - rms: 0.0161 - mae: 0.0089\n",
      "Epoch 134/150\n",
      "10/10 [==============================] - 0s 9ms/step - loss: 3.9662e-04 - rms: 0.0199 - mae: 0.0106\n",
      "Epoch 135/150\n",
      "10/10 [==============================] - 0s 9ms/step - loss: 2.2441e-04 - rms: 0.0150 - mae: 0.0081\n",
      "Epoch 136/150\n",
      "10/10 [==============================] - 0s 9ms/step - loss: 2.0075e-04 - rms: 0.0142 - mae: 0.0077\n",
      "Epoch 137/150\n",
      "10/10 [==============================] - 0s 9ms/step - loss: 2.2641e-04 - rms: 0.0150 - mae: 0.0080\n",
      "Epoch 138/150\n",
      "10/10 [==============================] - 0s 10ms/step - loss: 2.1839e-04 - rms: 0.0148 - mae: 0.0080\n",
      "Epoch 139/150\n",
      "10/10 [==============================] - 0s 9ms/step - loss: 2.4542e-04 - rms: 0.0157 - mae: 0.0086\n",
      "Epoch 140/150\n",
      "10/10 [==============================] - 0s 9ms/step - loss: 2.3316e-04 - rms: 0.0153 - mae: 0.0084\n",
      "Epoch 141/150\n",
      "10/10 [==============================] - 0s 9ms/step - loss: 1.9165e-04 - rms: 0.0138 - mae: 0.0075\n",
      "Epoch 142/150\n",
      "10/10 [==============================] - 0s 10ms/step - loss: 2.2198e-04 - rms: 0.0149 - mae: 0.0077\n",
      "Epoch 143/150\n",
      "10/10 [==============================] - 0s 11ms/step - loss: 2.6285e-04 - rms: 0.0162 - mae: 0.0087\n",
      "Epoch 144/150\n",
      "10/10 [==============================] - 0s 9ms/step - loss: 1.8531e-04 - rms: 0.0136 - mae: 0.0077\n",
      "Epoch 145/150\n"
     ]
    },
    {
     "name": "stdout",
     "output_type": "stream",
     "text": [
      "10/10 [==============================] - 0s 11ms/step - loss: 1.9035e-04 - rms: 0.0138 - mae: 0.0074\n",
      "Epoch 146/150\n",
      "10/10 [==============================] - 0s 9ms/step - loss: 2.1584e-04 - rms: 0.0147 - mae: 0.0077\n",
      "Epoch 147/150\n",
      "10/10 [==============================] - 0s 9ms/step - loss: 2.8542e-04 - rms: 0.0169 - mae: 0.0095\n",
      "Epoch 148/150\n",
      "10/10 [==============================] - 0s 9ms/step - loss: 2.4042e-04 - rms: 0.0155 - mae: 0.0088\n",
      "Epoch 149/150\n",
      "10/10 [==============================] - 0s 9ms/step - loss: 1.9562e-04 - rms: 0.0140 - mae: 0.0077\n",
      "Epoch 150/150\n",
      "10/10 [==============================] - 0s 9ms/step - loss: 2.2845e-04 - rms: 0.0151 - mae: 0.0081\n"
     ]
    }
   ],
   "source": [
    "autoencoder, encoder = make_autoencoder(X_train)"
   ]
  },
  {
   "cell_type": "code",
   "execution_count": 14,
   "metadata": {
    "ExecuteTime": {
     "end_time": "2021-05-29T19:16:17.173235Z",
     "start_time": "2021-05-29T19:16:16.660526Z"
    },
    "hidden": true
   },
   "outputs": [
    {
     "data": {
      "text/html": [
       "<div>\n",
       "<style scoped>\n",
       "    .dataframe tbody tr th:only-of-type {\n",
       "        vertical-align: middle;\n",
       "    }\n",
       "\n",
       "    .dataframe tbody tr th {\n",
       "        vertical-align: top;\n",
       "    }\n",
       "\n",
       "    .dataframe thead th {\n",
       "        text-align: right;\n",
       "    }\n",
       "</style>\n",
       "<table border=\"1\" class=\"dataframe\">\n",
       "  <thead>\n",
       "    <tr style=\"text-align: right;\">\n",
       "      <th></th>\n",
       "      <th>0</th>\n",
       "      <th>1</th>\n",
       "      <th>2</th>\n",
       "      <th>3</th>\n",
       "      <th>4</th>\n",
       "      <th>5</th>\n",
       "      <th>6</th>\n",
       "      <th>7</th>\n",
       "      <th>8</th>\n",
       "      <th>9</th>\n",
       "      <th>...</th>\n",
       "      <th>22</th>\n",
       "      <th>23</th>\n",
       "      <th>24</th>\n",
       "      <th>25</th>\n",
       "      <th>26</th>\n",
       "      <th>27</th>\n",
       "      <th>28</th>\n",
       "      <th>29</th>\n",
       "      <th>30</th>\n",
       "      <th>31</th>\n",
       "    </tr>\n",
       "    <tr>\n",
       "      <th>ACCOUNT_ID</th>\n",
       "      <th></th>\n",
       "      <th></th>\n",
       "      <th></th>\n",
       "      <th></th>\n",
       "      <th></th>\n",
       "      <th></th>\n",
       "      <th></th>\n",
       "      <th></th>\n",
       "      <th></th>\n",
       "      <th></th>\n",
       "      <th></th>\n",
       "      <th></th>\n",
       "      <th></th>\n",
       "      <th></th>\n",
       "      <th></th>\n",
       "      <th></th>\n",
       "      <th></th>\n",
       "      <th></th>\n",
       "      <th></th>\n",
       "      <th></th>\n",
       "      <th></th>\n",
       "    </tr>\n",
       "  </thead>\n",
       "  <tbody>\n",
       "    <tr>\n",
       "      <th>20433</th>\n",
       "      <td>0.781596</td>\n",
       "      <td>-0.142165</td>\n",
       "      <td>0.915651</td>\n",
       "      <td>1.150129</td>\n",
       "      <td>-0.150643</td>\n",
       "      <td>0.824371</td>\n",
       "      <td>0.249619</td>\n",
       "      <td>0.863940</td>\n",
       "      <td>0.456060</td>\n",
       "      <td>0.890578</td>\n",
       "      <td>...</td>\n",
       "      <td>0.638484</td>\n",
       "      <td>1.271279</td>\n",
       "      <td>1.139497</td>\n",
       "      <td>-0.136120</td>\n",
       "      <td>-0.044002</td>\n",
       "      <td>0.632589</td>\n",
       "      <td>-0.143171</td>\n",
       "      <td>-0.079651</td>\n",
       "      <td>0.824481</td>\n",
       "      <td>0.894210</td>\n",
       "    </tr>\n",
       "    <tr>\n",
       "      <th>3629</th>\n",
       "      <td>1.459184</td>\n",
       "      <td>-0.207628</td>\n",
       "      <td>0.248149</td>\n",
       "      <td>1.208892</td>\n",
       "      <td>-0.486989</td>\n",
       "      <td>1.519949</td>\n",
       "      <td>-0.009314</td>\n",
       "      <td>0.842084</td>\n",
       "      <td>0.399895</td>\n",
       "      <td>1.951291</td>\n",
       "      <td>...</td>\n",
       "      <td>2.028988</td>\n",
       "      <td>0.407866</td>\n",
       "      <td>1.134067</td>\n",
       "      <td>-0.225357</td>\n",
       "      <td>0.883929</td>\n",
       "      <td>0.773616</td>\n",
       "      <td>-0.443451</td>\n",
       "      <td>-0.094697</td>\n",
       "      <td>1.532923</td>\n",
       "      <td>1.814409</td>\n",
       "    </tr>\n",
       "    <tr>\n",
       "      <th>16761</th>\n",
       "      <td>0.661434</td>\n",
       "      <td>-0.154975</td>\n",
       "      <td>1.023674</td>\n",
       "      <td>1.052700</td>\n",
       "      <td>-0.139022</td>\n",
       "      <td>0.995192</td>\n",
       "      <td>0.171908</td>\n",
       "      <td>0.914518</td>\n",
       "      <td>0.276284</td>\n",
       "      <td>0.824062</td>\n",
       "      <td>...</td>\n",
       "      <td>0.619257</td>\n",
       "      <td>1.047031</td>\n",
       "      <td>1.112129</td>\n",
       "      <td>-0.086388</td>\n",
       "      <td>-0.062975</td>\n",
       "      <td>0.568713</td>\n",
       "      <td>-0.204223</td>\n",
       "      <td>-0.130844</td>\n",
       "      <td>0.924316</td>\n",
       "      <td>0.906232</td>\n",
       "    </tr>\n",
       "    <tr>\n",
       "      <th>9466</th>\n",
       "      <td>0.636628</td>\n",
       "      <td>-0.105243</td>\n",
       "      <td>0.768256</td>\n",
       "      <td>0.832389</td>\n",
       "      <td>-0.058672</td>\n",
       "      <td>0.565349</td>\n",
       "      <td>0.274920</td>\n",
       "      <td>0.925661</td>\n",
       "      <td>0.435359</td>\n",
       "      <td>0.907316</td>\n",
       "      <td>...</td>\n",
       "      <td>0.467779</td>\n",
       "      <td>1.131191</td>\n",
       "      <td>1.065002</td>\n",
       "      <td>-0.080786</td>\n",
       "      <td>-0.070051</td>\n",
       "      <td>0.420110</td>\n",
       "      <td>-0.160742</td>\n",
       "      <td>-0.099613</td>\n",
       "      <td>0.601304</td>\n",
       "      <td>0.745563</td>\n",
       "    </tr>\n",
       "  </tbody>\n",
       "</table>\n",
       "<p>4 rows × 32 columns</p>\n",
       "</div>"
      ],
      "text/plain": [
       "                  0         1         2         3         4         5   \\\n",
       "ACCOUNT_ID                                                               \n",
       "20433       0.781596 -0.142165  0.915651  1.150129 -0.150643  0.824371   \n",
       "3629        1.459184 -0.207628  0.248149  1.208892 -0.486989  1.519949   \n",
       "16761       0.661434 -0.154975  1.023674  1.052700 -0.139022  0.995192   \n",
       "9466        0.636628 -0.105243  0.768256  0.832389 -0.058672  0.565349   \n",
       "\n",
       "                  6         7         8         9   ...        22        23  \\\n",
       "ACCOUNT_ID                                          ...                       \n",
       "20433       0.249619  0.863940  0.456060  0.890578  ...  0.638484  1.271279   \n",
       "3629       -0.009314  0.842084  0.399895  1.951291  ...  2.028988  0.407866   \n",
       "16761       0.171908  0.914518  0.276284  0.824062  ...  0.619257  1.047031   \n",
       "9466        0.274920  0.925661  0.435359  0.907316  ...  0.467779  1.131191   \n",
       "\n",
       "                  24        25        26        27        28        29  \\\n",
       "ACCOUNT_ID                                                               \n",
       "20433       1.139497 -0.136120 -0.044002  0.632589 -0.143171 -0.079651   \n",
       "3629        1.134067 -0.225357  0.883929  0.773616 -0.443451 -0.094697   \n",
       "16761       1.112129 -0.086388 -0.062975  0.568713 -0.204223 -0.130844   \n",
       "9466        1.065002 -0.080786 -0.070051  0.420110 -0.160742 -0.099613   \n",
       "\n",
       "                  30        31  \n",
       "ACCOUNT_ID                      \n",
       "20433       0.824481  0.894210  \n",
       "3629        1.532923  1.814409  \n",
       "16761       0.924316  0.906232  \n",
       "9466        0.601304  0.745563  \n",
       "\n",
       "[4 rows x 32 columns]"
      ]
     },
     "execution_count": 14,
     "metadata": {},
     "output_type": "execute_result"
    }
   ],
   "source": [
    "X_encod = pd.DataFrame(data=encoder.predict(X_train), index=X_train.index)\n",
    "X_encod.sample(4)"
   ]
  },
  {
   "cell_type": "markdown",
   "metadata": {
    "heading_collapsed": true
   },
   "source": [
    "## Model"
   ]
  },
  {
   "cell_type": "code",
   "execution_count": 15,
   "metadata": {
    "ExecuteTime": {
     "end_time": "2021-05-29T19:16:17.181085Z",
     "start_time": "2021-05-29T19:16:17.175265Z"
    },
    "hidden": true
   },
   "outputs": [],
   "source": [
    "X_train_orig = X_train.copy()\n",
    "X_train = X_encod.copy()"
   ]
  },
  {
   "cell_type": "code",
   "execution_count": 16,
   "metadata": {
    "ExecuteTime": {
     "end_time": "2021-05-29T19:16:17.186461Z",
     "start_time": "2021-05-29T19:16:17.183157Z"
    },
    "hidden": true
   },
   "outputs": [],
   "source": [
    "X_train = X_train_orig.copy()"
   ]
  },
  {
   "cell_type": "markdown",
   "metadata": {
    "heading_collapsed": true,
    "hidden": true
   },
   "source": [
    "### LinearReg"
   ]
  },
  {
   "cell_type": "code",
   "execution_count": 17,
   "metadata": {
    "ExecuteTime": {
     "end_time": "2021-05-29T19:16:17.275830Z",
     "start_time": "2021-05-29T19:16:17.188999Z"
    },
    "hidden": true
   },
   "outputs": [
    {
     "name": "stdout",
     "output_type": "stream",
     "text": [
      "Score:  0.38915443914816483\n"
     ]
    },
    {
     "data": {
      "text/html": [
       "<div>\n",
       "<style scoped>\n",
       "    .dataframe tbody tr th:only-of-type {\n",
       "        vertical-align: middle;\n",
       "    }\n",
       "\n",
       "    .dataframe tbody tr th {\n",
       "        vertical-align: top;\n",
       "    }\n",
       "\n",
       "    .dataframe thead th {\n",
       "        text-align: right;\n",
       "    }\n",
       "</style>\n",
       "<table border=\"1\" class=\"dataframe\">\n",
       "  <thead>\n",
       "    <tr style=\"text-align: right;\">\n",
       "      <th></th>\n",
       "      <th>0</th>\n",
       "      <th>1</th>\n",
       "    </tr>\n",
       "  </thead>\n",
       "  <tbody>\n",
       "    <tr>\n",
       "      <th>0</th>\n",
       "      <td>BILL_AMT2</td>\n",
       "      <td>305764.475103</td>\n",
       "    </tr>\n",
       "    <tr>\n",
       "      <th>1</th>\n",
       "      <td>PAY_AMT2</td>\n",
       "      <td>202373.628553</td>\n",
       "    </tr>\n",
       "    <tr>\n",
       "      <th>2</th>\n",
       "      <td>BALANCE_ACUM_PERC_AMT3_3</td>\n",
       "      <td>86566.113537</td>\n",
       "    </tr>\n",
       "    <tr>\n",
       "      <th>3</th>\n",
       "      <td>BALANCE_ACUM_AMT3_3</td>\n",
       "      <td>81642.344937</td>\n",
       "    </tr>\n",
       "    <tr>\n",
       "      <th>4</th>\n",
       "      <td>PAY_AMT5</td>\n",
       "      <td>45539.110432</td>\n",
       "    </tr>\n",
       "    <tr>\n",
       "      <th>66</th>\n",
       "      <td>PAY_AMT3_2</td>\n",
       "      <td>-31173.151874</td>\n",
       "    </tr>\n",
       "    <tr>\n",
       "      <th>67</th>\n",
       "      <td>BALANCE_ACUM_PERC_AMT2_2</td>\n",
       "      <td>-63164.723437</td>\n",
       "    </tr>\n",
       "    <tr>\n",
       "      <th>68</th>\n",
       "      <td>BILL_AMT4_3</td>\n",
       "      <td>-88558.561200</td>\n",
       "    </tr>\n",
       "    <tr>\n",
       "      <th>69</th>\n",
       "      <td>BILL_AMT3</td>\n",
       "      <td>-94616.816517</td>\n",
       "    </tr>\n",
       "    <tr>\n",
       "      <th>70</th>\n",
       "      <td>BILL_AMT1</td>\n",
       "      <td>-151023.784132</td>\n",
       "    </tr>\n",
       "  </tbody>\n",
       "</table>\n",
       "</div>"
      ],
      "text/plain": [
       "                           0              1\n",
       "0                  BILL_AMT2  305764.475103\n",
       "1                   PAY_AMT2  202373.628553\n",
       "2   BALANCE_ACUM_PERC_AMT3_3   86566.113537\n",
       "3        BALANCE_ACUM_AMT3_3   81642.344937\n",
       "4                   PAY_AMT5   45539.110432\n",
       "66                PAY_AMT3_2  -31173.151874\n",
       "67  BALANCE_ACUM_PERC_AMT2_2  -63164.723437\n",
       "68               BILL_AMT4_3  -88558.561200\n",
       "69                 BILL_AMT3  -94616.816517\n",
       "70                 BILL_AMT1 -151023.784132"
      ]
     },
     "execution_count": 17,
     "metadata": {},
     "output_type": "execute_result"
    }
   ],
   "source": [
    "from sklearn.pipeline import Pipeline\n",
    "from sklearn.linear_model import LinearRegression\n",
    "\n",
    "model_reg = LinearRegression()\n",
    "\n",
    "print('Score: ',model_reg.fit(X_train,y_train).score(X_train,y_train))\n",
    "#The most relevant features to the model_reg\n",
    "coef = pd.DataFrame(zip(X_train.columns,model_reg.coef_)).sort_values(1,0,0).reset_index(drop=True)\n",
    "coef.head().append(coef.tail())"
   ]
  },
  {
   "cell_type": "markdown",
   "metadata": {
    "heading_collapsed": true,
    "hidden": true
   },
   "source": [
    "### RandomForest"
   ]
  },
  {
   "cell_type": "code",
   "execution_count": 18,
   "metadata": {
    "ExecuteTime": {
     "end_time": "2021-05-29T19:16:19.651124Z",
     "start_time": "2021-05-29T19:16:17.279503Z"
    },
    "hidden": true
   },
   "outputs": [
    {
     "name": "stdout",
     "output_type": "stream",
     "text": [
      "0.9492804948987221\n"
     ]
    },
    {
     "data": {
      "text/html": [
       "<div>\n",
       "<style scoped>\n",
       "    .dataframe tbody tr th:only-of-type {\n",
       "        vertical-align: middle;\n",
       "    }\n",
       "\n",
       "    .dataframe tbody tr th {\n",
       "        vertical-align: top;\n",
       "    }\n",
       "\n",
       "    .dataframe thead th {\n",
       "        text-align: right;\n",
       "    }\n",
       "</style>\n",
       "<table border=\"1\" class=\"dataframe\">\n",
       "  <thead>\n",
       "    <tr style=\"text-align: right;\">\n",
       "      <th></th>\n",
       "      <th>0</th>\n",
       "      <th>1</th>\n",
       "    </tr>\n",
       "  </thead>\n",
       "  <tbody>\n",
       "    <tr>\n",
       "      <th>0</th>\n",
       "      <td>BILL_AMT2</td>\n",
       "      <td>0.211284</td>\n",
       "    </tr>\n",
       "    <tr>\n",
       "      <th>1</th>\n",
       "      <td>BILL_AMT1</td>\n",
       "      <td>0.135210</td>\n",
       "    </tr>\n",
       "    <tr>\n",
       "      <th>2</th>\n",
       "      <td>PAY_AMT3</td>\n",
       "      <td>0.134490</td>\n",
       "    </tr>\n",
       "    <tr>\n",
       "      <th>3</th>\n",
       "      <td>PAY_2</td>\n",
       "      <td>0.092157</td>\n",
       "    </tr>\n",
       "    <tr>\n",
       "      <th>4</th>\n",
       "      <td>BALANCE_ACUM_AMT2_2</td>\n",
       "      <td>0.079659</td>\n",
       "    </tr>\n",
       "    <tr>\n",
       "      <th>5</th>\n",
       "      <td>PAY_AMT2</td>\n",
       "      <td>0.078999</td>\n",
       "    </tr>\n",
       "    <tr>\n",
       "      <th>6</th>\n",
       "      <td>PAY_AMT4</td>\n",
       "      <td>0.033316</td>\n",
       "    </tr>\n",
       "    <tr>\n",
       "      <th>7</th>\n",
       "      <td>BALANCE_ACUM_AMT3_3</td>\n",
       "      <td>0.030545</td>\n",
       "    </tr>\n",
       "    <tr>\n",
       "      <th>8</th>\n",
       "      <td>BILL_AMT4</td>\n",
       "      <td>0.027849</td>\n",
       "    </tr>\n",
       "    <tr>\n",
       "      <th>9</th>\n",
       "      <td>BALANCE_ACUM_AMT6_6</td>\n",
       "      <td>0.022240</td>\n",
       "    </tr>\n",
       "  </tbody>\n",
       "</table>\n",
       "</div>"
      ],
      "text/plain": [
       "                     0         1\n",
       "0            BILL_AMT2  0.211284\n",
       "1            BILL_AMT1  0.135210\n",
       "2             PAY_AMT3  0.134490\n",
       "3                PAY_2  0.092157\n",
       "4  BALANCE_ACUM_AMT2_2  0.079659\n",
       "5             PAY_AMT2  0.078999\n",
       "6             PAY_AMT4  0.033316\n",
       "7  BALANCE_ACUM_AMT3_3  0.030545\n",
       "8            BILL_AMT4  0.027849\n",
       "9  BALANCE_ACUM_AMT6_6  0.022240"
      ]
     },
     "execution_count": 18,
     "metadata": {},
     "output_type": "execute_result"
    }
   ],
   "source": [
    "from sklearn.ensemble import RandomForestRegressor\n",
    "\n",
    "model_forest = RandomForestRegressor(n_jobs=-1,random_state=22)\n",
    "\n",
    "print(model_forest.fit(X_train,y_train).score(X_train,y_train))\n",
    "#The most relevant features to the model_forest\n",
    "pd.DataFrame(zip(X_train.columns,model_forest.feature_importances_)).sort_values(1,0,0).head(10).reset_index(drop=True)"
   ]
  },
  {
   "cell_type": "markdown",
   "metadata": {
    "heading_collapsed": true,
    "hidden": true
   },
   "source": [
    "### XGBoost"
   ]
  },
  {
   "cell_type": "code",
   "execution_count": 22,
   "metadata": {
    "ExecuteTime": {
     "end_time": "2021-05-29T19:42:10.587289Z",
     "start_time": "2021-05-29T19:42:10.443090Z"
    },
    "hidden": true
   },
   "outputs": [
    {
     "data": {
      "text/html": [
       "<div>\n",
       "<style scoped>\n",
       "    .dataframe tbody tr th:only-of-type {\n",
       "        vertical-align: middle;\n",
       "    }\n",
       "\n",
       "    .dataframe tbody tr th {\n",
       "        vertical-align: top;\n",
       "    }\n",
       "\n",
       "    .dataframe thead th {\n",
       "        text-align: right;\n",
       "    }\n",
       "</style>\n",
       "<table border=\"1\" class=\"dataframe\">\n",
       "  <thead>\n",
       "    <tr style=\"text-align: right;\">\n",
       "      <th></th>\n",
       "      <th>0</th>\n",
       "      <th>1</th>\n",
       "    </tr>\n",
       "  </thead>\n",
       "  <tbody>\n",
       "    <tr>\n",
       "      <th>0</th>\n",
       "      <td>PAY_2</td>\n",
       "      <td>0.400338</td>\n",
       "    </tr>\n",
       "    <tr>\n",
       "      <th>1</th>\n",
       "      <td>BILL_AMT1</td>\n",
       "      <td>0.136858</td>\n",
       "    </tr>\n",
       "    <tr>\n",
       "      <th>2</th>\n",
       "      <td>BILL_AMT2</td>\n",
       "      <td>0.108436</td>\n",
       "    </tr>\n",
       "    <tr>\n",
       "      <th>3</th>\n",
       "      <td>PAY_AMT3</td>\n",
       "      <td>0.108028</td>\n",
       "    </tr>\n",
       "    <tr>\n",
       "      <th>4</th>\n",
       "      <td>PAY_AMT6</td>\n",
       "      <td>0.034243</td>\n",
       "    </tr>\n",
       "    <tr>\n",
       "      <th>5</th>\n",
       "      <td>PAY_AMT2</td>\n",
       "      <td>0.030058</td>\n",
       "    </tr>\n",
       "    <tr>\n",
       "      <th>6</th>\n",
       "      <td>BALANCE_ACUM_AMT2_2</td>\n",
       "      <td>0.022224</td>\n",
       "    </tr>\n",
       "    <tr>\n",
       "      <th>7</th>\n",
       "      <td>BALANCE_ACUM_AMT3_3</td>\n",
       "      <td>0.019237</td>\n",
       "    </tr>\n",
       "    <tr>\n",
       "      <th>8</th>\n",
       "      <td>BALANCE_ACUM_PERC_AMT6_6</td>\n",
       "      <td>0.016929</td>\n",
       "    </tr>\n",
       "    <tr>\n",
       "      <th>9</th>\n",
       "      <td>BALANCE_ACUM_PERC_AMT3_3</td>\n",
       "      <td>0.009740</td>\n",
       "    </tr>\n",
       "  </tbody>\n",
       "</table>\n",
       "</div>"
      ],
      "text/plain": [
       "                          0         1\n",
       "0                     PAY_2  0.400338\n",
       "1                 BILL_AMT1  0.136858\n",
       "2                 BILL_AMT2  0.108436\n",
       "3                  PAY_AMT3  0.108028\n",
       "4                  PAY_AMT6  0.034243\n",
       "5                  PAY_AMT2  0.030058\n",
       "6       BALANCE_ACUM_AMT2_2  0.022224\n",
       "7       BALANCE_ACUM_AMT3_3  0.019237\n",
       "8  BALANCE_ACUM_PERC_AMT6_6  0.016929\n",
       "9  BALANCE_ACUM_PERC_AMT3_3  0.009740"
      ]
     },
     "execution_count": 22,
     "metadata": {},
     "output_type": "execute_result"
    }
   ],
   "source": [
    "from xgboost.sklearn import XGBRegressor\n",
    "xgb = XGBRegressor()\n",
    "\n",
    "param_xgb = {'learning_rate':[x/100 for x in range(1,52,10)],\n",
    "             'n_estimators':[x for x in range(100,1100,200)],\n",
    "             'max_depth':[x for x in range(1,11,3)], \n",
    "             'min_child_weight':[x/10 for x in range(1,101,20)],\n",
    "             'reg_lambda': [x/10 for x in range(1,101,20)]\n",
    "            }\n",
    "            \n",
    "from sklearn.model_selection import RandomizedSearchCV\n",
    "search_xgb = RandomizedSearchCV(param_distributions = param_xgb, \n",
    "                                cv = 4, \n",
    "                                n_jobs = -1, \n",
    "                                scoring = 'r2', \n",
    "                                estimator = xgb, \n",
    "                                verbose = 1,\n",
    "                                n_iter = 70,\n",
    "                                random_state = 22)\n",
    "\n",
    "model_xgb = Pipeline(steps=[('scaler', mm_x),\n",
    "                            ('model', search_xgb)])\n",
    "\n",
    "print(model_xgb.fit(X_train,y_train).score(X_train,y_train)\n",
    "      \n",
    "#The most relevant features to the model_xgb\n",
    "pd.DataFrame(zip(X_train.columns,model_xgb[1].best_estimator_.feature_importances_)).sort_values(1,0,0).head(10).reset_index(drop=True)"
   ]
  },
  {
   "cell_type": "markdown",
   "metadata": {
    "heading_collapsed": true,
    "hidden": true
   },
   "source": [
    "### Test"
   ]
  },
  {
   "cell_type": "code",
   "execution_count": 23,
   "metadata": {
    "ExecuteTime": {
     "end_time": "2021-05-29T19:42:17.566097Z",
     "start_time": "2021-05-29T19:42:17.370764Z"
    },
    "hidden": true
   },
   "outputs": [
    {
     "data": {
      "text/plain": [
       "0.6930860675325108"
      ]
     },
     "execution_count": 23,
     "metadata": {},
     "output_type": "execute_result"
    }
   ],
   "source": [
    "model = model_xgb\n",
    "\n",
    "X_test,X_test_encod,y_test = full_pipeline(test,encoder,prep,cat,num,target)\n",
    "model.score(X_test,y_test)"
   ]
  },
  {
   "cell_type": "markdown",
   "metadata": {
    "heading_collapsed": true
   },
   "source": [
    "## Export"
   ]
  },
  {
   "cell_type": "code",
   "execution_count": 24,
   "metadata": {
    "ExecuteTime": {
     "end_time": "2021-05-29T19:42:30.691973Z",
     "start_time": "2021-05-29T19:42:30.463387Z"
    },
    "hidden": true
   },
   "outputs": [],
   "source": [
    "val = pd.read_csv(os.path.join(BASE_DIR,'val_PAY_AMT1.csv'),sep='|').set_index('ACCOUNT_ID')\n",
    "X_val,X_val_encod,_ = full_pipeline(val,encoder,prep,cat,num,target,val=True)\n",
    "final = X_val_encod.reset_index()[['ACCOUNT_ID']].join(pd.DataFrame(model.predict(X_val),\n",
    "                                                                    columns=['y_hat']))\n",
    "final.to_csv(os.path.join(BASE_DIR,'FloresHernandezEfrainIsmael_PAYAMT1.csv'),index=False)"
   ]
  },
  {
   "cell_type": "code",
   "execution_count": 25,
   "metadata": {
    "ExecuteTime": {
     "end_time": "2021-05-29T19:42:32.420451Z",
     "start_time": "2021-05-29T19:42:32.317072Z"
    },
    "hidden": true
   },
   "outputs": [],
   "source": [
    "import pickle\n",
    "\n",
    "with open(os.path.join(BASE_DIR,'0504_payamt_model.pkl'), 'wb') as f:\n",
    "    pickle.dump(model, f)"
   ]
  },
  {
   "cell_type": "markdown",
   "metadata": {},
   "source": [
    "## End"
   ]
  },
  {
   "cell_type": "code",
   "execution_count": 26,
   "metadata": {
    "ExecuteTime": {
     "end_time": "2021-05-29T19:42:34.237106Z",
     "start_time": "2021-05-29T19:42:34.228316Z"
    }
   },
   "outputs": [
    {
     "name": "stdout",
     "output_type": "stream",
     "text": [
      "26 minutos con 52.25 segundos\n"
     ]
    },
    {
     "data": {
      "text/html": [
       "\n",
       "                <audio  controls=\"controls\" autoplay=\"autoplay\">\n",
       "                    <source src=\"data:audio/wav;base64,UklGRpgiAABXQVZFZm10IBAAAAABAAEAOhEAAHQiAAACABAAZGF0YXQiAAAAAMFIk3VMdgdNgQxRzyKsaKylyRzyThJvHiwXwAed/rAE+Bc/LL0xNx7S89DBdZ6ynH7CtQS9SqR4OHufUGAJXsHtk2qQYrTI7eEjhEJoQtYqWAx09zT0xP6iCnsKgviu2oPARLt21IcHLEKsa/lvb0lnBM+6X4ljg3uqIu4bM1NfumRKRjoVBOjOz0HR/uOT+IQBvPpu66nh4en/BkwvDlBzVmw5if+bvWSO2YZwrAXyAT2EcJR541apGO/Y6K/XqfTC7erNDd8dgRl1CkT/ZwL5E0ApbzKrI5r8Z8rFoguaDLmu9yc/N3NMfhhbIhcPzTyZ0o2mq/nibRtDP4pEIDCIEf35gfNY/A4JzQvz/E/gIcQTuq7NG/0pOINmcHI0UwcSDMdrj+2Ap6AC4d4nClq2ZsZNaR737jjSVc8C4G71GwHt/DfuXeLG5n0A/yeiS9dXL0FKC9zIaJTJhLOiOOR3MAhqZXvTX8YkUuPctFCowbyP46gInRx5G0wNaQCeABwQ2iVTMkso/gRV0xyoupirsPTq6zJrbNJ/eGSwJIDZ5p+cjMSjMdhFEvo6z0UVNfcWHf1V8w36IgeFDOkA8eVZyOK518cV87otM2Bzc9ZbUh/w09mWA4DrlxnU7ht+U29ng1SbJ4z2gdUSzi3c8vElAMH+GfGe42XkdvqTIG9GD1jlR58WlNSomz+EKJrI1k0jM2K0e7ZnrTBa7vS65qcrtx/c7AKjGgEdMRACAlz/eAwlInUxESzlDHncYq67mHKpsN40Jlhkx3+fbNwxiebap9KM3JyYzYUIrzUnRpk5jhzJALrz+vf0BKgMWAR66xLNpbr+wpXpByPYWAdzOmMdLE3hjp+qgGaQk8dwD79L2mZjWqwwr/6o2YjNmNgy7qj+KAD681rlveL79CcZj0AkV31NYiGZ4AekOoXqkuDJrhUdWX16bW41POT5JMKiqE2yvdSs/PAXBh4KEwEEpf4hCTwe5C/2LjUUruV4tQWadKML0y0ZG1ssfnJzez7/8wGxe44Ml1TDTv5rL4VFkD0zIvgEtvQz9pcCPww2B9DwMdJOvCq/uuA4GJFQMnFMaT04+O5vqeKCM4qcu44C4ULyZEhfdzlCB6jexs1d1UPqpfwWAcX2fufL4R3w2xEgOiVV61FxK8DsZK2zhw+Nq73HB+JOv3fdczVHygVZyo2qQq6Hzfv1gxR2HsEVVgZ6/igGNhq0Lfww2BrS7j69jJy+ninIAwzXUAh72nhiSrYBQLuVkW6Sjbm/8z0o4EPhQMsnmglO9sz0IwBWC3sJ3PWY18y+X7yd2HENgEcBbvxtjUPC/Fm0o4ZphVywc/X/OLNhGmPbQSwQduTYzpTSPeYm+oMBY/n06Yfh6evJCkIzIlIqVa803/ict56Lp4hSssf5o0OBc+93g1HmEX3Tqq0kq57G8u5jEEUeQBjuCNf+nAMuFvgqJjK9IMT3lMU+oFqbK77k/q5FZ3bHfGdVgQ92xh2WGI9nsPzoNyAzQXVDOS2dDoL41fOu/foJJAuK+izdCcKdulbR2wLJPYdpP3HpTX0KKMDiixqC/KVJ6DUuI13DZbNJTBkF68XQU9A24jn3ZwHA+6fs5uFp6A0EEywxTjdXAD3NBIrC6JC+hfin2+uFN85tknr7Wg8edt33sQepIsCq55cLZh1uGrULuP+LATwSyCd8MtQlYgBWzgWlS5kwtfrxyTlbcCp/Z18xHYHSCJwcjQioK95wF3w9N0VgMuwTT/td8037PQgyDMb+0eLvxd6598qY+JEz12MRczBX/Re1zI6SU4ChnDzboyJIVzFn3lCBIkPyktOvzkje6/O/AMr9fe/b4qDlwP20JGpJFFhNRGMQBc58l1uEwJ4x3q8qtma4e3djGSon6G63/acwukHgLQbTGzcclQ4RAf7/dg49JAcyFCqTCGHXyqqRmE+tb+VRLfto/38/aJkqO99Io4eMkqBz0wEOvzgURiY3cBmu/nDzGfkxBqcMgQJr6GTKG7qQxcnu/ygNXXBzR18UJdTZkZocgGuUec5wFjFQV2c9V6krGvo+17zNjNpP8I3/b/9i8lXkkuP090Ud5kPKV4VKfBvk2T+ff4TGlvjQSx1PXlp72WrcNW3zBL4UqOi01Ng0AIcZhh13EdoC+v7xCm0g1zB2LTkQkeBwsSWZoKZu2XEgYGBBf9JvjDd67MerYY0jmvvICAQEM/9FbzsRH5YCF/Ql9+wDigyxBeDtTs9HuyrBj+U7HkVVYnIXZpgxWefPo3WBeY0uwsAJ8EcrZrBcnzRyAsfbis0c13fs0/2hADz1QuY84r3y4xXDPWJWmk/zJf7lE6glhiOQWsSGD7NUdXkBcSxBJf+qxVepZbCB0b/5gRZLHkUUAQWB/sIHdBz9LvgvPxfC6dm4/pozoRvOVROqVvZ8B3beQxL6brWuj9iU6r6l+VYs6kQfP7Mk+gZY9Yb1gQHnC0wIGPOQ1FG9y70G3WoToEzxb45rYD0Y9SquXYTkh4O2wPybPqtjHmFBPTALJOElzhHUe+iX+1cB9feN6JjhKe6tDh437VOCU6gvJvLWsUSJ64qCuI4BAUoLdth14ksoC03OyavBrGrK5PLEEnUe5RZ2B5P++ARrGI0smzGPHdTy48AMnhKdmsMqBvtLKHnIemZP1wcfwGyTyZBmtfvuxSTQQh9COyrJCzX3T/QL/8gKTAr99w/aJsB2u0bVtQhBQytsnW9ISOACf7nKiMGDoquY70401V9uZGtFNhRK55jPgdFx5Ob4hwF5+iHrnuFE6r8HGDB+UDlWfzg1/mS8zY0sh5atkfNaPiZxSXnVVU8X09durxOqrcO861YO+B1DGSYKK/+iAmkUmylmMhojpfttyT2iRZoMuh75ekDjcwh++1mcFbjLk5gKjpSsLeRnHK0/WESOL/EQrvmP85v8PwmvC3r8rt+ywyi6ZM4//kw5JGc8cixShxCnxa2OH4GxoXXiJymxWo1m+kxjHSnu6NGEz3LgzPUtAbP85+1B4hXnMQHQKCpMvldgQAEKlcetk/CEuqO95eUx0mpEe+FebyMi4kC0bqhrvWLkQgnKHEYb+wxCAMoAiBA/JmAy0ycVBFTSeKfOmIuxWexOND1tun98YzIjFtgYn62MmaRi2VETgTu2RY00Wha9/FPzTPpdB3gMfwBR5drH27lxyCz05y70YGlz8FreHXrS9ZUJgNWYhNVJHUhUa2fOU5cmrfUY1S3Ol9xZ8kgAkv7G8HTjn+Qb+2YhDEcXWDRHYxVC08uaO4QLm0DYyiQiY7975GZeLxntObrjp8G389yWA+Ua3BzeD9ABef/cDJIiljGwKwwMdNulraqYMKoG4KInTWXcf8drbDAQ5emmuoyTncLOoQlSNilGHznuG1oAp/Mx+DUFqwz+A97qh8yEunvDnOo6JLVZJXN4YrkqzN+HnoSALJHxyNkQqkz8ZsdZrS/B/SfZjc362KDu2f4FAKnzI+Xj4o/1+Rk9QUxX7Ew4IEDfC6MLhaeTR8s2Fy9as3q+bfM6l/hKwX6ozbKN1WT9RhjwHboSxAOz/nsJrR4ZMK8ubROo5KW00JkOpE7UohowXG1+wXIdPXzy7685jqOXc8R2/ykwpEUnPZMhewSS9GH23AJSDOwGO/Cb0RS8ir+t4WsZh1F3cbBo7jZx7Uioj4LSiui8AATrQzllyl6COEoGEN61zbTVterk/AIBd/Y9593hn/CoEt06a1V8UV0qZutOrFuHo438vlUJE1AgeFNzBEZ0BGPJR6qqrlHOvvbuFHEedxUQBnj+dwapGvktzjAlGtDtWrw1nDOfVMl6DQdSdHtTeBlJLgAPuiuR4pKcuu70FCkcRItALScRCRn27vRpAHYLQglR9fzWe76hvHrZog6LSG1uiG1XQjr7F7Mlht+FkrHq9iQ6IGK7YvNALA/H46/O3dKw5nP6fQEb+avphuFY7I4LCTSEUtxUszOI93C2HYsRiYizVfvvRAx0jXdoUI0QbtJCrXCrXse+7+EQUx78F6IIxv7fA6AWTCsQMh8gyfahxMafqZs7v1cA9kb9dmp8OlT5DSzFipVmj2KxL+olIYxBNkOhLAoOO/jq8/P9Jgr9Cgr6jNylwcK6GtIEBOQ+Fmr1cM9M+QjOvjuLZYIXp77pci+1XYZl3EhHGELqg9CL0KfikfdxAYH7WOzU4cPoyATiLKxOC1cfPH0DTMFBkP6FEalk7eg4gm5aevlZthxR3G2xNqnUwHzoKAyIHTQaZQuZ/8ABqhIoKHwyTiVz/1nNcKR1mSG2ZfMjOxlx+n5ZXq4bIdFPm0ON7Khe33IY8z0QRdIxUhP4+mPzj/tzCBsMVP4x4nnF57mhy7f5uTSIZO9yN1aBFkjLv5FygJ2drNz1I/9XGGccUHshbfE309bOtd5N9NkAlP0s77ni5uVt/ocl+0kKWItDHw+5zLGWb4S3n7HfJCyRZ6t7lGLFKO/mxLYNqNK6FeHPBgkcCRxDDuUAIwDeDqUkHjKmKbAHXdYaqpWYIa7O5rku3Wn7f1NnISnK3WmihYxaoaLUFA9TOQdGpDbRGEf+ZvNV+W8GoQweAs3n38kIuh3G2u8vKttdeHNxXqYjWdidmQ6ARZXfz9EXClFjZ5NWpio0+cvWzs3z2rnwtv9G/w/yJeTD45L4GB6LROBX40lHGo/YVJ5ohJiXadLOHk5feHsWapI0JvI7vQOodbWm2eQA0hlnHSYRogIQ/1EL3CACMSEtZw+L36mwBZlPp7va4yFjYWp/DG8jNvzqxqo3jcyaIcopBbMzDUb8OnAeIAL981n3LgSUDF4FSO29zhq7msGO5m4fLlaScmZlPDDV5bmiO4EujoTDLgvpSF5mIVykM38BO9uGzXnX5+wK/oUA7PQG5lniSvOzFng+mFYYT9IkpOQLp+OFzpC4xRIR01W+eWJw8T/U/cTEJKnbsE/SfPrgFjwe9xPABIf+GAjnHDovvC+AFr7o/be6mr2hU8/LFMtXS31odYlCjfhOtFqPX5UCwNH6Hy0WRb4+EyR3Bi31sPXHAf8LCQiI8vfTDL0evu/dnRSgTUhwBGscPI/z9qz3g3GIxbc1/rI/A2SuYFE8MwqB4AnOYtTt6N37SQGq90joouGj7ncP4TdAVCJTny7N8Law2Yhti8i5HQM+S392YHW6StAJS810qx2tMMur8zcTeB6eFi0Hiv5CBd0Y2Sx4MeUc1fH4v6edd526xKAHNk2neVR6KU5PBuK+8JIskWy2LPCnJRlD00GgKTwL+PZs9FH/7goaCnf3cdnMv6y7F9bjCVREp2w7bx5HWQExuDmIJITMrA/xfjVTYB9kiUQzE5HmZM/D0eTkOPmJATX61eqV4arqgAjkMOtQ+1WQN+H8L7s7jYSHwK4e9bA/xHH6eMVU9RW61veuUqpnxIrs3A4OHgQZ1wkU/94C2hT0KVoyhiKu+nXIuKGEmg+7jvrKQYt0v33bWBYUZMrvl0eOha1h5V4dE0AjRPouWhBg+Z7z4PxvCY8LAPwO30XDQbocz2X/bTrDZwRyIVEGD0TE9I1Xgb+i6eNuKlNbYGYsTF0cXe2b0bXP4uAp9j4BePyW7SjiZufmAaIpsEyiV40/tghQxvaSHIXEpEPnUDOYax977V0YIvTgqLOPqBa+NOXaCfQcEhupDB0A+AD0EKMmazJXJysDU9HXpueYb7K/7a81C26ef3xisyGu1k6ewoxwpZTaXBQFPJtFBDS+FV/8U/OL+pYHaQwTALLkXcfXuQ7JRfUTMLJhWnMFWmgcBtEVlRSAwpnx1qIeDlViZxZTkiXQ9LPUSs4C3b/yaABi/nTwS+Pc5ML7OiKmRxxYf0YmFPHR8pk8hPObutlGJg1kxHsOZg8u2uuBueSnWrjG3T4EJBu1HIwPngGY/0EN/iK2MU0rMAtu2uqsnpjyql7hDyk+Zux/62r6Lpjj+6WmjE6e7c+7CvI2KUajOE4b7f+X82r4dQWtDKEDQur8y2W6+8Ok62wlkFo+c7JhUilN3oSdYoD1kVHKQRKRTRlnKVmtLtX8qdiVzV3ZDO8I/+P/V/Pu5AzjJvbMGupBcVdYTAwf6N0TouGEaJSwzL0YPFvkegptsDlK93PAXqhQs17WGv6aGNgdahKIA8L+1wkeH0swZS6jEqPj1LOgma2kktUXHEFdqX4Mcrw7+vDfrvyNPZiTxZsA5DC/Rbs88iAABHH0kfYgA2IMoAam7wbR3bvtv6Linxp7UrlxEWicNerrJadBgnWLNr5yBfFEfGVIXos3UgV63abNDNYm6yL97AAp9vzm8uEk8XYTmTuuVQlRRikL6jurBoc8jlDA4gpAUXx4xXLRRB8DcMgFqhWvHM+A91YVax4rFcsFd/7IBhwbPS6cMG8Zzex3u+GbrZ+CyvEONFPce8d3z0en/uK4xZBZk6y7HfbpKVRENECPJokI5vUS9a8AlAsICcT0YNYtvue8WdrUD5RJ1G4QbR5BsfnXsayFWYbKsmD4RjuJYlliCEArDhvjiM4n0yPnvvp2AdP4YumI4cnsVQzQNONSjFS1MjD2RrWgioGJwrTj/DhGk3Qnd0pPMw9h0d6swKsfyInwXRFeHrgXVgi3/iMEExeeK/cxfx/N9a/DUp/9m07AywE7SI93CXwKU3EM5MP8lLiPYLJj6xEi4kH0QgkseA339wH0Of5QCtMKifnt20LB6rrh0i8F/j+haqZwsktzB3e9mIq1gjWoNeutMENeRmUDSEIXgOlE0MbQGePo93kBQPsJ7MThIOmEBbEtJU/cVjw7LAIPwJ6PQoYtqu7uSDoybx169VhcGy7b6LBoqYjBTem2DKcd+hkUC3v/9gEZE4coejLFJIH+XMzfo6KZF7fS9Hw80nHFfkddKxrEz5qabo3SqZLgchlmPuZEQzG4EqL6bPPS+6cIAwzg/ZDhBMXzuU3M1/rfNTRlyXI6VQQV3cn0kJaAnZ4d3kUlsVj7ZldPdSCZ8N/S/s4k36/08ABe/drumeIu5hz/WiaLSv1XxULaDW7L6pWIhLKgMuGXLWhomHusYXEnueUdtiCodbvo4W4HPRzbG/ENugBKAEcPDSUyMjUpzAZa1W2pnZj2ri/oITC7avJ/Y2anJ1rcj6GIjCWi0dUmEOM5+EUhNjMY4v1f85H5qwaaDLkBL+dcyfm5rcbs8F4rpl57c5ddNiLf1q2YBYAjlkfRMhnfUWtn5lWjKVD4WtbizVvbIvHd/xv/vfH34/fjMfnrHi5F81c8SREZO9dsnVWEb5jc008gSWCRe09pRzPh8HW89qcFtnnakwEaGkcd1BBsAif/swtLISoxySyTDoXe5K/omAGoC9xUI2Nijn9Bbrg0f+nJqRGNeJtHy0kGXzQZRoc6zx2sAeXzjfdxBJ0MCAWu7C7O8LoNwo7noiAUV71ysWTfLlLkp6EGgeeO3cSbDN9Ji2aQW6cyjQCy2oTN2NdW7UD+ZwCb9MzleOLY84QXLD/KVpNOryNK4wempoV+kRjHnBLvVgJ6v2+0PoP84cP1qFSxHtM4+z0XLB6oE38Ej/5vCFkddS99L74Vueckt3qaS6KO0EIW6VibfcV0MkEH9zGzC4/qlRzB/PvmLT5FWz50I/YFA/Xa9Q0CFgzFB/bxX9PKvHS+297RFZ5OmnB2atQ6B/LGq5aDA4kKuan/xUBXZDpgXzs3CeHf8M201GDpIfw6AV73BOit4R/vQhCiOJBUvlKSLXPvmK9ziPSLEburBHhM73bjdJBJeAhNzCSrfK33y3L0qBN6HlUW5QaD/o0FUBkjLVExORzU8A2/RZ3gndzFFgluTiF623npTMYEqb14kpORdbde8YYmX0OFQQQprwq+9or0l/8SC+cJ7/bT2HW/5Lvs1hILZEUebdVu8UXS/+e2rYeMhPmthvKsNs1gy2OmQzAS2+UyzwfSV+WJ+YgB8PmJ6o/hEutCCa8xVlG5VZ02jPv8ua2M4Iftr6v2BEFdcqV4slOaFKPVhK6VqiPFWO1hDyMewxiJCf7+HANLFUwqSzLwIbb5fsc2oceaFbwA/BhDLnVxfbhXjxISyVCXiY55rpXmUx52QOxDZS7FDxT5rvMk/Z8JbguF+23e2cJcutfPigCNO11ox3ERUIQN48I/jZOB0KNe5bIr8lswZltLWBuT7FHR589T4YX2TQE8/EbtEOK655wCcyozTYJXtj5pBw3FQpJNhdGlyui5NFls9Xr1XMAgyN8Us7Sow74H5nEKHR3dGlcM+/8nAWARBidzMtkmPwJT0DmmBJlWsyfvDzfUbnx/eWE0IEfViJ3bjEumxttkFYU8fEV5MyIVAvxV88v6zwdZDKb/EuThxte5rslf9j4xbWJGcxdZ8BqUzzmUJICzml7Y+h/QVVZnW1KMJPTzUNRqzm7dJPOHADD+IvAk4xvlavwNIz9IHVjHRecSotAcmUGE3pw228An9WTFezVlviyd6sy46af0uJre5QRhG4wcOg9uAbj/pw1pI9Mx6CpTCmnZMqyVmLirt+J8Kitn938LaoYtIuIQpZeMDJ8Z0dQLjzclRiY4rxqB/4jzo/i0Ba0MQwOm6XPLSrp/xK/sniZnW1Nz6GDqJ87chJxGgMOSssunE3VOMmeIWKwt6/st2KDNwdl47zb/vv8F87rkNuO+9p4blUKSV8BL3h2R3B+hvIQulRvOQxpGXBB7U2xrOP/1oL9CqNazMNfP/usYvx0ZEk0D0/40Co4ffDAYLtcRneIGs3OZT6XZ1osdT17hflNxWTp579StxI3cmLTGwQGcMdhFTjxSIIYDUfTB9mUDcQxSBg/vctCou1PAmePTG2xT9nFtZ0g0ZOoFpviBHYyGv+IG9EW7ZcNdkzZbBObcms1l1pfrXv3VANr1veYI4qrxRBRTPO1VklAtKLHoK6q3htqOpsFvDGpS1HgzcpxDywGBx8epgq/oz0H4vBViHt8UhwV5/hoHjxt/LmgwthjK65W6kpsroLLLaBBeVD98NneBRiD9uLdjkNWTv7xL97oqikTaP/ElAwi09Tj19QCxC8sIN/TF1eG9ML072wURmko3b5Rs4T8p+JqwOIXYhgW01vlmPO5i9GEdPywNceJlznPTlecI+20Bivgb6YvhPO0cDZY1P1M3VLMx2PQetCiK9Yn/tXL+fkcVdbx2Kk7aDVjQfqwTrOLIU/HXEWgecxcLCKn+aQSFF+8r2zHcHtD0v8LinlWcZcFAA31JHHije9ZR6AqgwnKUD5Bgs5bs+iI1Qq9CcCvoDLT3GfR//noKqAoG+U3b4cAWu6rTWwYWQShrUnCSSu4FIrz5iQqDVqmr7OUxzV4CZSdHPhbB6AjQA9GM4z74fwH/+rvrteF/6UEGfy6bT6lWVjrbANS+/46Lhk2revCmO91v23ntVwIaDdpmsJ6pPcId6kMNxB2+GcQKX/8tAokT5Ch2Mjkkjv1hy1Cj1ZkQuED20j2Hcot+MVynGGjO6ZmejbuqxeFxGtY+uUSyMCAST/p28xT82wjpC2r97+CRxAG6/Mz4+wU33WWfcjlUhhN0yC6Qv4Cgn4/fkiZgWdtmkE5vH8fvitIpz5PfD/UGASb9ie564nnmzP8sJxhL7Ff8QZMMJMonlaaEsaG14ggvOmmBe8FgHCaE5Hu1NqgavLviDAhuHKsbng2RAHMAsQ90JUQywijmBVfUw6ipmM+vkOmHMZVr5H9vZSwm7Nq5oJCM86IB1zcRcDrlRZw1lRd//Vnzz/nnBpAMUgGQ5trI7LlBx//xjSxuX3lzuFzFIGfVwZcCgAWXr9KRGrFSb2c2VZ8obffs1fnNw9uK8QIA7/5r8cnjLeTT+b8f0EUDWJJI2Rfn1YmcSIRKmVHVzyFAYaV7hGj7MZ3vs7vsp5a2TNtAAmAaJR2DEDYCQf8VDLghUTFuLL0Nf90ir8+YuKhd3cQkX2Otf3JtSzMD6NCo74wpnG/MaAcJNSJGETovHToBzvPD97MEowyxBBTsoM3JuoTCkOjVIfhX5HL4Y38tz+KZoNaApY83xgYO0Eq1ZvtaqjGe/yzahM042MTtdf5IAEv0kuWa4mn0VhjeP/lWCU6KIvHhBaVuhTKSe8glFAhYQnoYb3Y9M/sAw8moz7Ht0/P7lxcaHlkTQASZ/scIyh2tLzsv+xS05k22PZrdosvRtxcEWuZ9HnTYP4P1F7LBjnmWN8Il/aouY0X3PdQidgXc9Ab2UgIrDH4HY/HH0ou8zb7J3wQXmU/ocONpijl/8JmqOYOZiVK6HAHVQaZkwl9sOjwIQ9/azQjV0ulk/CkBEvfA57vhne8OEWI53FRWUoMsGu59rhGIf4xdvDkGrk1Zd2J0ZEghB1HL1qrerb7MN/UXFHkeDBadBn3+2gXDGWwtKDGKG9TvJb7mnE2eAceNCqRPl3pdeadLPgNzvASS/5GAuI/yYyehQzRBaCgkCoX2qvTd/zQLsglm9jXYH78gvMPXQQxzRpJta27AREr+nrUmh/iEKa/989c3QmF0Y8JCLhEo5QTPTNLK5dj5hgGq+T/qiuF96wUKeTK+UXNVpzU2+su4I4xBiB6xOfhVQvFyTXicUkATj9QVrtuq4MUl7uMPNR6CGDsJ6v5bA70Voyo6MlghvviJxrigDpsfvXL9ZETNdR59kVYIEcPHtJbOjm+vyOdGH9ZAskPPLTAPyvjB82n9zQlKCwj7zd1wwnu6ldCyAaw89GiFcf9OAQyFwY6M1IHlpNPm9SyMXPtliEpSGsvrCtEc0MTh3/ZbAf/79uz64RDoVANDK7NNXlfcPRwGy8OTkYOF46ZS6iA2Fm3GevlbZx+e3oOy3Khxv9nmBQtDHaYaBgzY/1gBzhFoJ3gyWCZRAVTPnaUmmUG0kPBtOJpvVn9yYLMe49PGnPmMKKf53GsWAj1bRe4yhhSo+1jzDPsGCEYMN/9y42fG2blRynv3aDIkYy5zJlh3GSTOYZM5gKibzNlQIY5WRWeeUYcjG/Pv04vO292I86QA/v3P7//iXeUU/eEj1UgaWAxFphFTz0qYTITNnbPcOCnYZcF7WGRsK2HpG7jxp5G5bd+KBZsbYhznDj8B2/8ODtMj7jF/KnQJZdh9q5GYgqwS5OcrFWj9fydpECyu4CqkjYzNn0bS6wwpOB5GpzcPGhf/e/Pe+PMFqwzjAgnp68oxugbFu+3PJzxcZHMaYIAmUNuImy6AlZMVzQwVVU9GZ+RXqywC+7XXrc0m2uTvYv+X/7Tyh+Rj41j3cRw/Q7BXJEuuHDrbLaCbhPiVic/IG01dN3uYayQ3tvTRvimoXrQB2IP/OhmjHckREwPl/pIK/h+rMMgtCRGX4TqySpn2pSLY/h5ZXxN/lXD0OPntzKyQjX2Z18flAlIy7UXfO7EfDQMz9PL2qAN/DAMGeO7gz3a7vcCT5AcdWlQucsRm8TLe6OiktIHJjNnAUgj0RvVlO12ZNWYDVdyRzcDWB+yZ/bwAi/V/5iHiM/ITFQw9KVYYUBEnV+cdqWyGfI//wvsNkFMneZxxZUJ3AJTGjanyr7TQAfkfFlcekhREBXz+bQcCHL8uMjD8F8bqtrlGm62g5czeEYVVnXyhdjFFmfuRtgeQVJTUvXn4iiu8RH0/UiV+B4X1XvU8AcwLjAio8yrVmL18vR/cOBKeS5ZvE2yiPqD2Ya/IhFyHQ7VL+4I9TmOLYTA+LgzJ4UPOwdMI6FD7YwFA+NTokeGy7eQNWzaYU95TrzB/8/mytIltij+3AAA=\" type=\"audio/wav\" />\n",
       "                    Your browser does not support the audio element.\n",
       "                </audio>\n",
       "              "
      ],
      "text/plain": [
       "<IPython.lib.display.Audio object>"
      ]
     },
     "execution_count": 26,
     "metadata": {},
     "output_type": "execute_result"
    }
   ],
   "source": [
    "time_exp(time.time() - start)\n",
    "tone()"
   ]
  }
 ],
 "metadata": {
  "kernelspec": {
   "display_name": "Python 3",
   "language": "python",
   "name": "python3"
  },
  "language_info": {
   "codemirror_mode": {
    "name": "ipython",
    "version": 3
   },
   "file_extension": ".py",
   "mimetype": "text/x-python",
   "name": "python",
   "nbconvert_exporter": "python",
   "pygments_lexer": "ipython3",
   "version": "3.9.1"
  },
  "toc": {
   "base_numbering": 1,
   "nav_menu": {},
   "number_sections": true,
   "sideBar": true,
   "skip_h1_title": true,
   "title_cell": "Table of Contents",
   "title_sidebar": "Contents",
   "toc_cell": false,
   "toc_position": {},
   "toc_section_display": true,
   "toc_window_display": true
  },
  "varInspector": {
   "cols": {
    "lenName": 16,
    "lenType": 16,
    "lenVar": 40
   },
   "kernels_config": {
    "python": {
     "delete_cmd_postfix": "",
     "delete_cmd_prefix": "del ",
     "library": "var_list.py",
     "varRefreshCmd": "print(var_dic_list())"
    },
    "r": {
     "delete_cmd_postfix": ") ",
     "delete_cmd_prefix": "rm(",
     "library": "var_list.r",
     "varRefreshCmd": "cat(var_dic_list()) "
    }
   },
   "types_to_exclude": [
    "module",
    "function",
    "builtin_function_or_method",
    "instance",
    "_Feature"
   ],
   "window_display": false
  }
 },
 "nbformat": 4,
 "nbformat_minor": 4
}
