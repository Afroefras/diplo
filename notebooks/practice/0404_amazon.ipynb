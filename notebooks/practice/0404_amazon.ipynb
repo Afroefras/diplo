{
 "cells": [
  {
   "cell_type": "markdown",
   "source": [
    "# Predict pollution"
   ],
   "metadata": {}
  },
  {
   "cell_type": "markdown",
   "source": [
    "## Parameters"
   ],
   "metadata": {}
  },
  {
   "cell_type": "code",
   "execution_count": 1,
   "source": [
    "from pathlib import Path\n",
    "\n",
    "BASE_DIR = Path('/Users/efraflores/Desktop/EF/Diplo/data/04/amazon')\n",
    "TRAIN_NAME = 'amazon_train.csv'\n",
    "VAL_NAME = 'amazon_test.csv'\n",
    "MAX_WORDS = 10000\n",
    "MAX_SEQ = 50\n",
    "EMBEDDING_DIM = 150\n",
    "EPOCHS = 50\n",
    "BATCH_SIZE = 5000"
   ],
   "outputs": [],
   "metadata": {}
  },
  {
   "cell_type": "markdown",
   "source": [
    "## Import"
   ],
   "metadata": {}
  },
  {
   "cell_type": "code",
   "execution_count": 2,
   "source": [
    "import pandas as pd\n",
    "\n",
    "df = pd.read_csv(BASE_DIR.joinpath(TRAIN_NAME)).set_index('review_id')\n",
    "df.sample()"
   ],
   "outputs": [
    {
     "output_type": "execute_result",
     "data": {
      "text/html": [
       "<div>\n",
       "<style scoped>\n",
       "    .dataframe tbody tr th:only-of-type {\n",
       "        vertical-align: middle;\n",
       "    }\n",
       "\n",
       "    .dataframe tbody tr th {\n",
       "        vertical-align: top;\n",
       "    }\n",
       "\n",
       "    .dataframe thead th {\n",
       "        text-align: right;\n",
       "    }\n",
       "</style>\n",
       "<table border=\"1\" class=\"dataframe\">\n",
       "  <thead>\n",
       "    <tr style=\"text-align: right;\">\n",
       "      <th></th>\n",
       "      <th>asin</th>\n",
       "      <th>name</th>\n",
       "      <th>rating</th>\n",
       "      <th>date</th>\n",
       "      <th>verified</th>\n",
       "      <th>title</th>\n",
       "      <th>body</th>\n",
       "      <th>helpfulVotes</th>\n",
       "    </tr>\n",
       "    <tr>\n",
       "      <th>review_id</th>\n",
       "      <th></th>\n",
       "      <th></th>\n",
       "      <th></th>\n",
       "      <th></th>\n",
       "      <th></th>\n",
       "      <th></th>\n",
       "      <th></th>\n",
       "      <th></th>\n",
       "    </tr>\n",
       "  </thead>\n",
       "  <tbody>\n",
       "    <tr>\n",
       "      <th>26522</th>\n",
       "      <td>B06XYMCMHD</td>\n",
       "      <td>KAMI</td>\n",
       "      <td>4</td>\n",
       "      <td>May 17, 2018</td>\n",
       "      <td>True</td>\n",
       "      <td>Excelente</td>\n",
       "      <td>Bien</td>\n",
       "      <td>NaN</td>\n",
       "    </tr>\n",
       "  </tbody>\n",
       "</table>\n",
       "</div>"
      ],
      "text/plain": [
       "                 asin  name  rating          date  verified      title  body  \\\n",
       "review_id                                                                      \n",
       "26522      B06XYMCMHD  KAMI       4  May 17, 2018      True  Excelente  Bien   \n",
       "\n",
       "           helpfulVotes  \n",
       "review_id                \n",
       "26522               NaN  "
      ]
     },
     "metadata": {},
     "execution_count": 2
    }
   ],
   "metadata": {}
  },
  {
   "cell_type": "markdown",
   "source": [
    "## Functions"
   ],
   "metadata": {}
  },
  {
   "cell_type": "markdown",
   "source": [
    "### Clean text"
   ],
   "metadata": {}
  },
  {
   "cell_type": "code",
   "execution_count": 3,
   "source": [
    "#Uncomment the following lines if it's the first time you run this packages\n",
    "'''\n",
    "!pip install emoji\n",
    "!pip install nltk\n",
    "import nltk\n",
    "nltk.download('stopwords')\n",
    "nltk.download('wordnet')\n",
    "'''\n",
    "import re\n",
    "import unicodedata\n",
    "from emoji import demojize\n",
    "from nltk.corpus import stopwords\n",
    "from nltk.stem import WordNetLemmatizer\n",
    "\n",
    "lem = WordNetLemmatizer()\n",
    "\n",
    "def clean_text(text, language='english', pattern=\"[^a-zA-Z\\s]\", add_stopw=[],\n",
    "                lower=False, lemma=False, rem_stopw=False, unique=False, emoji=False):\n",
    "    if emoji: text = demojize(text)\n",
    "    cleaned_text = unicodedata.normalize('NFD',str(text).replace('\\n',' \\n ')).encode('ascii', 'ignore')\n",
    "    cleaned_text = re.sub(pattern,' ',cleaned_text.decode('utf-8'),flags=re.UNICODE)\n",
    "    cleaned_text = [(lem.lemmatize(word,pos='v') if lemma else word) for word in \n",
    "                    (cleaned_text.lower().split() if lower else cleaned_text.split())]\n",
    "    if rem_stopw: cleaned_text = [word for word in cleaned_text if word not in \n",
    "                                  stopwords.words(language)+add_stopw]\n",
    "    return ' '.join((set(cleaned_text) if unique else cleaned_text))\n",
    "\n",
    "#Ex\n",
    "ex = \"I am going to run!!! I ran while I was running??? ...\"\n",
    "print('\\nOriginal:\\t\\t',ex)\n",
    "print('Basic cleaning:\\t\\t',clean_text(ex))\n",
    "print('Changing the pattern:\\t',clean_text(ex,pattern=\"[^a-zA-Z!\\.]\"))\n",
    "print('Without stopwords:\\t',clean_text(ex,rem_stopw=True))\n",
    "print('Lower and lemma:\\t',clean_text(ex,lower=True,lemma=True))\n",
    "print('Super cleaning:\\t\\t',clean_text(ex,add_stopw=['go'],lower=True,rem_stopw=True,lemma=True,unique=True))\n",
    "print(\"\\nIt actually corrects the weird accents, example\\n\\tFROM:\\t ThÈ ÉfrâïsMã's?...\\n\\tTO:\\t\",clean_text(\"ThÈ ÉfrâïsMa's?...\",lower=True))\n",
    "print(\"\\nAnd now, it can translate emojis!!! 😍\",clean_text('😍', emoji=True))"
   ],
   "outputs": [
    {
     "output_type": "stream",
     "name": "stdout",
     "text": [
      "\n",
      "Original:\t\t I am going to run!!! I ran while I was running??? ...\n",
      "Basic cleaning:\t\t I am going to run I ran while I was running\n",
      "Changing the pattern:\t I am going to run!!! I ran while I was running ...\n",
      "Without stopwords:\t I going run I ran I running\n",
      "Lower and lemma:\t i be go to run i run while i be run\n",
      "Super cleaning:\t\t run\n",
      "\n",
      "It actually corrects the weird accents, example\n",
      "\tFROM:\t ThÈ ÉfrâïsMã's?...\n",
      "\tTO:\t the efraisma s\n",
      "\n",
      "And now, it can translate emojis!!! 😍 smiling face with heart eyes\n"
     ]
    }
   ],
   "metadata": {}
  },
  {
   "cell_type": "markdown",
   "source": [
    "### Outliers"
   ],
   "metadata": {}
  },
  {
   "cell_type": "code",
   "execution_count": 4,
   "source": [
    "from sklearn.ensemble import IsolationForest\n",
    "\n",
    "def outliers(data,cols):\n",
    "    df = data.copy()\n",
    "    outlier = IsolationForest(contamination=.04,n_jobs=-1)\n",
    "    df['outlier'] = outlier.fit_predict(df[cols])\n",
    "    df = df[df['outlier']!=-1].drop(columns = 'outlier')\n",
    "    return df"
   ],
   "outputs": [],
   "metadata": {}
  },
  {
   "cell_type": "markdown",
   "source": [
    "### Confussion matrix"
   ],
   "metadata": {}
  },
  {
   "cell_type": "code",
   "execution_count": 5,
   "source": [
    "import numpy as np\n",
    "import seaborn as sns\n",
    "import matplotlib.pyplot as plt\n",
    "from sklearn.metrics import confusion_matrix\n",
    "\n",
    "def cm_keras(X, y, fit_model, label_encod=None, scale_to=1):\n",
    "    y_real = [np.argmax(x) for x in y]\n",
    "    y_predicted = [np.argmax(x).reshape(-1,)[0] for x in fit_model.predict(X)]\n",
    "\n",
    "    if label_encod == None: pass\n",
    "    else: \n",
    "        y_real = label_encod.inverse_transform(y_real)\n",
    "        y_predicted = label_encod.inverse_transform(y_predicted)\n",
    "\n",
    "    cm = pd.DataFrame(confusion_matrix(y_true=y_real, y_pred=y_predicted),\n",
    "                    index=label_encod.classes_ if label_encod!=None else label_encod,\n",
    "                    columns=label_encod.classes_ if label_encod!=None else label_encod).replace({0:np.nan}).T\n",
    "\n",
    "    print('Accuracy de {:.2%}'.format(np.asarray(cm).trace()/len(y_test)))\n",
    "    size = int(len(np.unique(y_real))/2)*scale_to\n",
    "    fig, ax = plt.subplots(figsize=(size,size)) \n",
    "    sns.heatmap(pd.DataFrame([cm[col]/cm[col].sum() for col in cm.columns]), \n",
    "                annot = True,\n",
    "                fmt = '.0%',\n",
    "                cmap = 'Blues',\n",
    "                linewidths = 0.5, \n",
    "                ax = ax)\n",
    "    plt.show()\n",
    "    return cm"
   ],
   "outputs": [],
   "metadata": {}
  },
  {
   "cell_type": "markdown",
   "source": [
    "### Full pipeline"
   ],
   "metadata": {}
  },
  {
   "cell_type": "code",
   "execution_count": 6,
   "source": [
    "def full_pipeline(data):\n",
    "    df = data.copy()\n",
    "    df.fillna({'title':'empty title', 'body':'empty body'}, inplace=True)\n",
    "    df['text'] = df['title'].astype(str) + ' ' + df['body'].astype(str)\n",
    "    df['clean_text'] = df['text'].map(lambda x: clean_text(x, lower=True, rem_stopw=True, lemma=True, emoji=True))\n",
    "    df.fillna({'clean_text':'empty text'}, inplace=True)\n",
    "    X = pad_sequences(tokenizer.texts_to_sequences(df['clean_text'].values), maxlen=MAX_SEQ)\n",
    "    predictions = model.predict(X)\n",
    "    return [le.inverse_transform([np.argmax(x)])[0] for x in predictions]"
   ],
   "outputs": [],
   "metadata": {}
  },
  {
   "cell_type": "markdown",
   "source": [
    "## Transform"
   ],
   "metadata": {}
  },
  {
   "cell_type": "markdown",
   "source": [
    "### Full text"
   ],
   "metadata": {}
  },
  {
   "cell_type": "code",
   "execution_count": 7,
   "source": [
    "df.fillna({'title':'empty title', 'body':'empty body'}, inplace=True)\n",
    "df['text'] = df['title'].astype(str) + ' ' + df['body'].astype(str)\n",
    "df[['text']].sample(4)"
   ],
   "outputs": [
    {
     "output_type": "execute_result",
     "data": {
      "text/html": [
       "<div>\n",
       "<style scoped>\n",
       "    .dataframe tbody tr th:only-of-type {\n",
       "        vertical-align: middle;\n",
       "    }\n",
       "\n",
       "    .dataframe tbody tr th {\n",
       "        vertical-align: top;\n",
       "    }\n",
       "\n",
       "    .dataframe thead th {\n",
       "        text-align: right;\n",
       "    }\n",
       "</style>\n",
       "<table border=\"1\" class=\"dataframe\">\n",
       "  <thead>\n",
       "    <tr style=\"text-align: right;\">\n",
       "      <th></th>\n",
       "      <th>text</th>\n",
       "    </tr>\n",
       "    <tr>\n",
       "      <th>review_id</th>\n",
       "      <th></th>\n",
       "    </tr>\n",
       "  </thead>\n",
       "  <tbody>\n",
       "    <tr>\n",
       "      <th>61975</th>\n",
       "      <td>Excellent refurbished (or new??) iPhone se fro...</td>\n",
       "    </tr>\n",
       "    <tr>\n",
       "      <th>18516</th>\n",
       "      <td>best phone eva Fot me and i would say for many...</td>\n",
       "    </tr>\n",
       "    <tr>\n",
       "      <th>65349</th>\n",
       "      <td>Muy bueno Para el precio muy buen regalo y pro...</td>\n",
       "    </tr>\n",
       "    <tr>\n",
       "      <th>48253</th>\n",
       "      <td>Good Good</td>\n",
       "    </tr>\n",
       "  </tbody>\n",
       "</table>\n",
       "</div>"
      ],
      "text/plain": [
       "                                                        text\n",
       "review_id                                                   \n",
       "61975      Excellent refurbished (or new??) iPhone se fro...\n",
       "18516      best phone eva Fot me and i would say for many...\n",
       "65349      Muy bueno Para el precio muy buen regalo y pro...\n",
       "48253                                              Good Good"
      ]
     },
     "metadata": {},
     "execution_count": 7
    }
   ],
   "metadata": {}
  },
  {
   "cell_type": "markdown",
   "source": [
    "### Outliers"
   ],
   "metadata": {}
  },
  {
   "cell_type": "code",
   "execution_count": 8,
   "source": [
    "df['len'] = df['text'].str.split().str.len()\n",
    "df['len'].describe()"
   ],
   "outputs": [
    {
     "output_type": "execute_result",
     "data": {
      "text/plain": [
       "count    50989.000000\n",
       "mean        59.653729\n",
       "std        120.063450\n",
       "min          2.000000\n",
       "25%         11.000000\n",
       "50%         27.000000\n",
       "75%         62.000000\n",
       "max       5351.000000\n",
       "Name: len, dtype: float64"
      ]
     },
     "metadata": {},
     "execution_count": 8
    }
   ],
   "metadata": {}
  },
  {
   "cell_type": "code",
   "execution_count": 9,
   "source": [
    "df = outliers(df, ['len'])\n",
    "df['len'].describe()"
   ],
   "outputs": [
    {
     "output_type": "execute_result",
     "data": {
      "text/plain": [
       "count    48956.000000\n",
       "mean        41.959372\n",
       "std         45.368490\n",
       "min          2.000000\n",
       "25%         10.000000\n",
       "50%         26.000000\n",
       "75%         55.000000\n",
       "max        244.000000\n",
       "Name: len, dtype: float64"
      ]
     },
     "metadata": {},
     "execution_count": 9
    }
   ],
   "metadata": {}
  },
  {
   "cell_type": "markdown",
   "source": [
    "### Clean text"
   ],
   "metadata": {}
  },
  {
   "cell_type": "code",
   "execution_count": 10,
   "source": [
    "# df['clean_text'] = df['text'].map(lambda x: clean_text(x, lower=True, rem_stopw=True, lemma=True, emoji=True))\n",
    "# df.to_csv(BASE_DIR.joinpath(f'clean_{TRAIN_NAME}'))\n",
    "# df[['text', 'clean_text']].sample(4)"
   ],
   "outputs": [],
   "metadata": {}
  },
  {
   "cell_type": "code",
   "execution_count": 11,
   "source": [
    "df = pd.read_csv(BASE_DIR.joinpath(f'clean_{TRAIN_NAME}')).set_index('review_id')\n",
    "df.fillna({'clean_text':'empty text'}, inplace=True)\n",
    "df.sample()"
   ],
   "outputs": [
    {
     "output_type": "execute_result",
     "data": {
      "text/html": [
       "<div>\n",
       "<style scoped>\n",
       "    .dataframe tbody tr th:only-of-type {\n",
       "        vertical-align: middle;\n",
       "    }\n",
       "\n",
       "    .dataframe tbody tr th {\n",
       "        vertical-align: top;\n",
       "    }\n",
       "\n",
       "    .dataframe thead th {\n",
       "        text-align: right;\n",
       "    }\n",
       "</style>\n",
       "<table border=\"1\" class=\"dataframe\">\n",
       "  <thead>\n",
       "    <tr style=\"text-align: right;\">\n",
       "      <th></th>\n",
       "      <th>asin</th>\n",
       "      <th>name</th>\n",
       "      <th>rating</th>\n",
       "      <th>date</th>\n",
       "      <th>verified</th>\n",
       "      <th>title</th>\n",
       "      <th>body</th>\n",
       "      <th>helpfulVotes</th>\n",
       "      <th>text</th>\n",
       "      <th>len</th>\n",
       "      <th>clean_text</th>\n",
       "    </tr>\n",
       "    <tr>\n",
       "      <th>review_id</th>\n",
       "      <th></th>\n",
       "      <th></th>\n",
       "      <th></th>\n",
       "      <th></th>\n",
       "      <th></th>\n",
       "      <th></th>\n",
       "      <th></th>\n",
       "      <th></th>\n",
       "      <th></th>\n",
       "      <th></th>\n",
       "      <th></th>\n",
       "    </tr>\n",
       "  </thead>\n",
       "  <tbody>\n",
       "    <tr>\n",
       "      <th>4593</th>\n",
       "      <td>B079HB518K</td>\n",
       "      <td>I decided my sis and put it on my blog and she...</td>\n",
       "      <td>5</td>\n",
       "      <td>December 5, 2019</td>\n",
       "      <td>True</td>\n",
       "      <td>Great gift</td>\n",
       "      <td>I bought this for my daughter. She says it’s t...</td>\n",
       "      <td>NaN</td>\n",
       "      <td>Great gift I bought this for my daughter. She ...</td>\n",
       "      <td>13</td>\n",
       "      <td>great gift buy daughter say best</td>\n",
       "    </tr>\n",
       "  </tbody>\n",
       "</table>\n",
       "</div>"
      ],
      "text/plain": [
       "                 asin                                               name  \\\n",
       "review_id                                                                  \n",
       "4593       B079HB518K  I decided my sis and put it on my blog and she...   \n",
       "\n",
       "           rating              date  verified       title  \\\n",
       "review_id                                                   \n",
       "4593            5  December 5, 2019      True  Great gift   \n",
       "\n",
       "                                                        body  helpfulVotes  \\\n",
       "review_id                                                                    \n",
       "4593       I bought this for my daughter. She says it’s t...           NaN   \n",
       "\n",
       "                                                        text  len  \\\n",
       "review_id                                                           \n",
       "4593       Great gift I bought this for my daughter. She ...   13   \n",
       "\n",
       "                                 clean_text  \n",
       "review_id                                    \n",
       "4593       great gift buy daughter say best  "
      ]
     },
     "metadata": {},
     "execution_count": 11
    }
   ],
   "metadata": {}
  },
  {
   "cell_type": "markdown",
   "source": [
    "## Model"
   ],
   "metadata": {}
  },
  {
   "cell_type": "markdown",
   "source": [
    "### Tokenizer and Padding"
   ],
   "metadata": {}
  },
  {
   "cell_type": "code",
   "execution_count": 12,
   "source": [
    "from tensorflow.keras.preprocessing.text import Tokenizer\n",
    "from tensorflow.keras.preprocessing.sequence import pad_sequences\n",
    "\n",
    "tokenizer = Tokenizer(num_words=MAX_WORDS, filters='!\"#$%&()*+,-./:;<=>?@[\\]^_`{|}~', lower=True)\n",
    "tokenizer.fit_on_texts(df['clean_text'].values)\n",
    "word_index = tokenizer.word_index\n",
    "print(f'Found {len(word_index)} unique tokens')\n",
    "X = pad_sequences(tokenizer.texts_to_sequences(df['clean_text'].values), maxlen=MAX_SEQ)\n",
    "print(X[22])"
   ],
   "outputs": [
    {
     "output_type": "stream",
     "name": "stdout",
     "text": [
      "Found 20118 unique tokens\n",
      "[ 115   70 2266    5    1  112    2  289   90  573   66  219   73 3097\n",
      "    1  138   66  312  227  416  541  500  863 4447    3   55  137   81\n",
      "  241  336  158    1    5   81  541  500  112  211   21   44    5  167\n",
      "   76  570   64  193   17  493  654  478]\n"
     ]
    }
   ],
   "metadata": {}
  },
  {
   "cell_type": "markdown",
   "source": [
    "### Target encoder"
   ],
   "metadata": {}
  },
  {
   "cell_type": "code",
   "execution_count": 13,
   "source": [
    "from sklearn.preprocessing import LabelEncoder\n",
    "from tensorflow.keras.utils import to_categorical\n",
    "\n",
    "le = LabelEncoder()\n",
    "y = to_categorical(le.fit_transform(df['rating']))\n",
    "print(le.classes_,'\\n',y[22])"
   ],
   "outputs": [
    {
     "output_type": "stream",
     "name": "stdout",
     "text": [
      "[1 2 3 4 5] \n",
      " [0. 1. 0. 0. 0.]\n"
     ]
    }
   ],
   "metadata": {}
  },
  {
   "cell_type": "markdown",
   "source": [
    "### Train test split"
   ],
   "metadata": {}
  },
  {
   "cell_type": "code",
   "execution_count": 14,
   "source": [
    "from sklearn.model_selection import train_test_split\n",
    "X_train, X_test, y_train, y_test = train_test_split(X, y, random_state=22, train_size=0.77, shuffle=True)"
   ],
   "outputs": [],
   "metadata": {}
  },
  {
   "cell_type": "markdown",
   "source": [
    "### Arquitecture"
   ],
   "metadata": {}
  },
  {
   "cell_type": "code",
   "execution_count": 15,
   "source": [
    "import os\n",
    "os.environ['TF_CPP_MIN_LOG_LEVEL'] = '2'"
   ],
   "outputs": [],
   "metadata": {}
  },
  {
   "cell_type": "code",
   "execution_count": 16,
   "source": [
    "# from tensorflow.keras.layers import GRU\n",
    "from tensorflow.keras.layers import LSTM, GRU\n",
    "from tensorflow.keras.layers import Dense\n",
    "from tensorflow.keras.layers import Embedding\n",
    "from tensorflow.keras.models import Sequential\n",
    "from tensorflow.keras.layers import SpatialDropout1D\n",
    "\n",
    "model = Sequential()\n",
    "model.add(Embedding(MAX_WORDS, EMBEDDING_DIM, input_length=X.shape[1]))\n",
    "model.add(SpatialDropout1D(0.1))\n",
    "model.add(GRU(100, dropout=0.1, recurrent_dropout=0.1, activation=\"tanh\"))\n",
    "model.add(Dense(200, activation=\"relu\"))\n",
    "model.add(Dense(len(le.classes_), activation='softmax'))\n",
    "print(model.summary())"
   ],
   "outputs": [
    {
     "output_type": "stream",
     "name": "stdout",
     "text": [
      "Model: \"sequential\"\n",
      "_________________________________________________________________\n",
      "Layer (type)                 Output Shape              Param #   \n",
      "=================================================================\n",
      "embedding (Embedding)        (None, 50, 150)           1500000   \n",
      "_________________________________________________________________\n",
      "spatial_dropout1d (SpatialDr (None, 50, 150)           0         \n",
      "_________________________________________________________________\n",
      "gru (GRU)                    (None, 100)               75600     \n",
      "_________________________________________________________________\n",
      "dense (Dense)                (None, 200)               20200     \n",
      "_________________________________________________________________\n",
      "dense_1 (Dense)              (None, 5)                 1005      \n",
      "=================================================================\n",
      "Total params: 1,596,805\n",
      "Trainable params: 1,596,805\n",
      "Non-trainable params: 0\n",
      "_________________________________________________________________\n",
      "None\n"
     ]
    }
   ],
   "metadata": {}
  },
  {
   "cell_type": "markdown",
   "source": [
    "#### Callbacks"
   ],
   "metadata": {}
  },
  {
   "cell_type": "code",
   "execution_count": 17,
   "source": [
    "from tensorflow.keras.callbacks import EarlyStopping, ModelCheckpoint\n",
    "\n",
    "early_stopping = EarlyStopping(monitor='val_accuracy', patience=10)\n",
    "checkpoint = ModelCheckpoint(BASE_DIR.joinpath('models','amazon_model_{val_accuracy:.3f}.h5'),\n",
    "                             save_best_only=True,\n",
    "                             save_weights_only=False,\n",
    "                             monitor='val_accuracy')"
   ],
   "outputs": [],
   "metadata": {}
  },
  {
   "cell_type": "markdown",
   "source": [
    "### Training"
   ],
   "metadata": {}
  },
  {
   "cell_type": "markdown",
   "source": [
    "#### Compile"
   ],
   "metadata": {}
  },
  {
   "cell_type": "code",
   "execution_count": 18,
   "source": [
    "model.compile(loss='categorical_crossentropy', optimizer='adam', metrics=['accuracy'])"
   ],
   "outputs": [],
   "metadata": {}
  },
  {
   "cell_type": "markdown",
   "source": [
    "#### Fit"
   ],
   "metadata": {}
  },
  {
   "cell_type": "code",
   "execution_count": 19,
   "source": [
    "training_history = model.fit(X_train, y_train, epochs=EPOCHS, batch_size=BATCH_SIZE, validation_data=(X_test, y_test), callbacks=[checkpoint, early_stopping])"
   ],
   "outputs": [
    {
     "output_type": "stream",
     "name": "stdout",
     "text": [
      "Epoch 1/50\n",
      "8/8 [==============================] - 28s 3s/step - loss: 1.5611 - accuracy: 0.5096 - val_loss: 1.4485 - val_accuracy: 0.5615\n",
      "Epoch 2/50\n",
      "8/8 [==============================] - 28s 3s/step - loss: 1.3073 - accuracy: 0.5625 - val_loss: 1.2268 - val_accuracy: 0.5615\n",
      "Epoch 3/50\n",
      "8/8 [==============================] - 24s 3s/step - loss: 1.1642 - accuracy: 0.5634 - val_loss: 1.1317 - val_accuracy: 0.5704\n",
      "Epoch 4/50\n",
      "8/8 [==============================] - 23s 3s/step - loss: 1.0800 - accuracy: 0.5878 - val_loss: 1.0515 - val_accuracy: 0.6076\n",
      "Epoch 5/50\n",
      "8/8 [==============================] - 23s 3s/step - loss: 0.9917 - accuracy: 0.6406 - val_loss: 0.9756 - val_accuracy: 0.6525\n",
      "Epoch 6/50\n",
      "8/8 [==============================] - 25s 3s/step - loss: 0.9019 - accuracy: 0.6746 - val_loss: 0.9021 - val_accuracy: 0.6774\n",
      "Epoch 7/50\n",
      "8/8 [==============================] - 28s 3s/step - loss: 0.8249 - accuracy: 0.7016 - val_loss: 0.8416 - val_accuracy: 0.7035\n",
      "Epoch 8/50\n",
      "8/8 [==============================] - 19s 2s/step - loss: 0.7719 - accuracy: 0.7122 - val_loss: 0.8150 - val_accuracy: 0.7073\n",
      "Epoch 9/50\n",
      "8/8 [==============================] - 18s 2s/step - loss: 0.7352 - accuracy: 0.7214 - val_loss: 0.8057 - val_accuracy: 0.7094\n",
      "Epoch 10/50\n",
      "8/8 [==============================] - 20s 2s/step - loss: 0.7068 - accuracy: 0.7284 - val_loss: 0.8003 - val_accuracy: 0.7121\n",
      "Epoch 11/50\n",
      "8/8 [==============================] - 22s 3s/step - loss: 0.6790 - accuracy: 0.7388 - val_loss: 0.7944 - val_accuracy: 0.7151\n",
      "Epoch 12/50\n",
      "8/8 [==============================] - 25s 3s/step - loss: 0.6507 - accuracy: 0.7512 - val_loss: 0.7960 - val_accuracy: 0.7168\n",
      "Epoch 13/50\n",
      "8/8 [==============================] - 25s 3s/step - loss: 0.6207 - accuracy: 0.7656 - val_loss: 0.7937 - val_accuracy: 0.7157\n",
      "Epoch 14/50\n",
      "8/8 [==============================] - 24s 3s/step - loss: 0.5922 - accuracy: 0.7788 - val_loss: 0.7951 - val_accuracy: 0.7142\n",
      "Epoch 15/50\n",
      "8/8 [==============================] - 24s 3s/step - loss: 0.5688 - accuracy: 0.7894 - val_loss: 0.8010 - val_accuracy: 0.7197\n",
      "Epoch 16/50\n",
      "8/8 [==============================] - 26s 3s/step - loss: 0.5469 - accuracy: 0.7993 - val_loss: 0.8071 - val_accuracy: 0.7209\n",
      "Epoch 17/50\n",
      "8/8 [==============================] - 22s 3s/step - loss: 0.5291 - accuracy: 0.8061 - val_loss: 0.8157 - val_accuracy: 0.7222\n",
      "Epoch 18/50\n",
      "8/8 [==============================] - 16s 2s/step - loss: 0.5119 - accuracy: 0.8164 - val_loss: 0.8366 - val_accuracy: 0.7196\n",
      "Epoch 19/50\n",
      "8/8 [==============================] - 17s 2s/step - loss: 0.4972 - accuracy: 0.8235 - val_loss: 0.8344 - val_accuracy: 0.7175\n",
      "Epoch 20/50\n",
      "8/8 [==============================] - 16s 2s/step - loss: 0.4837 - accuracy: 0.8297 - val_loss: 0.8554 - val_accuracy: 0.7242\n",
      "Epoch 21/50\n",
      "8/8 [==============================] - 16s 2s/step - loss: 0.4718 - accuracy: 0.8340 - val_loss: 0.8619 - val_accuracy: 0.7175\n",
      "Epoch 22/50\n",
      "8/8 [==============================] - 16s 2s/step - loss: 0.4576 - accuracy: 0.8403 - val_loss: 0.8810 - val_accuracy: 0.7187\n",
      "Epoch 23/50\n",
      "8/8 [==============================] - 16s 2s/step - loss: 0.4489 - accuracy: 0.8445 - val_loss: 0.8958 - val_accuracy: 0.7176\n",
      "Epoch 24/50\n",
      "8/8 [==============================] - 16s 2s/step - loss: 0.4342 - accuracy: 0.8518 - val_loss: 0.8994 - val_accuracy: 0.7122\n",
      "Epoch 25/50\n",
      "8/8 [==============================] - 17s 2s/step - loss: 0.4229 - accuracy: 0.8547 - val_loss: 0.9195 - val_accuracy: 0.7152\n",
      "Epoch 26/50\n",
      "8/8 [==============================] - 17s 2s/step - loss: 0.4136 - accuracy: 0.8610 - val_loss: 0.9330 - val_accuracy: 0.7177\n",
      "Epoch 27/50\n",
      "8/8 [==============================] - 17s 2s/step - loss: 0.4030 - accuracy: 0.8642 - val_loss: 0.9517 - val_accuracy: 0.7133\n",
      "Epoch 28/50\n",
      "8/8 [==============================] - 16s 2s/step - loss: 0.3928 - accuracy: 0.8674 - val_loss: 0.9675 - val_accuracy: 0.7138\n",
      "Epoch 29/50\n",
      "8/8 [==============================] - 17s 2s/step - loss: 0.3808 - accuracy: 0.8727 - val_loss: 0.9776 - val_accuracy: 0.7111\n",
      "Epoch 30/50\n",
      "8/8 [==============================] - 17s 2s/step - loss: 0.3706 - accuracy: 0.8775 - val_loss: 0.9960 - val_accuracy: 0.7131\n"
     ]
    }
   ],
   "metadata": {}
  },
  {
   "cell_type": "markdown",
   "source": [
    "#### Metrics"
   ],
   "metadata": {}
  },
  {
   "cell_type": "code",
   "execution_count": 20,
   "source": [
    "import cufflinks\n",
    "cufflinks.go_offline()\n",
    "\n",
    "metrics = pd.DataFrame(data = zip(training_history.history[\"loss\"], training_history.history[\"val_loss\"], training_history.history[\"accuracy\"], training_history.history[\"val_accuracy\"]), columns=[\"loss\", \"val_loss\", \"accuracy\", \"val_accuracy\"])\n",
    "metrics.iplot()"
   ],
   "outputs": [
    {
     "output_type": "display_data",
     "data": {
      "text/html": [
       "        <script type=\"text/javascript\">\n",
       "        window.PlotlyConfig = {MathJaxConfig: 'local'};\n",
       "        if (window.MathJax) {MathJax.Hub.Config({SVG: {font: \"STIX-Web\"}});}\n",
       "        if (typeof require !== 'undefined') {\n",
       "        require.undef(\"plotly\");\n",
       "        requirejs.config({\n",
       "            paths: {\n",
       "                'plotly': ['https://cdn.plot.ly/plotly-2.4.2.min']\n",
       "            }\n",
       "        });\n",
       "        require(['plotly'], function(Plotly) {\n",
       "            window._Plotly = Plotly;\n",
       "        });\n",
       "        }\n",
       "        </script>\n",
       "        "
      ]
     },
     "metadata": {}
    },
    {
     "output_type": "display_data",
     "data": {
      "application/vnd.plotly.v1+json": {
       "config": {
        "linkText": "Export to plot.ly",
        "plotlyServerURL": "https://plot.ly",
        "showLink": true
       },
       "data": [
        {
         "line": {
          "color": "rgba(255, 153, 51, 1.0)",
          "dash": "solid",
          "shape": "linear",
          "width": 1.3
         },
         "mode": "lines",
         "name": "loss",
         "text": "",
         "type": "scatter",
         "x": [
          0,
          1,
          2,
          3,
          4,
          5,
          6,
          7,
          8,
          9,
          10,
          11,
          12,
          13,
          14,
          15,
          16,
          17,
          18,
          19,
          20,
          21,
          22,
          23,
          24,
          25,
          26,
          27,
          28,
          29
         ],
         "y": [
          1.561133861541748,
          1.3073437213897705,
          1.1641974449157715,
          1.080029010772705,
          0.9917402267456055,
          0.9019264578819275,
          0.8249135613441467,
          0.7718968391418457,
          0.7351946830749512,
          0.7067539691925049,
          0.6789767146110535,
          0.6506601572036743,
          0.6207464933395386,
          0.5922335982322693,
          0.5688212513923645,
          0.5468831658363342,
          0.5291247963905334,
          0.5118600130081177,
          0.49719494581222534,
          0.48370474576950073,
          0.47177231311798096,
          0.45758256316185,
          0.4488939940929413,
          0.4341621398925781,
          0.4228743314743042,
          0.4136277139186859,
          0.40302401781082153,
          0.3927696645259857,
          0.380780428647995,
          0.3706352412700653
         ]
        },
        {
         "line": {
          "color": "rgba(55, 128, 191, 1.0)",
          "dash": "solid",
          "shape": "linear",
          "width": 1.3
         },
         "mode": "lines",
         "name": "val_loss",
         "text": "",
         "type": "scatter",
         "x": [
          0,
          1,
          2,
          3,
          4,
          5,
          6,
          7,
          8,
          9,
          10,
          11,
          12,
          13,
          14,
          15,
          16,
          17,
          18,
          19,
          20,
          21,
          22,
          23,
          24,
          25,
          26,
          27,
          28,
          29
         ],
         "y": [
          1.4485453367233276,
          1.2267588376998901,
          1.1317124366760254,
          1.0514699220657349,
          0.9755644202232361,
          0.9021103382110596,
          0.8416227698326111,
          0.8149648308753967,
          0.8057302832603455,
          0.8003109693527222,
          0.7944141030311584,
          0.7960390448570251,
          0.793668270111084,
          0.7950586676597595,
          0.8010047674179077,
          0.8070626258850098,
          0.8157476186752319,
          0.8366270065307617,
          0.8344268202781677,
          0.855364978313446,
          0.8619136214256287,
          0.8810389637947083,
          0.8957660794258118,
          0.8993725180625916,
          0.9194662570953369,
          0.9330138564109802,
          0.9516749978065491,
          0.967549204826355,
          0.9776008725166321,
          0.9960235357284546
         ]
        },
        {
         "line": {
          "color": "rgba(50, 171, 96, 1.0)",
          "dash": "solid",
          "shape": "linear",
          "width": 1.3
         },
         "mode": "lines",
         "name": "accuracy",
         "text": "",
         "type": "scatter",
         "x": [
          0,
          1,
          2,
          3,
          4,
          5,
          6,
          7,
          8,
          9,
          10,
          11,
          12,
          13,
          14,
          15,
          16,
          17,
          18,
          19,
          20,
          21,
          22,
          23,
          24,
          25,
          26,
          27,
          28,
          29
         ],
         "y": [
          0.5095745921134949,
          0.5624867677688599,
          0.5634150505065918,
          0.5877625942230225,
          0.6405686140060425,
          0.6746498942375183,
          0.7015701532363892,
          0.7122055888175964,
          0.7214353680610657,
          0.7284107804298401,
          0.7387545108795166,
          0.7511935234069824,
          0.7655951380729675,
          0.778803288936615,
          0.789412260055542,
          0.7992520928382874,
          0.8060948252677917,
          0.8163855075836182,
          0.8235465884208679,
          0.8296732306480408,
          0.8339698910713196,
          0.8403352499008179,
          0.8444992303848267,
          0.8517664074897766,
          0.8546573519706726,
          0.861049234867096,
          0.8642318844795227,
          0.8673615455627441,
          0.8726660013198853,
          0.8775461316108704
         ]
        },
        {
         "line": {
          "color": "rgba(128, 0, 128, 1.0)",
          "dash": "solid",
          "shape": "linear",
          "width": 1.3
         },
         "mode": "lines",
         "name": "val_accuracy",
         "text": "",
         "type": "scatter",
         "x": [
          0,
          1,
          2,
          3,
          4,
          5,
          6,
          7,
          8,
          9,
          10,
          11,
          12,
          13,
          14,
          15,
          16,
          17,
          18,
          19,
          20,
          21,
          22,
          23,
          24,
          25,
          26,
          27,
          28,
          29
         ],
         "y": [
          0.5614845156669617,
          0.5614845156669617,
          0.5703631639480591,
          0.6075645685195923,
          0.6524904370307922,
          0.677350640296936,
          0.703453779220581,
          0.7072715759277344,
          0.7094024419784546,
          0.7120660543441772,
          0.7150847911834717,
          0.7167717218399048,
          0.7157062888145447,
          0.7141969203948975,
          0.7197017073631287,
          0.7209447026252747,
          0.7221876978874207,
          0.7196128964424133,
          0.7174820303916931,
          0.7242297530174255,
          0.7174820303916931,
          0.7187250256538391,
          0.7175707817077637,
          0.7122436165809631,
          0.715173602104187,
          0.7177484035491943,
          0.7133090496063232,
          0.7137529850006104,
          0.7110894322395325,
          0.7131314873695374
         ]
        }
       ],
       "layout": {
        "legend": {
         "bgcolor": "#F5F6F9",
         "font": {
          "color": "#4D5663"
         }
        },
        "paper_bgcolor": "#F5F6F9",
        "plot_bgcolor": "#F5F6F9",
        "template": {
         "data": {
          "bar": [
           {
            "error_x": {
             "color": "#2a3f5f"
            },
            "error_y": {
             "color": "#2a3f5f"
            },
            "marker": {
             "line": {
              "color": "#E5ECF6",
              "width": 0.5
             },
             "pattern": {
              "fillmode": "overlay",
              "size": 10,
              "solidity": 0.2
             }
            },
            "type": "bar"
           }
          ],
          "barpolar": [
           {
            "marker": {
             "line": {
              "color": "#E5ECF6",
              "width": 0.5
             },
             "pattern": {
              "fillmode": "overlay",
              "size": 10,
              "solidity": 0.2
             }
            },
            "type": "barpolar"
           }
          ],
          "carpet": [
           {
            "aaxis": {
             "endlinecolor": "#2a3f5f",
             "gridcolor": "white",
             "linecolor": "white",
             "minorgridcolor": "white",
             "startlinecolor": "#2a3f5f"
            },
            "baxis": {
             "endlinecolor": "#2a3f5f",
             "gridcolor": "white",
             "linecolor": "white",
             "minorgridcolor": "white",
             "startlinecolor": "#2a3f5f"
            },
            "type": "carpet"
           }
          ],
          "choropleth": [
           {
            "colorbar": {
             "outlinewidth": 0,
             "ticks": ""
            },
            "type": "choropleth"
           }
          ],
          "contour": [
           {
            "colorbar": {
             "outlinewidth": 0,
             "ticks": ""
            },
            "colorscale": [
             [
              0,
              "#0d0887"
             ],
             [
              0.1111111111111111,
              "#46039f"
             ],
             [
              0.2222222222222222,
              "#7201a8"
             ],
             [
              0.3333333333333333,
              "#9c179e"
             ],
             [
              0.4444444444444444,
              "#bd3786"
             ],
             [
              0.5555555555555556,
              "#d8576b"
             ],
             [
              0.6666666666666666,
              "#ed7953"
             ],
             [
              0.7777777777777778,
              "#fb9f3a"
             ],
             [
              0.8888888888888888,
              "#fdca26"
             ],
             [
              1,
              "#f0f921"
             ]
            ],
            "type": "contour"
           }
          ],
          "contourcarpet": [
           {
            "colorbar": {
             "outlinewidth": 0,
             "ticks": ""
            },
            "type": "contourcarpet"
           }
          ],
          "heatmap": [
           {
            "colorbar": {
             "outlinewidth": 0,
             "ticks": ""
            },
            "colorscale": [
             [
              0,
              "#0d0887"
             ],
             [
              0.1111111111111111,
              "#46039f"
             ],
             [
              0.2222222222222222,
              "#7201a8"
             ],
             [
              0.3333333333333333,
              "#9c179e"
             ],
             [
              0.4444444444444444,
              "#bd3786"
             ],
             [
              0.5555555555555556,
              "#d8576b"
             ],
             [
              0.6666666666666666,
              "#ed7953"
             ],
             [
              0.7777777777777778,
              "#fb9f3a"
             ],
             [
              0.8888888888888888,
              "#fdca26"
             ],
             [
              1,
              "#f0f921"
             ]
            ],
            "type": "heatmap"
           }
          ],
          "heatmapgl": [
           {
            "colorbar": {
             "outlinewidth": 0,
             "ticks": ""
            },
            "colorscale": [
             [
              0,
              "#0d0887"
             ],
             [
              0.1111111111111111,
              "#46039f"
             ],
             [
              0.2222222222222222,
              "#7201a8"
             ],
             [
              0.3333333333333333,
              "#9c179e"
             ],
             [
              0.4444444444444444,
              "#bd3786"
             ],
             [
              0.5555555555555556,
              "#d8576b"
             ],
             [
              0.6666666666666666,
              "#ed7953"
             ],
             [
              0.7777777777777778,
              "#fb9f3a"
             ],
             [
              0.8888888888888888,
              "#fdca26"
             ],
             [
              1,
              "#f0f921"
             ]
            ],
            "type": "heatmapgl"
           }
          ],
          "histogram": [
           {
            "marker": {
             "pattern": {
              "fillmode": "overlay",
              "size": 10,
              "solidity": 0.2
             }
            },
            "type": "histogram"
           }
          ],
          "histogram2d": [
           {
            "colorbar": {
             "outlinewidth": 0,
             "ticks": ""
            },
            "colorscale": [
             [
              0,
              "#0d0887"
             ],
             [
              0.1111111111111111,
              "#46039f"
             ],
             [
              0.2222222222222222,
              "#7201a8"
             ],
             [
              0.3333333333333333,
              "#9c179e"
             ],
             [
              0.4444444444444444,
              "#bd3786"
             ],
             [
              0.5555555555555556,
              "#d8576b"
             ],
             [
              0.6666666666666666,
              "#ed7953"
             ],
             [
              0.7777777777777778,
              "#fb9f3a"
             ],
             [
              0.8888888888888888,
              "#fdca26"
             ],
             [
              1,
              "#f0f921"
             ]
            ],
            "type": "histogram2d"
           }
          ],
          "histogram2dcontour": [
           {
            "colorbar": {
             "outlinewidth": 0,
             "ticks": ""
            },
            "colorscale": [
             [
              0,
              "#0d0887"
             ],
             [
              0.1111111111111111,
              "#46039f"
             ],
             [
              0.2222222222222222,
              "#7201a8"
             ],
             [
              0.3333333333333333,
              "#9c179e"
             ],
             [
              0.4444444444444444,
              "#bd3786"
             ],
             [
              0.5555555555555556,
              "#d8576b"
             ],
             [
              0.6666666666666666,
              "#ed7953"
             ],
             [
              0.7777777777777778,
              "#fb9f3a"
             ],
             [
              0.8888888888888888,
              "#fdca26"
             ],
             [
              1,
              "#f0f921"
             ]
            ],
            "type": "histogram2dcontour"
           }
          ],
          "mesh3d": [
           {
            "colorbar": {
             "outlinewidth": 0,
             "ticks": ""
            },
            "type": "mesh3d"
           }
          ],
          "parcoords": [
           {
            "line": {
             "colorbar": {
              "outlinewidth": 0,
              "ticks": ""
             }
            },
            "type": "parcoords"
           }
          ],
          "pie": [
           {
            "automargin": true,
            "type": "pie"
           }
          ],
          "scatter": [
           {
            "marker": {
             "colorbar": {
              "outlinewidth": 0,
              "ticks": ""
             }
            },
            "type": "scatter"
           }
          ],
          "scatter3d": [
           {
            "line": {
             "colorbar": {
              "outlinewidth": 0,
              "ticks": ""
             }
            },
            "marker": {
             "colorbar": {
              "outlinewidth": 0,
              "ticks": ""
             }
            },
            "type": "scatter3d"
           }
          ],
          "scattercarpet": [
           {
            "marker": {
             "colorbar": {
              "outlinewidth": 0,
              "ticks": ""
             }
            },
            "type": "scattercarpet"
           }
          ],
          "scattergeo": [
           {
            "marker": {
             "colorbar": {
              "outlinewidth": 0,
              "ticks": ""
             }
            },
            "type": "scattergeo"
           }
          ],
          "scattergl": [
           {
            "marker": {
             "colorbar": {
              "outlinewidth": 0,
              "ticks": ""
             }
            },
            "type": "scattergl"
           }
          ],
          "scattermapbox": [
           {
            "marker": {
             "colorbar": {
              "outlinewidth": 0,
              "ticks": ""
             }
            },
            "type": "scattermapbox"
           }
          ],
          "scatterpolar": [
           {
            "marker": {
             "colorbar": {
              "outlinewidth": 0,
              "ticks": ""
             }
            },
            "type": "scatterpolar"
           }
          ],
          "scatterpolargl": [
           {
            "marker": {
             "colorbar": {
              "outlinewidth": 0,
              "ticks": ""
             }
            },
            "type": "scatterpolargl"
           }
          ],
          "scatterternary": [
           {
            "marker": {
             "colorbar": {
              "outlinewidth": 0,
              "ticks": ""
             }
            },
            "type": "scatterternary"
           }
          ],
          "surface": [
           {
            "colorbar": {
             "outlinewidth": 0,
             "ticks": ""
            },
            "colorscale": [
             [
              0,
              "#0d0887"
             ],
             [
              0.1111111111111111,
              "#46039f"
             ],
             [
              0.2222222222222222,
              "#7201a8"
             ],
             [
              0.3333333333333333,
              "#9c179e"
             ],
             [
              0.4444444444444444,
              "#bd3786"
             ],
             [
              0.5555555555555556,
              "#d8576b"
             ],
             [
              0.6666666666666666,
              "#ed7953"
             ],
             [
              0.7777777777777778,
              "#fb9f3a"
             ],
             [
              0.8888888888888888,
              "#fdca26"
             ],
             [
              1,
              "#f0f921"
             ]
            ],
            "type": "surface"
           }
          ],
          "table": [
           {
            "cells": {
             "fill": {
              "color": "#EBF0F8"
             },
             "line": {
              "color": "white"
             }
            },
            "header": {
             "fill": {
              "color": "#C8D4E3"
             },
             "line": {
              "color": "white"
             }
            },
            "type": "table"
           }
          ]
         },
         "layout": {
          "annotationdefaults": {
           "arrowcolor": "#2a3f5f",
           "arrowhead": 0,
           "arrowwidth": 1
          },
          "autotypenumbers": "strict",
          "coloraxis": {
           "colorbar": {
            "outlinewidth": 0,
            "ticks": ""
           }
          },
          "colorscale": {
           "diverging": [
            [
             0,
             "#8e0152"
            ],
            [
             0.1,
             "#c51b7d"
            ],
            [
             0.2,
             "#de77ae"
            ],
            [
             0.3,
             "#f1b6da"
            ],
            [
             0.4,
             "#fde0ef"
            ],
            [
             0.5,
             "#f7f7f7"
            ],
            [
             0.6,
             "#e6f5d0"
            ],
            [
             0.7,
             "#b8e186"
            ],
            [
             0.8,
             "#7fbc41"
            ],
            [
             0.9,
             "#4d9221"
            ],
            [
             1,
             "#276419"
            ]
           ],
           "sequential": [
            [
             0,
             "#0d0887"
            ],
            [
             0.1111111111111111,
             "#46039f"
            ],
            [
             0.2222222222222222,
             "#7201a8"
            ],
            [
             0.3333333333333333,
             "#9c179e"
            ],
            [
             0.4444444444444444,
             "#bd3786"
            ],
            [
             0.5555555555555556,
             "#d8576b"
            ],
            [
             0.6666666666666666,
             "#ed7953"
            ],
            [
             0.7777777777777778,
             "#fb9f3a"
            ],
            [
             0.8888888888888888,
             "#fdca26"
            ],
            [
             1,
             "#f0f921"
            ]
           ],
           "sequentialminus": [
            [
             0,
             "#0d0887"
            ],
            [
             0.1111111111111111,
             "#46039f"
            ],
            [
             0.2222222222222222,
             "#7201a8"
            ],
            [
             0.3333333333333333,
             "#9c179e"
            ],
            [
             0.4444444444444444,
             "#bd3786"
            ],
            [
             0.5555555555555556,
             "#d8576b"
            ],
            [
             0.6666666666666666,
             "#ed7953"
            ],
            [
             0.7777777777777778,
             "#fb9f3a"
            ],
            [
             0.8888888888888888,
             "#fdca26"
            ],
            [
             1,
             "#f0f921"
            ]
           ]
          },
          "colorway": [
           "#636efa",
           "#EF553B",
           "#00cc96",
           "#ab63fa",
           "#FFA15A",
           "#19d3f3",
           "#FF6692",
           "#B6E880",
           "#FF97FF",
           "#FECB52"
          ],
          "font": {
           "color": "#2a3f5f"
          },
          "geo": {
           "bgcolor": "white",
           "lakecolor": "white",
           "landcolor": "#E5ECF6",
           "showlakes": true,
           "showland": true,
           "subunitcolor": "white"
          },
          "hoverlabel": {
           "align": "left"
          },
          "hovermode": "closest",
          "mapbox": {
           "style": "light"
          },
          "paper_bgcolor": "white",
          "plot_bgcolor": "#E5ECF6",
          "polar": {
           "angularaxis": {
            "gridcolor": "white",
            "linecolor": "white",
            "ticks": ""
           },
           "bgcolor": "#E5ECF6",
           "radialaxis": {
            "gridcolor": "white",
            "linecolor": "white",
            "ticks": ""
           }
          },
          "scene": {
           "xaxis": {
            "backgroundcolor": "#E5ECF6",
            "gridcolor": "white",
            "gridwidth": 2,
            "linecolor": "white",
            "showbackground": true,
            "ticks": "",
            "zerolinecolor": "white"
           },
           "yaxis": {
            "backgroundcolor": "#E5ECF6",
            "gridcolor": "white",
            "gridwidth": 2,
            "linecolor": "white",
            "showbackground": true,
            "ticks": "",
            "zerolinecolor": "white"
           },
           "zaxis": {
            "backgroundcolor": "#E5ECF6",
            "gridcolor": "white",
            "gridwidth": 2,
            "linecolor": "white",
            "showbackground": true,
            "ticks": "",
            "zerolinecolor": "white"
           }
          },
          "shapedefaults": {
           "line": {
            "color": "#2a3f5f"
           }
          },
          "ternary": {
           "aaxis": {
            "gridcolor": "white",
            "linecolor": "white",
            "ticks": ""
           },
           "baxis": {
            "gridcolor": "white",
            "linecolor": "white",
            "ticks": ""
           },
           "bgcolor": "#E5ECF6",
           "caxis": {
            "gridcolor": "white",
            "linecolor": "white",
            "ticks": ""
           }
          },
          "title": {
           "x": 0.05
          },
          "xaxis": {
           "automargin": true,
           "gridcolor": "white",
           "linecolor": "white",
           "ticks": "",
           "title": {
            "standoff": 15
           },
           "zerolinecolor": "white",
           "zerolinewidth": 2
          },
          "yaxis": {
           "automargin": true,
           "gridcolor": "white",
           "linecolor": "white",
           "ticks": "",
           "title": {
            "standoff": 15
           },
           "zerolinecolor": "white",
           "zerolinewidth": 2
          }
         }
        },
        "title": {
         "font": {
          "color": "#4D5663"
         }
        },
        "xaxis": {
         "gridcolor": "#E1E5ED",
         "showgrid": true,
         "tickfont": {
          "color": "#4D5663"
         },
         "title": {
          "font": {
           "color": "#4D5663"
          },
          "text": ""
         },
         "zerolinecolor": "#E1E5ED"
        },
        "yaxis": {
         "gridcolor": "#E1E5ED",
         "showgrid": true,
         "tickfont": {
          "color": "#4D5663"
         },
         "title": {
          "font": {
           "color": "#4D5663"
          },
          "text": ""
         },
         "zerolinecolor": "#E1E5ED"
        }
       }
      },
      "text/html": [
       "<div>                            <div id=\"06db11d6-8fdf-4694-b98a-fa26bd4e831a\" class=\"plotly-graph-div\" style=\"height:525px; width:100%;\"></div>            <script type=\"text/javascript\">                require([\"plotly\"], function(Plotly) {                    window.PLOTLYENV=window.PLOTLYENV || {};\n",
       "                    window.PLOTLYENV.BASE_URL='https://plot.ly';                                    if (document.getElementById(\"06db11d6-8fdf-4694-b98a-fa26bd4e831a\")) {                    Plotly.newPlot(                        \"06db11d6-8fdf-4694-b98a-fa26bd4e831a\",                        [{\"line\":{\"color\":\"rgba(255, 153, 51, 1.0)\",\"dash\":\"solid\",\"shape\":\"linear\",\"width\":1.3},\"mode\":\"lines\",\"name\":\"loss\",\"text\":\"\",\"type\":\"scatter\",\"x\":[0,1,2,3,4,5,6,7,8,9,10,11,12,13,14,15,16,17,18,19,20,21,22,23,24,25,26,27,28,29],\"y\":[1.561133861541748,1.3073437213897705,1.1641974449157715,1.080029010772705,0.9917402267456055,0.9019264578819275,0.8249135613441467,0.7718968391418457,0.7351946830749512,0.7067539691925049,0.6789767146110535,0.6506601572036743,0.6207464933395386,0.5922335982322693,0.5688212513923645,0.5468831658363342,0.5291247963905334,0.5118600130081177,0.49719494581222534,0.48370474576950073,0.47177231311798096,0.45758256316185,0.4488939940929413,0.4341621398925781,0.4228743314743042,0.4136277139186859,0.40302401781082153,0.3927696645259857,0.380780428647995,0.3706352412700653]},{\"line\":{\"color\":\"rgba(55, 128, 191, 1.0)\",\"dash\":\"solid\",\"shape\":\"linear\",\"width\":1.3},\"mode\":\"lines\",\"name\":\"val_loss\",\"text\":\"\",\"type\":\"scatter\",\"x\":[0,1,2,3,4,5,6,7,8,9,10,11,12,13,14,15,16,17,18,19,20,21,22,23,24,25,26,27,28,29],\"y\":[1.4485453367233276,1.2267588376998901,1.1317124366760254,1.0514699220657349,0.9755644202232361,0.9021103382110596,0.8416227698326111,0.8149648308753967,0.8057302832603455,0.8003109693527222,0.7944141030311584,0.7960390448570251,0.793668270111084,0.7950586676597595,0.8010047674179077,0.8070626258850098,0.8157476186752319,0.8366270065307617,0.8344268202781677,0.855364978313446,0.8619136214256287,0.8810389637947083,0.8957660794258118,0.8993725180625916,0.9194662570953369,0.9330138564109802,0.9516749978065491,0.967549204826355,0.9776008725166321,0.9960235357284546]},{\"line\":{\"color\":\"rgba(50, 171, 96, 1.0)\",\"dash\":\"solid\",\"shape\":\"linear\",\"width\":1.3},\"mode\":\"lines\",\"name\":\"accuracy\",\"text\":\"\",\"type\":\"scatter\",\"x\":[0,1,2,3,4,5,6,7,8,9,10,11,12,13,14,15,16,17,18,19,20,21,22,23,24,25,26,27,28,29],\"y\":[0.5095745921134949,0.5624867677688599,0.5634150505065918,0.5877625942230225,0.6405686140060425,0.6746498942375183,0.7015701532363892,0.7122055888175964,0.7214353680610657,0.7284107804298401,0.7387545108795166,0.7511935234069824,0.7655951380729675,0.778803288936615,0.789412260055542,0.7992520928382874,0.8060948252677917,0.8163855075836182,0.8235465884208679,0.8296732306480408,0.8339698910713196,0.8403352499008179,0.8444992303848267,0.8517664074897766,0.8546573519706726,0.861049234867096,0.8642318844795227,0.8673615455627441,0.8726660013198853,0.8775461316108704]},{\"line\":{\"color\":\"rgba(128, 0, 128, 1.0)\",\"dash\":\"solid\",\"shape\":\"linear\",\"width\":1.3},\"mode\":\"lines\",\"name\":\"val_accuracy\",\"text\":\"\",\"type\":\"scatter\",\"x\":[0,1,2,3,4,5,6,7,8,9,10,11,12,13,14,15,16,17,18,19,20,21,22,23,24,25,26,27,28,29],\"y\":[0.5614845156669617,0.5614845156669617,0.5703631639480591,0.6075645685195923,0.6524904370307922,0.677350640296936,0.703453779220581,0.7072715759277344,0.7094024419784546,0.7120660543441772,0.7150847911834717,0.7167717218399048,0.7157062888145447,0.7141969203948975,0.7197017073631287,0.7209447026252747,0.7221876978874207,0.7196128964424133,0.7174820303916931,0.7242297530174255,0.7174820303916931,0.7187250256538391,0.7175707817077637,0.7122436165809631,0.715173602104187,0.7177484035491943,0.7133090496063232,0.7137529850006104,0.7110894322395325,0.7131314873695374]}],                        {\"legend\":{\"bgcolor\":\"#F5F6F9\",\"font\":{\"color\":\"#4D5663\"}},\"paper_bgcolor\":\"#F5F6F9\",\"plot_bgcolor\":\"#F5F6F9\",\"template\":{\"data\":{\"bar\":[{\"error_x\":{\"color\":\"#2a3f5f\"},\"error_y\":{\"color\":\"#2a3f5f\"},\"marker\":{\"line\":{\"color\":\"#E5ECF6\",\"width\":0.5},\"pattern\":{\"fillmode\":\"overlay\",\"size\":10,\"solidity\":0.2}},\"type\":\"bar\"}],\"barpolar\":[{\"marker\":{\"line\":{\"color\":\"#E5ECF6\",\"width\":0.5},\"pattern\":{\"fillmode\":\"overlay\",\"size\":10,\"solidity\":0.2}},\"type\":\"barpolar\"}],\"carpet\":[{\"aaxis\":{\"endlinecolor\":\"#2a3f5f\",\"gridcolor\":\"white\",\"linecolor\":\"white\",\"minorgridcolor\":\"white\",\"startlinecolor\":\"#2a3f5f\"},\"baxis\":{\"endlinecolor\":\"#2a3f5f\",\"gridcolor\":\"white\",\"linecolor\":\"white\",\"minorgridcolor\":\"white\",\"startlinecolor\":\"#2a3f5f\"},\"type\":\"carpet\"}],\"choropleth\":[{\"colorbar\":{\"outlinewidth\":0,\"ticks\":\"\"},\"type\":\"choropleth\"}],\"contour\":[{\"colorbar\":{\"outlinewidth\":0,\"ticks\":\"\"},\"colorscale\":[[0.0,\"#0d0887\"],[0.1111111111111111,\"#46039f\"],[0.2222222222222222,\"#7201a8\"],[0.3333333333333333,\"#9c179e\"],[0.4444444444444444,\"#bd3786\"],[0.5555555555555556,\"#d8576b\"],[0.6666666666666666,\"#ed7953\"],[0.7777777777777778,\"#fb9f3a\"],[0.8888888888888888,\"#fdca26\"],[1.0,\"#f0f921\"]],\"type\":\"contour\"}],\"contourcarpet\":[{\"colorbar\":{\"outlinewidth\":0,\"ticks\":\"\"},\"type\":\"contourcarpet\"}],\"heatmap\":[{\"colorbar\":{\"outlinewidth\":0,\"ticks\":\"\"},\"colorscale\":[[0.0,\"#0d0887\"],[0.1111111111111111,\"#46039f\"],[0.2222222222222222,\"#7201a8\"],[0.3333333333333333,\"#9c179e\"],[0.4444444444444444,\"#bd3786\"],[0.5555555555555556,\"#d8576b\"],[0.6666666666666666,\"#ed7953\"],[0.7777777777777778,\"#fb9f3a\"],[0.8888888888888888,\"#fdca26\"],[1.0,\"#f0f921\"]],\"type\":\"heatmap\"}],\"heatmapgl\":[{\"colorbar\":{\"outlinewidth\":0,\"ticks\":\"\"},\"colorscale\":[[0.0,\"#0d0887\"],[0.1111111111111111,\"#46039f\"],[0.2222222222222222,\"#7201a8\"],[0.3333333333333333,\"#9c179e\"],[0.4444444444444444,\"#bd3786\"],[0.5555555555555556,\"#d8576b\"],[0.6666666666666666,\"#ed7953\"],[0.7777777777777778,\"#fb9f3a\"],[0.8888888888888888,\"#fdca26\"],[1.0,\"#f0f921\"]],\"type\":\"heatmapgl\"}],\"histogram\":[{\"marker\":{\"pattern\":{\"fillmode\":\"overlay\",\"size\":10,\"solidity\":0.2}},\"type\":\"histogram\"}],\"histogram2d\":[{\"colorbar\":{\"outlinewidth\":0,\"ticks\":\"\"},\"colorscale\":[[0.0,\"#0d0887\"],[0.1111111111111111,\"#46039f\"],[0.2222222222222222,\"#7201a8\"],[0.3333333333333333,\"#9c179e\"],[0.4444444444444444,\"#bd3786\"],[0.5555555555555556,\"#d8576b\"],[0.6666666666666666,\"#ed7953\"],[0.7777777777777778,\"#fb9f3a\"],[0.8888888888888888,\"#fdca26\"],[1.0,\"#f0f921\"]],\"type\":\"histogram2d\"}],\"histogram2dcontour\":[{\"colorbar\":{\"outlinewidth\":0,\"ticks\":\"\"},\"colorscale\":[[0.0,\"#0d0887\"],[0.1111111111111111,\"#46039f\"],[0.2222222222222222,\"#7201a8\"],[0.3333333333333333,\"#9c179e\"],[0.4444444444444444,\"#bd3786\"],[0.5555555555555556,\"#d8576b\"],[0.6666666666666666,\"#ed7953\"],[0.7777777777777778,\"#fb9f3a\"],[0.8888888888888888,\"#fdca26\"],[1.0,\"#f0f921\"]],\"type\":\"histogram2dcontour\"}],\"mesh3d\":[{\"colorbar\":{\"outlinewidth\":0,\"ticks\":\"\"},\"type\":\"mesh3d\"}],\"parcoords\":[{\"line\":{\"colorbar\":{\"outlinewidth\":0,\"ticks\":\"\"}},\"type\":\"parcoords\"}],\"pie\":[{\"automargin\":true,\"type\":\"pie\"}],\"scatter\":[{\"marker\":{\"colorbar\":{\"outlinewidth\":0,\"ticks\":\"\"}},\"type\":\"scatter\"}],\"scatter3d\":[{\"line\":{\"colorbar\":{\"outlinewidth\":0,\"ticks\":\"\"}},\"marker\":{\"colorbar\":{\"outlinewidth\":0,\"ticks\":\"\"}},\"type\":\"scatter3d\"}],\"scattercarpet\":[{\"marker\":{\"colorbar\":{\"outlinewidth\":0,\"ticks\":\"\"}},\"type\":\"scattercarpet\"}],\"scattergeo\":[{\"marker\":{\"colorbar\":{\"outlinewidth\":0,\"ticks\":\"\"}},\"type\":\"scattergeo\"}],\"scattergl\":[{\"marker\":{\"colorbar\":{\"outlinewidth\":0,\"ticks\":\"\"}},\"type\":\"scattergl\"}],\"scattermapbox\":[{\"marker\":{\"colorbar\":{\"outlinewidth\":0,\"ticks\":\"\"}},\"type\":\"scattermapbox\"}],\"scatterpolar\":[{\"marker\":{\"colorbar\":{\"outlinewidth\":0,\"ticks\":\"\"}},\"type\":\"scatterpolar\"}],\"scatterpolargl\":[{\"marker\":{\"colorbar\":{\"outlinewidth\":0,\"ticks\":\"\"}},\"type\":\"scatterpolargl\"}],\"scatterternary\":[{\"marker\":{\"colorbar\":{\"outlinewidth\":0,\"ticks\":\"\"}},\"type\":\"scatterternary\"}],\"surface\":[{\"colorbar\":{\"outlinewidth\":0,\"ticks\":\"\"},\"colorscale\":[[0.0,\"#0d0887\"],[0.1111111111111111,\"#46039f\"],[0.2222222222222222,\"#7201a8\"],[0.3333333333333333,\"#9c179e\"],[0.4444444444444444,\"#bd3786\"],[0.5555555555555556,\"#d8576b\"],[0.6666666666666666,\"#ed7953\"],[0.7777777777777778,\"#fb9f3a\"],[0.8888888888888888,\"#fdca26\"],[1.0,\"#f0f921\"]],\"type\":\"surface\"}],\"table\":[{\"cells\":{\"fill\":{\"color\":\"#EBF0F8\"},\"line\":{\"color\":\"white\"}},\"header\":{\"fill\":{\"color\":\"#C8D4E3\"},\"line\":{\"color\":\"white\"}},\"type\":\"table\"}]},\"layout\":{\"annotationdefaults\":{\"arrowcolor\":\"#2a3f5f\",\"arrowhead\":0,\"arrowwidth\":1},\"autotypenumbers\":\"strict\",\"coloraxis\":{\"colorbar\":{\"outlinewidth\":0,\"ticks\":\"\"}},\"colorscale\":{\"diverging\":[[0,\"#8e0152\"],[0.1,\"#c51b7d\"],[0.2,\"#de77ae\"],[0.3,\"#f1b6da\"],[0.4,\"#fde0ef\"],[0.5,\"#f7f7f7\"],[0.6,\"#e6f5d0\"],[0.7,\"#b8e186\"],[0.8,\"#7fbc41\"],[0.9,\"#4d9221\"],[1,\"#276419\"]],\"sequential\":[[0.0,\"#0d0887\"],[0.1111111111111111,\"#46039f\"],[0.2222222222222222,\"#7201a8\"],[0.3333333333333333,\"#9c179e\"],[0.4444444444444444,\"#bd3786\"],[0.5555555555555556,\"#d8576b\"],[0.6666666666666666,\"#ed7953\"],[0.7777777777777778,\"#fb9f3a\"],[0.8888888888888888,\"#fdca26\"],[1.0,\"#f0f921\"]],\"sequentialminus\":[[0.0,\"#0d0887\"],[0.1111111111111111,\"#46039f\"],[0.2222222222222222,\"#7201a8\"],[0.3333333333333333,\"#9c179e\"],[0.4444444444444444,\"#bd3786\"],[0.5555555555555556,\"#d8576b\"],[0.6666666666666666,\"#ed7953\"],[0.7777777777777778,\"#fb9f3a\"],[0.8888888888888888,\"#fdca26\"],[1.0,\"#f0f921\"]]},\"colorway\":[\"#636efa\",\"#EF553B\",\"#00cc96\",\"#ab63fa\",\"#FFA15A\",\"#19d3f3\",\"#FF6692\",\"#B6E880\",\"#FF97FF\",\"#FECB52\"],\"font\":{\"color\":\"#2a3f5f\"},\"geo\":{\"bgcolor\":\"white\",\"lakecolor\":\"white\",\"landcolor\":\"#E5ECF6\",\"showlakes\":true,\"showland\":true,\"subunitcolor\":\"white\"},\"hoverlabel\":{\"align\":\"left\"},\"hovermode\":\"closest\",\"mapbox\":{\"style\":\"light\"},\"paper_bgcolor\":\"white\",\"plot_bgcolor\":\"#E5ECF6\",\"polar\":{\"angularaxis\":{\"gridcolor\":\"white\",\"linecolor\":\"white\",\"ticks\":\"\"},\"bgcolor\":\"#E5ECF6\",\"radialaxis\":{\"gridcolor\":\"white\",\"linecolor\":\"white\",\"ticks\":\"\"}},\"scene\":{\"xaxis\":{\"backgroundcolor\":\"#E5ECF6\",\"gridcolor\":\"white\",\"gridwidth\":2,\"linecolor\":\"white\",\"showbackground\":true,\"ticks\":\"\",\"zerolinecolor\":\"white\"},\"yaxis\":{\"backgroundcolor\":\"#E5ECF6\",\"gridcolor\":\"white\",\"gridwidth\":2,\"linecolor\":\"white\",\"showbackground\":true,\"ticks\":\"\",\"zerolinecolor\":\"white\"},\"zaxis\":{\"backgroundcolor\":\"#E5ECF6\",\"gridcolor\":\"white\",\"gridwidth\":2,\"linecolor\":\"white\",\"showbackground\":true,\"ticks\":\"\",\"zerolinecolor\":\"white\"}},\"shapedefaults\":{\"line\":{\"color\":\"#2a3f5f\"}},\"ternary\":{\"aaxis\":{\"gridcolor\":\"white\",\"linecolor\":\"white\",\"ticks\":\"\"},\"baxis\":{\"gridcolor\":\"white\",\"linecolor\":\"white\",\"ticks\":\"\"},\"bgcolor\":\"#E5ECF6\",\"caxis\":{\"gridcolor\":\"white\",\"linecolor\":\"white\",\"ticks\":\"\"}},\"title\":{\"x\":0.05},\"xaxis\":{\"automargin\":true,\"gridcolor\":\"white\",\"linecolor\":\"white\",\"ticks\":\"\",\"title\":{\"standoff\":15},\"zerolinecolor\":\"white\",\"zerolinewidth\":2},\"yaxis\":{\"automargin\":true,\"gridcolor\":\"white\",\"linecolor\":\"white\",\"ticks\":\"\",\"title\":{\"standoff\":15},\"zerolinecolor\":\"white\",\"zerolinewidth\":2}}},\"title\":{\"font\":{\"color\":\"#4D5663\"}},\"xaxis\":{\"gridcolor\":\"#E1E5ED\",\"showgrid\":true,\"tickfont\":{\"color\":\"#4D5663\"},\"title\":{\"font\":{\"color\":\"#4D5663\"},\"text\":\"\"},\"zerolinecolor\":\"#E1E5ED\"},\"yaxis\":{\"gridcolor\":\"#E1E5ED\",\"showgrid\":true,\"tickfont\":{\"color\":\"#4D5663\"},\"title\":{\"font\":{\"color\":\"#4D5663\"},\"text\":\"\"},\"zerolinecolor\":\"#E1E5ED\"}},                        {\"showLink\": true, \"linkText\": \"Export to plot.ly\", \"plotlyServerURL\": \"https://plot.ly\", \"responsive\": true}                    ).then(function(){\n",
       "                            \n",
       "var gd = document.getElementById('06db11d6-8fdf-4694-b98a-fa26bd4e831a');\n",
       "var x = new MutationObserver(function (mutations, observer) {{\n",
       "        var display = window.getComputedStyle(gd).display;\n",
       "        if (!display || display === 'none') {{\n",
       "            console.log([gd, 'removed!']);\n",
       "            Plotly.purge(gd);\n",
       "            observer.disconnect();\n",
       "        }}\n",
       "}});\n",
       "\n",
       "// Listen for the removal of the full notebook cells\n",
       "var notebookContainer = gd.closest('#notebook-container');\n",
       "if (notebookContainer) {{\n",
       "    x.observe(notebookContainer, {childList: true});\n",
       "}}\n",
       "\n",
       "// Listen for the clearing of the current output cell\n",
       "var outputEl = gd.closest('.output');\n",
       "if (outputEl) {{\n",
       "    x.observe(outputEl, {childList: true});\n",
       "}}\n",
       "\n",
       "                        })                };                });            </script>        </div>"
      ]
     },
     "metadata": {}
    }
   ],
   "metadata": {}
  },
  {
   "cell_type": "markdown",
   "source": [
    "## Confussion Matrix"
   ],
   "metadata": {}
  },
  {
   "cell_type": "code",
   "execution_count": 21,
   "source": [
    "conf_matrix = cm_keras(X_test, y_test, model, label_encod=le, scale_to=2)"
   ],
   "outputs": [
    {
     "output_type": "stream",
     "name": "stdout",
     "text": [
      "Accuracy de 71.31%\n"
     ]
    },
    {
     "output_type": "display_data",
     "data": {
      "image/png": "[encoded data removed]",
      "text/plain": [
       "<Figure size 288x288 with 2 Axes>"
      ]
     },
     "metadata": {
      "needs_background": "light"
     }
    }
   ],
   "metadata": {}
  },
  {
   "cell_type": "markdown",
   "source": [
    "## Predict"
   ],
   "metadata": {}
  },
  {
   "cell_type": "code",
   "execution_count": 22,
   "source": [
    "val = pd.read_csv(BASE_DIR.joinpath(VAL_NAME)).set_index('review_id')\n",
    "val['y_hat'] = full_pipeline(val)"
   ],
   "outputs": [],
   "metadata": {}
  },
  {
   "cell_type": "code",
   "execution_count": 23,
   "source": [
    "val[['y_hat']].to_csv(BASE_DIR.joinpath(f'predict_{VAL_NAME}'))"
   ],
   "outputs": [],
   "metadata": {}
  }
 ],
 "metadata": {
  "orig_nbformat": 4,
  "language_info": {
   "name": "python",
   "version": "3.9.1",
   "mimetype": "text/x-python",
   "codemirror_mode": {
    "name": "ipython",
    "version": 3
   },
   "pygments_lexer": "ipython3",
   "nbconvert_exporter": "python",
   "file_extension": ".py"
  },
  "kernelspec": {
   "name": "python3",
   "display_name": "Python 3.9.1 64-bit ('venv': venv)"
  },
  "interpreter": {
   "hash": "9de603709bc7399ed455492376c092aaf43a9de23cd182bce02e28baeb746ca5"
  }
 },
 "nbformat": 4,
 "nbformat_minor": 2
}