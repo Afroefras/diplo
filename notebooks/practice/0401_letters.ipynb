{
 "cells": [
  {
   "cell_type": "markdown",
   "source": [
    "# EMNIST"
   ],
   "metadata": {}
  },
  {
   "cell_type": "markdown",
   "source": [
    "## Import"
   ],
   "metadata": {
    "heading_collapsed": true
   }
  },
  {
   "cell_type": "code",
   "execution_count": 1,
   "source": [
    "from pathlib import Path\n",
    "\n",
    "BASE_DIR = Path('/Users/efraflores/Desktop/EF/Diplo/data/04')"
   ],
   "outputs": [],
   "metadata": {
    "ExecuteTime": {
     "end_time": "2021-05-29T19:15:41.356339Z",
     "start_time": "2021-05-29T19:15:41.344971Z"
    },
    "hidden": true
   }
  },
  {
   "cell_type": "code",
   "execution_count": 2,
   "source": [
    "import pandas as pd\n",
    "\n",
    "df = pd.read_csv(BASE_DIR.joinpath('letters.csv')).set_index('letter').drop('Unnamed: 0',1)\n",
    "\n",
    "df.sample()"
   ],
   "outputs": [
    {
     "output_type": "execute_result",
     "data": {
      "text/plain": [
       "        1x1  1x2  1x3  1x4  1x5  1x6  1x7  1x8  1x9  1x10  ...  28x19  28x20  \\\n",
       "letter                                                     ...                 \n",
       "A         0    0    0    0    0    0    0    0    0     0  ...      0      0   \n",
       "\n",
       "        28x21  28x22  28x23  28x24  28x25  28x26  28x27  28x28  \n",
       "letter                                                          \n",
       "A           0      0      0      0      0      0      0      0  \n",
       "\n",
       "[1 rows x 784 columns]"
      ],
      "text/html": [
       "<div>\n",
       "<style scoped>\n",
       "    .dataframe tbody tr th:only-of-type {\n",
       "        vertical-align: middle;\n",
       "    }\n",
       "\n",
       "    .dataframe tbody tr th {\n",
       "        vertical-align: top;\n",
       "    }\n",
       "\n",
       "    .dataframe thead th {\n",
       "        text-align: right;\n",
       "    }\n",
       "</style>\n",
       "<table border=\"1\" class=\"dataframe\">\n",
       "  <thead>\n",
       "    <tr style=\"text-align: right;\">\n",
       "      <th></th>\n",
       "      <th>1x1</th>\n",
       "      <th>1x2</th>\n",
       "      <th>1x3</th>\n",
       "      <th>1x4</th>\n",
       "      <th>1x5</th>\n",
       "      <th>1x6</th>\n",
       "      <th>1x7</th>\n",
       "      <th>1x8</th>\n",
       "      <th>1x9</th>\n",
       "      <th>1x10</th>\n",
       "      <th>...</th>\n",
       "      <th>28x19</th>\n",
       "      <th>28x20</th>\n",
       "      <th>28x21</th>\n",
       "      <th>28x22</th>\n",
       "      <th>28x23</th>\n",
       "      <th>28x24</th>\n",
       "      <th>28x25</th>\n",
       "      <th>28x26</th>\n",
       "      <th>28x27</th>\n",
       "      <th>28x28</th>\n",
       "    </tr>\n",
       "    <tr>\n",
       "      <th>letter</th>\n",
       "      <th></th>\n",
       "      <th></th>\n",
       "      <th></th>\n",
       "      <th></th>\n",
       "      <th></th>\n",
       "      <th></th>\n",
       "      <th></th>\n",
       "      <th></th>\n",
       "      <th></th>\n",
       "      <th></th>\n",
       "      <th></th>\n",
       "      <th></th>\n",
       "      <th></th>\n",
       "      <th></th>\n",
       "      <th></th>\n",
       "      <th></th>\n",
       "      <th></th>\n",
       "      <th></th>\n",
       "      <th></th>\n",
       "      <th></th>\n",
       "      <th></th>\n",
       "    </tr>\n",
       "  </thead>\n",
       "  <tbody>\n",
       "    <tr>\n",
       "      <th>A</th>\n",
       "      <td>0</td>\n",
       "      <td>0</td>\n",
       "      <td>0</td>\n",
       "      <td>0</td>\n",
       "      <td>0</td>\n",
       "      <td>0</td>\n",
       "      <td>0</td>\n",
       "      <td>0</td>\n",
       "      <td>0</td>\n",
       "      <td>0</td>\n",
       "      <td>...</td>\n",
       "      <td>0</td>\n",
       "      <td>0</td>\n",
       "      <td>0</td>\n",
       "      <td>0</td>\n",
       "      <td>0</td>\n",
       "      <td>0</td>\n",
       "      <td>0</td>\n",
       "      <td>0</td>\n",
       "      <td>0</td>\n",
       "      <td>0</td>\n",
       "    </tr>\n",
       "  </tbody>\n",
       "</table>\n",
       "<p>1 rows × 784 columns</p>\n",
       "</div>"
      ]
     },
     "metadata": {},
     "execution_count": 2
    }
   ],
   "metadata": {
    "ExecuteTime": {
     "end_time": "2021-05-29T19:15:41.976175Z",
     "start_time": "2021-05-29T19:15:41.358852Z"
    },
    "hidden": true
   }
  },
  {
   "cell_type": "markdown",
   "source": [
    "## Functions"
   ],
   "metadata": {
    "heading_collapsed": true
   }
  },
  {
   "cell_type": "markdown",
   "source": [
    "### Timing and tone"
   ],
   "metadata": {
    "heading_collapsed": true,
    "hidden": true
   }
  },
  {
   "cell_type": "code",
   "execution_count": 3,
   "source": [
    "import time\n",
    "import numpy as np\n",
    "from IPython.lib.display import Audio\n",
    "\n",
    "start = time.time()\n",
    "def time_exp(x):\n",
    "    #Just print how many minutes and seconds have passed\n",
    "    minutes, seconds = np.floor(x/60), 60*(x/60-np.floor(x/60))\n",
    "    print(f\"{'{:.0f}'.format(minutes)} minutos con {'{:.2f}'.format(seconds)} segundos\")\n",
    "    \n",
    "def tone(a=1000, b=700, play_time_seconds=1, framerate=4410):\n",
    "    #Make a sound! Useful while training models\n",
    "    t = np.linspace(0, play_time_seconds, framerate*play_time_seconds)*np.pi\n",
    "    return Audio(np.sin(a*t)+np.sin(b*t), rate=framerate, autoplay=True)"
   ],
   "outputs": [],
   "metadata": {
    "ExecuteTime": {
     "end_time": "2021-05-29T19:15:41.984238Z",
     "start_time": "2021-05-29T19:15:41.979302Z"
    },
    "hidden": true
   }
  },
  {
   "cell_type": "markdown",
   "source": [
    "### Show number"
   ],
   "metadata": {}
  },
  {
   "cell_type": "code",
   "execution_count": 4,
   "source": [
    "import seaborn as sns\n",
    "import matplotlib.pyplot as plt\n",
    "\n",
    "def show_word(data, word='V'):\n",
    "    df = data.copy()\n",
    "\n",
    "    fig, axes = plt.subplots(1, len(word), figsize=(15, 5), sharey=True)\n",
    "    for i,letter in enumerate(word):\n",
    "        same_letter = df.loc[letter,:]\n",
    "        one_letter = np.array(same_letter.sample()).reshape((28,28))\n",
    "        sns.heatmap(pd.DataFrame(one_letter), ax=axes[i], cbar=False, xticklabels=False, yticklabels=False)\n",
    "    plt.subplots_adjust(wspace = .001)\n",
    "    plt.show()\n",
    "\n",
    "show_word(df, 'EFRAISMA')"
   ],
   "outputs": [
    {
     "output_type": "display_data",
     "data": {
      "text/plain": [
       "<Figure size 1080x360 with 8 Axes>"
      ],
      "image/png": "[encoded data removed]"
     },
     "metadata": {}
    }
   ],
   "metadata": {}
  },
  {
   "cell_type": "markdown",
   "source": [
    "### ANN builder"
   ],
   "metadata": {
    "heading_collapsed": true,
    "hidden": true
   }
  },
  {
   "cell_type": "code",
   "execution_count": 5,
   "source": [
    "from keras import Input\n",
    "from keras.layers import Dense\n",
    "from keras.models import Sequential\n",
    "from tensorflow.keras.utils import to_categorical\n",
    "\n",
    "def ann_sequential_builder(X, y, layer_units, activations):\n",
    "    model = Sequential()\n",
    "    model.add(Input(shape=(X.shape[1],)))\n",
    "    for layer,activ in zip(layer_units, activations):\n",
    "        model.add(Dense(units=layer,activation=activ))\n",
    "    y = to_categorical(y)\n",
    "    last_layer,last_activ = (1,'sigmoid') if y[0].shape[0]<=2 else (y[0].shape[0],'softmax')\n",
    "    model.add(Dense(last_layer, last_activ))\n",
    "    print(model.summary())\n",
    "    return model, y"
   ],
   "outputs": [],
   "metadata": {
    "ExecuteTime": {
     "end_time": "2021-05-29T19:15:46.665304Z",
     "start_time": "2021-05-29T19:15:46.657744Z"
    },
    "hidden": true
   }
  },
  {
   "cell_type": "markdown",
   "source": [
    "### Plot metrics"
   ],
   "metadata": {}
  },
  {
   "cell_type": "code",
   "execution_count": 38,
   "source": [
    "import matplotlib.pyplot as plt\n",
    "\n",
    "def plot_metrics(training_history,metrics=['accuracy','loss']):\n",
    "    #Show the trend of every metrics provided after training\n",
    "    for metric in metrics:\n",
    "        trend = training_history.history[metric]\n",
    "        plt.figure()\n",
    "        plt.plot(range(len(trend)), trend, 'r', label=f'Training {metric}')\n",
    "        plt.title(f'Training {metric}')\n",
    "    plt.show()"
   ],
   "outputs": [],
   "metadata": {}
  },
  {
   "cell_type": "markdown",
   "source": [
    "### Confussion Matrix SKLEARN"
   ],
   "metadata": {}
  },
  {
   "cell_type": "code",
   "execution_count": 41,
   "source": [
    "import seaborn as sns\n",
    "import matplotlib.pyplot as plt\n",
    "from sklearn.metrics import confusion_matrix\n",
    "\n",
    "def cm_sklearn(X, y, fit_model):\n",
    "    cm = pd.DataFrame(confusion_matrix(y_true=y, y_pred=fit_model.predict(X)),\n",
    "                    index=fit_model.classes_,\n",
    "                    columns=fit_model.classes_).replace({0:np.nan}).T\n",
    "    print('Accuracy de {:.2%}'.format(np.asarray(cm).trace()/len(y_test)))\n",
    "\n",
    "    size = int(len(np.unique(y))/2)\n",
    "    fig, ax = plt.subplots(figsize=(size,size)) \n",
    "    sns.heatmap(pd.DataFrame([cm[col]/cm[col].sum() for col in cm.columns]), \n",
    "                annot = True,\n",
    "                fmt = '.0%',\n",
    "                cmap = 'Blues',\n",
    "                linewidths = 0.5, \n",
    "                ax = ax)\n",
    "    plt.show()\n",
    "    return cm"
   ],
   "outputs": [],
   "metadata": {}
  },
  {
   "cell_type": "markdown",
   "source": [
    "### Confussion Matrix KERAS"
   ],
   "metadata": {}
  },
  {
   "cell_type": "code",
   "execution_count": 59,
   "source": [
    "def cm_keras(X, y, fit_model, label_encod=None):\n",
    "    y_real = [np.argmax(x) for x in y]\n",
    "    y_predicted = [np.argmax(x).reshape(-1,)[0] for x in fit_model.predict(X)]\n",
    "\n",
    "    if label_encod == None: pass\n",
    "    else: \n",
    "        y_real = label_encod.inverse_transform(y_real)\n",
    "        y_predicted = label_encod.inverse_transform(y_predicted)\n",
    "\n",
    "    cm = pd.DataFrame(confusion_matrix(y_true=y_real, y_pred=y_predicted),\n",
    "                    index=label_encod.classes_ if label_encod!=None else label_encod,\n",
    "                    columns=label_encod.classes_ if label_encod!=None else label_encod).replace({0:np.nan}).T\n",
    "\n",
    "    print('Accuracy de {:.2%}'.format(np.asarray(cm).trace()/len(y_test)))\n",
    "    size = int(len(np.unique(y_real))/2)\n",
    "    fig, ax = plt.subplots(figsize=(size,size)) \n",
    "    sns.heatmap(pd.DataFrame([cm[col]/cm[col].sum() for col in cm.columns]), \n",
    "                annot = True,\n",
    "                fmt = '.0%',\n",
    "                cmap = 'Blues',\n",
    "                linewidths = 0.5, \n",
    "                ax = ax)\n",
    "    plt.show()\n",
    "    return cm"
   ],
   "outputs": [],
   "metadata": {}
  },
  {
   "cell_type": "markdown",
   "source": [
    "### Predict letter from image SKLEARN"
   ],
   "metadata": {}
  },
  {
   "cell_type": "code",
   "execution_count": 8,
   "source": [
    "from PIL import Image\n",
    "\n",
    "def predict_letter_sklearn(base_dir, image_list, fit_model):\n",
    "    aux = []\n",
    "    for img in image_list:\n",
    "        letter = Image.open(base_dir.joinpath(img)).convert('L').resize((28,28))\n",
    "        flat = -(1+np.asarray(letter)).ravel()\n",
    "        aux.append(flat)\n",
    "    word = ''.join([fit_model.predict(x.reshape(1,-1))[0] for x in aux])\n",
    "    fig, axes = plt.subplots(1, len(word), figsize=(15, 5), sharey=True)\n",
    "    for i,row in enumerate(aux):\n",
    "        sns.heatmap(pd.DataFrame(row.reshape((28,28))), ax=axes[i], cbar=False, xticklabels=False, yticklabels=False)\n",
    "    plt.subplots_adjust(wspace=.001)\n",
    "    plt.show()\n",
    "    print(f'The word predicted is: {word}')"
   ],
   "outputs": [],
   "metadata": {}
  },
  {
   "cell_type": "markdown",
   "source": [
    "### Predict letter from image KERAS"
   ],
   "metadata": {}
  },
  {
   "cell_type": "code",
   "execution_count": 9,
   "source": [
    "def predict_letter_keras(base_dir, image_list, fit_model, prep=None, label_encod=None):\n",
    "    aux = []\n",
    "    for img in image_list:\n",
    "        letter = Image.open(base_dir.joinpath(img)).convert('L').resize((28,28))\n",
    "        flat = -(1+np.asarray(letter)).ravel()\n",
    "        aux.append(flat)\n",
    "\n",
    "    if prep == None: pass\n",
    "    else: aux = prep.transform(pd.DataFrame(aux))\n",
    "\n",
    "    prediction = fit_model.predict(aux)\n",
    "    word = [np.argmax(x).reshape(-1,)[0] for x in prediction]\n",
    "\n",
    "    if label_encod == None: pass\n",
    "    else: word = label_encod.inverse_transform(word)\n",
    "\n",
    "    word = ''.join(word)\n",
    "\n",
    "    fig, axes = plt.subplots(1, len(word), figsize=(15, 5), sharey=True)\n",
    "    for i,row in enumerate(aux):\n",
    "        row = row if prep==None else prep.inverse_transform(row.reshape(1,-1))\n",
    "        sns.heatmap(pd.DataFrame(row.reshape((28,28))), ax=axes[i], cbar=False, xticklabels=False, yticklabels=False)\n",
    "    plt.subplots_adjust(wspace=.001)\n",
    "    plt.show()\n",
    "    print(f'The word predicted is: {word}')"
   ],
   "outputs": [],
   "metadata": {}
  },
  {
   "cell_type": "markdown",
   "source": [
    "## Transform"
   ],
   "metadata": {
    "heading_collapsed": true
   }
  },
  {
   "cell_type": "markdown",
   "source": [
    "### Train - test"
   ],
   "metadata": {
    "heading_collapsed": true,
    "hidden": true
   }
  },
  {
   "cell_type": "code",
   "execution_count": 10,
   "source": [
    "from sklearn.model_selection import train_test_split\n",
    "\n",
    "df, val = train_test_split(df,train_size=0.87,random_state=22)"
   ],
   "outputs": [],
   "metadata": {
    "ExecuteTime": {
     "end_time": "2021-05-29T19:15:47.331081Z",
     "start_time": "2021-05-29T19:15:46.672405Z"
    },
    "hidden": true
   }
  },
  {
   "cell_type": "markdown",
   "source": [
    "### Preprocessing"
   ],
   "metadata": {
    "heading_collapsed": true,
    "hidden": true
   }
  },
  {
   "cell_type": "code",
   "execution_count": 11,
   "source": [
    "X_train = df.copy()\n",
    "y_train = df.index.values"
   ],
   "outputs": [],
   "metadata": {
    "ExecuteTime": {
     "end_time": "2021-05-29T19:15:47.497855Z",
     "start_time": "2021-05-29T19:15:47.493555Z"
    },
    "hidden": true
   }
  },
  {
   "cell_type": "code",
   "execution_count": 12,
   "source": [
    "from sklearn.decomposition import PCA\n",
    "from sklearn.preprocessing import MinMaxScaler\n",
    "\n",
    "pca = PCA(0.999)\n",
    "mmx = MinMaxScaler()"
   ],
   "outputs": [],
   "metadata": {}
  },
  {
   "cell_type": "markdown",
   "source": [
    "## SKlearn Models"
   ],
   "metadata": {
    "heading_collapsed": true
   }
  },
  {
   "cell_type": "code",
   "execution_count": 13,
   "source": [
    "from sklearn.linear_model import LogisticRegression\n",
    "from sklearn.neural_network import MLPClassifier\n",
    "from sklearn.naive_bayes import GaussianNB\n",
    "\n",
    "logreg = LogisticRegression()\n",
    "nbayes = GaussianNB()\n",
    "skann = MLPClassifier(hidden_layer_sizes=(100,200,100), random_state=22, max_iter=100)"
   ],
   "outputs": [],
   "metadata": {}
  },
  {
   "cell_type": "markdown",
   "source": [
    "### Training"
   ],
   "metadata": {}
  },
  {
   "cell_type": "code",
   "execution_count": 14,
   "source": [
    "from sklearn.pipeline import Pipeline\n",
    "\n",
    "model_logreg = Pipeline([('dim_red', pca), ('scaler', mmx), ('model_logreg', logreg)])\n",
    "model_logreg.fit(X_train, y_train)"
   ],
   "outputs": [
    {
     "output_type": "stream",
     "name": "stderr",
     "text": [
      "/Users/efraflores/Desktop/hub/diplo/venv/lib/python3.9/site-packages/sklearn/linear_model/_logistic.py:763: ConvergenceWarning: lbfgs failed to converge (status=1):\n",
      "STOP: TOTAL NO. of ITERATIONS REACHED LIMIT.\n",
      "\n",
      "Increase the number of iterations (max_iter) or scale the data as shown in:\n",
      "    https://scikit-learn.org/stable/modules/preprocessing.html\n",
      "Please also refer to the documentation for alternative solver options:\n",
      "    https://scikit-learn.org/stable/modules/linear_model.html#logistic-regression\n",
      "  n_iter_i = _check_optimize_result(\n"
     ]
    },
    {
     "output_type": "execute_result",
     "data": {
      "text/plain": [
       "Pipeline(steps=[('dim_red', PCA(n_components=0.999)),\n",
       "                ('scaler', MinMaxScaler()),\n",
       "                ('model_logreg', LogisticRegression())])"
      ]
     },
     "metadata": {},
     "execution_count": 14
    }
   ],
   "metadata": {}
  },
  {
   "cell_type": "code",
   "execution_count": 15,
   "source": [
    "model_nbayes = Pipeline([('dim_red', pca), ('scaler', mmx), ('model_nbayes', nbayes)])\n",
    "model_nbayes.fit(X_train, y_train)"
   ],
   "outputs": [
    {
     "output_type": "execute_result",
     "data": {
      "text/plain": [
       "Pipeline(steps=[('dim_red', PCA(n_components=0.999)),\n",
       "                ('scaler', MinMaxScaler()), ('model_nbayes', GaussianNB())])"
      ]
     },
     "metadata": {},
     "execution_count": 15
    }
   ],
   "metadata": {}
  },
  {
   "cell_type": "code",
   "execution_count": 16,
   "source": [
    "model_skann = Pipeline([('dim_red', pca), ('scaler', mmx), ('model_skann', skann)])\n",
    "model_skann.fit(X_train, y_train)"
   ],
   "outputs": [
    {
     "output_type": "stream",
     "name": "stderr",
     "text": [
      "/Users/efraflores/Desktop/hub/diplo/venv/lib/python3.9/site-packages/sklearn/neural_network/_multilayer_perceptron.py:614: ConvergenceWarning: Stochastic Optimizer: Maximum iterations (100) reached and the optimization hasn't converged yet.\n",
      "  warnings.warn(\n"
     ]
    },
    {
     "output_type": "execute_result",
     "data": {
      "text/plain": [
       "Pipeline(steps=[('dim_red', PCA(n_components=0.999)),\n",
       "                ('scaler', MinMaxScaler()),\n",
       "                ('model_skann',\n",
       "                 MLPClassifier(hidden_layer_sizes=(100, 200, 100), max_iter=100,\n",
       "                               random_state=22))])"
      ]
     },
     "metadata": {},
     "execution_count": 16
    }
   ],
   "metadata": {}
  },
  {
   "cell_type": "code",
   "execution_count": 17,
   "source": [
    "scores_dict = {}\n",
    "scores_list = []\n",
    "for skmodel in ['model_logreg', 'model_nbayes' ,'model_skann']:\n",
    "    scores_dict[skmodel] = skmodel\n",
    "    scores_list.append({'model':skmodel, 'score':eval(skmodel).score(X_train,y_train)})\n",
    "\n",
    "scores = pd.DataFrame(scores_list).set_index('model')\n",
    "scores"
   ],
   "outputs": [
    {
     "output_type": "execute_result",
     "data": {
      "text/plain": [
       "                 score\n",
       "model                 \n",
       "model_logreg  0.720564\n",
       "model_nbayes  0.354894\n",
       "model_skann   0.888778"
      ],
      "text/html": [
       "<div>\n",
       "<style scoped>\n",
       "    .dataframe tbody tr th:only-of-type {\n",
       "        vertical-align: middle;\n",
       "    }\n",
       "\n",
       "    .dataframe tbody tr th {\n",
       "        vertical-align: top;\n",
       "    }\n",
       "\n",
       "    .dataframe thead th {\n",
       "        text-align: right;\n",
       "    }\n",
       "</style>\n",
       "<table border=\"1\" class=\"dataframe\">\n",
       "  <thead>\n",
       "    <tr style=\"text-align: right;\">\n",
       "      <th></th>\n",
       "      <th>score</th>\n",
       "    </tr>\n",
       "    <tr>\n",
       "      <th>model</th>\n",
       "      <th></th>\n",
       "    </tr>\n",
       "  </thead>\n",
       "  <tbody>\n",
       "    <tr>\n",
       "      <th>model_logreg</th>\n",
       "      <td>0.720564</td>\n",
       "    </tr>\n",
       "    <tr>\n",
       "      <th>model_nbayes</th>\n",
       "      <td>0.354894</td>\n",
       "    </tr>\n",
       "    <tr>\n",
       "      <th>model_skann</th>\n",
       "      <td>0.888778</td>\n",
       "    </tr>\n",
       "  </tbody>\n",
       "</table>\n",
       "</div>"
      ]
     },
     "metadata": {},
     "execution_count": 17
    }
   ],
   "metadata": {}
  },
  {
   "cell_type": "code",
   "execution_count": 18,
   "source": [
    "model = eval(scores_dict[scores.idxmax().values[0]])\n",
    "model"
   ],
   "outputs": [
    {
     "output_type": "execute_result",
     "data": {
      "text/plain": [
       "Pipeline(steps=[('dim_red', PCA(n_components=0.999)),\n",
       "                ('scaler', MinMaxScaler()),\n",
       "                ('model_skann',\n",
       "                 MLPClassifier(hidden_layer_sizes=(100, 200, 100), max_iter=100,\n",
       "                               random_state=22))])"
      ]
     },
     "metadata": {},
     "execution_count": 18
    }
   ],
   "metadata": {}
  },
  {
   "cell_type": "markdown",
   "source": [
    "### Test"
   ],
   "metadata": {
    "heading_collapsed": true,
    "hidden": true
   }
  },
  {
   "cell_type": "code",
   "execution_count": 19,
   "source": [
    "X_test = val.copy()\n",
    "y_test = val.index.values\n",
    "model.score(X_test, y_test)"
   ],
   "outputs": [
    {
     "output_type": "execute_result",
     "data": {
      "text/plain": [
       "0.8649531558185405"
      ]
     },
     "metadata": {},
     "execution_count": 19
    }
   ],
   "metadata": {}
  },
  {
   "cell_type": "code",
   "execution_count": 43,
   "source": [
    "sklearn_cm = cm_sklearn(X_test, y_test, model)"
   ],
   "outputs": [
    {
     "output_type": "stream",
     "name": "stdout",
     "text": [
      "Accuracy de 86.50%\n"
     ]
    },
    {
     "output_type": "display_data",
     "data": {
      "text/plain": [
       "<Figure size 936x936 with 2 Axes>"
      ],
      "image/png": "[encoded data removed]"
     },
     "metadata": {
      "needs_background": "light"
     }
    }
   ],
   "metadata": {}
  },
  {
   "cell_type": "markdown",
   "source": [
    "### From images"
   ],
   "metadata": {}
  },
  {
   "cell_type": "code",
   "execution_count": 21,
   "source": [
    "import re\n",
    "import os\n",
    "\n",
    "IMAGES = sorted([x for x in os.listdir(BASE_DIR.joinpath('images')) if re.search(r'letters_\\d+_[A-Z]', x)])"
   ],
   "outputs": [],
   "metadata": {}
  },
  {
   "cell_type": "code",
   "execution_count": 22,
   "source": [
    "predict_letter_sklearn(BASE_DIR.joinpath('images'), IMAGES, model)"
   ],
   "outputs": [
    {
     "output_type": "display_data",
     "data": {
      "text/plain": [
       "<Figure size 1080x360 with 4 Axes>"
      ],
      "image/png": "[encoded data removed]"
     },
     "metadata": {}
    },
    {
     "output_type": "stream",
     "name": "stdout",
     "text": [
      "The word predicted is: HALC\n"
     ]
    }
   ],
   "metadata": {}
  },
  {
   "cell_type": "markdown",
   "source": [
    "### Export"
   ],
   "metadata": {
    "heading_collapsed": true
   }
  },
  {
   "cell_type": "code",
   "execution_count": 23,
   "source": [
    "import pickle\n",
    "\n",
    "with open(BASE_DIR.joinpath('0504_letters_model.pkl'), 'wb') as f:\n",
    "    pickle.dump(model, f)"
   ],
   "outputs": [],
   "metadata": {
    "ExecuteTime": {
     "end_time": "2021-05-29T19:42:32.420451Z",
     "start_time": "2021-05-29T19:42:32.317072Z"
    },
    "hidden": true
   }
  },
  {
   "cell_type": "markdown",
   "source": [
    "## ANN"
   ],
   "metadata": {}
  },
  {
   "cell_type": "markdown",
   "source": [
    "### Preprocessing"
   ],
   "metadata": {}
  },
  {
   "cell_type": "code",
   "execution_count": 60,
   "source": [
    "from sklearn.preprocessing import LabelEncoder\n",
    "le = LabelEncoder()\n",
    "\n",
    "prep_ann = Pipeline([('dim_red', pca), ('scaler', mmx)])\n",
    "X_ann = prep_ann.fit_transform(X_train)\n",
    "y_ann = le.fit_transform(y_train)"
   ],
   "outputs": [],
   "metadata": {}
  },
  {
   "cell_type": "markdown",
   "source": [
    "### Arquitectura"
   ],
   "metadata": {}
  },
  {
   "cell_type": "code",
   "execution_count": 61,
   "source": [
    "from keras.layers import LeakyReLU\n",
    "\n",
    "model_ann, y_ann = ann_sequential_builder(X_ann, y_ann, [100,200,100],['tanh',LeakyReLU(),LeakyReLU()])"
   ],
   "outputs": [
    {
     "output_type": "stream",
     "name": "stdout",
     "text": [
      "WARNING:tensorflow:Please add `keras.layers.InputLayer` instead of `keras.Input` to Sequential model. `keras.Input` is intended to be used by Functional model.\n",
      "Model: \"sequential_4\"\n",
      "_________________________________________________________________\n",
      "Layer (type)                 Output Shape              Param #   \n",
      "=================================================================\n",
      "dense_16 (Dense)             (None, 100)               48400     \n",
      "_________________________________________________________________\n",
      "dense_17 (Dense)             (None, 200)               20200     \n",
      "_________________________________________________________________\n",
      "dense_18 (Dense)             (None, 100)               20100     \n",
      "_________________________________________________________________\n",
      "dense_19 (Dense)             (None, 26)                2626      \n",
      "=================================================================\n",
      "Total params: 91,326\n",
      "Trainable params: 91,326\n",
      "Non-trainable params: 0\n",
      "_________________________________________________________________\n",
      "None\n"
     ]
    }
   ],
   "metadata": {}
  },
  {
   "cell_type": "markdown",
   "source": [
    "### Training"
   ],
   "metadata": {}
  },
  {
   "cell_type": "code",
   "execution_count": 62,
   "source": [
    "model_ann.compile(loss = \"categorical_crossentropy\", optimizer = \"adam\", metrics=[\"accuracy\"])"
   ],
   "outputs": [],
   "metadata": {}
  },
  {
   "cell_type": "code",
   "execution_count": 63,
   "source": [
    "X_ann_test = prep_ann.transform(X_test)\n",
    "y_ann_test = to_categorical(le.transform(y_test))"
   ],
   "outputs": [],
   "metadata": {}
  },
  {
   "cell_type": "code",
   "execution_count": 64,
   "source": [
    "training_history = model_ann.fit(X_ann, y_ann, epochs=179, batch_size=1000, validation_data=(X_ann_test, y_ann_test))"
   ],
   "outputs": [
    {
     "output_type": "stream",
     "name": "stdout",
     "text": [
      "Epoch 1/179\n",
      "109/109 [==============================] - 2s 9ms/step - loss: 3.2135 - accuracy: 0.0691 - val_loss: 2.6261 - val_accuracy: 0.2998\n",
      "Epoch 2/179\n",
      "109/109 [==============================] - 1s 6ms/step - loss: 2.4034 - accuracy: 0.3348 - val_loss: 1.8240 - val_accuracy: 0.4822\n",
      "Epoch 3/179\n",
      "109/109 [==============================] - 1s 7ms/step - loss: 1.8054 - accuracy: 0.4726 - val_loss: 1.6123 - val_accuracy: 0.5275\n",
      "Epoch 4/179\n",
      "109/109 [==============================] - 1s 7ms/step - loss: 1.5668 - accuracy: 0.5381 - val_loss: 1.4625 - val_accuracy: 0.5708\n",
      "Epoch 5/179\n",
      "109/109 [==============================] - 1s 7ms/step - loss: 1.4294 - accuracy: 0.5767 - val_loss: 1.3602 - val_accuracy: 0.5973\n",
      "Epoch 6/179\n",
      "109/109 [==============================] - 1s 8ms/step - loss: 1.3378 - accuracy: 0.6029 - val_loss: 1.3192 - val_accuracy: 0.6110\n",
      "Epoch 7/179\n",
      "109/109 [==============================] - 1s 7ms/step - loss: 1.2792 - accuracy: 0.6196 - val_loss: 1.2906 - val_accuracy: 0.6194\n",
      "Epoch 8/179\n",
      "109/109 [==============================] - 1s 7ms/step - loss: 1.2281 - accuracy: 0.6364 - val_loss: 1.2048 - val_accuracy: 0.6457\n",
      "Epoch 9/179\n",
      "109/109 [==============================] - 1s 7ms/step - loss: 1.1729 - accuracy: 0.6506 - val_loss: 1.2169 - val_accuracy: 0.6395\n",
      "Epoch 10/179\n",
      "109/109 [==============================] - 1s 7ms/step - loss: 1.1349 - accuracy: 0.6620 - val_loss: 1.1572 - val_accuracy: 0.6574\n",
      "Epoch 11/179\n",
      "109/109 [==============================] - 1s 7ms/step - loss: 1.1114 - accuracy: 0.6701 - val_loss: 1.0620 - val_accuracy: 0.6905\n",
      "Epoch 12/179\n",
      "109/109 [==============================] - 1s 7ms/step - loss: 1.0423 - accuracy: 0.6896 - val_loss: 1.0304 - val_accuracy: 0.6974\n",
      "Epoch 13/179\n",
      "109/109 [==============================] - 1s 6ms/step - loss: 0.9929 - accuracy: 0.7043 - val_loss: 0.9989 - val_accuracy: 0.7048\n",
      "Epoch 14/179\n",
      "109/109 [==============================] - 1s 7ms/step - loss: 0.9703 - accuracy: 0.7126 - val_loss: 0.9979 - val_accuracy: 0.7032\n",
      "Epoch 15/179\n",
      "109/109 [==============================] - 1s 7ms/step - loss: 0.9410 - accuracy: 0.7202 - val_loss: 0.9478 - val_accuracy: 0.7188\n",
      "Epoch 16/179\n",
      "109/109 [==============================] - 1s 7ms/step - loss: 0.8899 - accuracy: 0.7359 - val_loss: 0.9320 - val_accuracy: 0.7218\n",
      "Epoch 17/179\n",
      "109/109 [==============================] - 1s 7ms/step - loss: 0.8545 - accuracy: 0.7451 - val_loss: 0.8758 - val_accuracy: 0.7388\n",
      "Epoch 18/179\n",
      "109/109 [==============================] - 1s 7ms/step - loss: 0.8293 - accuracy: 0.7516 - val_loss: 0.8807 - val_accuracy: 0.7347\n",
      "Epoch 19/179\n",
      "109/109 [==============================] - 1s 7ms/step - loss: 0.7883 - accuracy: 0.7645 - val_loss: 0.8893 - val_accuracy: 0.7355\n",
      "Epoch 20/179\n",
      "109/109 [==============================] - 1s 7ms/step - loss: 0.7779 - accuracy: 0.7667 - val_loss: 0.8028 - val_accuracy: 0.7663\n",
      "Epoch 21/179\n",
      "109/109 [==============================] - 1s 7ms/step - loss: 0.7536 - accuracy: 0.7732 - val_loss: 0.7485 - val_accuracy: 0.7734\n",
      "Epoch 22/179\n",
      "109/109 [==============================] - 1s 7ms/step - loss: 0.7102 - accuracy: 0.7853 - val_loss: 0.7350 - val_accuracy: 0.7785\n",
      "Epoch 23/179\n",
      "109/109 [==============================] - 1s 7ms/step - loss: 0.6773 - accuracy: 0.7976 - val_loss: 0.7147 - val_accuracy: 0.7856\n",
      "Epoch 24/179\n",
      "109/109 [==============================] - 1s 7ms/step - loss: 0.6693 - accuracy: 0.7997 - val_loss: 0.7114 - val_accuracy: 0.7874\n",
      "Epoch 25/179\n",
      "109/109 [==============================] - 1s 7ms/step - loss: 0.6403 - accuracy: 0.8058 - val_loss: 0.7011 - val_accuracy: 0.7888\n",
      "Epoch 26/179\n",
      "109/109 [==============================] - 1s 7ms/step - loss: 0.6259 - accuracy: 0.8104 - val_loss: 0.6228 - val_accuracy: 0.8134\n",
      "Epoch 27/179\n",
      "109/109 [==============================] - 1s 7ms/step - loss: 0.6018 - accuracy: 0.8171 - val_loss: 0.6411 - val_accuracy: 0.8092\n",
      "Epoch 28/179\n",
      "109/109 [==============================] - 1s 8ms/step - loss: 0.5836 - accuracy: 0.8233 - val_loss: 0.6088 - val_accuracy: 0.8167\n",
      "Epoch 29/179\n",
      "109/109 [==============================] - 1s 7ms/step - loss: 0.5642 - accuracy: 0.8273 - val_loss: 0.6713 - val_accuracy: 0.8010\n",
      "Epoch 30/179\n",
      "109/109 [==============================] - 1s 7ms/step - loss: 0.5729 - accuracy: 0.8234 - val_loss: 0.6015 - val_accuracy: 0.8177\n",
      "Epoch 31/179\n",
      "109/109 [==============================] - 1s 7ms/step - loss: 0.5494 - accuracy: 0.8322 - val_loss: 0.5660 - val_accuracy: 0.8280\n",
      "Epoch 32/179\n",
      "109/109 [==============================] - 1s 7ms/step - loss: 0.5278 - accuracy: 0.8387 - val_loss: 0.5611 - val_accuracy: 0.8320\n",
      "Epoch 33/179\n",
      "109/109 [==============================] - 1s 7ms/step - loss: 0.5045 - accuracy: 0.8439 - val_loss: 0.5636 - val_accuracy: 0.8280\n",
      "Epoch 34/179\n",
      "109/109 [==============================] - 1s 7ms/step - loss: 0.5074 - accuracy: 0.8431 - val_loss: 0.5695 - val_accuracy: 0.8239\n",
      "Epoch 35/179\n",
      "109/109 [==============================] - 1s 7ms/step - loss: 0.4968 - accuracy: 0.8481 - val_loss: 0.5783 - val_accuracy: 0.8239\n",
      "Epoch 36/179\n",
      "109/109 [==============================] - 1s 7ms/step - loss: 0.4894 - accuracy: 0.8475 - val_loss: 0.5516 - val_accuracy: 0.8331\n",
      "Epoch 37/179\n",
      "109/109 [==============================] - 1s 7ms/step - loss: 0.4705 - accuracy: 0.8536 - val_loss: 0.5205 - val_accuracy: 0.8423\n",
      "Epoch 38/179\n",
      "109/109 [==============================] - 1s 7ms/step - loss: 0.4646 - accuracy: 0.8547 - val_loss: 0.5281 - val_accuracy: 0.8407\n",
      "Epoch 39/179\n",
      "109/109 [==============================] - 1s 7ms/step - loss: 0.4563 - accuracy: 0.8570 - val_loss: 0.5427 - val_accuracy: 0.8322\n",
      "Epoch 40/179\n",
      "109/109 [==============================] - 1s 8ms/step - loss: 0.4603 - accuracy: 0.8557 - val_loss: 0.4927 - val_accuracy: 0.8495\n",
      "Epoch 41/179\n",
      "109/109 [==============================] - 1s 7ms/step - loss: 0.4395 - accuracy: 0.8614 - val_loss: 0.5028 - val_accuracy: 0.8446\n",
      "Epoch 42/179\n",
      "109/109 [==============================] - 1s 7ms/step - loss: 0.4357 - accuracy: 0.8635 - val_loss: 0.5133 - val_accuracy: 0.8422\n",
      "Epoch 43/179\n",
      "109/109 [==============================] - 1s 7ms/step - loss: 0.4343 - accuracy: 0.8627 - val_loss: 0.5204 - val_accuracy: 0.8413\n",
      "Epoch 44/179\n",
      "109/109 [==============================] - 1s 7ms/step - loss: 0.4285 - accuracy: 0.8651 - val_loss: 0.5006 - val_accuracy: 0.8474\n",
      "Epoch 45/179\n",
      "109/109 [==============================] - 1s 7ms/step - loss: 0.4178 - accuracy: 0.8679 - val_loss: 0.4919 - val_accuracy: 0.8489\n",
      "Epoch 46/179\n",
      "109/109 [==============================] - 1s 7ms/step - loss: 0.4176 - accuracy: 0.8681 - val_loss: 0.4745 - val_accuracy: 0.8547\n",
      "Epoch 47/179\n",
      "109/109 [==============================] - 1s 7ms/step - loss: 0.3976 - accuracy: 0.8730 - val_loss: 0.4990 - val_accuracy: 0.8482\n",
      "Epoch 48/179\n",
      "109/109 [==============================] - 1s 7ms/step - loss: 0.4096 - accuracy: 0.8696 - val_loss: 0.5642 - val_accuracy: 0.8270\n",
      "Epoch 49/179\n",
      "109/109 [==============================] - 1s 7ms/step - loss: 0.4100 - accuracy: 0.8685 - val_loss: 0.4672 - val_accuracy: 0.8574\n",
      "Epoch 50/179\n",
      "109/109 [==============================] - 1s 7ms/step - loss: 0.3842 - accuracy: 0.8770 - val_loss: 0.4545 - val_accuracy: 0.8605\n",
      "Epoch 51/179\n",
      "109/109 [==============================] - 1s 7ms/step - loss: 0.3814 - accuracy: 0.8785 - val_loss: 0.4618 - val_accuracy: 0.8555\n",
      "Epoch 52/179\n",
      "109/109 [==============================] - 1s 8ms/step - loss: 0.3894 - accuracy: 0.8750 - val_loss: 0.4703 - val_accuracy: 0.8552\n",
      "Epoch 53/179\n",
      "109/109 [==============================] - 1s 7ms/step - loss: 0.3790 - accuracy: 0.8791 - val_loss: 0.4540 - val_accuracy: 0.8607\n",
      "Epoch 54/179\n",
      "109/109 [==============================] - 1s 7ms/step - loss: 0.3581 - accuracy: 0.8855 - val_loss: 0.5131 - val_accuracy: 0.8415\n",
      "Epoch 55/179\n",
      "109/109 [==============================] - 1s 7ms/step - loss: 0.3929 - accuracy: 0.8720 - val_loss: 0.4821 - val_accuracy: 0.8482\n",
      "Epoch 56/179\n",
      "109/109 [==============================] - 1s 7ms/step - loss: 0.3655 - accuracy: 0.8823 - val_loss: 0.4617 - val_accuracy: 0.8569\n",
      "Epoch 57/179\n",
      "109/109 [==============================] - 1s 7ms/step - loss: 0.3724 - accuracy: 0.8803 - val_loss: 0.4264 - val_accuracy: 0.8673\n",
      "Epoch 58/179\n",
      "109/109 [==============================] - 1s 7ms/step - loss: 0.3540 - accuracy: 0.8862 - val_loss: 0.4449 - val_accuracy: 0.8637\n",
      "Epoch 59/179\n",
      "109/109 [==============================] - 1s 8ms/step - loss: 0.3530 - accuracy: 0.8861 - val_loss: 0.4628 - val_accuracy: 0.8581\n",
      "Epoch 60/179\n",
      "109/109 [==============================] - 1s 8ms/step - loss: 0.3434 - accuracy: 0.8890 - val_loss: 0.4478 - val_accuracy: 0.8589\n",
      "Epoch 61/179\n",
      "109/109 [==============================] - 1s 7ms/step - loss: 0.3454 - accuracy: 0.8880 - val_loss: 0.4414 - val_accuracy: 0.8643\n",
      "Epoch 62/179\n",
      "109/109 [==============================] - 1s 7ms/step - loss: 0.3337 - accuracy: 0.8915 - val_loss: 0.4468 - val_accuracy: 0.8610\n",
      "Epoch 63/179\n",
      "109/109 [==============================] - 1s 7ms/step - loss: 0.3415 - accuracy: 0.8904 - val_loss: 0.4263 - val_accuracy: 0.8698\n",
      "Epoch 64/179\n",
      "109/109 [==============================] - 1s 8ms/step - loss: 0.3252 - accuracy: 0.8951 - val_loss: 0.4163 - val_accuracy: 0.8706\n",
      "Epoch 65/179\n",
      "109/109 [==============================] - 1s 7ms/step - loss: 0.3266 - accuracy: 0.8926 - val_loss: 0.4402 - val_accuracy: 0.8663\n",
      "Epoch 66/179\n",
      "109/109 [==============================] - 1s 7ms/step - loss: 0.3423 - accuracy: 0.8878 - val_loss: 0.4277 - val_accuracy: 0.8683\n",
      "Epoch 67/179\n",
      "109/109 [==============================] - 1s 7ms/step - loss: 0.3235 - accuracy: 0.8935 - val_loss: 0.4204 - val_accuracy: 0.8718\n",
      "Epoch 68/179\n",
      "109/109 [==============================] - 1s 8ms/step - loss: 0.3236 - accuracy: 0.8940 - val_loss: 0.4428 - val_accuracy: 0.8636\n",
      "Epoch 69/179\n",
      "109/109 [==============================] - 1s 7ms/step - loss: 0.3218 - accuracy: 0.8934 - val_loss: 0.4147 - val_accuracy: 0.8732\n",
      "Epoch 70/179\n",
      "109/109 [==============================] - 1s 7ms/step - loss: 0.3156 - accuracy: 0.8961 - val_loss: 0.4291 - val_accuracy: 0.8665\n",
      "Epoch 71/179\n",
      "109/109 [==============================] - 1s 7ms/step - loss: 0.3066 - accuracy: 0.8995 - val_loss: 0.4396 - val_accuracy: 0.8635\n",
      "Epoch 72/179\n",
      "109/109 [==============================] - 1s 8ms/step - loss: 0.2986 - accuracy: 0.9028 - val_loss: 0.4356 - val_accuracy: 0.8661\n",
      "Epoch 73/179\n",
      "109/109 [==============================] - 1s 8ms/step - loss: 0.3118 - accuracy: 0.8966 - val_loss: 0.4088 - val_accuracy: 0.8753\n",
      "Epoch 74/179\n",
      "109/109 [==============================] - 1s 8ms/step - loss: 0.3139 - accuracy: 0.8955 - val_loss: 0.4345 - val_accuracy: 0.8678\n",
      "Epoch 75/179\n",
      "109/109 [==============================] - 1s 9ms/step - loss: 0.3006 - accuracy: 0.9011 - val_loss: 0.4218 - val_accuracy: 0.8683\n",
      "Epoch 76/179\n",
      "109/109 [==============================] - 1s 8ms/step - loss: 0.2904 - accuracy: 0.9041 - val_loss: 0.4111 - val_accuracy: 0.8744\n",
      "Epoch 77/179\n",
      "109/109 [==============================] - 1s 8ms/step - loss: 0.2964 - accuracy: 0.9030 - val_loss: 0.4790 - val_accuracy: 0.8543\n",
      "Epoch 78/179\n",
      "109/109 [==============================] - 1s 8ms/step - loss: 0.3104 - accuracy: 0.8955 - val_loss: 0.3929 - val_accuracy: 0.8800\n",
      "Epoch 79/179\n",
      "109/109 [==============================] - 1s 8ms/step - loss: 0.2748 - accuracy: 0.9077 - val_loss: 0.4029 - val_accuracy: 0.8762\n",
      "Epoch 80/179\n",
      "109/109 [==============================] - 1s 8ms/step - loss: 0.2797 - accuracy: 0.9071 - val_loss: 0.4260 - val_accuracy: 0.8672\n",
      "Epoch 81/179\n",
      "109/109 [==============================] - 1s 8ms/step - loss: 0.2894 - accuracy: 0.9028 - val_loss: 0.3920 - val_accuracy: 0.8801\n",
      "Epoch 82/179\n",
      "109/109 [==============================] - 1s 8ms/step - loss: 0.2728 - accuracy: 0.9105 - val_loss: 0.4461 - val_accuracy: 0.8650\n",
      "Epoch 83/179\n",
      "109/109 [==============================] - 1s 8ms/step - loss: 0.2875 - accuracy: 0.9046 - val_loss: 0.4085 - val_accuracy: 0.8755\n",
      "Epoch 84/179\n",
      "109/109 [==============================] - 1s 8ms/step - loss: 0.2913 - accuracy: 0.9025 - val_loss: 0.4366 - val_accuracy: 0.8658\n",
      "Epoch 85/179\n",
      "109/109 [==============================] - 1s 9ms/step - loss: 0.2803 - accuracy: 0.9074 - val_loss: 0.4205 - val_accuracy: 0.8736\n",
      "Epoch 86/179\n",
      "109/109 [==============================] - 1s 9ms/step - loss: 0.2729 - accuracy: 0.9090 - val_loss: 0.4176 - val_accuracy: 0.8755\n",
      "Epoch 87/179\n",
      "109/109 [==============================] - 1s 8ms/step - loss: 0.2747 - accuracy: 0.9080 - val_loss: 0.3905 - val_accuracy: 0.8794\n",
      "Epoch 88/179\n",
      "109/109 [==============================] - 1s 8ms/step - loss: 0.2545 - accuracy: 0.9146 - val_loss: 0.4014 - val_accuracy: 0.8788\n",
      "Epoch 89/179\n",
      "109/109 [==============================] - 1s 8ms/step - loss: 0.2626 - accuracy: 0.9112 - val_loss: 0.3989 - val_accuracy: 0.8806\n",
      "Epoch 90/179\n",
      "109/109 [==============================] - 1s 8ms/step - loss: 0.2664 - accuracy: 0.9106 - val_loss: 0.4179 - val_accuracy: 0.8723\n",
      "Epoch 91/179\n",
      "109/109 [==============================] - 1s 8ms/step - loss: 0.2654 - accuracy: 0.9107 - val_loss: 0.4058 - val_accuracy: 0.8773\n",
      "Epoch 92/179\n",
      "109/109 [==============================] - 1s 8ms/step - loss: 0.2591 - accuracy: 0.9123 - val_loss: 0.4063 - val_accuracy: 0.8777\n",
      "Epoch 93/179\n",
      "109/109 [==============================] - 1s 8ms/step - loss: 0.2516 - accuracy: 0.9169 - val_loss: 0.4164 - val_accuracy: 0.8730\n",
      "Epoch 94/179\n",
      "109/109 [==============================] - 1s 9ms/step - loss: 0.2625 - accuracy: 0.9115 - val_loss: 0.4329 - val_accuracy: 0.8705\n",
      "Epoch 95/179\n",
      "109/109 [==============================] - 1s 9ms/step - loss: 0.2530 - accuracy: 0.9142 - val_loss: 0.4193 - val_accuracy: 0.8758\n",
      "Epoch 96/179\n",
      "109/109 [==============================] - 1s 9ms/step - loss: 0.2554 - accuracy: 0.9149 - val_loss: 0.3737 - val_accuracy: 0.8879\n",
      "Epoch 97/179\n",
      "109/109 [==============================] - 1s 9ms/step - loss: 0.2381 - accuracy: 0.9195 - val_loss: 0.3984 - val_accuracy: 0.8824\n",
      "Epoch 98/179\n",
      "109/109 [==============================] - 1s 9ms/step - loss: 0.2408 - accuracy: 0.9178 - val_loss: 0.4180 - val_accuracy: 0.8743\n",
      "Epoch 99/179\n",
      "109/109 [==============================] - 1s 9ms/step - loss: 0.2666 - accuracy: 0.9079 - val_loss: 0.4033 - val_accuracy: 0.8802\n",
      "Epoch 100/179\n",
      "109/109 [==============================] - 1s 9ms/step - loss: 0.2423 - accuracy: 0.9186 - val_loss: 0.3954 - val_accuracy: 0.8828\n",
      "Epoch 101/179\n",
      "109/109 [==============================] - 1s 9ms/step - loss: 0.2460 - accuracy: 0.9158 - val_loss: 0.3966 - val_accuracy: 0.8808\n",
      "Epoch 102/179\n",
      "109/109 [==============================] - 1s 10ms/step - loss: 0.2384 - accuracy: 0.9185 - val_loss: 0.3937 - val_accuracy: 0.8817\n",
      "Epoch 103/179\n",
      "109/109 [==============================] - 1s 9ms/step - loss: 0.2352 - accuracy: 0.9216 - val_loss: 0.4372 - val_accuracy: 0.8685\n",
      "Epoch 104/179\n",
      "109/109 [==============================] - 1s 9ms/step - loss: 0.2367 - accuracy: 0.9199 - val_loss: 0.4442 - val_accuracy: 0.8670\n",
      "Epoch 105/179\n",
      "109/109 [==============================] - 1s 9ms/step - loss: 0.2467 - accuracy: 0.9166 - val_loss: 0.3888 - val_accuracy: 0.8854\n",
      "Epoch 106/179\n",
      "109/109 [==============================] - 1s 9ms/step - loss: 0.2278 - accuracy: 0.9231 - val_loss: 0.3907 - val_accuracy: 0.8847\n",
      "Epoch 107/179\n",
      "109/109 [==============================] - 1s 9ms/step - loss: 0.2252 - accuracy: 0.9237 - val_loss: 0.4071 - val_accuracy: 0.8776\n",
      "Epoch 108/179\n",
      "109/109 [==============================] - 1s 9ms/step - loss: 0.2316 - accuracy: 0.9202 - val_loss: 0.4087 - val_accuracy: 0.8794\n",
      "Epoch 109/179\n",
      "109/109 [==============================] - 1s 9ms/step - loss: 0.2402 - accuracy: 0.9150 - val_loss: 0.5767 - val_accuracy: 0.8266\n",
      "Epoch 110/179\n",
      "109/109 [==============================] - 1s 9ms/step - loss: 0.2870 - accuracy: 0.9030 - val_loss: 0.3837 - val_accuracy: 0.8875\n",
      "Epoch 111/179\n",
      "109/109 [==============================] - 1s 8ms/step - loss: 0.2269 - accuracy: 0.9226 - val_loss: 0.4352 - val_accuracy: 0.8692\n",
      "Epoch 112/179\n",
      "109/109 [==============================] - 1s 9ms/step - loss: 0.2162 - accuracy: 0.9248 - val_loss: 0.4418 - val_accuracy: 0.8696\n",
      "Epoch 113/179\n",
      "109/109 [==============================] - 1s 9ms/step - loss: 0.2157 - accuracy: 0.9261 - val_loss: 0.4178 - val_accuracy: 0.8752\n",
      "Epoch 114/179\n",
      "109/109 [==============================] - 1s 9ms/step - loss: 0.2339 - accuracy: 0.9193 - val_loss: 0.3983 - val_accuracy: 0.8824\n",
      "Epoch 115/179\n",
      "109/109 [==============================] - 1s 9ms/step - loss: 0.2204 - accuracy: 0.9236 - val_loss: 0.3821 - val_accuracy: 0.8865\n",
      "Epoch 116/179\n",
      "109/109 [==============================] - 1s 9ms/step - loss: 0.2072 - accuracy: 0.9289 - val_loss: 0.3893 - val_accuracy: 0.8842\n",
      "Epoch 117/179\n",
      "109/109 [==============================] - 1s 9ms/step - loss: 0.2121 - accuracy: 0.9260 - val_loss: 0.3693 - val_accuracy: 0.8903\n",
      "Epoch 118/179\n",
      "109/109 [==============================] - 1s 9ms/step - loss: 0.2038 - accuracy: 0.9300 - val_loss: 0.4236 - val_accuracy: 0.8751\n",
      "Epoch 119/179\n",
      "109/109 [==============================] - 1s 8ms/step - loss: 0.2142 - accuracy: 0.9279 - val_loss: 0.4089 - val_accuracy: 0.8787\n",
      "Epoch 120/179\n",
      "109/109 [==============================] - 1s 8ms/step - loss: 0.2148 - accuracy: 0.9253 - val_loss: 0.3772 - val_accuracy: 0.8876\n",
      "Epoch 121/179\n",
      "109/109 [==============================] - 1s 8ms/step - loss: 0.2028 - accuracy: 0.9308 - val_loss: 0.3965 - val_accuracy: 0.8833\n",
      "Epoch 122/179\n",
      "109/109 [==============================] - 1s 8ms/step - loss: 0.2102 - accuracy: 0.9268 - val_loss: 0.3938 - val_accuracy: 0.8824\n",
      "Epoch 123/179\n",
      "109/109 [==============================] - 1s 9ms/step - loss: 0.2114 - accuracy: 0.9275 - val_loss: 0.3977 - val_accuracy: 0.8821\n",
      "Epoch 124/179\n",
      "109/109 [==============================] - 1s 9ms/step - loss: 0.2115 - accuracy: 0.9254 - val_loss: 0.3777 - val_accuracy: 0.8879\n",
      "Epoch 125/179\n",
      "109/109 [==============================] - 1s 8ms/step - loss: 0.1982 - accuracy: 0.9302 - val_loss: 0.3897 - val_accuracy: 0.8835\n",
      "Epoch 126/179\n",
      "109/109 [==============================] - 1s 8ms/step - loss: 0.2065 - accuracy: 0.9273 - val_loss: 0.4113 - val_accuracy: 0.8768\n",
      "Epoch 127/179\n",
      "109/109 [==============================] - 1s 8ms/step - loss: 0.2106 - accuracy: 0.9280 - val_loss: 0.4147 - val_accuracy: 0.8760\n",
      "Epoch 128/179\n",
      "109/109 [==============================] - 1s 8ms/step - loss: 0.1932 - accuracy: 0.9336 - val_loss: 0.4043 - val_accuracy: 0.8799\n",
      "Epoch 129/179\n",
      "109/109 [==============================] - 1s 8ms/step - loss: 0.2183 - accuracy: 0.9242 - val_loss: 0.4133 - val_accuracy: 0.8779\n",
      "Epoch 130/179\n",
      "109/109 [==============================] - 1s 8ms/step - loss: 0.2140 - accuracy: 0.9250 - val_loss: 0.4039 - val_accuracy: 0.8849\n",
      "Epoch 131/179\n",
      "109/109 [==============================] - 1s 8ms/step - loss: 0.1951 - accuracy: 0.9316 - val_loss: 0.4226 - val_accuracy: 0.8760\n",
      "Epoch 132/179\n",
      "109/109 [==============================] - 1s 8ms/step - loss: 0.2024 - accuracy: 0.9296 - val_loss: 0.3960 - val_accuracy: 0.8837\n",
      "Epoch 133/179\n",
      "109/109 [==============================] - 1s 9ms/step - loss: 0.1920 - accuracy: 0.9330 - val_loss: 0.3900 - val_accuracy: 0.8844\n",
      "Epoch 134/179\n",
      "109/109 [==============================] - 1s 8ms/step - loss: 0.1959 - accuracy: 0.9329 - val_loss: 0.3968 - val_accuracy: 0.8850\n",
      "Epoch 135/179\n",
      "109/109 [==============================] - 1s 8ms/step - loss: 0.1919 - accuracy: 0.9319 - val_loss: 0.4280 - val_accuracy: 0.8751\n",
      "Epoch 136/179\n",
      "109/109 [==============================] - 1s 8ms/step - loss: 0.1911 - accuracy: 0.9323 - val_loss: 0.4282 - val_accuracy: 0.8756\n",
      "Epoch 137/179\n",
      "109/109 [==============================] - 1s 8ms/step - loss: 0.1976 - accuracy: 0.9312 - val_loss: 0.3790 - val_accuracy: 0.8895\n",
      "Epoch 138/179\n",
      "109/109 [==============================] - 1s 8ms/step - loss: 0.1809 - accuracy: 0.9375 - val_loss: 0.3830 - val_accuracy: 0.8890\n",
      "Epoch 139/179\n",
      "109/109 [==============================] - 1s 8ms/step - loss: 0.1862 - accuracy: 0.9353 - val_loss: 0.4243 - val_accuracy: 0.8780\n",
      "Epoch 140/179\n",
      "109/109 [==============================] - 1s 8ms/step - loss: 0.1958 - accuracy: 0.9308 - val_loss: 0.3953 - val_accuracy: 0.8844\n",
      "Epoch 141/179\n",
      "109/109 [==============================] - 1s 8ms/step - loss: 0.1907 - accuracy: 0.9329 - val_loss: 0.4445 - val_accuracy: 0.8780\n",
      "Epoch 142/179\n",
      "109/109 [==============================] - 1s 8ms/step - loss: 0.1892 - accuracy: 0.9327 - val_loss: 0.4079 - val_accuracy: 0.8842\n",
      "Epoch 143/179\n",
      "109/109 [==============================] - 1s 9ms/step - loss: 0.1733 - accuracy: 0.9386 - val_loss: 0.4076 - val_accuracy: 0.8861\n",
      "Epoch 144/179\n",
      "109/109 [==============================] - 1s 8ms/step - loss: 0.1832 - accuracy: 0.9348 - val_loss: 0.4444 - val_accuracy: 0.8741\n",
      "Epoch 145/179\n",
      "109/109 [==============================] - 1s 8ms/step - loss: 0.1849 - accuracy: 0.9353 - val_loss: 0.4204 - val_accuracy: 0.8786\n",
      "Epoch 146/179\n",
      "109/109 [==============================] - 1s 8ms/step - loss: 0.1816 - accuracy: 0.9353 - val_loss: 0.4068 - val_accuracy: 0.8838\n",
      "Epoch 147/179\n",
      "109/109 [==============================] - 1s 8ms/step - loss: 0.1772 - accuracy: 0.9367 - val_loss: 0.3733 - val_accuracy: 0.8927\n",
      "Epoch 148/179\n",
      "109/109 [==============================] - 1s 8ms/step - loss: 0.1802 - accuracy: 0.9365 - val_loss: 0.4154 - val_accuracy: 0.8813\n",
      "Epoch 149/179\n",
      "109/109 [==============================] - 1s 8ms/step - loss: 0.1846 - accuracy: 0.9346 - val_loss: 0.3864 - val_accuracy: 0.8899\n",
      "Epoch 150/179\n",
      "109/109 [==============================] - 1s 8ms/step - loss: 0.1687 - accuracy: 0.9398 - val_loss: 0.4504 - val_accuracy: 0.8704\n",
      "Epoch 151/179\n",
      "109/109 [==============================] - 1s 8ms/step - loss: 0.1938 - accuracy: 0.9318 - val_loss: 0.4127 - val_accuracy: 0.8856\n",
      "Epoch 152/179\n",
      "109/109 [==============================] - 1s 8ms/step - loss: 0.1697 - accuracy: 0.9397 - val_loss: 0.4025 - val_accuracy: 0.8849\n",
      "Epoch 153/179\n",
      "109/109 [==============================] - 1s 8ms/step - loss: 0.1763 - accuracy: 0.9362 - val_loss: 0.3905 - val_accuracy: 0.8872\n",
      "Epoch 154/179\n",
      "109/109 [==============================] - 1s 8ms/step - loss: 0.1559 - accuracy: 0.9455 - val_loss: 0.4039 - val_accuracy: 0.8850\n",
      "Epoch 155/179\n",
      "109/109 [==============================] - 1s 8ms/step - loss: 0.1674 - accuracy: 0.9395 - val_loss: 0.4315 - val_accuracy: 0.8766\n",
      "Epoch 156/179\n",
      "109/109 [==============================] - 1s 8ms/step - loss: 0.1929 - accuracy: 0.9305 - val_loss: 0.3859 - val_accuracy: 0.8903\n",
      "Epoch 157/179\n",
      "109/109 [==============================] - 1s 8ms/step - loss: 0.1618 - accuracy: 0.9430 - val_loss: 0.4060 - val_accuracy: 0.8844\n",
      "Epoch 158/179\n",
      "109/109 [==============================] - 1s 9ms/step - loss: 0.1656 - accuracy: 0.9401 - val_loss: 0.4422 - val_accuracy: 0.8782\n",
      "Epoch 159/179\n",
      "109/109 [==============================] - 1s 8ms/step - loss: 0.1757 - accuracy: 0.9365 - val_loss: 0.4062 - val_accuracy: 0.8849\n",
      "Epoch 160/179\n",
      "109/109 [==============================] - 1s 8ms/step - loss: 0.1646 - accuracy: 0.9410 - val_loss: 0.4481 - val_accuracy: 0.8737\n",
      "Epoch 161/179\n",
      "109/109 [==============================] - 1s 8ms/step - loss: 0.1758 - accuracy: 0.9366 - val_loss: 0.4123 - val_accuracy: 0.8853\n",
      "Epoch 162/179\n",
      "109/109 [==============================] - 1s 8ms/step - loss: 0.1705 - accuracy: 0.9378 - val_loss: 0.4389 - val_accuracy: 0.8776\n",
      "Epoch 163/179\n",
      "109/109 [==============================] - 1s 8ms/step - loss: 0.1752 - accuracy: 0.9367 - val_loss: 0.4427 - val_accuracy: 0.8748\n",
      "Epoch 164/179\n",
      "109/109 [==============================] - 1s 8ms/step - loss: 0.1610 - accuracy: 0.9424 - val_loss: 0.4034 - val_accuracy: 0.8871\n",
      "Epoch 165/179\n",
      "109/109 [==============================] - 1s 8ms/step - loss: 0.1616 - accuracy: 0.9417 - val_loss: 0.3919 - val_accuracy: 0.8887\n",
      "Epoch 166/179\n",
      "109/109 [==============================] - 1s 8ms/step - loss: 0.1612 - accuracy: 0.9420 - val_loss: 0.4014 - val_accuracy: 0.8867\n",
      "Epoch 167/179\n",
      "109/109 [==============================] - 1s 8ms/step - loss: 0.1646 - accuracy: 0.9402 - val_loss: 0.4550 - val_accuracy: 0.8741\n",
      "Epoch 168/179\n",
      "109/109 [==============================] - 1s 8ms/step - loss: 0.1790 - accuracy: 0.9344 - val_loss: 0.4242 - val_accuracy: 0.8831\n",
      "Epoch 169/179\n",
      "109/109 [==============================] - 1s 8ms/step - loss: 0.1716 - accuracy: 0.9373 - val_loss: 0.3998 - val_accuracy: 0.8893\n",
      "Epoch 170/179\n",
      "109/109 [==============================] - 1s 8ms/step - loss: 0.1462 - accuracy: 0.9493 - val_loss: 0.4057 - val_accuracy: 0.8876\n",
      "Epoch 171/179\n",
      "109/109 [==============================] - 1s 8ms/step - loss: 0.1539 - accuracy: 0.9446 - val_loss: 0.4117 - val_accuracy: 0.8889\n",
      "Epoch 172/179\n",
      "109/109 [==============================] - 1s 8ms/step - loss: 0.1643 - accuracy: 0.9394 - val_loss: 0.4427 - val_accuracy: 0.8791\n",
      "Epoch 173/179\n",
      "109/109 [==============================] - 1s 8ms/step - loss: 0.1668 - accuracy: 0.9399 - val_loss: 0.3951 - val_accuracy: 0.8886\n",
      "Epoch 174/179\n",
      "109/109 [==============================] - 1s 8ms/step - loss: 0.1491 - accuracy: 0.9470 - val_loss: 0.4198 - val_accuracy: 0.8857\n",
      "Epoch 175/179\n",
      "109/109 [==============================] - 1s 8ms/step - loss: 0.1511 - accuracy: 0.9451 - val_loss: 0.4613 - val_accuracy: 0.8765\n",
      "Epoch 176/179\n",
      "109/109 [==============================] - 1s 8ms/step - loss: 0.1786 - accuracy: 0.9336 - val_loss: 0.4031 - val_accuracy: 0.8894\n",
      "Epoch 177/179\n",
      "109/109 [==============================] - 1s 8ms/step - loss: 0.1488 - accuracy: 0.9467 - val_loss: 0.4270 - val_accuracy: 0.8825\n",
      "Epoch 178/179\n",
      "109/109 [==============================] - 1s 8ms/step - loss: 0.1521 - accuracy: 0.9452 - val_loss: 0.3941 - val_accuracy: 0.8923\n",
      "Epoch 179/179\n",
      "109/109 [==============================] - 1s 9ms/step - loss: 0.1353 - accuracy: 0.9512 - val_loss: 0.4158 - val_accuracy: 0.8876\n"
     ]
    }
   ],
   "metadata": {}
  },
  {
   "cell_type": "code",
   "execution_count": 65,
   "source": [
    "plot_metrics(training_history)"
   ],
   "outputs": [
    {
     "output_type": "display_data",
     "data": {
      "text/plain": [
       "<Figure size 432x288 with 1 Axes>"
      ],
      "image/png": "[encoded data removed]"
     },
     "metadata": {
      "needs_background": "light"
     }
    },
    {
     "output_type": "display_data",
     "data": {
      "text/plain": [
       "<Figure size 432x288 with 1 Axes>"
      ],
      "image/png": "[encoded data removed]"
     },
     "metadata": {
      "needs_background": "light"
     }
    }
   ],
   "metadata": {}
  },
  {
   "cell_type": "markdown",
   "source": [
    "### Confussion Matrix"
   ],
   "metadata": {}
  },
  {
   "cell_type": "code",
   "execution_count": 66,
   "source": [
    "keras_cm = cm_keras(X_ann_test, y_ann_test, model_ann, le)"
   ],
   "outputs": [
    {
     "output_type": "stream",
     "name": "stdout",
     "text": [
      "Accuracy de 88.76%\n"
     ]
    },
    {
     "output_type": "display_data",
     "data": {
      "text/plain": [
       "<Figure size 936x936 with 2 Axes>"
      ],
      "image/png": "[encoded data removed]"
     },
     "metadata": {
      "needs_background": "light"
     }
    }
   ],
   "metadata": {}
  },
  {
   "cell_type": "markdown",
   "source": [
    "### From images"
   ],
   "metadata": {}
  },
  {
   "cell_type": "code",
   "execution_count": 67,
   "source": [
    "predict_letter_keras(BASE_DIR.joinpath('images'), IMAGES, model_ann, prep_ann, le)"
   ],
   "outputs": [
    {
     "output_type": "display_data",
     "data": {
      "text/plain": [
       "<Figure size 1080x360 with 4 Axes>"
      ],
      "image/png": "[encoded data removed]"
     },
     "metadata": {}
    },
    {
     "output_type": "stream",
     "name": "stdout",
     "text": [
      "The word predicted is: VALC\n"
     ]
    }
   ],
   "metadata": {}
  },
  {
   "cell_type": "markdown",
   "source": [
    "### Export"
   ],
   "metadata": {}
  },
  {
   "cell_type": "code",
   "execution_count": 72,
   "source": [
    "model_ann.save(BASE_DIR.joinpath('letters_model.h5'))"
   ],
   "outputs": [],
   "metadata": {}
  },
  {
   "cell_type": "code",
   "execution_count": 73,
   "source": [
    "import h5py\n",
    "from keras.models import load_model\n",
    "new_model = load_model(BASE_DIR.joinpath('letters_model.h5'))\n",
    "f = h5py.File(BASE_DIR.joinpath('letters_model.h5'), 'r')\n",
    "print(list(f.keys()))"
   ],
   "outputs": [
    {
     "output_type": "stream",
     "name": "stdout",
     "text": [
      "['model_weights', 'optimizer_weights']\n"
     ]
    }
   ],
   "metadata": {}
  },
  {
   "cell_type": "markdown",
   "source": [
    "## End"
   ],
   "metadata": {}
  },
  {
   "cell_type": "code",
   "execution_count": 33,
   "source": [
    "time_exp(time.time() - start)\n",
    "tone()"
   ],
   "outputs": [
    {
     "output_type": "stream",
     "name": "stdout",
     "text": [
      "32 minutos con 21.26 segundos\n"
     ]
    },
    {
     "output_type": "execute_result",
     "data": {
      "text/plain": [
       "<IPython.lib.display.Audio object>"
      ],
      "text/html": [
       "\n",
       "                <audio  controls=\"controls\" autoplay=\"autoplay\">\n",
       "                    <source src=\"data:audio/wav;base64,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\" type=\"audio/wav\" />\n",
       "                    Your browser does not support the audio element.\n",
       "                </audio>\n",
       "              "
      ]
     },
     "metadata": {},
     "execution_count": 33
    }
   ],
   "metadata": {
    "ExecuteTime": {
     "end_time": "2021-05-29T19:42:34.237106Z",
     "start_time": "2021-05-29T19:42:34.228316Z"
    }
   }
  }
 ],
 "metadata": {
  "kernelspec": {
   "name": "python3",
   "display_name": "Python 3.9.1 64-bit ('venv': venv)"
  },
  "language_info": {
   "codemirror_mode": {
    "name": "ipython",
    "version": 3
   },
   "file_extension": ".py",
   "mimetype": "text/x-python",
   "name": "python",
   "nbconvert_exporter": "python",
   "pygments_lexer": "ipython3",
   "version": "3.9.1"
  },
  "toc": {
   "base_numbering": 1,
   "nav_menu": {},
   "number_sections": true,
   "sideBar": true,
   "skip_h1_title": true,
   "title_cell": "Table of Contents",
   "title_sidebar": "Contents",
   "toc_cell": false,
   "toc_position": {},
   "toc_section_display": true,
   "toc_window_display": true
  },
  "varInspector": {
   "cols": {
    "lenName": 16,
    "lenType": 16,
    "lenVar": 40
   },
   "kernels_config": {
    "python": {
     "delete_cmd_postfix": "",
     "delete_cmd_prefix": "del ",
     "library": "var_list.py",
     "varRefreshCmd": "print(var_dic_list())"
    },
    "r": {
     "delete_cmd_postfix": ") ",
     "delete_cmd_prefix": "rm(",
     "library": "var_list.r",
     "varRefreshCmd": "cat(var_dic_list()) "
    }
   },
   "types_to_exclude": [
    "module",
    "function",
    "builtin_function_or_method",
    "instance",
    "_Feature"
   ],
   "window_display": false
  },
  "interpreter": {
   "hash": "9de603709bc7399ed455492376c092aaf43a9de23cd182bce02e28baeb746ca5"
  }
 },
 "nbformat": 4,
 "nbformat_minor": 4
}