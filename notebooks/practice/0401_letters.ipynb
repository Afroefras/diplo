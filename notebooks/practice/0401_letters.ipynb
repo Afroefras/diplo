{
 "cells": [
  {
   "cell_type": "markdown",
   "source": [
    "# EMNIST"
   ],
   "metadata": {}
  },
  {
   "cell_type": "markdown",
   "source": [
    "## Import"
   ],
   "metadata": {
    "heading_collapsed": true
   }
  },
  {
   "cell_type": "code",
   "execution_count": 1,
   "source": [
    "from pathlib import Path\n",
    "\n",
    "BASE_DIR = Path('/Users/efraflores/Desktop/EF/Diplo/data/04')"
   ],
   "outputs": [],
   "metadata": {
    "ExecuteTime": {
     "end_time": "2021-05-29T19:15:41.356339Z",
     "start_time": "2021-05-29T19:15:41.344971Z"
    },
    "hidden": true
   }
  },
  {
   "cell_type": "code",
   "execution_count": 2,
   "source": [
    "import pandas as pd\n",
    "\n",
    "df = pd.read_csv(BASE_DIR.joinpath('letters.csv')).set_index('letter').drop('Unnamed: 0',1)\n",
    "\n",
    "df.sample()"
   ],
   "outputs": [
    {
     "output_type": "execute_result",
     "data": {
      "text/plain": [
       "        1x1  1x2  1x3  1x4  1x5  1x6  1x7  1x8  1x9  1x10  ...  28x19  28x20  \\\n",
       "letter                                                     ...                 \n",
       "I         0    0    0    0    0    0    0    0    0     0  ...      0      0   \n",
       "\n",
       "        28x21  28x22  28x23  28x24  28x25  28x26  28x27  28x28  \n",
       "letter                                                          \n",
       "I           0      0      0      0      0      0      0      0  \n",
       "\n",
       "[1 rows x 784 columns]"
      ],
      "text/html": [
       "<div>\n",
       "<style scoped>\n",
       "    .dataframe tbody tr th:only-of-type {\n",
       "        vertical-align: middle;\n",
       "    }\n",
       "\n",
       "    .dataframe tbody tr th {\n",
       "        vertical-align: top;\n",
       "    }\n",
       "\n",
       "    .dataframe thead th {\n",
       "        text-align: right;\n",
       "    }\n",
       "</style>\n",
       "<table border=\"1\" class=\"dataframe\">\n",
       "  <thead>\n",
       "    <tr style=\"text-align: right;\">\n",
       "      <th></th>\n",
       "      <th>1x1</th>\n",
       "      <th>1x2</th>\n",
       "      <th>1x3</th>\n",
       "      <th>1x4</th>\n",
       "      <th>1x5</th>\n",
       "      <th>1x6</th>\n",
       "      <th>1x7</th>\n",
       "      <th>1x8</th>\n",
       "      <th>1x9</th>\n",
       "      <th>1x10</th>\n",
       "      <th>...</th>\n",
       "      <th>28x19</th>\n",
       "      <th>28x20</th>\n",
       "      <th>28x21</th>\n",
       "      <th>28x22</th>\n",
       "      <th>28x23</th>\n",
       "      <th>28x24</th>\n",
       "      <th>28x25</th>\n",
       "      <th>28x26</th>\n",
       "      <th>28x27</th>\n",
       "      <th>28x28</th>\n",
       "    </tr>\n",
       "    <tr>\n",
       "      <th>letter</th>\n",
       "      <th></th>\n",
       "      <th></th>\n",
       "      <th></th>\n",
       "      <th></th>\n",
       "      <th></th>\n",
       "      <th></th>\n",
       "      <th></th>\n",
       "      <th></th>\n",
       "      <th></th>\n",
       "      <th></th>\n",
       "      <th></th>\n",
       "      <th></th>\n",
       "      <th></th>\n",
       "      <th></th>\n",
       "      <th></th>\n",
       "      <th></th>\n",
       "      <th></th>\n",
       "      <th></th>\n",
       "      <th></th>\n",
       "      <th></th>\n",
       "      <th></th>\n",
       "    </tr>\n",
       "  </thead>\n",
       "  <tbody>\n",
       "    <tr>\n",
       "      <th>I</th>\n",
       "      <td>0</td>\n",
       "      <td>0</td>\n",
       "      <td>0</td>\n",
       "      <td>0</td>\n",
       "      <td>0</td>\n",
       "      <td>0</td>\n",
       "      <td>0</td>\n",
       "      <td>0</td>\n",
       "      <td>0</td>\n",
       "      <td>0</td>\n",
       "      <td>...</td>\n",
       "      <td>0</td>\n",
       "      <td>0</td>\n",
       "      <td>0</td>\n",
       "      <td>0</td>\n",
       "      <td>0</td>\n",
       "      <td>0</td>\n",
       "      <td>0</td>\n",
       "      <td>0</td>\n",
       "      <td>0</td>\n",
       "      <td>0</td>\n",
       "    </tr>\n",
       "  </tbody>\n",
       "</table>\n",
       "<p>1 rows × 784 columns</p>\n",
       "</div>"
      ]
     },
     "metadata": {},
     "execution_count": 2
    }
   ],
   "metadata": {
    "ExecuteTime": {
     "end_time": "2021-05-29T19:15:41.976175Z",
     "start_time": "2021-05-29T19:15:41.358852Z"
    },
    "hidden": true
   }
  },
  {
   "cell_type": "markdown",
   "source": [
    "## Functions"
   ],
   "metadata": {
    "heading_collapsed": true
   }
  },
  {
   "cell_type": "markdown",
   "source": [
    "### Timing and tone"
   ],
   "metadata": {
    "heading_collapsed": true,
    "hidden": true
   }
  },
  {
   "cell_type": "code",
   "execution_count": 3,
   "source": [
    "import time\n",
    "import numpy as np\n",
    "from IPython.lib.display import Audio\n",
    "\n",
    "start = time.time()\n",
    "def time_exp(x):\n",
    "    #Just print how many minutes and seconds have passed\n",
    "    minutes, seconds = np.floor(x/60), 60*(x/60-np.floor(x/60))\n",
    "    print(f\"{'{:.0f}'.format(minutes)} minutos con {'{:.2f}'.format(seconds)} segundos\")\n",
    "    \n",
    "def tone(a=1000, b=700, play_time_seconds=1, framerate=4410):\n",
    "    #Make a sound! Useful while training models\n",
    "    t = np.linspace(0, play_time_seconds, framerate*play_time_seconds)*np.pi\n",
    "    return Audio(np.sin(a*t)+np.sin(b*t), rate=framerate, autoplay=True)"
   ],
   "outputs": [],
   "metadata": {
    "ExecuteTime": {
     "end_time": "2021-05-29T19:15:41.984238Z",
     "start_time": "2021-05-29T19:15:41.979302Z"
    },
    "hidden": true
   }
  },
  {
   "cell_type": "markdown",
   "source": [
    "### Show number"
   ],
   "metadata": {}
  },
  {
   "cell_type": "code",
   "execution_count": 4,
   "source": [
    "import seaborn as sns\n",
    "import matplotlib.pyplot as plt\n",
    "\n",
    "def show_word(data, word='V'):\n",
    "    df = data.copy()\n",
    "\n",
    "    fig, axes = plt.subplots(1, len(word), figsize=(15, 5), sharey=True)\n",
    "    for i,letter in enumerate(word):\n",
    "        same_letter = df.loc[letter,:]\n",
    "        one_letter = np.array(same_letter.sample()).reshape((28,28))\n",
    "        sns.heatmap(pd.DataFrame(one_letter), ax=axes[i], cbar=False, xticklabels=False, yticklabels=False)\n",
    "    plt.subplots_adjust(wspace = .001)\n",
    "    plt.show()\n",
    "\n",
    "show_word(df, 'EFRAISMA')"
   ],
   "outputs": [
    {
     "output_type": "display_data",
     "data": {
      "text/plain": [
       "<Figure size 1080x360 with 8 Axes>"
      ],
      "image/png": "[encoded data removed]"
     },
     "metadata": {}
    }
   ],
   "metadata": {}
  },
  {
   "cell_type": "markdown",
   "source": [
    "### ANN builder"
   ],
   "metadata": {
    "heading_collapsed": true,
    "hidden": true
   }
  },
  {
   "cell_type": "code",
   "execution_count": 5,
   "source": [
    "from keras import Input\n",
    "from keras.layers import Dense, LeakyReLU\n",
    "from keras.models import Sequential\n",
    "from tensorflow.keras.utils import to_categorical\n",
    "\n",
    "def ann_sequential_builder(X, y, layer_units, activations):\n",
    "    model = Sequential()\n",
    "    model.add(Input(shape=(X.shape[1],)))\n",
    "    for layer,activ in zip(layer_units, activations):\n",
    "        model.add(Dense(units=layer,activation=activ))\n",
    "    y = to_categorical(y)\n",
    "    last_layer,last_activ = (1,'sigmoid') if y[0].shape[0]<=2 else (y[0].shape[0],'softmax')\n",
    "    model.add(Dense(last_layer, last_activ))\n",
    "    print(model.summary())\n",
    "    return model, y"
   ],
   "outputs": [],
   "metadata": {
    "ExecuteTime": {
     "end_time": "2021-05-29T19:15:46.665304Z",
     "start_time": "2021-05-29T19:15:46.657744Z"
    },
    "hidden": true
   }
  },
  {
   "cell_type": "markdown",
   "source": [
    "### Confussion Matrix SKLEARN"
   ],
   "metadata": {}
  },
  {
   "cell_type": "code",
   "execution_count": 6,
   "source": [
    "from sklearn.metrics import confusion_matrix\n",
    "import matplotlib.pyplot as plt\n",
    "import seaborn as sns\n",
    "\n",
    "def cm_sklearn(X, y, fit_model):\n",
    "    cm = pd.DataFrame(confusion_matrix(y_true=y, y_pred=fit_model.predict(X)),\n",
    "                    index=fit_model.classes_,\n",
    "                    columns=fit_model.classes_).replace({0:np.nan})\n",
    "    print('Accuracy de {:.2%}'.format(np.asarray(cm).trace()/len(y_test)))\n",
    "\n",
    "    size = int(len(np.unique(y))/2)\n",
    "    fig, ax = plt.subplots(figsize=(size,size)) \n",
    "    sns.heatmap(pd.DataFrame([cm[col]/cm[col].sum() for col in cm.columns]), \n",
    "                annot = True,\n",
    "                fmt = '.0%',\n",
    "                cmap = 'Blues',\n",
    "                linewidths = 0.5, \n",
    "                ax = ax)\n",
    "    plt.show()\n",
    "    return cm"
   ],
   "outputs": [],
   "metadata": {}
  },
  {
   "cell_type": "markdown",
   "source": [
    "### Confussion Matrix KERAS"
   ],
   "metadata": {}
  },
  {
   "cell_type": "code",
   "execution_count": 7,
   "source": [
    "from sklearn.metrics import confusion_matrix\n",
    "import matplotlib.pyplot as plt\n",
    "import seaborn as sns\n",
    "\n",
    "def cm_keras(X, y, fit_model, label_encod=None):\n",
    "    y_real = [np.argmax(x) for x in y]\n",
    "    y_predicted = [np.argmax(x).reshape(-1,)[0] for x in fit_model.predict(X)]\n",
    "\n",
    "    if label_encod == None: pass\n",
    "    else: \n",
    "        y_real = label_encod.inverse_transform(y_real)\n",
    "        y_predicted = label_encod.inverse_transform(y_predicted)\n",
    "\n",
    "    cm = pd.DataFrame(confusion_matrix(y_true=y_real, y_pred=y_predicted),\n",
    "                    index=label_encod.classes_ if label_encod!=None else label_encod,\n",
    "                    columns=label_encod.classes_ if label_encod!=None else label_encod).replace({0:np.nan})\n",
    "\n",
    "    print('Accuracy de {:.2%}'.format(np.asarray(cm).trace()/len(y_test)))\n",
    "    size = int(len(np.unique(y_real))/2)\n",
    "    fig, ax = plt.subplots(figsize=(size,size)) \n",
    "    sns.heatmap(pd.DataFrame([cm[col]/cm[col].sum() for col in cm.columns]), \n",
    "                annot = True,\n",
    "                fmt = '.0%',\n",
    "                cmap = 'Blues',\n",
    "                linewidths = 0.5, \n",
    "                ax = ax)\n",
    "    plt.show()\n",
    "    return cm"
   ],
   "outputs": [],
   "metadata": {}
  },
  {
   "cell_type": "markdown",
   "source": [
    "### Predict letter from image SKLEARN"
   ],
   "metadata": {}
  },
  {
   "cell_type": "code",
   "execution_count": 8,
   "source": [
    "from PIL import Image\n",
    "\n",
    "def predict_letter_sklearn(base_dir, image_list, fit_model):\n",
    "    aux = []\n",
    "    for img in image_list:\n",
    "        letter = Image.open(base_dir.joinpath(img)).convert('L').resize((28,28))\n",
    "        flat = -(1+np.asarray(letter)).ravel()\n",
    "        aux.append(flat)\n",
    "    word = ''.join([fit_model.predict(x.reshape(1,-1))[0] for x in aux])\n",
    "    fig, axes = plt.subplots(1, len(word), figsize=(15, 5), sharey=True)\n",
    "    for i,row in enumerate(aux):\n",
    "        sns.heatmap(pd.DataFrame(row.reshape((28,28))), ax=axes[i], cbar=False, xticklabels=False, yticklabels=False)\n",
    "    plt.subplots_adjust(wspace = .001)\n",
    "    plt.show()\n",
    "    print(f'The word predicted is: {word}')"
   ],
   "outputs": [],
   "metadata": {}
  },
  {
   "cell_type": "markdown",
   "source": [
    "### Predict letter from image KERAS"
   ],
   "metadata": {}
  },
  {
   "cell_type": "code",
   "execution_count": 9,
   "source": [
    "def predict_letter_keras(base_dir, image_list, fit_model, prep=None, label_encod=None):\n",
    "    aux = []\n",
    "    for img in image_list:\n",
    "        letter = Image.open(base_dir.joinpath(img)).convert('L').resize((28,28))\n",
    "        flat = -(1+np.asarray(letter)).ravel()\n",
    "        aux.append(flat)\n",
    "\n",
    "    if prep == None: pass\n",
    "    else: aux = prep.transform(pd.DataFrame(aux))\n",
    "\n",
    "    prediction = fit_model.predict(aux)\n",
    "    word = [np.argmax(x).reshape(-1,)[0] for x in prediction]\n",
    "\n",
    "    if label_encod == None: pass\n",
    "    else: word = label_encod.inverse_transform(word)\n",
    "\n",
    "    word = ''.join(word)\n",
    "\n",
    "    fig, axes = plt.subplots(1, len(word), figsize=(15, 5), sharey=True)\n",
    "    for i,row in enumerate(aux):\n",
    "        row = row if prep==None else prep.inverse_transform(row.reshape(1,-1))\n",
    "        sns.heatmap(pd.DataFrame(row.reshape((28,28))), ax=axes[i], cbar=False, xticklabels=False, yticklabels=False)\n",
    "    plt.subplots_adjust(wspace = .001)\n",
    "    plt.show()\n",
    "    print(f'The word predicted is: {word}')"
   ],
   "outputs": [],
   "metadata": {}
  },
  {
   "cell_type": "markdown",
   "source": [
    "## Transform"
   ],
   "metadata": {
    "heading_collapsed": true
   }
  },
  {
   "cell_type": "markdown",
   "source": [
    "### Train - test"
   ],
   "metadata": {
    "heading_collapsed": true,
    "hidden": true
   }
  },
  {
   "cell_type": "code",
   "execution_count": 10,
   "source": [
    "from sklearn.model_selection import train_test_split\n",
    "\n",
    "df, val = train_test_split(df,train_size=0.87,random_state=22)"
   ],
   "outputs": [],
   "metadata": {
    "ExecuteTime": {
     "end_time": "2021-05-29T19:15:47.331081Z",
     "start_time": "2021-05-29T19:15:46.672405Z"
    },
    "hidden": true
   }
  },
  {
   "cell_type": "markdown",
   "source": [
    "### Preprocessing"
   ],
   "metadata": {
    "heading_collapsed": true,
    "hidden": true
   }
  },
  {
   "cell_type": "code",
   "execution_count": 11,
   "source": [
    "X_train = df.copy()\n",
    "y_train = df.index.values"
   ],
   "outputs": [],
   "metadata": {
    "ExecuteTime": {
     "end_time": "2021-05-29T19:15:47.497855Z",
     "start_time": "2021-05-29T19:15:47.493555Z"
    },
    "hidden": true
   }
  },
  {
   "cell_type": "code",
   "execution_count": 12,
   "source": [
    "from sklearn.decomposition import PCA\n",
    "from sklearn.preprocessing import MinMaxScaler\n",
    "\n",
    "pca = PCA(0.999)\n",
    "mmx = MinMaxScaler()"
   ],
   "outputs": [],
   "metadata": {}
  },
  {
   "cell_type": "markdown",
   "source": [
    "## SKlearn Models"
   ],
   "metadata": {
    "heading_collapsed": true
   }
  },
  {
   "cell_type": "code",
   "execution_count": 13,
   "source": [
    "from sklearn.linear_model import LogisticRegression\n",
    "from sklearn.neural_network import MLPClassifier\n",
    "from sklearn.naive_bayes import GaussianNB\n",
    "\n",
    "logreg = LogisticRegression()\n",
    "nbayes = GaussianNB()\n",
    "skann = MLPClassifier(hidden_layer_sizes=(100,200,100), random_state=22, max_iter=100)"
   ],
   "outputs": [],
   "metadata": {}
  },
  {
   "cell_type": "markdown",
   "source": [
    "### Training"
   ],
   "metadata": {}
  },
  {
   "cell_type": "code",
   "execution_count": 14,
   "source": [
    "from sklearn.pipeline import Pipeline\n",
    "\n",
    "model_logreg = Pipeline([('dim_red', pca), ('scaler', mmx), ('model_logreg', logreg)])\n",
    "model_logreg.fit(X_train, y_train)"
   ],
   "outputs": [
    {
     "output_type": "stream",
     "name": "stderr",
     "text": [
      "/Users/efraflores/Desktop/hub/diplo/venv/lib/python3.9/site-packages/sklearn/linear_model/_logistic.py:763: ConvergenceWarning: lbfgs failed to converge (status=1):\n",
      "STOP: TOTAL NO. of ITERATIONS REACHED LIMIT.\n",
      "\n",
      "Increase the number of iterations (max_iter) or scale the data as shown in:\n",
      "    https://scikit-learn.org/stable/modules/preprocessing.html\n",
      "Please also refer to the documentation for alternative solver options:\n",
      "    https://scikit-learn.org/stable/modules/linear_model.html#logistic-regression\n",
      "  n_iter_i = _check_optimize_result(\n"
     ]
    },
    {
     "output_type": "execute_result",
     "data": {
      "text/plain": [
       "Pipeline(steps=[('dim_red', PCA(n_components=0.999)),\n",
       "                ('scaler', MinMaxScaler()),\n",
       "                ('model_logreg', LogisticRegression())])"
      ]
     },
     "metadata": {},
     "execution_count": 14
    }
   ],
   "metadata": {}
  },
  {
   "cell_type": "code",
   "execution_count": 15,
   "source": [
    "model_nbayes = Pipeline([('dim_red', pca), ('scaler', mmx), ('model_nbayes', nbayes)])\n",
    "model_nbayes.fit(X_train, y_train)"
   ],
   "outputs": [
    {
     "output_type": "execute_result",
     "data": {
      "text/plain": [
       "Pipeline(steps=[('dim_red', PCA(n_components=0.999)),\n",
       "                ('scaler', MinMaxScaler()), ('model_nbayes', GaussianNB())])"
      ]
     },
     "metadata": {},
     "execution_count": 15
    }
   ],
   "metadata": {}
  },
  {
   "cell_type": "code",
   "execution_count": 16,
   "source": [
    "model_skann = Pipeline([('dim_red', pca), ('scaler', mmx), ('model_skann', skann)])\n",
    "model_skann.fit(X_train, y_train)"
   ],
   "outputs": [
    {
     "output_type": "stream",
     "name": "stderr",
     "text": [
      "/Users/efraflores/Desktop/hub/diplo/venv/lib/python3.9/site-packages/sklearn/neural_network/_multilayer_perceptron.py:614: ConvergenceWarning: Stochastic Optimizer: Maximum iterations (100) reached and the optimization hasn't converged yet.\n",
      "  warnings.warn(\n"
     ]
    },
    {
     "output_type": "execute_result",
     "data": {
      "text/plain": [
       "Pipeline(steps=[('dim_red', PCA(n_components=0.999)),\n",
       "                ('scaler', MinMaxScaler()),\n",
       "                ('model_skann',\n",
       "                 MLPClassifier(hidden_layer_sizes=(100, 200, 100), max_iter=100,\n",
       "                               random_state=22))])"
      ]
     },
     "metadata": {},
     "execution_count": 16
    }
   ],
   "metadata": {}
  },
  {
   "cell_type": "code",
   "execution_count": 17,
   "source": [
    "scores_dict = {}\n",
    "scores_list = []\n",
    "for skmodel in ['model_logreg', 'model_nbayes' ,'model_skann']:\n",
    "    scores_dict[skmodel] = skmodel\n",
    "    scores_list.append({'model':skmodel, 'score':eval(skmodel).score(X_train,y_train)})\n",
    "\n",
    "scores = pd.DataFrame(scores_list).set_index('model')\n",
    "scores"
   ],
   "outputs": [
    {
     "output_type": "execute_result",
     "data": {
      "text/plain": [
       "                 score\n",
       "model                 \n",
       "model_logreg  0.720564\n",
       "model_nbayes  0.354894\n",
       "model_skann   0.888778"
      ],
      "text/html": [
       "<div>\n",
       "<style scoped>\n",
       "    .dataframe tbody tr th:only-of-type {\n",
       "        vertical-align: middle;\n",
       "    }\n",
       "\n",
       "    .dataframe tbody tr th {\n",
       "        vertical-align: top;\n",
       "    }\n",
       "\n",
       "    .dataframe thead th {\n",
       "        text-align: right;\n",
       "    }\n",
       "</style>\n",
       "<table border=\"1\" class=\"dataframe\">\n",
       "  <thead>\n",
       "    <tr style=\"text-align: right;\">\n",
       "      <th></th>\n",
       "      <th>score</th>\n",
       "    </tr>\n",
       "    <tr>\n",
       "      <th>model</th>\n",
       "      <th></th>\n",
       "    </tr>\n",
       "  </thead>\n",
       "  <tbody>\n",
       "    <tr>\n",
       "      <th>model_logreg</th>\n",
       "      <td>0.720564</td>\n",
       "    </tr>\n",
       "    <tr>\n",
       "      <th>model_nbayes</th>\n",
       "      <td>0.354894</td>\n",
       "    </tr>\n",
       "    <tr>\n",
       "      <th>model_skann</th>\n",
       "      <td>0.888778</td>\n",
       "    </tr>\n",
       "  </tbody>\n",
       "</table>\n",
       "</div>"
      ]
     },
     "metadata": {},
     "execution_count": 17
    }
   ],
   "metadata": {}
  },
  {
   "cell_type": "code",
   "execution_count": 18,
   "source": [
    "model = eval(scores_dict[scores.idxmax().values[0]])\n",
    "model"
   ],
   "outputs": [
    {
     "output_type": "execute_result",
     "data": {
      "text/plain": [
       "Pipeline(steps=[('dim_red', PCA(n_components=0.999)),\n",
       "                ('scaler', MinMaxScaler()),\n",
       "                ('model_skann',\n",
       "                 MLPClassifier(hidden_layer_sizes=(100, 200, 100), max_iter=100,\n",
       "                               random_state=22))])"
      ]
     },
     "metadata": {},
     "execution_count": 18
    }
   ],
   "metadata": {}
  },
  {
   "cell_type": "markdown",
   "source": [
    "### Test"
   ],
   "metadata": {
    "heading_collapsed": true,
    "hidden": true
   }
  },
  {
   "cell_type": "code",
   "execution_count": 19,
   "source": [
    "X_test = val.copy()\n",
    "y_test = val.index.values\n",
    "model.score(X_test, y_test)"
   ],
   "outputs": [
    {
     "output_type": "execute_result",
     "data": {
      "text/plain": [
       "0.8649531558185405"
      ]
     },
     "metadata": {},
     "execution_count": 19
    }
   ],
   "metadata": {}
  },
  {
   "cell_type": "code",
   "execution_count": 20,
   "source": [
    "_ = cm_sklearn(X_test, y_test, model)"
   ],
   "outputs": [
    {
     "output_type": "stream",
     "name": "stdout",
     "text": [
      "Accuracy de 86.50%\n"
     ]
    },
    {
     "output_type": "display_data",
     "data": {
      "text/plain": [
       "<Figure size 936x936 with 2 Axes>"
      ],
      "image/png": "[encoded data removed]"
     },
     "metadata": {
      "needs_background": "light"
     }
    }
   ],
   "metadata": {}
  },
  {
   "cell_type": "markdown",
   "source": [
    "### From images"
   ],
   "metadata": {}
  },
  {
   "cell_type": "code",
   "execution_count": 21,
   "source": [
    "import re\n",
    "import os\n",
    "\n",
    "IMAGES = sorted([x for x in os.listdir(BASE_DIR.joinpath('images')) if re.search(r'letters_\\d+_[A-Z]', x)])"
   ],
   "outputs": [],
   "metadata": {}
  },
  {
   "cell_type": "code",
   "execution_count": 22,
   "source": [
    "predict_letter_sklearn(BASE_DIR.joinpath('images'), IMAGES, model)"
   ],
   "outputs": [
    {
     "output_type": "display_data",
     "data": {
      "text/plain": [
       "<Figure size 1080x360 with 4 Axes>"
      ],
      "image/png": "[encoded data removed]"
     },
     "metadata": {}
    },
    {
     "output_type": "stream",
     "name": "stdout",
     "text": [
      "The word predicted is: HALC\n"
     ]
    }
   ],
   "metadata": {}
  },
  {
   "cell_type": "markdown",
   "source": [
    "### Export"
   ],
   "metadata": {
    "heading_collapsed": true
   }
  },
  {
   "cell_type": "code",
   "execution_count": 23,
   "source": [
    "import pickle\n",
    "\n",
    "with open(BASE_DIR.joinpath('0504_letters_model.pkl'), 'wb') as f:\n",
    "    pickle.dump(model, f)"
   ],
   "outputs": [],
   "metadata": {
    "ExecuteTime": {
     "end_time": "2021-05-29T19:42:32.420451Z",
     "start_time": "2021-05-29T19:42:32.317072Z"
    },
    "hidden": true
   }
  },
  {
   "cell_type": "markdown",
   "source": [
    "## ANN"
   ],
   "metadata": {}
  },
  {
   "cell_type": "markdown",
   "source": [
    "### Preprocessing"
   ],
   "metadata": {}
  },
  {
   "cell_type": "code",
   "execution_count": 24,
   "source": [
    "from sklearn.preprocessing import LabelEncoder\n",
    "le = LabelEncoder()\n",
    "\n",
    "prep_ann = Pipeline([('dim_red', pca), ('scaler', mmx)])\n",
    "X_ann = prep_ann.fit_transform(X_train)\n",
    "y_ann = le.fit_transform(y_train)"
   ],
   "outputs": [],
   "metadata": {}
  },
  {
   "cell_type": "markdown",
   "source": [
    "### Arquitectura"
   ],
   "metadata": {}
  },
  {
   "cell_type": "code",
   "execution_count": 25,
   "source": [
    "model_ann, y_ann = ann_sequential_builder(X_ann, y_ann, [100,200,100],['tanh','relu','relu'])"
   ],
   "outputs": [
    {
     "output_type": "stream",
     "name": "stdout",
     "text": [
      "WARNING:tensorflow:Please add `keras.layers.InputLayer` instead of `keras.Input` to Sequential model. `keras.Input` is intended to be used by Functional model.\n",
      "Model: \"sequential\"\n",
      "_________________________________________________________________\n",
      "Layer (type)                 Output Shape              Param #   \n",
      "=================================================================\n",
      "dense (Dense)                (None, 100)               48400     \n",
      "_________________________________________________________________\n",
      "dense_1 (Dense)              (None, 200)               20200     \n",
      "_________________________________________________________________\n",
      "dense_2 (Dense)              (None, 100)               20100     \n",
      "_________________________________________________________________\n",
      "dense_3 (Dense)              (None, 26)                2626      \n",
      "=================================================================\n",
      "Total params: 91,326\n",
      "Trainable params: 91,326\n",
      "Non-trainable params: 0\n",
      "_________________________________________________________________\n",
      "None\n"
     ]
    },
    {
     "output_type": "stream",
     "name": "stderr",
     "text": [
      "2021-08-01 20:42:42.012338: I tensorflow/core/platform/cpu_feature_guard.cc:142] This TensorFlow binary is optimized with oneAPI Deep Neural Network Library (oneDNN) to use the following CPU instructions in performance-critical operations:  AVX2 FMA\n",
      "To enable them in other operations, rebuild TensorFlow with the appropriate compiler flags.\n"
     ]
    }
   ],
   "metadata": {}
  },
  {
   "cell_type": "markdown",
   "source": [
    "### Training"
   ],
   "metadata": {}
  },
  {
   "cell_type": "code",
   "execution_count": 26,
   "source": [
    "model_ann.compile(loss = \"categorical_crossentropy\", optimizer = \"adam\", metrics=[\"accuracy\"])"
   ],
   "outputs": [],
   "metadata": {}
  },
  {
   "cell_type": "code",
   "execution_count": 27,
   "source": [
    "X_ann_test = prep_ann.transform(X_test)\n",
    "y_ann_test = to_categorical(le.transform(y_test))"
   ],
   "outputs": [],
   "metadata": {}
  },
  {
   "cell_type": "code",
   "execution_count": 28,
   "source": [
    "model_ann.fit(X_ann, y_ann, epochs=200, batch_size=5000, validation_data=(X_ann_test, y_ann_test))"
   ],
   "outputs": [
    {
     "output_type": "stream",
     "name": "stderr",
     "text": [
      "2021-08-01 20:42:43.539104: I tensorflow/compiler/mlir/mlir_graph_optimization_pass.cc:176] None of the MLIR Optimization Passes are enabled (registered 2)\n"
     ]
    },
    {
     "output_type": "stream",
     "name": "stdout",
     "text": [
      "Epoch 1/200\n",
      "22/22 [==============================] - 15s 37ms/step - loss: 3.2642 - accuracy: 0.0464 - val_loss: 3.2299 - val_accuracy: 0.0825\n",
      "Epoch 2/200\n",
      "22/22 [==============================] - 0s 18ms/step - loss: 3.2125 - accuracy: 0.0947 - val_loss: 3.1411 - val_accuracy: 0.1831\n",
      "Epoch 3/200\n",
      "22/22 [==============================] - 0s 18ms/step - loss: 3.0965 - accuracy: 0.1958 - val_loss: 2.9527 - val_accuracy: 0.1966\n",
      "Epoch 4/200\n",
      "22/22 [==============================] - 0s 18ms/step - loss: 2.8714 - accuracy: 0.2341 - val_loss: 3.1768 - val_accuracy: 0.0902\n",
      "Epoch 5/200\n",
      "22/22 [==============================] - 0s 18ms/step - loss: 2.8011 - accuracy: 0.2006 - val_loss: 2.4590 - val_accuracy: 0.3361\n",
      "Epoch 6/200\n",
      "22/22 [==============================] - 0s 17ms/step - loss: 2.3982 - accuracy: 0.3553 - val_loss: 2.2416 - val_accuracy: 0.4004\n",
      "Epoch 7/200\n",
      "22/22 [==============================] - 0s 18ms/step - loss: 2.2120 - accuracy: 0.3900 - val_loss: 2.1006 - val_accuracy: 0.3998\n",
      "Epoch 8/200\n",
      "22/22 [==============================] - 0s 19ms/step - loss: 2.0613 - accuracy: 0.4146 - val_loss: 1.9512 - val_accuracy: 0.4456\n",
      "Epoch 9/200\n",
      "22/22 [==============================] - 0s 19ms/step - loss: 1.9051 - accuracy: 0.4547 - val_loss: 1.8406 - val_accuracy: 0.4694\n",
      "Epoch 10/200\n",
      "22/22 [==============================] - 0s 18ms/step - loss: 1.8325 - accuracy: 0.4641 - val_loss: 1.8273 - val_accuracy: 0.4503\n",
      "Epoch 11/200\n",
      "22/22 [==============================] - 0s 18ms/step - loss: 1.7669 - accuracy: 0.4832 - val_loss: 1.7259 - val_accuracy: 0.4868\n",
      "Epoch 12/200\n",
      "22/22 [==============================] - 0s 21ms/step - loss: 1.6736 - accuracy: 0.5071 - val_loss: 1.6127 - val_accuracy: 0.5255\n",
      "Epoch 13/200\n",
      "22/22 [==============================] - 0s 20ms/step - loss: 1.6095 - accuracy: 0.5266 - val_loss: 1.6275 - val_accuracy: 0.5209\n",
      "Epoch 14/200\n",
      "22/22 [==============================] - 0s 21ms/step - loss: 1.5771 - accuracy: 0.5325 - val_loss: 1.5554 - val_accuracy: 0.5340\n",
      "Epoch 15/200\n",
      "22/22 [==============================] - 0s 20ms/step - loss: 1.5190 - accuracy: 0.5498 - val_loss: 1.4919 - val_accuracy: 0.5539\n",
      "Epoch 16/200\n",
      "22/22 [==============================] - 0s 21ms/step - loss: 1.4763 - accuracy: 0.5620 - val_loss: 1.4693 - val_accuracy: 0.5579\n",
      "Epoch 17/200\n",
      "22/22 [==============================] - 0s 21ms/step - loss: 1.4498 - accuracy: 0.5669 - val_loss: 1.4594 - val_accuracy: 0.5633\n",
      "Epoch 18/200\n",
      "22/22 [==============================] - 0s 22ms/step - loss: 1.4405 - accuracy: 0.5730 - val_loss: 1.4197 - val_accuracy: 0.5798\n",
      "Epoch 19/200\n",
      "22/22 [==============================] - 0s 21ms/step - loss: 1.4139 - accuracy: 0.5811 - val_loss: 1.4190 - val_accuracy: 0.5778\n",
      "Epoch 20/200\n",
      "22/22 [==============================] - 0s 20ms/step - loss: 1.3942 - accuracy: 0.5855 - val_loss: 1.3549 - val_accuracy: 0.5957\n",
      "Epoch 21/200\n",
      "22/22 [==============================] - 0s 21ms/step - loss: 1.3543 - accuracy: 0.5992 - val_loss: 1.3531 - val_accuracy: 0.6003\n",
      "Epoch 22/200\n",
      "22/22 [==============================] - 0s 21ms/step - loss: 1.3111 - accuracy: 0.6120 - val_loss: 1.3106 - val_accuracy: 0.6111\n",
      "Epoch 23/200\n",
      "22/22 [==============================] - 0s 22ms/step - loss: 1.2864 - accuracy: 0.6190 - val_loss: 1.3240 - val_accuracy: 0.6071\n",
      "Epoch 24/200\n",
      "22/22 [==============================] - 0s 22ms/step - loss: 1.2705 - accuracy: 0.6255 - val_loss: 1.2815 - val_accuracy: 0.6272\n",
      "Epoch 25/200\n",
      "22/22 [==============================] - 0s 21ms/step - loss: 1.2544 - accuracy: 0.6269 - val_loss: 1.2524 - val_accuracy: 0.6233\n",
      "Epoch 26/200\n",
      "22/22 [==============================] - 0s 21ms/step - loss: 1.2278 - accuracy: 0.6366 - val_loss: 1.2258 - val_accuracy: 0.6381\n",
      "Epoch 27/200\n",
      "22/22 [==============================] - 1s 23ms/step - loss: 1.2071 - accuracy: 0.6409 - val_loss: 1.2493 - val_accuracy: 0.6257\n",
      "Epoch 28/200\n",
      "22/22 [==============================] - 0s 22ms/step - loss: 1.2115 - accuracy: 0.6405 - val_loss: 1.1807 - val_accuracy: 0.6559\n",
      "Epoch 29/200\n",
      "22/22 [==============================] - 0s 21ms/step - loss: 1.1487 - accuracy: 0.6589 - val_loss: 1.1561 - val_accuracy: 0.6574\n",
      "Epoch 30/200\n",
      "22/22 [==============================] - 0s 20ms/step - loss: 1.1268 - accuracy: 0.6658 - val_loss: 1.2434 - val_accuracy: 0.6283\n",
      "Epoch 31/200\n",
      "22/22 [==============================] - 0s 22ms/step - loss: 1.1579 - accuracy: 0.6551 - val_loss: 1.1587 - val_accuracy: 0.6531\n",
      "Epoch 32/200\n",
      "22/22 [==============================] - 0s 21ms/step - loss: 1.1294 - accuracy: 0.6617 - val_loss: 1.1336 - val_accuracy: 0.6652\n",
      "Epoch 33/200\n",
      "22/22 [==============================] - 0s 21ms/step - loss: 1.0895 - accuracy: 0.6745 - val_loss: 1.1099 - val_accuracy: 0.6717\n",
      "Epoch 34/200\n",
      "22/22 [==============================] - 0s 20ms/step - loss: 1.0619 - accuracy: 0.6840 - val_loss: 1.0963 - val_accuracy: 0.6681\n",
      "Epoch 35/200\n",
      "22/22 [==============================] - 0s 20ms/step - loss: 1.0489 - accuracy: 0.6890 - val_loss: 1.0496 - val_accuracy: 0.6865\n",
      "Epoch 36/200\n",
      "22/22 [==============================] - 0s 21ms/step - loss: 1.0073 - accuracy: 0.7010 - val_loss: 1.0559 - val_accuracy: 0.6844\n",
      "Epoch 37/200\n",
      "22/22 [==============================] - 0s 22ms/step - loss: 1.0034 - accuracy: 0.7014 - val_loss: 1.0086 - val_accuracy: 0.7001\n",
      "Epoch 38/200\n",
      "22/22 [==============================] - 0s 20ms/step - loss: 0.9760 - accuracy: 0.7108 - val_loss: 1.0152 - val_accuracy: 0.6958\n",
      "Epoch 39/200\n",
      "22/22 [==============================] - 0s 20ms/step - loss: 0.9677 - accuracy: 0.7113 - val_loss: 0.9810 - val_accuracy: 0.7073\n",
      "Epoch 40/200\n",
      "22/22 [==============================] - 0s 20ms/step - loss: 0.9476 - accuracy: 0.7180 - val_loss: 0.9722 - val_accuracy: 0.7097\n",
      "Epoch 41/200\n",
      "22/22 [==============================] - 0s 22ms/step - loss: 0.9287 - accuracy: 0.7238 - val_loss: 0.9815 - val_accuracy: 0.7089\n",
      "Epoch 42/200\n",
      "22/22 [==============================] - 0s 20ms/step - loss: 0.9300 - accuracy: 0.7230 - val_loss: 0.9468 - val_accuracy: 0.7185\n",
      "Epoch 43/200\n",
      "22/22 [==============================] - 0s 21ms/step - loss: 0.9135 - accuracy: 0.7259 - val_loss: 0.9378 - val_accuracy: 0.7217\n",
      "Epoch 44/200\n",
      "22/22 [==============================] - 0s 20ms/step - loss: 0.8996 - accuracy: 0.7315 - val_loss: 0.9224 - val_accuracy: 0.7259\n",
      "Epoch 45/200\n",
      "22/22 [==============================] - 0s 20ms/step - loss: 0.8751 - accuracy: 0.7380 - val_loss: 0.9146 - val_accuracy: 0.7255\n",
      "Epoch 46/200\n",
      "22/22 [==============================] - 0s 21ms/step - loss: 0.8683 - accuracy: 0.7401 - val_loss: 0.9363 - val_accuracy: 0.7192\n",
      "Epoch 47/200\n",
      "22/22 [==============================] - 0s 21ms/step - loss: 0.8722 - accuracy: 0.7386 - val_loss: 0.8985 - val_accuracy: 0.7287\n",
      "Epoch 48/200\n",
      "22/22 [==============================] - 0s 21ms/step - loss: 0.8748 - accuracy: 0.7362 - val_loss: 0.8786 - val_accuracy: 0.7326\n",
      "Epoch 49/200\n",
      "22/22 [==============================] - 0s 22ms/step - loss: 0.8329 - accuracy: 0.7499 - val_loss: 0.8533 - val_accuracy: 0.7433\n",
      "Epoch 50/200\n",
      "22/22 [==============================] - 0s 21ms/step - loss: 0.8070 - accuracy: 0.7591 - val_loss: 0.8401 - val_accuracy: 0.7491\n",
      "Epoch 51/200\n",
      "22/22 [==============================] - 0s 21ms/step - loss: 0.8033 - accuracy: 0.7592 - val_loss: 0.8505 - val_accuracy: 0.7411\n",
      "Epoch 52/200\n",
      "22/22 [==============================] - 0s 21ms/step - loss: 0.7963 - accuracy: 0.7619 - val_loss: 0.8238 - val_accuracy: 0.7527\n",
      "Epoch 53/200\n",
      "22/22 [==============================] - 0s 21ms/step - loss: 0.7689 - accuracy: 0.7695 - val_loss: 0.8282 - val_accuracy: 0.7514\n",
      "Epoch 54/200\n",
      "22/22 [==============================] - 0s 20ms/step - loss: 0.7715 - accuracy: 0.7677 - val_loss: 0.7931 - val_accuracy: 0.7598\n",
      "Epoch 55/200\n",
      "22/22 [==============================] - 0s 21ms/step - loss: 0.7525 - accuracy: 0.7753 - val_loss: 0.7901 - val_accuracy: 0.7605\n",
      "Epoch 56/200\n",
      "22/22 [==============================] - 0s 21ms/step - loss: 0.7469 - accuracy: 0.7759 - val_loss: 0.7698 - val_accuracy: 0.7690\n",
      "Epoch 57/200\n",
      "22/22 [==============================] - 0s 20ms/step - loss: 0.7326 - accuracy: 0.7792 - val_loss: 0.7728 - val_accuracy: 0.7690\n",
      "Epoch 58/200\n",
      "22/22 [==============================] - 0s 20ms/step - loss: 0.7217 - accuracy: 0.7837 - val_loss: 0.7586 - val_accuracy: 0.7715\n",
      "Epoch 59/200\n",
      "22/22 [==============================] - 0s 20ms/step - loss: 0.7082 - accuracy: 0.7888 - val_loss: 0.7573 - val_accuracy: 0.7721\n",
      "Epoch 60/200\n",
      "22/22 [==============================] - 0s 20ms/step - loss: 0.7009 - accuracy: 0.7898 - val_loss: 0.7441 - val_accuracy: 0.7747\n",
      "Epoch 61/200\n",
      "22/22 [==============================] - 0s 21ms/step - loss: 0.6970 - accuracy: 0.7914 - val_loss: 0.7367 - val_accuracy: 0.7738\n",
      "Epoch 62/200\n",
      "22/22 [==============================] - 0s 22ms/step - loss: 0.7009 - accuracy: 0.7882 - val_loss: 0.7390 - val_accuracy: 0.7750\n",
      "Epoch 63/200\n",
      "22/22 [==============================] - 1s 23ms/step - loss: 0.6829 - accuracy: 0.7934 - val_loss: 0.7199 - val_accuracy: 0.7809\n",
      "Epoch 64/200\n",
      "22/22 [==============================] - 0s 21ms/step - loss: 0.6705 - accuracy: 0.7960 - val_loss: 0.7257 - val_accuracy: 0.7782\n",
      "Epoch 65/200\n",
      "22/22 [==============================] - 0s 20ms/step - loss: 0.6716 - accuracy: 0.7966 - val_loss: 0.7305 - val_accuracy: 0.7746\n",
      "Epoch 66/200\n",
      "22/22 [==============================] - 0s 21ms/step - loss: 0.6687 - accuracy: 0.7966 - val_loss: 0.6987 - val_accuracy: 0.7891\n",
      "Epoch 67/200\n",
      "22/22 [==============================] - 0s 21ms/step - loss: 0.6418 - accuracy: 0.8055 - val_loss: 0.7088 - val_accuracy: 0.7844\n",
      "Epoch 68/200\n",
      "22/22 [==============================] - 0s 21ms/step - loss: 0.6367 - accuracy: 0.8058 - val_loss: 0.6835 - val_accuracy: 0.7916\n",
      "Epoch 69/200\n",
      "22/22 [==============================] - 0s 20ms/step - loss: 0.6397 - accuracy: 0.8053 - val_loss: 0.6952 - val_accuracy: 0.7894\n",
      "Epoch 70/200\n",
      "22/22 [==============================] - 0s 21ms/step - loss: 0.6280 - accuracy: 0.8095 - val_loss: 0.6733 - val_accuracy: 0.7967\n",
      "Epoch 71/200\n",
      "22/22 [==============================] - 0s 21ms/step - loss: 0.6172 - accuracy: 0.8125 - val_loss: 0.6990 - val_accuracy: 0.7893\n",
      "Epoch 72/200\n",
      "22/22 [==============================] - 0s 20ms/step - loss: 0.6388 - accuracy: 0.8049 - val_loss: 0.6930 - val_accuracy: 0.7853\n",
      "Epoch 73/200\n",
      "22/22 [==============================] - 0s 20ms/step - loss: 0.6237 - accuracy: 0.8095 - val_loss: 0.6601 - val_accuracy: 0.7991\n",
      "Epoch 74/200\n",
      "22/22 [==============================] - 0s 21ms/step - loss: 0.6083 - accuracy: 0.8146 - val_loss: 0.6736 - val_accuracy: 0.7969\n",
      "Epoch 75/200\n",
      "22/22 [==============================] - 0s 20ms/step - loss: 0.5985 - accuracy: 0.8177 - val_loss: 0.6518 - val_accuracy: 0.8031\n",
      "Epoch 76/200\n",
      "22/22 [==============================] - 0s 20ms/step - loss: 0.5832 - accuracy: 0.8222 - val_loss: 0.6489 - val_accuracy: 0.8034\n",
      "Epoch 77/200\n",
      "22/22 [==============================] - 0s 21ms/step - loss: 0.5848 - accuracy: 0.8229 - val_loss: 0.6446 - val_accuracy: 0.8043\n",
      "Epoch 78/200\n",
      "22/22 [==============================] - 0s 21ms/step - loss: 0.5807 - accuracy: 0.8217 - val_loss: 0.6626 - val_accuracy: 0.7949\n",
      "Epoch 79/200\n",
      "22/22 [==============================] - 0s 21ms/step - loss: 0.5796 - accuracy: 0.8212 - val_loss: 0.6253 - val_accuracy: 0.8100\n",
      "Epoch 80/200\n",
      "22/22 [==============================] - 0s 21ms/step - loss: 0.5783 - accuracy: 0.8227 - val_loss: 0.6693 - val_accuracy: 0.7941\n",
      "Epoch 81/200\n",
      "22/22 [==============================] - 0s 21ms/step - loss: 0.5826 - accuracy: 0.8207 - val_loss: 0.6277 - val_accuracy: 0.8063\n",
      "Epoch 82/200\n",
      "22/22 [==============================] - 0s 20ms/step - loss: 0.5643 - accuracy: 0.8248 - val_loss: 0.6472 - val_accuracy: 0.8022\n",
      "Epoch 83/200\n",
      "22/22 [==============================] - 0s 20ms/step - loss: 0.5696 - accuracy: 0.8246 - val_loss: 0.6619 - val_accuracy: 0.7946\n",
      "Epoch 84/200\n",
      "22/22 [==============================] - 0s 21ms/step - loss: 0.5634 - accuracy: 0.8262 - val_loss: 0.6138 - val_accuracy: 0.8116\n",
      "Epoch 85/200\n",
      "22/22 [==============================] - 0s 20ms/step - loss: 0.5475 - accuracy: 0.8298 - val_loss: 0.6366 - val_accuracy: 0.8069\n",
      "Epoch 86/200\n",
      "22/22 [==============================] - 0s 19ms/step - loss: 0.5545 - accuracy: 0.8294 - val_loss: 0.6029 - val_accuracy: 0.8158\n",
      "Epoch 87/200\n",
      "22/22 [==============================] - 0s 20ms/step - loss: 0.5394 - accuracy: 0.8346 - val_loss: 0.5883 - val_accuracy: 0.8206\n",
      "Epoch 88/200\n",
      "22/22 [==============================] - 0s 20ms/step - loss: 0.5299 - accuracy: 0.8370 - val_loss: 0.6114 - val_accuracy: 0.8135\n",
      "Epoch 89/200\n",
      "22/22 [==============================] - 0s 20ms/step - loss: 0.5345 - accuracy: 0.8342 - val_loss: 0.5934 - val_accuracy: 0.8185\n",
      "Epoch 90/200\n",
      "22/22 [==============================] - 0s 20ms/step - loss: 0.5209 - accuracy: 0.8393 - val_loss: 0.6089 - val_accuracy: 0.8167\n",
      "Epoch 91/200\n",
      "22/22 [==============================] - 0s 23ms/step - loss: 0.5264 - accuracy: 0.8367 - val_loss: 0.5873 - val_accuracy: 0.8202\n",
      "Epoch 92/200\n",
      "22/22 [==============================] - 0s 20ms/step - loss: 0.5202 - accuracy: 0.8404 - val_loss: 0.5797 - val_accuracy: 0.8208\n",
      "Epoch 93/200\n",
      "22/22 [==============================] - 0s 21ms/step - loss: 0.5057 - accuracy: 0.8431 - val_loss: 0.5820 - val_accuracy: 0.8215\n",
      "Epoch 94/200\n",
      "22/22 [==============================] - 0s 21ms/step - loss: 0.4963 - accuracy: 0.8475 - val_loss: 0.5771 - val_accuracy: 0.8238\n",
      "Epoch 95/200\n",
      "22/22 [==============================] - 0s 20ms/step - loss: 0.5020 - accuracy: 0.8441 - val_loss: 0.5811 - val_accuracy: 0.8258\n",
      "Epoch 96/200\n",
      "22/22 [==============================] - 0s 21ms/step - loss: 0.5081 - accuracy: 0.8430 - val_loss: 0.5819 - val_accuracy: 0.8238\n",
      "Epoch 97/200\n",
      "22/22 [==============================] - 0s 21ms/step - loss: 0.4965 - accuracy: 0.8463 - val_loss: 0.5756 - val_accuracy: 0.8226\n",
      "Epoch 98/200\n",
      "22/22 [==============================] - 0s 20ms/step - loss: 0.4843 - accuracy: 0.8491 - val_loss: 0.5551 - val_accuracy: 0.8312\n",
      "Epoch 99/200\n",
      "22/22 [==============================] - 0s 21ms/step - loss: 0.4813 - accuracy: 0.8509 - val_loss: 0.5533 - val_accuracy: 0.8333\n",
      "Epoch 100/200\n",
      "22/22 [==============================] - 0s 21ms/step - loss: 0.4751 - accuracy: 0.8533 - val_loss: 0.5594 - val_accuracy: 0.8304\n",
      "Epoch 101/200\n",
      "22/22 [==============================] - 0s 21ms/step - loss: 0.4795 - accuracy: 0.8521 - val_loss: 0.6013 - val_accuracy: 0.8160\n",
      "Epoch 102/200\n",
      "22/22 [==============================] - 0s 21ms/step - loss: 0.5261 - accuracy: 0.8346 - val_loss: 0.5615 - val_accuracy: 0.8289\n",
      "Epoch 103/200\n",
      "22/22 [==============================] - 0s 21ms/step - loss: 0.4809 - accuracy: 0.8504 - val_loss: 0.5393 - val_accuracy: 0.8383\n",
      "Epoch 104/200\n",
      "22/22 [==============================] - 0s 20ms/step - loss: 0.4630 - accuracy: 0.8555 - val_loss: 0.5451 - val_accuracy: 0.8357\n",
      "Epoch 105/200\n",
      "22/22 [==============================] - 0s 20ms/step - loss: 0.4716 - accuracy: 0.8534 - val_loss: 0.5352 - val_accuracy: 0.8394\n",
      "Epoch 106/200\n",
      "22/22 [==============================] - 0s 21ms/step - loss: 0.4601 - accuracy: 0.8570 - val_loss: 0.5384 - val_accuracy: 0.8359\n",
      "Epoch 107/200\n",
      "22/22 [==============================] - 0s 22ms/step - loss: 0.4612 - accuracy: 0.8561 - val_loss: 0.5391 - val_accuracy: 0.8356\n",
      "Epoch 108/200\n",
      "22/22 [==============================] - 0s 21ms/step - loss: 0.4617 - accuracy: 0.8562 - val_loss: 0.5342 - val_accuracy: 0.8365\n",
      "Epoch 109/200\n",
      "22/22 [==============================] - 0s 20ms/step - loss: 0.4470 - accuracy: 0.8608 - val_loss: 0.5406 - val_accuracy: 0.8357\n",
      "Epoch 110/200\n",
      "22/22 [==============================] - 0s 21ms/step - loss: 0.4424 - accuracy: 0.8613 - val_loss: 0.5355 - val_accuracy: 0.8364\n",
      "Epoch 111/200\n",
      "22/22 [==============================] - 0s 20ms/step - loss: 0.4477 - accuracy: 0.8603 - val_loss: 0.5452 - val_accuracy: 0.8341\n",
      "Epoch 112/200\n",
      "22/22 [==============================] - 0s 21ms/step - loss: 0.4490 - accuracy: 0.8597 - val_loss: 0.5595 - val_accuracy: 0.8312\n",
      "Epoch 113/200\n",
      "22/22 [==============================] - 0s 20ms/step - loss: 0.4593 - accuracy: 0.8557 - val_loss: 0.5284 - val_accuracy: 0.8402\n",
      "Epoch 114/200\n",
      "22/22 [==============================] - 0s 21ms/step - loss: 0.4525 - accuracy: 0.8595 - val_loss: 0.5207 - val_accuracy: 0.8440\n",
      "Epoch 115/200\n",
      "22/22 [==============================] - 0s 21ms/step - loss: 0.4352 - accuracy: 0.8628 - val_loss: 0.5501 - val_accuracy: 0.8328\n",
      "Epoch 116/200\n",
      "22/22 [==============================] - 0s 21ms/step - loss: 0.4500 - accuracy: 0.8600 - val_loss: 0.5247 - val_accuracy: 0.8410\n",
      "Epoch 117/200\n",
      "22/22 [==============================] - 0s 21ms/step - loss: 0.4325 - accuracy: 0.8636 - val_loss: 0.5235 - val_accuracy: 0.8403\n",
      "Epoch 118/200\n",
      "22/22 [==============================] - 0s 20ms/step - loss: 0.4304 - accuracy: 0.8628 - val_loss: 0.5524 - val_accuracy: 0.8316\n",
      "Epoch 119/200\n",
      "22/22 [==============================] - 0s 20ms/step - loss: 0.4374 - accuracy: 0.8620 - val_loss: 0.5113 - val_accuracy: 0.8442\n",
      "Epoch 120/200\n",
      "22/22 [==============================] - 0s 20ms/step - loss: 0.4312 - accuracy: 0.8646 - val_loss: 0.5172 - val_accuracy: 0.8441\n",
      "Epoch 121/200\n",
      "22/22 [==============================] - 0s 20ms/step - loss: 0.4219 - accuracy: 0.8661 - val_loss: 0.5120 - val_accuracy: 0.8438\n",
      "Epoch 122/200\n",
      "22/22 [==============================] - 0s 20ms/step - loss: 0.4219 - accuracy: 0.8662 - val_loss: 0.5195 - val_accuracy: 0.8421\n",
      "Epoch 123/200\n",
      "22/22 [==============================] - 0s 20ms/step - loss: 0.4149 - accuracy: 0.8701 - val_loss: 0.5030 - val_accuracy: 0.8476\n",
      "Epoch 124/200\n",
      "22/22 [==============================] - 0s 20ms/step - loss: 0.4156 - accuracy: 0.8696 - val_loss: 0.5215 - val_accuracy: 0.8398\n",
      "Epoch 125/200\n",
      "22/22 [==============================] - 0s 20ms/step - loss: 0.4199 - accuracy: 0.8670 - val_loss: 0.4983 - val_accuracy: 0.8486\n",
      "Epoch 126/200\n",
      "22/22 [==============================] - 0s 20ms/step - loss: 0.4066 - accuracy: 0.8734 - val_loss: 0.5100 - val_accuracy: 0.8451\n",
      "Epoch 127/200\n",
      "22/22 [==============================] - 0s 21ms/step - loss: 0.4078 - accuracy: 0.8708 - val_loss: 0.5076 - val_accuracy: 0.8421\n",
      "Epoch 128/200\n",
      "22/22 [==============================] - 0s 20ms/step - loss: 0.4188 - accuracy: 0.8673 - val_loss: 0.5471 - val_accuracy: 0.8327\n",
      "Epoch 129/200\n",
      "22/22 [==============================] - 0s 21ms/step - loss: 0.4342 - accuracy: 0.8626 - val_loss: 0.5030 - val_accuracy: 0.8476\n",
      "Epoch 130/200\n",
      "22/22 [==============================] - 0s 20ms/step - loss: 0.4135 - accuracy: 0.8676 - val_loss: 0.5111 - val_accuracy: 0.8421\n",
      "Epoch 131/200\n",
      "22/22 [==============================] - 0s 20ms/step - loss: 0.3950 - accuracy: 0.8743 - val_loss: 0.4880 - val_accuracy: 0.8492\n",
      "Epoch 132/200\n",
      "22/22 [==============================] - 0s 21ms/step - loss: 0.3920 - accuracy: 0.8774 - val_loss: 0.4887 - val_accuracy: 0.8505\n",
      "Epoch 133/200\n",
      "22/22 [==============================] - 0s 20ms/step - loss: 0.3901 - accuracy: 0.8770 - val_loss: 0.4979 - val_accuracy: 0.8474\n",
      "Epoch 134/200\n",
      "22/22 [==============================] - 0s 21ms/step - loss: 0.4029 - accuracy: 0.8720 - val_loss: 0.4972 - val_accuracy: 0.8472\n",
      "Epoch 135/200\n",
      "22/22 [==============================] - 0s 20ms/step - loss: 0.4000 - accuracy: 0.8739 - val_loss: 0.4948 - val_accuracy: 0.8493\n",
      "Epoch 136/200\n",
      "22/22 [==============================] - 0s 21ms/step - loss: 0.3875 - accuracy: 0.8773 - val_loss: 0.4895 - val_accuracy: 0.8513\n",
      "Epoch 137/200\n",
      "22/22 [==============================] - 0s 21ms/step - loss: 0.3877 - accuracy: 0.8774 - val_loss: 0.5133 - val_accuracy: 0.8436\n",
      "Epoch 138/200\n",
      "22/22 [==============================] - 0s 20ms/step - loss: 0.3964 - accuracy: 0.8755 - val_loss: 0.4834 - val_accuracy: 0.8530\n",
      "Epoch 139/200\n",
      "22/22 [==============================] - 0s 21ms/step - loss: 0.3891 - accuracy: 0.8757 - val_loss: 0.4876 - val_accuracy: 0.8529\n",
      "Epoch 140/200\n",
      "22/22 [==============================] - 0s 21ms/step - loss: 0.3810 - accuracy: 0.8796 - val_loss: 0.4802 - val_accuracy: 0.8540\n",
      "Epoch 141/200\n",
      "22/22 [==============================] - 0s 20ms/step - loss: 0.3780 - accuracy: 0.8795 - val_loss: 0.5083 - val_accuracy: 0.8418\n",
      "Epoch 142/200\n",
      "22/22 [==============================] - 0s 21ms/step - loss: 0.3958 - accuracy: 0.8747 - val_loss: 0.5072 - val_accuracy: 0.8454\n",
      "Epoch 143/200\n",
      "22/22 [==============================] - 0s 21ms/step - loss: 0.3857 - accuracy: 0.8784 - val_loss: 0.4709 - val_accuracy: 0.8563\n",
      "Epoch 144/200\n",
      "22/22 [==============================] - 0s 20ms/step - loss: 0.3674 - accuracy: 0.8841 - val_loss: 0.4785 - val_accuracy: 0.8547\n",
      "Epoch 145/200\n",
      "22/22 [==============================] - 0s 21ms/step - loss: 0.3752 - accuracy: 0.8810 - val_loss: 0.4697 - val_accuracy: 0.8558\n",
      "Epoch 146/200\n",
      "22/22 [==============================] - 0s 21ms/step - loss: 0.3679 - accuracy: 0.8842 - val_loss: 0.4756 - val_accuracy: 0.8559\n",
      "Epoch 147/200\n",
      "22/22 [==============================] - 1s 24ms/step - loss: 0.3663 - accuracy: 0.8842 - val_loss: 0.4985 - val_accuracy: 0.8463\n",
      "Epoch 148/200\n",
      "22/22 [==============================] - 0s 20ms/step - loss: 0.3737 - accuracy: 0.8799 - val_loss: 0.4815 - val_accuracy: 0.8532\n",
      "Epoch 149/200\n",
      "22/22 [==============================] - 0s 21ms/step - loss: 0.3700 - accuracy: 0.8824 - val_loss: 0.4638 - val_accuracy: 0.8565\n",
      "Epoch 150/200\n",
      "22/22 [==============================] - 0s 21ms/step - loss: 0.3613 - accuracy: 0.8848 - val_loss: 0.4742 - val_accuracy: 0.8532\n",
      "Epoch 151/200\n",
      "22/22 [==============================] - 0s 21ms/step - loss: 0.3660 - accuracy: 0.8830 - val_loss: 0.4823 - val_accuracy: 0.8523\n",
      "Epoch 152/200\n",
      "22/22 [==============================] - 0s 21ms/step - loss: 0.3572 - accuracy: 0.8859 - val_loss: 0.4629 - val_accuracy: 0.8590\n",
      "Epoch 153/200\n",
      "22/22 [==============================] - 0s 21ms/step - loss: 0.3571 - accuracy: 0.8876 - val_loss: 0.4656 - val_accuracy: 0.8568\n",
      "Epoch 154/200\n",
      "22/22 [==============================] - 0s 21ms/step - loss: 0.3531 - accuracy: 0.8868 - val_loss: 0.4571 - val_accuracy: 0.8595\n",
      "Epoch 155/200\n",
      "22/22 [==============================] - 0s 21ms/step - loss: 0.3514 - accuracy: 0.8879 - val_loss: 0.4561 - val_accuracy: 0.8613\n",
      "Epoch 156/200\n",
      "22/22 [==============================] - 0s 22ms/step - loss: 0.3395 - accuracy: 0.8920 - val_loss: 0.4574 - val_accuracy: 0.8595\n",
      "Epoch 157/200\n",
      "22/22 [==============================] - 0s 21ms/step - loss: 0.3571 - accuracy: 0.8857 - val_loss: 0.4629 - val_accuracy: 0.8582\n",
      "Epoch 158/200\n",
      "22/22 [==============================] - 0s 22ms/step - loss: 0.3568 - accuracy: 0.8859 - val_loss: 0.4675 - val_accuracy: 0.8577\n",
      "Epoch 159/200\n",
      "22/22 [==============================] - 0s 21ms/step - loss: 0.3498 - accuracy: 0.8881 - val_loss: 0.4687 - val_accuracy: 0.8561\n",
      "Epoch 160/200\n",
      "22/22 [==============================] - 0s 21ms/step - loss: 0.3605 - accuracy: 0.8844 - val_loss: 0.4817 - val_accuracy: 0.8530\n",
      "Epoch 161/200\n",
      "22/22 [==============================] - 0s 21ms/step - loss: 0.3534 - accuracy: 0.8856 - val_loss: 0.4527 - val_accuracy: 0.8624\n",
      "Epoch 162/200\n",
      "22/22 [==============================] - 0s 21ms/step - loss: 0.3411 - accuracy: 0.8916 - val_loss: 0.4711 - val_accuracy: 0.8536\n",
      "Epoch 163/200\n",
      "22/22 [==============================] - 0s 23ms/step - loss: 0.3521 - accuracy: 0.8877 - val_loss: 0.4742 - val_accuracy: 0.8548\n",
      "Epoch 164/200\n",
      "22/22 [==============================] - 0s 21ms/step - loss: 0.3418 - accuracy: 0.8912 - val_loss: 0.4805 - val_accuracy: 0.8519\n",
      "Epoch 165/200\n",
      "22/22 [==============================] - 0s 21ms/step - loss: 0.3481 - accuracy: 0.8871 - val_loss: 0.4563 - val_accuracy: 0.8592\n",
      "Epoch 166/200\n",
      "22/22 [==============================] - 0s 22ms/step - loss: 0.3454 - accuracy: 0.8878 - val_loss: 0.4539 - val_accuracy: 0.8624\n",
      "Epoch 167/200\n",
      "22/22 [==============================] - 0s 21ms/step - loss: 0.3471 - accuracy: 0.8887 - val_loss: 0.4433 - val_accuracy: 0.8638\n",
      "Epoch 168/200\n",
      "22/22 [==============================] - 0s 22ms/step - loss: 0.3376 - accuracy: 0.8918 - val_loss: 0.4574 - val_accuracy: 0.8597\n",
      "Epoch 169/200\n",
      "22/22 [==============================] - 1s 24ms/step - loss: 0.3326 - accuracy: 0.8928 - val_loss: 0.4469 - val_accuracy: 0.8630\n",
      "Epoch 170/200\n",
      "22/22 [==============================] - 1s 23ms/step - loss: 0.3276 - accuracy: 0.8956 - val_loss: 0.4539 - val_accuracy: 0.8630\n",
      "Epoch 171/200\n",
      "22/22 [==============================] - 1s 23ms/step - loss: 0.3282 - accuracy: 0.8943 - val_loss: 0.4588 - val_accuracy: 0.8593\n",
      "Epoch 172/200\n",
      "22/22 [==============================] - 0s 22ms/step - loss: 0.3310 - accuracy: 0.8917 - val_loss: 0.4483 - val_accuracy: 0.8633\n",
      "Epoch 173/200\n",
      "22/22 [==============================] - 1s 25ms/step - loss: 0.3300 - accuracy: 0.8946 - val_loss: 0.4472 - val_accuracy: 0.8640\n",
      "Epoch 174/200\n",
      "22/22 [==============================] - 1s 24ms/step - loss: 0.3290 - accuracy: 0.8940 - val_loss: 0.4604 - val_accuracy: 0.8599\n",
      "Epoch 175/200\n",
      "22/22 [==============================] - 1s 24ms/step - loss: 0.3265 - accuracy: 0.8936 - val_loss: 0.4370 - val_accuracy: 0.8669\n",
      "Epoch 176/200\n",
      "22/22 [==============================] - 1s 24ms/step - loss: 0.3129 - accuracy: 0.8992 - val_loss: 0.4317 - val_accuracy: 0.8688\n",
      "Epoch 177/200\n",
      "22/22 [==============================] - 0s 23ms/step - loss: 0.3103 - accuracy: 0.9005 - val_loss: 0.4461 - val_accuracy: 0.8651\n",
      "Epoch 178/200\n",
      "22/22 [==============================] - 0s 22ms/step - loss: 0.3145 - accuracy: 0.8993 - val_loss: 0.4317 - val_accuracy: 0.8672\n",
      "Epoch 179/200\n",
      "22/22 [==============================] - 0s 22ms/step - loss: 0.3108 - accuracy: 0.9006 - val_loss: 0.4387 - val_accuracy: 0.8647\n",
      "Epoch 180/200\n",
      "22/22 [==============================] - 0s 22ms/step - loss: 0.3120 - accuracy: 0.9011 - val_loss: 0.4496 - val_accuracy: 0.8640\n",
      "Epoch 181/200\n",
      "22/22 [==============================] - 0s 22ms/step - loss: 0.3202 - accuracy: 0.8967 - val_loss: 0.4376 - val_accuracy: 0.8664\n",
      "Epoch 182/200\n",
      "22/22 [==============================] - 0s 22ms/step - loss: 0.3105 - accuracy: 0.8996 - val_loss: 0.4469 - val_accuracy: 0.8642\n",
      "Epoch 183/200\n",
      "22/22 [==============================] - 0s 22ms/step - loss: 0.3268 - accuracy: 0.8939 - val_loss: 0.4443 - val_accuracy: 0.8642\n",
      "Epoch 184/200\n",
      "22/22 [==============================] - 0s 23ms/step - loss: 0.3015 - accuracy: 0.9029 - val_loss: 0.4432 - val_accuracy: 0.8641\n",
      "Epoch 185/200\n",
      "22/22 [==============================] - 0s 22ms/step - loss: 0.3062 - accuracy: 0.9013 - val_loss: 0.4333 - val_accuracy: 0.8691\n",
      "Epoch 186/200\n",
      "22/22 [==============================] - 1s 23ms/step - loss: 0.3095 - accuracy: 0.9015 - val_loss: 0.4331 - val_accuracy: 0.8681\n",
      "Epoch 187/200\n",
      "22/22 [==============================] - 1s 23ms/step - loss: 0.3062 - accuracy: 0.9004 - val_loss: 0.4412 - val_accuracy: 0.8625\n",
      "Epoch 188/200\n",
      "22/22 [==============================] - 1s 24ms/step - loss: 0.3084 - accuracy: 0.9000 - val_loss: 0.4341 - val_accuracy: 0.8661\n",
      "Epoch 189/200\n",
      "22/22 [==============================] - 1s 24ms/step - loss: 0.3070 - accuracy: 0.8999 - val_loss: 0.4339 - val_accuracy: 0.8669\n",
      "Epoch 190/200\n",
      "22/22 [==============================] - 1s 23ms/step - loss: 0.2936 - accuracy: 0.9045 - val_loss: 0.4586 - val_accuracy: 0.8583\n",
      "Epoch 191/200\n",
      "22/22 [==============================] - 0s 22ms/step - loss: 0.3081 - accuracy: 0.8989 - val_loss: 0.4461 - val_accuracy: 0.8630\n",
      "Epoch 192/200\n",
      "22/22 [==============================] - 1s 23ms/step - loss: 0.3027 - accuracy: 0.9009 - val_loss: 0.4371 - val_accuracy: 0.8674\n",
      "Epoch 193/200\n",
      "22/22 [==============================] - 0s 22ms/step - loss: 0.3015 - accuracy: 0.9011 - val_loss: 0.4451 - val_accuracy: 0.8638\n",
      "Epoch 194/200\n",
      "22/22 [==============================] - 0s 22ms/step - loss: 0.3023 - accuracy: 0.9016 - val_loss: 0.4375 - val_accuracy: 0.8640\n",
      "Epoch 195/200\n",
      "22/22 [==============================] - 0s 22ms/step - loss: 0.2949 - accuracy: 0.9050 - val_loss: 0.4246 - val_accuracy: 0.8719\n",
      "Epoch 196/200\n",
      "22/22 [==============================] - 0s 22ms/step - loss: 0.2923 - accuracy: 0.9059 - val_loss: 0.4219 - val_accuracy: 0.8730\n",
      "Epoch 197/200\n",
      "22/22 [==============================] - 0s 22ms/step - loss: 0.2836 - accuracy: 0.9079 - val_loss: 0.4387 - val_accuracy: 0.8653\n",
      "Epoch 198/200\n",
      "22/22 [==============================] - 0s 22ms/step - loss: 0.3124 - accuracy: 0.8988 - val_loss: 0.4404 - val_accuracy: 0.8658\n",
      "Epoch 199/200\n",
      "22/22 [==============================] - 0s 22ms/step - loss: 0.2928 - accuracy: 0.9052 - val_loss: 0.4289 - val_accuracy: 0.8703\n",
      "Epoch 200/200\n",
      "22/22 [==============================] - 0s 21ms/step - loss: 0.2881 - accuracy: 0.9065 - val_loss: 0.4543 - val_accuracy: 0.8626\n"
     ]
    },
    {
     "output_type": "execute_result",
     "data": {
      "text/plain": [
       "<keras.callbacks.History at 0x7fb573908970>"
      ]
     },
     "metadata": {},
     "execution_count": 28
    }
   ],
   "metadata": {}
  },
  {
   "cell_type": "markdown",
   "source": [
    "### Confussion Matrix"
   ],
   "metadata": {}
  },
  {
   "cell_type": "code",
   "execution_count": 29,
   "source": [
    "_ = cm_keras(X_ann_test, y_ann_test, model_ann, le)"
   ],
   "outputs": [
    {
     "output_type": "stream",
     "name": "stdout",
     "text": [
      "Accuracy de 86.26%\n"
     ]
    },
    {
     "output_type": "display_data",
     "data": {
      "text/plain": [
       "<Figure size 936x936 with 2 Axes>"
      ],
      "image/png": "[encoded data removed]"
     },
     "metadata": {
      "needs_background": "light"
     }
    }
   ],
   "metadata": {}
  },
  {
   "cell_type": "markdown",
   "source": [
    "### From images"
   ],
   "metadata": {}
  },
  {
   "cell_type": "code",
   "execution_count": 30,
   "source": [
    "predict_letter_keras(BASE_DIR.joinpath('images'), IMAGES, model_ann, prep_ann, le)"
   ],
   "outputs": [
    {
     "output_type": "display_data",
     "data": {
      "text/plain": [
       "<Figure size 1080x360 with 4 Axes>"
      ],
      "image/png": "[encoded data removed]"
     },
     "metadata": {}
    },
    {
     "output_type": "stream",
     "name": "stdout",
     "text": [
      "The word predicted is: VAIC\n"
     ]
    }
   ],
   "metadata": {}
  },
  {
   "cell_type": "markdown",
   "source": [
    "### Export"
   ],
   "metadata": {}
  },
  {
   "cell_type": "code",
   "execution_count": 31,
   "source": [
    "model_ann.save(BASE_DIR.joinpath('letters_model.h5'))"
   ],
   "outputs": [],
   "metadata": {}
  },
  {
   "cell_type": "code",
   "execution_count": 32,
   "source": [
    "import h5py\n",
    "from keras.models import load_model\n",
    "new_model = load_model(BASE_DIR.joinpath('letters_model.h5'))\n",
    "f = h5py.File(BASE_DIR.joinpath('letters_model.h5'), 'r')\n",
    "print(list(f.keys()))"
   ],
   "outputs": [
    {
     "output_type": "stream",
     "name": "stdout",
     "text": [
      "['model_weights', 'optimizer_weights']\n"
     ]
    }
   ],
   "metadata": {}
  },
  {
   "cell_type": "markdown",
   "source": [
    "## End"
   ],
   "metadata": {}
  },
  {
   "cell_type": "code",
   "execution_count": 33,
   "source": [
    "time_exp(time.time() - start)\n",
    "tone()"
   ],
   "outputs": [
    {
     "output_type": "stream",
     "name": "stdout",
     "text": [
      "31 minutos con 8.03 segundos\n"
     ]
    },
    {
     "output_type": "execute_result",
     "data": {
      "text/plain": [
       "<IPython.lib.display.Audio object>"
      ],
      "text/html": [
       "\n",
       "                <audio  controls=\"controls\" autoplay=\"autoplay\">\n",
       "                    <source src=\"data:audio/wav;base64,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\" type=\"audio/wav\" />\n",
       "                    Your browser does not support the audio element.\n",
       "                </audio>\n",
       "              "
      ]
     },
     "metadata": {},
     "execution_count": 33
    }
   ],
   "metadata": {
    "ExecuteTime": {
     "end_time": "2021-05-29T19:42:34.237106Z",
     "start_time": "2021-05-29T19:42:34.228316Z"
    }
   }
  }
 ],
 "metadata": {
  "kernelspec": {
   "name": "python3",
   "display_name": "Python 3.9.1 64-bit ('venv': venv)"
  },
  "language_info": {
   "codemirror_mode": {
    "name": "ipython",
    "version": 3
   },
   "file_extension": ".py",
   "mimetype": "text/x-python",
   "name": "python",
   "nbconvert_exporter": "python",
   "pygments_lexer": "ipython3",
   "version": "3.9.1"
  },
  "toc": {
   "base_numbering": 1,
   "nav_menu": {},
   "number_sections": true,
   "sideBar": true,
   "skip_h1_title": true,
   "title_cell": "Table of Contents",
   "title_sidebar": "Contents",
   "toc_cell": false,
   "toc_position": {},
   "toc_section_display": true,
   "toc_window_display": true
  },
  "varInspector": {
   "cols": {
    "lenName": 16,
    "lenType": 16,
    "lenVar": 40
   },
   "kernels_config": {
    "python": {
     "delete_cmd_postfix": "",
     "delete_cmd_prefix": "del ",
     "library": "var_list.py",
     "varRefreshCmd": "print(var_dic_list())"
    },
    "r": {
     "delete_cmd_postfix": ") ",
     "delete_cmd_prefix": "rm(",
     "library": "var_list.r",
     "varRefreshCmd": "cat(var_dic_list()) "
    }
   },
   "types_to_exclude": [
    "module",
    "function",
    "builtin_function_or_method",
    "instance",
    "_Feature"
   ],
   "window_display": false
  },
  "interpreter": {
   "hash": "9de603709bc7399ed455492376c092aaf43a9de23cd182bce02e28baeb746ca5"
  }
 },
 "nbformat": 4,
 "nbformat_minor": 4
}