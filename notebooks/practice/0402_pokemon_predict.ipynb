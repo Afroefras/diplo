{
 "cells": [
  {
   "cell_type": "code",
   "execution_count": null,
   "source": [],
   "outputs": [],
   "metadata": {}
  },
  {
   "cell_type": "code",
   "execution_count": null,
   "source": [
    "from pathlib import Path\n",
    "\n",
    "# Directorio del csv\n",
    "BASE_DIR = Path('/Users/efraflores/Desktop/EF/Diplo/data/04/pokemon')\n",
    "# Directorio de las imágenes\n",
    "IMAGES_DIR = BASE_DIR.joinpath('images')\n",
    "# Nombre del csv\n",
    "FILE_NAME = 'pokemon.csv'\n",
    "# Se va a crear una columna con el nombre de la imagen\n",
    "PATH_COL = 'filename'\n",
    "# Si un pokemon tiene dos tipos, se harán dos renglones con cada clase\n",
    "LABEL_COL = 'class'"
   ],
   "outputs": [],
   "metadata": {}
  },
  {
   "cell_type": "code",
   "execution_count": null,
   "source": [
    "from keras.models import load_model\n",
    "model = load_model(BASE_DIR.joinpath('pokemon_model.h5'))\n",
    "model"
   ],
   "outputs": [],
   "metadata": {}
  },
  {
   "cell_type": "code",
   "execution_count": null,
   "source": [
    "def predict_pokemon_type(base_dir, image_name, fit_model):\n",
    "    aux = []\n",
    "    for img in image_list:\n",
    "        letter = Image.open(base_dir.joinpath(img)).convert('L').resize((28,28))\n",
    "        flat = -(1+np.asarray(letter)).ravel()\n",
    "        aux.append(flat)\n",
    "\n",
    "    if prep == None: pass\n",
    "    else: aux = prep.transform(pd.DataFrame(aux))\n",
    "\n",
    "    prediction = fit_model.predict(aux)\n",
    "    word = [np.argmax(x).reshape(-1,)[0] for x in prediction]\n",
    "\n",
    "    if label_encod == None: pass\n",
    "    else: word = label_encod.inverse_transform(word)\n",
    "\n",
    "    word = ''.join(word)\n",
    "\n",
    "    fig, axes = plt.subplots(1, len(word), figsize=(15, 5), sharey=True)\n",
    "    for i,row in enumerate(aux):\n",
    "        row = row if prep==None else prep.inverse_transform(row.reshape(1,-1))\n",
    "        sns.heatmap(pd.DataFrame(row.reshape((28,28))), ax=axes[i], cbar=False, xticklabels=False, yticklabels=False)\n",
    "    plt.subplots_adjust(wspace=.001)\n",
    "    plt.show()\n",
    "    print(f'The word predicted is: {word}')"
   ],
   "outputs": [],
   "metadata": {}
  }
 ],
 "metadata": {
  "orig_nbformat": 4,
  "language_info": {
   "name": "python"
  }
 },
 "nbformat": 4,
 "nbformat_minor": 2
}