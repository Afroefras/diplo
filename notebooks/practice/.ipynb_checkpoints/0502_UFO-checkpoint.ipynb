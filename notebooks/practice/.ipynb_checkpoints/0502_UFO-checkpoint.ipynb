{
 "cells": [
  {
   "cell_type": "markdown",
   "id": "3208bd07",
   "metadata": {},
   "source": [
    "# UFO"
   ]
  },
  {
   "cell_type": "markdown",
   "id": "d033220d",
   "metadata": {
    "heading_collapsed": true
   },
   "source": [
    "## Import"
   ]
  },
  {
   "cell_type": "code",
   "execution_count": 1,
   "id": "67e59250",
   "metadata": {
    "ExecuteTime": {
     "end_time": "2021-05-15T21:30:23.214739Z",
     "start_time": "2021-05-15T21:30:23.205372Z"
    },
    "hidden": true
   },
   "outputs": [],
   "source": [
    "import sys\n",
    "sys.path.append('/Users/efraflores/Desktop/hub/diplo/venv/lib/python3.9/site-packages')"
   ]
  },
  {
   "cell_type": "code",
   "execution_count": 2,
   "id": "b18986c7",
   "metadata": {
    "ExecuteTime": {
     "end_time": "2021-05-15T21:30:23.224398Z",
     "start_time": "2021-05-15T21:30:23.218108Z"
    },
    "hidden": true
   },
   "outputs": [
    {
     "name": "stdout",
     "output_type": "stream",
     "text": [
      "['0501_cred.json', '.DS_Store', 'ufo_discrete_model.pkl', '0501_untitled.csv', 'tad_discrete.csv', 'ufo_sentim.csv', '0502_ufo_data.csv']\n"
     ]
    }
   ],
   "source": [
    "import os\n",
    "\n",
    "BASE_DIR = '/Users/efraflores/Desktop/EF/Diplo/data/05'\n",
    "FILE_NAME = '0502_ufo_data.csv'\n",
    "print(os.listdir(BASE_DIR))"
   ]
  },
  {
   "cell_type": "code",
   "execution_count": 3,
   "id": "767b5dcd",
   "metadata": {
    "ExecuteTime": {
     "end_time": "2021-05-15T21:30:24.146318Z",
     "start_time": "2021-05-15T21:30:23.228064Z"
    },
    "hidden": true
   },
   "outputs": [
    {
     "name": "stderr",
     "output_type": "stream",
     "text": [
      "b'Skipping line 878: expected 11 fields, saw 12\\nSkipping line 1713: expected 11 fields, saw 12\\nSkipping line 1815: expected 11 fields, saw 12\\nSkipping line 2858: expected 11 fields, saw 12\\nSkipping line 3734: expected 11 fields, saw 12\\nSkipping line 4756: expected 11 fields, saw 12\\nSkipping line 5389: expected 11 fields, saw 12\\nSkipping line 5423: expected 11 fields, saw 12\\nSkipping line 5614: expected 11 fields, saw 12\\nSkipping line 5849: expected 11 fields, saw 12\\nSkipping line 6093: expected 11 fields, saw 12\\nSkipping line 7516: expected 11 fields, saw 12\\nSkipping line 7626: expected 11 fields, saw 12\\nSkipping line 8893: expected 11 fields, saw 12\\nSkipping line 9015: expected 11 fields, saw 12\\nSkipping line 9571: expected 11 fields, saw 12\\nSkipping line 9620: expected 11 fields, saw 12\\nSkipping line 9751: expected 11 fields, saw 12\\nSkipping line 10157: expected 11 fields, saw 12\\nSkipping line 10427: expected 11 fields, saw 12\\nSkipping line 12035: expected 11 fields, saw 12\\nSkipping line 12113: expected 11 fields, saw 12\\nSkipping line 12144: expected 11 fields, saw 12\\nSkipping line 12891: expected 11 fields, saw 12\\nSkipping line 14613: expected 11 fields, saw 12\\nSkipping line 16031: expected 11 fields, saw 12\\nSkipping line 16344: expected 11 fields, saw 12\\nSkipping line 16399: expected 11 fields, saw 12\\nSkipping line 16635: expected 11 fields, saw 12\\nSkipping line 16722: expected 11 fields, saw 12\\nSkipping line 18241: expected 11 fields, saw 12\\nSkipping line 18367: expected 11 fields, saw 12\\nSkipping line 18479: expected 11 fields, saw 12\\nSkipping line 19814: expected 11 fields, saw 12\\nSkipping line 19859: expected 11 fields, saw 12\\nSkipping line 19909: expected 11 fields, saw 12\\nSkipping line 19935: expected 11 fields, saw 12\\nSkipping line 20386: expected 11 fields, saw 12\\nSkipping line 20533: expected 11 fields, saw 12\\nSkipping line 20764: expected 11 fields, saw 12\\nSkipping line 21145: expected 11 fields, saw 12\\nSkipping line 21291: expected 11 fields, saw 12\\nSkipping line 21309: expected 11 fields, saw 12\\nSkipping line 21576: expected 11 fields, saw 12\\nSkipping line 21966: expected 11 fields, saw 12\\nSkipping line 22092: expected 11 fields, saw 12\\nSkipping line 22108: expected 11 fields, saw 12\\nSkipping line 22236: expected 11 fields, saw 12\\nSkipping line 22785: expected 11 fields, saw 12\\nSkipping line 23143: expected 11 fields, saw 12\\nSkipping line 23145: expected 11 fields, saw 12\\nSkipping line 23251: expected 11 fields, saw 12\\nSkipping line 23369: expected 11 fields, saw 12\\nSkipping line 23464: expected 11 fields, saw 12\\nSkipping line 23622: expected 11 fields, saw 12\\nSkipping line 23732: expected 11 fields, saw 12\\nSkipping line 23924: expected 11 fields, saw 12\\nSkipping line 24696: expected 11 fields, saw 12\\nSkipping line 25543: expected 11 fields, saw 12\\nSkipping line 25703: expected 11 fields, saw 12\\nSkipping line 25815: expected 11 fields, saw 12\\nSkipping line 26185: expected 11 fields, saw 12\\nSkipping line 27424: expected 11 fields, saw 12\\nSkipping line 27465: expected 11 fields, saw 12\\nSkipping line 28083: expected 11 fields, saw 12\\nSkipping line 28282: expected 11 fields, saw 12\\nSkipping line 28460: expected 11 fields, saw 12\\nSkipping line 28745: expected 11 fields, saw 12\\nSkipping line 29674: expected 11 fields, saw 12\\nSkipping line 30342: expected 11 fields, saw 12\\nSkipping line 30417: expected 11 fields, saw 12\\nSkipping line 31154: expected 11 fields, saw 12\\nSkipping line 31308: expected 11 fields, saw 12\\nSkipping line 32198: expected 11 fields, saw 12\\nSkipping line 32439: expected 11 fields, saw 12\\nSkipping line 32675: expected 11 fields, saw 12\\nSkipping line 33134: expected 11 fields, saw 12\\nSkipping line 33442: expected 11 fields, saw 12\\nSkipping line 34184: expected 11 fields, saw 12\\nSkipping line 34731: expected 11 fields, saw 12\\nSkipping line 34869: expected 11 fields, saw 12\\nSkipping line 35107: expected 11 fields, saw 12\\nSkipping line 35300: expected 11 fields, saw 12\\nSkipping line 35396: expected 11 fields, saw 12\\nSkipping line 35913: expected 11 fields, saw 12\\nSkipping line 36445: expected 11 fields, saw 12\\nSkipping line 36693: expected 11 fields, saw 12\\nSkipping line 36723: expected 11 fields, saw 12\\nSkipping line 37293: expected 11 fields, saw 12\\nSkipping line 37361: expected 11 fields, saw 12\\nSkipping line 37980: expected 11 fields, saw 12\\nSkipping line 38090: expected 11 fields, saw 12\\nSkipping line 38197: expected 11 fields, saw 12\\nSkipping line 39431: expected 11 fields, saw 12\\nSkipping line 39598: expected 11 fields, saw 12\\nSkipping line 39679: expected 11 fields, saw 12\\nSkipping line 39794: expected 11 fields, saw 12\\nSkipping line 40021: expected 11 fields, saw 12\\nSkipping line 40430: expected 11 fields, saw 12\\nSkipping line 42858: expected 11 fields, saw 12\\nSkipping line 43662: expected 11 fields, saw 12\\nSkipping line 44162: expected 11 fields, saw 12\\nSkipping line 45529: expected 11 fields, saw 12\\nSkipping line 46678: expected 11 fields, saw 12\\nSkipping line 46788: expected 11 fields, saw 12\\nSkipping line 46811: expected 11 fields, saw 12\\nSkipping line 46924: expected 11 fields, saw 12\\nSkipping line 47287: expected 11 fields, saw 12\\nSkipping line 47377: expected 11 fields, saw 12\\nSkipping line 47419: expected 11 fields, saw 12\\nSkipping line 47492: expected 11 fields, saw 12\\nSkipping line 47629: expected 11 fields, saw 12\\nSkipping line 48125: expected 11 fields, saw 12\\nSkipping line 48932: expected 11 fields, saw 12\\nSkipping line 48971: expected 11 fields, saw 12\\nSkipping line 49440: expected 11 fields, saw 12\\nSkipping line 49457: expected 11 fields, saw 12\\nSkipping line 50670: expected 11 fields, saw 12\\nSkipping line 50960: expected 11 fields, saw 12\\nSkipping line 51275: expected 11 fields, saw 12\\nSkipping line 51649: expected 11 fields, saw 12\\nSkipping line 51993: expected 11 fields, saw 12\\nSkipping line 52023: expected 11 fields, saw 12\\nSkipping line 52059: expected 11 fields, saw 12\\nSkipping line 52259: expected 11 fields, saw 12\\nSkipping line 52368: expected 11 fields, saw 12\\nSkipping line 52783: expected 11 fields, saw 12\\nSkipping line 53064: expected 11 fields, saw 12\\nSkipping line 53135: expected 11 fields, saw 12\\nSkipping line 53514: expected 11 fields, saw 12\\nSkipping line 54092: expected 11 fields, saw 12\\nSkipping line 55403: expected 11 fields, saw 12\\nSkipping line 57476: expected 11 fields, saw 12\\nSkipping line 58646: expected 11 fields, saw 12\\nSkipping line 58808: expected 11 fields, saw 12\\nSkipping line 59119: expected 11 fields, saw 12\\nSkipping line 59727: expected 11 fields, saw 12\\nSkipping line 60386: expected 11 fields, saw 12\\nSkipping line 60478: expected 11 fields, saw 12\\nSkipping line 60542: expected 11 fields, saw 12\\nSkipping line 60913: expected 11 fields, saw 12\\nSkipping line 61032: expected 11 fields, saw 12\\nSkipping line 61640: expected 11 fields, saw 12\\nSkipping line 61732: expected 11 fields, saw 12\\nSkipping line 62029: expected 11 fields, saw 12\\nSkipping line 62219: expected 11 fields, saw 12\\nSkipping line 63657: expected 11 fields, saw 12\\nSkipping line 64712: expected 11 fields, saw 12\\nSkipping line 65881: expected 11 fields, saw 12\\nSkipping line 66093: expected 11 fields, saw 12\\nSkipping line 66095: expected 11 fields, saw 12\\nSkipping line 66476: expected 11 fields, saw 12\\nSkipping line 66549: expected 11 fields, saw 12\\nSkipping line 66550: expected 11 fields, saw 12\\nSkipping line 68102: expected 11 fields, saw 12\\nSkipping line 69441: expected 11 fields, saw 12\\nSkipping line 70104: expected 11 fields, saw 12\\nSkipping line 70452: expected 11 fields, saw 12\\nSkipping line 70642: expected 11 fields, saw 12\\nSkipping line 70644: expected 11 fields, saw 12\\nSkipping line 70716: expected 11 fields, saw 12\\nSkipping line 71345: expected 11 fields, saw 12\\nSkipping line 71634: expected 11 fields, saw 12\\nSkipping line 72091: expected 11 fields, saw 12\\nSkipping line 72119: expected 11 fields, saw 12\\nSkipping line 73543: expected 11 fields, saw 12\\nSkipping line 74654: expected 11 fields, saw 12\\nSkipping line 74785: expected 11 fields, saw 12\\nSkipping line 74918: expected 11 fields, saw 12\\nSkipping line 75062: expected 11 fields, saw 12\\nSkipping line 75346: expected 11 fields, saw 12\\nSkipping line 75416: expected 11 fields, saw 12\\nSkipping line 75677: expected 11 fields, saw 12\\nSkipping line 75833: expected 11 fields, saw 12\\nSkipping line 76117: expected 11 fields, saw 12\\nSkipping line 76834: expected 11 fields, saw 12\\nSkipping line 77540: expected 11 fields, saw 12\\nSkipping line 77568: expected 11 fields, saw 12\\nSkipping line 77607: expected 11 fields, saw 12\\nSkipping line 77871: expected 11 fields, saw 12\\nSkipping line 78117: expected 11 fields, saw 12\\nSkipping line 78526: expected 11 fields, saw 12\\nSkipping line 78605: expected 11 fields, saw 12\\nSkipping line 79151: expected 11 fields, saw 12\\nSkipping line 79945: expected 11 fields, saw 12\\nSkipping line 80156: expected 11 fields, saw 12\\nSkipping line 80328: expected 11 fields, saw 12\\nSkipping line 80382: expected 11 fields, saw 12\\nSkipping line 80421: expected 11 fields, saw 12\\nSkipping line 80503: expected 11 fields, saw 12\\nSkipping line 82071: expected 11 fields, saw 12\\nSkipping line 82566: expected 11 fields, saw 12\\nSkipping line 86123: expected 11 fields, saw 12\\nSkipping line 87218: expected 11 fields, saw 12\\nSkipping line 87457: expected 11 fields, saw 12\\nSkipping line 87579: expected 11 fields, saw 12\\n'\n"
     ]
    },
    {
     "name": "stdout",
     "output_type": "stream",
     "text": [
      "<class 'pandas.core.frame.DataFrame'>\n",
      "RangeIndex: 88679 entries, 0 to 88678\n",
      "Data columns (total 11 columns):\n",
      " #   Column       Non-Null Count  Dtype  \n",
      "---  ------       --------------  -----  \n",
      " 0   occurance    88679 non-null  object \n",
      " 1   city         88679 non-null  object \n",
      " 2   citystate    81270 non-null  object \n",
      " 3   country      76314 non-null  object \n",
      " 4   ufoshape     85757 non-null  object \n",
      " 5   dseconds     88677 non-null  object \n",
      " 6   duration     85660 non-null  object \n",
      " 7   description  88644 non-null  object \n",
      " 8   report_date  88679 non-null  object \n",
      " 9   lat          88679 non-null  object \n",
      " 10  long         88679 non-null  float64\n",
      "dtypes: float64(1), object(10)\n",
      "memory usage: 7.4+ MB\n",
      "None\n"
     ]
    },
    {
     "data": {
      "text/html": [
       "<div>\n",
       "<style scoped>\n",
       "    .dataframe tbody tr th:only-of-type {\n",
       "        vertical-align: middle;\n",
       "    }\n",
       "\n",
       "    .dataframe tbody tr th {\n",
       "        vertical-align: top;\n",
       "    }\n",
       "\n",
       "    .dataframe thead th {\n",
       "        text-align: right;\n",
       "    }\n",
       "</style>\n",
       "<table border=\"1\" class=\"dataframe\">\n",
       "  <thead>\n",
       "    <tr style=\"text-align: right;\">\n",
       "      <th></th>\n",
       "      <th>occurance</th>\n",
       "      <th>city</th>\n",
       "      <th>citystate</th>\n",
       "      <th>country</th>\n",
       "      <th>ufoshape</th>\n",
       "      <th>dseconds</th>\n",
       "      <th>duration</th>\n",
       "      <th>description</th>\n",
       "      <th>report_date</th>\n",
       "      <th>lat</th>\n",
       "      <th>long</th>\n",
       "    </tr>\n",
       "  </thead>\n",
       "  <tbody>\n",
       "    <tr>\n",
       "      <th>86149</th>\n",
       "      <td>9/27/2007 04:34</td>\n",
       "      <td>kennedy space center</td>\n",
       "      <td>fl</td>\n",
       "      <td>NaN</td>\n",
       "      <td>unknown</td>\n",
       "      <td>2</td>\n",
       "      <td>1-2 seconds</td>\n",
       "      <td>UFO Fly-By At The &amp;#39Dawn&amp;#39 Probe Launch</td>\n",
       "      <td>10/8/2007</td>\n",
       "      <td>28.572872</td>\n",
       "      <td>-80.6490</td>\n",
       "    </tr>\n",
       "  </tbody>\n",
       "</table>\n",
       "</div>"
      ],
      "text/plain": [
       "             occurance                  city citystate country ufoshape  \\\n",
       "86149  9/27/2007 04:34  kennedy space center        fl     NaN  unknown   \n",
       "\n",
       "      dseconds     duration                                  description  \\\n",
       "86149        2  1-2 seconds  UFO Fly-By At The &#39Dawn&#39 Probe Launch   \n",
       "\n",
       "      report_date        lat     long  \n",
       "86149   10/8/2007  28.572872 -80.6490  "
      ]
     },
     "execution_count": 3,
     "metadata": {},
     "output_type": "execute_result"
    }
   ],
   "source": [
    "import pandas as pd\n",
    "pd.options.display.float_format = '{:.4f}'.format\n",
    "\n",
    "df = pd.read_csv(os.path.join(BASE_DIR,FILE_NAME),error_bad_lines=False,low_memory=False)\n",
    "print(df.info())\n",
    "df.sample()"
   ]
  },
  {
   "cell_type": "markdown",
   "id": "0c35a6f2",
   "metadata": {
    "heading_collapsed": true
   },
   "source": [
    "## Functions"
   ]
  },
  {
   "cell_type": "code",
   "execution_count": 4,
   "id": "b82f77d7",
   "metadata": {
    "ExecuteTime": {
     "end_time": "2021-05-15T21:30:24.155358Z",
     "start_time": "2021-05-15T21:30:24.149743Z"
    },
    "hidden": true
   },
   "outputs": [],
   "source": [
    "import time\n",
    "import numpy as np\n",
    "from IPython.lib.display import Audio\n",
    "\n",
    "start = time.time()\n",
    "def time_exp(x):\n",
    "    #Just print how many minutes and seconds have passed\n",
    "    minutes, seconds = np.floor(x/60), 60*(x/60-np.floor(x/60))\n",
    "    print(f\"{'{:.0f}'.format(minutes)} minutos con {'{:.2f}'.format(seconds)} segundos\")\n",
    "    \n",
    "def tone(a=1000, b=700, play_time_seconds=1, framerate=4410):\n",
    "    #Make a sound! Useful while training models\n",
    "    t = np.linspace(0, play_time_seconds, framerate*play_time_seconds)*np.pi\n",
    "    return Audio(np.sin(a*t)+np.sin(b*t), rate=framerate, autoplay=True)"
   ]
  },
  {
   "cell_type": "markdown",
   "id": "15aba05f",
   "metadata": {
    "hidden": true
   },
   "source": [
    "Omit outliers with the IQR method\n",
    "\n",
    "<https://online.stat.psu.edu/stat200/lesson/3/3.2>"
   ]
  },
  {
   "cell_type": "code",
   "execution_count": 5,
   "id": "4556fb61",
   "metadata": {
    "ExecuteTime": {
     "end_time": "2021-05-15T21:30:24.162739Z",
     "start_time": "2021-05-15T21:30:24.157709Z"
    },
    "hidden": true
   },
   "outputs": [],
   "source": [
    "def iqr(data,x,p=0.3):\n",
    "    dim_before = len(data)\n",
    "    var = data[x]\n",
    "    q1 = var.quantile(p/2)\n",
    "    q3 = var.quantile(1-p/2)\n",
    "    iqr = q3 - q1\n",
    "    data = data[(var.isnull()) | ((var >= q1 - 1.5*iqr) & (var <= q3 + 1.5*iqr))]\n",
    "    print(f'There are {\"{:.1%}\".format(len(data)/dim_before)}% of the previous rows')\n",
    "    return data"
   ]
  },
  {
   "cell_type": "code",
   "execution_count": 6,
   "id": "31231218",
   "metadata": {
    "ExecuteTime": {
     "end_time": "2021-05-15T21:30:27.185012Z",
     "start_time": "2021-05-15T21:30:24.165262Z"
    },
    "hidden": true
   },
   "outputs": [
    {
     "name": "stdout",
     "output_type": "stream",
     "text": [
      "\n",
      "Original:\t\t I am going to run!!! I ran while I was running??? ...\n",
      "Basic cleaning:\t\t I am going to run I ran while I was running\n",
      "Changing the pattern:\t I am going to run!!! I ran while I was running ...\n",
      "Without stopwords:\t going run ran running\n",
      "Lower and lemma:\t i be go to run i run while i be run\n",
      "Super cleaning:\t\t run\n",
      "\n",
      "It actually corrects the weird accents, example\n",
      "\tFROM:\t ThÈ ÉfrâïsMã's?...\n",
      "\tTO:\t the efraisma's\n"
     ]
    }
   ],
   "source": [
    "#Uncomment the following lines if it's the first time you run this packages\n",
    "'''\n",
    "!pip install nltk\n",
    "import nltk\n",
    "nltk.download('stopwords')\n",
    "nltk.download('wordnet')\n",
    "'''\n",
    "import re\n",
    "import unicodedata\n",
    "from nltk.corpus import stopwords\n",
    "from nltk.stem import WordNetLemmatizer\n",
    "\n",
    "lem = WordNetLemmatizer()\n",
    "\n",
    "def clean_text(text,\n",
    "               language='english',pattern=\"[^a-zA-Z' ]\",\n",
    "               lower=False,lemma=False,rem_stopw=False,unique=False,\n",
    "               add_stopw=[]):\n",
    "    #It clean and can remove stopwords or even lemmatize words if specified in params\n",
    "    cleaned_text = unicodedata.normalize('NFD',str(text).replace('\\n','')).encode('ascii', 'ignore')\n",
    "    cleaned_text = re.sub(pattern,' ',cleaned_text.decode('utf-8'),flags=re.UNICODE)\n",
    "    cleaned_text = [(lem.lemmatize(word,pos='v') if lemma else word) for word in \n",
    "                    (cleaned_text.lower().split() if lower else cleaned_text.split())]\n",
    "    if rem_stopw: cleaned_text = [word for word in cleaned_text if word.lower() not in \n",
    "                                  stopwords.words(language)+add_stopw]\n",
    "    return ' '.join((set(cleaned_text) if unique else cleaned_text))\n",
    "\n",
    "#Ex\n",
    "ex = \"I am going to run!!! I ran while I was running??? ...\"\n",
    "print('\\nOriginal:\\t\\t',ex)\n",
    "print('Basic cleaning:\\t\\t',clean_text(ex))\n",
    "print('Changing the pattern:\\t',clean_text(ex,pattern=\"[^a-zA-Z!\\.]\"))\n",
    "print('Without stopwords:\\t',clean_text(ex,rem_stopw=True))\n",
    "print('Lower and lemma:\\t',clean_text(ex,lower=True,lemma=True))\n",
    "print('Super cleaning:\\t\\t',clean_text(ex,add_stopw=['go'],lower=True,rem_stopw=True,lemma=True,unique=True))\n",
    "print(\"\\nIt actually corrects the weird accents, example\\n\\tFROM:\\t ThÈ ÉfrâïsMã's?...\\n\\tTO:\\t\",clean_text(\"ThÈ ÉfrâïsMa's?...\",lower=True))"
   ]
  },
  {
   "cell_type": "code",
   "execution_count": 7,
   "id": "98035005",
   "metadata": {
    "ExecuteTime": {
     "end_time": "2021-05-15T21:30:27.244545Z",
     "start_time": "2021-05-15T21:30:27.194032Z"
    },
    "hidden": true
   },
   "outputs": [
    {
     "name": "stdout",
     "output_type": "stream",
     "text": [
      "{'neg': 0.0, 'neu': 0.192, 'pos': 0.808, 'compound': 0.6369}\n",
      "{'neg': 0.787, 'neu': 0.213, 'pos': 0.0, 'compound': -0.5719}\n",
      "{'neg': 0.0, 'neu': 0.476, 'pos': 0.524, 'compound': 0.296}\n"
     ]
    }
   ],
   "source": [
    "from nltk import sent_tokenize\n",
    "from nltk.sentiment.vader import SentimentIntensityAnalyzer\n",
    "\n",
    "def sentiment(text):\n",
    "    sid = SentimentIntensityAnalyzer()\n",
    "    try: list(map(sid.polarity_scores,sent_tokenize(text)))[0]\n",
    "    except: sentences = sent_tokenize('a')\n",
    "    else: sentences = sent_tokenize(text)\n",
    "    res = map(sid.polarity_scores, sentences)\n",
    "    return list(res)[0]\n",
    "\n",
    "print(sentiment('I love it'))\n",
    "print(sentiment('I hate it'))\n",
    "print(sentiment('It is ok'))"
   ]
  },
  {
   "cell_type": "code",
   "execution_count": 8,
   "id": "f08e0a64",
   "metadata": {
    "ExecuteTime": {
     "end_time": "2021-05-15T21:30:27.311484Z",
     "start_time": "2021-05-15T21:30:27.246632Z"
    },
    "hidden": true
   },
   "outputs": [],
   "source": [
    "from sklearn.ensemble import IsolationForest\n",
    "\n",
    "def outliers(data,cols,p=0.04):\n",
    "    df = data.copy()\n",
    "    dim_before = len(df)\n",
    "    outlier = IsolationForest(contamination=p,n_jobs=-1)\n",
    "    df['outlier'] = outlier.fit_predict(df[cols])\n",
    "    df = df[df['outlier']!=-1].drop(columns = 'outlier')\n",
    "    print(f'There are {\"{:.1%}\".format(len(df)/dim_before)}% of the previous rows')\n",
    "    return df"
   ]
  },
  {
   "cell_type": "code",
   "execution_count": 9,
   "id": "9425b1bb",
   "metadata": {
    "ExecuteTime": {
     "end_time": "2021-05-15T21:30:27.323669Z",
     "start_time": "2021-05-15T21:30:27.313501Z"
    },
    "hidden": true
   },
   "outputs": [],
   "source": [
    "def multishift(data,id_cols,date_cols,shifts,**pivot_args):\n",
    "    df = data.copy()\n",
    "    #Merge all column names as a string\n",
    "    id_col = ','.join(id_cols)\n",
    "    #And as a column\n",
    "    df[id_col] = df[id_cols].apply(lambda x:','.join(x.dropna().astype(str)),axis=1)\n",
    "    #Drop any \"id_col\"-set that has a lower frequency than the max of the \"shifts-list\"\n",
    "    freq = df[id_col].value_counts().to_frame()\n",
    "    omit_idx = freq[freq[id_col]<=max(shifts)].index.to_list()\n",
    "    if len(omit_idx)>0:\n",
    "        df = df[~df[id_col].isin(omit_idx)].copy()\n",
    "    #Change data structure to build the \"shifting\"\n",
    "    df = df.pivot_table(index=[id_col]+date_cols,\n",
    "                        **pivot_args,\n",
    "                        fill_value=0)\n",
    "    #Concatenate multiple columns if they are\n",
    "    df.columns = ['_'.join([x for x in col]) if \n",
    "                  not isinstance(df.columns[0],str) #First element is not a string\n",
    "                  else col for col in df.columns]\n",
    "    #Bring the id_col for taking the set (unique values) in the next loop\n",
    "    df.reset_index(inplace=True)\n",
    "    #Each shift must be calculated at \"id_col\" level\n",
    "    total = pd.DataFrame()\n",
    "    for row in set(df[id_col]):\n",
    "        #Set the id_col as index (again) to call all the rows with that id_col\n",
    "        df_id = df.set_index(id_col).loc[row:row,:]\n",
    "        cols = df_id.columns[len(date_cols):].tolist()\n",
    "        #Start the \"shifting\"\n",
    "        aux = df_id.copy().iloc[:,len(date_cols):].reset_index(drop=True)\n",
    "        for i in shifts:\n",
    "            shifted = df_id.iloc[:,len(date_cols):].shift(i).rename(columns={x:f'{x}_{str(i).zfill(2)}' \n",
    "                                                                for x in cols})\n",
    "            aux = aux.join(shifted.reset_index(drop=True))\n",
    "        aux[id_col] = row\n",
    "        total = total.append(aux,ignore_index=True)\n",
    "    total[[x for x in id_col.split(',')]] = total[id_col].str.split(',',expand=True)\n",
    "    total[date_cols] = df[date_cols].copy()\n",
    "    return total.drop(columns=id_col).set_index(id_cols+date_cols)"
   ]
  },
  {
   "cell_type": "code",
   "execution_count": 41,
   "id": "750cff6b",
   "metadata": {
    "ExecuteTime": {
     "end_time": "2021-05-15T21:43:12.577743Z",
     "start_time": "2021-05-15T21:43:12.573431Z"
    },
    "hidden": true
   },
   "outputs": [],
   "source": [
    "def perc15(x): return np.percentile(x,15)\n",
    "def perc25(x): return np.percentile(x,25)\n",
    "def perc70(x): return np.percentile(x,70)"
   ]
  },
  {
   "cell_type": "code",
   "execution_count": 10,
   "id": "6a61dc5b",
   "metadata": {
    "ExecuteTime": {
     "end_time": "2021-05-15T21:30:27.749497Z",
     "start_time": "2021-05-15T21:30:27.326150Z"
    },
    "hidden": true
   },
   "outputs": [],
   "source": [
    "import seaborn as sns\n",
    "from sklearn.metrics import confusion_matrix\n",
    "\n",
    "color = sns.dark_palette(\"#69d\",as_cmap=True)\n",
    "\n",
    "def cm(model,X,y,color):\n",
    "    aux = pd.DataFrame(confusion_matrix(y_true=y,y_pred=model.predict(X)))\n",
    "    aux /= aux.sum().sum()\n",
    "    return aux.style.background_gradient(cmap=color).format('{:.1%}')"
   ]
  },
  {
   "cell_type": "markdown",
   "id": "e09a946f",
   "metadata": {
    "heading_collapsed": true
   },
   "source": [
    "## Transform"
   ]
  },
  {
   "cell_type": "markdown",
   "id": "7d6042b6",
   "metadata": {
    "heading_collapsed": true,
    "hidden": true
   },
   "source": [
    "### Occurance"
   ]
  },
  {
   "cell_type": "code",
   "execution_count": 11,
   "id": "9f9f8795",
   "metadata": {
    "ExecuteTime": {
     "end_time": "2021-05-15T21:30:27.886103Z",
     "start_time": "2021-05-15T21:30:27.751742Z"
    },
    "hidden": true
   },
   "outputs": [
    {
     "name": "stdout",
     "output_type": "stream",
     "text": [
      "166 10/10/2005 24:00\n",
      "316 10/11/1994 24:00\n",
      "417 10/11/2006 24:00\n",
      "487 10/11/2012 24:00\n",
      "567 10/1/1972 24:00\n"
     ]
    }
   ],
   "source": [
    "#Errors because %H just accepts 0-23\n",
    "n=0\n",
    "for i,hr in enumerate(df['occurance']):\n",
    "    try:\n",
    "        pd.to_datetime(hr,format='%m/%d/%Y %H:%M')\n",
    "    except:\n",
    "        print(i,hr)\n",
    "        n += 1\n",
    "        if n>4: break"
   ]
  },
  {
   "cell_type": "code",
   "execution_count": 12,
   "id": "ff80ef5b",
   "metadata": {
    "ExecuteTime": {
     "end_time": "2021-05-15T21:30:50.080070Z",
     "start_time": "2021-05-15T21:30:27.888542Z"
    },
    "hidden": true
   },
   "outputs": [
    {
     "name": "stdout",
     "output_type": "stream",
     "text": [
      "10/10/2005 24:00\n",
      "2005-10-11 00:00:00\n"
     ]
    }
   ],
   "source": [
    "import re\n",
    "import datetime\n",
    "\n",
    "aux = []\n",
    "correct_hr = []\n",
    "for x in df['occurance']:\n",
    "    try:\n",
    "        hr = pd.to_datetime(x)\n",
    "        aux.append(0)\n",
    "    except:\n",
    "        hr = pd.to_datetime(re.sub('\\s24',' 00',str(x)))\n",
    "        aux.append(1)\n",
    "    finally:\n",
    "        correct_hr.append(hr)\n",
    "        \n",
    "print(df.iloc[166,0])\n",
    "print((pd.Series(correct_hr) + pd.Series([datetime.timedelta(x) for x in aux]))[166])\n",
    "df['occurance'] = pd.Series(correct_hr) + pd.Series([datetime.timedelta(x) for x in aux])"
   ]
  },
  {
   "cell_type": "code",
   "execution_count": 13,
   "id": "d6a42c79",
   "metadata": {
    "ExecuteTime": {
     "end_time": "2021-05-15T21:30:50.263112Z",
     "start_time": "2021-05-15T21:30:50.081995Z"
    },
    "hidden": true
   },
   "outputs": [
    {
     "data": {
      "text/plain": [
       "<AxesSubplot:>"
      ]
     },
     "execution_count": 13,
     "metadata": {},
     "output_type": "execute_result"
    },
    {
     "data": {
      "image/png": "[encoded data removed]",
      "text/plain": [
       "<Figure size 432x288 with 1 Axes>"
      ]
     },
     "metadata": {
      "needs_background": "light"
     },
     "output_type": "display_data"
    }
   ],
   "source": [
    "df['occurance'].dt.year.hist()"
   ]
  },
  {
   "cell_type": "code",
   "execution_count": 14,
   "id": "a96b1a33",
   "metadata": {
    "ExecuteTime": {
     "end_time": "2021-05-15T21:30:50.444236Z",
     "start_time": "2021-05-15T21:30:50.264931Z"
    },
    "hidden": true
   },
   "outputs": [
    {
     "name": "stdout",
     "output_type": "stream",
     "text": [
      "There are 95.6%% of the previous rows\n"
     ]
    },
    {
     "data": {
      "text/plain": [
       "<AxesSubplot:>"
      ]
     },
     "execution_count": 14,
     "metadata": {},
     "output_type": "execute_result"
    },
    {
     "data": {
      "image/png": "[encoded data removed]",
      "text/plain": [
       "<Figure size 432x288 with 1 Axes>"
      ]
     },
     "metadata": {
      "needs_background": "light"
     },
     "output_type": "display_data"
    }
   ],
   "source": [
    "df['year'] = df['occurance'].dt.year\n",
    "df = iqr(df,'year')\n",
    "df['year'].hist()"
   ]
  },
  {
   "cell_type": "code",
   "execution_count": 15,
   "id": "3e6415fe",
   "metadata": {
    "ExecuteTime": {
     "end_time": "2021-05-15T21:30:50.772923Z",
     "start_time": "2021-05-15T21:30:50.445992Z"
    },
    "hidden": true
   },
   "outputs": [
    {
     "data": {
      "text/plain": [
       "21-23   0.2730\n",
       "00-10   0.2490\n",
       "10-19   0.1973\n",
       "19-21   0.1803\n",
       "23-24   0.1004\n",
       "Name: hr_range, dtype: float64"
      ]
     },
     "execution_count": 15,
     "metadata": {},
     "output_type": "execute_result"
    }
   ],
   "source": [
    "df['hr_range'] = [str(x.left).zfill(2)+\"-\"+str(x.right).zfill(2) for x in \n",
    "              pd.cut(df['occurance'].dt.hour,bins=[0,10,19,21,23,24],right=False)]\n",
    "df['hr_range'].value_counts(1)"
   ]
  },
  {
   "cell_type": "markdown",
   "id": "f74fe390",
   "metadata": {
    "heading_collapsed": true,
    "hidden": true
   },
   "source": [
    "### Shape"
   ]
  },
  {
   "cell_type": "code",
   "execution_count": 16,
   "id": "93c50dc4",
   "metadata": {
    "ExecuteTime": {
     "end_time": "2021-05-15T21:30:50.804003Z",
     "start_time": "2021-05-15T21:30:50.774810Z"
    },
    "hidden": true
   },
   "outputs": [],
   "source": [
    "df.drop(columns=['city','citystate','country'],inplace=True)"
   ]
  },
  {
   "cell_type": "code",
   "execution_count": 17,
   "id": "8725f9ce",
   "metadata": {
    "ExecuteTime": {
     "end_time": "2021-05-15T21:30:50.845990Z",
     "start_time": "2021-05-15T21:30:50.809810Z"
    },
    "hidden": true
   },
   "outputs": [
    {
     "data": {
      "text/plain": [
       "other   0.7013\n",
       "light   0.2987\n",
       "Name: ufoshape, dtype: float64"
      ]
     },
     "execution_count": 17,
     "metadata": {},
     "output_type": "execute_result"
    }
   ],
   "source": [
    "df['ufoshape'] = ['light' if x in ['light','fireball','flash','flare'] else 'other' for x in df['ufoshape']]\n",
    "df['ufoshape'].value_counts(1)"
   ]
  },
  {
   "cell_type": "markdown",
   "id": "445d38fc",
   "metadata": {
    "heading_collapsed": true,
    "hidden": true
   },
   "source": [
    "### Duration"
   ]
  },
  {
   "cell_type": "code",
   "execution_count": 18,
   "id": "617f2928",
   "metadata": {
    "ExecuteTime": {
     "end_time": "2021-05-15T21:30:50.969060Z",
     "start_time": "2021-05-15T21:30:50.850799Z"
    },
    "hidden": true
   },
   "outputs": [
    {
     "data": {
      "text/plain": [
       "count      84794.0000\n",
       "mean        8115.9260\n",
       "std       597554.5475\n",
       "min            0.0000\n",
       "0%             0.0000\n",
       "10%            2.0000\n",
       "20%           10.0000\n",
       "30%           30.0000\n",
       "40%           60.0000\n",
       "50%          120.0000\n",
       "60%          300.0000\n",
       "70%          360.0000\n",
       "80%          900.0000\n",
       "90%         1800.0000\n",
       "max     97836000.0000\n",
       "Name: dseconds, dtype: float64"
      ]
     },
     "execution_count": 18,
     "metadata": {},
     "output_type": "execute_result"
    }
   ],
   "source": [
    "df['dseconds'] = df['dseconds'].astype(str).apply(lambda x: re.sub('[^\\d]','',x)\n",
    "                                                 ).replace('',np.nan).astype(float)\n",
    "df['dseconds'].describe([i/10 for i in range(10)])"
   ]
  },
  {
   "cell_type": "code",
   "execution_count": 19,
   "id": "db37f416",
   "metadata": {
    "ExecuteTime": {
     "end_time": "2021-05-15T21:30:51.156139Z",
     "start_time": "2021-05-15T21:30:50.971949Z"
    },
    "hidden": true,
    "scrolled": true
   },
   "outputs": [
    {
     "name": "stdout",
     "output_type": "stream",
     "text": [
      "There are 93.8%% of the previous rows\n"
     ]
    },
    {
     "data": {
      "text/plain": [
       "<AxesSubplot:>"
      ]
     },
     "execution_count": 19,
     "metadata": {},
     "output_type": "execute_result"
    },
    {
     "data": {
      "image/png": "[encoded data removed]",
      "text/plain": [
       "<Figure size 432x288 with 1 Axes>"
      ]
     },
     "metadata": {
      "needs_background": "light"
     },
     "output_type": "display_data"
    }
   ],
   "source": [
    "import matplotlib.pyplot as plt\n",
    "df = iqr(df,'dseconds')\n",
    "df['dseconds'].hist()"
   ]
  },
  {
   "cell_type": "code",
   "execution_count": 20,
   "id": "581f7256",
   "metadata": {
    "ExecuteTime": {
     "end_time": "2021-05-15T21:30:51.219253Z",
     "start_time": "2021-05-15T21:30:51.159710Z"
    },
    "hidden": true
   },
   "outputs": [
    {
     "data": {
      "text/plain": [
       "more_hr   0.6224\n",
       "less_hr   0.2930\n",
       "unkown    0.0846\n",
       "Name: duration, dtype: float64"
      ]
     },
     "execution_count": 20,
     "metadata": {},
     "output_type": "execute_result"
    }
   ],
   "source": [
    "aux = []\n",
    "for x in df['dseconds']:\n",
    "    if x in [0.0,np.nan]: aux.append('unkown')\n",
    "    elif x < 60: aux.append('less_hr')\n",
    "    else: aux.append('more_hr')\n",
    "df['duration'] = aux\n",
    "df['duration'].value_counts(1)"
   ]
  },
  {
   "cell_type": "markdown",
   "id": "22523675",
   "metadata": {
    "heading_collapsed": true,
    "hidden": true
   },
   "source": [
    "### Report date"
   ]
  },
  {
   "cell_type": "code",
   "execution_count": 21,
   "id": "075e2ef4",
   "metadata": {
    "ExecuteTime": {
     "end_time": "2021-05-15T21:30:51.311468Z",
     "start_time": "2021-05-15T21:30:51.223212Z"
    },
    "hidden": true
   },
   "outputs": [
    {
     "data": {
      "text/plain": [
       "count   79495.0000\n",
       "mean      622.2764\n",
       "std      1795.6223\n",
       "min         0.0000\n",
       "0%          0.0000\n",
       "10%         3.0000\n",
       "20%         6.0000\n",
       "30%        10.0000\n",
       "40%        16.0000\n",
       "50%        24.0000\n",
       "60%        36.0000\n",
       "70%        59.0000\n",
       "80%       225.0000\n",
       "90%      1670.0000\n",
       "max     13469.0000\n",
       "Name: report_date, dtype: float64"
      ]
     },
     "execution_count": 21,
     "metadata": {},
     "output_type": "execute_result"
    }
   ],
   "source": [
    "df['report_date'] = pd.to_datetime(df['report_date'])\n",
    "df['report_date'] = ((df['report_date']-df['occurance'])/np.timedelta64(1,'D')).astype(int)\n",
    "df = df[df['report_date']>=0].copy()\n",
    "df['report_date'].describe([i/10 for i in range(10)])"
   ]
  },
  {
   "cell_type": "code",
   "execution_count": 22,
   "id": "f1b9f947",
   "metadata": {
    "ExecuteTime": {
     "end_time": "2021-05-15T21:30:51.498447Z",
     "start_time": "2021-05-15T21:30:51.313734Z"
    },
    "hidden": true
   },
   "outputs": [
    {
     "data": {
      "text/plain": [
       "07-30        0.3399\n",
       "00-07        0.2082\n",
       "60-1000      0.1638\n",
       "30-60        0.1539\n",
       "1000-15000   0.1341\n",
       "Name: report_date, dtype: float64"
      ]
     },
     "execution_count": 22,
     "metadata": {},
     "output_type": "execute_result"
    }
   ],
   "source": [
    "df['report_date'] = [str(int(x.left)).zfill(2)+\"-\"+str(int(x.right)).zfill(2) for x in \n",
    "                     pd.cut(df['report_date'],bins=[0,7,30,60,1000,15e3],right=False)]\n",
    "df['report_date'].value_counts(1)"
   ]
  },
  {
   "cell_type": "code",
   "execution_count": 23,
   "id": "b1c26409",
   "metadata": {
    "ExecuteTime": {
     "end_time": "2021-05-15T21:30:51.608549Z",
     "start_time": "2021-05-15T21:30:51.500592Z"
    },
    "hidden": true
   },
   "outputs": [
    {
     "data": {
      "text/plain": [
       "07   0.1151\n",
       "08   0.1051\n",
       "06   0.0945\n",
       "09   0.0943\n",
       "10   0.0921\n",
       "11   0.0855\n",
       "01   0.0737\n",
       "12   0.0728\n",
       "04   0.0701\n",
       "03   0.0695\n",
       "05   0.0672\n",
       "02   0.0602\n",
       "Name: occurance, dtype: float64"
      ]
     },
     "execution_count": 23,
     "metadata": {},
     "output_type": "execute_result"
    }
   ],
   "source": [
    "df['occurance'] = df['occurance'].dt.month.astype(str).str.zfill(2)\n",
    "df['occurance'].value_counts(1)"
   ]
  },
  {
   "cell_type": "markdown",
   "id": "7bc32fe3",
   "metadata": {
    "heading_collapsed": true,
    "hidden": true
   },
   "source": [
    "### Location"
   ]
  },
  {
   "cell_type": "code",
   "execution_count": 24,
   "id": "b3a7d046",
   "metadata": {
    "ExecuteTime": {
     "end_time": "2021-05-15T21:30:51.989519Z",
     "start_time": "2021-05-15T21:30:51.610379Z"
    },
    "hidden": true
   },
   "outputs": [
    {
     "data": {
      "text/plain": [
       "<matplotlib.collections.PathCollection at 0x7fe569a2b610>"
      ]
     },
     "execution_count": 24,
     "metadata": {},
     "output_type": "execute_result"
    },
    {
     "data": {
      "image/png": "[encoded data removed]",
      "text/plain": [
       "<Figure size 432x288 with 1 Axes>"
      ]
     },
     "metadata": {
      "needs_background": "light"
     },
     "output_type": "display_data"
    }
   ],
   "source": [
    "import matplotlib.pyplot as plt\n",
    "\n",
    "df['lat'] = df['lat'].apply(lambda x:re.sub('[^\\d\\.]','',str(x))).astype(float)\n",
    "df = df[df['lat']!=0].copy()\n",
    "#df = outliers(df,['lat','long'],p=0.02)\n",
    "plt.scatter(df['lat'],df['long'])"
   ]
  },
  {
   "cell_type": "code",
   "execution_count": 25,
   "id": "139c2fe4",
   "metadata": {
    "ExecuteTime": {
     "end_time": "2021-05-15T21:30:52.236311Z",
     "start_time": "2021-05-15T21:30:51.991301Z"
    },
    "hidden": true
   },
   "outputs": [
    {
     "data": {
      "text/html": [
       "<style  type=\"text/css\" >\n",
       "#T_118ce_row0_col0,#T_118ce_row0_col3,#T_118ce_row2_col2,#T_118ce_row3_col1{\n",
       "            background-color:  #6699dd;\n",
       "            color:  #000000;\n",
       "        }#T_118ce_row0_col1{\n",
       "            background-color:  #49668d;\n",
       "            color:  #f1f1f1;\n",
       "        }#T_118ce_row0_col2,#T_118ce_row2_col1,#T_118ce_row3_col0,#T_118ce_row3_col3{\n",
       "            background-color:  #242629;\n",
       "            color:  #f1f1f1;\n",
       "        }#T_118ce_row1_col0{\n",
       "            background-color:  #4f719f;\n",
       "            color:  #000000;\n",
       "        }#T_118ce_row1_col1{\n",
       "            background-color:  #5479ac;\n",
       "            color:  #000000;\n",
       "        }#T_118ce_row1_col2{\n",
       "            background-color:  #323f50;\n",
       "            color:  #f1f1f1;\n",
       "        }#T_118ce_row1_col3{\n",
       "            background-color:  #5173a3;\n",
       "            color:  #000000;\n",
       "        }#T_118ce_row2_col0{\n",
       "            background-color:  #384961;\n",
       "            color:  #f1f1f1;\n",
       "        }#T_118ce_row2_col3{\n",
       "            background-color:  #6191d0;\n",
       "            color:  #000000;\n",
       "        }#T_118ce_row3_col2{\n",
       "            background-color:  #5378a9;\n",
       "            color:  #000000;\n",
       "        }</style><table id=\"T_118ce_\" ><thead>    <tr>        <th class=\"index_name level0\" >long_cut</th>        <th class=\"col_heading level0 col0\" >(-112.185 to  -87.884]</th>        <th class=\"col_heading level0 col1\" >(-176.659 to  -112.185]</th>        <th class=\"col_heading level0 col2\" >(-78.738 to  178.442]</th>        <th class=\"col_heading level0 col3\" >(-87.884 to  -78.738]</th>    </tr>    <tr>        <th class=\"index_name level0\" >lat_cut</th>        <th class=\"blank\" ></th>        <th class=\"blank\" ></th>        <th class=\"blank\" ></th>        <th class=\"blank\" ></th>    </tr></thead><tbody>\n",
       "                <tr>\n",
       "                        <th id=\"T_118ce_level0_row0\" class=\"row_heading level0 row0\" >(0.0226 to  34.174]</th>\n",
       "                        <td id=\"T_118ce_row0_col0\" class=\"data row0 col0\" >6603</td>\n",
       "                        <td id=\"T_118ce_row0_col1\" class=\"data row0 col1\" >4805</td>\n",
       "                        <td id=\"T_118ce_row0_col2\" class=\"data row0 col2\" >1779</td>\n",
       "                        <td id=\"T_118ce_row0_col3\" class=\"data row0 col3\" >6390</td>\n",
       "            </tr>\n",
       "            <tr>\n",
       "                        <th id=\"T_118ce_level0_row1\" class=\"row_heading level0 row1\" >(34.174 to  39.444]</th>\n",
       "                        <td id=\"T_118ce_row1_col0\" class=\"data row1 col0\" >5446</td>\n",
       "                        <td id=\"T_118ce_row1_col1\" class=\"data row1 col1\" >5950</td>\n",
       "                        <td id=\"T_118ce_row1_col2\" class=\"data row1 col2\" >3192</td>\n",
       "                        <td id=\"T_118ce_row1_col3\" class=\"data row1 col3\" >4991</td>\n",
       "            </tr>\n",
       "            <tr>\n",
       "                        <th id=\"T_118ce_level0_row2\" class=\"row_heading level0 row2\" >(39.444 to  42.865]</th>\n",
       "                        <td id=\"T_118ce_row2_col0\" class=\"data row2 col0\" >4280</td>\n",
       "                        <td id=\"T_118ce_row2_col1\" class=\"data row2 col1\" >971</td>\n",
       "                        <td id=\"T_118ce_row2_col2\" class=\"data row2 col2\" >8246</td>\n",
       "                        <td id=\"T_118ce_row2_col3\" class=\"data row2 col3\" >6082</td>\n",
       "            </tr>\n",
       "            <tr>\n",
       "                        <th id=\"T_118ce_level0_row3\" class=\"row_heading level0 row3\" >(42.865 to  82.863]</th>\n",
       "                        <td id=\"T_118ce_row3_col0\" class=\"data row3 col0\" >3240</td>\n",
       "                        <td id=\"T_118ce_row3_col1\" class=\"data row3 col1\" >7859</td>\n",
       "                        <td id=\"T_118ce_row3_col2\" class=\"data row3 col2\" >6357</td>\n",
       "                        <td id=\"T_118ce_row3_col3\" class=\"data row3 col3\" >2116</td>\n",
       "            </tr>\n",
       "    </tbody></table>"
      ],
      "text/plain": [
       "<pandas.io.formats.style.Styler at 0x7fe5686cd040>"
      ]
     },
     "execution_count": 25,
     "metadata": {},
     "output_type": "execute_result"
    }
   ],
   "source": [
    "'''!pip install seaborn'''\n",
    "import seaborn as sns\n",
    "color = sns.dark_palette(\"#69d\",as_cmap=True)\n",
    "\n",
    "for geo in ['lat','long']:\n",
    "    df[f'{geo}_cut'] = pd.qcut(df[f'{geo}'],q=4).astype(str).str.replace(',',' to ')\n",
    "    \n",
    "df.pivot_table(index='lat_cut',columns='long_cut',values='duration',aggfunc='count'\n",
    "              ).style.background_gradient(cmap=color).format('{:.0f}')"
   ]
  },
  {
   "cell_type": "markdown",
   "id": "81813f84",
   "metadata": {
    "heading_collapsed": true,
    "hidden": true
   },
   "source": [
    "### Description"
   ]
  },
  {
   "cell_type": "code",
   "execution_count": 26,
   "id": "559b878e",
   "metadata": {
    "ExecuteTime": {
     "end_time": "2021-05-15T21:33:36.131921Z",
     "start_time": "2021-05-15T21:30:52.238271Z"
    },
    "hidden": true
   },
   "outputs": [],
   "source": [
    "df['clean'] = df['description'].apply(lambda x: clean_text(x,lower=True))\n",
    "df['min_text'] = df['description'].apply(lambda x: clean_text(x,lower=True,lemma=True,\n",
    "                                                              rem_stopw=True,unique=True))\n",
    "df['length'] = df['clean'].apply(len)\n",
    "df['relevance'] = df['min_text'].apply(len) / (df['length']+1e-10)"
   ]
  },
  {
   "cell_type": "code",
   "execution_count": 27,
   "id": "16779d5d",
   "metadata": {
    "ExecuteTime": {
     "end_time": "2021-05-15T21:33:36.281411Z",
     "start_time": "2021-05-15T21:33:36.134265Z"
    },
    "hidden": true
   },
   "outputs": [
    {
     "data": {
      "text/plain": [
       "<AxesSubplot:>"
      ]
     },
     "execution_count": 27,
     "metadata": {},
     "output_type": "execute_result"
    },
    {
     "data": {
      "image/png": "[encoded data removed]",
      "text/plain": [
       "<Figure size 432x288 with 1 Axes>"
      ]
     },
     "metadata": {
      "needs_background": "light"
     },
     "output_type": "display_data"
    }
   ],
   "source": [
    "df['length'].hist()"
   ]
  },
  {
   "cell_type": "code",
   "execution_count": 28,
   "id": "fac03d1b",
   "metadata": {
    "ExecuteTime": {
     "end_time": "2021-05-15T21:33:36.409555Z",
     "start_time": "2021-05-15T21:33:36.283356Z"
    },
    "hidden": true
   },
   "outputs": [
    {
     "data": {
      "text/plain": [
       "<AxesSubplot:>"
      ]
     },
     "execution_count": 28,
     "metadata": {},
     "output_type": "execute_result"
    },
    {
     "data": {
      "image/png": "[encoded data removed]",
      "text/plain": [
       "<Figure size 432x288 with 1 Axes>"
      ]
     },
     "metadata": {
      "needs_background": "light"
     },
     "output_type": "display_data"
    }
   ],
   "source": [
    "df['relevance'].hist()"
   ]
  },
  {
   "cell_type": "code",
   "execution_count": 29,
   "id": "9c0e5aec",
   "metadata": {
    "ExecuteTime": {
     "end_time": "2021-05-15T21:42:55.104601Z",
     "start_time": "2021-05-15T21:33:36.411820Z"
    },
    "hidden": true
   },
   "outputs": [
    {
     "data": {
      "text/plain": [
       "<AxesSubplot:>"
      ]
     },
     "metadata": {},
     "output_type": "display_data"
    },
    {
     "data": {
      "text/plain": [
       "neu   0.5145\n",
       "pos   0.3218\n",
       "neg   0.1637\n",
       "Name: compound_cut, dtype: float64"
      ]
     },
     "execution_count": 29,
     "metadata": {},
     "output_type": "execute_result"
    },
    {
     "data": {
      "image/png": "[encoded data removed]",
      "text/plain": [
       "<Figure size 432x288 with 1 Axes>"
      ]
     },
     "metadata": {
      "needs_background": "light"
     },
     "output_type": "display_data"
    }
   ],
   "source": [
    "df = df.join(pd.DataFrame(list(map(sentiment,df['clean'])),index=df.index))\n",
    "display(df['compound'].hist())\n",
    "\n",
    "aux = []\n",
    "for x in df['compound']:\n",
    "    if x>0:aux.append('pos')\n",
    "    elif x<0:aux.append('neg')\n",
    "    else:aux.append('neu')\n",
    "\n",
    "df['compound_cut'] = aux\n",
    "df['compound_cut'].value_counts(1)"
   ]
  },
  {
   "cell_type": "code",
   "execution_count": 31,
   "id": "d490d341",
   "metadata": {
    "ExecuteTime": {
     "end_time": "2021-05-15T21:42:56.244861Z",
     "start_time": "2021-05-15T21:42:55.120700Z"
    },
    "hidden": true
   },
   "outputs": [],
   "source": [
    "#BACKUP because last cells runs in ~12min\n",
    "df.to_csv(os.path.join(BASE_DIR,'ufo_sentim.csv'),index=False)"
   ]
  },
  {
   "cell_type": "markdown",
   "id": "b36041dd",
   "metadata": {
    "heading_collapsed": true
   },
   "source": [
    "## TAD"
   ]
  },
  {
   "cell_type": "code",
   "execution_count": 32,
   "id": "3963c5eb",
   "metadata": {
    "ExecuteTime": {
     "end_time": "2021-05-15T21:42:56.316955Z",
     "start_time": "2021-05-15T21:42:56.246925Z"
    },
    "hidden": true
   },
   "outputs": [
    {
     "data": {
      "text/html": [
       "<div>\n",
       "<style scoped>\n",
       "    .dataframe tbody tr th:only-of-type {\n",
       "        vertical-align: middle;\n",
       "    }\n",
       "\n",
       "    .dataframe tbody tr th {\n",
       "        vertical-align: top;\n",
       "    }\n",
       "\n",
       "    .dataframe thead th {\n",
       "        text-align: right;\n",
       "    }\n",
       "</style>\n",
       "<table border=\"1\" class=\"dataframe\">\n",
       "  <thead>\n",
       "    <tr style=\"text-align: right;\">\n",
       "      <th></th>\n",
       "      <th></th>\n",
       "      <th></th>\n",
       "      <th>compound</th>\n",
       "      <th>compound_01</th>\n",
       "      <th>compound_02</th>\n",
       "      <th>compound_03</th>\n",
       "    </tr>\n",
       "    <tr>\n",
       "      <th>lat_cut</th>\n",
       "      <th>long_cut</th>\n",
       "      <th>year</th>\n",
       "      <th></th>\n",
       "      <th></th>\n",
       "      <th></th>\n",
       "      <th></th>\n",
       "    </tr>\n",
       "  </thead>\n",
       "  <tbody>\n",
       "    <tr>\n",
       "      <th rowspan=\"4\" valign=\"top\">(0.0226 to  34.174]</th>\n",
       "      <th rowspan=\"4\" valign=\"top\">(-112.185 to  -87.884]</th>\n",
       "      <th>1977</th>\n",
       "      <td>0.0000</td>\n",
       "      <td>NaN</td>\n",
       "      <td>NaN</td>\n",
       "      <td>NaN</td>\n",
       "    </tr>\n",
       "    <tr>\n",
       "      <th>1980</th>\n",
       "      <td>0.1752</td>\n",
       "      <td>0.0000</td>\n",
       "      <td>NaN</td>\n",
       "      <td>NaN</td>\n",
       "    </tr>\n",
       "    <tr>\n",
       "      <th>1984</th>\n",
       "      <td>0.0000</td>\n",
       "      <td>0.1752</td>\n",
       "      <td>0.0000</td>\n",
       "      <td>NaN</td>\n",
       "    </tr>\n",
       "    <tr>\n",
       "      <th>1992</th>\n",
       "      <td>-0.1132</td>\n",
       "      <td>0.0000</td>\n",
       "      <td>0.1752</td>\n",
       "      <td>0.0000</td>\n",
       "    </tr>\n",
       "    <tr>\n",
       "      <th rowspan=\"4\" valign=\"top\">(34.174 to  39.444]</th>\n",
       "      <th rowspan=\"4\" valign=\"top\">(-87.884 to  -78.738]</th>\n",
       "      <th>1977</th>\n",
       "      <td>0.0000</td>\n",
       "      <td>NaN</td>\n",
       "      <td>NaN</td>\n",
       "      <td>NaN</td>\n",
       "    </tr>\n",
       "    <tr>\n",
       "      <th>1989</th>\n",
       "      <td>0.0000</td>\n",
       "      <td>0.0000</td>\n",
       "      <td>NaN</td>\n",
       "      <td>NaN</td>\n",
       "    </tr>\n",
       "    <tr>\n",
       "      <th>1992</th>\n",
       "      <td>0.0000</td>\n",
       "      <td>0.0000</td>\n",
       "      <td>0.0000</td>\n",
       "      <td>NaN</td>\n",
       "    </tr>\n",
       "    <tr>\n",
       "      <th>1993</th>\n",
       "      <td>0.0000</td>\n",
       "      <td>0.0000</td>\n",
       "      <td>0.0000</td>\n",
       "      <td>0.0000</td>\n",
       "    </tr>\n",
       "    <tr>\n",
       "      <th rowspan=\"5\" valign=\"top\">(42.865 to  82.863]</th>\n",
       "      <th rowspan=\"5\" valign=\"top\">(-78.738 to  178.442]</th>\n",
       "      <th>1978</th>\n",
       "      <td>-0.2263</td>\n",
       "      <td>NaN</td>\n",
       "      <td>NaN</td>\n",
       "      <td>NaN</td>\n",
       "    </tr>\n",
       "    <tr>\n",
       "      <th>1979</th>\n",
       "      <td>0.0000</td>\n",
       "      <td>-0.2263</td>\n",
       "      <td>NaN</td>\n",
       "      <td>NaN</td>\n",
       "    </tr>\n",
       "    <tr>\n",
       "      <th>1984</th>\n",
       "      <td>0.0000</td>\n",
       "      <td>0.0000</td>\n",
       "      <td>-0.2263</td>\n",
       "      <td>NaN</td>\n",
       "    </tr>\n",
       "    <tr>\n",
       "      <th>1986</th>\n",
       "      <td>0.3182</td>\n",
       "      <td>0.0000</td>\n",
       "      <td>0.0000</td>\n",
       "      <td>-0.2263</td>\n",
       "    </tr>\n",
       "    <tr>\n",
       "      <th>1991</th>\n",
       "      <td>0.0000</td>\n",
       "      <td>0.3182</td>\n",
       "      <td>0.0000</td>\n",
       "      <td>0.0000</td>\n",
       "    </tr>\n",
       "    <tr>\n",
       "      <th rowspan=\"5\" valign=\"top\">(39.444 to  42.865]</th>\n",
       "      <th rowspan=\"5\" valign=\"top\">(-78.738 to  178.442]</th>\n",
       "      <th>1980</th>\n",
       "      <td>0.1695</td>\n",
       "      <td>NaN</td>\n",
       "      <td>NaN</td>\n",
       "      <td>NaN</td>\n",
       "    </tr>\n",
       "    <tr>\n",
       "      <th>1985</th>\n",
       "      <td>0.4445</td>\n",
       "      <td>0.1695</td>\n",
       "      <td>NaN</td>\n",
       "      <td>NaN</td>\n",
       "    </tr>\n",
       "    <tr>\n",
       "      <th>1988</th>\n",
       "      <td>-0.2960</td>\n",
       "      <td>0.4445</td>\n",
       "      <td>0.1695</td>\n",
       "      <td>NaN</td>\n",
       "    </tr>\n",
       "    <tr>\n",
       "      <th>1993</th>\n",
       "      <td>0.1045</td>\n",
       "      <td>-0.2960</td>\n",
       "      <td>0.4445</td>\n",
       "      <td>0.1695</td>\n",
       "    </tr>\n",
       "    <tr>\n",
       "      <th>1994</th>\n",
       "      <td>0.0000</td>\n",
       "      <td>0.1045</td>\n",
       "      <td>-0.2960</td>\n",
       "      <td>0.4445</td>\n",
       "    </tr>\n",
       "  </tbody>\n",
       "</table>\n",
       "</div>"
      ],
      "text/plain": [
       "                                                 compound  compound_01  \\\n",
       "lat_cut             long_cut               year                          \n",
       "(0.0226 to  34.174] (-112.185 to  -87.884] 1977    0.0000          NaN   \n",
       "                                           1980    0.1752       0.0000   \n",
       "                                           1984    0.0000       0.1752   \n",
       "                                           1992   -0.1132       0.0000   \n",
       "(34.174 to  39.444] (-87.884 to  -78.738]  1977    0.0000          NaN   \n",
       "                                           1989    0.0000       0.0000   \n",
       "                                           1992    0.0000       0.0000   \n",
       "                                           1993    0.0000       0.0000   \n",
       "(42.865 to  82.863] (-78.738 to  178.442]  1978   -0.2263          NaN   \n",
       "                                           1979    0.0000      -0.2263   \n",
       "                                           1984    0.0000       0.0000   \n",
       "                                           1986    0.3182       0.0000   \n",
       "                                           1991    0.0000       0.3182   \n",
       "(39.444 to  42.865] (-78.738 to  178.442]  1980    0.1695          NaN   \n",
       "                                           1985    0.4445       0.1695   \n",
       "                                           1988   -0.2960       0.4445   \n",
       "                                           1993    0.1045      -0.2960   \n",
       "                                           1994    0.0000       0.1045   \n",
       "\n",
       "                                                 compound_02  compound_03  \n",
       "lat_cut             long_cut               year                            \n",
       "(0.0226 to  34.174] (-112.185 to  -87.884] 1977          NaN          NaN  \n",
       "                                           1980          NaN          NaN  \n",
       "                                           1984       0.0000          NaN  \n",
       "                                           1992       0.1752       0.0000  \n",
       "(34.174 to  39.444] (-87.884 to  -78.738]  1977          NaN          NaN  \n",
       "                                           1989          NaN          NaN  \n",
       "                                           1992       0.0000          NaN  \n",
       "                                           1993       0.0000       0.0000  \n",
       "(42.865 to  82.863] (-78.738 to  178.442]  1978          NaN          NaN  \n",
       "                                           1979          NaN          NaN  \n",
       "                                           1984      -0.2263          NaN  \n",
       "                                           1986       0.0000      -0.2263  \n",
       "                                           1991       0.0000       0.0000  \n",
       "(39.444 to  42.865] (-78.738 to  178.442]  1980          NaN          NaN  \n",
       "                                           1985          NaN          NaN  \n",
       "                                           1988       0.1695          NaN  \n",
       "                                           1993       0.4445       0.1695  \n",
       "                                           1994      -0.2960       0.4445  "
      ]
     },
     "execution_count": 32,
     "metadata": {},
     "output_type": "execute_result"
    }
   ],
   "source": [
    "multishift(df.head(33),\n",
    "           id_cols=['lat_cut','long_cut'],\n",
    "           date_cols=['year'],\n",
    "           shifts=range(1,4),\n",
    "           values='compound',\n",
    "           aggfunc='mean')"
   ]
  },
  {
   "cell_type": "code",
   "execution_count": 33,
   "id": "242f9e43",
   "metadata": {
    "ExecuteTime": {
     "end_time": "2021-05-15T21:43:12.355107Z",
     "start_time": "2021-05-15T21:42:56.318749Z"
    },
    "hidden": true
   },
   "outputs": [
    {
     "data": {
      "text/html": [
       "<div>\n",
       "<style scoped>\n",
       "    .dataframe tbody tr th:only-of-type {\n",
       "        vertical-align: middle;\n",
       "    }\n",
       "\n",
       "    .dataframe tbody tr th {\n",
       "        vertical-align: top;\n",
       "    }\n",
       "\n",
       "    .dataframe thead th {\n",
       "        text-align: right;\n",
       "    }\n",
       "</style>\n",
       "<table border=\"1\" class=\"dataframe\">\n",
       "  <thead>\n",
       "    <tr style=\"text-align: right;\">\n",
       "      <th></th>\n",
       "      <th></th>\n",
       "      <th></th>\n",
       "      <th>compound_max</th>\n",
       "      <th>compound_mean</th>\n",
       "      <th>compound_min</th>\n",
       "      <th>length_max</th>\n",
       "      <th>length_mean</th>\n",
       "      <th>length_median</th>\n",
       "      <th>occurance_count</th>\n",
       "      <th>report_date_mode</th>\n",
       "      <th>compound_max_01</th>\n",
       "      <th>compound_mean_01</th>\n",
       "      <th>...</th>\n",
       "      <th>occurance_count_09</th>\n",
       "      <th>report_date_mode_09</th>\n",
       "      <th>compound_max_10</th>\n",
       "      <th>compound_mean_10</th>\n",
       "      <th>compound_min_10</th>\n",
       "      <th>length_max_10</th>\n",
       "      <th>length_mean_10</th>\n",
       "      <th>length_median_10</th>\n",
       "      <th>occurance_count_10</th>\n",
       "      <th>report_date_mode_10</th>\n",
       "    </tr>\n",
       "    <tr>\n",
       "      <th>lat_cut</th>\n",
       "      <th>long_cut</th>\n",
       "      <th>year</th>\n",
       "      <th></th>\n",
       "      <th></th>\n",
       "      <th></th>\n",
       "      <th></th>\n",
       "      <th></th>\n",
       "      <th></th>\n",
       "      <th></th>\n",
       "      <th></th>\n",
       "      <th></th>\n",
       "      <th></th>\n",
       "      <th></th>\n",
       "      <th></th>\n",
       "      <th></th>\n",
       "      <th></th>\n",
       "      <th></th>\n",
       "      <th></th>\n",
       "      <th></th>\n",
       "      <th></th>\n",
       "      <th></th>\n",
       "      <th></th>\n",
       "      <th></th>\n",
       "    </tr>\n",
       "  </thead>\n",
       "  <tbody>\n",
       "    <tr>\n",
       "      <th>(0.0226 to  34.174]</th>\n",
       "      <th>(-78.738 to  178.442]</th>\n",
       "      <th>2013</th>\n",
       "      <td>0.7096</td>\n",
       "      <td>0.0754</td>\n",
       "      <td>-0.7208</td>\n",
       "      <td>135</td>\n",
       "      <td>73.1940</td>\n",
       "      <td>68.5000</td>\n",
       "      <td>134</td>\n",
       "      <td>07-30</td>\n",
       "      <td>0.8481</td>\n",
       "      <td>0.1037</td>\n",
       "      <td>...</td>\n",
       "      <td>108.0000</td>\n",
       "      <td>07-30</td>\n",
       "      <td>0.8481</td>\n",
       "      <td>0.1104</td>\n",
       "      <td>-0.7783</td>\n",
       "      <td>135.0000</td>\n",
       "      <td>73.6471</td>\n",
       "      <td>69.0000</td>\n",
       "      <td>136.0000</td>\n",
       "      <td>07-30</td>\n",
       "    </tr>\n",
       "  </tbody>\n",
       "</table>\n",
       "<p>1 rows × 88 columns</p>\n",
       "</div>"
      ],
      "text/plain": [
       "                                                compound_max  compound_mean  \\\n",
       "lat_cut             long_cut              year                                \n",
       "(0.0226 to  34.174] (-78.738 to  178.442] 2013        0.7096         0.0754   \n",
       "\n",
       "                                                compound_min  length_max  \\\n",
       "lat_cut             long_cut              year                             \n",
       "(0.0226 to  34.174] (-78.738 to  178.442] 2013       -0.7208         135   \n",
       "\n",
       "                                                length_mean  length_median  \\\n",
       "lat_cut             long_cut              year                               \n",
       "(0.0226 to  34.174] (-78.738 to  178.442] 2013      73.1940        68.5000   \n",
       "\n",
       "                                                occurance_count  \\\n",
       "lat_cut             long_cut              year                    \n",
       "(0.0226 to  34.174] (-78.738 to  178.442] 2013              134   \n",
       "\n",
       "                                               report_date_mode  \\\n",
       "lat_cut             long_cut              year                    \n",
       "(0.0226 to  34.174] (-78.738 to  178.442] 2013            07-30   \n",
       "\n",
       "                                                compound_max_01  \\\n",
       "lat_cut             long_cut              year                    \n",
       "(0.0226 to  34.174] (-78.738 to  178.442] 2013           0.8481   \n",
       "\n",
       "                                                compound_mean_01  ...  \\\n",
       "lat_cut             long_cut              year                    ...   \n",
       "(0.0226 to  34.174] (-78.738 to  178.442] 2013            0.1037  ...   \n",
       "\n",
       "                                                occurance_count_09  \\\n",
       "lat_cut             long_cut              year                       \n",
       "(0.0226 to  34.174] (-78.738 to  178.442] 2013            108.0000   \n",
       "\n",
       "                                                report_date_mode_09  \\\n",
       "lat_cut             long_cut              year                        \n",
       "(0.0226 to  34.174] (-78.738 to  178.442] 2013                07-30   \n",
       "\n",
       "                                                compound_max_10  \\\n",
       "lat_cut             long_cut              year                    \n",
       "(0.0226 to  34.174] (-78.738 to  178.442] 2013           0.8481   \n",
       "\n",
       "                                                compound_mean_10  \\\n",
       "lat_cut             long_cut              year                     \n",
       "(0.0226 to  34.174] (-78.738 to  178.442] 2013            0.1104   \n",
       "\n",
       "                                                compound_min_10 length_max_10  \\\n",
       "lat_cut             long_cut              year                                  \n",
       "(0.0226 to  34.174] (-78.738 to  178.442] 2013          -0.7783      135.0000   \n",
       "\n",
       "                                                length_mean_10  \\\n",
       "lat_cut             long_cut              year                   \n",
       "(0.0226 to  34.174] (-78.738 to  178.442] 2013         73.6471   \n",
       "\n",
       "                                                length_median_10  \\\n",
       "lat_cut             long_cut              year                     \n",
       "(0.0226 to  34.174] (-78.738 to  178.442] 2013           69.0000   \n",
       "\n",
       "                                                occurance_count_10  \\\n",
       "lat_cut             long_cut              year                       \n",
       "(0.0226 to  34.174] (-78.738 to  178.442] 2013            136.0000   \n",
       "\n",
       "                                                report_date_mode_10  \n",
       "lat_cut             long_cut              year                       \n",
       "(0.0226 to  34.174] (-78.738 to  178.442] 2013                07-30  \n",
       "\n",
       "[1 rows x 88 columns]"
      ]
     },
     "execution_count": 33,
     "metadata": {},
     "output_type": "execute_result"
    }
   ],
   "source": [
    "from statistics import mode\n",
    "\n",
    "df = pd.read_csv(os.path.join(BASE_DIR,'ufo_sentim.csv')).dropna()\n",
    "df = multishift(df,id_cols=['lat_cut','long_cut'],\n",
    "                date_cols=['year'],\n",
    "                shifts=range(1,11),\n",
    "                aggfunc={'report_date':mode,\n",
    "                         'occurance':'count',\n",
    "                         'compound':['mean','min','max'],\n",
    "                         'length':['mean','median','max'],\n",
    "                        }).dropna()\n",
    "df.sample()"
   ]
  },
  {
   "cell_type": "code",
   "execution_count": 34,
   "id": "0fc4ffcf",
   "metadata": {
    "ExecuteTime": {
     "end_time": "2021-05-15T21:43:12.366472Z",
     "start_time": "2021-05-15T21:43:12.358441Z"
    },
    "hidden": true
   },
   "outputs": [
    {
     "data": {
      "text/plain": [
       "07-30        0.4219\n",
       "1000-15000   0.3884\n",
       "60-1000      0.0982\n",
       "00-07        0.0580\n",
       "30-60        0.0335\n",
       "Name: report_date_mode, dtype: float64"
      ]
     },
     "execution_count": 34,
     "metadata": {},
     "output_type": "execute_result"
    }
   ],
   "source": [
    "df['report_date_mode'].value_counts(1)"
   ]
  },
  {
   "cell_type": "code",
   "execution_count": 35,
   "id": "f7b1ae14",
   "metadata": {
    "ExecuteTime": {
     "end_time": "2021-05-15T21:43:12.388954Z",
     "start_time": "2021-05-15T21:43:12.368809Z"
    },
    "hidden": true
   },
   "outputs": [
    {
     "data": {
      "text/plain": [
       "0   0.5201\n",
       "1   0.4799\n",
       "Name: report_date_mode, dtype: float64"
      ]
     },
     "execution_count": 35,
     "metadata": {},
     "output_type": "execute_result"
    }
   ],
   "source": [
    "for col in df.head().filter(like='report_date_mode').columns:\n",
    "    df[col] = [1 if x in ['00-07','07-30'] else 0 for x in df[col]]\n",
    "df['report_date_mode'].value_counts(1)"
   ]
  },
  {
   "cell_type": "code",
   "execution_count": 36,
   "id": "2f81df1e",
   "metadata": {
    "ExecuteTime": {
     "end_time": "2021-05-15T21:43:12.405918Z",
     "start_time": "2021-05-15T21:43:12.392162Z"
    },
    "hidden": true
   },
   "outputs": [
    {
     "name": "stdout",
     "output_type": "stream",
     "text": [
      "['compound_max', 'compound_mean', 'compound_min', 'length_max', 'length_mean', 'length_median', 'occurance_count', 'report_date_mode']\n"
     ]
    }
   ],
   "source": [
    "#Save the columns with the previous dates info\n",
    "prev = df.head().filter(regex='_\\d+').columns.tolist()\n",
    "actual = [x for x in df.columns if x not in prev]\n",
    "print(actual)"
   ]
  },
  {
   "cell_type": "markdown",
   "id": "ee6b1d94",
   "metadata": {
    "heading_collapsed": true
   },
   "source": [
    "## Model"
   ]
  },
  {
   "cell_type": "markdown",
   "id": "f6010a15",
   "metadata": {
    "heading_collapsed": true,
    "hidden": true
   },
   "source": [
    "### Discrete"
   ]
  },
  {
   "cell_type": "code",
   "execution_count": 37,
   "id": "afd87d9c",
   "metadata": {
    "ExecuteTime": {
     "end_time": "2021-05-15T21:43:12.420925Z",
     "start_time": "2021-05-15T21:43:12.409543Z"
    },
    "hidden": true
   },
   "outputs": [],
   "source": [
    "from sklearn.preprocessing import MinMaxScaler\n",
    "from sklearn.model_selection import train_test_split\n",
    "\n",
    "X = df[prev].copy()\n",
    "y = df['report_date_mode'].values\n",
    "\n",
    "X_train, X_test, y_train, y_test = train_test_split(X,y,\n",
    "                                                    train_size=0.77,\n",
    "                                                    random_state=22)\n",
    "mm_x = MinMaxScaler()"
   ]
  },
  {
   "cell_type": "code",
   "execution_count": 38,
   "id": "3a1f89e1",
   "metadata": {
    "ExecuteTime": {
     "end_time": "2021-05-15T21:43:12.508231Z",
     "start_time": "2021-05-15T21:43:12.422863Z"
    },
    "hidden": true
   },
   "outputs": [
    {
     "name": "stdout",
     "output_type": "stream",
     "text": [
      "Accuracy score:  94.23%\n",
      "ROC score:  94.30%\n",
      "Training accuracy:  93.31%\n"
     ]
    },
    {
     "data": {
      "text/html": [
       "<div>\n",
       "<style scoped>\n",
       "    .dataframe tbody tr th:only-of-type {\n",
       "        vertical-align: middle;\n",
       "    }\n",
       "\n",
       "    .dataframe tbody tr th {\n",
       "        vertical-align: top;\n",
       "    }\n",
       "\n",
       "    .dataframe thead th {\n",
       "        text-align: right;\n",
       "    }\n",
       "</style>\n",
       "<table border=\"1\" class=\"dataframe\">\n",
       "  <thead>\n",
       "    <tr style=\"text-align: right;\">\n",
       "      <th></th>\n",
       "      <th>variable</th>\n",
       "      <th>coef</th>\n",
       "    </tr>\n",
       "  </thead>\n",
       "  <tbody>\n",
       "    <tr>\n",
       "      <th>0</th>\n",
       "      <td>length_median_04</td>\n",
       "      <td>1.6919</td>\n",
       "    </tr>\n",
       "    <tr>\n",
       "      <th>1</th>\n",
       "      <td>length_median_05</td>\n",
       "      <td>1.5779</td>\n",
       "    </tr>\n",
       "    <tr>\n",
       "      <th>2</th>\n",
       "      <td>report_date_mode_08</td>\n",
       "      <td>1.5406</td>\n",
       "    </tr>\n",
       "    <tr>\n",
       "      <th>3</th>\n",
       "      <td>compound_max_04</td>\n",
       "      <td>1.3273</td>\n",
       "    </tr>\n",
       "    <tr>\n",
       "      <th>4</th>\n",
       "      <td>report_date_mode_09</td>\n",
       "      <td>1.2639</td>\n",
       "    </tr>\n",
       "    <tr>\n",
       "      <th>75</th>\n",
       "      <td>report_date_mode_07</td>\n",
       "      <td>-0.6925</td>\n",
       "    </tr>\n",
       "    <tr>\n",
       "      <th>76</th>\n",
       "      <td>compound_min_02</td>\n",
       "      <td>-0.7573</td>\n",
       "    </tr>\n",
       "    <tr>\n",
       "      <th>77</th>\n",
       "      <td>compound_min_09</td>\n",
       "      <td>-0.8460</td>\n",
       "    </tr>\n",
       "    <tr>\n",
       "      <th>78</th>\n",
       "      <td>compound_min_06</td>\n",
       "      <td>-0.9845</td>\n",
       "    </tr>\n",
       "    <tr>\n",
       "      <th>79</th>\n",
       "      <td>compound_min_04</td>\n",
       "      <td>-1.1699</td>\n",
       "    </tr>\n",
       "  </tbody>\n",
       "</table>\n",
       "</div>"
      ],
      "text/plain": [
       "               variable    coef\n",
       "0      length_median_04  1.6919\n",
       "1      length_median_05  1.5779\n",
       "2   report_date_mode_08  1.5406\n",
       "3       compound_max_04  1.3273\n",
       "4   report_date_mode_09  1.2639\n",
       "75  report_date_mode_07 -0.6925\n",
       "76      compound_min_02 -0.7573\n",
       "77      compound_min_09 -0.8460\n",
       "78      compound_min_06 -0.9845\n",
       "79      compound_min_04 -1.1699"
      ]
     },
     "execution_count": 38,
     "metadata": {},
     "output_type": "execute_result"
    }
   ],
   "source": [
    "from sklearn.pipeline import Pipeline\n",
    "from sklearn.metrics import roc_auc_score\n",
    "from sklearn.linear_model import LogisticRegression\n",
    "\n",
    "logreg = LogisticRegression()\n",
    "\n",
    "model_logreg = Pipeline(steps=[('scaler', mm_x),\n",
    "                               ('model',logreg)])\n",
    "\n",
    "print('Accuracy score: ','{:.2%}'.format(model_logreg.fit(X_train,y_train).score(X_test,y_test)))\n",
    "print('ROC score: ','{:.2%}'.format(roc_auc_score(y_test,model_logreg.predict(X_test))))\n",
    "print('Training accuracy: ','{:.2%}'.format(model_logreg.score(X_train,y_train)))\n",
    "\n",
    "#The most relevant features of the Logistic Regression\n",
    "coef = pd.DataFrame(zip(X.columns,model_logreg[1].coef_[0]),columns=['variable','coef']\n",
    "                   ).sort_values('coef',0,0).reset_index(drop=True)\n",
    "coef.head().append(coef.tail())"
   ]
  },
  {
   "cell_type": "code",
   "execution_count": 39,
   "id": "ec077fb4",
   "metadata": {
    "ExecuteTime": {
     "end_time": "2021-05-15T21:43:12.535812Z",
     "start_time": "2021-05-15T21:43:12.511112Z"
    },
    "hidden": true
   },
   "outputs": [
    {
     "data": {
      "text/html": [
       "<style  type=\"text/css\" >\n",
       "#T_40809_row0_col0,#T_40809_row1_col1{\n",
       "            background-color:  #6699dd;\n",
       "            color:  #000000;\n",
       "        }#T_40809_row0_col1,#T_40809_row1_col0{\n",
       "            background-color:  #242629;\n",
       "            color:  #f1f1f1;\n",
       "        }</style><table id=\"T_40809_\" ><thead>    <tr>        <th class=\"blank level0\" ></th>        <th class=\"col_heading level0 col0\" >0</th>        <th class=\"col_heading level0 col1\" >1</th>    </tr></thead><tbody>\n",
       "                <tr>\n",
       "                        <th id=\"T_40809_level0_row0\" class=\"row_heading level0 row0\" >0</th>\n",
       "                        <td id=\"T_40809_row0_col0\" class=\"data row0 col0\" >48.1%</td>\n",
       "                        <td id=\"T_40809_row0_col1\" class=\"data row0 col1\" >3.8%</td>\n",
       "            </tr>\n",
       "            <tr>\n",
       "                        <th id=\"T_40809_level0_row1\" class=\"row_heading level0 row1\" >1</th>\n",
       "                        <td id=\"T_40809_row1_col0\" class=\"data row1 col0\" >1.9%</td>\n",
       "                        <td id=\"T_40809_row1_col1\" class=\"data row1 col1\" >46.2%</td>\n",
       "            </tr>\n",
       "    </tbody></table>"
      ],
      "text/plain": [
       "<pandas.io.formats.style.Styler at 0x7fe568812a60>"
      ]
     },
     "execution_count": 39,
     "metadata": {},
     "output_type": "execute_result"
    }
   ],
   "source": [
    "cm(model_logreg,X_test,y_test,color)"
   ]
  },
  {
   "cell_type": "code",
   "execution_count": 40,
   "id": "471944cc",
   "metadata": {
    "ExecuteTime": {
     "end_time": "2021-05-15T21:43:12.570575Z",
     "start_time": "2021-05-15T21:43:12.538421Z"
    },
    "hidden": true
   },
   "outputs": [],
   "source": [
    "import pickle\n",
    "\n",
    "#Save the model\n",
    "with open(os.path.join(BASE_DIR,'ufo_discrete_model.pkl'), 'wb') as f:\n",
    "    pickle.dump(model_logreg,f)\n",
    "    \n",
    "#Save TAD\n",
    "X_test.join(pd.DataFrame(y_test,index=X_test.index,columns=['real'])\n",
    "           ).join(pd.DataFrame([x[1] for x in model_logreg.predict_proba(X_test)],\n",
    "                               index=X_test.index,columns=['est_proba'])\n",
    "                 ).to_csv(os.path.join(BASE_DIR,'tad_discrete.csv'),index=False)"
   ]
  },
  {
   "cell_type": "markdown",
   "id": "8d5c4de5",
   "metadata": {
    "heading_collapsed": true,
    "hidden": true
   },
   "source": [
    "### Continous"
   ]
  },
  {
   "cell_type": "code",
   "execution_count": 42,
   "id": "ad69ad9a",
   "metadata": {
    "ExecuteTime": {
     "end_time": "2021-05-15T21:43:32.330348Z",
     "start_time": "2021-05-15T21:43:12.580461Z"
    },
    "hidden": true
   },
   "outputs": [
    {
     "data": {
      "text/html": [
       "<div>\n",
       "<style scoped>\n",
       "    .dataframe tbody tr th:only-of-type {\n",
       "        vertical-align: middle;\n",
       "    }\n",
       "\n",
       "    .dataframe tbody tr th {\n",
       "        vertical-align: top;\n",
       "    }\n",
       "\n",
       "    .dataframe thead th {\n",
       "        text-align: right;\n",
       "    }\n",
       "</style>\n",
       "<table border=\"1\" class=\"dataframe\">\n",
       "  <thead>\n",
       "    <tr style=\"text-align: right;\">\n",
       "      <th></th>\n",
       "      <th></th>\n",
       "      <th></th>\n",
       "      <th>occurance_count</th>\n",
       "      <th>relevance_mean</th>\n",
       "      <th>relevance_median</th>\n",
       "      <th>relevance_perc15</th>\n",
       "      <th>relevance_perc25</th>\n",
       "      <th>relevance_perc70</th>\n",
       "      <th>occurance_count_01</th>\n",
       "      <th>relevance_mean_01</th>\n",
       "      <th>relevance_median_01</th>\n",
       "      <th>relevance_perc15_01</th>\n",
       "      <th>...</th>\n",
       "      <th>relevance_median_09</th>\n",
       "      <th>relevance_perc15_09</th>\n",
       "      <th>relevance_perc25_09</th>\n",
       "      <th>relevance_perc70_09</th>\n",
       "      <th>occurance_count_10</th>\n",
       "      <th>relevance_mean_10</th>\n",
       "      <th>relevance_median_10</th>\n",
       "      <th>relevance_perc15_10</th>\n",
       "      <th>relevance_perc25_10</th>\n",
       "      <th>relevance_perc70_10</th>\n",
       "    </tr>\n",
       "    <tr>\n",
       "      <th>lat_cut</th>\n",
       "      <th>long_cut</th>\n",
       "      <th>year</th>\n",
       "      <th></th>\n",
       "      <th></th>\n",
       "      <th></th>\n",
       "      <th></th>\n",
       "      <th></th>\n",
       "      <th></th>\n",
       "      <th></th>\n",
       "      <th></th>\n",
       "      <th></th>\n",
       "      <th></th>\n",
       "      <th></th>\n",
       "      <th></th>\n",
       "      <th></th>\n",
       "      <th></th>\n",
       "      <th></th>\n",
       "      <th></th>\n",
       "      <th></th>\n",
       "      <th></th>\n",
       "      <th></th>\n",
       "      <th></th>\n",
       "      <th></th>\n",
       "    </tr>\n",
       "  </thead>\n",
       "  <tbody>\n",
       "    <tr>\n",
       "      <th>(0.0226 to  34.174]</th>\n",
       "      <th>(-176.659 to  -112.185]</th>\n",
       "      <th>1998</th>\n",
       "      <td>93</td>\n",
       "      <td>0.6701</td>\n",
       "      <td>0.6641</td>\n",
       "      <td>0.5367</td>\n",
       "      <td>0.5833</td>\n",
       "      <td>0.7366</td>\n",
       "      <td>79.0000</td>\n",
       "      <td>0.6654</td>\n",
       "      <td>0.6491</td>\n",
       "      <td>0.5384</td>\n",
       "      <td>...</td>\n",
       "      <td>0.6763</td>\n",
       "      <td>0.5510</td>\n",
       "      <td>0.6112</td>\n",
       "      <td>0.7536</td>\n",
       "      <td>14.0000</td>\n",
       "      <td>0.6808</td>\n",
       "      <td>0.7032</td>\n",
       "      <td>0.5063</td>\n",
       "      <td>0.5445</td>\n",
       "      <td>0.7767</td>\n",
       "    </tr>\n",
       "  </tbody>\n",
       "</table>\n",
       "<p>1 rows × 66 columns</p>\n",
       "</div>"
      ],
      "text/plain": [
       "                                                  occurance_count  \\\n",
       "lat_cut             long_cut                year                    \n",
       "(0.0226 to  34.174] (-176.659 to  -112.185] 1998               93   \n",
       "\n",
       "                                                  relevance_mean  \\\n",
       "lat_cut             long_cut                year                   \n",
       "(0.0226 to  34.174] (-176.659 to  -112.185] 1998          0.6701   \n",
       "\n",
       "                                                  relevance_median  \\\n",
       "lat_cut             long_cut                year                     \n",
       "(0.0226 to  34.174] (-176.659 to  -112.185] 1998            0.6641   \n",
       "\n",
       "                                                  relevance_perc15  \\\n",
       "lat_cut             long_cut                year                     \n",
       "(0.0226 to  34.174] (-176.659 to  -112.185] 1998            0.5367   \n",
       "\n",
       "                                                  relevance_perc25  \\\n",
       "lat_cut             long_cut                year                     \n",
       "(0.0226 to  34.174] (-176.659 to  -112.185] 1998            0.5833   \n",
       "\n",
       "                                                  relevance_perc70  \\\n",
       "lat_cut             long_cut                year                     \n",
       "(0.0226 to  34.174] (-176.659 to  -112.185] 1998            0.7366   \n",
       "\n",
       "                                                  occurance_count_01  \\\n",
       "lat_cut             long_cut                year                       \n",
       "(0.0226 to  34.174] (-176.659 to  -112.185] 1998             79.0000   \n",
       "\n",
       "                                                  relevance_mean_01  \\\n",
       "lat_cut             long_cut                year                      \n",
       "(0.0226 to  34.174] (-176.659 to  -112.185] 1998             0.6654   \n",
       "\n",
       "                                                  relevance_median_01  \\\n",
       "lat_cut             long_cut                year                        \n",
       "(0.0226 to  34.174] (-176.659 to  -112.185] 1998               0.6491   \n",
       "\n",
       "                                                  relevance_perc15_01  ...  \\\n",
       "lat_cut             long_cut                year                       ...   \n",
       "(0.0226 to  34.174] (-176.659 to  -112.185] 1998               0.5384  ...   \n",
       "\n",
       "                                                  relevance_median_09  \\\n",
       "lat_cut             long_cut                year                        \n",
       "(0.0226 to  34.174] (-176.659 to  -112.185] 1998               0.6763   \n",
       "\n",
       "                                                  relevance_perc15_09  \\\n",
       "lat_cut             long_cut                year                        \n",
       "(0.0226 to  34.174] (-176.659 to  -112.185] 1998               0.5510   \n",
       "\n",
       "                                                  relevance_perc25_09  \\\n",
       "lat_cut             long_cut                year                        \n",
       "(0.0226 to  34.174] (-176.659 to  -112.185] 1998               0.6112   \n",
       "\n",
       "                                                  relevance_perc70_09  \\\n",
       "lat_cut             long_cut                year                        \n",
       "(0.0226 to  34.174] (-176.659 to  -112.185] 1998               0.7536   \n",
       "\n",
       "                                                  occurance_count_10  \\\n",
       "lat_cut             long_cut                year                       \n",
       "(0.0226 to  34.174] (-176.659 to  -112.185] 1998             14.0000   \n",
       "\n",
       "                                                  relevance_mean_10  \\\n",
       "lat_cut             long_cut                year                      \n",
       "(0.0226 to  34.174] (-176.659 to  -112.185] 1998             0.6808   \n",
       "\n",
       "                                                  relevance_median_10  \\\n",
       "lat_cut             long_cut                year                        \n",
       "(0.0226 to  34.174] (-176.659 to  -112.185] 1998               0.7032   \n",
       "\n",
       "                                                  relevance_perc15_10  \\\n",
       "lat_cut             long_cut                year                        \n",
       "(0.0226 to  34.174] (-176.659 to  -112.185] 1998               0.5063   \n",
       "\n",
       "                                                  relevance_perc25_10  \\\n",
       "lat_cut             long_cut                year                        \n",
       "(0.0226 to  34.174] (-176.659 to  -112.185] 1998               0.5445   \n",
       "\n",
       "                                                  relevance_perc70_10  \n",
       "lat_cut             long_cut                year                       \n",
       "(0.0226 to  34.174] (-176.659 to  -112.185] 1998               0.7767  \n",
       "\n",
       "[1 rows x 66 columns]"
      ]
     },
     "execution_count": 42,
     "metadata": {},
     "output_type": "execute_result"
    }
   ],
   "source": [
    "df = pd.read_csv(os.path.join(BASE_DIR,'ufo_sentim.csv')).dropna()\n",
    "df = multishift(df,id_cols=['lat_cut','long_cut'],\n",
    "                date_cols=['year'],\n",
    "                shifts=range(1,11),\n",
    "                aggfunc={'occurance':'count',\n",
    "                         'relevance':['mean',perc15,perc25,'median',perc70]\n",
    "                        }).dropna()\n",
    "df.sample()"
   ]
  },
  {
   "cell_type": "code",
   "execution_count": 43,
   "id": "f140094e",
   "metadata": {
    "ExecuteTime": {
     "end_time": "2021-05-15T21:43:32.338093Z",
     "start_time": "2021-05-15T21:43:32.332572Z"
    },
    "hidden": true
   },
   "outputs": [
    {
     "name": "stdout",
     "output_type": "stream",
     "text": [
      "['occurance_count', 'relevance_mean', 'relevance_median', 'relevance_perc15', 'relevance_perc25', 'relevance_perc70']\n"
     ]
    }
   ],
   "source": [
    "#Save the columns with the previous dates info\n",
    "prev = df.head().filter(regex='_\\d+').columns.tolist()\n",
    "actual = [x for x in df.columns if x not in prev]\n",
    "print(actual)"
   ]
  },
  {
   "cell_type": "code",
   "execution_count": 44,
   "id": "8b4e0d65",
   "metadata": {
    "ExecuteTime": {
     "end_time": "2021-05-15T21:43:32.350342Z",
     "start_time": "2021-05-15T21:43:32.341505Z"
    },
    "hidden": true
   },
   "outputs": [],
   "source": [
    "from sklearn.preprocessing import MinMaxScaler\n",
    "from sklearn.model_selection import train_test_split\n",
    "\n",
    "X = df[prev].copy()\n",
    "y = df['occurance_count'].values\n",
    "\n",
    "X_train, X_test, y_train, y_test = train_test_split(X,y,\n",
    "                                                    train_size=0.6,\n",
    "                                                    random_state=22)\n",
    "mm_x = MinMaxScaler()"
   ]
  },
  {
   "cell_type": "code",
   "execution_count": 45,
   "id": "1436421b",
   "metadata": {
    "ExecuteTime": {
     "end_time": "2021-05-15T21:43:32.743365Z",
     "start_time": "2021-05-15T21:43:32.352548Z"
    },
    "hidden": true
   },
   "outputs": [
    {
     "name": "stdout",
     "output_type": "stream",
     "text": [
      "R2 score:  80.00%\n",
      "Training R2:  97.28%\n"
     ]
    },
    {
     "data": {
      "text/html": [
       "<div>\n",
       "<style scoped>\n",
       "    .dataframe tbody tr th:only-of-type {\n",
       "        vertical-align: middle;\n",
       "    }\n",
       "\n",
       "    .dataframe tbody tr th {\n",
       "        vertical-align: top;\n",
       "    }\n",
       "\n",
       "    .dataframe thead th {\n",
       "        text-align: right;\n",
       "    }\n",
       "</style>\n",
       "<table border=\"1\" class=\"dataframe\">\n",
       "  <thead>\n",
       "    <tr style=\"text-align: right;\">\n",
       "      <th></th>\n",
       "      <th>0</th>\n",
       "      <th>1</th>\n",
       "    </tr>\n",
       "  </thead>\n",
       "  <tbody>\n",
       "    <tr>\n",
       "      <th>0</th>\n",
       "      <td>occurance_count_01</td>\n",
       "      <td>0.5357</td>\n",
       "    </tr>\n",
       "    <tr>\n",
       "      <th>1</th>\n",
       "      <td>occurance_count_03</td>\n",
       "      <td>0.1394</td>\n",
       "    </tr>\n",
       "    <tr>\n",
       "      <th>2</th>\n",
       "      <td>occurance_count_04</td>\n",
       "      <td>0.1067</td>\n",
       "    </tr>\n",
       "    <tr>\n",
       "      <th>3</th>\n",
       "      <td>occurance_count_02</td>\n",
       "      <td>0.0527</td>\n",
       "    </tr>\n",
       "    <tr>\n",
       "      <th>4</th>\n",
       "      <td>occurance_count_08</td>\n",
       "      <td>0.0166</td>\n",
       "    </tr>\n",
       "    <tr>\n",
       "      <th>5</th>\n",
       "      <td>relevance_median_06</td>\n",
       "      <td>0.0123</td>\n",
       "    </tr>\n",
       "    <tr>\n",
       "      <th>6</th>\n",
       "      <td>relevance_perc15_04</td>\n",
       "      <td>0.0084</td>\n",
       "    </tr>\n",
       "    <tr>\n",
       "      <th>7</th>\n",
       "      <td>relevance_mean_06</td>\n",
       "      <td>0.0083</td>\n",
       "    </tr>\n",
       "    <tr>\n",
       "      <th>8</th>\n",
       "      <td>occurance_count_05</td>\n",
       "      <td>0.0063</td>\n",
       "    </tr>\n",
       "    <tr>\n",
       "      <th>9</th>\n",
       "      <td>relevance_mean_07</td>\n",
       "      <td>0.0054</td>\n",
       "    </tr>\n",
       "  </tbody>\n",
       "</table>\n",
       "</div>"
      ],
      "text/plain": [
       "                     0      1\n",
       "0   occurance_count_01 0.5357\n",
       "1   occurance_count_03 0.1394\n",
       "2   occurance_count_04 0.1067\n",
       "3   occurance_count_02 0.0527\n",
       "4   occurance_count_08 0.0166\n",
       "5  relevance_median_06 0.0123\n",
       "6  relevance_perc15_04 0.0084\n",
       "7    relevance_mean_06 0.0083\n",
       "8   occurance_count_05 0.0063\n",
       "9    relevance_mean_07 0.0054"
      ]
     },
     "execution_count": 45,
     "metadata": {},
     "output_type": "execute_result"
    }
   ],
   "source": [
    "from sklearn.pipeline import Pipeline\n",
    "from sklearn.ensemble import RandomForestRegressor\n",
    "\n",
    "forest = RandomForestRegressor(n_jobs=-1,random_state=22)\n",
    "\n",
    "model_forest = Pipeline(steps=[('scaler', mm_x),\n",
    "                               ('model', forest)])\n",
    "\n",
    "print('R2 score: ','{:.2%}'.format(model_forest.fit(X_train,y_train).score(X_test,y_test)))\n",
    "print('Training R2: ','{:.2%}'.format(model_forest.score(X_train,y_train)))\n",
    "\n",
    "#The most relevant features of the Random Forest Regressor\n",
    "pd.DataFrame(zip(X.columns,model_forest[1].feature_importances_)).sort_values(1,0,0).head(10).reset_index(drop=True)"
   ]
  },
  {
   "cell_type": "code",
   "execution_count": 48,
   "id": "4fb5c820",
   "metadata": {
    "ExecuteTime": {
     "end_time": "2021-05-15T21:48:03.105134Z",
     "start_time": "2021-05-15T21:48:03.044271Z"
    },
    "hidden": true
   },
   "outputs": [],
   "source": [
    "#Save the model\n",
    "with open(os.path.join(BASE_DIR,'ufo_continous_model.pkl'), 'wb') as f:\n",
    "    pickle.dump(model_forest,f)\n",
    "    \n",
    "#Save TAD\n",
    "X_test.join(pd.DataFrame(y_test,index=X_test.index,columns=['real'])\n",
    "           ).join(pd.DataFrame(model_forest.predict(X_test),\n",
    "                               index=X_test.index,columns=['est'])\n",
    "                 ).to_csv(os.path.join(BASE_DIR,'tad_continous.csv'),index=False)"
   ]
  },
  {
   "cell_type": "code",
   "execution_count": 46,
   "id": "7e4de65b",
   "metadata": {
    "ExecuteTime": {
     "end_time": "2021-05-15T21:47:48.314561Z",
     "start_time": "2021-05-15T21:43:32.746427Z"
    },
    "hidden": true
   },
   "outputs": [
    {
     "name": "stdout",
     "output_type": "stream",
     "text": [
      "Fitting 4 folds for each of 70 candidates, totalling 280 fits\n",
      "R2 score:  80.66%\n",
      "Training R2:  100.00%\n"
     ]
    },
    {
     "data": {
      "text/html": [
       "<div>\n",
       "<style scoped>\n",
       "    .dataframe tbody tr th:only-of-type {\n",
       "        vertical-align: middle;\n",
       "    }\n",
       "\n",
       "    .dataframe tbody tr th {\n",
       "        vertical-align: top;\n",
       "    }\n",
       "\n",
       "    .dataframe thead th {\n",
       "        text-align: right;\n",
       "    }\n",
       "</style>\n",
       "<table border=\"1\" class=\"dataframe\">\n",
       "  <thead>\n",
       "    <tr style=\"text-align: right;\">\n",
       "      <th></th>\n",
       "      <th>0</th>\n",
       "      <th>1</th>\n",
       "    </tr>\n",
       "  </thead>\n",
       "  <tbody>\n",
       "    <tr>\n",
       "      <th>0</th>\n",
       "      <td>occurance_count_01</td>\n",
       "      <td>0.3417</td>\n",
       "    </tr>\n",
       "    <tr>\n",
       "      <th>1</th>\n",
       "      <td>occurance_count_03</td>\n",
       "      <td>0.2397</td>\n",
       "    </tr>\n",
       "    <tr>\n",
       "      <th>2</th>\n",
       "      <td>occurance_count_04</td>\n",
       "      <td>0.1469</td>\n",
       "    </tr>\n",
       "    <tr>\n",
       "      <th>3</th>\n",
       "      <td>relevance_perc15_02</td>\n",
       "      <td>0.0410</td>\n",
       "    </tr>\n",
       "    <tr>\n",
       "      <th>4</th>\n",
       "      <td>relevance_median_04</td>\n",
       "      <td>0.0306</td>\n",
       "    </tr>\n",
       "    <tr>\n",
       "      <th>5</th>\n",
       "      <td>occurance_count_02</td>\n",
       "      <td>0.0253</td>\n",
       "    </tr>\n",
       "    <tr>\n",
       "      <th>6</th>\n",
       "      <td>relevance_mean_03</td>\n",
       "      <td>0.0243</td>\n",
       "    </tr>\n",
       "    <tr>\n",
       "      <th>7</th>\n",
       "      <td>occurance_count_08</td>\n",
       "      <td>0.0219</td>\n",
       "    </tr>\n",
       "    <tr>\n",
       "      <th>8</th>\n",
       "      <td>relevance_perc15_07</td>\n",
       "      <td>0.0214</td>\n",
       "    </tr>\n",
       "    <tr>\n",
       "      <th>9</th>\n",
       "      <td>relevance_perc70_06</td>\n",
       "      <td>0.0116</td>\n",
       "    </tr>\n",
       "  </tbody>\n",
       "</table>\n",
       "</div>"
      ],
      "text/plain": [
       "                     0      1\n",
       "0   occurance_count_01 0.3417\n",
       "1   occurance_count_03 0.2397\n",
       "2   occurance_count_04 0.1469\n",
       "3  relevance_perc15_02 0.0410\n",
       "4  relevance_median_04 0.0306\n",
       "5   occurance_count_02 0.0253\n",
       "6    relevance_mean_03 0.0243\n",
       "7   occurance_count_08 0.0219\n",
       "8  relevance_perc15_07 0.0214\n",
       "9  relevance_perc70_06 0.0116"
      ]
     },
     "execution_count": 46,
     "metadata": {},
     "output_type": "execute_result"
    }
   ],
   "source": [
    "'''!pip install xgboost'''\n",
    "from xgboost.sklearn import XGBRegressor\n",
    "xgb = XGBRegressor()\n",
    "\n",
    "param_xgb = {'learning_rate':[x/100 for x in range(1,52,5)],\n",
    "             'n_estimators':[x for x in range(100,1100,100)],\n",
    "             'max_depth':[x for x in range(1,11)], \n",
    "             'min_child_weight':[x/10 for x in range(1,101,10)],\n",
    "             'reg_lambda': [x/10 for x in range(1,101,10)]\n",
    "            }\n",
    "            \n",
    "from sklearn.model_selection import RandomizedSearchCV\n",
    "search_xgb = RandomizedSearchCV(param_distributions = param_xgb, \n",
    "                                cv = 4, \n",
    "                                n_jobs = -1, \n",
    "                                scoring = 'r2', \n",
    "                                estimator = xgb, \n",
    "                                verbose = 1,\n",
    "                                n_iter = 70,\n",
    "                                random_state = 22)\n",
    "\n",
    "model_xgb = Pipeline(steps=[('scaler', mm_x),\n",
    "                            ('model', search_xgb)])\n",
    "\n",
    "print('R2 score: ','{:.2%}'.format(model_xgb.fit(X_train,y_train).score(X_test,y_test)))\n",
    "print('Training R2: ','{:.2%}'.format(model_xgb.score(X_train,y_train)))\n",
    "\n",
    "#The most relevant features to the model_xgb\n",
    "pd.DataFrame(zip(X.columns,model_xgb[1].best_estimator_.feature_importances_)).sort_values(1,0,0).head(10).reset_index(drop=True)"
   ]
  },
  {
   "cell_type": "markdown",
   "id": "c097bd04",
   "metadata": {},
   "source": [
    "## End"
   ]
  },
  {
   "cell_type": "code",
   "execution_count": 47,
   "id": "37766442",
   "metadata": {
    "ExecuteTime": {
     "end_time": "2021-05-15T21:47:48.395809Z",
     "start_time": "2021-05-15T21:47:48.318620Z"
    }
   },
   "outputs": [
    {
     "name": "stdout",
     "output_type": "stream",
     "text": [
      "17 minutos con 24.17 segundos\n"
     ]
    },
    {
     "data": {
      "text/html": [
       "\n",
       "                <audio  controls=\"controls\" autoplay=\"autoplay\">\n",
       "                    <source src=\"data:audio/wav;base64,UklGRpgiAABXQVZFZm10IBAAAAABAAEAOhEAAHQiAAACABAAZGF0YXQiAAAAAMFIk3VMdgdNgQxRzyKsaKylyRzyThJvHiwXwAed/rAE+Bc/LL0xNx7S89DBdZ6ynH7CtQS9SqR4OHufUGAJXsHtk2qQYrTI7eEjhEJoQtYqWAx09zT0xP6iCnsKgviu2oPARLt21IcHLEKsa/lvb0lnBM+6X4ljg3uqIu4bM1NfumRKRjoVBOjOz0HR/uOT+IQBvPpu66nh4en/BkwvDlBzVmw5if+bvWSO2YZwrAXyAT2EcJR541apGO/Y6K/XqfTC7erNDd8dgRl1CkT/ZwL5E0ApbzKrI5r8Z8rFoguaDLmu9yc/N3NMfhhbIhcPzTyZ0o2mq/nibRtDP4pEIDCIEf35gfNY/A4JzQvz/E/gIcQTuq7NG/0pOINmcHI0UwcSDMdrj+2Ap6AC4d4nClq2ZsZNaR737jjSVc8C4G71GwHt/DfuXeLG5n0A/yeiS9dXL0FKC9zIaJTJhLOiOOR3MAhqZXvTX8YkUuPctFCowbyP46gInRx5G0wNaQCeABwQ2iVTMkso/gRV0xyoupirsPTq6zJrbNJ/eGSwJIDZ5p+cjMSjMdhFEvo6z0UVNfcWHf1V8w36IgeFDOkA8eVZyOK518cV87otM2Bzc9ZbUh/w09mWA4DrlxnU7ht+U29ng1SbJ4z2gdUSzi3c8vElAMH+GfGe42XkdvqTIG9GD1jlR58WlNSomz+EKJrI1k0jM2K0e7ZnrTBa7vS65qcrtx/c7AKjGgEdMRACAlz/eAwlInUxESzlDHncYq67mHKpsN40Jlhkx3+fbNwxiebap9KM3JyYzYUIrzUnRpk5jhzJALrz+vf0BKgMWAR66xLNpbr+wpXpByPYWAdzOmMdLE3hjp+qgGaQk8dwD79L2mZjWqwwr/6o2YjNmNgy7qj+KAD681rlveL79CcZj0AkV31NYiGZ4AekOoXqkuDJrhUdWX16bW41POT5JMKiqE2yvdSs/PAXBh4KEwEEpf4hCTwe5C/2LjUUruV4tQWadKML0y0ZG1ssfnJzez7/8wGxe44Ml1TDTv5rL4VFkD0zIvgEtvQz9pcCPww2B9DwMdJOvCq/uuA4GJFQMnFMaT04+O5vqeKCM4qcu44C4ULyZEhfdzlCB6jexs1d1UPqpfwWAcX2fufL4R3w2xEgOiVV61FxK8DsZK2zhw+Nq73HB+JOv3fdczVHygVZyo2qQq6Hzfv1gxR2HsEVVgZ6/igGNhq0Lfww2BrS7j69jJy+ninIAwzXUAh72nhiSrYBQLuVkW6Sjbm/8z0o4EPhQMsnmglO9sz0IwBWC3sJ3PWY18y+X7yd2HENgEcBbvxtjUPC/Fm0o4ZphVywc/X/OLNhGmPbQSwQduTYzpTSPeYm+oMBY/n06Yfh6evJCkIzIlIqVa803/ict56Lp4hSssf5o0OBc+93g1HmEX3Tqq0kq57G8u5jEEUeQBjuCNf+nAMuFvgqJjK9IMT3lMU+oFqbK77k/q5FZ3bHfGdVgQ92xh2WGI9nsPzoNyAzQXVDOS2dDoL41fOu/foJJAuK+izdCcKdulbR2wLJPYdpP3HpTX0KKMDiixqC/KVJ6DUuI13DZbNJTBkF68XQU9A24jn3ZwHA+6fs5uFp6A0EEywxTjdXAD3NBIrC6JC+hfin2+uFN85tknr7Wg8edt33sQepIsCq55cLZh1uGrULuP+LATwSyCd8MtQlYgBWzgWlS5kwtfrxyTlbcCp/Z18xHYHSCJwcjQioK95wF3w9N0VgMuwTT/td8037PQgyDMb+0eLvxd6598qY+JEz12MRczBX/Re1zI6SU4ChnDzboyJIVzFn3lCBIkPyktOvzkje6/O/AMr9fe/b4qDlwP20JGpJFFhNRGMQBc58l1uEwJ4x3q8qtma4e3djGSon6G63/acwukHgLQbTGzcclQ4RAf7/dg49JAcyFCqTCGHXyqqRmE+tb+VRLfto/38/aJkqO99Io4eMkqBz0wEOvzgURiY3cBmu/nDzGfkxBqcMgQJr6GTKG7qQxcnu/ygNXXBzR18UJdTZkZocgGuUec5wFjFQV2c9V6krGvo+17zNjNpP8I3/b/9i8lXkkuP090Ud5kPKV4VKfBvk2T+ff4TGlvjQSx1PXlp72WrcNW3zBL4UqOi01Ng0AIcZhh13EdoC+v7xCm0g1zB2LTkQkeBwsSWZoKZu2XEgYGBBf9JvjDd67MerYY0jmvvICAQEM/9FbzsRH5YCF/Ql9+wDigyxBeDtTs9HuyrBj+U7HkVVYnIXZpgxWefPo3WBeY0uwsAJ8EcrZrBcnzRyAsfbis0c13fs0/2hADz1QuY84r3y4xXDPWJWmk/zJf7lE6glhiOQWsSGD7NUdXkBcSxBJf+qxVepZbCB0b/5gRZLHkUUAQWB/sIHdBz9LvgvPxfC6dm4/pozoRvOVROqVvZ8B3beQxL6brWuj9iU6r6l+VYs6kQfP7Mk+gZY9Yb1gQHnC0wIGPOQ1FG9y70G3WoToEzxb45rYD0Y9SquXYTkh4O2wPybPqtjHmFBPTALJOElzhHUe+iX+1cB9feN6JjhKe6tDh437VOCU6gvJvLWsUSJ64qCuI4BAUoLdth14ksoC03OyavBrGrK5PLEEnUe5RZ2B5P++ARrGI0smzGPHdTy48AMnhKdmsMqBvtLKHnIemZP1wcfwGyTyZBmtfvuxSTQQh9COyrJCzX3T/QL/8gKTAr99w/aJsB2u0bVtQhBQytsnW9ISOACf7nKiMGDoquY70401V9uZGtFNhRK55jPgdFx5Ob4hwF5+iHrnuFE6r8HGDB+UDlWfzg1/mS8zY0sh5atkfNaPiZxSXnVVU8X09durxOqrcO861YO+B1DGSYKK/+iAmkUmylmMhojpfttyT2iRZoMuh75ekDjcwh++1mcFbjLk5gKjpSsLeRnHK0/WESOL/EQrvmP85v8PwmvC3r8rt+ywyi6ZM4//kw5JGc8cixShxCnxa2OH4GxoXXiJymxWo1m+kxjHSnu6NGEz3LgzPUtAbP85+1B4hXnMQHQKCpMvldgQAEKlcetk/CEuqO95eUx0mpEe+FebyMi4kC0bqhrvWLkQgnKHEYb+wxCAMoAiBA/JmAy0ycVBFTSeKfOmIuxWexOND1tun98YzIjFtgYn62MmaRi2VETgTu2RY00Wha9/FPzTPpdB3gMfwBR5drH27lxyCz05y70YGlz8FreHXrS9ZUJgNWYhNVJHUhUa2fOU5cmrfUY1S3Ol9xZ8kgAkv7G8HTjn+Qb+2YhDEcXWDRHYxVC08uaO4QLm0DYyiQiY7975GZeLxntObrjp8G389yWA+Ua3BzeD9ABef/cDJIiljGwKwwMdNulraqYMKoG4KInTWXcf8drbDAQ5emmuoyTncLOoQlSNilGHznuG1oAp/Mx+DUFqwz+A97qh8yEunvDnOo6JLVZJXN4YrkqzN+HnoSALJHxyNkQqkz8ZsdZrS/B/SfZjc362KDu2f4FAKnzI+Xj4o/1+Rk9QUxX7Ew4IEDfC6MLhaeTR8s2Fy9as3q+bfM6l/hKwX6ozbKN1WT9RhjwHboSxAOz/nsJrR4ZMK8ubROo5KW00JkOpE7UohowXG1+wXIdPXzy7685jqOXc8R2/ykwpEUnPZMhewSS9GH23AJSDOwGO/Cb0RS8ir+t4WsZh1F3cbBo7jZx7Uioj4LSiui8AATrQzllyl6COEoGEN61zbTVterk/AIBd/Y9593hn/CoEt06a1V8UV0qZutOrFuHo438vlUJE1AgeFNzBEZ0BGPJR6qqrlHOvvbuFHEedxUQBnj+dwapGvktzjAlGtDtWrw1nDOfVMl6DQdSdHtTeBlJLgAPuiuR4pKcuu70FCkcRItALScRCRn27vRpAHYLQglR9fzWe76hvHrZog6LSG1uiG1XQjr7F7Mlht+FkrHq9iQ6IGK7YvNALA/H46/O3dKw5nP6fQEb+avphuFY7I4LCTSEUtxUszOI93C2HYsRiYizVfvvRAx0jXdoUI0QbtJCrXCrXse+7+EQUx78F6IIxv7fA6AWTCsQMh8gyfahxMafqZs7v1cA9kb9dmp8OlT5DSzFipVmj2KxL+olIYxBNkOhLAoOO/jq8/P9Jgr9Cgr6jNylwcK6GtIEBOQ+Fmr1cM9M+QjOvjuLZYIXp77pci+1XYZl3EhHGELqg9CL0KfikfdxAYH7WOzU4cPoyATiLKxOC1cfPH0DTMFBkP6FEalk7eg4gm5aevlZthxR3G2xNqnUwHzoKAyIHTQaZQuZ/8ABqhIoKHwyTiVz/1nNcKR1mSG2ZfMjOxlx+n5ZXq4bIdFPm0ON7Khe33IY8z0QRdIxUhP4+mPzj/tzCBsMVP4x4nnF57mhy7f5uTSIZO9yN1aBFkjLv5FygJ2drNz1I/9XGGccUHshbfE309bOtd5N9NkAlP0s77ni5uVt/ocl+0kKWItDHw+5zLGWb4S3n7HfJCyRZ6t7lGLFKO/mxLYNqNK6FeHPBgkcCRxDDuUAIwDeDqUkHjKmKbAHXdYaqpWYIa7O5rku3Wn7f1NnISnK3WmihYxaoaLUFA9TOQdGpDbRGEf+ZvNV+W8GoQweAs3n38kIuh3G2u8vKttdeHNxXqYjWdidmQ6ARZXfz9EXClFjZ5NWpio0+cvWzs3z2rnwtv9G/w/yJeTD45L4GB6LROBX40lHGo/YVJ5ohJiXadLOHk5feHsWapI0JvI7vQOodbWm2eQA0hlnHSYRogIQ/1EL3CACMSEtZw+L36mwBZlPp7va4yFjYWp/DG8jNvzqxqo3jcyaIcopBbMzDUb8OnAeIAL981n3LgSUDF4FSO29zhq7msGO5m4fLlaScmZlPDDV5bmiO4EujoTDLgvpSF5mIVykM38BO9uGzXnX5+wK/oUA7PQG5lniSvOzFng+mFYYT9IkpOQLp+OFzpC4xRIR01W+eWJw8T/U/cTEJKnbsE/SfPrgFjwe9xPABIf+GAjnHDovvC+AFr7o/be6mr2hU8/LFMtXS31odYlCjfhOtFqPX5UCwNH6Hy0WRb4+EyR3Bi31sPXHAf8LCQiI8vfTDL0evu/dnRSgTUhwBGscPI/z9qz3g3GIxbc1/rI/A2SuYFE8MwqB4AnOYtTt6N37SQGq90joouGj7ncP4TdAVCJTny7N8Law2Yhti8i5HQM+S392YHW6StAJS810qx2tMMur8zcTeB6eFi0Hiv5CBd0Y2Sx4MeUc1fH4v6edd526xKAHNk2neVR6KU5PBuK+8JIskWy2LPCnJRlD00GgKTwL+PZs9FH/7goaCnf3cdnMv6y7F9bjCVREp2w7bx5HWQExuDmIJITMrA/xfjVTYB9kiUQzE5HmZM/D0eTkOPmJATX61eqV4arqgAjkMOtQ+1WQN+H8L7s7jYSHwK4e9bA/xHH6eMVU9RW61veuUqpnxIrs3A4OHgQZ1wkU/94C2hT0KVoyhiKu+nXIuKGEmg+7jvrKQYt0v33bWBYUZMrvl0eOha1h5V4dE0AjRPouWhBg+Z7z4PxvCY8LAPwO30XDQbocz2X/bTrDZwRyIVEGD0TE9I1Xgb+i6eNuKlNbYGYsTF0cXe2b0bXP4uAp9j4BePyW7SjiZufmAaIpsEyiV40/tghQxvaSHIXEpEPnUDOYax977V0YIvTgqLOPqBa+NOXaCfQcEhupDB0A+AD0EKMmazJXJysDU9HXpueYb7K/7a81C26ef3xisyGu1k6ewoxwpZTaXBQFPJtFBDS+FV/8U/OL+pYHaQwTALLkXcfXuQ7JRfUTMLJhWnMFWmgcBtEVlRSAwpnx1qIeDlViZxZTkiXQ9LPUSs4C3b/yaABi/nTwS+Pc5ML7OiKmRxxYf0YmFPHR8pk8hPObutlGJg1kxHsOZg8u2uuBueSnWrjG3T4EJBu1HIwPngGY/0EN/iK2MU0rMAtu2uqsnpjyql7hDyk+Zux/62r6Lpjj+6WmjE6e7c+7CvI2KUajOE4b7f+X82r4dQWtDKEDQur8y2W6+8Ok62wlkFo+c7JhUilN3oSdYoD1kVHKQRKRTRlnKVmtLtX8qdiVzV3ZDO8I/+P/V/Pu5AzjJvbMGupBcVdYTAwf6N0TouGEaJSwzL0YPFvkegptsDlK93PAXqhQs17WGv6aGNgdahKIA8L+1wkeH0swZS6jEqPj1LOgma2kktUXHEFdqX4Mcrw7+vDfrvyNPZiTxZsA5DC/Rbs88iAABHH0kfYgA2IMoAam7wbR3bvtv6Linxp7UrlxEWicNerrJadBgnWLNr5yBfFEfGVIXos3UgV63abNDNYm6yL97AAp9vzm8uEk8XYTmTuuVQlRRikL6jurBoc8jlDA4gpAUXx4xXLRRB8DcMgFqhWvHM+A91YVax4rFcsFd/7IBhwbPS6cMG8Zzex3u+GbrZ+CyvEONFPce8d3z0en/uK4xZBZk6y7HfbpKVRENECPJokI5vUS9a8AlAsICcT0YNYtvue8WdrUD5RJ1G4QbR5BsfnXsayFWYbKsmD4RjuJYlliCEArDhvjiM4n0yPnvvp2AdP4YumI4cnsVQzQNONSjFS1MjD2RrWgioGJwrTj/DhGk3Qnd0pPMw9h0d6swKsfyInwXRFeHrgXVgi3/iMEExeeK/cxfx/N9a/DUp/9m07AywE7SI93CXwKU3EM5MP8lLiPYLJj6xEi4kH0QgkseA339wH0Of5QCtMKifnt20LB6rrh0i8F/j+haqZwsktzB3e9mIq1gjWoNeutMENeRmUDSEIXgOlE0MbQGePo93kBQPsJ7MThIOmEBbEtJU/cVjw7LAIPwJ6PQoYtqu7uSDoybx169VhcGy7b6LBoqYjBTem2DKcd+hkUC3v/9gEZE4coejLFJIH+XMzfo6KZF7fS9Hw80nHFfkddKxrEz5qabo3SqZLgchlmPuZEQzG4EqL6bPPS+6cIAwzg/ZDhBMXzuU3M1/rfNTRlyXI6VQQV3cn0kJaAnZ4d3kUlsVj7ZldPdSCZ8N/S/s4k36/08ABe/drumeIu5hz/WiaLSv1XxULaDW7L6pWIhLKgMuGXLWhomHusYXEnueUdtiCodbvo4W4HPRzbG/ENugBKAEcPDSUyMjUpzAZa1W2pnZj2ri/oITC7avJ/Y2anJ1rcj6GIjCWi0dUmEOM5+EUhNjMY4v1f85H5qwaaDLkBL+dcyfm5rcbs8F4rpl57c5ddNiLf1q2YBYAjlkfRMhnfUWtn5lWjKVD4WtbizVvbIvHd/xv/vfH34/fjMfnrHi5F81c8SREZO9dsnVWEb5jc008gSWCRe09pRzPh8HW89qcFtnnakwEaGkcd1BBsAif/swtLISoxySyTDoXe5K/omAGoC9xUI2Nijn9Bbrg0f+nJqRGNeJtHy0kGXzQZRoc6zx2sAeXzjfdxBJ0MCAWu7C7O8LoNwo7noiAUV71ysWTfLlLkp6EGgeeO3cSbDN9Ji2aQW6cyjQCy2oTN2NdW7UD+ZwCb9MzleOLY84QXLD/KVpNOryNK4wempoV+kRjHnBLvVgJ6v2+0PoP84cP1qFSxHtM4+z0XLB6oE38Ej/5vCFkddS99L74Vueckt3qaS6KO0EIW6VibfcV0MkEH9zGzC4/qlRzB/PvmLT5FWz50I/YFA/Xa9Q0CFgzFB/bxX9PKvHS+297RFZ5OmnB2atQ6B/LGq5aDA4kKuan/xUBXZDpgXzs3CeHf8M201GDpIfw6AV73BOit4R/vQhCiOJBUvlKSLXPvmK9ziPSLEburBHhM73bjdJBJeAhNzCSrfK33y3L0qBN6HlUW5QaD/o0FUBkjLVExORzU8A2/RZ3gndzFFgluTiF623npTMYEqb14kpORdbde8YYmX0OFQQQprwq+9or0l/8SC+cJ7/bT2HW/5Lvs1hILZEUebdVu8UXS/+e2rYeMhPmthvKsNs1gy2OmQzAS2+UyzwfSV+WJ+YgB8PmJ6o/hEutCCa8xVlG5VZ02jPv8ua2M4Iftr6v2BEFdcqV4slOaFKPVhK6VqiPFWO1hDyMewxiJCf7+HANLFUwqSzLwIbb5fsc2oceaFbwA/BhDLnVxfbhXjxISyVCXiY55rpXmUx52QOxDZS7FDxT5rvMk/Z8JbguF+23e2cJcutfPigCNO11ox3ERUIQN48I/jZOB0KNe5bIr8lswZltLWBuT7FHR589T4YX2TQE8/EbtEOK655wCcyozTYJXtj5pBw3FQpJNhdGlyui5NFls9Xr1XMAgyN8Us7Sow74H5nEKHR3dGlcM+/8nAWARBidzMtkmPwJT0DmmBJlWsyfvDzfUbnx/eWE0IEfViJ3bjEumxttkFYU8fEV5MyIVAvxV88v6zwdZDKb/EuThxte5rslf9j4xbWJGcxdZ8BqUzzmUJICzml7Y+h/QVVZnW1KMJPTzUNRqzm7dJPOHADD+IvAk4xvlavwNIz9IHVjHRecSotAcmUGE3pw228An9WTFezVlviyd6sy46af0uJre5QRhG4wcOg9uAbj/pw1pI9Mx6CpTCmnZMqyVmLirt+J8Kitn938LaoYtIuIQpZeMDJ8Z0dQLjzclRiY4rxqB/4jzo/i0Ba0MQwOm6XPLSrp/xK/sniZnW1Nz6GDqJ87chJxGgMOSssunE3VOMmeIWKwt6/st2KDNwdl47zb/vv8F87rkNuO+9p4blUKSV8BL3h2R3B+hvIQulRvOQxpGXBB7U2xrOP/1oL9CqNazMNfP/usYvx0ZEk0D0/40Co4ffDAYLtcRneIGs3OZT6XZ1osdT17hflNxWTp579StxI3cmLTGwQGcMdhFTjxSIIYDUfTB9mUDcQxSBg/vctCou1PAmePTG2xT9nFtZ0g0ZOoFpviBHYyGv+IG9EW7ZcNdkzZbBObcms1l1pfrXv3VANr1veYI4qrxRBRTPO1VklAtKLHoK6q3htqOpsFvDGpS1HgzcpxDywGBx8epgq/oz0H4vBViHt8UhwV5/hoHjxt/LmgwthjK65W6kpsroLLLaBBeVD98NneBRiD9uLdjkNWTv7xL97oqikTaP/ElAwi09Tj19QCxC8sIN/TF1eG9ML072wURmko3b5Rs4T8p+JqwOIXYhgW01vlmPO5i9GEdPywNceJlznPTlecI+20Bivgb6YvhPO0cDZY1P1M3VLMx2PQetCiK9Yn/tXL+fkcVdbx2Kk7aDVjQfqwTrOLIU/HXEWgecxcLCKn+aQSFF+8r2zHcHtD0v8LinlWcZcFAA31JHHije9ZR6AqgwnKUD5Bgs5bs+iI1Qq9CcCvoDLT3GfR//noKqAoG+U3b4cAWu6rTWwYWQShrUnCSSu4FIrz5iQqDVqmr7OUxzV4CZSdHPhbB6AjQA9GM4z74fwH/+rvrteF/6UEGfy6bT6lWVjrbANS+/46Lhk2revCmO91v23ntVwIaDdpmsJ6pPcId6kMNxB2+GcQKX/8tAokT5Ch2Mjkkjv1hy1Cj1ZkQuED20j2Hcot+MVynGGjO6ZmejbuqxeFxGtY+uUSyMCAST/p28xT82wjpC2r97+CRxAG6/Mz4+wU33WWfcjlUhhN0yC6Qv4Cgn4/fkiZgWdtmkE5vH8fvitIpz5PfD/UGASb9ie564nnmzP8sJxhL7Ff8QZMMJMonlaaEsaG14ggvOmmBe8FgHCaE5Hu1NqgavLviDAhuHKsbng2RAHMAsQ90JUQywijmBVfUw6ipmM+vkOmHMZVr5H9vZSwm7Nq5oJCM86IB1zcRcDrlRZw1lRd//Vnzz/nnBpAMUgGQ5trI7LlBx//xjSxuX3lzuFzFIGfVwZcCgAWXr9KRGrFSb2c2VZ8obffs1fnNw9uK8QIA7/5r8cnjLeTT+b8f0EUDWJJI2Rfn1YmcSIRKmVHVzyFAYaV7hGj7MZ3vs7vsp5a2TNtAAmAaJR2DEDYCQf8VDLghUTFuLL0Nf90ir8+YuKhd3cQkX2Otf3JtSzMD6NCo74wpnG/MaAcJNSJGETovHToBzvPD97MEowyxBBTsoM3JuoTCkOjVIfhX5HL4Y38tz+KZoNaApY83xgYO0Eq1ZvtaqjGe/yzahM042MTtdf5IAEv0kuWa4mn0VhjeP/lWCU6KIvHhBaVuhTKSe8glFAhYQnoYb3Y9M/sAw8moz7Ht0/P7lxcaHlkTQASZ/scIyh2tLzsv+xS05k22PZrdosvRtxcEWuZ9HnTYP4P1F7LBjnmWN8Il/aouY0X3PdQidgXc9Ab2UgIrDH4HY/HH0ou8zb7J3wQXmU/ocONpijl/8JmqOYOZiVK6HAHVQaZkwl9sOjwIQ9/azQjV0ulk/CkBEvfA57vhne8OEWI53FRWUoMsGu59rhGIf4xdvDkGrk1Zd2J0ZEghB1HL1qrerb7MN/UXFHkeDBadBn3+2gXDGWwtKDGKG9TvJb7mnE2eAceNCqRPl3pdeadLPgNzvASS/5GAuI/yYyehQzRBaCgkCoX2qvTd/zQLsglm9jXYH78gvMPXQQxzRpJta27AREr+nrUmh/iEKa/989c3QmF0Y8JCLhEo5QTPTNLK5dj5hgGq+T/qiuF96wUKeTK+UXNVpzU2+su4I4xBiB6xOfhVQvFyTXicUkATj9QVrtuq4MUl7uMPNR6CGDsJ6v5bA70Voyo6MlghvviJxrigDpsfvXL9ZETNdR59kVYIEcPHtJbOjm+vyOdGH9ZAskPPLTAPyvjB82n9zQlKCwj7zd1wwnu6ldCyAaw89GiFcf9OAQyFwY6M1IHlpNPm9SyMXPtliEpSGsvrCtEc0MTh3/ZbAf/79uz64RDoVANDK7NNXlfcPRwGy8OTkYOF46ZS6iA2Fm3GevlbZx+e3oOy3Khxv9nmBQtDHaYaBgzY/1gBzhFoJ3gyWCZRAVTPnaUmmUG0kPBtOJpvVn9yYLMe49PGnPmMKKf53GsWAj1bRe4yhhSo+1jzDPsGCEYMN/9y42fG2blRynv3aDIkYy5zJlh3GSTOYZM5gKibzNlQIY5WRWeeUYcjG/Pv04vO292I86QA/v3P7//iXeUU/eEj1UgaWAxFphFTz0qYTITNnbPcOCnYZcF7WGRsK2HpG7jxp5G5bd+KBZsbYhznDj8B2/8ODtMj7jF/KnQJZdh9q5GYgqwS5OcrFWj9fydpECyu4CqkjYzNn0bS6wwpOB5GpzcPGhf/e/Pe+PMFqwzjAgnp68oxugbFu+3PJzxcZHMaYIAmUNuImy6AlZMVzQwVVU9GZ+RXqywC+7XXrc0m2uTvYv+X/7Tyh+Rj41j3cRw/Q7BXJEuuHDrbLaCbhPiVic/IG01dN3uYayQ3tvTRvimoXrQB2IP/OhmjHckREwPl/pIK/h+rMMgtCRGX4TqySpn2pSLY/h5ZXxN/lXD0OPntzKyQjX2Z18flAlIy7UXfO7EfDQMz9PL2qAN/DAMGeO7gz3a7vcCT5AcdWlQucsRm8TLe6OiktIHJjNnAUgj0RvVlO12ZNWYDVdyRzcDWB+yZ/bwAi/V/5iHiM/ITFQw9KVYYUBEnV+cdqWyGfI//wvsNkFMneZxxZUJ3AJTGjanyr7TQAfkfFlcekhREBXz+bQcCHL8uMjD8F8bqtrlGm62g5czeEYVVnXyhdjFFmfuRtgeQVJTUvXn4iiu8RH0/UiV+B4X1XvU8AcwLjAio8yrVmL18vR/cOBKeS5ZvE2yiPqD2Ya/IhFyHQ7VL+4I9TmOLYTA+LgzJ4UPOwdMI6FD7YwFA+NTokeGy7eQNWzaYU95TrzB/8/mytIltij+3AAA=\" type=\"audio/wav\" />\n",
       "                    Your browser does not support the audio element.\n",
       "                </audio>\n",
       "              "
      ],
      "text/plain": [
       "<IPython.lib.display.Audio object>"
      ]
     },
     "execution_count": 47,
     "metadata": {},
     "output_type": "execute_result"
    }
   ],
   "source": [
    "time_exp(time.time() - start)\n",
    "tone()"
   ]
  }
 ],
 "metadata": {
  "kernelspec": {
   "display_name": "Python 3",
   "language": "python",
   "name": "python3"
  },
  "language_info": {
   "codemirror_mode": {
    "name": "ipython",
    "version": 3
   },
   "file_extension": ".py",
   "mimetype": "text/x-python",
   "name": "python",
   "nbconvert_exporter": "python",
   "pygments_lexer": "ipython3",
   "version": "3.9.1"
  },
  "toc": {
   "base_numbering": 1,
   "nav_menu": {},
   "number_sections": true,
   "sideBar": true,
   "skip_h1_title": true,
   "title_cell": "Table of Contents",
   "title_sidebar": "Contents",
   "toc_cell": false,
   "toc_position": {
    "height": "calc(100% - 180px)",
    "left": "10px",
    "top": "150px",
    "width": "263.391px"
   },
   "toc_section_display": true,
   "toc_window_display": true
  },
  "varInspector": {
   "cols": {
    "lenName": 16,
    "lenType": 16,
    "lenVar": 40
   },
   "kernels_config": {
    "python": {
     "delete_cmd_postfix": "",
     "delete_cmd_prefix": "del ",
     "library": "var_list.py",
     "varRefreshCmd": "print(var_dic_list())"
    },
    "r": {
     "delete_cmd_postfix": ") ",
     "delete_cmd_prefix": "rm(",
     "library": "var_list.r",
     "varRefreshCmd": "cat(var_dic_list()) "
    }
   },
   "types_to_exclude": [
    "module",
    "function",
    "builtin_function_or_method",
    "instance",
    "_Feature"
   ],
   "window_display": false
  }
 },
 "nbformat": 4,
 "nbformat_minor": 5
}
