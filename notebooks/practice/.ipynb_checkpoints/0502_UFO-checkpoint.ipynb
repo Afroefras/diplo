{
 "cells": [
  {
   "cell_type": "markdown",
   "id": "3208bd07",
   "metadata": {},
   "source": [
    "# UFO"
   ]
  },
  {
   "cell_type": "markdown",
   "id": "d033220d",
   "metadata": {
    "heading_collapsed": true
   },
   "source": [
    "## Import"
   ]
  },
  {
   "cell_type": "code",
   "execution_count": 1,
   "id": "67e59250",
   "metadata": {
    "ExecuteTime": {
     "end_time": "2021-05-14T18:13:54.874456Z",
     "start_time": "2021-05-14T18:13:54.864455Z"
    },
    "hidden": true
   },
   "outputs": [],
   "source": [
    "import sys\n",
    "sys.path.append('/Users/efraflores/Desktop/hub/diplo/venv/lib/python3.9/site-packages')"
   ]
  },
  {
   "cell_type": "code",
   "execution_count": 2,
   "id": "b18986c7",
   "metadata": {
    "ExecuteTime": {
     "end_time": "2021-05-14T18:13:54.881316Z",
     "start_time": "2021-05-14T18:13:54.877268Z"
    },
    "hidden": true
   },
   "outputs": [
    {
     "name": "stdout",
     "output_type": "stream",
     "text": [
      "['0501_cred.json', '.DS_Store', '0501_untitled.csv', 'ufo_sentim.csv', '0502_ufo_data.csv']\n"
     ]
    }
   ],
   "source": [
    "import os\n",
    "\n",
    "BASE_DIR = '/Users/efraflores/Desktop/EF/Diplo/data/05'\n",
    "FILE_NAME = '0502_ufo_data.csv'\n",
    "print(os.listdir(BASE_DIR))"
   ]
  },
  {
   "cell_type": "code",
   "execution_count": 3,
   "id": "767b5dcd",
   "metadata": {
    "ExecuteTime": {
     "end_time": "2021-05-14T18:13:55.781836Z",
     "start_time": "2021-05-14T18:13:54.885276Z"
    },
    "hidden": true
   },
   "outputs": [
    {
     "name": "stderr",
     "output_type": "stream",
     "text": [
      "b'Skipping line 878: expected 11 fields, saw 12\\nSkipping line 1713: expected 11 fields, saw 12\\nSkipping line 1815: expected 11 fields, saw 12\\nSkipping line 2858: expected 11 fields, saw 12\\nSkipping line 3734: expected 11 fields, saw 12\\nSkipping line 4756: expected 11 fields, saw 12\\nSkipping line 5389: expected 11 fields, saw 12\\nSkipping line 5423: expected 11 fields, saw 12\\nSkipping line 5614: expected 11 fields, saw 12\\nSkipping line 5849: expected 11 fields, saw 12\\nSkipping line 6093: expected 11 fields, saw 12\\nSkipping line 7516: expected 11 fields, saw 12\\nSkipping line 7626: expected 11 fields, saw 12\\nSkipping line 8893: expected 11 fields, saw 12\\nSkipping line 9015: expected 11 fields, saw 12\\nSkipping line 9571: expected 11 fields, saw 12\\nSkipping line 9620: expected 11 fields, saw 12\\nSkipping line 9751: expected 11 fields, saw 12\\nSkipping line 10157: expected 11 fields, saw 12\\nSkipping line 10427: expected 11 fields, saw 12\\nSkipping line 12035: expected 11 fields, saw 12\\nSkipping line 12113: expected 11 fields, saw 12\\nSkipping line 12144: expected 11 fields, saw 12\\nSkipping line 12891: expected 11 fields, saw 12\\nSkipping line 14613: expected 11 fields, saw 12\\nSkipping line 16031: expected 11 fields, saw 12\\nSkipping line 16344: expected 11 fields, saw 12\\nSkipping line 16399: expected 11 fields, saw 12\\nSkipping line 16635: expected 11 fields, saw 12\\nSkipping line 16722: expected 11 fields, saw 12\\nSkipping line 18241: expected 11 fields, saw 12\\nSkipping line 18367: expected 11 fields, saw 12\\nSkipping line 18479: expected 11 fields, saw 12\\nSkipping line 19814: expected 11 fields, saw 12\\nSkipping line 19859: expected 11 fields, saw 12\\nSkipping line 19909: expected 11 fields, saw 12\\nSkipping line 19935: expected 11 fields, saw 12\\nSkipping line 20386: expected 11 fields, saw 12\\nSkipping line 20533: expected 11 fields, saw 12\\nSkipping line 20764: expected 11 fields, saw 12\\nSkipping line 21145: expected 11 fields, saw 12\\nSkipping line 21291: expected 11 fields, saw 12\\nSkipping line 21309: expected 11 fields, saw 12\\nSkipping line 21576: expected 11 fields, saw 12\\nSkipping line 21966: expected 11 fields, saw 12\\nSkipping line 22092: expected 11 fields, saw 12\\nSkipping line 22108: expected 11 fields, saw 12\\nSkipping line 22236: expected 11 fields, saw 12\\nSkipping line 22785: expected 11 fields, saw 12\\nSkipping line 23143: expected 11 fields, saw 12\\nSkipping line 23145: expected 11 fields, saw 12\\nSkipping line 23251: expected 11 fields, saw 12\\nSkipping line 23369: expected 11 fields, saw 12\\nSkipping line 23464: expected 11 fields, saw 12\\nSkipping line 23622: expected 11 fields, saw 12\\nSkipping line 23732: expected 11 fields, saw 12\\nSkipping line 23924: expected 11 fields, saw 12\\nSkipping line 24696: expected 11 fields, saw 12\\nSkipping line 25543: expected 11 fields, saw 12\\nSkipping line 25703: expected 11 fields, saw 12\\nSkipping line 25815: expected 11 fields, saw 12\\nSkipping line 26185: expected 11 fields, saw 12\\nSkipping line 27424: expected 11 fields, saw 12\\nSkipping line 27465: expected 11 fields, saw 12\\nSkipping line 28083: expected 11 fields, saw 12\\nSkipping line 28282: expected 11 fields, saw 12\\nSkipping line 28460: expected 11 fields, saw 12\\nSkipping line 28745: expected 11 fields, saw 12\\nSkipping line 29674: expected 11 fields, saw 12\\nSkipping line 30342: expected 11 fields, saw 12\\nSkipping line 30417: expected 11 fields, saw 12\\nSkipping line 31154: expected 11 fields, saw 12\\nSkipping line 31308: expected 11 fields, saw 12\\nSkipping line 32198: expected 11 fields, saw 12\\nSkipping line 32439: expected 11 fields, saw 12\\nSkipping line 32675: expected 11 fields, saw 12\\nSkipping line 33134: expected 11 fields, saw 12\\nSkipping line 33442: expected 11 fields, saw 12\\nSkipping line 34184: expected 11 fields, saw 12\\nSkipping line 34731: expected 11 fields, saw 12\\nSkipping line 34869: expected 11 fields, saw 12\\nSkipping line 35107: expected 11 fields, saw 12\\nSkipping line 35300: expected 11 fields, saw 12\\nSkipping line 35396: expected 11 fields, saw 12\\nSkipping line 35913: expected 11 fields, saw 12\\nSkipping line 36445: expected 11 fields, saw 12\\nSkipping line 36693: expected 11 fields, saw 12\\nSkipping line 36723: expected 11 fields, saw 12\\nSkipping line 37293: expected 11 fields, saw 12\\nSkipping line 37361: expected 11 fields, saw 12\\nSkipping line 37980: expected 11 fields, saw 12\\nSkipping line 38090: expected 11 fields, saw 12\\nSkipping line 38197: expected 11 fields, saw 12\\nSkipping line 39431: expected 11 fields, saw 12\\nSkipping line 39598: expected 11 fields, saw 12\\nSkipping line 39679: expected 11 fields, saw 12\\nSkipping line 39794: expected 11 fields, saw 12\\nSkipping line 40021: expected 11 fields, saw 12\\nSkipping line 40430: expected 11 fields, saw 12\\nSkipping line 42858: expected 11 fields, saw 12\\nSkipping line 43662: expected 11 fields, saw 12\\nSkipping line 44162: expected 11 fields, saw 12\\nSkipping line 45529: expected 11 fields, saw 12\\nSkipping line 46678: expected 11 fields, saw 12\\nSkipping line 46788: expected 11 fields, saw 12\\nSkipping line 46811: expected 11 fields, saw 12\\nSkipping line 46924: expected 11 fields, saw 12\\nSkipping line 47287: expected 11 fields, saw 12\\nSkipping line 47377: expected 11 fields, saw 12\\nSkipping line 47419: expected 11 fields, saw 12\\nSkipping line 47492: expected 11 fields, saw 12\\nSkipping line 47629: expected 11 fields, saw 12\\nSkipping line 48125: expected 11 fields, saw 12\\nSkipping line 48932: expected 11 fields, saw 12\\nSkipping line 48971: expected 11 fields, saw 12\\nSkipping line 49440: expected 11 fields, saw 12\\nSkipping line 49457: expected 11 fields, saw 12\\nSkipping line 50670: expected 11 fields, saw 12\\nSkipping line 50960: expected 11 fields, saw 12\\nSkipping line 51275: expected 11 fields, saw 12\\nSkipping line 51649: expected 11 fields, saw 12\\nSkipping line 51993: expected 11 fields, saw 12\\nSkipping line 52023: expected 11 fields, saw 12\\nSkipping line 52059: expected 11 fields, saw 12\\nSkipping line 52259: expected 11 fields, saw 12\\nSkipping line 52368: expected 11 fields, saw 12\\nSkipping line 52783: expected 11 fields, saw 12\\nSkipping line 53064: expected 11 fields, saw 12\\nSkipping line 53135: expected 11 fields, saw 12\\nSkipping line 53514: expected 11 fields, saw 12\\nSkipping line 54092: expected 11 fields, saw 12\\nSkipping line 55403: expected 11 fields, saw 12\\nSkipping line 57476: expected 11 fields, saw 12\\nSkipping line 58646: expected 11 fields, saw 12\\nSkipping line 58808: expected 11 fields, saw 12\\nSkipping line 59119: expected 11 fields, saw 12\\nSkipping line 59727: expected 11 fields, saw 12\\nSkipping line 60386: expected 11 fields, saw 12\\nSkipping line 60478: expected 11 fields, saw 12\\nSkipping line 60542: expected 11 fields, saw 12\\nSkipping line 60913: expected 11 fields, saw 12\\nSkipping line 61032: expected 11 fields, saw 12\\nSkipping line 61640: expected 11 fields, saw 12\\nSkipping line 61732: expected 11 fields, saw 12\\nSkipping line 62029: expected 11 fields, saw 12\\nSkipping line 62219: expected 11 fields, saw 12\\nSkipping line 63657: expected 11 fields, saw 12\\nSkipping line 64712: expected 11 fields, saw 12\\nSkipping line 65881: expected 11 fields, saw 12\\nSkipping line 66093: expected 11 fields, saw 12\\nSkipping line 66095: expected 11 fields, saw 12\\nSkipping line 66476: expected 11 fields, saw 12\\nSkipping line 66549: expected 11 fields, saw 12\\nSkipping line 66550: expected 11 fields, saw 12\\nSkipping line 68102: expected 11 fields, saw 12\\nSkipping line 69441: expected 11 fields, saw 12\\nSkipping line 70104: expected 11 fields, saw 12\\nSkipping line 70452: expected 11 fields, saw 12\\nSkipping line 70642: expected 11 fields, saw 12\\nSkipping line 70644: expected 11 fields, saw 12\\nSkipping line 70716: expected 11 fields, saw 12\\nSkipping line 71345: expected 11 fields, saw 12\\nSkipping line 71634: expected 11 fields, saw 12\\nSkipping line 72091: expected 11 fields, saw 12\\nSkipping line 72119: expected 11 fields, saw 12\\nSkipping line 73543: expected 11 fields, saw 12\\nSkipping line 74654: expected 11 fields, saw 12\\nSkipping line 74785: expected 11 fields, saw 12\\nSkipping line 74918: expected 11 fields, saw 12\\nSkipping line 75062: expected 11 fields, saw 12\\nSkipping line 75346: expected 11 fields, saw 12\\nSkipping line 75416: expected 11 fields, saw 12\\nSkipping line 75677: expected 11 fields, saw 12\\nSkipping line 75833: expected 11 fields, saw 12\\nSkipping line 76117: expected 11 fields, saw 12\\nSkipping line 76834: expected 11 fields, saw 12\\nSkipping line 77540: expected 11 fields, saw 12\\nSkipping line 77568: expected 11 fields, saw 12\\nSkipping line 77607: expected 11 fields, saw 12\\nSkipping line 77871: expected 11 fields, saw 12\\nSkipping line 78117: expected 11 fields, saw 12\\nSkipping line 78526: expected 11 fields, saw 12\\nSkipping line 78605: expected 11 fields, saw 12\\nSkipping line 79151: expected 11 fields, saw 12\\nSkipping line 79945: expected 11 fields, saw 12\\nSkipping line 80156: expected 11 fields, saw 12\\nSkipping line 80328: expected 11 fields, saw 12\\nSkipping line 80382: expected 11 fields, saw 12\\nSkipping line 80421: expected 11 fields, saw 12\\nSkipping line 80503: expected 11 fields, saw 12\\nSkipping line 82071: expected 11 fields, saw 12\\nSkipping line 82566: expected 11 fields, saw 12\\nSkipping line 86123: expected 11 fields, saw 12\\nSkipping line 87218: expected 11 fields, saw 12\\nSkipping line 87457: expected 11 fields, saw 12\\nSkipping line 87579: expected 11 fields, saw 12\\n'\n"
     ]
    },
    {
     "name": "stdout",
     "output_type": "stream",
     "text": [
      "<class 'pandas.core.frame.DataFrame'>\n",
      "RangeIndex: 88679 entries, 0 to 88678\n",
      "Data columns (total 11 columns):\n",
      " #   Column       Non-Null Count  Dtype  \n",
      "---  ------       --------------  -----  \n",
      " 0   occurance    88679 non-null  object \n",
      " 1   city         88679 non-null  object \n",
      " 2   citystate    81270 non-null  object \n",
      " 3   country      76314 non-null  object \n",
      " 4   ufoshape     85757 non-null  object \n",
      " 5   dseconds     88677 non-null  object \n",
      " 6   duration     85660 non-null  object \n",
      " 7   description  88644 non-null  object \n",
      " 8   report_date  88679 non-null  object \n",
      " 9   lat          88679 non-null  object \n",
      " 10  long         88679 non-null  float64\n",
      "dtypes: float64(1), object(10)\n",
      "memory usage: 7.4+ MB\n",
      "None\n"
     ]
    },
    {
     "data": {
      "text/html": [
       "<div>\n",
       "<style scoped>\n",
       "    .dataframe tbody tr th:only-of-type {\n",
       "        vertical-align: middle;\n",
       "    }\n",
       "\n",
       "    .dataframe tbody tr th {\n",
       "        vertical-align: top;\n",
       "    }\n",
       "\n",
       "    .dataframe thead th {\n",
       "        text-align: right;\n",
       "    }\n",
       "</style>\n",
       "<table border=\"1\" class=\"dataframe\">\n",
       "  <thead>\n",
       "    <tr style=\"text-align: right;\">\n",
       "      <th></th>\n",
       "      <th>occurance</th>\n",
       "      <th>city</th>\n",
       "      <th>citystate</th>\n",
       "      <th>country</th>\n",
       "      <th>ufoshape</th>\n",
       "      <th>dseconds</th>\n",
       "      <th>duration</th>\n",
       "      <th>description</th>\n",
       "      <th>report_date</th>\n",
       "      <th>lat</th>\n",
       "      <th>long</th>\n",
       "    </tr>\n",
       "  </thead>\n",
       "  <tbody>\n",
       "    <tr>\n",
       "      <th>13886</th>\n",
       "      <td>11/23/2005 21:30</td>\n",
       "      <td>bodie state park</td>\n",
       "      <td>ca</td>\n",
       "      <td>NaN</td>\n",
       "      <td>sphere</td>\n",
       "      <td>7200</td>\n",
       "      <td>2 hours</td>\n",
       "      <td>Multi-colored erratic&amp;#44 fast moving sphere (...</td>\n",
       "      <td>12/16/2005</td>\n",
       "      <td>38.202546</td>\n",
       "      <td>-119.0164</td>\n",
       "    </tr>\n",
       "  </tbody>\n",
       "</table>\n",
       "</div>"
      ],
      "text/plain": [
       "              occurance              city citystate country ufoshape dseconds  \\\n",
       "13886  11/23/2005 21:30  bodie state park        ca     NaN   sphere     7200   \n",
       "\n",
       "      duration                                        description report_date  \\\n",
       "13886  2 hours  Multi-colored erratic&#44 fast moving sphere (...  12/16/2005   \n",
       "\n",
       "             lat      long  \n",
       "13886  38.202546 -119.0164  "
      ]
     },
     "execution_count": 3,
     "metadata": {},
     "output_type": "execute_result"
    }
   ],
   "source": [
    "import pandas as pd\n",
    "pd.options.display.float_format = '{:.4f}'.format\n",
    "\n",
    "df = pd.read_csv(os.path.join(BASE_DIR,FILE_NAME),error_bad_lines=False,low_memory=False)\n",
    "print(df.info())\n",
    "df.sample()"
   ]
  },
  {
   "cell_type": "markdown",
   "id": "0c35a6f2",
   "metadata": {},
   "source": [
    "## Functions"
   ]
  },
  {
   "cell_type": "code",
   "execution_count": 4,
   "id": "b82f77d7",
   "metadata": {
    "ExecuteTime": {
     "end_time": "2021-05-14T18:13:55.788723Z",
     "start_time": "2021-05-14T18:13:55.783663Z"
    }
   },
   "outputs": [],
   "source": [
    "import time\n",
    "import numpy as np\n",
    "from IPython.lib.display import Audio\n",
    "\n",
    "start = time.time()\n",
    "def time_exp(x):\n",
    "    #Just print how many minutes and seconds have passed\n",
    "    minutes, seconds = np.floor(x/60), 60*(x/60-np.floor(x/60))\n",
    "    print(f\"{'{:.0f}'.format(minutes)} minutos con {'{:.2f}'.format(seconds)} segundos\")\n",
    "    \n",
    "def tone(a=1000, b=700, play_time_seconds=1, framerate=4410):\n",
    "    #Make a sound! Useful while training models\n",
    "    t = np.linspace(0, play_time_seconds, framerate*play_time_seconds)*np.pi\n",
    "    return Audio(np.sin(a*t)+np.sin(b*t), rate=framerate, autoplay=True)"
   ]
  },
  {
   "cell_type": "markdown",
   "id": "15aba05f",
   "metadata": {},
   "source": [
    "Omit outliers with the IQR method\n",
    "\n",
    "<https://online.stat.psu.edu/stat200/lesson/3/3.2>"
   ]
  },
  {
   "cell_type": "code",
   "execution_count": 5,
   "id": "4556fb61",
   "metadata": {
    "ExecuteTime": {
     "end_time": "2021-05-14T18:13:55.795684Z",
     "start_time": "2021-05-14T18:13:55.791357Z"
    }
   },
   "outputs": [],
   "source": [
    "def iqr(data,x,p=0.3):\n",
    "    dim_before = len(data)\n",
    "    var = data[x]\n",
    "    q1 = var.quantile(p/2)\n",
    "    q3 = var.quantile(1-p/2)\n",
    "    iqr = q3 - q1\n",
    "    data = data[(var.isnull()) | ((var >= q1 - 1.5*iqr) & (var <= q3 + 1.5*iqr))]\n",
    "    print(f'There are {\"{:.1%}\".format(len(data)/dim_before)}% of the previous rows')\n",
    "    return data"
   ]
  },
  {
   "cell_type": "code",
   "execution_count": 6,
   "id": "31231218",
   "metadata": {
    "ExecuteTime": {
     "end_time": "2021-05-14T18:13:58.695625Z",
     "start_time": "2021-05-14T18:13:55.797781Z"
    }
   },
   "outputs": [
    {
     "name": "stdout",
     "output_type": "stream",
     "text": [
      "\n",
      "Original:\t\t I am going to run!!! I ran while I was running??? ...\n",
      "Basic cleaning:\t\t I am going to run I ran while I was running\n",
      "Changing the pattern:\t I am going to run!!! I ran while I was running ...\n",
      "Without stopwords:\t going run ran running\n",
      "Lower and lemma:\t i be go to run i run while i be run\n",
      "Super cleaning:\t\t run\n",
      "\n",
      "It actually corrects the weird accents, example\n",
      "\tFROM:\t ThÈ ÉfrâïsMã's?...\n",
      "\tTO:\t the efraisma's\n"
     ]
    }
   ],
   "source": [
    "#Uncomment the following lines if it's the first time you run this packages\n",
    "'''\n",
    "!pip install nltk\n",
    "import nltk\n",
    "nltk.download('stopwords')\n",
    "nltk.download('wordnet')\n",
    "'''\n",
    "import re\n",
    "import unicodedata\n",
    "from nltk.corpus import stopwords\n",
    "from nltk.stem import WordNetLemmatizer\n",
    "\n",
    "lem = WordNetLemmatizer()\n",
    "\n",
    "def clean_text(text,\n",
    "               language='english',pattern=\"[^a-zA-Z' ]\",\n",
    "               lower=False,lemma=False,rem_stopw=False,unique=False,\n",
    "               add_stopw=[]):\n",
    "    #It clean and can remove stopwords or even lemmatize words if specified in params\n",
    "    cleaned_text = unicodedata.normalize('NFD',str(text).replace('\\n','')).encode('ascii', 'ignore')\n",
    "    cleaned_text = re.sub(pattern,' ',cleaned_text.decode('utf-8'),flags=re.UNICODE)\n",
    "    cleaned_text = [(lem.lemmatize(word,pos='v') if lemma else word) for word in \n",
    "                    (cleaned_text.lower().split() if lower else cleaned_text.split())]\n",
    "    if rem_stopw: cleaned_text = [word for word in cleaned_text if word.lower() not in \n",
    "                                  stopwords.words(language)+add_stopw]\n",
    "    return ' '.join((set(cleaned_text) if unique else cleaned_text))\n",
    "\n",
    "#Ex\n",
    "ex = \"I am going to run!!! I ran while I was running??? ...\"\n",
    "print('\\nOriginal:\\t\\t',ex)\n",
    "print('Basic cleaning:\\t\\t',clean_text(ex))\n",
    "print('Changing the pattern:\\t',clean_text(ex,pattern=\"[^a-zA-Z!\\.]\"))\n",
    "print('Without stopwords:\\t',clean_text(ex,rem_stopw=True))\n",
    "print('Lower and lemma:\\t',clean_text(ex,lower=True,lemma=True))\n",
    "print('Super cleaning:\\t\\t',clean_text(ex,add_stopw=['go'],lower=True,rem_stopw=True,lemma=True,unique=True))\n",
    "print(\"\\nIt actually corrects the weird accents, example\\n\\tFROM:\\t ThÈ ÉfrâïsMã's?...\\n\\tTO:\\t\",clean_text(\"ThÈ ÉfrâïsMa's?...\",lower=True))"
   ]
  },
  {
   "cell_type": "code",
   "execution_count": 7,
   "id": "98035005",
   "metadata": {
    "ExecuteTime": {
     "end_time": "2021-05-14T18:13:58.750920Z",
     "start_time": "2021-05-14T18:13:58.697548Z"
    }
   },
   "outputs": [
    {
     "name": "stdout",
     "output_type": "stream",
     "text": [
      "{'neg': 0.0, 'neu': 0.192, 'pos': 0.808, 'compound': 0.6369}\n",
      "{'neg': 0.787, 'neu': 0.213, 'pos': 0.0, 'compound': -0.5719}\n",
      "{'neg': 0.0, 'neu': 0.476, 'pos': 0.524, 'compound': 0.296}\n"
     ]
    }
   ],
   "source": [
    "from nltk import sent_tokenize\n",
    "from nltk.sentiment.vader import SentimentIntensityAnalyzer\n",
    "\n",
    "def sentiment(text):\n",
    "    sid = SentimentIntensityAnalyzer()\n",
    "    try: list(map(sid.polarity_scores,sent_tokenize(text)))[0]\n",
    "    except: sentences = sent_tokenize('a')\n",
    "    else: sentences = sent_tokenize(text)\n",
    "    res = map(sid.polarity_scores, sentences)\n",
    "    return list(res)[0]\n",
    "\n",
    "print(sentiment('I love it'))\n",
    "print(sentiment('I hate it'))\n",
    "print(sentiment('It is ok'))"
   ]
  },
  {
   "cell_type": "code",
   "execution_count": 64,
   "id": "f08e0a64",
   "metadata": {
    "ExecuteTime": {
     "end_time": "2021-05-14T22:00:59.779598Z",
     "start_time": "2021-05-14T22:00:59.769003Z"
    }
   },
   "outputs": [],
   "source": [
    "from sklearn.ensemble import IsolationForest\n",
    "\n",
    "def outliers(data,cols,p=0.04):\n",
    "    df = data.copy()\n",
    "    dim_before = len(df)\n",
    "    outlier = IsolationForest(contamination=p,n_jobs=-1)\n",
    "    df['outlier'] = outlier.fit_predict(df[cols])\n",
    "    df = df[df['outlier']!=-1].drop(columns = 'outlier')\n",
    "    print(f'There are {\"{:.1%}\".format(len(df)/dim_before)}% of the previous rows')\n",
    "    return df"
   ]
  },
  {
   "cell_type": "markdown",
   "id": "1bf6b307",
   "metadata": {},
   "source": [
    "!pip install tensorflow\n",
    "from tensorflow.keras.preprocessing.text import Tokenizer\n",
    "#The tutorial for Transfer Embedding is right here!\n",
    "#  https://keras.io/examples/nlp/pretrained_word_embeddings/\n",
    "\n",
    "#If you're running this in GColab, uncomment the following lines to unzip the GloVe embeddings\n",
    "#  (more info about GloVe at https://nlp.stanford.edu/projects/glove/),\n",
    "#  but if you're working locally, move the files from the zip to your base_dir\n",
    "\n",
    "'''!wget http://nlp.stanford.edu/data/glove.6B.zip \n",
    "!unzip -q glove.6B.zip'''\n",
    "\n",
    "def transfer_embedding(base_dir,fitted_tokenizer,embedding_dim_out):\n",
    "    #Get the pre-trained vectors as a dict\n",
    "    emb_dict = {}\n",
    "    with open(os.path.join(base_dir,f'glove.6B.{embedding_dim_out}d.txt')) as f:\n",
    "        for line in f:\n",
    "            #Each line is a word with its coef sep by \\s\n",
    "            word, coefs = line.split(maxsplit=1)\n",
    "            #Like .split() transforming strings into an array\n",
    "            coefs = np.fromstring(coefs,'f',sep=' ')\n",
    "            #Update the dict with a new word and its coef\n",
    "            emb_dict[word] = coefs\n",
    "    #Keep track of the not-found words\n",
    "    misses = 0\n",
    "    #Build a matrix full of zeros\n",
    "    total_words = fitted_tokenizer.word_index\n",
    "    words_matrix = np.zeros((len(total_words),embedding_dim_out))\n",
    "    #Loop over the words-indexes...\n",
    "    for word, i in total_words.items():\n",
    "        #... to get its pre-trained value\n",
    "        try: word_vector = emb_dict[word]\n",
    "        #Some words won't be found, keep the zeros-vector\n",
    "        except: misses += 1\n",
    "        #Finally, transfer the pre-trained vector\n",
    "        else: words_matrix[i-1] = word_vector\n",
    "    print(f'Transfered {\"{:.1%}\".format(1-misses/len(total_words))}% of {len(total_words)} words, just {misses} were not found.')\n",
    "    #Returns the dict_index of every word and other dict with its embedding\n",
    "    return total_words,dict(zip(total_words.keys(),words_matrix))"
   ]
  },
  {
   "cell_type": "markdown",
   "id": "e09a946f",
   "metadata": {},
   "source": [
    "## Transform"
   ]
  },
  {
   "cell_type": "markdown",
   "id": "7d6042b6",
   "metadata": {
    "heading_collapsed": true
   },
   "source": [
    "### Occurance"
   ]
  },
  {
   "cell_type": "code",
   "execution_count": 8,
   "id": "9f9f8795",
   "metadata": {
    "ExecuteTime": {
     "end_time": "2021-05-14T18:13:58.850485Z",
     "start_time": "2021-05-14T18:13:58.756780Z"
    },
    "hidden": true
   },
   "outputs": [
    {
     "name": "stdout",
     "output_type": "stream",
     "text": [
      "166 10/10/2005 24:00\n",
      "316 10/11/1994 24:00\n",
      "417 10/11/2006 24:00\n",
      "487 10/11/2012 24:00\n",
      "567 10/1/1972 24:00\n"
     ]
    }
   ],
   "source": [
    "#Errors because %H just accepts 0-23\n",
    "n=0\n",
    "for i,hr in enumerate(df['occurance']):\n",
    "    try:\n",
    "        pd.to_datetime(hr,format='%m/%d/%Y %H:%M')\n",
    "    except:\n",
    "        print(i,hr)\n",
    "        n += 1\n",
    "        if n>4: break"
   ]
  },
  {
   "cell_type": "code",
   "execution_count": 9,
   "id": "ff80ef5b",
   "metadata": {
    "ExecuteTime": {
     "end_time": "2021-05-14T18:14:18.428550Z",
     "start_time": "2021-05-14T18:13:58.853777Z"
    },
    "hidden": true
   },
   "outputs": [
    {
     "name": "stdout",
     "output_type": "stream",
     "text": [
      "10/10/2005 24:00\n",
      "2005-10-11 00:00:00\n"
     ]
    }
   ],
   "source": [
    "import re\n",
    "import datetime\n",
    "\n",
    "aux = []\n",
    "correct_hr = []\n",
    "for x in df['occurance']:\n",
    "    try:\n",
    "        hr = pd.to_datetime(x)\n",
    "        aux.append(0)\n",
    "    except:\n",
    "        hr = pd.to_datetime(re.sub('\\s24',' 00',str(x)))\n",
    "        aux.append(1)\n",
    "    finally:\n",
    "        correct_hr.append(hr)\n",
    "        \n",
    "print(df.iloc[166,0])\n",
    "print((pd.Series(correct_hr) + pd.Series([datetime.timedelta(x) for x in aux]))[166])\n",
    "df['occurance'] = pd.Series(correct_hr) + pd.Series([datetime.timedelta(x) for x in aux])"
   ]
  },
  {
   "cell_type": "markdown",
   "id": "f74fe390",
   "metadata": {
    "heading_collapsed": true
   },
   "source": [
    "### Shape"
   ]
  },
  {
   "cell_type": "code",
   "execution_count": 10,
   "id": "93c50dc4",
   "metadata": {
    "ExecuteTime": {
     "end_time": "2021-05-14T18:14:18.443861Z",
     "start_time": "2021-05-14T18:14:18.430101Z"
    },
    "hidden": true
   },
   "outputs": [],
   "source": [
    "df.drop(columns=['city','citystate','country'],inplace=True)"
   ]
  },
  {
   "cell_type": "code",
   "execution_count": 11,
   "id": "8725f9ce",
   "metadata": {
    "ExecuteTime": {
     "end_time": "2021-05-14T18:14:18.498235Z",
     "start_time": "2021-05-14T18:14:18.447150Z"
    },
    "hidden": true
   },
   "outputs": [
    {
     "data": {
      "text/plain": [
       "other   0.7079\n",
       "light   0.2921\n",
       "Name: ufoshape, dtype: float64"
      ]
     },
     "execution_count": 11,
     "metadata": {},
     "output_type": "execute_result"
    }
   ],
   "source": [
    "df['ufoshape'] = ['light' if x in ['light','fireball','flash','flare'] else 'other' for x in df['ufoshape']]\n",
    "df['ufoshape'].value_counts(1)"
   ]
  },
  {
   "cell_type": "markdown",
   "id": "445d38fc",
   "metadata": {
    "heading_collapsed": true
   },
   "source": [
    "### Duration"
   ]
  },
  {
   "cell_type": "code",
   "execution_count": 12,
   "id": "617f2928",
   "metadata": {
    "ExecuteTime": {
     "end_time": "2021-05-14T18:14:18.627607Z",
     "start_time": "2021-05-14T18:14:18.501995Z"
    },
    "hidden": true
   },
   "outputs": [
    {
     "data": {
      "text/plain": [
       "count      88677.0000\n",
       "mean        8392.9194\n",
       "std       591146.7320\n",
       "min            0.0000\n",
       "0%             0.0000\n",
       "10%            2.0000\n",
       "20%           10.0000\n",
       "30%           30.0000\n",
       "40%           60.0000\n",
       "50%          120.0000\n",
       "60%          300.0000\n",
       "70%          420.0000\n",
       "80%          900.0000\n",
       "90%         1800.0000\n",
       "max     97836000.0000\n",
       "Name: dseconds, dtype: float64"
      ]
     },
     "execution_count": 12,
     "metadata": {},
     "output_type": "execute_result"
    }
   ],
   "source": [
    "df['dseconds'] = df['dseconds'].astype(str).apply(lambda x: re.sub('[^\\d]','',x)\n",
    "                                                 ).replace('',np.nan).astype(float)\n",
    "df['dseconds'].describe([i/10 for i in range(10)])"
   ]
  },
  {
   "cell_type": "code",
   "execution_count": 13,
   "id": "db37f416",
   "metadata": {
    "ExecuteTime": {
     "end_time": "2021-05-14T18:14:19.358371Z",
     "start_time": "2021-05-14T18:14:18.629649Z"
    },
    "hidden": true,
    "scrolled": true
   },
   "outputs": [
    {
     "name": "stdout",
     "output_type": "stream",
     "text": [
      "There are 93.6%% of the previous rows\n"
     ]
    },
    {
     "data": {
      "text/plain": [
       "<AxesSubplot:>"
      ]
     },
     "execution_count": 13,
     "metadata": {},
     "output_type": "execute_result"
    },
    {
     "data": {
      "image/png": "[encoded data removed]",
      "text/plain": [
       "<Figure size 432x288 with 1 Axes>"
      ]
     },
     "metadata": {
      "needs_background": "light"
     },
     "output_type": "display_data"
    }
   ],
   "source": [
    "import matplotlib.pyplot as plt\n",
    "df = iqr(df,'dseconds')\n",
    "df['dseconds'].hist()"
   ]
  },
  {
   "cell_type": "code",
   "execution_count": 14,
   "id": "581f7256",
   "metadata": {
    "ExecuteTime": {
     "end_time": "2021-05-14T18:14:19.403775Z",
     "start_time": "2021-05-14T18:14:19.360371Z"
    },
    "hidden": true
   },
   "outputs": [
    {
     "data": {
      "text/plain": [
       "more_hr   0.6272\n",
       "less_hr   0.2882\n",
       "unkown    0.0846\n",
       "Name: duration, dtype: float64"
      ]
     },
     "execution_count": 14,
     "metadata": {},
     "output_type": "execute_result"
    }
   ],
   "source": [
    "aux = []\n",
    "for x in df['dseconds']:\n",
    "    if x in [0.0,np.nan]: aux.append('unkown')\n",
    "    elif x <60: aux.append('less_hr')\n",
    "    else: aux.append('more_hr')\n",
    "df['duration'] = aux\n",
    "df['duration'].value_counts(1)"
   ]
  },
  {
   "cell_type": "markdown",
   "id": "625bc9a4",
   "metadata": {
    "heading_collapsed": true
   },
   "source": [
    "### Description"
   ]
  },
  {
   "cell_type": "code",
   "execution_count": 15,
   "id": "2a1fe4cb",
   "metadata": {
    "ExecuteTime": {
     "end_time": "2021-05-14T18:26:18.775293Z",
     "start_time": "2021-05-14T18:14:19.405650Z"
    },
    "hidden": true
   },
   "outputs": [
    {
     "data": {
      "text/html": [
       "<div>\n",
       "<style scoped>\n",
       "    .dataframe tbody tr th:only-of-type {\n",
       "        vertical-align: middle;\n",
       "    }\n",
       "\n",
       "    .dataframe tbody tr th {\n",
       "        vertical-align: top;\n",
       "    }\n",
       "\n",
       "    .dataframe thead th {\n",
       "        text-align: right;\n",
       "    }\n",
       "</style>\n",
       "<table border=\"1\" class=\"dataframe\">\n",
       "  <thead>\n",
       "    <tr style=\"text-align: right;\">\n",
       "      <th></th>\n",
       "      <th>occurance</th>\n",
       "      <th>ufoshape</th>\n",
       "      <th>dseconds</th>\n",
       "      <th>duration</th>\n",
       "      <th>description</th>\n",
       "      <th>report_date</th>\n",
       "      <th>lat</th>\n",
       "      <th>long</th>\n",
       "      <th>clean</th>\n",
       "      <th>min_text</th>\n",
       "      <th>length</th>\n",
       "      <th>relevance</th>\n",
       "      <th>neg</th>\n",
       "      <th>neu</th>\n",
       "      <th>pos</th>\n",
       "      <th>compound</th>\n",
       "    </tr>\n",
       "  </thead>\n",
       "  <tbody>\n",
       "    <tr>\n",
       "      <th>81622</th>\n",
       "      <td>2004-09-12 11:11:00</td>\n",
       "      <td>other</td>\n",
       "      <td>10.0000</td>\n",
       "      <td>less_hr</td>\n",
       "      <td>Cigar shaped object with two lights over Seattle</td>\n",
       "      <td>9/29/2004</td>\n",
       "      <td>47.6063889</td>\n",
       "      <td>-122.3308</td>\n",
       "      <td>cigar shaped object with two lights over seattle</td>\n",
       "      <td>object shape light cigar two seattle a</td>\n",
       "      <td>48</td>\n",
       "      <td>0.7917</td>\n",
       "      <td>0.0000</td>\n",
       "      <td>1.0000</td>\n",
       "      <td>0.0000</td>\n",
       "      <td>0.0000</td>\n",
       "    </tr>\n",
       "  </tbody>\n",
       "</table>\n",
       "</div>"
      ],
      "text/plain": [
       "                occurance ufoshape  dseconds duration  \\\n",
       "81622 2004-09-12 11:11:00    other   10.0000  less_hr   \n",
       "\n",
       "                                            description report_date  \\\n",
       "81622  Cigar shaped object with two lights over Seattle   9/29/2004   \n",
       "\n",
       "              lat      long                                             clean  \\\n",
       "81622  47.6063889 -122.3308  cigar shaped object with two lights over seattle   \n",
       "\n",
       "                                     min_text  length  relevance    neg  \\\n",
       "81622  object shape light cigar two seattle a      48     0.7917 0.0000   \n",
       "\n",
       "         neu    pos  compound  \n",
       "81622 1.0000 0.0000    0.0000  "
      ]
     },
     "execution_count": 15,
     "metadata": {},
     "output_type": "execute_result"
    }
   ],
   "source": [
    "df['clean'] = df['description'].apply(lambda x: clean_text(x,lower=True))\n",
    "df['min_text'] = df['description'].apply(lambda x: clean_text(x,lower=True,lemma=True,\n",
    "                                                           rem_stopw=True,unique=True)+' a')\n",
    "df['length'] = df['clean'].apply(len)\n",
    "df['relevance'] = df['min_text'].apply(len) / (df['length']+1e-10)\n",
    "#df = df.join(pd.DataFrame(list(map(sentiment,df['clean'])),index=df.index))\n",
    "df.sample()"
   ]
  },
  {
   "cell_type": "code",
   "execution_count": 16,
   "id": "5cbbc6d2",
   "metadata": {
    "ExecuteTime": {
     "end_time": "2021-05-14T18:26:20.009035Z",
     "start_time": "2021-05-14T18:26:18.781041Z"
    },
    "hidden": true
   },
   "outputs": [],
   "source": [
    "#BACKUP because last cell runs in ~12min\n",
    "#df.to_csv(os.path.join(BASE_DIR,'ufo_sentim.csv'),index=False)"
   ]
  },
  {
   "cell_type": "markdown",
   "id": "22523675",
   "metadata": {},
   "source": [
    "### Report date"
   ]
  },
  {
   "cell_type": "code",
   "execution_count": 82,
   "id": "075e2ef4",
   "metadata": {
    "ExecuteTime": {
     "end_time": "2021-05-14T22:05:28.322579Z",
     "start_time": "2021-05-14T22:05:27.580999Z"
    }
   },
   "outputs": [
    {
     "name": "stderr",
     "output_type": "stream",
     "text": [
      "/Library/Frameworks/Python.framework/Versions/3.9/lib/python3.9/site-packages/IPython/core/interactiveshell.py:3169: DtypeWarning: Columns (6) have mixed types.Specify dtype option on import or set low_memory=False.\n",
      "  has_raised = await self.run_ast_nodes(code_ast.body, cell_name,\n"
     ]
    },
    {
     "data": {
      "text/plain": [
       "count   82986.0000\n",
       "mean     1189.9622\n",
       "std      3294.4459\n",
       "min         0.0000\n",
       "0%          0.0000\n",
       "10%         3.0000\n",
       "20%         7.0000\n",
       "30%        11.0000\n",
       "40%        17.0000\n",
       "50%        26.0000\n",
       "60%        41.0000\n",
       "70%        72.0000\n",
       "80%       479.0000\n",
       "90%      3703.5000\n",
       "max     34955.0000\n",
       "Name: report_date, dtype: float64"
      ]
     },
     "execution_count": 82,
     "metadata": {},
     "output_type": "execute_result"
    }
   ],
   "source": [
    "df = pd.read_csv(os.path.join(BASE_DIR,'ufo_sentim.csv')).dropna()\n",
    "df['occurance'] = pd.to_datetime(df['occurance'])\n",
    "df['report_date'] = pd.to_datetime(df['report_date'])\n",
    "df['report_date'] = ((df['report_date']-df['occurance'])/np.timedelta64(1,'D')).astype(int)\n",
    "df = df[df['report_date']>=0].copy()\n",
    "df['report_date'].describe([i/10 for i in range(10)])"
   ]
  },
  {
   "cell_type": "code",
   "execution_count": 83,
   "id": "f1b9f947",
   "metadata": {
    "ExecuteTime": {
     "end_time": "2021-05-14T22:05:32.841630Z",
     "start_time": "2021-05-14T22:05:32.725112Z"
    }
   },
   "outputs": [
    {
     "data": {
      "text/plain": [
       "21     0.2315\n",
       "0      0.1995\n",
       "1000   0.1708\n",
       "60     0.1568\n",
       "7      0.1482\n",
       "14     0.0933\n",
       "Name: report_date, dtype: float64"
      ]
     },
     "execution_count": 83,
     "metadata": {},
     "output_type": "execute_result"
    }
   ],
   "source": [
    "df['report_date'] = [int(x.left) for x in pd.cut(df['report_date'],\n",
    "                                                 bins=[0,7,14,21,60,1000,1e6],\n",
    "                                                 right=False)]\n",
    "df['report_date'].value_counts(1)"
   ]
  },
  {
   "cell_type": "markdown",
   "id": "7bc32fe3",
   "metadata": {},
   "source": [
    "## Location"
   ]
  },
  {
   "cell_type": "code",
   "execution_count": 86,
   "id": "b3a7d046",
   "metadata": {
    "ExecuteTime": {
     "end_time": "2021-05-14T22:06:46.581690Z",
     "start_time": "2021-05-14T22:06:46.120279Z"
    }
   },
   "outputs": [
    {
     "data": {
      "text/plain": [
       "<matplotlib.collections.PathCollection at 0x7fd1f5aad2b0>"
      ]
     },
     "execution_count": 86,
     "metadata": {},
     "output_type": "execute_result"
    },
    {
     "data": {
      "image/png": "[encoded data removed]",
      "text/plain": [
       "<Figure size 432x288 with 1 Axes>"
      ]
     },
     "metadata": {
      "needs_background": "light"
     },
     "output_type": "display_data"
    }
   ],
   "source": [
    "df['lat'] = df['lat'].apply(lambda x:re.sub('[^\\d\\.]','',str(x))).astype(float)\n",
    "df = df[df['lat']!=0].copy()\n",
    "#df = outliers(df,['lat','long'],p=0.02)\n",
    "plt.scatter(df['lat'],df['long'])"
   ]
  },
  {
   "cell_type": "markdown",
   "id": "04fa60de",
   "metadata": {},
   "source": [
    "## TAD"
   ]
  },
  {
   "cell_type": "code",
   "execution_count": 87,
   "id": "7d6af947",
   "metadata": {
    "ExecuteTime": {
     "end_time": "2021-05-14T22:07:01.789132Z",
     "start_time": "2021-05-14T22:07:01.771876Z"
    }
   },
   "outputs": [
    {
     "data": {
      "text/html": [
       "<div>\n",
       "<style scoped>\n",
       "    .dataframe tbody tr th:only-of-type {\n",
       "        vertical-align: middle;\n",
       "    }\n",
       "\n",
       "    .dataframe tbody tr th {\n",
       "        vertical-align: top;\n",
       "    }\n",
       "\n",
       "    .dataframe thead th {\n",
       "        text-align: right;\n",
       "    }\n",
       "</style>\n",
       "<table border=\"1\" class=\"dataframe\">\n",
       "  <thead>\n",
       "    <tr style=\"text-align: right;\">\n",
       "      <th></th>\n",
       "      <th>occurance</th>\n",
       "      <th>ufoshape</th>\n",
       "      <th>dseconds</th>\n",
       "      <th>duration</th>\n",
       "      <th>description</th>\n",
       "      <th>report_date</th>\n",
       "      <th>lat</th>\n",
       "      <th>long</th>\n",
       "      <th>clean</th>\n",
       "      <th>min_text</th>\n",
       "      <th>length</th>\n",
       "      <th>relevance</th>\n",
       "      <th>neg</th>\n",
       "      <th>neu</th>\n",
       "      <th>pos</th>\n",
       "      <th>compound</th>\n",
       "    </tr>\n",
       "  </thead>\n",
       "  <tbody>\n",
       "    <tr>\n",
       "      <th>74254</th>\n",
       "      <td>2013-08-05 09:28:00</td>\n",
       "      <td>other</td>\n",
       "      <td>480.0000</td>\n",
       "      <td>more_hr</td>\n",
       "      <td>I was driving to work for to differents days M...</td>\n",
       "      <td>21</td>\n",
       "      <td>39.7589</td>\n",
       "      <td>-84.1917</td>\n",
       "      <td>i was driving to work for to differents days m...</td>\n",
       "      <td>differents drive color move monday see without...</td>\n",
       "      <td>118</td>\n",
       "      <td>0.6102</td>\n",
       "      <td>0.0000</td>\n",
       "      <td>1.0000</td>\n",
       "      <td>0.0000</td>\n",
       "      <td>0.0000</td>\n",
       "    </tr>\n",
       "  </tbody>\n",
       "</table>\n",
       "</div>"
      ],
      "text/plain": [
       "                occurance ufoshape  dseconds duration  \\\n",
       "74254 2013-08-05 09:28:00    other  480.0000  more_hr   \n",
       "\n",
       "                                             description  report_date     lat  \\\n",
       "74254  I was driving to work for to differents days M...           21 39.7589   \n",
       "\n",
       "          long                                              clean  \\\n",
       "74254 -84.1917  i was driving to work for to differents days m...   \n",
       "\n",
       "                                                min_text  length  relevance  \\\n",
       "74254  differents drive color move monday see without...     118     0.6102   \n",
       "\n",
       "         neg    neu    pos  compound  \n",
       "74254 0.0000 1.0000 0.0000    0.0000  "
      ]
     },
     "execution_count": 87,
     "metadata": {},
     "output_type": "execute_result"
    }
   ],
   "source": [
    "df.sample()"
   ]
  },
  {
   "cell_type": "code",
   "execution_count": 91,
   "id": "c5a6c042",
   "metadata": {
    "ExecuteTime": {
     "end_time": "2021-05-14T22:10:26.092897Z",
     "start_time": "2021-05-14T22:10:26.083650Z"
    }
   },
   "outputs": [
    {
     "data": {
      "text/plain": [
       "('faa controller airline employees witness very bright objects streaking n to s in western sky no radar returns exclnt report',\n",
       " 'airline witness radar object western report bright exclnt sky streak n employees controller faa return a')"
      ]
     },
     "execution_count": 91,
     "metadata": {},
     "output_type": "execute_result"
    }
   ],
   "source": [
    "df.iloc[74254,:]['clean'],df.iloc[74254,:]['min_text']"
   ]
  },
  {
   "cell_type": "code",
   "execution_count": null,
   "id": "16aca68e",
   "metadata": {},
   "outputs": [],
   "source": []
  },
  {
   "cell_type": "markdown",
   "id": "c097bd04",
   "metadata": {},
   "source": [
    "## End"
   ]
  },
  {
   "cell_type": "code",
   "execution_count": null,
   "id": "37766442",
   "metadata": {
    "ExecuteTime": {
     "end_time": "2021-05-14T18:26:20.488855Z",
     "start_time": "2021-05-14T18:13:57.855Z"
    }
   },
   "outputs": [],
   "source": [
    "time_exp(time.time() - start)\n",
    "tone()"
   ]
  }
 ],
 "metadata": {
  "kernelspec": {
   "display_name": "Python 3",
   "language": "python",
   "name": "python3"
  },
  "language_info": {
   "codemirror_mode": {
    "name": "ipython",
    "version": 3
   },
   "file_extension": ".py",
   "mimetype": "text/x-python",
   "name": "python",
   "nbconvert_exporter": "python",
   "pygments_lexer": "ipython3",
   "version": "3.9.1"
  },
  "toc": {
   "base_numbering": 1,
   "nav_menu": {},
   "number_sections": true,
   "sideBar": true,
   "skip_h1_title": true,
   "title_cell": "Table of Contents",
   "title_sidebar": "Contents",
   "toc_cell": false,
   "toc_position": {},
   "toc_section_display": true,
   "toc_window_display": true
  },
  "varInspector": {
   "cols": {
    "lenName": 16,
    "lenType": 16,
    "lenVar": 40
   },
   "kernels_config": {
    "python": {
     "delete_cmd_postfix": "",
     "delete_cmd_prefix": "del ",
     "library": "var_list.py",
     "varRefreshCmd": "print(var_dic_list())"
    },
    "r": {
     "delete_cmd_postfix": ") ",
     "delete_cmd_prefix": "rm(",
     "library": "var_list.r",
     "varRefreshCmd": "cat(var_dic_list()) "
    }
   },
   "types_to_exclude": [
    "module",
    "function",
    "builtin_function_or_method",
    "instance",
    "_Feature"
   ],
   "window_display": false
  }
 },
 "nbformat": 4,
 "nbformat_minor": 5
}
