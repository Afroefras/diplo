{
 "cells": [
  {
   "cell_type": "markdown",
   "id": "3208bd07",
   "metadata": {},
   "source": [
    "# UFO"
   ]
  },
  {
   "cell_type": "markdown",
   "id": "d033220d",
   "metadata": {
    "heading_collapsed": true
   },
   "source": [
    "## Import"
   ]
  },
  {
   "cell_type": "code",
   "execution_count": 1,
   "id": "67e59250",
   "metadata": {
    "ExecuteTime": {
     "end_time": "2021-05-15T16:06:28.922177Z",
     "start_time": "2021-05-15T16:06:28.919064Z"
    },
    "hidden": true
   },
   "outputs": [],
   "source": [
    "import sys\n",
    "sys.path.append('/Users/efraflores/Desktop/hub/diplo/venv/lib/python3.9/site-packages')"
   ]
  },
  {
   "cell_type": "code",
   "execution_count": 2,
   "id": "b18986c7",
   "metadata": {
    "ExecuteTime": {
     "end_time": "2021-05-15T16:06:28.928862Z",
     "start_time": "2021-05-15T16:06:28.925015Z"
    },
    "hidden": true
   },
   "outputs": [
    {
     "name": "stdout",
     "output_type": "stream",
     "text": [
      "['0501_cred.json', '.DS_Store', '0501_untitled.csv', 'ufo_sentim.csv', '0502_ufo_data.csv']\n"
     ]
    }
   ],
   "source": [
    "import os\n",
    "\n",
    "BASE_DIR = '/Users/efraflores/Desktop/EF/Diplo/data/05'\n",
    "FILE_NAME = '0502_ufo_data.csv'\n",
    "print(os.listdir(BASE_DIR))"
   ]
  },
  {
   "cell_type": "code",
   "execution_count": 3,
   "id": "767b5dcd",
   "metadata": {
    "ExecuteTime": {
     "end_time": "2021-05-15T16:06:29.723537Z",
     "start_time": "2021-05-15T16:06:28.931550Z"
    },
    "hidden": true
   },
   "outputs": [
    {
     "name": "stderr",
     "output_type": "stream",
     "text": [
      "b'Skipping line 878: expected 11 fields, saw 12\\nSkipping line 1713: expected 11 fields, saw 12\\nSkipping line 1815: expected 11 fields, saw 12\\nSkipping line 2858: expected 11 fields, saw 12\\nSkipping line 3734: expected 11 fields, saw 12\\nSkipping line 4756: expected 11 fields, saw 12\\nSkipping line 5389: expected 11 fields, saw 12\\nSkipping line 5423: expected 11 fields, saw 12\\nSkipping line 5614: expected 11 fields, saw 12\\nSkipping line 5849: expected 11 fields, saw 12\\nSkipping line 6093: expected 11 fields, saw 12\\nSkipping line 7516: expected 11 fields, saw 12\\nSkipping line 7626: expected 11 fields, saw 12\\nSkipping line 8893: expected 11 fields, saw 12\\nSkipping line 9015: expected 11 fields, saw 12\\nSkipping line 9571: expected 11 fields, saw 12\\nSkipping line 9620: expected 11 fields, saw 12\\nSkipping line 9751: expected 11 fields, saw 12\\nSkipping line 10157: expected 11 fields, saw 12\\nSkipping line 10427: expected 11 fields, saw 12\\nSkipping line 12035: expected 11 fields, saw 12\\nSkipping line 12113: expected 11 fields, saw 12\\nSkipping line 12144: expected 11 fields, saw 12\\nSkipping line 12891: expected 11 fields, saw 12\\nSkipping line 14613: expected 11 fields, saw 12\\nSkipping line 16031: expected 11 fields, saw 12\\nSkipping line 16344: expected 11 fields, saw 12\\nSkipping line 16399: expected 11 fields, saw 12\\nSkipping line 16635: expected 11 fields, saw 12\\nSkipping line 16722: expected 11 fields, saw 12\\nSkipping line 18241: expected 11 fields, saw 12\\nSkipping line 18367: expected 11 fields, saw 12\\nSkipping line 18479: expected 11 fields, saw 12\\nSkipping line 19814: expected 11 fields, saw 12\\nSkipping line 19859: expected 11 fields, saw 12\\nSkipping line 19909: expected 11 fields, saw 12\\nSkipping line 19935: expected 11 fields, saw 12\\nSkipping line 20386: expected 11 fields, saw 12\\nSkipping line 20533: expected 11 fields, saw 12\\nSkipping line 20764: expected 11 fields, saw 12\\nSkipping line 21145: expected 11 fields, saw 12\\nSkipping line 21291: expected 11 fields, saw 12\\nSkipping line 21309: expected 11 fields, saw 12\\nSkipping line 21576: expected 11 fields, saw 12\\nSkipping line 21966: expected 11 fields, saw 12\\nSkipping line 22092: expected 11 fields, saw 12\\nSkipping line 22108: expected 11 fields, saw 12\\nSkipping line 22236: expected 11 fields, saw 12\\nSkipping line 22785: expected 11 fields, saw 12\\nSkipping line 23143: expected 11 fields, saw 12\\nSkipping line 23145: expected 11 fields, saw 12\\nSkipping line 23251: expected 11 fields, saw 12\\nSkipping line 23369: expected 11 fields, saw 12\\nSkipping line 23464: expected 11 fields, saw 12\\nSkipping line 23622: expected 11 fields, saw 12\\nSkipping line 23732: expected 11 fields, saw 12\\nSkipping line 23924: expected 11 fields, saw 12\\nSkipping line 24696: expected 11 fields, saw 12\\nSkipping line 25543: expected 11 fields, saw 12\\nSkipping line 25703: expected 11 fields, saw 12\\nSkipping line 25815: expected 11 fields, saw 12\\nSkipping line 26185: expected 11 fields, saw 12\\nSkipping line 27424: expected 11 fields, saw 12\\nSkipping line 27465: expected 11 fields, saw 12\\nSkipping line 28083: expected 11 fields, saw 12\\nSkipping line 28282: expected 11 fields, saw 12\\nSkipping line 28460: expected 11 fields, saw 12\\nSkipping line 28745: expected 11 fields, saw 12\\nSkipping line 29674: expected 11 fields, saw 12\\nSkipping line 30342: expected 11 fields, saw 12\\nSkipping line 30417: expected 11 fields, saw 12\\nSkipping line 31154: expected 11 fields, saw 12\\nSkipping line 31308: expected 11 fields, saw 12\\nSkipping line 32198: expected 11 fields, saw 12\\nSkipping line 32439: expected 11 fields, saw 12\\nSkipping line 32675: expected 11 fields, saw 12\\nSkipping line 33134: expected 11 fields, saw 12\\nSkipping line 33442: expected 11 fields, saw 12\\nSkipping line 34184: expected 11 fields, saw 12\\nSkipping line 34731: expected 11 fields, saw 12\\nSkipping line 34869: expected 11 fields, saw 12\\nSkipping line 35107: expected 11 fields, saw 12\\nSkipping line 35300: expected 11 fields, saw 12\\nSkipping line 35396: expected 11 fields, saw 12\\nSkipping line 35913: expected 11 fields, saw 12\\nSkipping line 36445: expected 11 fields, saw 12\\nSkipping line 36693: expected 11 fields, saw 12\\nSkipping line 36723: expected 11 fields, saw 12\\nSkipping line 37293: expected 11 fields, saw 12\\nSkipping line 37361: expected 11 fields, saw 12\\nSkipping line 37980: expected 11 fields, saw 12\\nSkipping line 38090: expected 11 fields, saw 12\\nSkipping line 38197: expected 11 fields, saw 12\\nSkipping line 39431: expected 11 fields, saw 12\\nSkipping line 39598: expected 11 fields, saw 12\\nSkipping line 39679: expected 11 fields, saw 12\\nSkipping line 39794: expected 11 fields, saw 12\\nSkipping line 40021: expected 11 fields, saw 12\\nSkipping line 40430: expected 11 fields, saw 12\\nSkipping line 42858: expected 11 fields, saw 12\\nSkipping line 43662: expected 11 fields, saw 12\\nSkipping line 44162: expected 11 fields, saw 12\\nSkipping line 45529: expected 11 fields, saw 12\\nSkipping line 46678: expected 11 fields, saw 12\\nSkipping line 46788: expected 11 fields, saw 12\\nSkipping line 46811: expected 11 fields, saw 12\\nSkipping line 46924: expected 11 fields, saw 12\\nSkipping line 47287: expected 11 fields, saw 12\\nSkipping line 47377: expected 11 fields, saw 12\\nSkipping line 47419: expected 11 fields, saw 12\\nSkipping line 47492: expected 11 fields, saw 12\\nSkipping line 47629: expected 11 fields, saw 12\\nSkipping line 48125: expected 11 fields, saw 12\\nSkipping line 48932: expected 11 fields, saw 12\\nSkipping line 48971: expected 11 fields, saw 12\\nSkipping line 49440: expected 11 fields, saw 12\\nSkipping line 49457: expected 11 fields, saw 12\\nSkipping line 50670: expected 11 fields, saw 12\\nSkipping line 50960: expected 11 fields, saw 12\\nSkipping line 51275: expected 11 fields, saw 12\\nSkipping line 51649: expected 11 fields, saw 12\\nSkipping line 51993: expected 11 fields, saw 12\\nSkipping line 52023: expected 11 fields, saw 12\\nSkipping line 52059: expected 11 fields, saw 12\\nSkipping line 52259: expected 11 fields, saw 12\\nSkipping line 52368: expected 11 fields, saw 12\\nSkipping line 52783: expected 11 fields, saw 12\\nSkipping line 53064: expected 11 fields, saw 12\\nSkipping line 53135: expected 11 fields, saw 12\\nSkipping line 53514: expected 11 fields, saw 12\\nSkipping line 54092: expected 11 fields, saw 12\\nSkipping line 55403: expected 11 fields, saw 12\\nSkipping line 57476: expected 11 fields, saw 12\\nSkipping line 58646: expected 11 fields, saw 12\\nSkipping line 58808: expected 11 fields, saw 12\\nSkipping line 59119: expected 11 fields, saw 12\\nSkipping line 59727: expected 11 fields, saw 12\\nSkipping line 60386: expected 11 fields, saw 12\\nSkipping line 60478: expected 11 fields, saw 12\\nSkipping line 60542: expected 11 fields, saw 12\\nSkipping line 60913: expected 11 fields, saw 12\\nSkipping line 61032: expected 11 fields, saw 12\\nSkipping line 61640: expected 11 fields, saw 12\\nSkipping line 61732: expected 11 fields, saw 12\\nSkipping line 62029: expected 11 fields, saw 12\\nSkipping line 62219: expected 11 fields, saw 12\\nSkipping line 63657: expected 11 fields, saw 12\\nSkipping line 64712: expected 11 fields, saw 12\\nSkipping line 65881: expected 11 fields, saw 12\\nSkipping line 66093: expected 11 fields, saw 12\\nSkipping line 66095: expected 11 fields, saw 12\\nSkipping line 66476: expected 11 fields, saw 12\\nSkipping line 66549: expected 11 fields, saw 12\\nSkipping line 66550: expected 11 fields, saw 12\\nSkipping line 68102: expected 11 fields, saw 12\\nSkipping line 69441: expected 11 fields, saw 12\\nSkipping line 70104: expected 11 fields, saw 12\\nSkipping line 70452: expected 11 fields, saw 12\\nSkipping line 70642: expected 11 fields, saw 12\\nSkipping line 70644: expected 11 fields, saw 12\\nSkipping line 70716: expected 11 fields, saw 12\\nSkipping line 71345: expected 11 fields, saw 12\\nSkipping line 71634: expected 11 fields, saw 12\\nSkipping line 72091: expected 11 fields, saw 12\\nSkipping line 72119: expected 11 fields, saw 12\\nSkipping line 73543: expected 11 fields, saw 12\\nSkipping line 74654: expected 11 fields, saw 12\\nSkipping line 74785: expected 11 fields, saw 12\\nSkipping line 74918: expected 11 fields, saw 12\\nSkipping line 75062: expected 11 fields, saw 12\\nSkipping line 75346: expected 11 fields, saw 12\\nSkipping line 75416: expected 11 fields, saw 12\\nSkipping line 75677: expected 11 fields, saw 12\\nSkipping line 75833: expected 11 fields, saw 12\\nSkipping line 76117: expected 11 fields, saw 12\\nSkipping line 76834: expected 11 fields, saw 12\\nSkipping line 77540: expected 11 fields, saw 12\\nSkipping line 77568: expected 11 fields, saw 12\\nSkipping line 77607: expected 11 fields, saw 12\\nSkipping line 77871: expected 11 fields, saw 12\\nSkipping line 78117: expected 11 fields, saw 12\\nSkipping line 78526: expected 11 fields, saw 12\\nSkipping line 78605: expected 11 fields, saw 12\\nSkipping line 79151: expected 11 fields, saw 12\\nSkipping line 79945: expected 11 fields, saw 12\\nSkipping line 80156: expected 11 fields, saw 12\\nSkipping line 80328: expected 11 fields, saw 12\\nSkipping line 80382: expected 11 fields, saw 12\\nSkipping line 80421: expected 11 fields, saw 12\\nSkipping line 80503: expected 11 fields, saw 12\\nSkipping line 82071: expected 11 fields, saw 12\\nSkipping line 82566: expected 11 fields, saw 12\\nSkipping line 86123: expected 11 fields, saw 12\\nSkipping line 87218: expected 11 fields, saw 12\\nSkipping line 87457: expected 11 fields, saw 12\\nSkipping line 87579: expected 11 fields, saw 12\\n'\n"
     ]
    },
    {
     "name": "stdout",
     "output_type": "stream",
     "text": [
      "<class 'pandas.core.frame.DataFrame'>\n",
      "RangeIndex: 88679 entries, 0 to 88678\n",
      "Data columns (total 11 columns):\n",
      " #   Column       Non-Null Count  Dtype  \n",
      "---  ------       --------------  -----  \n",
      " 0   occurance    88679 non-null  object \n",
      " 1   city         88679 non-null  object \n",
      " 2   citystate    81270 non-null  object \n",
      " 3   country      76314 non-null  object \n",
      " 4   ufoshape     85757 non-null  object \n",
      " 5   dseconds     88677 non-null  object \n",
      " 6   duration     85660 non-null  object \n",
      " 7   description  88644 non-null  object \n",
      " 8   report_date  88679 non-null  object \n",
      " 9   lat          88679 non-null  object \n",
      " 10  long         88679 non-null  float64\n",
      "dtypes: float64(1), object(10)\n",
      "memory usage: 7.4+ MB\n",
      "None\n"
     ]
    },
    {
     "data": {
      "text/html": [
       "<div>\n",
       "<style scoped>\n",
       "    .dataframe tbody tr th:only-of-type {\n",
       "        vertical-align: middle;\n",
       "    }\n",
       "\n",
       "    .dataframe tbody tr th {\n",
       "        vertical-align: top;\n",
       "    }\n",
       "\n",
       "    .dataframe thead th {\n",
       "        text-align: right;\n",
       "    }\n",
       "</style>\n",
       "<table border=\"1\" class=\"dataframe\">\n",
       "  <thead>\n",
       "    <tr style=\"text-align: right;\">\n",
       "      <th></th>\n",
       "      <th>occurance</th>\n",
       "      <th>city</th>\n",
       "      <th>citystate</th>\n",
       "      <th>country</th>\n",
       "      <th>ufoshape</th>\n",
       "      <th>dseconds</th>\n",
       "      <th>duration</th>\n",
       "      <th>description</th>\n",
       "      <th>report_date</th>\n",
       "      <th>lat</th>\n",
       "      <th>long</th>\n",
       "    </tr>\n",
       "  </thead>\n",
       "  <tbody>\n",
       "    <tr>\n",
       "      <th>51509</th>\n",
       "      <td>6/10/2001 00:20</td>\n",
       "      <td>redlands</td>\n",
       "      <td>ca</td>\n",
       "      <td>us</td>\n",
       "      <td>circle</td>\n",
       "      <td>120</td>\n",
       "      <td>two minutes</td>\n",
       "      <td>orange ball drops tiny orange lights</td>\n",
       "      <td>8/5/2001</td>\n",
       "      <td>34.0555556</td>\n",
       "      <td>-117.1817</td>\n",
       "    </tr>\n",
       "  </tbody>\n",
       "</table>\n",
       "</div>"
      ],
      "text/plain": [
       "             occurance      city citystate country ufoshape dseconds  \\\n",
       "51509  6/10/2001 00:20  redlands        ca      us   circle      120   \n",
       "\n",
       "          duration                           description report_date  \\\n",
       "51509  two minutes  orange ball drops tiny orange lights    8/5/2001   \n",
       "\n",
       "              lat      long  \n",
       "51509  34.0555556 -117.1817  "
      ]
     },
     "execution_count": 3,
     "metadata": {},
     "output_type": "execute_result"
    }
   ],
   "source": [
    "import pandas as pd\n",
    "pd.options.display.float_format = '{:.4f}'.format\n",
    "\n",
    "df = pd.read_csv(os.path.join(BASE_DIR,FILE_NAME),error_bad_lines=False,low_memory=False)\n",
    "print(df.info())\n",
    "df.sample()"
   ]
  },
  {
   "cell_type": "markdown",
   "id": "0c35a6f2",
   "metadata": {},
   "source": [
    "## Functions"
   ]
  },
  {
   "cell_type": "code",
   "execution_count": 4,
   "id": "b82f77d7",
   "metadata": {
    "ExecuteTime": {
     "end_time": "2021-05-15T16:06:29.729764Z",
     "start_time": "2021-05-15T16:06:29.725616Z"
    }
   },
   "outputs": [],
   "source": [
    "import time\n",
    "import numpy as np\n",
    "from IPython.lib.display import Audio\n",
    "\n",
    "start = time.time()\n",
    "def time_exp(x):\n",
    "    #Just print how many minutes and seconds have passed\n",
    "    minutes, seconds = np.floor(x/60), 60*(x/60-np.floor(x/60))\n",
    "    print(f\"{'{:.0f}'.format(minutes)} minutos con {'{:.2f}'.format(seconds)} segundos\")\n",
    "    \n",
    "def tone(a=1000, b=700, play_time_seconds=1, framerate=4410):\n",
    "    #Make a sound! Useful while training models\n",
    "    t = np.linspace(0, play_time_seconds, framerate*play_time_seconds)*np.pi\n",
    "    return Audio(np.sin(a*t)+np.sin(b*t), rate=framerate, autoplay=True)"
   ]
  },
  {
   "cell_type": "markdown",
   "id": "15aba05f",
   "metadata": {},
   "source": [
    "Omit outliers with the IQR method\n",
    "\n",
    "<https://online.stat.psu.edu/stat200/lesson/3/3.2>"
   ]
  },
  {
   "cell_type": "code",
   "execution_count": 5,
   "id": "4556fb61",
   "metadata": {
    "ExecuteTime": {
     "end_time": "2021-05-15T16:06:29.736631Z",
     "start_time": "2021-05-15T16:06:29.732891Z"
    }
   },
   "outputs": [],
   "source": [
    "def iqr(data,x,p=0.3):\n",
    "    dim_before = len(data)\n",
    "    var = data[x]\n",
    "    q1 = var.quantile(p/2)\n",
    "    q3 = var.quantile(1-p/2)\n",
    "    iqr = q3 - q1\n",
    "    data = data[(var.isnull()) | ((var >= q1 - 1.5*iqr) & (var <= q3 + 1.5*iqr))]\n",
    "    print(f'There are {\"{:.1%}\".format(len(data)/dim_before)}% of the previous rows')\n",
    "    return data"
   ]
  },
  {
   "cell_type": "code",
   "execution_count": 6,
   "id": "31231218",
   "metadata": {
    "ExecuteTime": {
     "end_time": "2021-05-15T16:06:32.622434Z",
     "start_time": "2021-05-15T16:06:29.738838Z"
    }
   },
   "outputs": [
    {
     "name": "stdout",
     "output_type": "stream",
     "text": [
      "\n",
      "Original:\t\t I am going to run!!! I ran while I was running??? ...\n",
      "Basic cleaning:\t\t I am going to run I ran while I was running\n",
      "Changing the pattern:\t I am going to run!!! I ran while I was running ...\n",
      "Without stopwords:\t going run ran running\n",
      "Lower and lemma:\t i be go to run i run while i be run\n",
      "Super cleaning:\t\t run\n",
      "\n",
      "It actually corrects the weird accents, example\n",
      "\tFROM:\t ThÈ ÉfrâïsMã's?...\n",
      "\tTO:\t the efraisma's\n"
     ]
    }
   ],
   "source": [
    "#Uncomment the following lines if it's the first time you run this packages\n",
    "'''\n",
    "!pip install nltk\n",
    "import nltk\n",
    "nltk.download('stopwords')\n",
    "nltk.download('wordnet')\n",
    "'''\n",
    "import re\n",
    "import unicodedata\n",
    "from nltk.corpus import stopwords\n",
    "from nltk.stem import WordNetLemmatizer\n",
    "\n",
    "lem = WordNetLemmatizer()\n",
    "\n",
    "def clean_text(text,\n",
    "               language='english',pattern=\"[^a-zA-Z' ]\",\n",
    "               lower=False,lemma=False,rem_stopw=False,unique=False,\n",
    "               add_stopw=[]):\n",
    "    #It clean and can remove stopwords or even lemmatize words if specified in params\n",
    "    cleaned_text = unicodedata.normalize('NFD',str(text).replace('\\n','')).encode('ascii', 'ignore')\n",
    "    cleaned_text = re.sub(pattern,' ',cleaned_text.decode('utf-8'),flags=re.UNICODE)\n",
    "    cleaned_text = [(lem.lemmatize(word,pos='v') if lemma else word) for word in \n",
    "                    (cleaned_text.lower().split() if lower else cleaned_text.split())]\n",
    "    if rem_stopw: cleaned_text = [word for word in cleaned_text if word.lower() not in \n",
    "                                  stopwords.words(language)+add_stopw]\n",
    "    return ' '.join((set(cleaned_text) if unique else cleaned_text))\n",
    "\n",
    "#Ex\n",
    "ex = \"I am going to run!!! I ran while I was running??? ...\"\n",
    "print('\\nOriginal:\\t\\t',ex)\n",
    "print('Basic cleaning:\\t\\t',clean_text(ex))\n",
    "print('Changing the pattern:\\t',clean_text(ex,pattern=\"[^a-zA-Z!\\.]\"))\n",
    "print('Without stopwords:\\t',clean_text(ex,rem_stopw=True))\n",
    "print('Lower and lemma:\\t',clean_text(ex,lower=True,lemma=True))\n",
    "print('Super cleaning:\\t\\t',clean_text(ex,add_stopw=['go'],lower=True,rem_stopw=True,lemma=True,unique=True))\n",
    "print(\"\\nIt actually corrects the weird accents, example\\n\\tFROM:\\t ThÈ ÉfrâïsMã's?...\\n\\tTO:\\t\",clean_text(\"ThÈ ÉfrâïsMa's?...\",lower=True))"
   ]
  },
  {
   "cell_type": "code",
   "execution_count": 7,
   "id": "98035005",
   "metadata": {
    "ExecuteTime": {
     "end_time": "2021-05-15T16:06:32.668627Z",
     "start_time": "2021-05-15T16:06:32.624320Z"
    }
   },
   "outputs": [
    {
     "name": "stdout",
     "output_type": "stream",
     "text": [
      "{'neg': 0.0, 'neu': 0.192, 'pos': 0.808, 'compound': 0.6369}\n",
      "{'neg': 0.787, 'neu': 0.213, 'pos': 0.0, 'compound': -0.5719}\n",
      "{'neg': 0.0, 'neu': 0.476, 'pos': 0.524, 'compound': 0.296}\n"
     ]
    }
   ],
   "source": [
    "from nltk import sent_tokenize\n",
    "from nltk.sentiment.vader import SentimentIntensityAnalyzer\n",
    "\n",
    "def sentiment(text):\n",
    "    sid = SentimentIntensityAnalyzer()\n",
    "    try: list(map(sid.polarity_scores,sent_tokenize(text)))[0]\n",
    "    except: sentences = sent_tokenize('a')\n",
    "    else: sentences = sent_tokenize(text)\n",
    "    res = map(sid.polarity_scores, sentences)\n",
    "    return list(res)[0]\n",
    "\n",
    "print(sentiment('I love it'))\n",
    "print(sentiment('I hate it'))\n",
    "print(sentiment('It is ok'))"
   ]
  },
  {
   "cell_type": "code",
   "execution_count": 8,
   "id": "f08e0a64",
   "metadata": {
    "ExecuteTime": {
     "end_time": "2021-05-15T16:06:32.732402Z",
     "start_time": "2021-05-15T16:06:32.671167Z"
    }
   },
   "outputs": [],
   "source": [
    "from sklearn.ensemble import IsolationForest\n",
    "\n",
    "def outliers(data,cols,p=0.04):\n",
    "    df = data.copy()\n",
    "    dim_before = len(df)\n",
    "    outlier = IsolationForest(contamination=p,n_jobs=-1)\n",
    "    df['outlier'] = outlier.fit_predict(df[cols])\n",
    "    df = df[df['outlier']!=-1].drop(columns = 'outlier')\n",
    "    print(f'There are {\"{:.1%}\".format(len(df)/dim_before)}% of the previous rows')\n",
    "    return df"
   ]
  },
  {
   "cell_type": "code",
   "execution_count": 129,
   "id": "9425b1bb",
   "metadata": {
    "ExecuteTime": {
     "end_time": "2021-05-15T18:39:40.465718Z",
     "start_time": "2021-05-15T18:39:40.453702Z"
    }
   },
   "outputs": [],
   "source": [
    "def multishift(data,id_cols,date_cols,shifts,**pivot_args):\n",
    "    df = data.copy()\n",
    "    #Merge all column names as a string\n",
    "    id_col = ','.join(id_cols)\n",
    "    #And as a column\n",
    "    df[id_col] = df[id_cols].apply(lambda x:','.join(x.dropna().astype(str)),axis=1)\n",
    "    #Drop any \"id_col\"-set that has a lower frequency than the max of the \"shifts-list\"\n",
    "    freq = df[id_col].value_counts().to_frame()\n",
    "    omit_idx = freq[freq[id_col]<=max(shifts)].index.to_list()\n",
    "    if len(omit_idx)>0:\n",
    "        df = df[~df[id_col].isin(omit_idx)].copy()\n",
    "    #Change data structure to build the \"shifting\"\n",
    "    df = df.pivot_table(index=[id_col]+date_cols,\n",
    "                        **pivot_args,\n",
    "                        fill_value=0)\n",
    "    #Concatenate multiple columns if they are\n",
    "    df.columns = ['_'.join([x for x in col]) if \n",
    "                  not isinstance(df.columns[0],str) #First element is not a string\n",
    "                  else col for col in df.columns]\n",
    "    #Bring the id_col for taking the set (unique values) in the next loop\n",
    "    df.reset_index(inplace=True)\n",
    "    #Each shift must be calculated at \"id_col\" level\n",
    "    total = pd.DataFrame()\n",
    "    for row in set(df[id_col]):\n",
    "        #Set the id_col as index (again) to call all the rows with that id_col\n",
    "        df_id = df.set_index(id_col).loc[row:row,:]\n",
    "        cols = df_id.columns[len(date_cols):].tolist()\n",
    "        #Start the \"shifting\"\n",
    "        aux = df_id.copy().iloc[:,len(date_cols):].reset_index(drop=True)\n",
    "        for i in shifts:\n",
    "            shifted = df_id.iloc[:,len(date_cols):].shift(i).rename(columns={x:f'{x}_{str(i).zfill(2)}' \n",
    "                                                                for x in cols})\n",
    "            aux = aux.join(shifted.reset_index(drop=True))\n",
    "        aux[id_col] = row\n",
    "        total = total.append(aux,ignore_index=True)\n",
    "    total[[x for x in id_col.split(',')]] = total[id_col].str.split(',',expand=True)\n",
    "    total[date_cols] = df[date_cols].copy()\n",
    "    return total.drop(columns=id_col).set_index(id_cols+date_cols)"
   ]
  },
  {
   "cell_type": "code",
   "execution_count": 317,
   "id": "b30f6456",
   "metadata": {
    "ExecuteTime": {
     "end_time": "2021-05-15T20:23:20.548942Z",
     "start_time": "2021-05-15T20:23:20.542912Z"
    }
   },
   "outputs": [],
   "source": [
    "import seaborn as sns\n",
    "from sklearn.metrics import confusion_matrix\n",
    "\n",
    "color = sns.dark_palette(\"#69d\",as_cmap=True)\n",
    "\n",
    "def cm(model,X,y,color):\n",
    "    aux = pd.DataFrame(confusion_matrix(y_true=y,y_pred=model.predict(X)))\n",
    "    aux /= aux.sum().sum()\n",
    "    return aux.style.background_gradient(cmap=color).format('{:.1%}')"
   ]
  },
  {
   "cell_type": "markdown",
   "id": "e09a946f",
   "metadata": {
    "heading_collapsed": true
   },
   "source": [
    "## Transform"
   ]
  },
  {
   "cell_type": "markdown",
   "id": "7d6042b6",
   "metadata": {
    "heading_collapsed": true,
    "hidden": true
   },
   "source": [
    "### Occurance"
   ]
  },
  {
   "cell_type": "code",
   "execution_count": 154,
   "id": "9f9f8795",
   "metadata": {
    "ExecuteTime": {
     "end_time": "2021-05-15T14:04:22.633579Z",
     "start_time": "2021-05-15T14:04:22.560502Z"
    },
    "hidden": true
   },
   "outputs": [
    {
     "name": "stdout",
     "output_type": "stream",
     "text": [
      "166 10/10/2005 24:00\n",
      "316 10/11/1994 24:00\n",
      "417 10/11/2006 24:00\n",
      "487 10/11/2012 24:00\n",
      "567 10/1/1972 24:00\n"
     ]
    }
   ],
   "source": [
    "#Errors because %H just accepts 0-23\n",
    "n=0\n",
    "for i,hr in enumerate(df['occurance']):\n",
    "    try:\n",
    "        pd.to_datetime(hr,format='%m/%d/%Y %H:%M')\n",
    "    except:\n",
    "        print(i,hr)\n",
    "        n += 1\n",
    "        if n>4: break"
   ]
  },
  {
   "cell_type": "code",
   "execution_count": 155,
   "id": "ff80ef5b",
   "metadata": {
    "ExecuteTime": {
     "end_time": "2021-05-15T14:04:41.249987Z",
     "start_time": "2021-05-15T14:04:22.637069Z"
    },
    "hidden": true
   },
   "outputs": [
    {
     "name": "stdout",
     "output_type": "stream",
     "text": [
      "10/10/2005 24:00\n",
      "2005-10-11 00:00:00\n"
     ]
    }
   ],
   "source": [
    "import re\n",
    "import datetime\n",
    "\n",
    "aux = []\n",
    "correct_hr = []\n",
    "for x in df['occurance']:\n",
    "    try:\n",
    "        hr = pd.to_datetime(x)\n",
    "        aux.append(0)\n",
    "    except:\n",
    "        hr = pd.to_datetime(re.sub('\\s24',' 00',str(x)))\n",
    "        aux.append(1)\n",
    "    finally:\n",
    "        correct_hr.append(hr)\n",
    "        \n",
    "print(df.iloc[166,0])\n",
    "print((pd.Series(correct_hr) + pd.Series([datetime.timedelta(x) for x in aux]))[166])\n",
    "df['occurance'] = pd.Series(correct_hr) + pd.Series([datetime.timedelta(x) for x in aux])"
   ]
  },
  {
   "cell_type": "code",
   "execution_count": 156,
   "id": "d6a42c79",
   "metadata": {
    "ExecuteTime": {
     "end_time": "2021-05-15T14:04:41.393129Z",
     "start_time": "2021-05-15T14:04:41.251800Z"
    },
    "hidden": true
   },
   "outputs": [
    {
     "data": {
      "text/plain": [
       "<AxesSubplot:>"
      ]
     },
     "execution_count": 156,
     "metadata": {},
     "output_type": "execute_result"
    },
    {
     "data": {
      "image/png": "[encoded data removed]",
      "text/plain": [
       "<Figure size 432x288 with 1 Axes>"
      ]
     },
     "metadata": {
      "needs_background": "light"
     },
     "output_type": "display_data"
    }
   ],
   "source": [
    "df['occurance'].dt.year.hist()"
   ]
  },
  {
   "cell_type": "code",
   "execution_count": 157,
   "id": "a96b1a33",
   "metadata": {
    "ExecuteTime": {
     "end_time": "2021-05-15T14:04:41.536057Z",
     "start_time": "2021-05-15T14:04:41.394953Z"
    },
    "hidden": true
   },
   "outputs": [
    {
     "name": "stdout",
     "output_type": "stream",
     "text": [
      "There are 95.6%% of the previous rows\n"
     ]
    },
    {
     "data": {
      "text/plain": [
       "<AxesSubplot:>"
      ]
     },
     "execution_count": 157,
     "metadata": {},
     "output_type": "execute_result"
    },
    {
     "data": {
      "image/png": "[encoded data removed]",
      "text/plain": [
       "<Figure size 432x288 with 1 Axes>"
      ]
     },
     "metadata": {
      "needs_background": "light"
     },
     "output_type": "display_data"
    }
   ],
   "source": [
    "df['year'] = df['occurance'].dt.year\n",
    "df = iqr(df,'year')\n",
    "df['year'].hist()"
   ]
  },
  {
   "cell_type": "code",
   "execution_count": 158,
   "id": "3e6415fe",
   "metadata": {
    "ExecuteTime": {
     "end_time": "2021-05-15T14:04:41.762477Z",
     "start_time": "2021-05-15T14:04:41.537959Z"
    },
    "hidden": true
   },
   "outputs": [
    {
     "data": {
      "text/plain": [
       "21-23   0.2730\n",
       "00-10   0.2490\n",
       "10-19   0.1973\n",
       "19-21   0.1803\n",
       "23-24   0.1004\n",
       "Name: hr_range, dtype: float64"
      ]
     },
     "execution_count": 158,
     "metadata": {},
     "output_type": "execute_result"
    }
   ],
   "source": [
    "df['hr_range'] = [str(x.left).zfill(2)+\"-\"+str(x.right).zfill(2) for x in \n",
    "              pd.cut(df['occurance'].dt.hour,bins=[0,10,19,21,23,24],right=False)]\n",
    "df['hr_range'].value_counts(1)"
   ]
  },
  {
   "cell_type": "markdown",
   "id": "f74fe390",
   "metadata": {
    "heading_collapsed": true,
    "hidden": true
   },
   "source": [
    "### Shape"
   ]
  },
  {
   "cell_type": "code",
   "execution_count": 159,
   "id": "93c50dc4",
   "metadata": {
    "ExecuteTime": {
     "end_time": "2021-05-15T14:04:41.792787Z",
     "start_time": "2021-05-15T14:04:41.764357Z"
    },
    "hidden": true
   },
   "outputs": [],
   "source": [
    "df.drop(columns=['city','citystate','country'],inplace=True)"
   ]
  },
  {
   "cell_type": "code",
   "execution_count": 160,
   "id": "8725f9ce",
   "metadata": {
    "ExecuteTime": {
     "end_time": "2021-05-15T14:04:41.823663Z",
     "start_time": "2021-05-15T14:04:41.794994Z"
    },
    "hidden": true
   },
   "outputs": [
    {
     "data": {
      "text/plain": [
       "other   0.7013\n",
       "light   0.2987\n",
       "Name: ufoshape, dtype: float64"
      ]
     },
     "execution_count": 160,
     "metadata": {},
     "output_type": "execute_result"
    }
   ],
   "source": [
    "df['ufoshape'] = ['light' if x in ['light','fireball','flash','flare'] else 'other' for x in df['ufoshape']]\n",
    "df['ufoshape'].value_counts(1)"
   ]
  },
  {
   "cell_type": "markdown",
   "id": "445d38fc",
   "metadata": {
    "heading_collapsed": true,
    "hidden": true
   },
   "source": [
    "### Duration"
   ]
  },
  {
   "cell_type": "code",
   "execution_count": 161,
   "id": "617f2928",
   "metadata": {
    "ExecuteTime": {
     "end_time": "2021-05-15T14:04:41.930655Z",
     "start_time": "2021-05-15T14:04:41.825787Z"
    },
    "hidden": true
   },
   "outputs": [
    {
     "data": {
      "text/plain": [
       "count      84794.0000\n",
       "mean        8115.9260\n",
       "std       597554.5475\n",
       "min            0.0000\n",
       "0%             0.0000\n",
       "10%            2.0000\n",
       "20%           10.0000\n",
       "30%           30.0000\n",
       "40%           60.0000\n",
       "50%          120.0000\n",
       "60%          300.0000\n",
       "70%          360.0000\n",
       "80%          900.0000\n",
       "90%         1800.0000\n",
       "max     97836000.0000\n",
       "Name: dseconds, dtype: float64"
      ]
     },
     "execution_count": 161,
     "metadata": {},
     "output_type": "execute_result"
    }
   ],
   "source": [
    "df['dseconds'] = df['dseconds'].astype(str).apply(lambda x: re.sub('[^\\d]','',x)\n",
    "                                                 ).replace('',np.nan).astype(float)\n",
    "df['dseconds'].describe([i/10 for i in range(10)])"
   ]
  },
  {
   "cell_type": "code",
   "execution_count": 162,
   "id": "db37f416",
   "metadata": {
    "ExecuteTime": {
     "end_time": "2021-05-15T14:04:42.067362Z",
     "start_time": "2021-05-15T14:04:41.932272Z"
    },
    "hidden": true,
    "scrolled": true
   },
   "outputs": [
    {
     "name": "stdout",
     "output_type": "stream",
     "text": [
      "There are 93.8%% of the previous rows\n"
     ]
    },
    {
     "data": {
      "text/plain": [
       "<AxesSubplot:>"
      ]
     },
     "execution_count": 162,
     "metadata": {},
     "output_type": "execute_result"
    },
    {
     "data": {
      "image/png": "[encoded data removed]",
      "text/plain": [
       "<Figure size 432x288 with 1 Axes>"
      ]
     },
     "metadata": {
      "needs_background": "light"
     },
     "output_type": "display_data"
    }
   ],
   "source": [
    "import matplotlib.pyplot as plt\n",
    "df = iqr(df,'dseconds')\n",
    "df['dseconds'].hist()"
   ]
  },
  {
   "cell_type": "code",
   "execution_count": 163,
   "id": "581f7256",
   "metadata": {
    "ExecuteTime": {
     "end_time": "2021-05-15T14:04:42.109488Z",
     "start_time": "2021-05-15T14:04:42.069097Z"
    },
    "hidden": true
   },
   "outputs": [
    {
     "data": {
      "text/plain": [
       "more_hr   0.6224\n",
       "less_hr   0.2930\n",
       "unkown    0.0846\n",
       "Name: duration, dtype: float64"
      ]
     },
     "execution_count": 163,
     "metadata": {},
     "output_type": "execute_result"
    }
   ],
   "source": [
    "aux = []\n",
    "for x in df['dseconds']:\n",
    "    if x in [0.0,np.nan]: aux.append('unkown')\n",
    "    elif x < 60: aux.append('less_hr')\n",
    "    else: aux.append('more_hr')\n",
    "df['duration'] = aux\n",
    "df['duration'].value_counts(1)"
   ]
  },
  {
   "cell_type": "markdown",
   "id": "22523675",
   "metadata": {
    "heading_collapsed": true,
    "hidden": true
   },
   "source": [
    "### Report date"
   ]
  },
  {
   "cell_type": "code",
   "execution_count": 164,
   "id": "075e2ef4",
   "metadata": {
    "ExecuteTime": {
     "end_time": "2021-05-15T14:04:42.167499Z",
     "start_time": "2021-05-15T14:04:42.111352Z"
    },
    "hidden": true
   },
   "outputs": [
    {
     "data": {
      "text/plain": [
       "count   79495.0000\n",
       "mean      622.2764\n",
       "std      1795.6223\n",
       "min         0.0000\n",
       "0%          0.0000\n",
       "10%         3.0000\n",
       "20%         6.0000\n",
       "30%        10.0000\n",
       "40%        16.0000\n",
       "50%        24.0000\n",
       "60%        36.0000\n",
       "70%        59.0000\n",
       "80%       225.0000\n",
       "90%      1670.0000\n",
       "max     13469.0000\n",
       "Name: report_date, dtype: float64"
      ]
     },
     "execution_count": 164,
     "metadata": {},
     "output_type": "execute_result"
    }
   ],
   "source": [
    "df['report_date'] = pd.to_datetime(df['report_date'])\n",
    "df['report_date'] = ((df['report_date']-df['occurance'])/np.timedelta64(1,'D')).astype(int)\n",
    "df = df[df['report_date']>=0].copy()\n",
    "df['report_date'].describe([i/10 for i in range(10)])"
   ]
  },
  {
   "cell_type": "code",
   "execution_count": 165,
   "id": "f1b9f947",
   "metadata": {
    "ExecuteTime": {
     "end_time": "2021-05-15T14:04:43.108064Z",
     "start_time": "2021-05-15T14:04:42.169141Z"
    },
    "hidden": true
   },
   "outputs": [
    {
     "data": {
      "text/plain": [
       "07-30        0.3399\n",
       "00-07        0.2082\n",
       "60-1000      0.1638\n",
       "30-60        0.1539\n",
       "1000-15000   0.1341\n",
       "Name: report_date, dtype: float64"
      ]
     },
     "execution_count": 165,
     "metadata": {},
     "output_type": "execute_result"
    }
   ],
   "source": [
    "df['report_date'] = [str(int(x.left)).zfill(2)+\"-\"+str(int(x.right)).zfill(2) for x in \n",
    "                     pd.cut(df['report_date'],bins=[0,7,30,60,1000,15e3],right=False)]\n",
    "df['report_date'].value_counts(1)"
   ]
  },
  {
   "cell_type": "code",
   "execution_count": 166,
   "id": "b1c26409",
   "metadata": {
    "ExecuteTime": {
     "end_time": "2021-05-15T14:04:43.207054Z",
     "start_time": "2021-05-15T14:04:43.109735Z"
    },
    "hidden": true
   },
   "outputs": [
    {
     "data": {
      "text/plain": [
       "07   0.1151\n",
       "08   0.1051\n",
       "06   0.0945\n",
       "09   0.0943\n",
       "10   0.0921\n",
       "11   0.0855\n",
       "01   0.0737\n",
       "12   0.0728\n",
       "04   0.0701\n",
       "03   0.0695\n",
       "05   0.0672\n",
       "02   0.0602\n",
       "Name: occurance, dtype: float64"
      ]
     },
     "execution_count": 166,
     "metadata": {},
     "output_type": "execute_result"
    }
   ],
   "source": [
    "df['occurance'] = df['occurance'].dt.month.astype(str).str.zfill(2)\n",
    "df['occurance'].value_counts(1)"
   ]
  },
  {
   "cell_type": "markdown",
   "id": "7bc32fe3",
   "metadata": {
    "heading_collapsed": true,
    "hidden": true
   },
   "source": [
    "### Location"
   ]
  },
  {
   "cell_type": "code",
   "execution_count": 167,
   "id": "b3a7d046",
   "metadata": {
    "ExecuteTime": {
     "end_time": "2021-05-15T14:04:43.540769Z",
     "start_time": "2021-05-15T14:04:43.208684Z"
    },
    "hidden": true
   },
   "outputs": [
    {
     "data": {
      "text/plain": [
       "<matplotlib.collections.PathCollection at 0x7f8404497700>"
      ]
     },
     "execution_count": 167,
     "metadata": {},
     "output_type": "execute_result"
    },
    {
     "data": {
      "image/png": "[encoded data removed]",
      "text/plain": [
       "<Figure size 432x288 with 1 Axes>"
      ]
     },
     "metadata": {
      "needs_background": "light"
     },
     "output_type": "display_data"
    }
   ],
   "source": [
    "import matplotlib.pyplot as plt\n",
    "\n",
    "df['lat'] = df['lat'].apply(lambda x:re.sub('[^\\d\\.]','',str(x))).astype(float)\n",
    "df = df[df['lat']!=0].copy()\n",
    "#df = outliers(df,['lat','long'],p=0.02)\n",
    "plt.scatter(df['lat'],df['long'])"
   ]
  },
  {
   "cell_type": "code",
   "execution_count": 168,
   "id": "139c2fe4",
   "metadata": {
    "ExecuteTime": {
     "end_time": "2021-05-15T14:04:43.645251Z",
     "start_time": "2021-05-15T14:04:43.542910Z"
    },
    "hidden": true
   },
   "outputs": [
    {
     "data": {
      "text/html": [
       "<style  type=\"text/css\" >\n",
       "#T_001a4_row0_col0,#T_001a4_row0_col3,#T_001a4_row2_col2,#T_001a4_row3_col1{\n",
       "            background-color:  #6699dd;\n",
       "            color:  #000000;\n",
       "        }#T_001a4_row0_col1{\n",
       "            background-color:  #49668d;\n",
       "            color:  #f1f1f1;\n",
       "        }#T_001a4_row0_col2,#T_001a4_row2_col1,#T_001a4_row3_col0,#T_001a4_row3_col3{\n",
       "            background-color:  #242629;\n",
       "            color:  #f1f1f1;\n",
       "        }#T_001a4_row1_col0{\n",
       "            background-color:  #4f719f;\n",
       "            color:  #000000;\n",
       "        }#T_001a4_row1_col1{\n",
       "            background-color:  #5479ac;\n",
       "            color:  #000000;\n",
       "        }#T_001a4_row1_col2{\n",
       "            background-color:  #323f50;\n",
       "            color:  #f1f1f1;\n",
       "        }#T_001a4_row1_col3{\n",
       "            background-color:  #5173a3;\n",
       "            color:  #000000;\n",
       "        }#T_001a4_row2_col0{\n",
       "            background-color:  #384961;\n",
       "            color:  #f1f1f1;\n",
       "        }#T_001a4_row2_col3{\n",
       "            background-color:  #6191d0;\n",
       "            color:  #000000;\n",
       "        }#T_001a4_row3_col2{\n",
       "            background-color:  #5378a9;\n",
       "            color:  #000000;\n",
       "        }</style><table id=\"T_001a4_\" ><thead>    <tr>        <th class=\"index_name level0\" >long_cut</th>        <th class=\"col_heading level0 col0\" >(-112.185, -87.884]</th>        <th class=\"col_heading level0 col1\" >(-176.659, -112.185]</th>        <th class=\"col_heading level0 col2\" >(-78.738, 178.442]</th>        <th class=\"col_heading level0 col3\" >(-87.884, -78.738]</th>    </tr>    <tr>        <th class=\"index_name level0\" >lat_cut</th>        <th class=\"blank\" ></th>        <th class=\"blank\" ></th>        <th class=\"blank\" ></th>        <th class=\"blank\" ></th>    </tr></thead><tbody>\n",
       "                <tr>\n",
       "                        <th id=\"T_001a4_level0_row0\" class=\"row_heading level0 row0\" >(0.0226, 34.174]</th>\n",
       "                        <td id=\"T_001a4_row0_col0\" class=\"data row0 col0\" >6603</td>\n",
       "                        <td id=\"T_001a4_row0_col1\" class=\"data row0 col1\" >4805</td>\n",
       "                        <td id=\"T_001a4_row0_col2\" class=\"data row0 col2\" >1779</td>\n",
       "                        <td id=\"T_001a4_row0_col3\" class=\"data row0 col3\" >6390</td>\n",
       "            </tr>\n",
       "            <tr>\n",
       "                        <th id=\"T_001a4_level0_row1\" class=\"row_heading level0 row1\" >(34.174, 39.444]</th>\n",
       "                        <td id=\"T_001a4_row1_col0\" class=\"data row1 col0\" >5446</td>\n",
       "                        <td id=\"T_001a4_row1_col1\" class=\"data row1 col1\" >5950</td>\n",
       "                        <td id=\"T_001a4_row1_col2\" class=\"data row1 col2\" >3192</td>\n",
       "                        <td id=\"T_001a4_row1_col3\" class=\"data row1 col3\" >4991</td>\n",
       "            </tr>\n",
       "            <tr>\n",
       "                        <th id=\"T_001a4_level0_row2\" class=\"row_heading level0 row2\" >(39.444, 42.865]</th>\n",
       "                        <td id=\"T_001a4_row2_col0\" class=\"data row2 col0\" >4280</td>\n",
       "                        <td id=\"T_001a4_row2_col1\" class=\"data row2 col1\" >971</td>\n",
       "                        <td id=\"T_001a4_row2_col2\" class=\"data row2 col2\" >8246</td>\n",
       "                        <td id=\"T_001a4_row2_col3\" class=\"data row2 col3\" >6082</td>\n",
       "            </tr>\n",
       "            <tr>\n",
       "                        <th id=\"T_001a4_level0_row3\" class=\"row_heading level0 row3\" >(42.865, 82.863]</th>\n",
       "                        <td id=\"T_001a4_row3_col0\" class=\"data row3 col0\" >3240</td>\n",
       "                        <td id=\"T_001a4_row3_col1\" class=\"data row3 col1\" >7859</td>\n",
       "                        <td id=\"T_001a4_row3_col2\" class=\"data row3 col2\" >6357</td>\n",
       "                        <td id=\"T_001a4_row3_col3\" class=\"data row3 col3\" >2116</td>\n",
       "            </tr>\n",
       "    </tbody></table>"
      ],
      "text/plain": [
       "<pandas.io.formats.style.Styler at 0x7f83edd91a60>"
      ]
     },
     "execution_count": 168,
     "metadata": {},
     "output_type": "execute_result"
    }
   ],
   "source": [
    "'''!pip install seaborn'''\n",
    "import seaborn as sns\n",
    "color = sns.dark_palette(\"#69d\",as_cmap=True)\n",
    "\n",
    "for geo in ['lat','long']:\n",
    "    df[f'{geo}_cut'] = pd.qcut(df[f'{geo}'],q=4).astype(str).str.replace(',',' to ')\n",
    "    \n",
    "df.pivot_table(index='lat_cut',columns='long_cut',values='duration',aggfunc='count'\n",
    "              ).style.background_gradient(cmap=color).format('{:.0f}')"
   ]
  },
  {
   "cell_type": "markdown",
   "id": "81813f84",
   "metadata": {
    "heading_collapsed": true,
    "hidden": true
   },
   "source": [
    "### Description"
   ]
  },
  {
   "cell_type": "code",
   "execution_count": 170,
   "id": "559b878e",
   "metadata": {
    "ExecuteTime": {
     "end_time": "2021-05-15T14:07:54.992679Z",
     "start_time": "2021-05-15T14:05:24.493132Z"
    },
    "hidden": true
   },
   "outputs": [],
   "source": [
    "df['clean'] = df['description'].apply(lambda x: clean_text(x,lower=True))\n",
    "df['min_text'] = df['description'].apply(lambda x: clean_text(x,lower=True,lemma=True,\n",
    "                                                              rem_stopw=True,unique=True))\n",
    "df['length'] = df['clean'].apply(len)\n",
    "df['relevance'] = df['min_text'].apply(len) / (df['length']+1e-10)"
   ]
  },
  {
   "cell_type": "code",
   "execution_count": 172,
   "id": "16779d5d",
   "metadata": {
    "ExecuteTime": {
     "end_time": "2021-05-15T14:07:57.248764Z",
     "start_time": "2021-05-15T14:07:57.111950Z"
    },
    "hidden": true
   },
   "outputs": [
    {
     "data": {
      "text/plain": [
       "<AxesSubplot:>"
      ]
     },
     "execution_count": 172,
     "metadata": {},
     "output_type": "execute_result"
    },
    {
     "data": {
      "image/png": "[encoded data removed]",
      "text/plain": [
       "<Figure size 432x288 with 1 Axes>"
      ]
     },
     "metadata": {
      "needs_background": "light"
     },
     "output_type": "display_data"
    }
   ],
   "source": [
    "df['length'].hist()"
   ]
  },
  {
   "cell_type": "code",
   "execution_count": 173,
   "id": "fac03d1b",
   "metadata": {
    "ExecuteTime": {
     "end_time": "2021-05-15T14:07:58.431045Z",
     "start_time": "2021-05-15T14:07:58.298827Z"
    },
    "hidden": true
   },
   "outputs": [
    {
     "data": {
      "text/plain": [
       "<AxesSubplot:>"
      ]
     },
     "execution_count": 173,
     "metadata": {},
     "output_type": "execute_result"
    },
    {
     "data": {
      "image/png": "[encoded data removed]",
      "text/plain": [
       "<Figure size 432x288 with 1 Axes>"
      ]
     },
     "metadata": {
      "needs_background": "light"
     },
     "output_type": "display_data"
    }
   ],
   "source": [
    "df['relevance'].hist()"
   ]
  },
  {
   "cell_type": "code",
   "execution_count": 175,
   "id": "9c0e5aec",
   "metadata": {
    "ExecuteTime": {
     "end_time": "2021-05-15T14:19:13.849832Z",
     "start_time": "2021-05-15T14:19:13.697339Z"
    },
    "hidden": true
   },
   "outputs": [
    {
     "data": {
      "text/plain": [
       "<AxesSubplot:>"
      ]
     },
     "execution_count": 175,
     "metadata": {},
     "output_type": "execute_result"
    },
    {
     "data": {
      "image/png": "[encoded data removed]",
      "text/plain": [
       "<Figure size 432x288 with 1 Axes>"
      ]
     },
     "metadata": {
      "needs_background": "light"
     },
     "output_type": "display_data"
    }
   ],
   "source": [
    "df = df.join(pd.DataFrame(list(map(sentiment,df['clean'])),index=df.index))\n",
    "display(df['compound'].hist())\n",
    "\n",
    "aux = []\n",
    "for x in df['compound']:\n",
    "    if x>0:aux.append('pos')\n",
    "    elif x<0:aux.append('neg')\n",
    "    else:aux.append('neu')\n",
    "\n",
    "df['compound_cut'] = aux\n",
    "df['compound_cut'].value_counts(1)"
   ]
  },
  {
   "cell_type": "code",
   "execution_count": 223,
   "id": "51f38e87",
   "metadata": {
    "ExecuteTime": {
     "end_time": "2021-05-15T15:55:05.827061Z",
     "start_time": "2021-05-15T15:55:05.773515Z"
    },
    "hidden": true
   },
   "outputs": [
    {
     "data": {
      "text/plain": [
       "neu   0.5142\n",
       "pos   0.3220\n",
       "neg   0.1638\n",
       "Name: compound_cut, dtype: float64"
      ]
     },
     "execution_count": 223,
     "metadata": {},
     "output_type": "execute_result"
    }
   ],
   "source": [
    "df['compound_cut'].value_counts(1)"
   ]
  },
  {
   "cell_type": "code",
   "execution_count": 215,
   "id": "d490d341",
   "metadata": {
    "ExecuteTime": {
     "end_time": "2021-05-15T15:06:13.828010Z",
     "start_time": "2021-05-15T15:06:12.750028Z"
    },
    "hidden": true
   },
   "outputs": [],
   "source": [
    "#BACKUP because last cells runs in ~12min\n",
    "#df.to_csv(os.path.join(BASE_DIR,'ufo_sentim.csv'),index=False)"
   ]
  },
  {
   "cell_type": "markdown",
   "id": "b36041dd",
   "metadata": {},
   "source": [
    "## TAD"
   ]
  },
  {
   "cell_type": "code",
   "execution_count": null,
   "id": "e52bad51",
   "metadata": {
    "ExecuteTime": {
     "end_time": "2021-05-15T19:15:57.118933Z",
     "start_time": "2021-05-15T19:15:57.066532Z"
    }
   },
   "outputs": [],
   "source": [
    "multishift(df.head(33),\n",
    "           id_cols=['lat_cut','long_cut'],\n",
    "           date_cols=['year'],\n",
    "           shifts=range(1,4),\n",
    "           values='compound',\n",
    "           aggfunc='mean')"
   ]
  },
  {
   "cell_type": "code",
   "execution_count": 392,
   "id": "e88ebbe1",
   "metadata": {
    "ExecuteTime": {
     "end_time": "2021-05-15T21:01:56.882161Z",
     "start_time": "2021-05-15T21:01:42.564669Z"
    }
   },
   "outputs": [
    {
     "data": {
      "text/html": [
       "<div>\n",
       "<style scoped>\n",
       "    .dataframe tbody tr th:only-of-type {\n",
       "        vertical-align: middle;\n",
       "    }\n",
       "\n",
       "    .dataframe tbody tr th {\n",
       "        vertical-align: top;\n",
       "    }\n",
       "\n",
       "    .dataframe thead th {\n",
       "        text-align: right;\n",
       "    }\n",
       "</style>\n",
       "<table border=\"1\" class=\"dataframe\">\n",
       "  <thead>\n",
       "    <tr style=\"text-align: right;\">\n",
       "      <th></th>\n",
       "      <th></th>\n",
       "      <th></th>\n",
       "      <th>compound_max</th>\n",
       "      <th>compound_mean</th>\n",
       "      <th>compound_min</th>\n",
       "      <th>length_max</th>\n",
       "      <th>length_mean</th>\n",
       "      <th>length_median</th>\n",
       "      <th>occurance_count</th>\n",
       "      <th>report_date_mode</th>\n",
       "      <th>compound_max_01</th>\n",
       "      <th>compound_mean_01</th>\n",
       "      <th>...</th>\n",
       "      <th>occurance_count_09</th>\n",
       "      <th>report_date_mode_09</th>\n",
       "      <th>compound_max_10</th>\n",
       "      <th>compound_mean_10</th>\n",
       "      <th>compound_min_10</th>\n",
       "      <th>length_max_10</th>\n",
       "      <th>length_mean_10</th>\n",
       "      <th>length_median_10</th>\n",
       "      <th>occurance_count_10</th>\n",
       "      <th>report_date_mode_10</th>\n",
       "    </tr>\n",
       "    <tr>\n",
       "      <th>lat_cut</th>\n",
       "      <th>long_cut</th>\n",
       "      <th>year</th>\n",
       "      <th></th>\n",
       "      <th></th>\n",
       "      <th></th>\n",
       "      <th></th>\n",
       "      <th></th>\n",
       "      <th></th>\n",
       "      <th></th>\n",
       "      <th></th>\n",
       "      <th></th>\n",
       "      <th></th>\n",
       "      <th></th>\n",
       "      <th></th>\n",
       "      <th></th>\n",
       "      <th></th>\n",
       "      <th></th>\n",
       "      <th></th>\n",
       "      <th></th>\n",
       "      <th></th>\n",
       "      <th></th>\n",
       "      <th></th>\n",
       "      <th></th>\n",
       "    </tr>\n",
       "  </thead>\n",
       "  <tbody>\n",
       "    <tr>\n",
       "      <th>(42.865 to 82.863]</th>\n",
       "      <th>(-78.738 to 178.442]</th>\n",
       "      <th>1989</th>\n",
       "      <td>0.8126</td>\n",
       "      <td>0.0684</td>\n",
       "      <td>-0.2960</td>\n",
       "      <td>135</td>\n",
       "      <td>70.0000</td>\n",
       "      <td>59.5000</td>\n",
       "      <td>24</td>\n",
       "      <td>1000-15000</td>\n",
       "      <td>0.8917</td>\n",
       "      <td>0.0213</td>\n",
       "      <td>...</td>\n",
       "      <td>26.0000</td>\n",
       "      <td>1000-15000</td>\n",
       "      <td>0.6705</td>\n",
       "      <td>0.1131</td>\n",
       "      <td>-0.2960</td>\n",
       "      <td>135.0000</td>\n",
       "      <td>73.8750</td>\n",
       "      <td>64.5000</td>\n",
       "      <td>24.0000</td>\n",
       "      <td>1000-15000</td>\n",
       "    </tr>\n",
       "  </tbody>\n",
       "</table>\n",
       "<p>1 rows × 88 columns</p>\n",
       "</div>"
      ],
      "text/plain": [
       "                                              compound_max  compound_mean  \\\n",
       "lat_cut            long_cut             year                                \n",
       "(42.865 to 82.863] (-78.738 to 178.442] 1989        0.8126         0.0684   \n",
       "\n",
       "                                              compound_min  length_max  \\\n",
       "lat_cut            long_cut             year                             \n",
       "(42.865 to 82.863] (-78.738 to 178.442] 1989       -0.2960         135   \n",
       "\n",
       "                                              length_mean  length_median  \\\n",
       "lat_cut            long_cut             year                               \n",
       "(42.865 to 82.863] (-78.738 to 178.442] 1989      70.0000        59.5000   \n",
       "\n",
       "                                              occurance_count  \\\n",
       "lat_cut            long_cut             year                    \n",
       "(42.865 to 82.863] (-78.738 to 178.442] 1989               24   \n",
       "\n",
       "                                             report_date_mode  \\\n",
       "lat_cut            long_cut             year                    \n",
       "(42.865 to 82.863] (-78.738 to 178.442] 1989       1000-15000   \n",
       "\n",
       "                                              compound_max_01  \\\n",
       "lat_cut            long_cut             year                    \n",
       "(42.865 to 82.863] (-78.738 to 178.442] 1989           0.8917   \n",
       "\n",
       "                                              compound_mean_01  ...  \\\n",
       "lat_cut            long_cut             year                    ...   \n",
       "(42.865 to 82.863] (-78.738 to 178.442] 1989            0.0213  ...   \n",
       "\n",
       "                                              occurance_count_09  \\\n",
       "lat_cut            long_cut             year                       \n",
       "(42.865 to 82.863] (-78.738 to 178.442] 1989             26.0000   \n",
       "\n",
       "                                              report_date_mode_09  \\\n",
       "lat_cut            long_cut             year                        \n",
       "(42.865 to 82.863] (-78.738 to 178.442] 1989           1000-15000   \n",
       "\n",
       "                                              compound_max_10  \\\n",
       "lat_cut            long_cut             year                    \n",
       "(42.865 to 82.863] (-78.738 to 178.442] 1989           0.6705   \n",
       "\n",
       "                                              compound_mean_10  \\\n",
       "lat_cut            long_cut             year                     \n",
       "(42.865 to 82.863] (-78.738 to 178.442] 1989            0.1131   \n",
       "\n",
       "                                              compound_min_10 length_max_10  \\\n",
       "lat_cut            long_cut             year                                  \n",
       "(42.865 to 82.863] (-78.738 to 178.442] 1989          -0.2960      135.0000   \n",
       "\n",
       "                                              length_mean_10  \\\n",
       "lat_cut            long_cut             year                   \n",
       "(42.865 to 82.863] (-78.738 to 178.442] 1989         73.8750   \n",
       "\n",
       "                                              length_median_10  \\\n",
       "lat_cut            long_cut             year                     \n",
       "(42.865 to 82.863] (-78.738 to 178.442] 1989           64.5000   \n",
       "\n",
       "                                              occurance_count_10  \\\n",
       "lat_cut            long_cut             year                       \n",
       "(42.865 to 82.863] (-78.738 to 178.442] 1989             24.0000   \n",
       "\n",
       "                                              report_date_mode_10  \n",
       "lat_cut            long_cut             year                       \n",
       "(42.865 to 82.863] (-78.738 to 178.442] 1989           1000-15000  \n",
       "\n",
       "[1 rows x 88 columns]"
      ]
     },
     "execution_count": 392,
     "metadata": {},
     "output_type": "execute_result"
    }
   ],
   "source": [
    "from statistics import mode\n",
    "\n",
    "df = pd.read_csv(os.path.join(BASE_DIR,'ufo_sentim.csv')).dropna()\n",
    "df = multishift(df,id_cols=['lat_cut','long_cut'],\n",
    "                date_cols=['year'],\n",
    "                shifts=range(1,11),\n",
    "                aggfunc={'report_date':mode,\n",
    "                         'occurance':'count',\n",
    "                         'compound':['mean','min','max'],\n",
    "                         'length':['mean','median','max'],\n",
    "                        }).dropna()\n",
    "df.sample()"
   ]
  },
  {
   "cell_type": "code",
   "execution_count": 393,
   "id": "950f49be",
   "metadata": {
    "ExecuteTime": {
     "end_time": "2021-05-15T21:01:57.234517Z",
     "start_time": "2021-05-15T21:01:57.229779Z"
    }
   },
   "outputs": [
    {
     "data": {
      "text/plain": [
       "07-30        0.4219\n",
       "1000-15000   0.3884\n",
       "60-1000      0.0982\n",
       "00-07        0.0580\n",
       "30-60        0.0335\n",
       "Name: report_date_mode, dtype: float64"
      ]
     },
     "execution_count": 393,
     "metadata": {},
     "output_type": "execute_result"
    }
   ],
   "source": [
    "df['report_date_mode'].value_counts(1)"
   ]
  },
  {
   "cell_type": "code",
   "execution_count": 394,
   "id": "61b62519",
   "metadata": {
    "ExecuteTime": {
     "end_time": "2021-05-15T21:01:57.566385Z",
     "start_time": "2021-05-15T21:01:57.555216Z"
    }
   },
   "outputs": [
    {
     "data": {
      "text/plain": [
       "0   0.5201\n",
       "1   0.4799\n",
       "Name: report_date_mode, dtype: float64"
      ]
     },
     "execution_count": 394,
     "metadata": {},
     "output_type": "execute_result"
    }
   ],
   "source": [
    "for col in df.head().filter(like='report_date_mode').columns:\n",
    "    df[col] = [1 if x in ['00-07','07-30'] else 0 for x in df[col]]\n",
    "df['report_date_mode'].value_counts(1)"
   ]
  },
  {
   "cell_type": "code",
   "execution_count": 395,
   "id": "3b1c7b3a",
   "metadata": {
    "ExecuteTime": {
     "end_time": "2021-05-15T21:01:57.886028Z",
     "start_time": "2021-05-15T21:01:57.881483Z"
    }
   },
   "outputs": [
    {
     "name": "stdout",
     "output_type": "stream",
     "text": [
      "['compound_max', 'compound_mean', 'compound_min', 'length_max', 'length_mean', 'length_median', 'occurance_count', 'report_date_mode']\n"
     ]
    }
   ],
   "source": [
    "#Save the columns with the previous dates info\n",
    "prev = df.head().filter(regex='_\\d+').columns.tolist()\n",
    "actual = [x for x in df.columns if x not in prev]\n",
    "print(actual)"
   ]
  },
  {
   "cell_type": "markdown",
   "id": "d0e5c4c5",
   "metadata": {},
   "source": [
    "## Model"
   ]
  },
  {
   "cell_type": "markdown",
   "id": "bf77f055",
   "metadata": {},
   "source": [
    "### Discrete"
   ]
  },
  {
   "cell_type": "code",
   "execution_count": 396,
   "id": "a270cd8f",
   "metadata": {
    "ExecuteTime": {
     "end_time": "2021-05-15T21:01:58.240978Z",
     "start_time": "2021-05-15T21:01:58.204971Z"
    }
   },
   "outputs": [],
   "source": [
    "from sklearn.preprocessing import MinMaxScaler\n",
    "from sklearn.model_selection import train_test_split\n",
    "\n",
    "X = df[prev].copy()\n",
    "y = df['report_date_mode'].values\n",
    "\n",
    "X_train, X_test, y_train, y_test = train_test_split(X,y,\n",
    "                                                    train_size=0.77,\n",
    "                                                    random_state=22)\n",
    "mm_x = MinMaxScaler()"
   ]
  },
  {
   "cell_type": "code",
   "execution_count": 398,
   "id": "1f7866e3",
   "metadata": {
    "ExecuteTime": {
     "end_time": "2021-05-15T21:02:03.952352Z",
     "start_time": "2021-05-15T21:02:03.897442Z"
    }
   },
   "outputs": [
    {
     "name": "stdout",
     "output_type": "stream",
     "text": [
      "Accuracy score:  90.38%\n",
      "ROC score:  90.35%\n",
      "Training accuracy:  94.19%\n"
     ]
    },
    {
     "data": {
      "text/html": [
       "<div>\n",
       "<style scoped>\n",
       "    .dataframe tbody tr th:only-of-type {\n",
       "        vertical-align: middle;\n",
       "    }\n",
       "\n",
       "    .dataframe tbody tr th {\n",
       "        vertical-align: top;\n",
       "    }\n",
       "\n",
       "    .dataframe thead th {\n",
       "        text-align: right;\n",
       "    }\n",
       "</style>\n",
       "<table border=\"1\" class=\"dataframe\">\n",
       "  <thead>\n",
       "    <tr style=\"text-align: right;\">\n",
       "      <th></th>\n",
       "      <th>variable</th>\n",
       "      <th>coef</th>\n",
       "    </tr>\n",
       "  </thead>\n",
       "  <tbody>\n",
       "    <tr>\n",
       "      <th>0</th>\n",
       "      <td>report_date_mode_08</td>\n",
       "      <td>1.7904</td>\n",
       "    </tr>\n",
       "    <tr>\n",
       "      <th>1</th>\n",
       "      <td>length_median_05</td>\n",
       "      <td>1.5055</td>\n",
       "    </tr>\n",
       "    <tr>\n",
       "      <th>2</th>\n",
       "      <td>length_median_04</td>\n",
       "      <td>1.4739</td>\n",
       "    </tr>\n",
       "    <tr>\n",
       "      <th>3</th>\n",
       "      <td>report_date_mode_09</td>\n",
       "      <td>1.4078</td>\n",
       "    </tr>\n",
       "    <tr>\n",
       "      <th>4</th>\n",
       "      <td>length_mean_04</td>\n",
       "      <td>1.2044</td>\n",
       "    </tr>\n",
       "    <tr>\n",
       "      <th>75</th>\n",
       "      <td>compound_min_08</td>\n",
       "      <td>-0.7744</td>\n",
       "    </tr>\n",
       "    <tr>\n",
       "      <th>76</th>\n",
       "      <td>compound_min_09</td>\n",
       "      <td>-0.8668</td>\n",
       "    </tr>\n",
       "    <tr>\n",
       "      <th>77</th>\n",
       "      <td>compound_min_02</td>\n",
       "      <td>-0.8792</td>\n",
       "    </tr>\n",
       "    <tr>\n",
       "      <th>78</th>\n",
       "      <td>report_date_mode_07</td>\n",
       "      <td>-0.9390</td>\n",
       "    </tr>\n",
       "    <tr>\n",
       "      <th>79</th>\n",
       "      <td>compound_min_04</td>\n",
       "      <td>-1.1220</td>\n",
       "    </tr>\n",
       "  </tbody>\n",
       "</table>\n",
       "</div>"
      ],
      "text/plain": [
       "               variable    coef\n",
       "0   report_date_mode_08  1.7904\n",
       "1      length_median_05  1.5055\n",
       "2      length_median_04  1.4739\n",
       "3   report_date_mode_09  1.4078\n",
       "4        length_mean_04  1.2044\n",
       "75      compound_min_08 -0.7744\n",
       "76      compound_min_09 -0.8668\n",
       "77      compound_min_02 -0.8792\n",
       "78  report_date_mode_07 -0.9390\n",
       "79      compound_min_04 -1.1220"
      ]
     },
     "execution_count": 398,
     "metadata": {},
     "output_type": "execute_result"
    }
   ],
   "source": [
    "from sklearn.pipeline import Pipeline\n",
    "from sklearn.metrics import roc_auc_score\n",
    "from sklearn.linear_model import LogisticRegression\n",
    "\n",
    "logreg = LogisticRegression()\n",
    "\n",
    "model_logreg = Pipeline(steps=[('scaler', mm_x),\n",
    "                               ('model',logreg)])\n",
    "\n",
    "print('Accuracy score: ','{:.2%}'.format(model_logreg.fit(X_train,y_train).score(X_test,y_test)))\n",
    "print('ROC score: ','{:.2%}'.format(roc_auc_score(y_test,model_logreg.predict(X_test))))\n",
    "print('Training accuracy: ','{:.2%}'.format(model_logreg.score(X_train,y_train)))\n",
    "\n",
    "#The most relevant features of the Logistic Regression\n",
    "coef = pd.DataFrame(zip(X.columns,model_logreg[1].coef_[0]),columns=['variable','coef']\n",
    "                   ).sort_values('coef',0,0).reset_index(drop=True)\n",
    "coef.head().append(coef.tail())"
   ]
  },
  {
   "cell_type": "code",
   "execution_count": 399,
   "id": "d5501753",
   "metadata": {
    "ExecuteTime": {
     "end_time": "2021-05-15T21:02:08.735092Z",
     "start_time": "2021-05-15T21:02:08.717175Z"
    }
   },
   "outputs": [
    {
     "data": {
      "text/html": [
       "<style  type=\"text/css\" >\n",
       "#T_e4a0c_row0_col0,#T_e4a0c_row1_col1{\n",
       "            background-color:  #6699dd;\n",
       "            color:  #000000;\n",
       "        }#T_e4a0c_row0_col1,#T_e4a0c_row1_col0{\n",
       "            background-color:  #242629;\n",
       "            color:  #f1f1f1;\n",
       "        }</style><table id=\"T_e4a0c_\" ><thead>    <tr>        <th class=\"blank level0\" ></th>        <th class=\"col_heading level0 col0\" >0</th>        <th class=\"col_heading level0 col1\" >1</th>    </tr></thead><tbody>\n",
       "                <tr>\n",
       "                        <th id=\"T_e4a0c_level0_row0\" class=\"row_heading level0 row0\" >0</th>\n",
       "                        <td id=\"T_e4a0c_row0_col0\" class=\"data row0 col0\" >48.1%</td>\n",
       "                        <td id=\"T_e4a0c_row0_col1\" class=\"data row0 col1\" >4.8%</td>\n",
       "            </tr>\n",
       "            <tr>\n",
       "                        <th id=\"T_e4a0c_level0_row1\" class=\"row_heading level0 row1\" >1</th>\n",
       "                        <td id=\"T_e4a0c_row1_col0\" class=\"data row1 col0\" >4.8%</td>\n",
       "                        <td id=\"T_e4a0c_row1_col1\" class=\"data row1 col1\" >42.3%</td>\n",
       "            </tr>\n",
       "    </tbody></table>"
      ],
      "text/plain": [
       "<pandas.io.formats.style.Styler at 0x7fcedeec3100>"
      ]
     },
     "execution_count": 399,
     "metadata": {},
     "output_type": "execute_result"
    }
   ],
   "source": [
    "cm(model_logreg,X_test,y_test,color)"
   ]
  },
  {
   "cell_type": "code",
   "execution_count": 400,
   "id": "bde294f8",
   "metadata": {
    "ExecuteTime": {
     "end_time": "2021-05-15T21:02:11.702209Z",
     "start_time": "2021-05-15T21:02:11.675444Z"
    }
   },
   "outputs": [],
   "source": [
    "import pickle\n",
    "\n",
    "#Save the model\n",
    "with open(os.path.join(BASE_DIR,'ufo_discrete_model.pkl'), 'wb') as f:\n",
    "    pickle.dump(model_logreg,f)\n",
    "    \n",
    "#Save TAD\n",
    "X_test.join(pd.DataFrame(y_test,index=X_test.index,columns=['real'])\n",
    "           ).join(pd.DataFrame([x[1] for x in model_logreg.predict_proba(X_test)],\n",
    "                               index=X_test.index,columns=['est_proba'])\n",
    "                 ).to_csv(os.path.join(BASE_DIR,'tad_discrete.csv'),index=False)"
   ]
  },
  {
   "cell_type": "markdown",
   "id": "c4548ddc",
   "metadata": {},
   "source": [
    "### Continous"
   ]
  },
  {
   "cell_type": "code",
   "execution_count": 401,
   "id": "0ebac81c",
   "metadata": {
    "ExecuteTime": {
     "end_time": "2021-05-15T21:02:14.622681Z",
     "start_time": "2021-05-15T21:02:14.618015Z"
    }
   },
   "outputs": [],
   "source": [
    "def perc15(x): return np.percentile(x,15)\n",
    "def perc25(x): return np.percentile(x,25)\n",
    "def perc70(x): return np.percentile(x,70)"
   ]
  },
  {
   "cell_type": "code",
   "execution_count": 408,
   "id": "2d6206ed",
   "metadata": {
    "ExecuteTime": {
     "end_time": "2021-05-15T21:13:06.559066Z",
     "start_time": "2021-05-15T21:12:51.668989Z"
    }
   },
   "outputs": [
    {
     "data": {
      "text/html": [
       "<div>\n",
       "<style scoped>\n",
       "    .dataframe tbody tr th:only-of-type {\n",
       "        vertical-align: middle;\n",
       "    }\n",
       "\n",
       "    .dataframe tbody tr th {\n",
       "        vertical-align: top;\n",
       "    }\n",
       "\n",
       "    .dataframe thead th {\n",
       "        text-align: right;\n",
       "    }\n",
       "</style>\n",
       "<table border=\"1\" class=\"dataframe\">\n",
       "  <thead>\n",
       "    <tr style=\"text-align: right;\">\n",
       "      <th></th>\n",
       "      <th></th>\n",
       "      <th></th>\n",
       "      <th>occurance_count</th>\n",
       "      <th>relevance_mean</th>\n",
       "      <th>relevance_median</th>\n",
       "      <th>relevance_perc15</th>\n",
       "      <th>relevance_perc25</th>\n",
       "      <th>relevance_perc70</th>\n",
       "      <th>occurance_count_01</th>\n",
       "      <th>relevance_mean_01</th>\n",
       "      <th>relevance_median_01</th>\n",
       "      <th>relevance_perc15_01</th>\n",
       "      <th>...</th>\n",
       "      <th>relevance_median_09</th>\n",
       "      <th>relevance_perc15_09</th>\n",
       "      <th>relevance_perc25_09</th>\n",
       "      <th>relevance_perc70_09</th>\n",
       "      <th>occurance_count_10</th>\n",
       "      <th>relevance_mean_10</th>\n",
       "      <th>relevance_median_10</th>\n",
       "      <th>relevance_perc15_10</th>\n",
       "      <th>relevance_perc25_10</th>\n",
       "      <th>relevance_perc70_10</th>\n",
       "    </tr>\n",
       "    <tr>\n",
       "      <th>lat_cut</th>\n",
       "      <th>long_cut</th>\n",
       "      <th>year</th>\n",
       "      <th></th>\n",
       "      <th></th>\n",
       "      <th></th>\n",
       "      <th></th>\n",
       "      <th></th>\n",
       "      <th></th>\n",
       "      <th></th>\n",
       "      <th></th>\n",
       "      <th></th>\n",
       "      <th></th>\n",
       "      <th></th>\n",
       "      <th></th>\n",
       "      <th></th>\n",
       "      <th></th>\n",
       "      <th></th>\n",
       "      <th></th>\n",
       "      <th></th>\n",
       "      <th></th>\n",
       "      <th></th>\n",
       "      <th></th>\n",
       "      <th></th>\n",
       "    </tr>\n",
       "  </thead>\n",
       "  <tbody>\n",
       "    <tr>\n",
       "      <th>(0.0226 to 34.174]</th>\n",
       "      <th>(-78.738 to 178.442]</th>\n",
       "      <th>2009</th>\n",
       "      <td>99</td>\n",
       "      <td>0.7399</td>\n",
       "      <td>0.7578</td>\n",
       "      <td>0.6041</td>\n",
       "      <td>0.6604</td>\n",
       "      <td>0.8165</td>\n",
       "      <td>87.0000</td>\n",
       "      <td>0.7240</td>\n",
       "      <td>0.7350</td>\n",
       "      <td>0.5787</td>\n",
       "      <td>...</td>\n",
       "      <td>0.6893</td>\n",
       "      <td>0.5555</td>\n",
       "      <td>0.6011</td>\n",
       "      <td>0.7667</td>\n",
       "      <td>53.0000</td>\n",
       "      <td>0.6470</td>\n",
       "      <td>0.6308</td>\n",
       "      <td>0.4710</td>\n",
       "      <td>0.5079</td>\n",
       "      <td>0.7336</td>\n",
       "    </tr>\n",
       "  </tbody>\n",
       "</table>\n",
       "<p>1 rows × 66 columns</p>\n",
       "</div>"
      ],
      "text/plain": [
       "                                              occurance_count  relevance_mean  \\\n",
       "lat_cut            long_cut             year                                    \n",
       "(0.0226 to 34.174] (-78.738 to 178.442] 2009               99          0.7399   \n",
       "\n",
       "                                              relevance_median  \\\n",
       "lat_cut            long_cut             year                     \n",
       "(0.0226 to 34.174] (-78.738 to 178.442] 2009            0.7578   \n",
       "\n",
       "                                              relevance_perc15  \\\n",
       "lat_cut            long_cut             year                     \n",
       "(0.0226 to 34.174] (-78.738 to 178.442] 2009            0.6041   \n",
       "\n",
       "                                              relevance_perc25  \\\n",
       "lat_cut            long_cut             year                     \n",
       "(0.0226 to 34.174] (-78.738 to 178.442] 2009            0.6604   \n",
       "\n",
       "                                              relevance_perc70  \\\n",
       "lat_cut            long_cut             year                     \n",
       "(0.0226 to 34.174] (-78.738 to 178.442] 2009            0.8165   \n",
       "\n",
       "                                              occurance_count_01  \\\n",
       "lat_cut            long_cut             year                       \n",
       "(0.0226 to 34.174] (-78.738 to 178.442] 2009             87.0000   \n",
       "\n",
       "                                              relevance_mean_01  \\\n",
       "lat_cut            long_cut             year                      \n",
       "(0.0226 to 34.174] (-78.738 to 178.442] 2009             0.7240   \n",
       "\n",
       "                                              relevance_median_01  \\\n",
       "lat_cut            long_cut             year                        \n",
       "(0.0226 to 34.174] (-78.738 to 178.442] 2009               0.7350   \n",
       "\n",
       "                                              relevance_perc15_01  ...  \\\n",
       "lat_cut            long_cut             year                       ...   \n",
       "(0.0226 to 34.174] (-78.738 to 178.442] 2009               0.5787  ...   \n",
       "\n",
       "                                              relevance_median_09  \\\n",
       "lat_cut            long_cut             year                        \n",
       "(0.0226 to 34.174] (-78.738 to 178.442] 2009               0.6893   \n",
       "\n",
       "                                              relevance_perc15_09  \\\n",
       "lat_cut            long_cut             year                        \n",
       "(0.0226 to 34.174] (-78.738 to 178.442] 2009               0.5555   \n",
       "\n",
       "                                              relevance_perc25_09  \\\n",
       "lat_cut            long_cut             year                        \n",
       "(0.0226 to 34.174] (-78.738 to 178.442] 2009               0.6011   \n",
       "\n",
       "                                              relevance_perc70_09  \\\n",
       "lat_cut            long_cut             year                        \n",
       "(0.0226 to 34.174] (-78.738 to 178.442] 2009               0.7667   \n",
       "\n",
       "                                              occurance_count_10  \\\n",
       "lat_cut            long_cut             year                       \n",
       "(0.0226 to 34.174] (-78.738 to 178.442] 2009             53.0000   \n",
       "\n",
       "                                              relevance_mean_10  \\\n",
       "lat_cut            long_cut             year                      \n",
       "(0.0226 to 34.174] (-78.738 to 178.442] 2009             0.6470   \n",
       "\n",
       "                                              relevance_median_10  \\\n",
       "lat_cut            long_cut             year                        \n",
       "(0.0226 to 34.174] (-78.738 to 178.442] 2009               0.6308   \n",
       "\n",
       "                                              relevance_perc15_10  \\\n",
       "lat_cut            long_cut             year                        \n",
       "(0.0226 to 34.174] (-78.738 to 178.442] 2009               0.4710   \n",
       "\n",
       "                                              relevance_perc25_10  \\\n",
       "lat_cut            long_cut             year                        \n",
       "(0.0226 to 34.174] (-78.738 to 178.442] 2009               0.5079   \n",
       "\n",
       "                                              relevance_perc70_10  \n",
       "lat_cut            long_cut             year                       \n",
       "(0.0226 to 34.174] (-78.738 to 178.442] 2009               0.7336  \n",
       "\n",
       "[1 rows x 66 columns]"
      ]
     },
     "execution_count": 408,
     "metadata": {},
     "output_type": "execute_result"
    }
   ],
   "source": [
    "df = pd.read_csv(os.path.join(BASE_DIR,'ufo_sentim.csv')).dropna()\n",
    "df = multishift(df,id_cols=['lat_cut','long_cut'],\n",
    "                date_cols=['year'],\n",
    "                shifts=range(1,11),\n",
    "                aggfunc={'occurance':'count',\n",
    "                         'relevance':['mean',perc15,perc25,'median',perc70]\n",
    "                        }).dropna()\n",
    "df.sample()"
   ]
  },
  {
   "cell_type": "code",
   "execution_count": 409,
   "id": "80520ab5",
   "metadata": {
    "ExecuteTime": {
     "end_time": "2021-05-15T21:13:06.980783Z",
     "start_time": "2021-05-15T21:13:06.976351Z"
    }
   },
   "outputs": [
    {
     "name": "stdout",
     "output_type": "stream",
     "text": [
      "['occurance_count', 'relevance_mean', 'relevance_median', 'relevance_perc15', 'relevance_perc25', 'relevance_perc70']\n"
     ]
    }
   ],
   "source": [
    "#Save the columns with the previous dates info\n",
    "prev = df.head().filter(regex='_\\d+').columns.tolist()\n",
    "actual = [x for x in df.columns if x not in prev]\n",
    "print(actual)"
   ]
  },
  {
   "cell_type": "code",
   "execution_count": 410,
   "id": "294f0933",
   "metadata": {
    "ExecuteTime": {
     "end_time": "2021-05-15T21:13:07.362444Z",
     "start_time": "2021-05-15T21:13:07.356336Z"
    }
   },
   "outputs": [],
   "source": [
    "from sklearn.preprocessing import MinMaxScaler\n",
    "from sklearn.model_selection import train_test_split\n",
    "\n",
    "X = df[prev].copy()\n",
    "y = df['occurance_count'].values\n",
    "\n",
    "X_train, X_test, y_train, y_test = train_test_split(X,y,\n",
    "                                                    train_size=0.6,\n",
    "                                                    random_state=22)\n",
    "mm_x = MinMaxScaler()"
   ]
  },
  {
   "cell_type": "code",
   "execution_count": 411,
   "id": "0e14fa19",
   "metadata": {
    "ExecuteTime": {
     "end_time": "2021-05-15T21:13:07.968566Z",
     "start_time": "2021-05-15T21:13:07.735097Z"
    }
   },
   "outputs": [
    {
     "name": "stdout",
     "output_type": "stream",
     "text": [
      "R2 score:  77.75%\n",
      "Training R2:  97.65%\n"
     ]
    },
    {
     "data": {
      "text/html": [
       "<div>\n",
       "<style scoped>\n",
       "    .dataframe tbody tr th:only-of-type {\n",
       "        vertical-align: middle;\n",
       "    }\n",
       "\n",
       "    .dataframe tbody tr th {\n",
       "        vertical-align: top;\n",
       "    }\n",
       "\n",
       "    .dataframe thead th {\n",
       "        text-align: right;\n",
       "    }\n",
       "</style>\n",
       "<table border=\"1\" class=\"dataframe\">\n",
       "  <thead>\n",
       "    <tr style=\"text-align: right;\">\n",
       "      <th></th>\n",
       "      <th>0</th>\n",
       "      <th>1</th>\n",
       "    </tr>\n",
       "  </thead>\n",
       "  <tbody>\n",
       "    <tr>\n",
       "      <th>0</th>\n",
       "      <td>occurance_count_01</td>\n",
       "      <td>0.4790</td>\n",
       "    </tr>\n",
       "    <tr>\n",
       "      <th>1</th>\n",
       "      <td>occurance_count_02</td>\n",
       "      <td>0.1696</td>\n",
       "    </tr>\n",
       "    <tr>\n",
       "      <th>2</th>\n",
       "      <td>occurance_count_03</td>\n",
       "      <td>0.1604</td>\n",
       "    </tr>\n",
       "    <tr>\n",
       "      <th>3</th>\n",
       "      <td>occurance_count_04</td>\n",
       "      <td>0.0403</td>\n",
       "    </tr>\n",
       "    <tr>\n",
       "      <th>4</th>\n",
       "      <td>occurance_count_08</td>\n",
       "      <td>0.0246</td>\n",
       "    </tr>\n",
       "    <tr>\n",
       "      <th>5</th>\n",
       "      <td>occurance_count_05</td>\n",
       "      <td>0.0096</td>\n",
       "    </tr>\n",
       "    <tr>\n",
       "      <th>6</th>\n",
       "      <td>relevance_perc15_10</td>\n",
       "      <td>0.0063</td>\n",
       "    </tr>\n",
       "    <tr>\n",
       "      <th>7</th>\n",
       "      <td>occurance_count_09</td>\n",
       "      <td>0.0058</td>\n",
       "    </tr>\n",
       "    <tr>\n",
       "      <th>8</th>\n",
       "      <td>relevance_perc15_07</td>\n",
       "      <td>0.0057</td>\n",
       "    </tr>\n",
       "    <tr>\n",
       "      <th>9</th>\n",
       "      <td>relevance_median_07</td>\n",
       "      <td>0.0048</td>\n",
       "    </tr>\n",
       "  </tbody>\n",
       "</table>\n",
       "</div>"
      ],
      "text/plain": [
       "                     0      1\n",
       "0   occurance_count_01 0.4790\n",
       "1   occurance_count_02 0.1696\n",
       "2   occurance_count_03 0.1604\n",
       "3   occurance_count_04 0.0403\n",
       "4   occurance_count_08 0.0246\n",
       "5   occurance_count_05 0.0096\n",
       "6  relevance_perc15_10 0.0063\n",
       "7   occurance_count_09 0.0058\n",
       "8  relevance_perc15_07 0.0057\n",
       "9  relevance_median_07 0.0048"
      ]
     },
     "execution_count": 411,
     "metadata": {},
     "output_type": "execute_result"
    }
   ],
   "source": [
    "from sklearn.pipeline import Pipeline\n",
    "from sklearn.ensemble import RandomForestRegressor\n",
    "\n",
    "forest = RandomForestRegressor(n_jobs=-1,random_state=22)\n",
    "\n",
    "model_forest = Pipeline(steps=[('scaler', mm_x),\n",
    "                               ('model', forest)])\n",
    "\n",
    "print('R2 score: ','{:.2%}'.format(model_forest.fit(X_train,y_train).score(X_test,y_test)))\n",
    "print('Training R2: ','{:.2%}'.format(model_forest.score(X_train,y_train)))\n",
    "\n",
    "#The most relevant features of the Random Forest Regressor\n",
    "pd.DataFrame(zip(X.columns,model_forest[1].feature_importances_)).sort_values(1,0,0).head(10).reset_index(drop=True)"
   ]
  },
  {
   "cell_type": "code",
   "execution_count": null,
   "id": "f964c308",
   "metadata": {
    "ExecuteTime": {
     "start_time": "2021-05-15T21:12:52.897Z"
    }
   },
   "outputs": [
    {
     "name": "stdout",
     "output_type": "stream",
     "text": [
      "Requirement already satisfied: xgboost in /Users/efraflores/Desktop/hub/diplo/venv/lib/python3.9/site-packages (1.4.2)\n",
      "Requirement already satisfied: scipy in /Users/efraflores/Desktop/hub/diplo/venv/lib/python3.9/site-packages (from xgboost) (1.6.3)\n",
      "Requirement already satisfied: numpy in /Users/efraflores/Desktop/hub/diplo/venv/lib/python3.9/site-packages (from xgboost) (1.20.2)\n",
      "Fitting 4 folds for each of 70 candidates, totalling 280 fits\n"
     ]
    }
   ],
   "source": [
    "'''!pip install xgboost'''\n",
    "from xgboost.sklearn import XGBRegressor\n",
    "xgb = XGBRegressor()\n",
    "\n",
    "param_xgb = {'learning_rate':[x/100 for x in range(1,52,5)],\n",
    "             'n_estimators':[x for x in range(100,1100,100)],\n",
    "             'max_depth':[x for x in range(1,11)], \n",
    "             'min_child_weight':[x/10 for x in range(1,101,10)],\n",
    "             'reg_lambda': [x/10 for x in range(1,101,10)]\n",
    "            }\n",
    "            \n",
    "from sklearn.model_selection import RandomizedSearchCV\n",
    "search_xgb = RandomizedSearchCV(param_distributions = param_xgb, \n",
    "                                cv = 4, \n",
    "                                n_jobs = -1, \n",
    "                                scoring = 'r2', \n",
    "                                estimator = xgb, \n",
    "                                verbose = 1,\n",
    "                                n_iter = 70,\n",
    "                                random_state = 22)\n",
    "\n",
    "model_xgb = Pipeline(steps=[('scaler', mm_x),\n",
    "                            ('model', search_xgb)])\n",
    "\n",
    "print('R2 score: ','{:.2%}'.format(model_xgb.fit(X_train,y_train).score(X_test,y_test)))\n",
    "print('Training R2: ','{:.2%}'.format(model_xgb.score(X_train,y_train)))\n",
    "\n",
    "#The most relevant features to the model_xgb\n",
    "pd.DataFrame(zip(X.columns,model_xgb[1].best_estimator_.feature_importances_)).sort_values(1,0,0).head(10).reset_index(drop=True)"
   ]
  },
  {
   "cell_type": "markdown",
   "id": "c097bd04",
   "metadata": {},
   "source": [
    "## End"
   ]
  },
  {
   "cell_type": "code",
   "execution_count": null,
   "id": "37766442",
   "metadata": {
    "ExecuteTime": {
     "end_time": "2021-05-14T18:26:20.488855Z",
     "start_time": "2021-05-14T18:13:57.855Z"
    }
   },
   "outputs": [],
   "source": [
    "time_exp(time.time() - start)\n",
    "tone()"
   ]
  }
 ],
 "metadata": {
  "kernelspec": {
   "display_name": "Python 3",
   "language": "python",
   "name": "python3"
  },
  "language_info": {
   "codemirror_mode": {
    "name": "ipython",
    "version": 3
   },
   "file_extension": ".py",
   "mimetype": "text/x-python",
   "name": "python",
   "nbconvert_exporter": "python",
   "pygments_lexer": "ipython3",
   "version": "3.9.1"
  },
  "toc": {
   "base_numbering": 1,
   "nav_menu": {},
   "number_sections": true,
   "sideBar": true,
   "skip_h1_title": true,
   "title_cell": "Table of Contents",
   "title_sidebar": "Contents",
   "toc_cell": false,
   "toc_position": {
    "height": "calc(100% - 180px)",
    "left": "10px",
    "top": "150px",
    "width": "263.391px"
   },
   "toc_section_display": true,
   "toc_window_display": true
  },
  "varInspector": {
   "cols": {
    "lenName": 16,
    "lenType": 16,
    "lenVar": 40
   },
   "kernels_config": {
    "python": {
     "delete_cmd_postfix": "",
     "delete_cmd_prefix": "del ",
     "library": "var_list.py",
     "varRefreshCmd": "print(var_dic_list())"
    },
    "r": {
     "delete_cmd_postfix": ") ",
     "delete_cmd_prefix": "rm(",
     "library": "var_list.r",
     "varRefreshCmd": "cat(var_dic_list()) "
    }
   },
   "types_to_exclude": [
    "module",
    "function",
    "builtin_function_or_method",
    "instance",
    "_Feature"
   ],
   "window_display": false
  }
 },
 "nbformat": 4,
 "nbformat_minor": 5
}
