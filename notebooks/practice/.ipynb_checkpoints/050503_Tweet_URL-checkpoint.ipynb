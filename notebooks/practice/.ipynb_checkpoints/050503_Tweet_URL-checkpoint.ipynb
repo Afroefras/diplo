{
 "cells": [
  {
   "cell_type": "code",
   "execution_count": 2,
   "id": "e230e1b1",
   "metadata": {
    "ExecuteTime": {
     "end_time": "2021-06-11T02:02:57.838879Z",
     "start_time": "2021-06-11T02:02:57.835637Z"
    }
   },
   "outputs": [],
   "source": [
    "import sys\n",
    "sys.path.append('/Users/efraflores/Desktop/hub/diplo/venv/lib/python3.9/site-packages')"
   ]
  },
  {
   "cell_type": "code",
   "execution_count": 4,
   "id": "33239c28",
   "metadata": {
    "ExecuteTime": {
     "end_time": "2021-06-11T02:05:21.580906Z",
     "start_time": "2021-06-11T02:05:13.641370Z"
    }
   },
   "outputs": [
    {
     "name": "stdout",
     "output_type": "stream",
     "text": [
      "Pésimo partido, me hizo sentir triste, los odio\n"
     ]
    },
    {
     "data": {
      "text/plain": [
       "{'time_stamp': '11/06/2021T02:05',\n",
       " 'team_name': 'Untitled',\n",
       " 'proba_positive': 0.004,\n",
       " 'proba_negative': 0.993,\n",
       " 'proba_neutral': 0.002,\n",
       " 'proba_mixed': 0.0,\n",
       " 'class': 'NEGATIVE',\n",
       " 'cluster': 'Spam'}"
      ]
     },
     "execution_count": 4,
     "metadata": {},
     "output_type": "execute_result"
    }
   ],
   "source": [
    "import json \n",
    "import requests\n",
    "\n",
    "url=\"https://7yaymmaeye.execute-api.us-east-1.amazonaws.com/Prod/hello/\"    \n",
    "params = {\"tweet_text\": 'Pésimo partido, me hizo sentir triste, los odio'}\n",
    "response = requests.post(url, json=params)\n",
    "print(params['tweet_text'])\n",
    "response.json()"
   ]
  }
 ],
 "metadata": {
  "kernelspec": {
   "display_name": "Python 3",
   "language": "python",
   "name": "python3"
  },
  "language_info": {
   "codemirror_mode": {
    "name": "ipython",
    "version": 3
   },
   "file_extension": ".py",
   "mimetype": "text/x-python",
   "name": "python",
   "nbconvert_exporter": "python",
   "pygments_lexer": "ipython3",
   "version": "3.9.1"
  },
  "toc": {
   "base_numbering": 1,
   "nav_menu": {},
   "number_sections": true,
   "sideBar": true,
   "skip_h1_title": true,
   "title_cell": "Table of Contents",
   "title_sidebar": "Contents",
   "toc_cell": false,
   "toc_position": {},
   "toc_section_display": true,
   "toc_window_display": false
  },
  "varInspector": {
   "cols": {
    "lenName": 16,
    "lenType": 16,
    "lenVar": 40
   },
   "kernels_config": {
    "python": {
     "delete_cmd_postfix": "",
     "delete_cmd_prefix": "del ",
     "library": "var_list.py",
     "varRefreshCmd": "print(var_dic_list())"
    },
    "r": {
     "delete_cmd_postfix": ") ",
     "delete_cmd_prefix": "rm(",
     "library": "var_list.r",
     "varRefreshCmd": "cat(var_dic_list()) "
    }
   },
   "types_to_exclude": [
    "module",
    "function",
    "builtin_function_or_method",
    "instance",
    "_Feature"
   ],
   "window_display": false
  }
 },
 "nbformat": 4,
 "nbformat_minor": 5
}
