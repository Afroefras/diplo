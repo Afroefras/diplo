{
 "cells": [
  {
   "cell_type": "markdown",
   "id": "84fd9336",
   "metadata": {},
   "source": [
    "# Tweets"
   ]
  },
  {
   "cell_type": "markdown",
   "id": "98198b8f",
   "metadata": {
    "heading_collapsed": true
   },
   "source": [
    "## Import"
   ]
  },
  {
   "cell_type": "code",
   "execution_count": 34,
   "id": "e79ccb10",
   "metadata": {
    "ExecuteTime": {
     "end_time": "2021-06-05T17:22:00.672637Z",
     "start_time": "2021-06-05T17:22:00.668990Z"
    },
    "hidden": true
   },
   "outputs": [],
   "source": [
    "import sys\n",
    "sys.path.append('/Users/efraflores/Desktop/hub/diplo/venv/lib/python3.9/site-packages')"
   ]
  },
  {
   "cell_type": "code",
   "execution_count": 35,
   "id": "f6e703ae",
   "metadata": {
    "ExecuteTime": {
     "end_time": "2021-06-05T17:22:00.684887Z",
     "start_time": "2021-06-05T17:22:00.679506Z"
    },
    "hidden": true
   },
   "outputs": [
    {
     "name": "stdout",
     "output_type": "stream",
     "text": [
      "['0501_cred.json', '0503_fraud.csv', 'tuit_model_supervised.pickle', '0505_profiles.csv', '.DS_Store', '0505_clusters.csv', 'tad_continous.csv', '0503_trans.csv', '0505_tuit.csv', 'ufo_discrete_model.pkl', '0503_holder.csv', 'ufo_continous_model.pkl', '0503_tad.csv', 'tuit_tokenizer.pickle', '0503_Xclustering.csv', '0503_city.csv', '0501_untitled.csv', 'tad_discrete.csv', 'tuit_model_unsupervised.pickle', 'ufo_sentim.csv', '0502_ufo_data.csv', '0505']\n"
     ]
    }
   ],
   "source": [
    "import os\n",
    "\n",
    "BASE_DIR = '/Users/efraflores/Desktop/EF/Diplo/data/05'\n",
    "FILE_NAME = '0505_tuit.csv'\n",
    "print(os.listdir(BASE_DIR))"
   ]
  },
  {
   "cell_type": "code",
   "execution_count": 36,
   "id": "00db0a90",
   "metadata": {
    "ExecuteTime": {
     "end_time": "2021-06-05T17:22:01.634056Z",
     "start_time": "2021-06-05T17:22:00.688088Z"
    },
    "hidden": true
   },
   "outputs": [
    {
     "name": "stdout",
     "output_type": "stream",
     "text": [
      "<class 'pandas.core.frame.DataFrame'>\n",
      "Int64Index: 132707 entries, 1027179935184703489 to 1025806323844300800\n",
      "Data columns (total 2 columns):\n",
      " #   Column      Non-Null Count   Dtype \n",
      "---  ------      --------------   ----- \n",
      " 0   tweet_text  132707 non-null  object\n",
      " 1   sentiment   132707 non-null  object\n",
      "dtypes: object(2)\n",
      "memory usage: 3.0+ MB\n",
      "None\n"
     ]
    },
    {
     "data": {
      "text/html": [
       "<div>\n",
       "<style scoped>\n",
       "    .dataframe tbody tr th:only-of-type {\n",
       "        vertical-align: middle;\n",
       "    }\n",
       "\n",
       "    .dataframe tbody tr th {\n",
       "        vertical-align: top;\n",
       "    }\n",
       "\n",
       "    .dataframe thead th {\n",
       "        text-align: right;\n",
       "    }\n",
       "</style>\n",
       "<table border=\"1\" class=\"dataframe\">\n",
       "  <thead>\n",
       "    <tr style=\"text-align: right;\">\n",
       "      <th></th>\n",
       "      <th>tweet_text</th>\n",
       "      <th>sentiment</th>\n",
       "    </tr>\n",
       "    <tr>\n",
       "      <th>tweet_id</th>\n",
       "      <th></th>\n",
       "      <th></th>\n",
       "    </tr>\n",
       "  </thead>\n",
       "  <tbody>\n",
       "    <tr>\n",
       "      <th>1019597293853474816</th>\n",
       "      <td>Torneo Infantil Tres Fronteras, a jugarse en C...</td>\n",
       "      <td>NEUTRAL</td>\n",
       "    </tr>\n",
       "  </tbody>\n",
       "</table>\n",
       "</div>"
      ],
      "text/plain": [
       "                                                            tweet_text  \\\n",
       "tweet_id                                                                 \n",
       "1019597293853474816  Torneo Infantil Tres Fronteras, a jugarse en C...   \n",
       "\n",
       "                    sentiment  \n",
       "tweet_id                       \n",
       "1019597293853474816   NEUTRAL  "
      ]
     },
     "execution_count": 36,
     "metadata": {},
     "output_type": "execute_result"
    }
   ],
   "source": [
    "import pandas as pd\n",
    "pd.options.display.float_format = '{:.4f}'.format\n",
    "\n",
    "df = pd.read_csv(os.path.join(BASE_DIR,FILE_NAME),encoding='latin').set_index('tweet_id')\n",
    "backup = df.copy()\n",
    "df = df[['tweet_text','sentiment']].copy()\n",
    "print(df.info())\n",
    "df.sample()"
   ]
  },
  {
   "cell_type": "markdown",
   "id": "357110df",
   "metadata": {
    "heading_collapsed": true
   },
   "source": [
    "## Functions"
   ]
  },
  {
   "cell_type": "markdown",
   "id": "01b8bcc8",
   "metadata": {
    "heading_collapsed": true,
    "hidden": true
   },
   "source": [
    "### Timing and tone"
   ]
  },
  {
   "cell_type": "code",
   "execution_count": 37,
   "id": "c1c25a9b",
   "metadata": {
    "ExecuteTime": {
     "end_time": "2021-06-05T17:22:01.642709Z",
     "start_time": "2021-06-05T17:22:01.637171Z"
    },
    "hidden": true
   },
   "outputs": [],
   "source": [
    "import time\n",
    "import numpy as np\n",
    "from IPython.lib.display import Audio\n",
    "\n",
    "start = time.time()\n",
    "def time_exp(x):\n",
    "    #Just print how many minutes and seconds have passed\n",
    "    minutes, seconds = np.floor(x/60), 60*(x/60-np.floor(x/60))\n",
    "    print(f\"{'{:.0f}'.format(minutes)} minutos con {'{:.2f}'.format(seconds)} segundos\")\n",
    "    \n",
    "def tone(a=1000, b=700, play_time_seconds=1, framerate=4410):\n",
    "    #Make a sound! Useful while training models\n",
    "    t = np.linspace(0, play_time_seconds, framerate*play_time_seconds)*np.pi\n",
    "    return Audio(np.sin(a*t)+np.sin(b*t), rate=framerate, autoplay=True)"
   ]
  },
  {
   "cell_type": "markdown",
   "id": "e75c48e4",
   "metadata": {
    "heading_collapsed": true,
    "hidden": true
   },
   "source": [
    "### Clean tweet"
   ]
  },
  {
   "cell_type": "code",
   "execution_count": 38,
   "id": "6a3bbcc5",
   "metadata": {
    "ExecuteTime": {
     "end_time": "2021-06-05T17:22:01.649266Z",
     "start_time": "2021-06-05T17:22:01.645153Z"
    },
    "hidden": true
   },
   "outputs": [],
   "source": [
    "'''!pip install bs4'''\n",
    "import re, unicodedata\n",
    "from bs4 import BeautifulSoup\n",
    "\n",
    "def limpiar_texto(text):\n",
    "  # Obtenemos el texto:\n",
    "  text = BeautifulSoup(unicodedata.normalize('NFD', text).encode('ascii', 'ignore'), \"lxml\").get_text()\n",
    "  # Eliminación de las menciones en los tweets. Se excluyen los @ juntos con todos los caracteres que le siguen (De la A a la Z, en minúsculas y mayusculas, y números del 0 al 9)\n",
    "  #text = re.sub(r\"@[A-Za-z0-9]+\", ' ', text)\n",
    "  # Eliminación de los links que inicien con https o http. Inicamos que la s es opcional (s?).\n",
    "  text = re.sub(r\"https?://[A-Za-z0-9./]+\", ' ', text)\n",
    "  # Eliminación de los links que inicien con www.\n",
    "  text = re.sub(r\"www.[A-Za-z0-9./]+\", ' ', text)\n",
    "  # Eliminación de todos los catacteres menos las letras y signos de puntuación. \n",
    "  text = re.sub(r\"[^a-zA-Z.!?']\", ' ', text)\n",
    "  # Eliminamos espacios en blanco dobles.\n",
    "  text = re.sub(r\" +\", ' ', text)\n",
    "  return text.lower()"
   ]
  },
  {
   "cell_type": "markdown",
   "id": "ad83560f",
   "metadata": {
    "heading_collapsed": true,
    "hidden": true
   },
   "source": [
    "### Clean text"
   ]
  },
  {
   "cell_type": "code",
   "execution_count": 39,
   "id": "0c46160f",
   "metadata": {
    "ExecuteTime": {
     "end_time": "2021-06-05T17:22:01.668014Z",
     "start_time": "2021-06-05T17:22:01.651303Z"
    },
    "hidden": true
   },
   "outputs": [
    {
     "name": "stdout",
     "output_type": "stream",
     "text": [
      "\n",
      "Original:\t\t I am going to run!!! I ran while I was running??? ...\n",
      "Basic cleaning:\t\t I am going to run I ran while I was running\n",
      "Changing the pattern:\t I am going to run!!! I ran while I was running ...\n",
      "Without stopwords:\t I going run I ran I running\n",
      "Lower and lemma:\t i be go to run i run while i be run\n",
      "Super cleaning:\t\t run\n",
      "\n",
      "It actually corrects the weird accents, example\n",
      "\tFROM:\t ThÈ ÉfrâïsMã's?...\n",
      "\tTO:\t the efraisma's\n"
     ]
    }
   ],
   "source": [
    "'''\n",
    "!pip install nltk\n",
    "import nltk\n",
    "nltk.download('stopwords')\n",
    "nltk.download('wordnet')\n",
    "'''\n",
    "import re\n",
    "import unicodedata\n",
    "from nltk.corpus import stopwords\n",
    "from nltk.stem import WordNetLemmatizer\n",
    "\n",
    "lem = WordNetLemmatizer()\n",
    "\n",
    "def clean_text(text,\n",
    "               language='english',pattern=\"[^a-zA-Z'\\s]\",\n",
    "               lower=False,lemma=False,rem_stopw=False,unique=False,\n",
    "               add_stopw=[]):\n",
    "    #It clean and can remove stopwords or even lemmatize words if specified in params\n",
    "    cleaned_text = unicodedata.normalize('NFD',str(text).replace('\\n',' \\n ')).encode('ascii', 'ignore')\n",
    "    cleaned_text = re.sub(pattern,' ',cleaned_text.decode('utf-8'),flags=re.UNICODE)\n",
    "    cleaned_text = [(lem.lemmatize(word,pos='v') if lemma else word) for word in \n",
    "                    (cleaned_text.lower().split() if lower else cleaned_text.split())]\n",
    "    if rem_stopw: cleaned_text = [word for word in cleaned_text if word not in \n",
    "                                  stopwords.words(language)+add_stopw]\n",
    "    return ' '.join((set(cleaned_text) if unique else cleaned_text))\n",
    "\n",
    "#Ex\n",
    "ex = \"I am going to run!!! I ran while I was running??? ...\"\n",
    "print('\\nOriginal:\\t\\t',ex)\n",
    "print('Basic cleaning:\\t\\t',clean_text(ex))\n",
    "print('Changing the pattern:\\t',clean_text(ex,pattern=\"[^a-zA-Z!\\.]\"))\n",
    "print('Without stopwords:\\t',clean_text(ex,rem_stopw=True))\n",
    "print('Lower and lemma:\\t',clean_text(ex,lower=True,lemma=True))\n",
    "print('Super cleaning:\\t\\t',clean_text(ex,add_stopw=['go'],lower=True,rem_stopw=True,lemma=True,unique=True))\n",
    "print(\"\\nIt actually corrects the weird accents, example\\n\\tFROM:\\t ThÈ ÉfrâïsMã's?...\\n\\tTO:\\t\",clean_text(\"ThÈ ÉfrâïsMa's?...\",lower=True))"
   ]
  },
  {
   "cell_type": "markdown",
   "id": "de4eb2f0",
   "metadata": {
    "heading_collapsed": true,
    "hidden": true
   },
   "source": [
    "### Pad-sequences"
   ]
  },
  {
   "cell_type": "code",
   "execution_count": null,
   "id": "be692a3c",
   "metadata": {
    "hidden": true
   },
   "outputs": [],
   "source": [
    "import numpy as np\n",
    "\n",
    "def manual_pad(array,n):\n",
    "    return np.append(array,np.zeros(n-len(array)))"
   ]
  },
  {
   "cell_type": "markdown",
   "id": "44f36c28",
   "metadata": {
    "heading_collapsed": true,
    "hidden": true
   },
   "source": [
    "### K-clusters"
   ]
  },
  {
   "cell_type": "code",
   "execution_count": 40,
   "id": "78402b01",
   "metadata": {
    "ExecuteTime": {
     "end_time": "2021-06-05T17:22:01.677562Z",
     "start_time": "2021-06-05T17:22:01.669869Z"
    },
    "hidden": true
   },
   "outputs": [],
   "source": [
    "\n",
    "'''!pip install pygal'''\n",
    "import pygal\n",
    "from sklearn.cluster import KMeans\n",
    "from sklearn.metrics import davies_bouldin_score, silhouette_score, silhouette_samples\n",
    "\n",
    "def koptimo(df):\n",
    "    sse,db,slc = {}, {}, {}\n",
    "    for k in range(2, 16):\n",
    "        kmeans = KMeans(n_clusters = k, max_iter= 100, random_state = 22).fit(df)\n",
    "        if k == 3: labels = kmeans.labels_\n",
    "        clusters = kmeans.labels_\n",
    "        sse[k] = kmeans.inertia_ \n",
    "        db[k] = davies_bouldin_score(df, clusters)\n",
    "        slc[k] = silhouette_score(df, clusters)\n",
    "\n",
    "    dicts = [sse,db,slc]\n",
    "\n",
    "    for dicc in dicts:\n",
    "        min_value = min(list(dicc.values()))\n",
    "        max_value = max(list(dicc.values()))\n",
    "        for k in dicc.keys():\n",
    "            dicc[k] = (dicc[k] - min_value + 1)/(max_value - min_value + 1)\n",
    "\n",
    "    line_chart = pygal.Line()\n",
    "    line_chart.title = 'K-óptimo'\n",
    "    line_chart.x_labels = map(str, sse.keys())\n",
    "    for name, dicc in zip(['Inertia','DB','Silhouette'],dicts):\n",
    "        line_chart.add(name, list(map(lambda x: round(x,2), dicc.values())))\n",
    "    display(line_chart)\n",
    "    return line_chart"
   ]
  },
  {
   "cell_type": "markdown",
   "id": "6a368547",
   "metadata": {
    "heading_collapsed": true,
    "hidden": true
   },
   "source": [
    "### Clustering"
   ]
  },
  {
   "cell_type": "code",
   "execution_count": 41,
   "id": "cbccde4d",
   "metadata": {
    "ExecuteTime": {
     "end_time": "2021-06-05T17:22:01.691047Z",
     "start_time": "2021-06-05T17:22:01.681535Z"
    },
    "hidden": true
   },
   "outputs": [],
   "source": [
    "'''!pip install seaborn'''\n",
    "import string\n",
    "import warnings\n",
    "import seaborn as sns\n",
    "import matplotlib.pyplot as plt\n",
    "from sklearn.cluster import KMeans\n",
    "from sklearn.pipeline import Pipeline\n",
    "from sklearn.decomposition import PCA\n",
    "from sklearn.mixture import GaussianMixture\n",
    "from sklearn.preprocessing import MinMaxScaler\n",
    "\n",
    "warnings.filterwarnings('ignore')\n",
    "\n",
    "def clustering(df,\n",
    "               cols,\n",
    "               n_clusters=5,\n",
    "               kmeans=False):\n",
    "    df = df.copy()\n",
    "    mm_df = MinMaxScaler()\n",
    "    Xs = pd.DataFrame(mm_df.fit_transform(df[cols]), \n",
    "                      index = df.index,\n",
    "                      columns = cols)\n",
    "    \n",
    "    cluster = (KMeans(n_clusters, random_state=22) if kmeans \n",
    "               else GaussianMixture(n_clusters, random_state=22))\n",
    "    Xs['cluster'] = cluster.fit_predict(Xs)\n",
    "    \n",
    "    dict_cluster = dict(enumerate(string.ascii_uppercase[:n_clusters]))\n",
    "    df['cluster'] = Xs['cluster'].map(dict_cluster) \n",
    "    print(f'Distribución de registros en los {n_clusters} clústeres')\n",
    "    display(df['cluster'].value_counts(1).reset_index().sort_values(by='index'))\n",
    "\n",
    "    pca = PCA(2)\n",
    "    pipe_pca = Pipeline(steps=[('MinMax', mm_df),('PCA', pca)])\n",
    "    Xg = pd.DataFrame(pipe_pca.fit_transform(df.iloc[:,:-1]), \n",
    "                      index = df.index,\n",
    "                      columns = ['p1','p2'])\n",
    "    Xg['cluster'] = df['cluster'].copy()\n",
    "    print(f'Varianza explicada con 2dim: {\"{:.1%}\".format(pca.explained_variance_ratio_.sum())}')\n",
    "    \n",
    "    plt.figure(figsize=(10,6))\n",
    "    sns.scatterplot(data=Xg.sort_values(by='cluster'),\n",
    "                    x='p1',\n",
    "                    y='p2',\n",
    "                    alpha=0.5,\n",
    "                    hue='cluster', \n",
    "                    palette = 'Paired')\n",
    "    plt.legend(bbox_to_anchor=(1.01, 1),borderaxespad=0)\n",
    "    plt.show();\n",
    "    \n",
    "    return df,cluster"
   ]
  },
  {
   "cell_type": "markdown",
   "id": "c2c53d99",
   "metadata": {
    "heading_collapsed": true,
    "hidden": true
   },
   "source": [
    "### Profiles"
   ]
  },
  {
   "cell_type": "code",
   "execution_count": 42,
   "id": "339fcd8d",
   "metadata": {
    "ExecuteTime": {
     "end_time": "2021-06-05T17:22:01.709196Z",
     "start_time": "2021-06-05T17:22:01.696942Z"
    },
    "hidden": true
   },
   "outputs": [],
   "source": [
    "def profiles(df,cols=None,cluster='cluster'):\n",
    "    n_clusters = len(set(df[cluster]))\n",
    "    \n",
    "    if cols==None:\n",
    "        cols=df.columns\n",
    "        aux = df[cols].groupby(cluster).mean()\n",
    "        #aux = aux.transpose()\n",
    "        for col in aux.columns:\n",
    "            aux[col] /= aux[col].sum()\n",
    "\n",
    "        fig = plt.figure()\n",
    "        fig, ax = plt.subplots(figsize=(int(n_clusters/1.5),max(1,int(len(aux.columns)/3))))\n",
    "        fig.patch.set_facecolor('white')\n",
    "        fig.patch.set_alpha(0.9)\n",
    "        sns.heatmap(aux.transpose(),cmap='Blues')\n",
    "        plt.show();\n",
    "        \n",
    "    else:\n",
    "        for col in cols:\n",
    "            aux = df.copy()\n",
    "            aux['n'] = 1\n",
    "            aux = aux.pivot_table(index=cluster,\n",
    "                                  columns=col,\n",
    "                                  values='n',\n",
    "                                  aggfunc='count',\n",
    "                                  fill_value=0)\n",
    "            for columna in aux.columns:\n",
    "                aux[columna] /= aux[columna].sum()\n",
    "\n",
    "            fig = plt.figure()\n",
    "            fig, ax = plt.subplots(figsize=(int(n_clusters/1.5),max(1,int(len(set(df[col]))/4))))\n",
    "            fig.patch.set_facecolor('white')\n",
    "            fig.patch.set_alpha(0.9)\n",
    "            sns.heatmap(aux.transpose(), cmap = 'Blues')\n",
    "            plt.show();"
   ]
  },
  {
   "cell_type": "markdown",
   "id": "462458f3",
   "metadata": {
    "heading_collapsed": true
   },
   "source": [
    "## Transform"
   ]
  },
  {
   "cell_type": "markdown",
   "id": "27ad700d",
   "metadata": {
    "heading_collapsed": true,
    "hidden": true
   },
   "source": [
    "### Outliers"
   ]
  },
  {
   "cell_type": "code",
   "execution_count": 43,
   "id": "0ce0b7df",
   "metadata": {
    "ExecuteTime": {
     "end_time": "2021-06-05T17:22:03.462433Z",
     "start_time": "2021-06-05T17:22:01.712059Z"
    },
    "hidden": true
   },
   "outputs": [
    {
     "data": {
      "text/plain": [
       "count   132707.0000\n",
       "mean        23.1615\n",
       "std         11.2318\n",
       "min          1.0000\n",
       "0%           1.0000\n",
       "5%           9.0000\n",
       "20%         13.0000\n",
       "40%         18.0000\n",
       "50%         20.0000\n",
       "60%         24.0000\n",
       "80%         33.0000\n",
       "95%         45.0000\n",
       "max         94.0000\n",
       "Name: len, dtype: float64"
      ]
     },
     "execution_count": 43,
     "metadata": {},
     "output_type": "execute_result"
    }
   ],
   "source": [
    "#There are outliers in the title length\n",
    "df['len'] = df['tweet_text'].str.split().str.len()\n",
    "df['len'].describe([i/10 for i in range(0,10,2)]+[.05,.95])"
   ]
  },
  {
   "cell_type": "code",
   "execution_count": 44,
   "id": "d5a31c2f",
   "metadata": {
    "ExecuteTime": {
     "end_time": "2021-06-05T17:22:03.593793Z",
     "start_time": "2021-06-05T17:22:03.464084Z"
    },
    "hidden": true
   },
   "outputs": [
    {
     "data": {
      "text/plain": [
       "count   125664.0000\n",
       "mean        23.0198\n",
       "std         10.1775\n",
       "min          9.0000\n",
       "0%           9.0000\n",
       "20%         14.0000\n",
       "40%         18.0000\n",
       "50%         21.0000\n",
       "60%         24.0000\n",
       "80%         32.0000\n",
       "max         49.0000\n",
       "Name: len, dtype: float64"
      ]
     },
     "execution_count": 44,
     "metadata": {},
     "output_type": "execute_result"
    }
   ],
   "source": [
    "import numpy as np\n",
    "\n",
    "df = df[(df['len'] < np.percentile(df['len'],98))& \n",
    "        (df['len'] > np.percentile(df['len'],2))].copy()\n",
    "df['len'].describe([i/10 for i in range(0,10,2)])"
   ]
  },
  {
   "cell_type": "markdown",
   "id": "0d509a38",
   "metadata": {
    "heading_collapsed": true,
    "hidden": true
   },
   "source": [
    "### BETO"
   ]
  },
  {
   "cell_type": "code",
   "execution_count": 45,
   "id": "d647a6a3",
   "metadata": {
    "ExecuteTime": {
     "end_time": "2021-06-05T17:22:39.845126Z",
     "start_time": "2021-06-05T17:22:03.595794Z"
    },
    "hidden": true
   },
   "outputs": [
    {
     "data": {
      "text/html": [
       "<div>\n",
       "<style scoped>\n",
       "    .dataframe tbody tr th:only-of-type {\n",
       "        vertical-align: middle;\n",
       "    }\n",
       "\n",
       "    .dataframe tbody tr th {\n",
       "        vertical-align: top;\n",
       "    }\n",
       "\n",
       "    .dataframe thead th {\n",
       "        text-align: right;\n",
       "    }\n",
       "</style>\n",
       "<table border=\"1\" class=\"dataframe\">\n",
       "  <thead>\n",
       "    <tr style=\"text-align: right;\">\n",
       "      <th></th>\n",
       "      <th>tweet_text</th>\n",
       "      <th>sentiment</th>\n",
       "      <th>len</th>\n",
       "      <th>clean_tweet</th>\n",
       "    </tr>\n",
       "    <tr>\n",
       "      <th>tweet_id</th>\n",
       "      <th></th>\n",
       "      <th></th>\n",
       "      <th></th>\n",
       "      <th></th>\n",
       "    </tr>\n",
       "  </thead>\n",
       "  <tbody>\n",
       "    <tr>\n",
       "      <th>1027590410976280577</th>\n",
       "      <td>Varias cosas:\\n1. Que buen empresario el de #Y...</td>\n",
       "      <td>NEUTRAL</td>\n",
       "      <td>49</td>\n",
       "      <td>varias cosas . que buen empresario el de yerry...</td>\n",
       "    </tr>\n",
       "    <tr>\n",
       "      <th>1027209958297882625</th>\n",
       "      <td>@fernoriega @FootballFunnnys @Arsenal Ok... Tu...</td>\n",
       "      <td>NEUTRAL</td>\n",
       "      <td>10</td>\n",
       "      <td>fernoriega footballfunnnys arsenal ok... tus ...</td>\n",
       "    </tr>\n",
       "    <tr>\n",
       "      <th>1014185770444361729</th>\n",
       "      <td>@PaladarNegroWeb @LANACION @ManCity @realmadri...</td>\n",
       "      <td>NEUTRAL</td>\n",
       "      <td>12</td>\n",
       "      <td>paladarnegroweb lanacion mancity realmadrid f...</td>\n",
       "    </tr>\n",
       "    <tr>\n",
       "      <th>1019405288615612418</th>\n",
       "      <td>@UnivDeportes @El_Universal_Mx @realmadrid @Ch...</td>\n",
       "      <td>NEUTRAL</td>\n",
       "      <td>16</td>\n",
       "      <td>univdeportes el universal mx realmadrid chels...</td>\n",
       "    </tr>\n",
       "  </tbody>\n",
       "</table>\n",
       "</div>"
      ],
      "text/plain": [
       "                                                            tweet_text  \\\n",
       "tweet_id                                                                 \n",
       "1027590410976280577  Varias cosas:\\n1. Que buen empresario el de #Y...   \n",
       "1027209958297882625  @fernoriega @FootballFunnnys @Arsenal Ok... Tu...   \n",
       "1014185770444361729  @PaladarNegroWeb @LANACION @ManCity @realmadri...   \n",
       "1019405288615612418  @UnivDeportes @El_Universal_Mx @realmadrid @Ch...   \n",
       "\n",
       "                    sentiment  len  \\\n",
       "tweet_id                             \n",
       "1027590410976280577   NEUTRAL   49   \n",
       "1027209958297882625   NEUTRAL   10   \n",
       "1014185770444361729   NEUTRAL   12   \n",
       "1019405288615612418   NEUTRAL   16   \n",
       "\n",
       "                                                           clean_tweet  \n",
       "tweet_id                                                                \n",
       "1027590410976280577  varias cosas . que buen empresario el de yerry...  \n",
       "1027209958297882625   fernoriega footballfunnnys arsenal ok... tus ...  \n",
       "1014185770444361729   paladarnegroweb lanacion mancity realmadrid f...  \n",
       "1019405288615612418   univdeportes el universal mx realmadrid chels...  "
      ]
     },
     "execution_count": 45,
     "metadata": {},
     "output_type": "execute_result"
    }
   ],
   "source": [
    "df['clean_tweet'] = df['tweet_text'].apply(limpiar_texto)\n",
    "df.sample(4)"
   ]
  },
  {
   "cell_type": "code",
   "execution_count": 46,
   "id": "390f1ee0",
   "metadata": {
    "ExecuteTime": {
     "end_time": "2021-06-05T17:22:41.471657Z",
     "start_time": "2021-06-05T17:22:39.848356Z"
    },
    "hidden": true
   },
   "outputs": [],
   "source": [
    "'''!pip install transformers'''\n",
    "import transformers as ppb\n",
    "\n",
    "#Tutorial for BERT is here:\n",
    "#https://jalammar.github.io/a-visual-guide-to-using-bert-for-the-first-time/\n",
    "#model_class = ppb.DistilBertModel\n",
    "tokenizer_class = ppb.DistilBertTokenizer\n",
    "pretrained_weights = 'dccuchile/bert-base-spanish-wwm-uncased'\n",
    "\n",
    "#Want BERT instead of distilBERT? Uncomment the following line:\n",
    "#model_class, tokenizer_class, pretrained_weights = ppb.BertModel, ppb.BertTokenizer, 'bert-base-uncased'\n",
    "\n",
    "#Load pretrained model/tokenizer\n",
    "tokenizer = tokenizer_class.from_pretrained(pretrained_weights)\n",
    "#model = model_class.from_pretrained(pretrained_weights)"
   ]
  },
  {
   "cell_type": "markdown",
   "id": "e1d1a66e",
   "metadata": {
    "ExecuteTime": {
     "end_time": "2021-06-05T14:33:13.040831Z",
     "start_time": "2021-06-05T14:33:12.642308Z"
    },
    "hidden": true
   },
   "source": [
    "import pickle\n",
    "\n",
    "with open(os.path.join(BASE_DIR,'tuit_tokenizer.pickle'), 'rb') as f:\n",
    "    tokenizer = pickle.load(f)"
   ]
  },
  {
   "cell_type": "code",
   "execution_count": 49,
   "id": "5a15c613",
   "metadata": {
    "ExecuteTime": {
     "end_time": "2021-06-05T17:24:33.136603Z",
     "start_time": "2021-06-05T17:23:05.009865Z"
    },
    "hidden": true
   },
   "outputs": [
    {
     "data": {
      "text/plain": [
       "tweet_id\n",
       "1027179935184703489    [4, 18703, 1364, 1428, 1553, 2062, 5563, 1054,...\n",
       "1027260056092344320    [4, 9963, 19486, 4461, 1385, 4095, 23006, 2346...\n",
       "1028657238116843520    [4, 9940, 1049, 18750, 22379, 30958, 28397, 13...\n",
       "1025733971320160257    [4, 9096, 19488, 8194, 1009, 14926, 4601, 2036...\n",
       "Name: clean_tweet, dtype: object"
      ]
     },
     "execution_count": 49,
     "metadata": {},
     "output_type": "execute_result"
    }
   ],
   "source": [
    "#Just the first 512 words max for each row because BERT max sequence length\n",
    "tokenized = df['clean_tweet'].str.split().str[:512].apply(' '.join)\n",
    "tokenized = tokenized.apply(lambda x:tokenizer.encode(x,add_special_tokens=True))\n",
    "tokenized[:4]"
   ]
  },
  {
   "cell_type": "code",
   "execution_count": 51,
   "id": "945bd2d2",
   "metadata": {
    "ExecuteTime": {
     "end_time": "2021-06-05T17:24:58.419605Z",
     "start_time": "2021-06-05T17:24:56.495229Z"
    },
    "hidden": true
   },
   "outputs": [
    {
     "name": "stdout",
     "output_type": "stream",
     "text": [
      "(125664, 170)\n"
     ]
    }
   ],
   "source": [
    "#Every sentence should have the same lenght\n",
    "max_seq_len = max(map(len,tokenized))\n",
    "padded = np.array([manual_pad(x,max_seq_len) for x in tokenized])\n",
    "print(padded.shape)"
   ]
  },
  {
   "cell_type": "markdown",
   "id": "8067af6f",
   "metadata": {
    "heading_collapsed": true,
    "hidden": true
   },
   "source": [
    "### Variables"
   ]
  },
  {
   "cell_type": "code",
   "execution_count": 52,
   "id": "6b3654ff",
   "metadata": {
    "ExecuteTime": {
     "end_time": "2021-06-05T17:25:13.149855Z",
     "start_time": "2021-06-05T17:25:07.914183Z"
    },
    "hidden": true
   },
   "outputs": [
    {
     "data": {
      "text/html": [
       "<div>\n",
       "<style scoped>\n",
       "    .dataframe tbody tr th:only-of-type {\n",
       "        vertical-align: middle;\n",
       "    }\n",
       "\n",
       "    .dataframe tbody tr th {\n",
       "        vertical-align: top;\n",
       "    }\n",
       "\n",
       "    .dataframe thead th {\n",
       "        text-align: right;\n",
       "    }\n",
       "</style>\n",
       "<table border=\"1\" class=\"dataframe\">\n",
       "  <thead>\n",
       "    <tr style=\"text-align: right;\">\n",
       "      <th></th>\n",
       "      <th>tweet_text</th>\n",
       "      <th>sentiment</th>\n",
       "      <th>len</th>\n",
       "      <th>clean_tweet</th>\n",
       "      <th>clean</th>\n",
       "      <th>min_text</th>\n",
       "      <th>length</th>\n",
       "      <th>relevance</th>\n",
       "      <th>mentions</th>\n",
       "      <th>hashtags</th>\n",
       "      <th>uppercase</th>\n",
       "      <th>len_p_word</th>\n",
       "    </tr>\n",
       "    <tr>\n",
       "      <th>tweet_id</th>\n",
       "      <th></th>\n",
       "      <th></th>\n",
       "      <th></th>\n",
       "      <th></th>\n",
       "      <th></th>\n",
       "      <th></th>\n",
       "      <th></th>\n",
       "      <th></th>\n",
       "      <th></th>\n",
       "      <th></th>\n",
       "      <th></th>\n",
       "      <th></th>\n",
       "    </tr>\n",
       "  </thead>\n",
       "  <tbody>\n",
       "    <tr>\n",
       "      <th>1026552240847314946</th>\n",
       "      <td>INTERNACIONAL??| GUÍA VAVEL PREMIER LEAGUE| TO...</td>\n",
       "      <td>NEUTRAL</td>\n",
       "      <td>24</td>\n",
       "      <td>internacional?? guia vavel premier league toda...</td>\n",
       "      <td>internacional guia vavel premier league toda l...</td>\n",
       "      <td>dominar chelseafc guia vavel para en league co...</td>\n",
       "      <td>202</td>\n",
       "      <td>0.9158</td>\n",
       "      <td>3</td>\n",
       "      <td>3</td>\n",
       "      <td>101</td>\n",
       "      <td>8.4167</td>\n",
       "    </tr>\n",
       "  </tbody>\n",
       "</table>\n",
       "</div>"
      ],
      "text/plain": [
       "                                                            tweet_text  \\\n",
       "tweet_id                                                                 \n",
       "1026552240847314946  INTERNACIONAL??| GUÍA VAVEL PREMIER LEAGUE| TO...   \n",
       "\n",
       "                    sentiment  len  \\\n",
       "tweet_id                             \n",
       "1026552240847314946   NEUTRAL   24   \n",
       "\n",
       "                                                           clean_tweet  \\\n",
       "tweet_id                                                                 \n",
       "1026552240847314946  internacional?? guia vavel premier league toda...   \n",
       "\n",
       "                                                                 clean  \\\n",
       "tweet_id                                                                 \n",
       "1026552240847314946  internacional guia vavel premier league toda l...   \n",
       "\n",
       "                                                              min_text  \\\n",
       "tweet_id                                                                 \n",
       "1026552240847314946  dominar chelseafc guia vavel para en league co...   \n",
       "\n",
       "                     length  relevance  mentions  hashtags  uppercase  \\\n",
       "tweet_id                                                                \n",
       "1026552240847314946     202     0.9158         3         3        101   \n",
       "\n",
       "                     len_p_word  \n",
       "tweet_id                         \n",
       "1026552240847314946      8.4167  "
      ]
     },
     "execution_count": 52,
     "metadata": {},
     "output_type": "execute_result"
    }
   ],
   "source": [
    "df['clean'] = df['tweet_text'].apply(lambda x: clean_text(x,language='spanish',lower=True,pattern=\"[^a-zA-Z\\s]\"))\n",
    "\n",
    "df['min_text'] = df['tweet_text'].apply(lambda x: clean_text(x,language='spanish',lower=True,\n",
    "                                                   pattern=\"[^a-zA-Z\\s]\",\n",
    "                                                   unique=True))\n",
    "df['length'] = df['clean'].apply(len)\n",
    "df['relevance'] = df['min_text'].apply(len) / (df['length']+1e-10)\n",
    "\n",
    "df['mentions'] = df['tweet_text'].apply(lambda x: len(re.findall('@',x)))\n",
    "df['hashtags'] = df['tweet_text'].apply(lambda x: len(re.findall('#',x)))\n",
    "df['uppercase'] = df['tweet_text'].apply(lambda x: len(re.findall('[A-Z]',x)))\n",
    "df['len_p_word'] = df['length'] / df['tweet_text'].apply(lambda x: len(x.split()))\n",
    "\n",
    "backup = df.copy()\n",
    "df.sample()"
   ]
  },
  {
   "cell_type": "code",
   "execution_count": 53,
   "id": "430ca119",
   "metadata": {
    "ExecuteTime": {
     "end_time": "2021-06-05T17:25:15.946084Z",
     "start_time": "2021-06-05T17:25:15.430919Z"
    },
    "hidden": true
   },
   "outputs": [
    {
     "name": "stdout",
     "output_type": "stream",
     "text": [
      "(125664, 177)\n"
     ]
    }
   ],
   "source": [
    "X = pd.DataFrame(padded,index=df.index).join(df[['len','length','relevance','mentions',\n",
    "                                                 'hashtags','uppercase','len_p_word']])\n",
    "print(X.shape)"
   ]
  },
  {
   "cell_type": "markdown",
   "id": "89e72451",
   "metadata": {
    "heading_collapsed": true
   },
   "source": [
    "## Supervised"
   ]
  },
  {
   "cell_type": "markdown",
   "id": "aaa25b78",
   "metadata": {
    "heading_collapsed": true,
    "hidden": true
   },
   "source": [
    "### Train-test"
   ]
  },
  {
   "cell_type": "code",
   "execution_count": 54,
   "id": "412d2b8c",
   "metadata": {
    "ExecuteTime": {
     "end_time": "2021-06-05T17:25:19.706536Z",
     "start_time": "2021-06-05T17:25:19.107101Z"
    },
    "hidden": true
   },
   "outputs": [
    {
     "name": "stdout",
     "output_type": "stream",
     "text": [
      "(28903, 177)\n"
     ]
    }
   ],
   "source": [
    "from sklearn.model_selection import train_test_split\n",
    "\n",
    "X_train, X_test, y_train, y_test = train_test_split(X,df['sentiment'].values,\n",
    "                                                    train_size=0.77,\n",
    "                                                    random_state=22)\n",
    "print(X_test.shape)"
   ]
  },
  {
   "cell_type": "markdown",
   "id": "130e8c19",
   "metadata": {
    "heading_collapsed": true,
    "hidden": true
   },
   "source": [
    "### LogReg"
   ]
  },
  {
   "cell_type": "markdown",
   "id": "66af1e7e",
   "metadata": {
    "ExecuteTime": {
     "end_time": "2021-06-05T17:07:21.832326Z",
     "start_time": "2021-06-05T17:07:01.949929Z"
    },
    "hidden": true
   },
   "source": [
    "from sklearn.pipeline import Pipeline\n",
    "from sklearn.linear_model import LogisticRegression\n",
    "from sklearn.preprocessing import MinMaxScaler\n",
    "\n",
    "mm_x = MinMaxScaler()\n",
    "logreg = LogisticRegression(n_jobs=-1)\n",
    "\n",
    "model_logreg = Pipeline(steps=[('scaler', mm_x),\n",
    "                               ('model', logreg)])\n",
    "\n",
    "model_logreg.fit(X_train,y_train).score(X_test,y_test)"
   ]
  },
  {
   "cell_type": "markdown",
   "id": "197949b8",
   "metadata": {
    "heading_collapsed": true,
    "hidden": true
   },
   "source": [
    "### RandomForest"
   ]
  },
  {
   "cell_type": "code",
   "execution_count": 58,
   "id": "f42f8f7b",
   "metadata": {
    "ExecuteTime": {
     "end_time": "2021-06-05T19:29:43.636385Z",
     "start_time": "2021-06-05T17:26:34.428250Z"
    },
    "hidden": true
   },
   "outputs": [
    {
     "name": "stdout",
     "output_type": "stream",
     "text": [
      "Fitting 4 folds for each of 30 candidates, totalling 120 fits\n"
     ]
    },
    {
     "data": {
      "text/plain": [
       "0.8449641905684531"
      ]
     },
     "execution_count": 58,
     "metadata": {},
     "output_type": "execute_result"
    }
   ],
   "source": [
    "from sklearn.ensemble import RandomForestClassifier \n",
    "forest = RandomForestClassifier(n_jobs=-1)\n",
    "\n",
    "param_forest = {'n_estimators': [x for x in range(1400, 1500, 20)],\n",
    "                'max_features': ['auto', 'sqrt', 'log2'],\n",
    "                'criterion': ['gini', 'entropy'],\n",
    "                'class_weight': ['balanced', None],\n",
    "                'min_samples_split': [x for x in range(10, 22,30)],\n",
    "                'min_samples_leaf': [x/100 for x in range(1, 6,2)]\n",
    "               }\n",
    "\n",
    "from sklearn.model_selection import RandomizedSearchCV\n",
    "search_forest = RandomizedSearchCV(param_distributions = param_forest, \n",
    "                                   cv = 4, \n",
    "                                   n_jobs = -1, \n",
    "                                   scoring = 'accuracy',\n",
    "                                   estimator = forest,\n",
    "                                   verbose = 5,\n",
    "                                   n_iter = 30,\n",
    "                                   random_state = 22)\n",
    "\n",
    "model_forest = Pipeline(steps=[('scaler', mm_x),\n",
    "                               ('model', search_forest)])\n",
    "\n",
    "model_forest.fit(X_train,y_train).score(X_test,y_test)"
   ]
  },
  {
   "cell_type": "markdown",
   "id": "423feac7",
   "metadata": {
    "heading_collapsed": true,
    "hidden": true
   },
   "source": [
    "### Confussion Matrix"
   ]
  },
  {
   "cell_type": "code",
   "execution_count": 59,
   "id": "fdb7d62b",
   "metadata": {
    "ExecuteTime": {
     "end_time": "2021-06-05T19:29:46.299650Z",
     "start_time": "2021-06-05T19:29:44.699908Z"
    },
    "hidden": true
   },
   "outputs": [
    {
     "data": {
      "text/html": [
       "<style  type=\"text/css\" >\n",
       "#T_c6e77_row0_col0,#T_c6e77_row0_col1,#T_c6e77_row0_col2,#T_c6e77_row0_col3,#T_c6e77_row1_col0,#T_c6e77_row1_col1,#T_c6e77_row1_col3,#T_c6e77_row2_col0,#T_c6e77_row2_col1,#T_c6e77_row2_col3,#T_c6e77_row3_col0,#T_c6e77_row3_col1,#T_c6e77_row3_col3{\n",
       "            background-color:  #f7fbff;\n",
       "            color:  #000000;\n",
       "        }#T_c6e77_row1_col2{\n",
       "            background-color:  #e8f1fa;\n",
       "            color:  #000000;\n",
       "        }#T_c6e77_row2_col2{\n",
       "            background-color:  #08306b;\n",
       "            color:  #f1f1f1;\n",
       "        }#T_c6e77_row3_col2{\n",
       "            background-color:  #e6f0f9;\n",
       "            color:  #000000;\n",
       "        }</style><table id=\"T_c6e77_\" ><thead>    <tr>        <th class=\"blank level0\" ></th>        <th class=\"col_heading level0 col0\" >0</th>        <th class=\"col_heading level0 col1\" >1</th>        <th class=\"col_heading level0 col2\" >2</th>        <th class=\"col_heading level0 col3\" >3</th>    </tr></thead><tbody>\n",
       "                <tr>\n",
       "                        <th id=\"T_c6e77_level0_row0\" class=\"row_heading level0 row0\" >0</th>\n",
       "                        <td id=\"T_c6e77_row0_col0\" class=\"data row0 col0\" >0</td>\n",
       "                        <td id=\"T_c6e77_row0_col1\" class=\"data row0 col1\" >0</td>\n",
       "                        <td id=\"T_c6e77_row0_col2\" class=\"data row0 col2\" >148</td>\n",
       "                        <td id=\"T_c6e77_row0_col3\" class=\"data row0 col3\" >0</td>\n",
       "            </tr>\n",
       "            <tr>\n",
       "                        <th id=\"T_c6e77_level0_row1\" class=\"row_heading level0 row1\" >1</th>\n",
       "                        <td id=\"T_c6e77_row1_col0\" class=\"data row1 col0\" >0</td>\n",
       "                        <td id=\"T_c6e77_row1_col1\" class=\"data row1 col1\" >0</td>\n",
       "                        <td id=\"T_c6e77_row1_col2\" class=\"data row1 col2\" >2008</td>\n",
       "                        <td id=\"T_c6e77_row1_col3\" class=\"data row1 col3\" >0</td>\n",
       "            </tr>\n",
       "            <tr>\n",
       "                        <th id=\"T_c6e77_level0_row2\" class=\"row_heading level0 row2\" >2</th>\n",
       "                        <td id=\"T_c6e77_row2_col0\" class=\"data row2 col0\" >0</td>\n",
       "                        <td id=\"T_c6e77_row2_col1\" class=\"data row2 col1\" >0</td>\n",
       "                        <td id=\"T_c6e77_row2_col2\" class=\"data row2 col2\" >24422</td>\n",
       "                        <td id=\"T_c6e77_row2_col3\" class=\"data row2 col3\" >0</td>\n",
       "            </tr>\n",
       "            <tr>\n",
       "                        <th id=\"T_c6e77_level0_row3\" class=\"row_heading level0 row3\" >3</th>\n",
       "                        <td id=\"T_c6e77_row3_col0\" class=\"data row3 col0\" >0</td>\n",
       "                        <td id=\"T_c6e77_row3_col1\" class=\"data row3 col1\" >0</td>\n",
       "                        <td id=\"T_c6e77_row3_col2\" class=\"data row3 col2\" >2325</td>\n",
       "                        <td id=\"T_c6e77_row3_col3\" class=\"data row3 col3\" >0</td>\n",
       "            </tr>\n",
       "    </tbody></table>"
      ],
      "text/plain": [
       "<pandas.io.formats.style.Styler at 0x7ff938b142b0>"
      ]
     },
     "execution_count": 59,
     "metadata": {},
     "output_type": "execute_result"
    }
   ],
   "source": [
    "from sklearn.metrics import confusion_matrix\n",
    "model = model_forest\n",
    "pd.DataFrame(confusion_matrix(y_test,model.predict(X_test))).style.background_gradient(cmap='Blues')"
   ]
  },
  {
   "cell_type": "markdown",
   "id": "74149e70",
   "metadata": {
    "heading_collapsed": true,
    "hidden": true
   },
   "source": [
    "### Save supervised"
   ]
  },
  {
   "cell_type": "code",
   "execution_count": 21,
   "id": "bf4bf533",
   "metadata": {
    "ExecuteTime": {
     "end_time": "2021-06-05T17:07:25.242429Z",
     "start_time": "2021-06-05T17:07:25.206500Z"
    },
    "hidden": true
   },
   "outputs": [],
   "source": [
    "import pickle\n",
    "\n",
    "#First, preserve the tokenizer\n",
    "with open(os.path.join(BASE_DIR,'tuit_tokenizer.pickle'), 'wb') as f:\n",
    "    pickle.dump(tokenizer, f)"
   ]
  },
  {
   "cell_type": "code",
   "execution_count": 22,
   "id": "0e90d133",
   "metadata": {
    "ExecuteTime": {
     "end_time": "2021-06-05T17:07:25.517558Z",
     "start_time": "2021-06-05T17:07:25.512534Z"
    },
    "hidden": true
   },
   "outputs": [],
   "source": [
    "#Then the model\n",
    "with open(os.path.join(BASE_DIR,'tuit_model_supervised.pickle'), 'wb') as f:\n",
    "    pickle.dump(model, f)"
   ]
  },
  {
   "cell_type": "markdown",
   "id": "96c2020a",
   "metadata": {
    "heading_collapsed": true
   },
   "source": [
    "## Unsupervised"
   ]
  },
  {
   "cell_type": "code",
   "execution_count": 64,
   "id": "d0584ed7",
   "metadata": {
    "ExecuteTime": {
     "end_time": "2021-06-05T15:43:17.665877Z",
     "start_time": "2021-06-05T15:43:12.869216Z"
    },
    "hidden": true
   },
   "outputs": [
    {
     "data": {
      "text/html": [
       "<div>\n",
       "<style scoped>\n",
       "    .dataframe tbody tr th:only-of-type {\n",
       "        vertical-align: middle;\n",
       "    }\n",
       "\n",
       "    .dataframe tbody tr th {\n",
       "        vertical-align: top;\n",
       "    }\n",
       "\n",
       "    .dataframe thead th {\n",
       "        text-align: right;\n",
       "    }\n",
       "</style>\n",
       "<table border=\"1\" class=\"dataframe\">\n",
       "  <thead>\n",
       "    <tr style=\"text-align: right;\">\n",
       "      <th></th>\n",
       "      <th>tweet_date_created</th>\n",
       "      <th>tweet_text</th>\n",
       "      <th>language</th>\n",
       "      <th>sentiment</th>\n",
       "      <th>sentiment_score</th>\n",
       "      <th>Neutral</th>\n",
       "      <th>Negative</th>\n",
       "      <th>Positive</th>\n",
       "      <th>Mixed</th>\n",
       "    </tr>\n",
       "    <tr>\n",
       "      <th>tweet_id</th>\n",
       "      <th></th>\n",
       "      <th></th>\n",
       "      <th></th>\n",
       "      <th></th>\n",
       "      <th></th>\n",
       "      <th></th>\n",
       "      <th></th>\n",
       "      <th></th>\n",
       "      <th></th>\n",
       "    </tr>\n",
       "  </thead>\n",
       "  <tbody>\n",
       "    <tr>\n",
       "      <th>994015687009013760</th>\n",
       "      <td>2018-05-09T00:46:22</td>\n",
       "      <td>#RACING - PROBABLE 11 para enfrentar a #Arsena...</td>\n",
       "      <td>es</td>\n",
       "      <td>NEUTRAL</td>\n",
       "      <td>{\"Neutral\":0.70611274242401123046875,\"Negative...</td>\n",
       "      <td>0.7061</td>\n",
       "      <td>0.1130</td>\n",
       "      <td>0.1581</td>\n",
       "      <td>0.0228</td>\n",
       "    </tr>\n",
       "    <tr>\n",
       "      <th>1027609447668101120</th>\n",
       "      <td>2018-08-09T17:35:59.120000</td>\n",
       "      <td>@Mau0526 @FeoConGracia_ @juanseb10164988 @ibsy...</td>\n",
       "      <td>es</td>\n",
       "      <td>NEGATIVE</td>\n",
       "      <td>{\"Neutral\":0.401979744434356689453125,\"Negativ...</td>\n",
       "      <td>0.4020</td>\n",
       "      <td>0.4976</td>\n",
       "      <td>0.0355</td>\n",
       "      <td>0.0650</td>\n",
       "    </tr>\n",
       "    <tr>\n",
       "      <th>1025867470425534464</th>\n",
       "      <td>2018-08-04T22:13:59.464000</td>\n",
       "      <td>Sorprenden las cifras que gastaron #Chelsea y ...</td>\n",
       "      <td>es</td>\n",
       "      <td>NEUTRAL</td>\n",
       "      <td>{\"Neutral\":0.827860295772552490234375,\"Negativ...</td>\n",
       "      <td>0.8279</td>\n",
       "      <td>0.0243</td>\n",
       "      <td>0.1163</td>\n",
       "      <td>0.0315</td>\n",
       "    </tr>\n",
       "    <tr>\n",
       "      <th>992453377996017664</th>\n",
       "      <td>2018-05-04T17:18:18</td>\n",
       "      <td>El día de hoy cumple 31 años Cesc Fábregas fel...</td>\n",
       "      <td>es</td>\n",
       "      <td>POSITIVE</td>\n",
       "      <td>{\"Neutral\":0.41007030010223388671875,\"Negative...</td>\n",
       "      <td>0.4101</td>\n",
       "      <td>0.0505</td>\n",
       "      <td>0.5062</td>\n",
       "      <td>0.0332</td>\n",
       "    </tr>\n",
       "  </tbody>\n",
       "</table>\n",
       "</div>"
      ],
      "text/plain": [
       "                             tweet_date_created  \\\n",
       "tweet_id                                          \n",
       "994015687009013760          2018-05-09T00:46:22   \n",
       "1027609447668101120  2018-08-09T17:35:59.120000   \n",
       "1025867470425534464  2018-08-04T22:13:59.464000   \n",
       "992453377996017664          2018-05-04T17:18:18   \n",
       "\n",
       "                                                            tweet_text  \\\n",
       "tweet_id                                                                 \n",
       "994015687009013760   #RACING - PROBABLE 11 para enfrentar a #Arsena...   \n",
       "1027609447668101120  @Mau0526 @FeoConGracia_ @juanseb10164988 @ibsy...   \n",
       "1025867470425534464  Sorprenden las cifras que gastaron #Chelsea y ...   \n",
       "992453377996017664   El día de hoy cumple 31 años Cesc Fábregas fel...   \n",
       "\n",
       "                    language sentiment  \\\n",
       "tweet_id                                 \n",
       "994015687009013760        es   NEUTRAL   \n",
       "1027609447668101120       es  NEGATIVE   \n",
       "1025867470425534464       es   NEUTRAL   \n",
       "992453377996017664        es  POSITIVE   \n",
       "\n",
       "                                                       sentiment_score  \\\n",
       "tweet_id                                                                 \n",
       "994015687009013760   {\"Neutral\":0.70611274242401123046875,\"Negative...   \n",
       "1027609447668101120  {\"Neutral\":0.401979744434356689453125,\"Negativ...   \n",
       "1025867470425534464  {\"Neutral\":0.827860295772552490234375,\"Negativ...   \n",
       "992453377996017664   {\"Neutral\":0.41007030010223388671875,\"Negative...   \n",
       "\n",
       "                     Neutral  Negative  Positive  Mixed  \n",
       "tweet_id                                                 \n",
       "994015687009013760    0.7061    0.1130    0.1581 0.0228  \n",
       "1027609447668101120   0.4020    0.4976    0.0355 0.0650  \n",
       "1025867470425534464   0.8279    0.0243    0.1163 0.0315  \n",
       "992453377996017664    0.4101    0.0505    0.5062 0.0332  "
      ]
     },
     "execution_count": 64,
     "metadata": {},
     "output_type": "execute_result"
    }
   ],
   "source": [
    "df = backup.copy()\n",
    "df = df.join(pd.DataFrame(df['sentiment_score'].apply(eval).tolist(),index=df.index))\n",
    "df.sample(4)"
   ]
  },
  {
   "cell_type": "markdown",
   "id": "b4067a4a",
   "metadata": {
    "heading_collapsed": true,
    "hidden": true
   },
   "source": [
    "### K-clusters"
   ]
  },
  {
   "cell_type": "code",
   "execution_count": 93,
   "id": "8df5b7c6",
   "metadata": {
    "ExecuteTime": {
     "end_time": "2021-06-05T16:24:20.734353Z",
     "start_time": "2021-06-05T16:24:20.716019Z"
    },
    "hidden": true
   },
   "outputs": [],
   "source": [
    "X = df[['Neutral','Negative','Positive','Mixed',\n",
    "        'length','relevance','mentions','hashtags','uppercase','len_p_word']].copy()"
   ]
  },
  {
   "cell_type": "code",
   "execution_count": 59,
   "id": "eb59181d",
   "metadata": {
    "ExecuteTime": {
     "end_time": "2021-06-05T15:39:53.331798Z",
     "start_time": "2021-06-05T15:39:23.152329Z"
    },
    "hidden": true
   },
   "outputs": [
    {
     "ename": "ModuleNotFoundError",
     "evalue": "No module named 'cairosvg'",
     "output_type": "error",
     "traceback": [
      "\u001b[0;31m---------------------------------------------------------------------------\u001b[0m",
      "\u001b[0;31mModuleNotFoundError\u001b[0m                       Traceback (most recent call last)",
      "\u001b[0;32m/Library/Frameworks/Python.framework/Versions/3.9/lib/python3.9/site-packages/IPython/core/formatters.py\u001b[0m in \u001b[0;36m__call__\u001b[0;34m(self, obj)\u001b[0m\n\u001b[1;32m    343\u001b[0m             \u001b[0mmethod\u001b[0m \u001b[0;34m=\u001b[0m \u001b[0mget_real_method\u001b[0m\u001b[0;34m(\u001b[0m\u001b[0mobj\u001b[0m\u001b[0;34m,\u001b[0m \u001b[0mself\u001b[0m\u001b[0;34m.\u001b[0m\u001b[0mprint_method\u001b[0m\u001b[0;34m)\u001b[0m\u001b[0;34m\u001b[0m\u001b[0;34m\u001b[0m\u001b[0m\n\u001b[1;32m    344\u001b[0m             \u001b[0;32mif\u001b[0m \u001b[0mmethod\u001b[0m \u001b[0;32mis\u001b[0m \u001b[0;32mnot\u001b[0m \u001b[0;32mNone\u001b[0m\u001b[0;34m:\u001b[0m\u001b[0;34m\u001b[0m\u001b[0;34m\u001b[0m\u001b[0m\n\u001b[0;32m--> 345\u001b[0;31m                 \u001b[0;32mreturn\u001b[0m \u001b[0mmethod\u001b[0m\u001b[0;34m(\u001b[0m\u001b[0;34m)\u001b[0m\u001b[0;34m\u001b[0m\u001b[0;34m\u001b[0m\u001b[0m\n\u001b[0m\u001b[1;32m    346\u001b[0m             \u001b[0;32mreturn\u001b[0m \u001b[0;32mNone\u001b[0m\u001b[0;34m\u001b[0m\u001b[0;34m\u001b[0m\u001b[0m\n\u001b[1;32m    347\u001b[0m         \u001b[0;32melse\u001b[0m\u001b[0;34m:\u001b[0m\u001b[0;34m\u001b[0m\u001b[0;34m\u001b[0m\u001b[0m\n",
      "\u001b[0;32m~/Desktop/hub/diplo/venv/lib/python3.9/site-packages/pygal/graph/base.py\u001b[0m in \u001b[0;36m_repr_png_\u001b[0;34m(self)\u001b[0m\n\u001b[1;32m    232\u001b[0m     \u001b[0;32mdef\u001b[0m \u001b[0m_repr_png_\u001b[0m\u001b[0;34m(\u001b[0m\u001b[0mself\u001b[0m\u001b[0;34m)\u001b[0m\u001b[0;34m:\u001b[0m\u001b[0;34m\u001b[0m\u001b[0;34m\u001b[0m\u001b[0m\n\u001b[1;32m    233\u001b[0m         \u001b[0;34m\"\"\"Display png in IPython notebook\"\"\"\u001b[0m\u001b[0;34m\u001b[0m\u001b[0;34m\u001b[0m\u001b[0m\n\u001b[0;32m--> 234\u001b[0;31m         \u001b[0;32mreturn\u001b[0m \u001b[0mself\u001b[0m\u001b[0;34m.\u001b[0m\u001b[0mrender_to_png\u001b[0m\u001b[0;34m(\u001b[0m\u001b[0;34m)\u001b[0m\u001b[0;34m\u001b[0m\u001b[0;34m\u001b[0m\u001b[0m\n\u001b[0m",
      "\u001b[0;32m~/Desktop/hub/diplo/venv/lib/python3.9/site-packages/pygal/graph/public.py\u001b[0m in \u001b[0;36mrender_to_png\u001b[0;34m(self, filename, dpi, **kwargs)\u001b[0m\n\u001b[1;32m    116\u001b[0m     \u001b[0;32mdef\u001b[0m \u001b[0mrender_to_png\u001b[0m\u001b[0;34m(\u001b[0m\u001b[0mself\u001b[0m\u001b[0;34m,\u001b[0m \u001b[0mfilename\u001b[0m\u001b[0;34m=\u001b[0m\u001b[0;32mNone\u001b[0m\u001b[0;34m,\u001b[0m \u001b[0mdpi\u001b[0m\u001b[0;34m=\u001b[0m\u001b[0;36m72\u001b[0m\u001b[0;34m,\u001b[0m \u001b[0;34m**\u001b[0m\u001b[0mkwargs\u001b[0m\u001b[0;34m)\u001b[0m\u001b[0;34m:\u001b[0m\u001b[0;34m\u001b[0m\u001b[0;34m\u001b[0m\u001b[0m\n\u001b[1;32m    117\u001b[0m         \u001b[0;34m\"\"\"Render the graph, convert it to png and write it to filename\"\"\"\u001b[0m\u001b[0;34m\u001b[0m\u001b[0;34m\u001b[0m\u001b[0m\n\u001b[0;32m--> 118\u001b[0;31m         \u001b[0;32mimport\u001b[0m \u001b[0mcairosvg\u001b[0m\u001b[0;34m\u001b[0m\u001b[0;34m\u001b[0m\u001b[0m\n\u001b[0m\u001b[1;32m    119\u001b[0m         return cairosvg.svg2png(\n\u001b[1;32m    120\u001b[0m             bytestring=self.render(**kwargs), write_to=filename, dpi=dpi)\n",
      "\u001b[0;31mModuleNotFoundError\u001b[0m: No module named 'cairosvg'"
     ]
    },
    {
     "data": {
      "image/svg+xml": [
       "<svg xmlns=\"http://www.w3.org/2000/svg\" xmlns:xlink=\"http://www.w3.org/1999/xlink\" id=\"chart-1809da60-38bc-4b3c-b863-c8f8b3b37a40\" class=\"pygal-chart\" viewBox=\"0 0 800 600\"><!--Generated with pygal 2.4.0 (lxml) ©Kozea 2012-2016 on 2021-06-05--><!--http://pygal.org--><!--http://github.com/Kozea/pygal--><defs><style type=\"text/css\">#chart-1809da60-38bc-4b3c-b863-c8f8b3b37a40{-webkit-user-select:none;-webkit-font-smoothing:antialiased;font-family:Consolas,\"Liberation Mono\",Menlo,Courier,monospace}#chart-1809da60-38bc-4b3c-b863-c8f8b3b37a40 .title{font-family:Consolas,\"Liberation Mono\",Menlo,Courier,monospace;font-size:16px}#chart-1809da60-38bc-4b3c-b863-c8f8b3b37a40 .legends .legend text{font-family:Consolas,\"Liberation Mono\",Menlo,Courier,monospace;font-size:14px}#chart-1809da60-38bc-4b3c-b863-c8f8b3b37a40 .axis text{font-family:Consolas,\"Liberation Mono\",Menlo,Courier,monospace;font-size:10px}#chart-1809da60-38bc-4b3c-b863-c8f8b3b37a40 .axis text.major{font-family:Consolas,\"Liberation Mono\",Menlo,Courier,monospace;font-size:10px}#chart-1809da60-38bc-4b3c-b863-c8f8b3b37a40 .text-overlay text.value{font-family:Consolas,\"Liberation Mono\",Menlo,Courier,monospace;font-size:16px}#chart-1809da60-38bc-4b3c-b863-c8f8b3b37a40 .text-overlay text.label{font-family:Consolas,\"Liberation Mono\",Menlo,Courier,monospace;font-size:10px}#chart-1809da60-38bc-4b3c-b863-c8f8b3b37a40 .tooltip{font-family:Consolas,\"Liberation Mono\",Menlo,Courier,monospace;font-size:14px}#chart-1809da60-38bc-4b3c-b863-c8f8b3b37a40 text.no_data{font-family:Consolas,\"Liberation Mono\",Menlo,Courier,monospace;font-size:64px}\n",
       "#chart-1809da60-38bc-4b3c-b863-c8f8b3b37a40{background-color:rgba(249,249,249,1)}#chart-1809da60-38bc-4b3c-b863-c8f8b3b37a40 path,#chart-1809da60-38bc-4b3c-b863-c8f8b3b37a40 line,#chart-1809da60-38bc-4b3c-b863-c8f8b3b37a40 rect,#chart-1809da60-38bc-4b3c-b863-c8f8b3b37a40 circle{-webkit-transition:150ms;-moz-transition:150ms;transition:150ms}#chart-1809da60-38bc-4b3c-b863-c8f8b3b37a40 .graph &gt; .background{fill:rgba(249,249,249,1)}#chart-1809da60-38bc-4b3c-b863-c8f8b3b37a40 .plot &gt; .background{fill:rgba(255,255,255,1)}#chart-1809da60-38bc-4b3c-b863-c8f8b3b37a40 .graph{fill:rgba(0,0,0,.87)}#chart-1809da60-38bc-4b3c-b863-c8f8b3b37a40 text.no_data{fill:rgba(0,0,0,1)}#chart-1809da60-38bc-4b3c-b863-c8f8b3b37a40 .title{fill:rgba(0,0,0,1)}#chart-1809da60-38bc-4b3c-b863-c8f8b3b37a40 .legends .legend text{fill:rgba(0,0,0,.87)}#chart-1809da60-38bc-4b3c-b863-c8f8b3b37a40 .legends .legend:hover text{fill:rgba(0,0,0,1)}#chart-1809da60-38bc-4b3c-b863-c8f8b3b37a40 .axis .line{stroke:rgba(0,0,0,1)}#chart-1809da60-38bc-4b3c-b863-c8f8b3b37a40 .axis .guide.line{stroke:rgba(0,0,0,.54)}#chart-1809da60-38bc-4b3c-b863-c8f8b3b37a40 .axis .major.line{stroke:rgba(0,0,0,.87)}#chart-1809da60-38bc-4b3c-b863-c8f8b3b37a40 .axis text.major{fill:rgba(0,0,0,1)}#chart-1809da60-38bc-4b3c-b863-c8f8b3b37a40 .axis.y .guides:hover .guide.line,#chart-1809da60-38bc-4b3c-b863-c8f8b3b37a40 .line-graph .axis.x .guides:hover .guide.line,#chart-1809da60-38bc-4b3c-b863-c8f8b3b37a40 .stackedline-graph .axis.x .guides:hover .guide.line,#chart-1809da60-38bc-4b3c-b863-c8f8b3b37a40 .xy-graph .axis.x .guides:hover .guide.line{stroke:rgba(0,0,0,1)}#chart-1809da60-38bc-4b3c-b863-c8f8b3b37a40 .axis .guides:hover text{fill:rgba(0,0,0,1)}#chart-1809da60-38bc-4b3c-b863-c8f8b3b37a40 .reactive{fill-opacity:.7;stroke-opacity:.8}#chart-1809da60-38bc-4b3c-b863-c8f8b3b37a40 .ci{stroke:rgba(0,0,0,.87)}#chart-1809da60-38bc-4b3c-b863-c8f8b3b37a40 .reactive.active,#chart-1809da60-38bc-4b3c-b863-c8f8b3b37a40 .active .reactive{fill-opacity:.8;stroke-opacity:.9;stroke-width:4}#chart-1809da60-38bc-4b3c-b863-c8f8b3b37a40 .ci .reactive.active{stroke-width:1.5}#chart-1809da60-38bc-4b3c-b863-c8f8b3b37a40 .series text{fill:rgba(0,0,0,1)}#chart-1809da60-38bc-4b3c-b863-c8f8b3b37a40 .tooltip rect{fill:rgba(255,255,255,1);stroke:rgba(0,0,0,1);-webkit-transition:opacity 150ms;-moz-transition:opacity 150ms;transition:opacity 150ms}#chart-1809da60-38bc-4b3c-b863-c8f8b3b37a40 .tooltip .label{fill:rgba(0,0,0,.87)}#chart-1809da60-38bc-4b3c-b863-c8f8b3b37a40 .tooltip .label{fill:rgba(0,0,0,.87)}#chart-1809da60-38bc-4b3c-b863-c8f8b3b37a40 .tooltip .legend{font-size:.8em;fill:rgba(0,0,0,.54)}#chart-1809da60-38bc-4b3c-b863-c8f8b3b37a40 .tooltip .x_label{font-size:.6em;fill:rgba(0,0,0,1)}#chart-1809da60-38bc-4b3c-b863-c8f8b3b37a40 .tooltip .xlink{font-size:.5em;text-decoration:underline}#chart-1809da60-38bc-4b3c-b863-c8f8b3b37a40 .tooltip .value{font-size:1.5em}#chart-1809da60-38bc-4b3c-b863-c8f8b3b37a40 .bound{font-size:.5em}#chart-1809da60-38bc-4b3c-b863-c8f8b3b37a40 .max-value{font-size:.75em;fill:rgba(0,0,0,.54)}#chart-1809da60-38bc-4b3c-b863-c8f8b3b37a40 .map-element{fill:rgba(255,255,255,1);stroke:rgba(0,0,0,.54) !important}#chart-1809da60-38bc-4b3c-b863-c8f8b3b37a40 .map-element .reactive{fill-opacity:inherit;stroke-opacity:inherit}#chart-1809da60-38bc-4b3c-b863-c8f8b3b37a40 .color-0,#chart-1809da60-38bc-4b3c-b863-c8f8b3b37a40 .color-0 a:visited{stroke:#F44336;fill:#F44336}#chart-1809da60-38bc-4b3c-b863-c8f8b3b37a40 .color-1,#chart-1809da60-38bc-4b3c-b863-c8f8b3b37a40 .color-1 a:visited{stroke:#3F51B5;fill:#3F51B5}#chart-1809da60-38bc-4b3c-b863-c8f8b3b37a40 .color-2,#chart-1809da60-38bc-4b3c-b863-c8f8b3b37a40 .color-2 a:visited{stroke:#009688;fill:#009688}#chart-1809da60-38bc-4b3c-b863-c8f8b3b37a40 .text-overlay .color-0 text{fill:black}#chart-1809da60-38bc-4b3c-b863-c8f8b3b37a40 .text-overlay .color-1 text{fill:black}#chart-1809da60-38bc-4b3c-b863-c8f8b3b37a40 .text-overlay .color-2 text{fill:black}\n",
       "#chart-1809da60-38bc-4b3c-b863-c8f8b3b37a40 text.no_data{text-anchor:middle}#chart-1809da60-38bc-4b3c-b863-c8f8b3b37a40 .guide.line{fill:none}#chart-1809da60-38bc-4b3c-b863-c8f8b3b37a40 .centered{text-anchor:middle}#chart-1809da60-38bc-4b3c-b863-c8f8b3b37a40 .title{text-anchor:middle}#chart-1809da60-38bc-4b3c-b863-c8f8b3b37a40 .legends .legend text{fill-opacity:1}#chart-1809da60-38bc-4b3c-b863-c8f8b3b37a40 .axis.x text{text-anchor:middle}#chart-1809da60-38bc-4b3c-b863-c8f8b3b37a40 .axis.x:not(.web) text[transform]{text-anchor:start}#chart-1809da60-38bc-4b3c-b863-c8f8b3b37a40 .axis.x:not(.web) text[transform].backwards{text-anchor:end}#chart-1809da60-38bc-4b3c-b863-c8f8b3b37a40 .axis.y text{text-anchor:end}#chart-1809da60-38bc-4b3c-b863-c8f8b3b37a40 .axis.y text[transform].backwards{text-anchor:start}#chart-1809da60-38bc-4b3c-b863-c8f8b3b37a40 .axis.y2 text{text-anchor:start}#chart-1809da60-38bc-4b3c-b863-c8f8b3b37a40 .axis.y2 text[transform].backwards{text-anchor:end}#chart-1809da60-38bc-4b3c-b863-c8f8b3b37a40 .axis .guide.line{stroke-dasharray:4,4}#chart-1809da60-38bc-4b3c-b863-c8f8b3b37a40 .axis .major.guide.line{stroke-dasharray:6,6}#chart-1809da60-38bc-4b3c-b863-c8f8b3b37a40 .horizontal .axis.y .guide.line,#chart-1809da60-38bc-4b3c-b863-c8f8b3b37a40 .horizontal .axis.y2 .guide.line,#chart-1809da60-38bc-4b3c-b863-c8f8b3b37a40 .vertical .axis.x .guide.line{opacity:0}#chart-1809da60-38bc-4b3c-b863-c8f8b3b37a40 .horizontal .axis.always_show .guide.line,#chart-1809da60-38bc-4b3c-b863-c8f8b3b37a40 .vertical .axis.always_show .guide.line{opacity:1 !important}#chart-1809da60-38bc-4b3c-b863-c8f8b3b37a40 .axis.y .guides:hover .guide.line,#chart-1809da60-38bc-4b3c-b863-c8f8b3b37a40 .axis.y2 .guides:hover .guide.line,#chart-1809da60-38bc-4b3c-b863-c8f8b3b37a40 .axis.x .guides:hover .guide.line{opacity:1}#chart-1809da60-38bc-4b3c-b863-c8f8b3b37a40 .axis .guides:hover text{opacity:1}#chart-1809da60-38bc-4b3c-b863-c8f8b3b37a40 .nofill{fill:none}#chart-1809da60-38bc-4b3c-b863-c8f8b3b37a40 .subtle-fill{fill-opacity:.2}#chart-1809da60-38bc-4b3c-b863-c8f8b3b37a40 .dot{stroke-width:1px;fill-opacity:1}#chart-1809da60-38bc-4b3c-b863-c8f8b3b37a40 .dot.active{stroke-width:5px}#chart-1809da60-38bc-4b3c-b863-c8f8b3b37a40 .dot.negative{fill:transparent}#chart-1809da60-38bc-4b3c-b863-c8f8b3b37a40 text,#chart-1809da60-38bc-4b3c-b863-c8f8b3b37a40 tspan{stroke:none !important}#chart-1809da60-38bc-4b3c-b863-c8f8b3b37a40 .series text.active{opacity:1}#chart-1809da60-38bc-4b3c-b863-c8f8b3b37a40 .tooltip rect{fill-opacity:.95;stroke-width:.5}#chart-1809da60-38bc-4b3c-b863-c8f8b3b37a40 .tooltip text{fill-opacity:1}#chart-1809da60-38bc-4b3c-b863-c8f8b3b37a40 .showable{visibility:hidden}#chart-1809da60-38bc-4b3c-b863-c8f8b3b37a40 .showable.shown{visibility:visible}#chart-1809da60-38bc-4b3c-b863-c8f8b3b37a40 .gauge-background{fill:rgba(229,229,229,1);stroke:none}#chart-1809da60-38bc-4b3c-b863-c8f8b3b37a40 .bg-lines{stroke:rgba(249,249,249,1);stroke-width:2px}</style><script type=\"text/javascript\">window.pygal = window.pygal || {};window.pygal.config = window.pygal.config || {};window.pygal.config['1809da60-38bc-4b3c-b863-c8f8b3b37a40'] = {\"allow_interruptions\": false, \"box_mode\": \"extremes\", \"classes\": [\"pygal-chart\"], \"css\": [\"file://style.css\", \"file://graph.css\"], \"defs\": [], \"disable_xml_declaration\": true, \"dots_size\": 2.5, \"dynamic_print_values\": false, \"explicit_size\": false, \"fill\": false, \"force_uri_protocol\": \"https\", \"formatter\": null, \"half_pie\": false, \"height\": 600, \"include_x_axis\": false, \"inner_radius\": 0, \"interpolate\": null, \"interpolation_parameters\": {}, \"interpolation_precision\": 250, \"inverse_y_axis\": false, \"js\": [\"//kozea.github.io/pygal.js/2.0.x/pygal-tooltips.min.js\"], \"legend_at_bottom\": false, \"legend_at_bottom_columns\": null, \"legend_box_size\": 12, \"logarithmic\": false, \"margin\": 20, \"margin_bottom\": null, \"margin_left\": null, \"margin_right\": null, \"margin_top\": null, \"max_scale\": 16, \"min_scale\": 4, \"missing_value_fill_truncation\": \"x\", \"no_data_text\": \"No data\", \"no_prefix\": false, \"order_min\": null, \"pretty_print\": false, \"print_labels\": false, \"print_values\": false, \"print_values_position\": \"center\", \"print_zeroes\": true, \"range\": null, \"rounded_bars\": null, \"secondary_range\": null, \"show_dots\": true, \"show_legend\": true, \"show_minor_x_labels\": true, \"show_minor_y_labels\": true, \"show_only_major_dots\": false, \"show_x_guides\": false, \"show_x_labels\": true, \"show_y_guides\": true, \"show_y_labels\": true, \"spacing\": 10, \"stack_from_top\": false, \"strict\": false, \"stroke\": true, \"stroke_style\": null, \"style\": {\"background\": \"rgba(249, 249, 249, 1)\", \"ci_colors\": [], \"colors\": [\"#F44336\", \"#3F51B5\", \"#009688\", \"#FFC107\", \"#FF5722\", \"#9C27B0\", \"#03A9F4\", \"#8BC34A\", \"#FF9800\", \"#E91E63\", \"#2196F3\", \"#4CAF50\", \"#FFEB3B\", \"#673AB7\", \"#00BCD4\", \"#CDDC39\", \"#9E9E9E\", \"#607D8B\"], \"font_family\": \"Consolas, \\\"Liberation Mono\\\", Menlo, Courier, monospace\", \"foreground\": \"rgba(0, 0, 0, .87)\", \"foreground_strong\": \"rgba(0, 0, 0, 1)\", \"foreground_subtle\": \"rgba(0, 0, 0, .54)\", \"guide_stroke_dasharray\": \"4,4\", \"label_font_family\": \"Consolas, \\\"Liberation Mono\\\", Menlo, Courier, monospace\", \"label_font_size\": 10, \"legend_font_family\": \"Consolas, \\\"Liberation Mono\\\", Menlo, Courier, monospace\", \"legend_font_size\": 14, \"major_guide_stroke_dasharray\": \"6,6\", \"major_label_font_family\": \"Consolas, \\\"Liberation Mono\\\", Menlo, Courier, monospace\", \"major_label_font_size\": 10, \"no_data_font_family\": \"Consolas, \\\"Liberation Mono\\\", Menlo, Courier, monospace\", \"no_data_font_size\": 64, \"opacity\": \".7\", \"opacity_hover\": \".8\", \"plot_background\": \"rgba(255, 255, 255, 1)\", \"stroke_opacity\": \".8\", \"stroke_opacity_hover\": \".9\", \"title_font_family\": \"Consolas, \\\"Liberation Mono\\\", Menlo, Courier, monospace\", \"title_font_size\": 16, \"tooltip_font_family\": \"Consolas, \\\"Liberation Mono\\\", Menlo, Courier, monospace\", \"tooltip_font_size\": 14, \"transition\": \"150ms\", \"value_background\": \"rgba(229, 229, 229, 1)\", \"value_colors\": [], \"value_font_family\": \"Consolas, \\\"Liberation Mono\\\", Menlo, Courier, monospace\", \"value_font_size\": 16, \"value_label_font_family\": \"Consolas, \\\"Liberation Mono\\\", Menlo, Courier, monospace\", \"value_label_font_size\": 10}, \"title\": \"K-\\u00f3ptimo\", \"tooltip_border_radius\": 0, \"tooltip_fancy_mode\": true, \"truncate_label\": null, \"truncate_legend\": null, \"width\": 800, \"x_label_rotation\": 0, \"x_labels\": [\"2\", \"3\", \"4\", \"5\", \"6\", \"7\", \"8\", \"9\", \"10\", \"11\", \"12\", \"13\", \"14\", \"15\"], \"x_labels_major\": null, \"x_labels_major_count\": null, \"x_labels_major_every\": null, \"x_title\": null, \"xrange\": null, \"y_label_rotation\": 0, \"y_labels\": null, \"y_labels_major\": null, \"y_labels_major_count\": null, \"y_labels_major_every\": null, \"y_title\": null, \"zero\": 0, \"legends\": [\"Inertia\", \"DB\", \"Silhouette\"]}</script><script type=\"text/javascript\" xlink:href=\"https://kozea.github.io/pygal.js/2.0.x/pygal-tooltips.min.js\"/></defs><title>K-óptimo</title><g class=\"graph line-graph vertical\"><rect x=\"0\" y=\"0\" width=\"800\" height=\"600\" class=\"background\"/><g transform=\"translate(154, 46)\" class=\"plot\"><rect x=\"0\" y=\"0\" width=\"626.0\" height=\"514\" class=\"background\"/><g class=\"axis y always_show\"><g class=\"guides\"><path d=\"M0.000000 504.115385 h626.000000\" class=\"axis major line\"/><text x=\"-5\" y=\"507.61538461538464\" class=\"major\">0</text><title>0</title></g><g class=\"guides\"><path d=\"M0.000000 454.692308 h626.000000\" class=\"guide line\"/><text x=\"-5\" y=\"458.1923076923077\" class=\"\">0.1</text><title>0.1</title></g><g class=\"guides\"><path d=\"M0.000000 405.269231 h626.000000\" class=\"guide line\"/><text x=\"-5\" y=\"408.7692307692308\" class=\"\">0.2</text><title>0.2</title></g><g class=\"guides\"><path d=\"M0.000000 355.846154 h626.000000\" class=\"guide line\"/><text x=\"-5\" y=\"359.34615384615387\" class=\"\">0.3</text><title>0.3</title></g><g class=\"guides\"><path d=\"M0.000000 306.423077 h626.000000\" class=\"guide line\"/><text x=\"-5\" y=\"309.9230769230769\" class=\"\">0.4</text><title>0.4</title></g><g class=\"guides\"><path d=\"M0.000000 257.000000 h626.000000\" class=\"major guide line\"/><text x=\"-5\" y=\"260.5\" class=\"major\">0.5</text><title>0.5</title></g><g class=\"guides\"><path d=\"M0.000000 207.576923 h626.000000\" class=\"guide line\"/><text x=\"-5\" y=\"211.0769230769231\" class=\"\">0.6</text><title>0.6</title></g><g class=\"guides\"><path d=\"M0.000000 158.153846 h626.000000\" class=\"guide line\"/><text x=\"-5\" y=\"161.6538461538462\" class=\"\">0.7</text><title>0.7</title></g><g class=\"guides\"><path d=\"M0.000000 108.730769 h626.000000\" class=\"guide line\"/><text x=\"-5\" y=\"112.23076923076923\" class=\"\">0.8</text><title>0.8</title></g><g class=\"guides\"><path d=\"M0.000000 59.307692 h626.000000\" class=\"guide line\"/><text x=\"-5\" y=\"62.80769230769232\" class=\"\">0.9</text><title>0.9</title></g><g class=\"guides\"><path d=\"M0.000000 9.884615 h626.000000\" class=\"major guide line\"/><text x=\"-5\" y=\"13.384615384615415\" class=\"major\">1</text><title>1</title></g></g><g class=\"axis x\"><g class=\"guides\"><path d=\"M12.038462 0.000000 v514.000000\" class=\"line\"/><text x=\"12.038461538461538\" y=\"529.0\" class=\"\">2</text></g><g class=\"guides\"><path d=\"M58.340237 0.000000 v514.000000\" class=\"guide line\"/><text x=\"58.34023668639053\" y=\"529.0\" class=\"\">3</text></g><g class=\"guides\"><path d=\"M104.642012 0.000000 v514.000000\" class=\"guide line\"/><text x=\"104.64201183431952\" y=\"529.0\" class=\"\">4</text></g><g class=\"guides\"><path d=\"M150.943787 0.000000 v514.000000\" class=\"guide line\"/><text x=\"150.94378698224855\" y=\"529.0\" class=\"\">5</text></g><g class=\"guides\"><path d=\"M197.245562 0.000000 v514.000000\" class=\"guide line\"/><text x=\"197.24556213017752\" y=\"529.0\" class=\"\">6</text></g><g class=\"guides\"><path d=\"M243.547337 0.000000 v514.000000\" class=\"guide line\"/><text x=\"243.5473372781065\" y=\"529.0\" class=\"\">7</text></g><g class=\"guides\"><path d=\"M289.849112 0.000000 v514.000000\" class=\"guide line\"/><text x=\"289.8491124260355\" y=\"529.0\" class=\"\">8</text></g><g class=\"guides\"><path d=\"M336.150888 0.000000 v514.000000\" class=\"guide line\"/><text x=\"336.1508875739645\" y=\"529.0\" class=\"\">9</text></g><g class=\"guides\"><path d=\"M382.452663 0.000000 v514.000000\" class=\"guide line\"/><text x=\"382.4526627218935\" y=\"529.0\" class=\"\">10</text></g><g class=\"guides\"><path d=\"M428.754438 0.000000 v514.000000\" class=\"guide line\"/><text x=\"428.7544378698225\" y=\"529.0\" class=\"\">11</text></g><g class=\"guides\"><path d=\"M475.056213 0.000000 v514.000000\" class=\"guide line\"/><text x=\"475.05621301775153\" y=\"529.0\" class=\"\">12</text></g><g class=\"guides\"><path d=\"M521.357988 0.000000 v514.000000\" class=\"guide line\"/><text x=\"521.3579881656805\" y=\"529.0\" class=\"\">13</text></g><g class=\"guides\"><path d=\"M567.659763 0.000000 v514.000000\" class=\"guide line\"/><text x=\"567.6597633136095\" y=\"529.0\" class=\"\">14</text></g><g class=\"guides\"><path d=\"M613.961538 0.000000 v514.000000\" class=\"guide line\"/><text x=\"613.9615384615385\" y=\"529.0\" class=\"\">15</text></g></g><g class=\"series serie-0 color-0\"><path d=\"M12.038462 9.884615 L58.340237 261.942308 104.642012 360.788462 150.943787 405.269231 197.245562 429.980769 243.547337 449.750000 289.849112 464.576923 336.150888 474.461538 382.452663 484.346154 428.754438 489.288462 475.056213 494.230769 521.357988 499.173077 567.659763 504.115385 613.961538 504.115385\" class=\"line reactive nofill\"/></g><g class=\"series serie-1 color-1\"><path d=\"M12.038462 34.596154 L58.340237 24.711538 104.642012 24.711538 150.943787 19.769231 197.245562 9.884615 243.547337 39.538462 289.849112 29.653846 336.150888 24.711538 382.452663 34.596154 428.754438 29.653846 475.056213 24.711538 521.357988 19.769231 567.659763 14.826923 613.961538 9.884615\" class=\"line reactive nofill\"/></g><g class=\"series serie-2 color-2\"><path d=\"M12.038462 9.884615 L58.340237 39.538462 104.642012 49.423077 150.943787 54.365385 197.245562 59.307692 243.547337 59.307692 289.849112 64.250000 336.150888 64.250000 382.452663 64.250000 428.754438 69.192308 475.056213 69.192308 521.357988 69.192308 567.659763 74.134615 613.961538 79.076923\" class=\"line reactive nofill\"/></g></g><g class=\"titles\"><text x=\"400.0\" y=\"26\" class=\"title plot_title\">K-óptimo</text></g><g transform=\"translate(154, 46)\" class=\"plot overlay\"><g class=\"series serie-0 color-0\"><g class=\"dots\"><circle cx=\"12.038461538461538\" cy=\"9.884615384615415\" r=\"2.5\" class=\"dot reactive tooltip-trigger\"/><desc class=\"value\">1</desc><desc class=\"x \">12.038461538461538</desc><desc class=\"y \">9.884615384615415</desc><desc class=\"x_label\">2</desc></g><g class=\"dots\"><circle cx=\"58.34023668639053\" cy=\"261.94230769230774\" r=\"2.5\" class=\"dot reactive tooltip-trigger\"/><desc class=\"value\">0.49</desc><desc class=\"x top\">58.34023668639053</desc><desc class=\"y top\">261.94230769230774</desc><desc class=\"x_label\">3</desc></g><g class=\"dots\"><circle cx=\"104.64201183431952\" cy=\"360.78846153846155\" r=\"2.5\" class=\"dot reactive tooltip-trigger\"/><desc class=\"value\">0.29</desc><desc class=\"x top\">104.64201183431952</desc><desc class=\"y top\">360.78846153846155</desc><desc class=\"x_label\">4</desc></g><g class=\"dots\"><circle cx=\"150.94378698224855\" cy=\"405.2692307692308\" r=\"2.5\" class=\"dot reactive tooltip-trigger\"/><desc class=\"value\">0.2</desc><desc class=\"x top\">150.94378698224855</desc><desc class=\"y top\">405.2692307692308</desc><desc class=\"x_label\">5</desc></g><g class=\"dots\"><circle cx=\"197.24556213017752\" cy=\"429.9807692307692\" r=\"2.5\" class=\"dot reactive tooltip-trigger\"/><desc class=\"value\">0.15</desc><desc class=\"x top\">197.24556213017752</desc><desc class=\"y top\">429.9807692307692</desc><desc class=\"x_label\">6</desc></g><g class=\"dots\"><circle cx=\"243.5473372781065\" cy=\"449.75\" r=\"2.5\" class=\"dot reactive tooltip-trigger\"/><desc class=\"value\">0.11</desc><desc class=\"x top\">243.5473372781065</desc><desc class=\"y top\">449.75</desc><desc class=\"x_label\">7</desc></g><g class=\"dots\"><circle cx=\"289.8491124260355\" cy=\"464.5769230769231\" r=\"2.5\" class=\"dot reactive tooltip-trigger\"/><desc class=\"value\">0.08</desc><desc class=\"x top\">289.8491124260355</desc><desc class=\"y top\">464.5769230769231</desc><desc class=\"x_label\">8</desc></g><g class=\"dots\"><circle cx=\"336.1508875739645\" cy=\"474.46153846153845\" r=\"2.5\" class=\"dot reactive tooltip-trigger\"/><desc class=\"value\">0.06</desc><desc class=\"x left top\">336.1508875739645</desc><desc class=\"y left top\">474.46153846153845</desc><desc class=\"x_label\">9</desc></g><g class=\"dots\"><circle cx=\"382.4526627218935\" cy=\"484.34615384615387\" r=\"2.5\" class=\"dot reactive tooltip-trigger\"/><desc class=\"value\">0.04</desc><desc class=\"x left top\">382.4526627218935</desc><desc class=\"y left top\">484.34615384615387</desc><desc class=\"x_label\">10</desc></g><g class=\"dots\"><circle cx=\"428.7544378698225\" cy=\"489.28846153846155\" r=\"2.5\" class=\"dot reactive tooltip-trigger\"/><desc class=\"value\">0.03</desc><desc class=\"x left top\">428.7544378698225</desc><desc class=\"y left top\">489.28846153846155</desc><desc class=\"x_label\">11</desc></g><g class=\"dots\"><circle cx=\"475.05621301775153\" cy=\"494.2307692307692\" r=\"2.5\" class=\"dot reactive tooltip-trigger\"/><desc class=\"value\">0.02</desc><desc class=\"x left top\">475.05621301775153</desc><desc class=\"y left top\">494.2307692307692</desc><desc class=\"x_label\">12</desc></g><g class=\"dots\"><circle cx=\"521.3579881656805\" cy=\"499.1730769230769\" r=\"2.5\" class=\"dot reactive tooltip-trigger\"/><desc class=\"value\">0.01</desc><desc class=\"x left top\">521.3579881656805</desc><desc class=\"y left top\">499.1730769230769</desc><desc class=\"x_label\">13</desc></g><g class=\"dots\"><circle cx=\"567.6597633136095\" cy=\"504.11538461538464\" r=\"2.5\" class=\"dot reactive tooltip-trigger\"/><desc class=\"value\">0</desc><desc class=\"x left top\">567.6597633136095</desc><desc class=\"y left top\">504.11538461538464</desc><desc class=\"x_label\">14</desc></g><g class=\"dots\"><circle cx=\"613.9615384615385\" cy=\"504.11538461538464\" r=\"2.5\" class=\"dot reactive tooltip-trigger\"/><desc class=\"value\">0</desc><desc class=\"x left top\">613.9615384615385</desc><desc class=\"y left top\">504.11538461538464</desc><desc class=\"x_label\">15</desc></g></g><g class=\"series serie-1 color-1\"><g class=\"dots\"><circle cx=\"12.038461538461538\" cy=\"34.59615384615387\" r=\"2.5\" class=\"dot reactive tooltip-trigger\"/><desc class=\"value\">0.95</desc><desc class=\"x \">12.038461538461538</desc><desc class=\"y \">34.59615384615387</desc><desc class=\"x_label\">2</desc></g><g class=\"dots\"><circle cx=\"58.34023668639053\" cy=\"24.711538461538453\" r=\"2.5\" class=\"dot reactive tooltip-trigger\"/><desc class=\"value\">0.97</desc><desc class=\"x \">58.34023668639053</desc><desc class=\"y \">24.711538461538453</desc><desc class=\"x_label\">3</desc></g><g class=\"dots\"><circle cx=\"104.64201183431952\" cy=\"24.711538461538453\" r=\"2.5\" class=\"dot reactive tooltip-trigger\"/><desc class=\"value\">0.97</desc><desc class=\"x \">104.64201183431952</desc><desc class=\"y \">24.711538461538453</desc><desc class=\"x_label\">4</desc></g><g class=\"dots\"><circle cx=\"150.94378698224855\" cy=\"19.769230769230774\" r=\"2.5\" class=\"dot reactive tooltip-trigger\"/><desc class=\"value\">0.98</desc><desc class=\"x \">150.94378698224855</desc><desc class=\"y \">19.769230769230774</desc><desc class=\"x_label\">5</desc></g><g class=\"dots\"><circle cx=\"197.24556213017752\" cy=\"9.884615384615415\" r=\"2.5\" class=\"dot reactive tooltip-trigger\"/><desc class=\"value\">1</desc><desc class=\"x \">197.24556213017752</desc><desc class=\"y \">9.884615384615415</desc><desc class=\"x_label\">6</desc></g><g class=\"dots\"><circle cx=\"243.5473372781065\" cy=\"39.53846153846155\" r=\"2.5\" class=\"dot reactive tooltip-trigger\"/><desc class=\"value\">0.94</desc><desc class=\"x \">243.5473372781065</desc><desc class=\"y \">39.53846153846155</desc><desc class=\"x_label\">7</desc></g><g class=\"dots\"><circle cx=\"289.8491124260355\" cy=\"29.65384615384619\" r=\"2.5\" class=\"dot reactive tooltip-trigger\"/><desc class=\"value\">0.96</desc><desc class=\"x \">289.8491124260355</desc><desc class=\"y \">29.65384615384619</desc><desc class=\"x_label\">8</desc></g><g class=\"dots\"><circle cx=\"336.1508875739645\" cy=\"24.711538461538453\" r=\"2.5\" class=\"dot reactive tooltip-trigger\"/><desc class=\"value\">0.97</desc><desc class=\"x left\">336.1508875739645</desc><desc class=\"y left\">24.711538461538453</desc><desc class=\"x_label\">9</desc></g><g class=\"dots\"><circle cx=\"382.4526627218935\" cy=\"34.59615384615387\" r=\"2.5\" class=\"dot reactive tooltip-trigger\"/><desc class=\"value\">0.95</desc><desc class=\"x left\">382.4526627218935</desc><desc class=\"y left\">34.59615384615387</desc><desc class=\"x_label\">10</desc></g><g class=\"dots\"><circle cx=\"428.7544378698225\" cy=\"29.65384615384619\" r=\"2.5\" class=\"dot reactive tooltip-trigger\"/><desc class=\"value\">0.96</desc><desc class=\"x left\">428.7544378698225</desc><desc class=\"y left\">29.65384615384619</desc><desc class=\"x_label\">11</desc></g><g class=\"dots\"><circle cx=\"475.05621301775153\" cy=\"24.711538461538453\" r=\"2.5\" class=\"dot reactive tooltip-trigger\"/><desc class=\"value\">0.97</desc><desc class=\"x left\">475.05621301775153</desc><desc class=\"y left\">24.711538461538453</desc><desc class=\"x_label\">12</desc></g><g class=\"dots\"><circle cx=\"521.3579881656805\" cy=\"19.769230769230774\" r=\"2.5\" class=\"dot reactive tooltip-trigger\"/><desc class=\"value\">0.98</desc><desc class=\"x left\">521.3579881656805</desc><desc class=\"y left\">19.769230769230774</desc><desc class=\"x_label\">13</desc></g><g class=\"dots\"><circle cx=\"567.6597633136095\" cy=\"14.826923076923094\" r=\"2.5\" class=\"dot reactive tooltip-trigger\"/><desc class=\"value\">0.99</desc><desc class=\"x left\">567.6597633136095</desc><desc class=\"y left\">14.826923076923094</desc><desc class=\"x_label\">14</desc></g><g class=\"dots\"><circle cx=\"613.9615384615385\" cy=\"9.884615384615415\" r=\"2.5\" class=\"dot reactive tooltip-trigger\"/><desc class=\"value\">1</desc><desc class=\"x left\">613.9615384615385</desc><desc class=\"y left\">9.884615384615415</desc><desc class=\"x_label\">15</desc></g></g><g class=\"series serie-2 color-2\"><g class=\"dots\"><circle cx=\"12.038461538461538\" cy=\"9.884615384615415\" r=\"2.5\" class=\"dot reactive tooltip-trigger\"/><desc class=\"value\">1</desc><desc class=\"x \">12.038461538461538</desc><desc class=\"y \">9.884615384615415</desc><desc class=\"x_label\">2</desc></g><g class=\"dots\"><circle cx=\"58.34023668639053\" cy=\"39.53846153846155\" r=\"2.5\" class=\"dot reactive tooltip-trigger\"/><desc class=\"value\">0.94</desc><desc class=\"x \">58.34023668639053</desc><desc class=\"y \">39.53846153846155</desc><desc class=\"x_label\">3</desc></g><g class=\"dots\"><circle cx=\"104.64201183431952\" cy=\"49.423076923076906\" r=\"2.5\" class=\"dot reactive tooltip-trigger\"/><desc class=\"value\">0.92</desc><desc class=\"x \">104.64201183431952</desc><desc class=\"y \">49.423076923076906</desc><desc class=\"x_label\">4</desc></g><g class=\"dots\"><circle cx=\"150.94378698224855\" cy=\"54.365384615384585\" r=\"2.5\" class=\"dot reactive tooltip-trigger\"/><desc class=\"value\">0.91</desc><desc class=\"x \">150.94378698224855</desc><desc class=\"y \">54.365384615384585</desc><desc class=\"x_label\">5</desc></g><g class=\"dots\"><circle cx=\"197.24556213017752\" cy=\"59.30769230769232\" r=\"2.5\" class=\"dot reactive tooltip-trigger\"/><desc class=\"value\">0.9</desc><desc class=\"x \">197.24556213017752</desc><desc class=\"y \">59.30769230769232</desc><desc class=\"x_label\">6</desc></g><g class=\"dots\"><circle cx=\"243.5473372781065\" cy=\"59.30769230769232\" r=\"2.5\" class=\"dot reactive tooltip-trigger\"/><desc class=\"value\">0.9</desc><desc class=\"x \">243.5473372781065</desc><desc class=\"y \">59.30769230769232</desc><desc class=\"x_label\">7</desc></g><g class=\"dots\"><circle cx=\"289.8491124260355\" cy=\"64.25\" r=\"2.5\" class=\"dot reactive tooltip-trigger\"/><desc class=\"value\">0.89</desc><desc class=\"x \">289.8491124260355</desc><desc class=\"y \">64.25</desc><desc class=\"x_label\">8</desc></g><g class=\"dots\"><circle cx=\"336.1508875739645\" cy=\"64.25\" r=\"2.5\" class=\"dot reactive tooltip-trigger\"/><desc class=\"value\">0.89</desc><desc class=\"x left\">336.1508875739645</desc><desc class=\"y left\">64.25</desc><desc class=\"x_label\">9</desc></g><g class=\"dots\"><circle cx=\"382.4526627218935\" cy=\"64.25\" r=\"2.5\" class=\"dot reactive tooltip-trigger\"/><desc class=\"value\">0.89</desc><desc class=\"x left\">382.4526627218935</desc><desc class=\"y left\">64.25</desc><desc class=\"x_label\">10</desc></g><g class=\"dots\"><circle cx=\"428.7544378698225\" cy=\"69.19230769230768\" r=\"2.5\" class=\"dot reactive tooltip-trigger\"/><desc class=\"value\">0.88</desc><desc class=\"x left\">428.7544378698225</desc><desc class=\"y left\">69.19230769230768</desc><desc class=\"x_label\">11</desc></g><g class=\"dots\"><circle cx=\"475.05621301775153\" cy=\"69.19230769230768\" r=\"2.5\" class=\"dot reactive tooltip-trigger\"/><desc class=\"value\">0.88</desc><desc class=\"x left\">475.05621301775153</desc><desc class=\"y left\">69.19230769230768</desc><desc class=\"x_label\">12</desc></g><g class=\"dots\"><circle cx=\"521.3579881656805\" cy=\"69.19230769230768\" r=\"2.5\" class=\"dot reactive tooltip-trigger\"/><desc class=\"value\">0.88</desc><desc class=\"x left\">521.3579881656805</desc><desc class=\"y left\">69.19230769230768</desc><desc class=\"x_label\">13</desc></g><g class=\"dots\"><circle cx=\"567.6597633136095\" cy=\"74.13461538461542\" r=\"2.5\" class=\"dot reactive tooltip-trigger\"/><desc class=\"value\">0.87</desc><desc class=\"x left\">567.6597633136095</desc><desc class=\"y left\">74.13461538461542</desc><desc class=\"x_label\">14</desc></g><g class=\"dots\"><circle cx=\"613.9615384615385\" cy=\"79.0769230769231\" r=\"2.5\" class=\"dot reactive tooltip-trigger\"/><desc class=\"value\">0.86</desc><desc class=\"x left\">613.9615384615385</desc><desc class=\"y left\">79.0769230769231</desc><desc class=\"x_label\">15</desc></g></g></g><g transform=\"translate(154, 46)\" class=\"plot text-overlay\"><g class=\"series serie-0 color-0\"/><g class=\"series serie-1 color-1\"/><g class=\"series serie-2 color-2\"/></g><g transform=\"translate(154, 46)\" class=\"plot tooltip-overlay\"><g transform=\"translate(0 0)\" style=\"opacity: 0\" class=\"tooltip\"><rect rx=\"0\" ry=\"0\" width=\"0\" height=\"0\" class=\"tooltip-box\"/><g class=\"text\"/></g></g><g transform=\"translate(10, 56)\" class=\"legends\"><g id=\"activate-serie-0\" class=\"legend reactive activate-serie\"><rect x=\"0.0\" y=\"1.0\" width=\"12\" height=\"12\" class=\"color-0 reactive\"/><text x=\"17.0\" y=\"11.2\">Inertia</text></g><g id=\"activate-serie-1\" class=\"legend reactive activate-serie\"><rect x=\"0.0\" y=\"22.0\" width=\"12\" height=\"12\" class=\"color-1 reactive\"/><text x=\"17.0\" y=\"32.2\">DB</text></g><g id=\"activate-serie-2\" class=\"legend reactive activate-serie\"><rect x=\"0.0\" y=\"43.0\" width=\"12\" height=\"12\" class=\"color-2 reactive\"/><text x=\"17.0\" y=\"53.2\">Silhouette</text></g></g><g transform=\"translate(790, 56)\" class=\"legends\"/></g></svg>"
      ],
      "text/plain": [
       "<pygal.graph.line.Line at 0x7fb8017feb50>"
      ]
     },
     "metadata": {},
     "output_type": "display_data"
    }
   ],
   "source": [
    "line_chart = koptimo(X.sample(frac=.1))"
   ]
  },
  {
   "cell_type": "code",
   "execution_count": 60,
   "id": "69d3869b",
   "metadata": {
    "ExecuteTime": {
     "end_time": "2021-06-05T15:39:53.760035Z",
     "start_time": "2021-06-05T15:39:53.483848Z"
    },
    "hidden": true
   },
   "outputs": [
    {
     "name": "stdout",
     "output_type": "stream",
     "text": [
      "file:///var/folders/j4/1p33_bh96yn8pdz3b_5t80hm0000gn/T/tmpl45k03u1.html\n"
     ]
    }
   ],
   "source": [
    "line_chart.render_in_browser()"
   ]
  },
  {
   "cell_type": "markdown",
   "id": "f8d84176",
   "metadata": {
    "heading_collapsed": true,
    "hidden": true
   },
   "source": [
    "### Clustering"
   ]
  },
  {
   "cell_type": "code",
   "execution_count": 95,
   "id": "c3464c0e",
   "metadata": {
    "ExecuteTime": {
     "end_time": "2021-06-05T16:25:21.538521Z",
     "start_time": "2021-06-05T16:25:17.509942Z"
    },
    "hidden": true
   },
   "outputs": [
    {
     "name": "stdout",
     "output_type": "stream",
     "text": [
      "Distribución de registros en los 4 clústeres\n"
     ]
    },
    {
     "data": {
      "text/html": [
       "<div>\n",
       "<style scoped>\n",
       "    .dataframe tbody tr th:only-of-type {\n",
       "        vertical-align: middle;\n",
       "    }\n",
       "\n",
       "    .dataframe tbody tr th {\n",
       "        vertical-align: top;\n",
       "    }\n",
       "\n",
       "    .dataframe thead th {\n",
       "        text-align: right;\n",
       "    }\n",
       "</style>\n",
       "<table border=\"1\" class=\"dataframe\">\n",
       "  <thead>\n",
       "    <tr style=\"text-align: right;\">\n",
       "      <th></th>\n",
       "      <th>index</th>\n",
       "      <th>cluster</th>\n",
       "    </tr>\n",
       "  </thead>\n",
       "  <tbody>\n",
       "    <tr>\n",
       "      <th>3</th>\n",
       "      <td>A</td>\n",
       "      <td>0.0882</td>\n",
       "    </tr>\n",
       "    <tr>\n",
       "      <th>0</th>\n",
       "      <td>B</td>\n",
       "      <td>0.5540</td>\n",
       "    </tr>\n",
       "    <tr>\n",
       "      <th>1</th>\n",
       "      <td>C</td>\n",
       "      <td>0.2616</td>\n",
       "    </tr>\n",
       "    <tr>\n",
       "      <th>2</th>\n",
       "      <td>D</td>\n",
       "      <td>0.0962</td>\n",
       "    </tr>\n",
       "  </tbody>\n",
       "</table>\n",
       "</div>"
      ],
      "text/plain": [
       "  index  cluster\n",
       "3     A   0.0882\n",
       "0     B   0.5540\n",
       "1     C   0.2616\n",
       "2     D   0.0962"
      ]
     },
     "metadata": {},
     "output_type": "display_data"
    },
    {
     "name": "stdout",
     "output_type": "stream",
     "text": [
      "Varianza explicada con 2dim: 81.4%\n"
     ]
    },
    {
     "data": {
      "image/png": "[encoded data removed]",
      "text/plain": [
       "<Figure size 720x432 with 1 Axes>"
      ]
     },
     "metadata": {
      "needs_background": "light"
     },
     "output_type": "display_data"
    }
   ],
   "source": [
    "X_cluster,cluster_model = clustering(X,X.columns,n_clusters=4,kmeans=True)"
   ]
  },
  {
   "cell_type": "markdown",
   "id": "4fd626de",
   "metadata": {
    "heading_collapsed": true,
    "hidden": true
   },
   "source": [
    "### Profiles"
   ]
  },
  {
   "cell_type": "code",
   "execution_count": 96,
   "id": "818abac5",
   "metadata": {
    "ExecuteTime": {
     "end_time": "2021-06-05T16:25:21.722771Z",
     "start_time": "2021-06-05T16:25:21.676273Z"
    },
    "hidden": true
   },
   "outputs": [
    {
     "data": {
      "text/html": [
       "<style  type=\"text/css\" >\n",
       "#T_15e79_row0_col0,#T_15e79_row0_col6,#T_15e79_row1_col1,#T_15e79_row1_col2,#T_15e79_row1_col3,#T_15e79_row2_col4,#T_15e79_row3_col5,#T_15e79_row3_col7,#T_15e79_row3_col8,#T_15e79_row3_col9{\n",
       "            background-color:  #f7fbff;\n",
       "            color:  #000000;\n",
       "        }#T_15e79_row0_col1{\n",
       "            background-color:  #f3f8fe;\n",
       "            color:  #000000;\n",
       "        }#T_15e79_row0_col2,#T_15e79_row1_col0,#T_15e79_row1_col7,#T_15e79_row1_col8,#T_15e79_row1_col9,#T_15e79_row2_col5,#T_15e79_row3_col1,#T_15e79_row3_col3,#T_15e79_row3_col4,#T_15e79_row3_col6{\n",
       "            background-color:  #08306b;\n",
       "            color:  #f1f1f1;\n",
       "        }#T_15e79_row0_col3{\n",
       "            background-color:  #6aaed6;\n",
       "            color:  #000000;\n",
       "        }#T_15e79_row0_col4{\n",
       "            background-color:  #8dc1dd;\n",
       "            color:  #000000;\n",
       "        }#T_15e79_row0_col5{\n",
       "            background-color:  #3686c0;\n",
       "            color:  #000000;\n",
       "        }#T_15e79_row0_col7{\n",
       "            background-color:  #d9e7f5;\n",
       "            color:  #000000;\n",
       "        }#T_15e79_row0_col8{\n",
       "            background-color:  #eaf2fb;\n",
       "            color:  #000000;\n",
       "        }#T_15e79_row0_col9{\n",
       "            background-color:  #a5cde3;\n",
       "            color:  #000000;\n",
       "        }#T_15e79_row1_col4{\n",
       "            background-color:  #7ab6d9;\n",
       "            color:  #000000;\n",
       "        }#T_15e79_row1_col5{\n",
       "            background-color:  #1b69af;\n",
       "            color:  #f1f1f1;\n",
       "        }#T_15e79_row1_col6{\n",
       "            background-color:  #ddeaf7;\n",
       "            color:  #000000;\n",
       "        }#T_15e79_row2_col0{\n",
       "            background-color:  #4a98c9;\n",
       "            color:  #000000;\n",
       "        }#T_15e79_row2_col1{\n",
       "            background-color:  #cfe1f2;\n",
       "            color:  #000000;\n",
       "        }#T_15e79_row2_col2{\n",
       "            background-color:  #cee0f2;\n",
       "            color:  #000000;\n",
       "        }#T_15e79_row2_col3{\n",
       "            background-color:  #aacfe5;\n",
       "            color:  #000000;\n",
       "        }#T_15e79_row2_col6{\n",
       "            background-color:  #08509b;\n",
       "            color:  #f1f1f1;\n",
       "        }#T_15e79_row2_col7{\n",
       "            background-color:  #d5e5f4;\n",
       "            color:  #000000;\n",
       "        }#T_15e79_row2_col8{\n",
       "            background-color:  #d4e4f4;\n",
       "            color:  #000000;\n",
       "        }#T_15e79_row2_col9{\n",
       "            background-color:  #64a9d3;\n",
       "            color:  #000000;\n",
       "        }#T_15e79_row3_col0{\n",
       "            background-color:  #f2f7fd;\n",
       "            color:  #000000;\n",
       "        }#T_15e79_row3_col2{\n",
       "            background-color:  #eef5fc;\n",
       "            color:  #000000;\n",
       "        }</style><table id=\"T_15e79_\" ><thead>    <tr>        <th class=\"blank level0\" ></th>        <th class=\"col_heading level0 col0\" >Neutral</th>        <th class=\"col_heading level0 col1\" >Negative</th>        <th class=\"col_heading level0 col2\" >Positive</th>        <th class=\"col_heading level0 col3\" >Mixed</th>        <th class=\"col_heading level0 col4\" >length</th>        <th class=\"col_heading level0 col5\" >relevance</th>        <th class=\"col_heading level0 col6\" >mentions</th>        <th class=\"col_heading level0 col7\" >hashtags</th>        <th class=\"col_heading level0 col8\" >uppercase</th>        <th class=\"col_heading level0 col9\" >len_p_word</th>    </tr>    <tr>        <th class=\"index_name level0\" >cluster</th>        <th class=\"blank\" ></th>        <th class=\"blank\" ></th>        <th class=\"blank\" ></th>        <th class=\"blank\" ></th>        <th class=\"blank\" ></th>        <th class=\"blank\" ></th>        <th class=\"blank\" ></th>        <th class=\"blank\" ></th>        <th class=\"blank\" ></th>        <th class=\"blank\" ></th>    </tr></thead><tbody>\n",
       "                <tr>\n",
       "                        <th id=\"T_15e79_level0_row0\" class=\"row_heading level0 row0\" >A</th>\n",
       "                        <td id=\"T_15e79_row0_col0\" class=\"data row0 col0\" >0.243951</td>\n",
       "                        <td id=\"T_15e79_row0_col1\" class=\"data row0 col1\" >0.044035</td>\n",
       "                        <td id=\"T_15e79_row0_col2\" class=\"data row0 col2\" >0.645648</td>\n",
       "                        <td id=\"T_15e79_row0_col3\" class=\"data row0 col3\" >0.066366</td>\n",
       "                        <td id=\"T_15e79_row0_col4\" class=\"data row0 col4\" >145.072350</td>\n",
       "                        <td id=\"T_15e79_row0_col5\" class=\"data row0 col5\" >0.946113</td>\n",
       "                        <td id=\"T_15e79_row0_col6\" class=\"data row0 col6\" >2.026565</td>\n",
       "                        <td id=\"T_15e79_row0_col7\" class=\"data row0 col7\" >0.931409</td>\n",
       "                        <td id=\"T_15e79_row0_col8\" class=\"data row0 col8\" >12.421201</td>\n",
       "                        <td id=\"T_15e79_row0_col9\" class=\"data row0 col9\" >6.187958</td>\n",
       "            </tr>\n",
       "            <tr>\n",
       "                        <th id=\"T_15e79_level0_row1\" class=\"row_heading level0 row1\" >B</th>\n",
       "                        <td id=\"T_15e79_row1_col0\" class=\"data row1 col0\" >0.904676</td>\n",
       "                        <td id=\"T_15e79_row1_col1\" class=\"data row1 col1\" >0.034217</td>\n",
       "                        <td id=\"T_15e79_row1_col2\" class=\"data row1 col2\" >0.050304</td>\n",
       "                        <td id=\"T_15e79_row1_col3\" class=\"data row1 col3\" >0.010803</td>\n",
       "                        <td id=\"T_15e79_row1_col4\" class=\"data row1 col4\" >146.176745</td>\n",
       "                        <td id=\"T_15e79_row1_col5\" class=\"data row1 col5\" >0.947892</td>\n",
       "                        <td id=\"T_15e79_row1_col6\" class=\"data row1 col6\" >2.072289</td>\n",
       "                        <td id=\"T_15e79_row1_col7\" class=\"data row1 col7\" >2.510745</td>\n",
       "                        <td id=\"T_15e79_row1_col8\" class=\"data row1 col8\" >18.404331</td>\n",
       "                        <td id=\"T_15e79_row1_col9\" class=\"data row1 col9\" >6.764539</td>\n",
       "            </tr>\n",
       "            <tr>\n",
       "                        <th id=\"T_15e79_level0_row2\" class=\"row_heading level0 row2\" >C</th>\n",
       "                        <td id=\"T_15e79_row2_col0\" class=\"data row2 col0\" >0.639073</td>\n",
       "                        <td id=\"T_15e79_row2_col1\" class=\"data row2 col1\" >0.137211</td>\n",
       "                        <td id=\"T_15e79_row2_col2\" class=\"data row2 col2\" >0.175428</td>\n",
       "                        <td id=\"T_15e79_row2_col3\" class=\"data row2 col3\" >0.048289</td>\n",
       "                        <td id=\"T_15e79_row2_col4\" class=\"data row2 col4\" >135.983493</td>\n",
       "                        <td id=\"T_15e79_row2_col5\" class=\"data row2 col5\" >0.951512</td>\n",
       "                        <td id=\"T_15e79_row2_col6\" class=\"data row2 col6\" >2.331576</td>\n",
       "                        <td id=\"T_15e79_row2_col7\" class=\"data row2 col7\" >0.967764</td>\n",
       "                        <td id=\"T_15e79_row2_col8\" class=\"data row2 col8\" >13.130095</td>\n",
       "                        <td id=\"T_15e79_row2_col9\" class=\"data row2 col9\" >6.336465</td>\n",
       "            </tr>\n",
       "            <tr>\n",
       "                        <th id=\"T_15e79_level0_row3\" class=\"row_heading level0 row3\" >D</th>\n",
       "                        <td id=\"T_15e79_row3_col0\" class=\"data row3 col0\" >0.264120</td>\n",
       "                        <td id=\"T_15e79_row3_col1\" class=\"data row3 col1\" >0.534982</td>\n",
       "                        <td id=\"T_15e79_row3_col2\" class=\"data row3 col2\" >0.079085</td>\n",
       "                        <td id=\"T_15e79_row3_col3\" class=\"data row3 col3\" >0.121813</td>\n",
       "                        <td id=\"T_15e79_row3_col4\" class=\"data row3 col4\" >157.930581</td>\n",
       "                        <td id=\"T_15e79_row3_col5\" class=\"data row3 col5\" >0.935169</td>\n",
       "                        <td id=\"T_15e79_row3_col6\" class=\"data row3 col6\" >2.375147</td>\n",
       "                        <td id=\"T_15e79_row3_col7\" class=\"data row3 col7\" >0.646243</td>\n",
       "                        <td id=\"T_15e79_row3_col8\" class=\"data row3 col8\" >11.995534</td>\n",
       "                        <td id=\"T_15e79_row3_col9\" class=\"data row3 col9\" >5.872156</td>\n",
       "            </tr>\n",
       "    </tbody></table>"
      ],
      "text/plain": [
       "<pandas.io.formats.style.Styler at 0x7fb7f8a2a880>"
      ]
     },
     "execution_count": 96,
     "metadata": {},
     "output_type": "execute_result"
    }
   ],
   "source": [
    "X_cluster.groupby(\"cluster\").mean().style.background_gradient(cmap='Blues')"
   ]
  },
  {
   "cell_type": "code",
   "execution_count": 97,
   "id": "20e77bac",
   "metadata": {
    "ExecuteTime": {
     "end_time": "2021-06-05T16:26:47.027492Z",
     "start_time": "2021-06-05T16:26:46.724971Z"
    },
    "hidden": true
   },
   "outputs": [
    {
     "data": {
      "text/plain": [
       "<Figure size 432x288 with 0 Axes>"
      ]
     },
     "metadata": {},
     "output_type": "display_data"
    },
    {
     "data": {
      "image/png": "[encoded data removed]",
      "text/plain": [
       "<Figure size 144x216 with 2 Axes>"
      ]
     },
     "metadata": {},
     "output_type": "display_data"
    }
   ],
   "source": [
    "profiles(X_cluster)"
   ]
  },
  {
   "cell_type": "code",
   "execution_count": 98,
   "id": "ef1db2b1",
   "metadata": {
    "ExecuteTime": {
     "end_time": "2021-06-05T16:26:47.319108Z",
     "start_time": "2021-06-05T16:26:47.158983Z"
    },
    "hidden": true
   },
   "outputs": [
    {
     "data": {
      "text/plain": [
       "<Figure size 432x288 with 0 Axes>"
      ]
     },
     "metadata": {},
     "output_type": "display_data"
    },
    {
     "data": {
      "image/png": "[encoded data removed]",
      "text/plain": [
       "<Figure size 144x72 with 2 Axes>"
      ]
     },
     "metadata": {},
     "output_type": "display_data"
    }
   ],
   "source": [
    "profiles(X_cluster[['cluster','relevance','mentions']])"
   ]
  },
  {
   "cell_type": "markdown",
   "id": "a4fcf1b9",
   "metadata": {
    "heading_collapsed": true,
    "hidden": true
   },
   "source": [
    "### Export"
   ]
  },
  {
   "cell_type": "code",
   "execution_count": 99,
   "id": "734c6721",
   "metadata": {
    "ExecuteTime": {
     "end_time": "2021-06-05T16:26:51.905815Z",
     "start_time": "2021-06-05T16:26:50.486163Z"
    },
    "hidden": true
   },
   "outputs": [],
   "source": [
    "X_cluster.groupby(\"cluster\").mean().to_csv(os.path.join(BASE_DIR,'0505_profiles.csv'))\n",
    "X_cluster.to_csv(os.path.join(BASE_DIR,'0505_clusters.csv'))"
   ]
  },
  {
   "cell_type": "code",
   "execution_count": 100,
   "id": "5e12caec",
   "metadata": {
    "ExecuteTime": {
     "end_time": "2021-06-05T16:26:53.673420Z",
     "start_time": "2021-06-05T16:26:53.668433Z"
    },
    "hidden": true
   },
   "outputs": [],
   "source": [
    "import pickle\n",
    "\n",
    "with open(os.path.join(BASE_DIR,'tuit_model_unsupervised.pickle'), 'wb') as f:\n",
    "    pickle.dump(cluster_model, f)"
   ]
  },
  {
   "cell_type": "markdown",
   "id": "980faa96",
   "metadata": {},
   "source": [
    "## End"
   ]
  },
  {
   "cell_type": "code",
   "execution_count": null,
   "id": "8adb870e",
   "metadata": {
    "ExecuteTime": {
     "end_time": "2021-06-05T16:56:40.381305Z",
     "start_time": "2021-06-05T16:51:56.953Z"
    }
   },
   "outputs": [],
   "source": [
    "time_exp(time.time()-start)\n",
    "tone()"
   ]
  }
 ],
 "metadata": {
  "kernelspec": {
   "display_name": "Python 3",
   "language": "python",
   "name": "python3"
  },
  "language_info": {
   "codemirror_mode": {
    "name": "ipython",
    "version": 3
   },
   "file_extension": ".py",
   "mimetype": "text/x-python",
   "name": "python",
   "nbconvert_exporter": "python",
   "pygments_lexer": "ipython3",
   "version": "3.9.1"
  },
  "toc": {
   "base_numbering": 1,
   "nav_menu": {},
   "number_sections": true,
   "sideBar": true,
   "skip_h1_title": true,
   "title_cell": "Table of Contents",
   "title_sidebar": "Contents",
   "toc_cell": false,
   "toc_position": {},
   "toc_section_display": true,
   "toc_window_display": true
  },
  "varInspector": {
   "cols": {
    "lenName": 16,
    "lenType": 16,
    "lenVar": 40
   },
   "kernels_config": {
    "python": {
     "delete_cmd_postfix": "",
     "delete_cmd_prefix": "del ",
     "library": "var_list.py",
     "varRefreshCmd": "print(var_dic_list())"
    },
    "r": {
     "delete_cmd_postfix": ") ",
     "delete_cmd_prefix": "rm(",
     "library": "var_list.r",
     "varRefreshCmd": "cat(var_dic_list()) "
    }
   },
   "types_to_exclude": [
    "module",
    "function",
    "builtin_function_or_method",
    "instance",
    "_Feature"
   ],
   "window_display": false
  }
 },
 "nbformat": 4,
 "nbformat_minor": 5
}
