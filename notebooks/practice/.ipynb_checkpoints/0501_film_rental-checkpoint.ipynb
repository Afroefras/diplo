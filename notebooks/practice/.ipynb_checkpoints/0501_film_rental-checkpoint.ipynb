{
 "cells": [
  {
   "cell_type": "markdown",
   "metadata": {
    "id": "1gCbWPzhr9HI"
   },
   "source": [
    "# Módulo V Práctica 1"
   ]
  },
  {
   "cell_type": "markdown",
   "metadata": {
    "id": "sPyhT7Skw17S"
   },
   "source": [
    "## Import"
   ]
  },
  {
   "cell_type": "code",
   "execution_count": 3,
   "metadata": {
    "ExecuteTime": {
     "end_time": "2021-05-08T21:41:04.496398Z",
     "start_time": "2021-05-08T21:41:04.492385Z"
    }
   },
   "outputs": [],
   "source": [
    "import sys\n",
    "sys.path.append('/Users/efraflores/Desktop/hub/diplo/venv/lib/python3.9/site-packages')"
   ]
  },
  {
   "cell_type": "code",
   "execution_count": 1,
   "metadata": {
    "ExecuteTime": {
     "end_time": "2021-05-08T21:40:59.789649Z",
     "start_time": "2021-05-08T21:40:59.785038Z"
    },
    "colab": {
     "base_uri": "https://localhost:8080/"
    },
    "id": "H8cNyaVEr79X",
    "outputId": "bc00e671-e65d-4094-d2b5-b8304aa27bae"
   },
   "outputs": [
    {
     "name": "stdout",
     "output_type": "stream",
     "text": [
      "['.DS_Store', 'cred.json']\n"
     ]
    }
   ],
   "source": [
    "import os\n",
    "\n",
    "BASE_DIR = '/Users/efraflores/Desktop/EF/Diplo/data/05'\n",
    "DB = 'sakila'\n",
    "print(os.listdir(BASE_DIR))"
   ]
  },
  {
   "cell_type": "code",
   "execution_count": 6,
   "metadata": {
    "ExecuteTime": {
     "end_time": "2021-05-08T21:41:38.069380Z",
     "start_time": "2021-05-08T21:41:34.561482Z"
    },
    "id": "hn0E_konsFxf"
   },
   "outputs": [],
   "source": [
    "'''!pip install PyMySQL'''\n",
    "import pymysql\n",
    "import json as js\n",
    "from sqlalchemy import create_engine\n",
    "\n",
    "pymysql.install_as_MySQLdb()\n",
    "\n",
    "with open(os.path.join(BASE_DIR,\"cred.json\"), \"r+\") as file:\n",
    "    cred = js.load(file)\n",
    "    \n",
    "conn = create_engine(f\"{cred['flavour']}://{cred['username']}:{cred['password']}@{cred['host']}:{cred['port']}/{DB}\").connect()"
   ]
  },
  {
   "cell_type": "code",
   "execution_count": 7,
   "metadata": {
    "ExecuteTime": {
     "end_time": "2021-05-08T21:41:48.451569Z",
     "start_time": "2021-05-08T21:41:41.013091Z"
    },
    "colab": {
     "base_uri": "https://localhost:8080/",
     "height": 430
    },
    "id": "OA8gdb-usLK8",
    "outputId": "68a21f0a-f374-4336-d496-ff0edca5f391"
   },
   "outputs": [
    {
     "name": "stdout",
     "output_type": "stream",
     "text": [
      "\n",
      "\n",
      " Film\n"
     ]
    },
    {
     "data": {
      "text/html": [
       "<div>\n",
       "<style scoped>\n",
       "    .dataframe tbody tr th:only-of-type {\n",
       "        vertical-align: middle;\n",
       "    }\n",
       "\n",
       "    .dataframe tbody tr th {\n",
       "        vertical-align: top;\n",
       "    }\n",
       "\n",
       "    .dataframe thead th {\n",
       "        text-align: right;\n",
       "    }\n",
       "</style>\n",
       "<table border=\"1\" class=\"dataframe\">\n",
       "  <thead>\n",
       "    <tr style=\"text-align: right;\">\n",
       "      <th></th>\n",
       "      <th>film_id</th>\n",
       "      <th>title</th>\n",
       "      <th>description</th>\n",
       "      <th>release_year</th>\n",
       "      <th>language_id</th>\n",
       "      <th>original_language_id</th>\n",
       "      <th>rental_duration</th>\n",
       "      <th>rental_rate</th>\n",
       "      <th>length</th>\n",
       "      <th>replacement_cost</th>\n",
       "      <th>rating</th>\n",
       "      <th>special_features</th>\n",
       "      <th>last_update</th>\n",
       "    </tr>\n",
       "  </thead>\n",
       "  <tbody>\n",
       "    <tr>\n",
       "      <th>700</th>\n",
       "      <td>701</td>\n",
       "      <td>PSYCHO SHRUNK</td>\n",
       "      <td>A Amazing Panorama of a Crocodile And a Explor...</td>\n",
       "      <td>2006</td>\n",
       "      <td>1</td>\n",
       "      <td>None</td>\n",
       "      <td>5</td>\n",
       "      <td>2.99</td>\n",
       "      <td>155</td>\n",
       "      <td>11.99</td>\n",
       "      <td>PG-13</td>\n",
       "      <td>{Behind the Scenes}</td>\n",
       "      <td>2006-02-15 05:03:42</td>\n",
       "    </tr>\n",
       "  </tbody>\n",
       "</table>\n",
       "</div>"
      ],
      "text/plain": [
       "     film_id          title  \\\n",
       "700      701  PSYCHO SHRUNK   \n",
       "\n",
       "                                           description  release_year  \\\n",
       "700  A Amazing Panorama of a Crocodile And a Explor...          2006   \n",
       "\n",
       "     language_id original_language_id  rental_duration  rental_rate  length  \\\n",
       "700            1                 None                5         2.99     155   \n",
       "\n",
       "     replacement_cost rating     special_features         last_update  \n",
       "700             11.99  PG-13  {Behind the Scenes} 2006-02-15 05:03:42  "
      ]
     },
     "metadata": {},
     "output_type": "display_data"
    },
    {
     "name": "stdout",
     "output_type": "stream",
     "text": [
      "\n",
      "\n",
      " Inventory\n"
     ]
    },
    {
     "data": {
      "text/html": [
       "<div>\n",
       "<style scoped>\n",
       "    .dataframe tbody tr th:only-of-type {\n",
       "        vertical-align: middle;\n",
       "    }\n",
       "\n",
       "    .dataframe tbody tr th {\n",
       "        vertical-align: top;\n",
       "    }\n",
       "\n",
       "    .dataframe thead th {\n",
       "        text-align: right;\n",
       "    }\n",
       "</style>\n",
       "<table border=\"1\" class=\"dataframe\">\n",
       "  <thead>\n",
       "    <tr style=\"text-align: right;\">\n",
       "      <th></th>\n",
       "      <th>inventory_id</th>\n",
       "      <th>film_id</th>\n",
       "      <th>store_id</th>\n",
       "      <th>last_update</th>\n",
       "    </tr>\n",
       "  </thead>\n",
       "  <tbody>\n",
       "    <tr>\n",
       "      <th>3049</th>\n",
       "      <td>3050</td>\n",
       "      <td>670</td>\n",
       "      <td>1</td>\n",
       "      <td>2006-02-15 05:09:17</td>\n",
       "    </tr>\n",
       "  </tbody>\n",
       "</table>\n",
       "</div>"
      ],
      "text/plain": [
       "      inventory_id  film_id  store_id         last_update\n",
       "3049          3050      670         1 2006-02-15 05:09:17"
      ]
     },
     "metadata": {},
     "output_type": "display_data"
    },
    {
     "name": "stdout",
     "output_type": "stream",
     "text": [
      "\n",
      "\n",
      " Rental\n"
     ]
    },
    {
     "data": {
      "text/html": [
       "<div>\n",
       "<style scoped>\n",
       "    .dataframe tbody tr th:only-of-type {\n",
       "        vertical-align: middle;\n",
       "    }\n",
       "\n",
       "    .dataframe tbody tr th {\n",
       "        vertical-align: top;\n",
       "    }\n",
       "\n",
       "    .dataframe thead th {\n",
       "        text-align: right;\n",
       "    }\n",
       "</style>\n",
       "<table border=\"1\" class=\"dataframe\">\n",
       "  <thead>\n",
       "    <tr style=\"text-align: right;\">\n",
       "      <th></th>\n",
       "      <th>rental_id</th>\n",
       "      <th>rental_date</th>\n",
       "      <th>inventory_id</th>\n",
       "      <th>customer_id</th>\n",
       "      <th>return_date</th>\n",
       "      <th>staff_id</th>\n",
       "      <th>last_update</th>\n",
       "    </tr>\n",
       "  </thead>\n",
       "  <tbody>\n",
       "    <tr>\n",
       "      <th>7904</th>\n",
       "      <td>7908</td>\n",
       "      <td>2005-07-28 11:32:57</td>\n",
       "      <td>3646</td>\n",
       "      <td>360</td>\n",
       "      <td>2005-08-03 13:30:57</td>\n",
       "      <td>2</td>\n",
       "      <td>2006-02-15 21:30:53</td>\n",
       "    </tr>\n",
       "  </tbody>\n",
       "</table>\n",
       "</div>"
      ],
      "text/plain": [
       "      rental_id         rental_date  inventory_id  customer_id  \\\n",
       "7904       7908 2005-07-28 11:32:57          3646          360   \n",
       "\n",
       "             return_date  staff_id         last_update  \n",
       "7904 2005-08-03 13:30:57         2 2006-02-15 21:30:53  "
      ]
     },
     "metadata": {},
     "output_type": "display_data"
    }
   ],
   "source": [
    "import pandas as pd\n",
    "\n",
    "dfs = {}\n",
    "for df in ['film','inventory','rental']:\n",
    "    dfs[df] = pd.read_sql(con = conn, sql = df)\n",
    "    print('\\n'*2,df.title())\n",
    "    display(dfs[df].sample())"
   ]
  },
  {
   "cell_type": "markdown",
   "metadata": {
    "id": "BEWUcUn400SI"
   },
   "source": [
    "## Functions"
   ]
  },
  {
   "cell_type": "code",
   "execution_count": 8,
   "metadata": {
    "ExecuteTime": {
     "end_time": "2021-05-08T21:42:03.114158Z",
     "start_time": "2021-05-08T21:42:03.101631Z"
    },
    "id": "fa4mmZat02bE"
   },
   "outputs": [],
   "source": [
    "def multishift(data,id_cols,date_col,shifts,**pivot_args):\n",
    "    df = data.copy()\n",
    "    #Make sure the col just have the date (without time)\n",
    "    df[date_col] = df[date_col].dt.date\n",
    "    #Merge all column names as a string\n",
    "    id_col = ','.join(id_cols)\n",
    "    #And as a column\n",
    "    df[id_col] = df[id_cols].apply(lambda x:','.join(x.dropna().astype(str)),axis=1)\n",
    "    #Drop any \"id_col\"-set that has a lower frequency than the max of the \"shifts-list\"\n",
    "    freq = df[id_col].value_counts().to_frame()\n",
    "    omit_idx = freq[freq[id_col]<=max(shifts)].index.to_list()\n",
    "    if len(omit_idx)>0:\n",
    "        df = df[~df[id_col].isin(omit_idx)].copy()\n",
    "    #Change data structure to build the \"shifting\"\n",
    "    df = df.pivot_table(index=[id_col,date_col],\n",
    "                        **pivot_args,\n",
    "                        fill_value=0)\n",
    "    #Concatenate multiple columns if they are\n",
    "    df.columns = ['_'.join([x for x in col]) if \n",
    "                  not isinstance(df.columns[0],str) #First element is not a string\n",
    "                  else col for col in df.columns]\n",
    "    #Bring the id_col for taking the set (unique values) in the next loop\n",
    "    df = df.reset_index()\n",
    "    #Each shift must be calculated at \"id_col\" level\n",
    "    total = pd.DataFrame()\n",
    "    for row in set(df[id_col]):\n",
    "        #Set the id_col as index (again) to call all the rows with that id_col\n",
    "        df_id = df.set_index(id_col).loc[row,:]\n",
    "        #All possible dates from the min to the max of the subset\n",
    "        tot_dates = pd.DataFrame(pd.date_range(start=df_id[date_col].min(), \n",
    "                                               end=df_id[date_col].max()).date, \n",
    "                                 columns=[date_col])\n",
    "        df_id = df_id.merge(tot_dates,on=date_col,how='right').fillna(0)\n",
    "        cols = df_id.columns[1:]\n",
    "        #Start the \"shifting\"\n",
    "        aux = df_id.copy()\n",
    "        for i in shifts:\n",
    "            aux = aux.join(df_id.iloc[:,1:].shift(i).rename(columns={x:f'{x}_{str(i).zfill(2)}' \n",
    "                                                                     for x in cols}))\n",
    "        aux[id_col] = row\n",
    "        total = total.append(aux,ignore_index=True)\n",
    "    return total.set_index(id_cols+[date_col])"
   ]
  },
  {
   "cell_type": "markdown",
   "metadata": {
    "id": "5dNR4DJDw0g8"
   },
   "source": [
    "## Rental"
   ]
  },
  {
   "cell_type": "code",
   "execution_count": 9,
   "metadata": {
    "ExecuteTime": {
     "end_time": "2021-05-08T21:42:06.448384Z",
     "start_time": "2021-05-08T21:42:06.422542Z"
    },
    "colab": {
     "base_uri": "https://localhost:8080/",
     "height": 80
    },
    "id": "YBVAZKy8uZKb",
    "outputId": "08986fa0-aa93-4139-cd91-344b79bc35d2"
   },
   "outputs": [
    {
     "data": {
      "text/html": [
       "<div>\n",
       "<style scoped>\n",
       "    .dataframe tbody tr th:only-of-type {\n",
       "        vertical-align: middle;\n",
       "    }\n",
       "\n",
       "    .dataframe tbody tr th {\n",
       "        vertical-align: top;\n",
       "    }\n",
       "\n",
       "    .dataframe thead th {\n",
       "        text-align: right;\n",
       "    }\n",
       "</style>\n",
       "<table border=\"1\" class=\"dataframe\">\n",
       "  <thead>\n",
       "    <tr style=\"text-align: right;\">\n",
       "      <th></th>\n",
       "      <th>rental_id</th>\n",
       "      <th>rental_date</th>\n",
       "      <th>inventory_id</th>\n",
       "      <th>customer_id</th>\n",
       "      <th>return_date</th>\n",
       "      <th>staff_id</th>\n",
       "      <th>film_id</th>\n",
       "      <th>store_id</th>\n",
       "    </tr>\n",
       "  </thead>\n",
       "  <tbody>\n",
       "    <tr>\n",
       "      <th>4334</th>\n",
       "      <td>4337</td>\n",
       "      <td>2005-07-07 18:36:37</td>\n",
       "      <td>2313</td>\n",
       "      <td>464</td>\n",
       "      <td>2005-07-14 14:59:37</td>\n",
       "      <td>2</td>\n",
       "      <td>502</td>\n",
       "      <td>2</td>\n",
       "    </tr>\n",
       "  </tbody>\n",
       "</table>\n",
       "</div>"
      ],
      "text/plain": [
       "      rental_id         rental_date  inventory_id  customer_id  \\\n",
       "4334       4337 2005-07-07 18:36:37          2313          464   \n",
       "\n",
       "             return_date  staff_id  film_id  store_id  \n",
       "4334 2005-07-14 14:59:37         2      502         2  "
      ]
     },
     "execution_count": 9,
     "metadata": {},
     "output_type": "execute_result"
    }
   ],
   "source": [
    "df = dfs['rental'].iloc[:,:-1].merge(dfs['inventory'].iloc[:,:-1],\n",
    "                                     on='inventory_id',\n",
    "                                     how='left')\n",
    "df.sample()"
   ]
  },
  {
   "cell_type": "code",
   "execution_count": 10,
   "metadata": {
    "ExecuteTime": {
     "end_time": "2021-05-08T21:42:09.989465Z",
     "start_time": "2021-05-08T21:42:09.929664Z"
    },
    "colab": {
     "base_uri": "https://localhost:8080/"
    },
    "id": "JX7yhm0du2n2",
    "outputId": "510bbad5-7f8a-4847-e591-0d1a5d1db402"
   },
   "outputs": [
    {
     "data": {
      "text/plain": [
       "(12.061, 15.853]    0.166729\n",
       "(8.073, 12.061]     0.166667\n",
       "(4.024, 8.073]      0.166667\n",
       "(19.853, 23.999]    0.166667\n",
       "(-0.001, 4.024]     0.166667\n",
       "(15.853, 19.853]    0.166604\n",
       "Name: rental_tw, dtype: float64"
      ]
     },
     "execution_count": 10,
     "metadata": {},
     "output_type": "execute_result"
    }
   ],
   "source": [
    "df['rental_date'] = pd.to_datetime(df['rental_date'],yearfirst=True)\n",
    "df['rental_year'] = df['rental_date'].dt.year\n",
    "df['rental_month'] = df['rental_date'].dt.month\n",
    "df['rental_dow'] = df['rental_date'].dt.day_name()\n",
    "df['rental_hrmin'] = df['rental_date'].dt.hour + df['rental_date'].dt.minute/60 + df['rental_date'].dt.second/60**2\n",
    "df['rental_tw'],qbins = pd.qcut(df['rental_hrmin'],q=6,retbins=True,duplicates='drop')\n",
    "df['rental_tw'] = df['rental_tw'].astype(str)\n",
    "df['rental_tw'].value_counts(1)"
   ]
  },
  {
   "cell_type": "code",
   "execution_count": 11,
   "metadata": {
    "ExecuteTime": {
     "end_time": "2021-05-08T21:42:11.658156Z",
     "start_time": "2021-05-08T21:42:11.642219Z"
    },
    "colab": {
     "base_uri": "https://localhost:8080/",
     "height": 117
    },
    "id": "5MNvkbhQzEM_",
    "outputId": "1952217c-3a29-43e2-d28e-e6060723635c"
   },
   "outputs": [
    {
     "data": {
      "text/html": [
       "<div>\n",
       "<style scoped>\n",
       "    .dataframe tbody tr th:only-of-type {\n",
       "        vertical-align: middle;\n",
       "    }\n",
       "\n",
       "    .dataframe tbody tr th {\n",
       "        vertical-align: top;\n",
       "    }\n",
       "\n",
       "    .dataframe thead th {\n",
       "        text-align: right;\n",
       "    }\n",
       "</style>\n",
       "<table border=\"1\" class=\"dataframe\">\n",
       "  <thead>\n",
       "    <tr style=\"text-align: right;\">\n",
       "      <th></th>\n",
       "      <th>rental_id</th>\n",
       "      <th>rental_date</th>\n",
       "      <th>inventory_id</th>\n",
       "      <th>customer_id</th>\n",
       "      <th>return_date</th>\n",
       "      <th>staff_id</th>\n",
       "      <th>film_id</th>\n",
       "      <th>store_id</th>\n",
       "      <th>rental_year</th>\n",
       "      <th>rental_month</th>\n",
       "      <th>rental_dow</th>\n",
       "      <th>rental_hrmin</th>\n",
       "      <th>rental_tw</th>\n",
       "    </tr>\n",
       "  </thead>\n",
       "  <tbody>\n",
       "    <tr>\n",
       "      <th>14729</th>\n",
       "      <td>14734</td>\n",
       "      <td>2006-02-14 15:16:03</td>\n",
       "      <td>1369</td>\n",
       "      <td>448</td>\n",
       "      <td>NaT</td>\n",
       "      <td>2</td>\n",
       "      <td>301</td>\n",
       "      <td>2</td>\n",
       "      <td>2006</td>\n",
       "      <td>2</td>\n",
       "      <td>Tuesday</td>\n",
       "      <td>15.2675</td>\n",
       "      <td>(12.061, 15.853]</td>\n",
       "    </tr>\n",
       "  </tbody>\n",
       "</table>\n",
       "</div>"
      ],
      "text/plain": [
       "       rental_id         rental_date  inventory_id  customer_id return_date  \\\n",
       "14729      14734 2006-02-14 15:16:03          1369          448         NaT   \n",
       "\n",
       "       staff_id  film_id  store_id  rental_year  rental_month rental_dow  \\\n",
       "14729         2      301         2         2006             2    Tuesday   \n",
       "\n",
       "       rental_hrmin         rental_tw  \n",
       "14729       15.2675  (12.061, 15.853]  "
      ]
     },
     "execution_count": 11,
     "metadata": {},
     "output_type": "execute_result"
    }
   ],
   "source": [
    "backup = df.copy()\n",
    "df.sample()"
   ]
  },
  {
   "cell_type": "markdown",
   "metadata": {
    "id": "MI7w9gTN5mfV"
   },
   "source": [
    "## TAD"
   ]
  },
  {
   "cell_type": "code",
   "execution_count": 12,
   "metadata": {
    "ExecuteTime": {
     "end_time": "2021-05-08T21:42:13.090824Z",
     "start_time": "2021-05-08T21:42:13.087392Z"
    },
    "id": "hoeAchOq7geM"
   },
   "outputs": [],
   "source": [
    "df = backup.copy()"
   ]
  },
  {
   "cell_type": "code",
   "execution_count": 13,
   "metadata": {
    "ExecuteTime": {
     "end_time": "2021-05-08T21:42:33.844504Z",
     "start_time": "2021-05-08T21:42:14.617543Z"
    },
    "colab": {
     "base_uri": "https://localhost:8080/"
    },
    "id": "zoVHG1Al0n7c",
    "outputId": "65d149fe-ba82-4353-8695-d8013b138f69"
   },
   "outputs": [
    {
     "data": {
      "text/plain": [
       "0.0    0.885591\n",
       "1.0    0.085123\n",
       "2.0    0.024339\n",
       "3.0    0.004349\n",
       "4.0    0.000556\n",
       "5.0    0.000043\n",
       "Name: y, dtype: float64"
      ]
     },
     "execution_count": 13,
     "metadata": {},
     "output_type": "execute_result"
    }
   ],
   "source": [
    "df = multishift(df,\n",
    "           id_cols=['film_id'],\n",
    "           date_col='rental_date',\n",
    "           shifts=range(1,8),\n",
    "           #columns='rental_tw',\n",
    "           values='customer_id',\n",
    "           aggfunc='count').dropna().rename(columns={'customer_id':'y'})\n",
    "\n",
    "df['y'].value_counts(1)"
   ]
  },
  {
   "cell_type": "code",
   "execution_count": 14,
   "metadata": {
    "ExecuteTime": {
     "end_time": "2021-05-08T21:42:39.183622Z",
     "start_time": "2021-05-08T21:42:39.132111Z"
    },
    "colab": {
     "base_uri": "https://localhost:8080/"
    },
    "id": "aAChiWAcD8C1",
    "outputId": "59899b70-3556-4816-e52c-d88d047695f0"
   },
   "outputs": [
    {
     "data": {
      "text/plain": [
       "0    0.885591\n",
       "1    0.114409\n",
       "Name: y, dtype: float64"
      ]
     },
     "execution_count": 14,
     "metadata": {},
     "output_type": "execute_result"
    }
   ],
   "source": [
    "df['y'] = [1 if x>0 else 0 for x in df['y']]\n",
    "df['y'].value_counts(1)"
   ]
  },
  {
   "cell_type": "markdown",
   "metadata": {
    "id": "07DK6GAM5fhw"
   },
   "source": [
    "## Model"
   ]
  },
  {
   "cell_type": "code",
   "execution_count": 15,
   "metadata": {
    "ExecuteTime": {
     "end_time": "2021-05-08T21:42:49.744755Z",
     "start_time": "2021-05-08T21:42:41.827050Z"
    },
    "id": "-O29oowzMx-d"
   },
   "outputs": [],
   "source": [
    "from sklearn.preprocessing import MinMaxScaler\n",
    "from sklearn.model_selection import train_test_split\n",
    "\n",
    "X = df[[x for x in df.columns if x not in ['y']]].copy()\n",
    "y = df['y'].values\n",
    "\n",
    "X_train, X_test, y_train, y_test = train_test_split(X,y,\n",
    "                                                    train_size=0.77,\n",
    "                                                    random_state=22)\n",
    "mm_x = MinMaxScaler()"
   ]
  },
  {
   "cell_type": "code",
   "execution_count": 16,
   "metadata": {
    "ExecuteTime": {
     "end_time": "2021-05-08T21:42:55.122953Z",
     "start_time": "2021-05-08T21:42:54.569420Z"
    },
    "colab": {
     "base_uri": "https://localhost:8080/",
     "height": 283
    },
    "id": "rO1o5pxwMx8f",
    "outputId": "b6d85739-5ef0-4a2d-83b3-5115bb164c42"
   },
   "outputs": [
    {
     "name": "stdout",
     "output_type": "stream",
     "text": [
      "Score:  0.8818228271473034\n"
     ]
    },
    {
     "data": {
      "text/html": [
       "<div>\n",
       "<style scoped>\n",
       "    .dataframe tbody tr th:only-of-type {\n",
       "        vertical-align: middle;\n",
       "    }\n",
       "\n",
       "    .dataframe tbody tr th {\n",
       "        vertical-align: top;\n",
       "    }\n",
       "\n",
       "    .dataframe thead th {\n",
       "        text-align: right;\n",
       "    }\n",
       "</style>\n",
       "<table border=\"1\" class=\"dataframe\">\n",
       "  <thead>\n",
       "    <tr style=\"text-align: right;\">\n",
       "      <th></th>\n",
       "      <th>0</th>\n",
       "      <th>1</th>\n",
       "    </tr>\n",
       "  </thead>\n",
       "  <tbody>\n",
       "    <tr>\n",
       "      <th>0</th>\n",
       "      <td>customer_id_01</td>\n",
       "      <td>4.826554</td>\n",
       "    </tr>\n",
       "    <tr>\n",
       "      <th>1</th>\n",
       "      <td>customer_id_02</td>\n",
       "      <td>3.505254</td>\n",
       "    </tr>\n",
       "    <tr>\n",
       "      <th>2</th>\n",
       "      <td>customer_id_03</td>\n",
       "      <td>2.421617</td>\n",
       "    </tr>\n",
       "    <tr>\n",
       "      <th>3</th>\n",
       "      <td>customer_id_04</td>\n",
       "      <td>1.545628</td>\n",
       "    </tr>\n",
       "    <tr>\n",
       "      <th>4</th>\n",
       "      <td>customer_id_05</td>\n",
       "      <td>0.140989</td>\n",
       "    </tr>\n",
       "    <tr>\n",
       "      <th>5</th>\n",
       "      <td>customer_id_06</td>\n",
       "      <td>-1.887753</td>\n",
       "    </tr>\n",
       "    <tr>\n",
       "      <th>6</th>\n",
       "      <td>customer_id_07</td>\n",
       "      <td>-11.164255</td>\n",
       "    </tr>\n",
       "  </tbody>\n",
       "</table>\n",
       "</div>"
      ],
      "text/plain": [
       "                0          1\n",
       "0  customer_id_01   4.826554\n",
       "1  customer_id_02   3.505254\n",
       "2  customer_id_03   2.421617\n",
       "3  customer_id_04   1.545628\n",
       "4  customer_id_05   0.140989\n",
       "5  customer_id_06  -1.887753\n",
       "6  customer_id_07 -11.164255"
      ]
     },
     "execution_count": 16,
     "metadata": {},
     "output_type": "execute_result"
    }
   ],
   "source": [
    "from sklearn.pipeline import Pipeline\n",
    "from sklearn.linear_model import LogisticRegression\n",
    "\n",
    "log = LogisticRegression()\n",
    "\n",
    "model_log = Pipeline(steps=[('scaler', mm_x),\n",
    "                            ('model', log)])\n",
    "\n",
    "print('Score: ',model_log.fit(X_train,y_train).score(X_test,y_test))\n",
    "pd.DataFrame(zip(X_train.columns,model_log[1].coef_[0])).sort_values(1,0,0).reset_index(drop=True)"
   ]
  },
  {
   "cell_type": "code",
   "execution_count": 18,
   "metadata": {
    "ExecuteTime": {
     "end_time": "2021-05-08T21:43:04.283699Z",
     "start_time": "2021-05-08T21:43:03.097794Z"
    },
    "colab": {
     "base_uri": "https://localhost:8080/"
    },
    "id": "IRCAOu4CMx1-",
    "outputId": "c0afb35f-1385-428e-899b-21515e0abf4b"
   },
   "outputs": [
    {
     "data": {
      "text/plain": [
       "0.8295780556281953"
      ]
     },
     "execution_count": 18,
     "metadata": {},
     "output_type": "execute_result"
    }
   ],
   "source": [
    "from sklearn.metrics import roc_auc_score\n",
    "from sklearn.model_selection import cross_val_score\n",
    "\n",
    "roc = cross_val_score(estimator=model_log, cv = 4, scoring=\"roc_auc\", X=X_test, y = y_test, n_jobs=-1)\n",
    "acc = cross_val_score(estimator=model_log, cv = 4, scoring=\"accuracy\", X=X_test, y = y_test, n_jobs=-1)\n",
    "\n",
    "0.5*(acc.mean()-acc.std()) + 0.5*(roc.mean()-roc.std())"
   ]
  },
  {
   "cell_type": "markdown",
   "metadata": {
    "id": "0GUxIUgQSZcR"
   },
   "source": [
    "## Predict"
   ]
  },
  {
   "cell_type": "code",
   "execution_count": 19,
   "metadata": {
    "ExecuteTime": {
     "end_time": "2021-05-08T21:43:05.447435Z",
     "start_time": "2021-05-08T21:43:05.076131Z"
    },
    "id": "3WSjXVr-S_0s"
   },
   "outputs": [],
   "source": [
    "X.reset_index(drop=True).join(pd.DataFrame(y,columns=['y'])).to_csv(os.path.join(BASE_DIR,'untitled.csv'),index=False)"
   ]
  }
 ],
 "metadata": {
  "colab": {
   "collapsed_sections": [],
   "name": "Daily_film_rental.ipynb",
   "provenance": [],
   "toc_visible": true
  },
  "kernelspec": {
   "display_name": "Python 3",
   "language": "python",
   "name": "python3"
  },
  "language_info": {
   "codemirror_mode": {
    "name": "ipython",
    "version": 3
   },
   "file_extension": ".py",
   "mimetype": "text/x-python",
   "name": "python",
   "nbconvert_exporter": "python",
   "pygments_lexer": "ipython3",
   "version": "3.9.1"
  },
  "toc": {
   "base_numbering": 1,
   "nav_menu": {},
   "number_sections": true,
   "sideBar": true,
   "skip_h1_title": true,
   "title_cell": "Table of Contents",
   "title_sidebar": "Contents",
   "toc_cell": false,
   "toc_position": {},
   "toc_section_display": true,
   "toc_window_display": false
  },
  "varInspector": {
   "cols": {
    "lenName": 16,
    "lenType": 16,
    "lenVar": 40
   },
   "kernels_config": {
    "python": {
     "delete_cmd_postfix": "",
     "delete_cmd_prefix": "del ",
     "library": "var_list.py",
     "varRefreshCmd": "print(var_dic_list())"
    },
    "r": {
     "delete_cmd_postfix": ") ",
     "delete_cmd_prefix": "rm(",
     "library": "var_list.r",
     "varRefreshCmd": "cat(var_dic_list()) "
    }
   },
   "types_to_exclude": [
    "module",
    "function",
    "builtin_function_or_method",
    "instance",
    "_Feature"
   ],
   "window_display": false
  }
 },
 "nbformat": 4,
 "nbformat_minor": 1
}
