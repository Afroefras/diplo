{
 "cells": [
  {
   "cell_type": "markdown",
   "metadata": {},
   "source": [
    "# Técnicas cognitivas"
   ]
  },
  {
   "cell_type": "markdown",
   "metadata": {},
   "source": [
    "## Preparación de ambiente"
   ]
  },
  {
   "cell_type": "markdown",
   "metadata": {},
   "source": [
    "### Carga de librerías"
   ]
  },
  {
   "cell_type": "code",
   "execution_count": 1,
   "metadata": {
    "ExecuteTime": {
     "end_time": "2021-05-28T01:05:25.117508Z",
     "start_time": "2021-05-28T01:05:22.339073Z"
    }
   },
   "outputs": [
    {
     "data": {
      "text/html": [
       "        <script type=\"text/javascript\">\n",
       "        window.PlotlyConfig = {MathJaxConfig: 'local'};\n",
       "        if (window.MathJax) {MathJax.Hub.Config({SVG: {font: \"STIX-Web\"}});}\n",
       "        if (typeof require !== 'undefined') {\n",
       "        require.undef(\"plotly\");\n",
       "        requirejs.config({\n",
       "            paths: {\n",
       "                'plotly': ['https://cdn.plot.ly/plotly-latest.min']\n",
       "            }\n",
       "        });\n",
       "        require(['plotly'], function(Plotly) {\n",
       "            window._Plotly = Plotly;\n",
       "        });\n",
       "        }\n",
       "        </script>\n",
       "        "
      ]
     },
     "metadata": {},
     "output_type": "display_data"
    }
   ],
   "source": [
    "from sklearn.model_selection import cross_val_score, RandomizedSearchCV, train_test_split\n",
    "from sklearn.preprocessing import MinMaxScaler, LabelEncoder\n",
    "from keras.layers import Embedding, Dense, Flatten, Dropout\n",
    "from sklearn.feature_selection import VarianceThreshold\n",
    "from sklearn.linear_model import LogisticRegression\n",
    "from sklearn.preprocessing import StandardScaler\n",
    "from keras.models import Sequential, Model\n",
    "from sklearn.pipeline import Pipeline\n",
    "from keras import metrics, Input\n",
    "from sklearn import set_config\n",
    "from sklearn.svm import SVC\n",
    "import cufflinks as cf\n",
    "import pandas as pd\n",
    "import numpy as np\n",
    "import sklearn\n",
    "import keras\n",
    "import os\n",
    "\n",
    "pd.set_option('display.float_format', lambda x: '%.4f' % x)\n",
    "pd.set_option('display.max_columns', 50)\n",
    "set_config(display='diagram')\n",
    "cf.go_offline()"
   ]
  },
  {
   "cell_type": "markdown",
   "metadata": {},
   "source": [
    "### Funciones relevantes"
   ]
  },
  {
   "cell_type": "code",
   "execution_count": 2,
   "metadata": {
    "ExecuteTime": {
     "end_time": "2021-05-28T01:06:40.716172Z",
     "start_time": "2021-05-28T01:06:40.635813Z"
    }
   },
   "outputs": [],
   "source": [
    "LabelEncoder?"
   ]
  },
  {
   "cell_type": "code",
   "execution_count": 3,
   "metadata": {
    "ExecuteTime": {
     "end_time": "2021-05-28T01:07:12.612323Z",
     "start_time": "2021-05-28T01:07:12.608676Z"
    }
   },
   "outputs": [],
   "source": [
    "Embedding?"
   ]
  },
  {
   "cell_type": "code",
   "execution_count": 4,
   "metadata": {
    "ExecuteTime": {
     "end_time": "2021-05-28T01:10:03.410710Z",
     "start_time": "2021-05-28T01:10:03.397603Z"
    }
   },
   "outputs": [],
   "source": [
    "def make_embedding(X, feature, target, embedding_size=3):\n",
    "    print(f\"Creating embedding for {feature}\\n\")\n",
    "    le = LabelEncoder()\n",
    "    X_feat = le.fit_transform(X[feature])\n",
    "    model = Sequential()\n",
    "    model.add(Embedding(input_dim = len(le.classes_), output_dim = embedding_size, input_length = 1, name=\"embedding\"))\n",
    "    model.add(Flatten())\n",
    "    model.add(Dense(50, activation=\"relu\"))\n",
    "    model.add(Dense(15, activation=\"sigmoid\"))\n",
    "    model.add(Dense(1, activation=\"sigmoid\"))\n",
    "    model.compile(loss = \"binary_crossentropy\", optimizer = \"adam\", metrics=[\"accuracy\"])\n",
    "    model.fit(x = X_feat, y=X[target].to_numpy() , epochs = 5, batch_size = 500)\n",
    "    layer = model.get_layer('embedding')\n",
    "    output_embeddings = layer.get_weights()\n",
    "    X_emb = pd.DataFrame(output_embeddings[0], columns=[f\"{feature}_embedding_{x}\" for x in range(embedding_size)])\n",
    "    X_emb.reset_index(drop=False, inplace=True)\n",
    "    X_emb[feature] = X_emb[\"index\"].map(lambda x: le.inverse_transform([x])[0])\n",
    "    X = X.merge(X_emb, on = feature, how=\"inner\").drop(columns=[feature, \"index\"])\n",
    "    return X, X_emb"
   ]
  },
  {
   "cell_type": "code",
   "execution_count": 45,
   "metadata": {
    "ExecuteTime": {
     "end_time": "2021-05-28T01:22:25.151418Z",
     "start_time": "2021-05-28T01:22:25.144425Z"
    }
   },
   "outputs": [],
   "source": [
    "X = df"
   ]
  },
  {
   "cell_type": "code",
   "execution_count": 46,
   "metadata": {
    "ExecuteTime": {
     "end_time": "2021-05-28T01:22:25.421102Z",
     "start_time": "2021-05-28T01:22:25.390830Z"
    }
   },
   "outputs": [
    {
     "data": {
      "text/html": [
       "<div>\n",
       "<style scoped>\n",
       "    .dataframe tbody tr th:only-of-type {\n",
       "        vertical-align: middle;\n",
       "    }\n",
       "\n",
       "    .dataframe tbody tr th {\n",
       "        vertical-align: top;\n",
       "    }\n",
       "\n",
       "    .dataframe thead th {\n",
       "        text-align: right;\n",
       "    }\n",
       "</style>\n",
       "<table border=\"1\" class=\"dataframe\">\n",
       "  <thead>\n",
       "    <tr style=\"text-align: right;\">\n",
       "      <th></th>\n",
       "      <th>idtxn</th>\n",
       "      <th>is_fraud</th>\n",
       "      <th>amt</th>\n",
       "      <th>age</th>\n",
       "      <th>month</th>\n",
       "      <th>hour</th>\n",
       "      <th>weekday</th>\n",
       "      <th>haversine_distance</th>\n",
       "      <th>n_category</th>\n",
       "      <th>n_gender</th>\n",
       "      <th>n_state</th>\n",
       "    </tr>\n",
       "  </thead>\n",
       "  <tbody>\n",
       "    <tr>\n",
       "      <th>0</th>\n",
       "      <td>445724</td>\n",
       "      <td>0.0000</td>\n",
       "      <td>103.7100</td>\n",
       "      <td>33.0800</td>\n",
       "      <td>7.0000</td>\n",
       "      <td>9.0000</td>\n",
       "      <td>4.0000</td>\n",
       "      <td>54.3322</td>\n",
       "      <td>grocery_pos</td>\n",
       "      <td>M</td>\n",
       "      <td>PA</td>\n",
       "    </tr>\n",
       "    <tr>\n",
       "      <th>1</th>\n",
       "      <td>853618</td>\n",
       "      <td>0.0000</td>\n",
       "      <td>98.6700</td>\n",
       "      <td>33.4900</td>\n",
       "      <td>12.0000</td>\n",
       "      <td>1.0000</td>\n",
       "      <td>2.0000</td>\n",
       "      <td>66.4564</td>\n",
       "      <td>grocery_pos</td>\n",
       "      <td>M</td>\n",
       "      <td>PA</td>\n",
       "    </tr>\n",
       "    <tr>\n",
       "      <th>2</th>\n",
       "      <td>1114083</td>\n",
       "      <td>0.0000</td>\n",
       "      <td>103.3000</td>\n",
       "      <td>33.8000</td>\n",
       "      <td>4.0000</td>\n",
       "      <td>3.0000</td>\n",
       "      <td>4.0000</td>\n",
       "      <td>46.3049</td>\n",
       "      <td>grocery_pos</td>\n",
       "      <td>M</td>\n",
       "      <td>PA</td>\n",
       "    </tr>\n",
       "    <tr>\n",
       "      <th>3</th>\n",
       "      <td>67936</td>\n",
       "      <td>0.0000</td>\n",
       "      <td>112.6900</td>\n",
       "      <td>32.6400</td>\n",
       "      <td>2.0000</td>\n",
       "      <td>5.0000</td>\n",
       "      <td>1.0000</td>\n",
       "      <td>45.7027</td>\n",
       "      <td>grocery_pos</td>\n",
       "      <td>M</td>\n",
       "      <td>PA</td>\n",
       "    </tr>\n",
       "    <tr>\n",
       "      <th>4</th>\n",
       "      <td>1035837</td>\n",
       "      <td>0.0000</td>\n",
       "      <td>104.6100</td>\n",
       "      <td>33.7100</td>\n",
       "      <td>3.0000</td>\n",
       "      <td>10.0000</td>\n",
       "      <td>5.0000</td>\n",
       "      <td>97.4234</td>\n",
       "      <td>grocery_pos</td>\n",
       "      <td>M</td>\n",
       "      <td>PA</td>\n",
       "    </tr>\n",
       "    <tr>\n",
       "      <th>...</th>\n",
       "      <td>...</td>\n",
       "      <td>...</td>\n",
       "      <td>...</td>\n",
       "      <td>...</td>\n",
       "      <td>...</td>\n",
       "      <td>...</td>\n",
       "      <td>...</td>\n",
       "      <td>...</td>\n",
       "      <td>...</td>\n",
       "      <td>...</td>\n",
       "      <td>...</td>\n",
       "    </tr>\n",
       "    <tr>\n",
       "      <th>1296670</th>\n",
       "      <td>965142</td>\n",
       "      <td>0.0000</td>\n",
       "      <td>6.7500</td>\n",
       "      <td>71.2000</td>\n",
       "      <td>1.0000</td>\n",
       "      <td>0.0000</td>\n",
       "      <td>7.0000</td>\n",
       "      <td>120.4260</td>\n",
       "      <td>Other</td>\n",
       "      <td>M</td>\n",
       "      <td>Other</td>\n",
       "    </tr>\n",
       "    <tr>\n",
       "      <th>1296671</th>\n",
       "      <td>252507</td>\n",
       "      <td>0.0000</td>\n",
       "      <td>8.9600</td>\n",
       "      <td>70.4800</td>\n",
       "      <td>5.0000</td>\n",
       "      <td>0.0000</td>\n",
       "      <td>2.0000</td>\n",
       "      <td>81.7382</td>\n",
       "      <td>Other</td>\n",
       "      <td>M</td>\n",
       "      <td>Other</td>\n",
       "    </tr>\n",
       "    <tr>\n",
       "      <th>1296672</th>\n",
       "      <td>1069661</td>\n",
       "      <td>0.0000</td>\n",
       "      <td>3.4700</td>\n",
       "      <td>71.3500</td>\n",
       "      <td>3.0000</td>\n",
       "      <td>9.0000</td>\n",
       "      <td>6.0000</td>\n",
       "      <td>110.9142</td>\n",
       "      <td>Other</td>\n",
       "      <td>M</td>\n",
       "      <td>Other</td>\n",
       "    </tr>\n",
       "    <tr>\n",
       "      <th>1296673</th>\n",
       "      <td>1210934</td>\n",
       "      <td>0.0000</td>\n",
       "      <td>1.8000</td>\n",
       "      <td>71.5200</td>\n",
       "      <td>5.0000</td>\n",
       "      <td>11.0000</td>\n",
       "      <td>5.0000</td>\n",
       "      <td>79.8636</td>\n",
       "      <td>Other</td>\n",
       "      <td>M</td>\n",
       "      <td>Other</td>\n",
       "    </tr>\n",
       "    <tr>\n",
       "      <th>1296674</th>\n",
       "      <td>148460</td>\n",
       "      <td>0.0000</td>\n",
       "      <td>9.1800</td>\n",
       "      <td>70.3500</td>\n",
       "      <td>3.0000</td>\n",
       "      <td>9.0000</td>\n",
       "      <td>5.0000</td>\n",
       "      <td>55.6192</td>\n",
       "      <td>Other</td>\n",
       "      <td>M</td>\n",
       "      <td>Other</td>\n",
       "    </tr>\n",
       "  </tbody>\n",
       "</table>\n",
       "<p>1296675 rows × 11 columns</p>\n",
       "</div>"
      ],
      "text/plain": [
       "           idtxn  is_fraud      amt     age   month    hour  weekday  \\\n",
       "0         445724    0.0000 103.7100 33.0800  7.0000  9.0000   4.0000   \n",
       "1         853618    0.0000  98.6700 33.4900 12.0000  1.0000   2.0000   \n",
       "2        1114083    0.0000 103.3000 33.8000  4.0000  3.0000   4.0000   \n",
       "3          67936    0.0000 112.6900 32.6400  2.0000  5.0000   1.0000   \n",
       "4        1035837    0.0000 104.6100 33.7100  3.0000 10.0000   5.0000   \n",
       "...          ...       ...      ...     ...     ...     ...      ...   \n",
       "1296670   965142    0.0000   6.7500 71.2000  1.0000  0.0000   7.0000   \n",
       "1296671   252507    0.0000   8.9600 70.4800  5.0000  0.0000   2.0000   \n",
       "1296672  1069661    0.0000   3.4700 71.3500  3.0000  9.0000   6.0000   \n",
       "1296673  1210934    0.0000   1.8000 71.5200  5.0000 11.0000   5.0000   \n",
       "1296674   148460    0.0000   9.1800 70.3500  3.0000  9.0000   5.0000   \n",
       "\n",
       "         haversine_distance   n_category n_gender n_state  \n",
       "0                   54.3322  grocery_pos        M      PA  \n",
       "1                   66.4564  grocery_pos        M      PA  \n",
       "2                   46.3049  grocery_pos        M      PA  \n",
       "3                   45.7027  grocery_pos        M      PA  \n",
       "4                   97.4234  grocery_pos        M      PA  \n",
       "...                     ...          ...      ...     ...  \n",
       "1296670            120.4260        Other        M   Other  \n",
       "1296671             81.7382        Other        M   Other  \n",
       "1296672            110.9142        Other        M   Other  \n",
       "1296673             79.8636        Other        M   Other  \n",
       "1296674             55.6192        Other        M   Other  \n",
       "\n",
       "[1296675 rows x 11 columns]"
      ]
     },
     "execution_count": 46,
     "metadata": {},
     "output_type": "execute_result"
    }
   ],
   "source": [
    "df"
   ]
  },
  {
   "cell_type": "code",
   "execution_count": 47,
   "metadata": {
    "ExecuteTime": {
     "end_time": "2021-05-28T01:22:25.627426Z",
     "start_time": "2021-05-28T01:22:25.624484Z"
    }
   },
   "outputs": [],
   "source": [
    "feature = \"n_state\""
   ]
  },
  {
   "cell_type": "code",
   "execution_count": 48,
   "metadata": {
    "ExecuteTime": {
     "end_time": "2021-05-28T01:22:26.167249Z",
     "start_time": "2021-05-28T01:22:25.890029Z"
    }
   },
   "outputs": [],
   "source": [
    "le = LabelEncoder()\n",
    "X_feat = le.fit_transform(X[feature])"
   ]
  },
  {
   "cell_type": "code",
   "execution_count": 49,
   "metadata": {
    "ExecuteTime": {
     "end_time": "2021-05-28T01:22:26.358879Z",
     "start_time": "2021-05-28T01:22:26.355506Z"
    }
   },
   "outputs": [],
   "source": [
    "embedding_size=3"
   ]
  },
  {
   "cell_type": "code",
   "execution_count": 50,
   "metadata": {
    "ExecuteTime": {
     "end_time": "2021-05-28T01:22:26.899393Z",
     "start_time": "2021-05-28T01:22:26.896056Z"
    }
   },
   "outputs": [],
   "source": [
    "target = \"is_fraud\""
   ]
  },
  {
   "cell_type": "code",
   "execution_count": 51,
   "metadata": {
    "ExecuteTime": {
     "end_time": "2021-05-28T01:22:51.854357Z",
     "start_time": "2021-05-28T01:22:27.636310Z"
    }
   },
   "outputs": [
    {
     "name": "stdout",
     "output_type": "stream",
     "text": [
      "Epoch 1/5\n",
      "2594/2594 [==============================] - 5s 2ms/step - loss: 0.0899 - accuracy: 0.9660\n",
      "Epoch 2/5\n",
      "2594/2594 [==============================] - 5s 2ms/step - loss: 0.0356 - accuracy: 0.9942\n",
      "Epoch 3/5\n",
      "2594/2594 [==============================] - 5s 2ms/step - loss: 0.0356 - accuracy: 0.9942\n",
      "Epoch 4/5\n",
      "2594/2594 [==============================] - 5s 2ms/step - loss: 0.0356 - accuracy: 0.9942\n",
      "Epoch 5/5\n",
      "2594/2594 [==============================] - 5s 2ms/step - loss: 0.0356 - accuracy: 0.9942\n"
     ]
    },
    {
     "data": {
      "text/plain": [
       "<tensorflow.python.keras.callbacks.History at 0x7f0d5b27e050>"
      ]
     },
     "execution_count": 51,
     "metadata": {},
     "output_type": "execute_result"
    }
   ],
   "source": [
    "model = Sequential()\n",
    "model.add(Embedding(input_dim = len(le.classes_), output_dim = embedding_size, input_length = 1, name=\"embedding\"))\n",
    "model.add(Flatten())\n",
    "model.add(Dense(50, activation=\"relu\"))\n",
    "model.add(Dense(15, activation=\"sigmoid\"))\n",
    "model.add(Dense(1, activation=\"sigmoid\"))\n",
    "model.compile(loss = \"binary_crossentropy\", optimizer = \"adam\", metrics=[\"accuracy\"])\n",
    "model.fit(x = X_feat, y=X[target].to_numpy() , epochs = 5, batch_size = 500)"
   ]
  },
  {
   "cell_type": "code",
   "execution_count": 52,
   "metadata": {
    "ExecuteTime": {
     "end_time": "2021-05-28T01:23:01.400764Z",
     "start_time": "2021-05-28T01:23:01.392779Z"
    }
   },
   "outputs": [],
   "source": [
    "layer = model.get_layer('embedding')"
   ]
  },
  {
   "cell_type": "code",
   "execution_count": 53,
   "metadata": {
    "ExecuteTime": {
     "end_time": "2021-05-28T01:23:06.071637Z",
     "start_time": "2021-05-28T01:23:06.054746Z"
    }
   },
   "outputs": [],
   "source": [
    "output_embeddings = layer.get_weights()"
   ]
  },
  {
   "cell_type": "code",
   "execution_count": 54,
   "metadata": {
    "ExecuteTime": {
     "end_time": "2021-05-28T01:23:08.688691Z",
     "start_time": "2021-05-28T01:23:08.683439Z"
    }
   },
   "outputs": [
    {
     "data": {
      "text/plain": [
       "[array([[-0.16390727,  0.18963017,  0.16823545],\n",
       "        [-0.3470228 ,  0.33127296,  0.33569503],\n",
       "        [-0.34397522,  0.38951048,  0.3176721 ],\n",
       "        [-0.5274998 ,  0.5317074 ,  0.50979   ]], dtype=float32)]"
      ]
     },
     "execution_count": 54,
     "metadata": {},
     "output_type": "execute_result"
    }
   ],
   "source": [
    "output_embeddings"
   ]
  },
  {
   "cell_type": "code",
   "execution_count": 55,
   "metadata": {
    "ExecuteTime": {
     "end_time": "2021-05-28T01:23:13.270501Z",
     "start_time": "2021-05-28T01:23:13.253327Z"
    }
   },
   "outputs": [],
   "source": [
    "X_emb = pd.DataFrame(output_embeddings[0], columns=[f\"{feature}_embedding_{x}\" for x in range(embedding_size)])"
   ]
  },
  {
   "cell_type": "code",
   "execution_count": 56,
   "metadata": {
    "ExecuteTime": {
     "end_time": "2021-05-28T01:23:14.556620Z",
     "start_time": "2021-05-28T01:23:14.532431Z"
    }
   },
   "outputs": [
    {
     "data": {
      "text/html": [
       "<div>\n",
       "<style scoped>\n",
       "    .dataframe tbody tr th:only-of-type {\n",
       "        vertical-align: middle;\n",
       "    }\n",
       "\n",
       "    .dataframe tbody tr th {\n",
       "        vertical-align: top;\n",
       "    }\n",
       "\n",
       "    .dataframe thead th {\n",
       "        text-align: right;\n",
       "    }\n",
       "</style>\n",
       "<table border=\"1\" class=\"dataframe\">\n",
       "  <thead>\n",
       "    <tr style=\"text-align: right;\">\n",
       "      <th></th>\n",
       "      <th>n_state_embedding_0</th>\n",
       "      <th>n_state_embedding_1</th>\n",
       "      <th>n_state_embedding_2</th>\n",
       "    </tr>\n",
       "  </thead>\n",
       "  <tbody>\n",
       "    <tr>\n",
       "      <th>0</th>\n",
       "      <td>-0.1639</td>\n",
       "      <td>0.1896</td>\n",
       "      <td>0.1682</td>\n",
       "    </tr>\n",
       "    <tr>\n",
       "      <th>1</th>\n",
       "      <td>-0.3470</td>\n",
       "      <td>0.3313</td>\n",
       "      <td>0.3357</td>\n",
       "    </tr>\n",
       "    <tr>\n",
       "      <th>2</th>\n",
       "      <td>-0.3440</td>\n",
       "      <td>0.3895</td>\n",
       "      <td>0.3177</td>\n",
       "    </tr>\n",
       "    <tr>\n",
       "      <th>3</th>\n",
       "      <td>-0.5275</td>\n",
       "      <td>0.5317</td>\n",
       "      <td>0.5098</td>\n",
       "    </tr>\n",
       "  </tbody>\n",
       "</table>\n",
       "</div>"
      ],
      "text/plain": [
       "   n_state_embedding_0  n_state_embedding_1  n_state_embedding_2\n",
       "0              -0.1639               0.1896               0.1682\n",
       "1              -0.3470               0.3313               0.3357\n",
       "2              -0.3440               0.3895               0.3177\n",
       "3              -0.5275               0.5317               0.5098"
      ]
     },
     "execution_count": 56,
     "metadata": {},
     "output_type": "execute_result"
    }
   ],
   "source": [
    "X_emb"
   ]
  },
  {
   "cell_type": "code",
   "execution_count": 57,
   "metadata": {
    "ExecuteTime": {
     "end_time": "2021-05-28T01:23:16.449811Z",
     "start_time": "2021-05-28T01:23:16.446404Z"
    }
   },
   "outputs": [],
   "source": [
    "X_emb.reset_index(drop=False, inplace=True)"
   ]
  },
  {
   "cell_type": "code",
   "execution_count": 58,
   "metadata": {
    "ExecuteTime": {
     "end_time": "2021-05-28T01:23:16.805794Z",
     "start_time": "2021-05-28T01:23:16.791413Z"
    }
   },
   "outputs": [
    {
     "data": {
      "text/html": [
       "<div>\n",
       "<style scoped>\n",
       "    .dataframe tbody tr th:only-of-type {\n",
       "        vertical-align: middle;\n",
       "    }\n",
       "\n",
       "    .dataframe tbody tr th {\n",
       "        vertical-align: top;\n",
       "    }\n",
       "\n",
       "    .dataframe thead th {\n",
       "        text-align: right;\n",
       "    }\n",
       "</style>\n",
       "<table border=\"1\" class=\"dataframe\">\n",
       "  <thead>\n",
       "    <tr style=\"text-align: right;\">\n",
       "      <th></th>\n",
       "      <th>index</th>\n",
       "      <th>n_state_embedding_0</th>\n",
       "      <th>n_state_embedding_1</th>\n",
       "      <th>n_state_embedding_2</th>\n",
       "    </tr>\n",
       "  </thead>\n",
       "  <tbody>\n",
       "    <tr>\n",
       "      <th>0</th>\n",
       "      <td>0</td>\n",
       "      <td>-0.1639</td>\n",
       "      <td>0.1896</td>\n",
       "      <td>0.1682</td>\n",
       "    </tr>\n",
       "    <tr>\n",
       "      <th>1</th>\n",
       "      <td>1</td>\n",
       "      <td>-0.3470</td>\n",
       "      <td>0.3313</td>\n",
       "      <td>0.3357</td>\n",
       "    </tr>\n",
       "    <tr>\n",
       "      <th>2</th>\n",
       "      <td>2</td>\n",
       "      <td>-0.3440</td>\n",
       "      <td>0.3895</td>\n",
       "      <td>0.3177</td>\n",
       "    </tr>\n",
       "    <tr>\n",
       "      <th>3</th>\n",
       "      <td>3</td>\n",
       "      <td>-0.5275</td>\n",
       "      <td>0.5317</td>\n",
       "      <td>0.5098</td>\n",
       "    </tr>\n",
       "  </tbody>\n",
       "</table>\n",
       "</div>"
      ],
      "text/plain": [
       "   index  n_state_embedding_0  n_state_embedding_1  n_state_embedding_2\n",
       "0      0              -0.1639               0.1896               0.1682\n",
       "1      1              -0.3470               0.3313               0.3357\n",
       "2      2              -0.3440               0.3895               0.3177\n",
       "3      3              -0.5275               0.5317               0.5098"
      ]
     },
     "execution_count": 58,
     "metadata": {},
     "output_type": "execute_result"
    }
   ],
   "source": [
    "X_emb"
   ]
  },
  {
   "cell_type": "code",
   "execution_count": 59,
   "metadata": {
    "ExecuteTime": {
     "end_time": "2021-05-28T01:23:18.224157Z",
     "start_time": "2021-05-28T01:23:18.216279Z"
    }
   },
   "outputs": [],
   "source": [
    "X_emb[feature] = X_emb[\"index\"].map(lambda x: le.inverse_transform([x])[0])"
   ]
  },
  {
   "cell_type": "code",
   "execution_count": 60,
   "metadata": {
    "ExecuteTime": {
     "end_time": "2021-05-28T01:23:18.658902Z",
     "start_time": "2021-05-28T01:23:18.647804Z"
    }
   },
   "outputs": [
    {
     "data": {
      "text/html": [
       "<div>\n",
       "<style scoped>\n",
       "    .dataframe tbody tr th:only-of-type {\n",
       "        vertical-align: middle;\n",
       "    }\n",
       "\n",
       "    .dataframe tbody tr th {\n",
       "        vertical-align: top;\n",
       "    }\n",
       "\n",
       "    .dataframe thead th {\n",
       "        text-align: right;\n",
       "    }\n",
       "</style>\n",
       "<table border=\"1\" class=\"dataframe\">\n",
       "  <thead>\n",
       "    <tr style=\"text-align: right;\">\n",
       "      <th></th>\n",
       "      <th>index</th>\n",
       "      <th>n_state_embedding_0</th>\n",
       "      <th>n_state_embedding_1</th>\n",
       "      <th>n_state_embedding_2</th>\n",
       "      <th>n_state</th>\n",
       "    </tr>\n",
       "  </thead>\n",
       "  <tbody>\n",
       "    <tr>\n",
       "      <th>0</th>\n",
       "      <td>0</td>\n",
       "      <td>-0.1639</td>\n",
       "      <td>0.1896</td>\n",
       "      <td>0.1682</td>\n",
       "      <td>NY</td>\n",
       "    </tr>\n",
       "    <tr>\n",
       "      <th>1</th>\n",
       "      <td>1</td>\n",
       "      <td>-0.3470</td>\n",
       "      <td>0.3313</td>\n",
       "      <td>0.3357</td>\n",
       "      <td>Other</td>\n",
       "    </tr>\n",
       "    <tr>\n",
       "      <th>2</th>\n",
       "      <td>2</td>\n",
       "      <td>-0.3440</td>\n",
       "      <td>0.3895</td>\n",
       "      <td>0.3177</td>\n",
       "      <td>PA</td>\n",
       "    </tr>\n",
       "    <tr>\n",
       "      <th>3</th>\n",
       "      <td>3</td>\n",
       "      <td>-0.5275</td>\n",
       "      <td>0.5317</td>\n",
       "      <td>0.5098</td>\n",
       "      <td>TX</td>\n",
       "    </tr>\n",
       "  </tbody>\n",
       "</table>\n",
       "</div>"
      ],
      "text/plain": [
       "   index  n_state_embedding_0  n_state_embedding_1  n_state_embedding_2  \\\n",
       "0      0              -0.1639               0.1896               0.1682   \n",
       "1      1              -0.3470               0.3313               0.3357   \n",
       "2      2              -0.3440               0.3895               0.3177   \n",
       "3      3              -0.5275               0.5317               0.5098   \n",
       "\n",
       "  n_state  \n",
       "0      NY  \n",
       "1   Other  \n",
       "2      PA  \n",
       "3      TX  "
      ]
     },
     "execution_count": 60,
     "metadata": {},
     "output_type": "execute_result"
    }
   ],
   "source": [
    "X_emb"
   ]
  },
  {
   "cell_type": "code",
   "execution_count": 62,
   "metadata": {
    "ExecuteTime": {
     "end_time": "2021-05-28T01:23:38.587335Z",
     "start_time": "2021-05-28T01:23:38.353619Z"
    }
   },
   "outputs": [
    {
     "data": {
      "application/vnd.plotly.v1+json": {
       "config": {
        "linkText": "Export to plot.ly",
        "plotlyServerURL": "https://plot.ly",
        "showLink": true
       },
       "data": [
        {
         "marker": {
          "color": [
           "rgba(255, 153, 51, 1.0)",
           "rgba(55, 128, 191, 1.0)",
           "rgba(50, 171, 96, 1.0)",
           "rgba(128, 0, 128, 1.0)"
          ],
          "opacity": 0.8,
          "size": [
           12,
           12,
           12,
           12
          ],
          "symbol": "circle"
         },
         "mode": "markers+text",
         "text": [
          "0",
          "1",
          "2",
          "3"
         ],
         "type": "scatter3d",
         "x": [
          -0.1639072746038437,
          -0.34702280163764954,
          -0.3439752161502838,
          -0.527499794960022
         ],
         "y": [
          0.1896301656961441,
          0.3312729597091675,
          0.38951048254966736,
          0.5317074060440063
         ],
         "z": [
          0.16823545098304749,
          0.3356950283050537,
          0.31767210364341736,
          0.5097900032997131
         ]
        }
       ],
       "layout": {
        "legend": {
         "bgcolor": "#F5F6F9",
         "font": {
          "color": "#4D5663"
         }
        },
        "paper_bgcolor": "#F5F6F9",
        "plot_bgcolor": "#F5F6F9",
        "scene": {
         "xaxis": {
          "gridcolor": "#9499A3",
          "showgrid": true,
          "tickfont": {
           "color": "#4D5663"
          },
          "title": {
           "font": {
            "color": "#4D5663"
           },
           "text": ""
          },
          "zerolinecolor": "#9499A3"
         },
         "yaxis": {
          "gridcolor": "#9499A3",
          "showgrid": true,
          "tickfont": {
           "color": "#4D5663"
          },
          "title": {
           "font": {
            "color": "#4D5663"
           },
           "text": ""
          },
          "zerolinecolor": "#9499A3"
         },
         "zaxis": {
          "gridcolor": "#9499A3",
          "showgrid": true,
          "tickfont": {
           "color": "#4D5663"
          },
          "title": {
           "font": {
            "color": "#4D5663"
           },
           "text": ""
          },
          "zerolinecolor": "#9499A3"
         }
        },
        "template": {
         "data": {
          "bar": [
           {
            "error_x": {
             "color": "#2a3f5f"
            },
            "error_y": {
             "color": "#2a3f5f"
            },
            "marker": {
             "line": {
              "color": "#E5ECF6",
              "width": 0.5
             }
            },
            "type": "bar"
           }
          ],
          "barpolar": [
           {
            "marker": {
             "line": {
              "color": "#E5ECF6",
              "width": 0.5
             }
            },
            "type": "barpolar"
           }
          ],
          "carpet": [
           {
            "aaxis": {
             "endlinecolor": "#2a3f5f",
             "gridcolor": "white",
             "linecolor": "white",
             "minorgridcolor": "white",
             "startlinecolor": "#2a3f5f"
            },
            "baxis": {
             "endlinecolor": "#2a3f5f",
             "gridcolor": "white",
             "linecolor": "white",
             "minorgridcolor": "white",
             "startlinecolor": "#2a3f5f"
            },
            "type": "carpet"
           }
          ],
          "choropleth": [
           {
            "colorbar": {
             "outlinewidth": 0,
             "ticks": ""
            },
            "type": "choropleth"
           }
          ],
          "contour": [
           {
            "colorbar": {
             "outlinewidth": 0,
             "ticks": ""
            },
            "colorscale": [
             [
              0,
              "#0d0887"
             ],
             [
              0.1111111111111111,
              "#46039f"
             ],
             [
              0.2222222222222222,
              "#7201a8"
             ],
             [
              0.3333333333333333,
              "#9c179e"
             ],
             [
              0.4444444444444444,
              "#bd3786"
             ],
             [
              0.5555555555555556,
              "#d8576b"
             ],
             [
              0.6666666666666666,
              "#ed7953"
             ],
             [
              0.7777777777777778,
              "#fb9f3a"
             ],
             [
              0.8888888888888888,
              "#fdca26"
             ],
             [
              1,
              "#f0f921"
             ]
            ],
            "type": "contour"
           }
          ],
          "contourcarpet": [
           {
            "colorbar": {
             "outlinewidth": 0,
             "ticks": ""
            },
            "type": "contourcarpet"
           }
          ],
          "heatmap": [
           {
            "colorbar": {
             "outlinewidth": 0,
             "ticks": ""
            },
            "colorscale": [
             [
              0,
              "#0d0887"
             ],
             [
              0.1111111111111111,
              "#46039f"
             ],
             [
              0.2222222222222222,
              "#7201a8"
             ],
             [
              0.3333333333333333,
              "#9c179e"
             ],
             [
              0.4444444444444444,
              "#bd3786"
             ],
             [
              0.5555555555555556,
              "#d8576b"
             ],
             [
              0.6666666666666666,
              "#ed7953"
             ],
             [
              0.7777777777777778,
              "#fb9f3a"
             ],
             [
              0.8888888888888888,
              "#fdca26"
             ],
             [
              1,
              "#f0f921"
             ]
            ],
            "type": "heatmap"
           }
          ],
          "heatmapgl": [
           {
            "colorbar": {
             "outlinewidth": 0,
             "ticks": ""
            },
            "colorscale": [
             [
              0,
              "#0d0887"
             ],
             [
              0.1111111111111111,
              "#46039f"
             ],
             [
              0.2222222222222222,
              "#7201a8"
             ],
             [
              0.3333333333333333,
              "#9c179e"
             ],
             [
              0.4444444444444444,
              "#bd3786"
             ],
             [
              0.5555555555555556,
              "#d8576b"
             ],
             [
              0.6666666666666666,
              "#ed7953"
             ],
             [
              0.7777777777777778,
              "#fb9f3a"
             ],
             [
              0.8888888888888888,
              "#fdca26"
             ],
             [
              1,
              "#f0f921"
             ]
            ],
            "type": "heatmapgl"
           }
          ],
          "histogram": [
           {
            "marker": {
             "colorbar": {
              "outlinewidth": 0,
              "ticks": ""
             }
            },
            "type": "histogram"
           }
          ],
          "histogram2d": [
           {
            "colorbar": {
             "outlinewidth": 0,
             "ticks": ""
            },
            "colorscale": [
             [
              0,
              "#0d0887"
             ],
             [
              0.1111111111111111,
              "#46039f"
             ],
             [
              0.2222222222222222,
              "#7201a8"
             ],
             [
              0.3333333333333333,
              "#9c179e"
             ],
             [
              0.4444444444444444,
              "#bd3786"
             ],
             [
              0.5555555555555556,
              "#d8576b"
             ],
             [
              0.6666666666666666,
              "#ed7953"
             ],
             [
              0.7777777777777778,
              "#fb9f3a"
             ],
             [
              0.8888888888888888,
              "#fdca26"
             ],
             [
              1,
              "#f0f921"
             ]
            ],
            "type": "histogram2d"
           }
          ],
          "histogram2dcontour": [
           {
            "colorbar": {
             "outlinewidth": 0,
             "ticks": ""
            },
            "colorscale": [
             [
              0,
              "#0d0887"
             ],
             [
              0.1111111111111111,
              "#46039f"
             ],
             [
              0.2222222222222222,
              "#7201a8"
             ],
             [
              0.3333333333333333,
              "#9c179e"
             ],
             [
              0.4444444444444444,
              "#bd3786"
             ],
             [
              0.5555555555555556,
              "#d8576b"
             ],
             [
              0.6666666666666666,
              "#ed7953"
             ],
             [
              0.7777777777777778,
              "#fb9f3a"
             ],
             [
              0.8888888888888888,
              "#fdca26"
             ],
             [
              1,
              "#f0f921"
             ]
            ],
            "type": "histogram2dcontour"
           }
          ],
          "mesh3d": [
           {
            "colorbar": {
             "outlinewidth": 0,
             "ticks": ""
            },
            "type": "mesh3d"
           }
          ],
          "parcoords": [
           {
            "line": {
             "colorbar": {
              "outlinewidth": 0,
              "ticks": ""
             }
            },
            "type": "parcoords"
           }
          ],
          "pie": [
           {
            "automargin": true,
            "type": "pie"
           }
          ],
          "scatter": [
           {
            "marker": {
             "colorbar": {
              "outlinewidth": 0,
              "ticks": ""
             }
            },
            "type": "scatter"
           }
          ],
          "scatter3d": [
           {
            "line": {
             "colorbar": {
              "outlinewidth": 0,
              "ticks": ""
             }
            },
            "marker": {
             "colorbar": {
              "outlinewidth": 0,
              "ticks": ""
             }
            },
            "type": "scatter3d"
           }
          ],
          "scattercarpet": [
           {
            "marker": {
             "colorbar": {
              "outlinewidth": 0,
              "ticks": ""
             }
            },
            "type": "scattercarpet"
           }
          ],
          "scattergeo": [
           {
            "marker": {
             "colorbar": {
              "outlinewidth": 0,
              "ticks": ""
             }
            },
            "type": "scattergeo"
           }
          ],
          "scattergl": [
           {
            "marker": {
             "colorbar": {
              "outlinewidth": 0,
              "ticks": ""
             }
            },
            "type": "scattergl"
           }
          ],
          "scattermapbox": [
           {
            "marker": {
             "colorbar": {
              "outlinewidth": 0,
              "ticks": ""
             }
            },
            "type": "scattermapbox"
           }
          ],
          "scatterpolar": [
           {
            "marker": {
             "colorbar": {
              "outlinewidth": 0,
              "ticks": ""
             }
            },
            "type": "scatterpolar"
           }
          ],
          "scatterpolargl": [
           {
            "marker": {
             "colorbar": {
              "outlinewidth": 0,
              "ticks": ""
             }
            },
            "type": "scatterpolargl"
           }
          ],
          "scatterternary": [
           {
            "marker": {
             "colorbar": {
              "outlinewidth": 0,
              "ticks": ""
             }
            },
            "type": "scatterternary"
           }
          ],
          "surface": [
           {
            "colorbar": {
             "outlinewidth": 0,
             "ticks": ""
            },
            "colorscale": [
             [
              0,
              "#0d0887"
             ],
             [
              0.1111111111111111,
              "#46039f"
             ],
             [
              0.2222222222222222,
              "#7201a8"
             ],
             [
              0.3333333333333333,
              "#9c179e"
             ],
             [
              0.4444444444444444,
              "#bd3786"
             ],
             [
              0.5555555555555556,
              "#d8576b"
             ],
             [
              0.6666666666666666,
              "#ed7953"
             ],
             [
              0.7777777777777778,
              "#fb9f3a"
             ],
             [
              0.8888888888888888,
              "#fdca26"
             ],
             [
              1,
              "#f0f921"
             ]
            ],
            "type": "surface"
           }
          ],
          "table": [
           {
            "cells": {
             "fill": {
              "color": "#EBF0F8"
             },
             "line": {
              "color": "white"
             }
            },
            "header": {
             "fill": {
              "color": "#C8D4E3"
             },
             "line": {
              "color": "white"
             }
            },
            "type": "table"
           }
          ]
         },
         "layout": {
          "annotationdefaults": {
           "arrowcolor": "#2a3f5f",
           "arrowhead": 0,
           "arrowwidth": 1
          },
          "coloraxis": {
           "colorbar": {
            "outlinewidth": 0,
            "ticks": ""
           }
          },
          "colorscale": {
           "diverging": [
            [
             0,
             "#8e0152"
            ],
            [
             0.1,
             "#c51b7d"
            ],
            [
             0.2,
             "#de77ae"
            ],
            [
             0.3,
             "#f1b6da"
            ],
            [
             0.4,
             "#fde0ef"
            ],
            [
             0.5,
             "#f7f7f7"
            ],
            [
             0.6,
             "#e6f5d0"
            ],
            [
             0.7,
             "#b8e186"
            ],
            [
             0.8,
             "#7fbc41"
            ],
            [
             0.9,
             "#4d9221"
            ],
            [
             1,
             "#276419"
            ]
           ],
           "sequential": [
            [
             0,
             "#0d0887"
            ],
            [
             0.1111111111111111,
             "#46039f"
            ],
            [
             0.2222222222222222,
             "#7201a8"
            ],
            [
             0.3333333333333333,
             "#9c179e"
            ],
            [
             0.4444444444444444,
             "#bd3786"
            ],
            [
             0.5555555555555556,
             "#d8576b"
            ],
            [
             0.6666666666666666,
             "#ed7953"
            ],
            [
             0.7777777777777778,
             "#fb9f3a"
            ],
            [
             0.8888888888888888,
             "#fdca26"
            ],
            [
             1,
             "#f0f921"
            ]
           ],
           "sequentialminus": [
            [
             0,
             "#0d0887"
            ],
            [
             0.1111111111111111,
             "#46039f"
            ],
            [
             0.2222222222222222,
             "#7201a8"
            ],
            [
             0.3333333333333333,
             "#9c179e"
            ],
            [
             0.4444444444444444,
             "#bd3786"
            ],
            [
             0.5555555555555556,
             "#d8576b"
            ],
            [
             0.6666666666666666,
             "#ed7953"
            ],
            [
             0.7777777777777778,
             "#fb9f3a"
            ],
            [
             0.8888888888888888,
             "#fdca26"
            ],
            [
             1,
             "#f0f921"
            ]
           ]
          },
          "colorway": [
           "#636efa",
           "#EF553B",
           "#00cc96",
           "#ab63fa",
           "#FFA15A",
           "#19d3f3",
           "#FF6692",
           "#B6E880",
           "#FF97FF",
           "#FECB52"
          ],
          "font": {
           "color": "#2a3f5f"
          },
          "geo": {
           "bgcolor": "white",
           "lakecolor": "white",
           "landcolor": "#E5ECF6",
           "showlakes": true,
           "showland": true,
           "subunitcolor": "white"
          },
          "hoverlabel": {
           "align": "left"
          },
          "hovermode": "closest",
          "mapbox": {
           "style": "light"
          },
          "paper_bgcolor": "white",
          "plot_bgcolor": "#E5ECF6",
          "polar": {
           "angularaxis": {
            "gridcolor": "white",
            "linecolor": "white",
            "ticks": ""
           },
           "bgcolor": "#E5ECF6",
           "radialaxis": {
            "gridcolor": "white",
            "linecolor": "white",
            "ticks": ""
           }
          },
          "scene": {
           "xaxis": {
            "backgroundcolor": "#E5ECF6",
            "gridcolor": "white",
            "gridwidth": 2,
            "linecolor": "white",
            "showbackground": true,
            "ticks": "",
            "zerolinecolor": "white"
           },
           "yaxis": {
            "backgroundcolor": "#E5ECF6",
            "gridcolor": "white",
            "gridwidth": 2,
            "linecolor": "white",
            "showbackground": true,
            "ticks": "",
            "zerolinecolor": "white"
           },
           "zaxis": {
            "backgroundcolor": "#E5ECF6",
            "gridcolor": "white",
            "gridwidth": 2,
            "linecolor": "white",
            "showbackground": true,
            "ticks": "",
            "zerolinecolor": "white"
           }
          },
          "shapedefaults": {
           "line": {
            "color": "#2a3f5f"
           }
          },
          "ternary": {
           "aaxis": {
            "gridcolor": "white",
            "linecolor": "white",
            "ticks": ""
           },
           "baxis": {
            "gridcolor": "white",
            "linecolor": "white",
            "ticks": ""
           },
           "bgcolor": "#E5ECF6",
           "caxis": {
            "gridcolor": "white",
            "linecolor": "white",
            "ticks": ""
           }
          },
          "title": {
           "x": 0.05
          },
          "xaxis": {
           "automargin": true,
           "gridcolor": "white",
           "linecolor": "white",
           "ticks": "",
           "title": {
            "standoff": 15
           },
           "zerolinecolor": "white",
           "zerolinewidth": 2
          },
          "yaxis": {
           "automargin": true,
           "gridcolor": "white",
           "linecolor": "white",
           "ticks": "",
           "title": {
            "standoff": 15
           },
           "zerolinecolor": "white",
           "zerolinewidth": 2
          }
         }
        },
        "title": {
         "font": {
          "color": "#4D5663"
         }
        }
       }
      },
      "text/html": [
       "<div>\n",
       "        \n",
       "        \n",
       "            <div id=\"7a4de187-8033-4639-94b1-48acfdf4dd35\" class=\"plotly-graph-div\" style=\"height:525px; width:100%;\"></div>\n",
       "            <script type=\"text/javascript\">\n",
       "                require([\"plotly\"], function(Plotly) {\n",
       "                    window.PLOTLYENV=window.PLOTLYENV || {};\n",
       "                    window.PLOTLYENV.BASE_URL='https://plot.ly';\n",
       "                    \n",
       "                if (document.getElementById(\"7a4de187-8033-4639-94b1-48acfdf4dd35\")) {\n",
       "                    Plotly.newPlot(\n",
       "                        '7a4de187-8033-4639-94b1-48acfdf4dd35',\n",
       "                        [{\"marker\": {\"color\": [\"rgba(255, 153, 51, 1.0)\", \"rgba(55, 128, 191, 1.0)\", \"rgba(50, 171, 96, 1.0)\", \"rgba(128, 0, 128, 1.0)\"], \"opacity\": 0.8, \"size\": [12, 12, 12, 12], \"symbol\": \"circle\"}, \"mode\": \"markers+text\", \"text\": [\"0\", \"1\", \"2\", \"3\"], \"type\": \"scatter3d\", \"x\": [-0.1639072746038437, -0.34702280163764954, -0.3439752161502838, -0.527499794960022], \"y\": [0.1896301656961441, 0.3312729597091675, 0.38951048254966736, 0.5317074060440063], \"z\": [0.16823545098304749, 0.3356950283050537, 0.31767210364341736, 0.5097900032997131]}],\n",
       "                        {\"legend\": {\"bgcolor\": \"#F5F6F9\", \"font\": {\"color\": \"#4D5663\"}}, \"paper_bgcolor\": \"#F5F6F9\", \"plot_bgcolor\": \"#F5F6F9\", \"scene\": {\"xaxis\": {\"gridcolor\": \"#9499A3\", \"showgrid\": true, \"tickfont\": {\"color\": \"#4D5663\"}, \"title\": {\"font\": {\"color\": \"#4D5663\"}, \"text\": \"\"}, \"zerolinecolor\": \"#9499A3\"}, \"yaxis\": {\"gridcolor\": \"#9499A3\", \"showgrid\": true, \"tickfont\": {\"color\": \"#4D5663\"}, \"title\": {\"font\": {\"color\": \"#4D5663\"}, \"text\": \"\"}, \"zerolinecolor\": \"#9499A3\"}, \"zaxis\": {\"gridcolor\": \"#9499A3\", \"showgrid\": true, \"tickfont\": {\"color\": \"#4D5663\"}, \"title\": {\"font\": {\"color\": \"#4D5663\"}, \"text\": \"\"}, \"zerolinecolor\": \"#9499A3\"}}, \"template\": {\"data\": {\"bar\": [{\"error_x\": {\"color\": \"#2a3f5f\"}, \"error_y\": {\"color\": \"#2a3f5f\"}, \"marker\": {\"line\": {\"color\": \"#E5ECF6\", \"width\": 0.5}}, \"type\": \"bar\"}], \"barpolar\": [{\"marker\": {\"line\": {\"color\": \"#E5ECF6\", \"width\": 0.5}}, \"type\": \"barpolar\"}], \"carpet\": [{\"aaxis\": {\"endlinecolor\": \"#2a3f5f\", \"gridcolor\": \"white\", \"linecolor\": \"white\", \"minorgridcolor\": \"white\", \"startlinecolor\": \"#2a3f5f\"}, \"baxis\": {\"endlinecolor\": \"#2a3f5f\", \"gridcolor\": \"white\", \"linecolor\": \"white\", \"minorgridcolor\": \"white\", \"startlinecolor\": \"#2a3f5f\"}, \"type\": \"carpet\"}], \"choropleth\": [{\"colorbar\": {\"outlinewidth\": 0, \"ticks\": \"\"}, \"type\": \"choropleth\"}], \"contour\": [{\"colorbar\": {\"outlinewidth\": 0, \"ticks\": \"\"}, \"colorscale\": [[0.0, \"#0d0887\"], [0.1111111111111111, \"#46039f\"], [0.2222222222222222, \"#7201a8\"], [0.3333333333333333, \"#9c179e\"], [0.4444444444444444, \"#bd3786\"], [0.5555555555555556, \"#d8576b\"], [0.6666666666666666, \"#ed7953\"], [0.7777777777777778, \"#fb9f3a\"], [0.8888888888888888, \"#fdca26\"], [1.0, \"#f0f921\"]], \"type\": \"contour\"}], \"contourcarpet\": [{\"colorbar\": {\"outlinewidth\": 0, \"ticks\": \"\"}, \"type\": \"contourcarpet\"}], \"heatmap\": [{\"colorbar\": {\"outlinewidth\": 0, \"ticks\": \"\"}, \"colorscale\": [[0.0, \"#0d0887\"], [0.1111111111111111, \"#46039f\"], [0.2222222222222222, \"#7201a8\"], [0.3333333333333333, \"#9c179e\"], [0.4444444444444444, \"#bd3786\"], [0.5555555555555556, \"#d8576b\"], [0.6666666666666666, \"#ed7953\"], [0.7777777777777778, \"#fb9f3a\"], [0.8888888888888888, \"#fdca26\"], [1.0, \"#f0f921\"]], \"type\": \"heatmap\"}], \"heatmapgl\": [{\"colorbar\": {\"outlinewidth\": 0, \"ticks\": \"\"}, \"colorscale\": [[0.0, \"#0d0887\"], [0.1111111111111111, \"#46039f\"], [0.2222222222222222, \"#7201a8\"], [0.3333333333333333, \"#9c179e\"], [0.4444444444444444, \"#bd3786\"], [0.5555555555555556, \"#d8576b\"], [0.6666666666666666, \"#ed7953\"], [0.7777777777777778, \"#fb9f3a\"], [0.8888888888888888, \"#fdca26\"], [1.0, \"#f0f921\"]], \"type\": \"heatmapgl\"}], \"histogram\": [{\"marker\": {\"colorbar\": {\"outlinewidth\": 0, \"ticks\": \"\"}}, \"type\": \"histogram\"}], \"histogram2d\": [{\"colorbar\": {\"outlinewidth\": 0, \"ticks\": \"\"}, \"colorscale\": [[0.0, \"#0d0887\"], [0.1111111111111111, \"#46039f\"], [0.2222222222222222, \"#7201a8\"], [0.3333333333333333, \"#9c179e\"], [0.4444444444444444, \"#bd3786\"], [0.5555555555555556, \"#d8576b\"], [0.6666666666666666, \"#ed7953\"], [0.7777777777777778, \"#fb9f3a\"], [0.8888888888888888, \"#fdca26\"], [1.0, \"#f0f921\"]], \"type\": \"histogram2d\"}], \"histogram2dcontour\": [{\"colorbar\": {\"outlinewidth\": 0, \"ticks\": \"\"}, \"colorscale\": [[0.0, \"#0d0887\"], [0.1111111111111111, \"#46039f\"], [0.2222222222222222, \"#7201a8\"], [0.3333333333333333, \"#9c179e\"], [0.4444444444444444, \"#bd3786\"], [0.5555555555555556, \"#d8576b\"], [0.6666666666666666, \"#ed7953\"], [0.7777777777777778, \"#fb9f3a\"], [0.8888888888888888, \"#fdca26\"], [1.0, \"#f0f921\"]], \"type\": \"histogram2dcontour\"}], \"mesh3d\": [{\"colorbar\": {\"outlinewidth\": 0, \"ticks\": \"\"}, \"type\": \"mesh3d\"}], \"parcoords\": [{\"line\": {\"colorbar\": {\"outlinewidth\": 0, \"ticks\": \"\"}}, \"type\": \"parcoords\"}], \"pie\": [{\"automargin\": true, \"type\": \"pie\"}], \"scatter\": [{\"marker\": {\"colorbar\": {\"outlinewidth\": 0, \"ticks\": \"\"}}, \"type\": \"scatter\"}], \"scatter3d\": [{\"line\": {\"colorbar\": {\"outlinewidth\": 0, \"ticks\": \"\"}}, \"marker\": {\"colorbar\": {\"outlinewidth\": 0, \"ticks\": \"\"}}, \"type\": \"scatter3d\"}], \"scattercarpet\": [{\"marker\": {\"colorbar\": {\"outlinewidth\": 0, \"ticks\": \"\"}}, \"type\": \"scattercarpet\"}], \"scattergeo\": [{\"marker\": {\"colorbar\": {\"outlinewidth\": 0, \"ticks\": \"\"}}, \"type\": \"scattergeo\"}], \"scattergl\": [{\"marker\": {\"colorbar\": {\"outlinewidth\": 0, \"ticks\": \"\"}}, \"type\": \"scattergl\"}], \"scattermapbox\": [{\"marker\": {\"colorbar\": {\"outlinewidth\": 0, \"ticks\": \"\"}}, \"type\": \"scattermapbox\"}], \"scatterpolar\": [{\"marker\": {\"colorbar\": {\"outlinewidth\": 0, \"ticks\": \"\"}}, \"type\": \"scatterpolar\"}], \"scatterpolargl\": [{\"marker\": {\"colorbar\": {\"outlinewidth\": 0, \"ticks\": \"\"}}, \"type\": \"scatterpolargl\"}], \"scatterternary\": [{\"marker\": {\"colorbar\": {\"outlinewidth\": 0, \"ticks\": \"\"}}, \"type\": \"scatterternary\"}], \"surface\": [{\"colorbar\": {\"outlinewidth\": 0, \"ticks\": \"\"}, \"colorscale\": [[0.0, \"#0d0887\"], [0.1111111111111111, \"#46039f\"], [0.2222222222222222, \"#7201a8\"], [0.3333333333333333, \"#9c179e\"], [0.4444444444444444, \"#bd3786\"], [0.5555555555555556, \"#d8576b\"], [0.6666666666666666, \"#ed7953\"], [0.7777777777777778, \"#fb9f3a\"], [0.8888888888888888, \"#fdca26\"], [1.0, \"#f0f921\"]], \"type\": \"surface\"}], \"table\": [{\"cells\": {\"fill\": {\"color\": \"#EBF0F8\"}, \"line\": {\"color\": \"white\"}}, \"header\": {\"fill\": {\"color\": \"#C8D4E3\"}, \"line\": {\"color\": \"white\"}}, \"type\": \"table\"}]}, \"layout\": {\"annotationdefaults\": {\"arrowcolor\": \"#2a3f5f\", \"arrowhead\": 0, \"arrowwidth\": 1}, \"coloraxis\": {\"colorbar\": {\"outlinewidth\": 0, \"ticks\": \"\"}}, \"colorscale\": {\"diverging\": [[0, \"#8e0152\"], [0.1, \"#c51b7d\"], [0.2, \"#de77ae\"], [0.3, \"#f1b6da\"], [0.4, \"#fde0ef\"], [0.5, \"#f7f7f7\"], [0.6, \"#e6f5d0\"], [0.7, \"#b8e186\"], [0.8, \"#7fbc41\"], [0.9, \"#4d9221\"], [1, \"#276419\"]], \"sequential\": [[0.0, \"#0d0887\"], [0.1111111111111111, \"#46039f\"], [0.2222222222222222, \"#7201a8\"], [0.3333333333333333, \"#9c179e\"], [0.4444444444444444, \"#bd3786\"], [0.5555555555555556, \"#d8576b\"], [0.6666666666666666, \"#ed7953\"], [0.7777777777777778, \"#fb9f3a\"], [0.8888888888888888, \"#fdca26\"], [1.0, \"#f0f921\"]], \"sequentialminus\": [[0.0, \"#0d0887\"], [0.1111111111111111, \"#46039f\"], [0.2222222222222222, \"#7201a8\"], [0.3333333333333333, \"#9c179e\"], [0.4444444444444444, \"#bd3786\"], [0.5555555555555556, \"#d8576b\"], [0.6666666666666666, \"#ed7953\"], [0.7777777777777778, \"#fb9f3a\"], [0.8888888888888888, \"#fdca26\"], [1.0, \"#f0f921\"]]}, \"colorway\": [\"#636efa\", \"#EF553B\", \"#00cc96\", \"#ab63fa\", \"#FFA15A\", \"#19d3f3\", \"#FF6692\", \"#B6E880\", \"#FF97FF\", \"#FECB52\"], \"font\": {\"color\": \"#2a3f5f\"}, \"geo\": {\"bgcolor\": \"white\", \"lakecolor\": \"white\", \"landcolor\": \"#E5ECF6\", \"showlakes\": true, \"showland\": true, \"subunitcolor\": \"white\"}, \"hoverlabel\": {\"align\": \"left\"}, \"hovermode\": \"closest\", \"mapbox\": {\"style\": \"light\"}, \"paper_bgcolor\": \"white\", \"plot_bgcolor\": \"#E5ECF6\", \"polar\": {\"angularaxis\": {\"gridcolor\": \"white\", \"linecolor\": \"white\", \"ticks\": \"\"}, \"bgcolor\": \"#E5ECF6\", \"radialaxis\": {\"gridcolor\": \"white\", \"linecolor\": \"white\", \"ticks\": \"\"}}, \"scene\": {\"xaxis\": {\"backgroundcolor\": \"#E5ECF6\", \"gridcolor\": \"white\", \"gridwidth\": 2, \"linecolor\": \"white\", \"showbackground\": true, \"ticks\": \"\", \"zerolinecolor\": \"white\"}, \"yaxis\": {\"backgroundcolor\": \"#E5ECF6\", \"gridcolor\": \"white\", \"gridwidth\": 2, \"linecolor\": \"white\", \"showbackground\": true, \"ticks\": \"\", \"zerolinecolor\": \"white\"}, \"zaxis\": {\"backgroundcolor\": \"#E5ECF6\", \"gridcolor\": \"white\", \"gridwidth\": 2, \"linecolor\": \"white\", \"showbackground\": true, \"ticks\": \"\", \"zerolinecolor\": \"white\"}}, \"shapedefaults\": {\"line\": {\"color\": \"#2a3f5f\"}}, \"ternary\": {\"aaxis\": {\"gridcolor\": \"white\", \"linecolor\": \"white\", \"ticks\": \"\"}, \"baxis\": {\"gridcolor\": \"white\", \"linecolor\": \"white\", \"ticks\": \"\"}, \"bgcolor\": \"#E5ECF6\", \"caxis\": {\"gridcolor\": \"white\", \"linecolor\": \"white\", \"ticks\": \"\"}}, \"title\": {\"x\": 0.05}, \"xaxis\": {\"automargin\": true, \"gridcolor\": \"white\", \"linecolor\": \"white\", \"ticks\": \"\", \"title\": {\"standoff\": 15}, \"zerolinecolor\": \"white\", \"zerolinewidth\": 2}, \"yaxis\": {\"automargin\": true, \"gridcolor\": \"white\", \"linecolor\": \"white\", \"ticks\": \"\", \"title\": {\"standoff\": 15}, \"zerolinecolor\": \"white\", \"zerolinewidth\": 2}}}, \"title\": {\"font\": {\"color\": \"#4D5663\"}}},\n",
       "                        {\"showLink\": true, \"linkText\": \"Export to plot.ly\", \"plotlyServerURL\": \"https://plot.ly\", \"responsive\": true}\n",
       "                    ).then(function(){\n",
       "                            \n",
       "var gd = document.getElementById('7a4de187-8033-4639-94b1-48acfdf4dd35');\n",
       "var x = new MutationObserver(function (mutations, observer) {{\n",
       "        var display = window.getComputedStyle(gd).display;\n",
       "        if (!display || display === 'none') {{\n",
       "            console.log([gd, 'removed!']);\n",
       "            Plotly.purge(gd);\n",
       "            observer.disconnect();\n",
       "        }}\n",
       "}});\n",
       "\n",
       "// Listen for the removal of the full notebook cells\n",
       "var notebookContainer = gd.closest('#notebook-container');\n",
       "if (notebookContainer) {{\n",
       "    x.observe(notebookContainer, {childList: true});\n",
       "}}\n",
       "\n",
       "// Listen for the clearing of the current output cell\n",
       "var outputEl = gd.closest('.output');\n",
       "if (outputEl) {{\n",
       "    x.observe(outputEl, {childList: true});\n",
       "}}\n",
       "\n",
       "                        })\n",
       "                };\n",
       "                });\n",
       "            </script>\n",
       "        </div>"
      ]
     },
     "metadata": {},
     "output_type": "display_data"
    }
   ],
   "source": [
    "X_emb.set_index(\"n_state\").iplot(kind=\"scatter3d\", x=\"n_state_embedding_0\", y =\"n_state_embedding_1\", z=\"n_state_embedding_2\", mode=\"markers+text\")"
   ]
  },
  {
   "cell_type": "code",
   "execution_count": 63,
   "metadata": {
    "ExecuteTime": {
     "end_time": "2021-05-28T01:23:55.716024Z",
     "start_time": "2021-05-28T01:23:55.550465Z"
    }
   },
   "outputs": [
    {
     "data": {
      "text/html": [
       "<div>\n",
       "<style scoped>\n",
       "    .dataframe tbody tr th:only-of-type {\n",
       "        vertical-align: middle;\n",
       "    }\n",
       "\n",
       "    .dataframe tbody tr th {\n",
       "        vertical-align: top;\n",
       "    }\n",
       "\n",
       "    .dataframe thead th {\n",
       "        text-align: right;\n",
       "    }\n",
       "</style>\n",
       "<table border=\"1\" class=\"dataframe\">\n",
       "  <thead>\n",
       "    <tr style=\"text-align: right;\">\n",
       "      <th></th>\n",
       "      <th>is_fraud</th>\n",
       "    </tr>\n",
       "    <tr>\n",
       "      <th>n_state</th>\n",
       "      <th></th>\n",
       "    </tr>\n",
       "  </thead>\n",
       "  <tbody>\n",
       "    <tr>\n",
       "      <th>NY</th>\n",
       "      <td>0.0066</td>\n",
       "    </tr>\n",
       "    <tr>\n",
       "      <th>Other</th>\n",
       "      <td>0.0058</td>\n",
       "    </tr>\n",
       "    <tr>\n",
       "      <th>PA</th>\n",
       "      <td>0.0057</td>\n",
       "    </tr>\n",
       "    <tr>\n",
       "      <th>TX</th>\n",
       "      <td>0.0050</td>\n",
       "    </tr>\n",
       "  </tbody>\n",
       "</table>\n",
       "</div>"
      ],
      "text/plain": [
       "         is_fraud\n",
       "n_state          \n",
       "NY         0.0066\n",
       "Other      0.0058\n",
       "PA         0.0057\n",
       "TX         0.0050"
      ]
     },
     "execution_count": 63,
     "metadata": {},
     "output_type": "execute_result"
    }
   ],
   "source": [
    "df[[feature, target]].groupby(feature).mean()"
   ]
  },
  {
   "cell_type": "code",
   "execution_count": 35,
   "metadata": {
    "ExecuteTime": {
     "end_time": "2021-05-28T01:18:47.421079Z",
     "start_time": "2021-05-28T01:18:47.115630Z"
    }
   },
   "outputs": [],
   "source": [
    "X = X.merge(X_emb, on = feature, how=\"inner\").drop(columns=[feature, \"index\"])"
   ]
  },
  {
   "cell_type": "code",
   "execution_count": 36,
   "metadata": {
    "ExecuteTime": {
     "end_time": "2021-05-28T01:18:48.512782Z",
     "start_time": "2021-05-28T01:18:48.493455Z"
    }
   },
   "outputs": [
    {
     "data": {
      "text/html": [
       "<div>\n",
       "<style scoped>\n",
       "    .dataframe tbody tr th:only-of-type {\n",
       "        vertical-align: middle;\n",
       "    }\n",
       "\n",
       "    .dataframe tbody tr th {\n",
       "        vertical-align: top;\n",
       "    }\n",
       "\n",
       "    .dataframe thead th {\n",
       "        text-align: right;\n",
       "    }\n",
       "</style>\n",
       "<table border=\"1\" class=\"dataframe\">\n",
       "  <thead>\n",
       "    <tr style=\"text-align: right;\">\n",
       "      <th></th>\n",
       "      <th>idtxn</th>\n",
       "      <th>is_fraud</th>\n",
       "      <th>amt</th>\n",
       "      <th>age</th>\n",
       "      <th>month</th>\n",
       "      <th>hour</th>\n",
       "      <th>weekday</th>\n",
       "      <th>haversine_distance</th>\n",
       "      <th>n_category</th>\n",
       "      <th>n_state</th>\n",
       "      <th>n_gender_embedding_0</th>\n",
       "      <th>n_gender_embedding_1</th>\n",
       "      <th>n_gender_embedding_2</th>\n",
       "    </tr>\n",
       "  </thead>\n",
       "  <tbody>\n",
       "    <tr>\n",
       "      <th>0</th>\n",
       "      <td>445724</td>\n",
       "      <td>0.0000</td>\n",
       "      <td>103.7100</td>\n",
       "      <td>33.0800</td>\n",
       "      <td>7.0000</td>\n",
       "      <td>9.0000</td>\n",
       "      <td>4.0000</td>\n",
       "      <td>54.3322</td>\n",
       "      <td>grocery_pos</td>\n",
       "      <td>PA</td>\n",
       "      <td>-0.1844</td>\n",
       "      <td>0.1819</td>\n",
       "      <td>0.1737</td>\n",
       "    </tr>\n",
       "    <tr>\n",
       "      <th>1</th>\n",
       "      <td>853618</td>\n",
       "      <td>0.0000</td>\n",
       "      <td>98.6700</td>\n",
       "      <td>33.4900</td>\n",
       "      <td>12.0000</td>\n",
       "      <td>1.0000</td>\n",
       "      <td>2.0000</td>\n",
       "      <td>66.4564</td>\n",
       "      <td>grocery_pos</td>\n",
       "      <td>PA</td>\n",
       "      <td>-0.1844</td>\n",
       "      <td>0.1819</td>\n",
       "      <td>0.1737</td>\n",
       "    </tr>\n",
       "    <tr>\n",
       "      <th>2</th>\n",
       "      <td>1114083</td>\n",
       "      <td>0.0000</td>\n",
       "      <td>103.3000</td>\n",
       "      <td>33.8000</td>\n",
       "      <td>4.0000</td>\n",
       "      <td>3.0000</td>\n",
       "      <td>4.0000</td>\n",
       "      <td>46.3049</td>\n",
       "      <td>grocery_pos</td>\n",
       "      <td>PA</td>\n",
       "      <td>-0.1844</td>\n",
       "      <td>0.1819</td>\n",
       "      <td>0.1737</td>\n",
       "    </tr>\n",
       "    <tr>\n",
       "      <th>3</th>\n",
       "      <td>67936</td>\n",
       "      <td>0.0000</td>\n",
       "      <td>112.6900</td>\n",
       "      <td>32.6400</td>\n",
       "      <td>2.0000</td>\n",
       "      <td>5.0000</td>\n",
       "      <td>1.0000</td>\n",
       "      <td>45.7027</td>\n",
       "      <td>grocery_pos</td>\n",
       "      <td>PA</td>\n",
       "      <td>-0.1844</td>\n",
       "      <td>0.1819</td>\n",
       "      <td>0.1737</td>\n",
       "    </tr>\n",
       "    <tr>\n",
       "      <th>4</th>\n",
       "      <td>1035837</td>\n",
       "      <td>0.0000</td>\n",
       "      <td>104.6100</td>\n",
       "      <td>33.7100</td>\n",
       "      <td>3.0000</td>\n",
       "      <td>10.0000</td>\n",
       "      <td>5.0000</td>\n",
       "      <td>97.4234</td>\n",
       "      <td>grocery_pos</td>\n",
       "      <td>PA</td>\n",
       "      <td>-0.1844</td>\n",
       "      <td>0.1819</td>\n",
       "      <td>0.1737</td>\n",
       "    </tr>\n",
       "    <tr>\n",
       "      <th>...</th>\n",
       "      <td>...</td>\n",
       "      <td>...</td>\n",
       "      <td>...</td>\n",
       "      <td>...</td>\n",
       "      <td>...</td>\n",
       "      <td>...</td>\n",
       "      <td>...</td>\n",
       "      <td>...</td>\n",
       "      <td>...</td>\n",
       "      <td>...</td>\n",
       "      <td>...</td>\n",
       "      <td>...</td>\n",
       "      <td>...</td>\n",
       "    </tr>\n",
       "    <tr>\n",
       "      <th>1296670</th>\n",
       "      <td>1012734</td>\n",
       "      <td>1.0000</td>\n",
       "      <td>8.0100</td>\n",
       "      <td>61.9300</td>\n",
       "      <td>2.0000</td>\n",
       "      <td>23.0000</td>\n",
       "      <td>6.0000</td>\n",
       "      <td>60.1589</td>\n",
       "      <td>misc_pos</td>\n",
       "      <td>Other</td>\n",
       "      <td>-0.3959</td>\n",
       "      <td>0.5194</td>\n",
       "      <td>0.4436</td>\n",
       "    </tr>\n",
       "    <tr>\n",
       "      <th>1296671</th>\n",
       "      <td>1014856</td>\n",
       "      <td>1.0000</td>\n",
       "      <td>1000.0000</td>\n",
       "      <td>61.9300</td>\n",
       "      <td>2.0000</td>\n",
       "      <td>23.0000</td>\n",
       "      <td>7.0000</td>\n",
       "      <td>36.5013</td>\n",
       "      <td>shopping_net</td>\n",
       "      <td>Other</td>\n",
       "      <td>-0.3959</td>\n",
       "      <td>0.5194</td>\n",
       "      <td>0.4436</td>\n",
       "    </tr>\n",
       "    <tr>\n",
       "      <th>1296672</th>\n",
       "      <td>1014748</td>\n",
       "      <td>1.0000</td>\n",
       "      <td>1006.2500</td>\n",
       "      <td>61.9300</td>\n",
       "      <td>2.0000</td>\n",
       "      <td>22.0000</td>\n",
       "      <td>7.0000</td>\n",
       "      <td>94.7476</td>\n",
       "      <td>shopping_net</td>\n",
       "      <td>Other</td>\n",
       "      <td>-0.3959</td>\n",
       "      <td>0.5194</td>\n",
       "      <td>0.4436</td>\n",
       "    </tr>\n",
       "    <tr>\n",
       "      <th>1296673</th>\n",
       "      <td>1014741</td>\n",
       "      <td>1.0000</td>\n",
       "      <td>124.5600</td>\n",
       "      <td>61.9300</td>\n",
       "      <td>2.0000</td>\n",
       "      <td>22.0000</td>\n",
       "      <td>7.0000</td>\n",
       "      <td>114.2622</td>\n",
       "      <td>food_dining</td>\n",
       "      <td>Other</td>\n",
       "      <td>-0.3959</td>\n",
       "      <td>0.5194</td>\n",
       "      <td>0.4436</td>\n",
       "    </tr>\n",
       "    <tr>\n",
       "      <th>1296674</th>\n",
       "      <td>1014764</td>\n",
       "      <td>1.0000</td>\n",
       "      <td>805.4200</td>\n",
       "      <td>61.9300</td>\n",
       "      <td>2.0000</td>\n",
       "      <td>23.0000</td>\n",
       "      <td>7.0000</td>\n",
       "      <td>110.1786</td>\n",
       "      <td>Other</td>\n",
       "      <td>Other</td>\n",
       "      <td>-0.3959</td>\n",
       "      <td>0.5194</td>\n",
       "      <td>0.4436</td>\n",
       "    </tr>\n",
       "  </tbody>\n",
       "</table>\n",
       "<p>1296675 rows × 13 columns</p>\n",
       "</div>"
      ],
      "text/plain": [
       "           idtxn  is_fraud       amt     age   month    hour  weekday  \\\n",
       "0         445724    0.0000  103.7100 33.0800  7.0000  9.0000   4.0000   \n",
       "1         853618    0.0000   98.6700 33.4900 12.0000  1.0000   2.0000   \n",
       "2        1114083    0.0000  103.3000 33.8000  4.0000  3.0000   4.0000   \n",
       "3          67936    0.0000  112.6900 32.6400  2.0000  5.0000   1.0000   \n",
       "4        1035837    0.0000  104.6100 33.7100  3.0000 10.0000   5.0000   \n",
       "...          ...       ...       ...     ...     ...     ...      ...   \n",
       "1296670  1012734    1.0000    8.0100 61.9300  2.0000 23.0000   6.0000   \n",
       "1296671  1014856    1.0000 1000.0000 61.9300  2.0000 23.0000   7.0000   \n",
       "1296672  1014748    1.0000 1006.2500 61.9300  2.0000 22.0000   7.0000   \n",
       "1296673  1014741    1.0000  124.5600 61.9300  2.0000 22.0000   7.0000   \n",
       "1296674  1014764    1.0000  805.4200 61.9300  2.0000 23.0000   7.0000   \n",
       "\n",
       "         haversine_distance    n_category n_state  n_gender_embedding_0  \\\n",
       "0                   54.3322   grocery_pos      PA               -0.1844   \n",
       "1                   66.4564   grocery_pos      PA               -0.1844   \n",
       "2                   46.3049   grocery_pos      PA               -0.1844   \n",
       "3                   45.7027   grocery_pos      PA               -0.1844   \n",
       "4                   97.4234   grocery_pos      PA               -0.1844   \n",
       "...                     ...           ...     ...                   ...   \n",
       "1296670             60.1589      misc_pos   Other               -0.3959   \n",
       "1296671             36.5013  shopping_net   Other               -0.3959   \n",
       "1296672             94.7476  shopping_net   Other               -0.3959   \n",
       "1296673            114.2622   food_dining   Other               -0.3959   \n",
       "1296674            110.1786         Other   Other               -0.3959   \n",
       "\n",
       "         n_gender_embedding_1  n_gender_embedding_2  \n",
       "0                      0.1819                0.1737  \n",
       "1                      0.1819                0.1737  \n",
       "2                      0.1819                0.1737  \n",
       "3                      0.1819                0.1737  \n",
       "4                      0.1819                0.1737  \n",
       "...                       ...                   ...  \n",
       "1296670                0.5194                0.4436  \n",
       "1296671                0.5194                0.4436  \n",
       "1296672                0.5194                0.4436  \n",
       "1296673                0.5194                0.4436  \n",
       "1296674                0.5194                0.4436  \n",
       "\n",
       "[1296675 rows x 13 columns]"
      ]
     },
     "execution_count": 36,
     "metadata": {},
     "output_type": "execute_result"
    }
   ],
   "source": [
    "X"
   ]
  },
  {
   "cell_type": "code",
   "execution_count": 64,
   "metadata": {
    "ExecuteTime": {
     "end_time": "2021-05-28T01:28:16.080307Z",
     "start_time": "2021-05-28T01:28:16.062297Z"
    }
   },
   "outputs": [],
   "source": [
    "def make_autoencoder(X_train, encoding_dim=16, batch_size=500, epochs=20):\n",
    "    kmetrics = [\n",
    "        metrics.RootMeanSquaredError(name='rms'),\n",
    "        metrics.MeanAbsoluteError(name='mae')\n",
    "    ]   \n",
    "    len_input_output = X_train.shape[-1]\n",
    "    input_ = Input(shape=(len_input_output,))\n",
    "    encoded = Dense(units=encoding_dim*2, activation=\"relu\")(input_)\n",
    "    bottleneck = Dense(units=encoding_dim, \n",
    "                       activation=\"relu\")(encoded)\n",
    "    decoded = Dense(units=encoding_dim*2, \n",
    "                    activation=\"relu\")(bottleneck)\n",
    "    output = Dense(units=len_input_output, \n",
    "                    activation=\"linear\")(decoded)\n",
    "    autoencoder = Model(inputs=input_, outputs=output)\n",
    "    autoencoder.compile(optimizer='adam', loss='mean_squared_error',\n",
    "                        metrics=[kmetrics])\n",
    "    autoencoder.fit(X_train, X_train,\n",
    "                    batch_size=batch_size,\n",
    "                    epochs=epochs)\n",
    "    encoder = Model(inputs=input_, outputs=bottleneck)\n",
    "    return autoencoder, encoder"
   ]
  },
  {
   "cell_type": "code",
   "execution_count": 65,
   "metadata": {
    "ExecuteTime": {
     "end_time": "2021-05-28T01:28:21.396210Z",
     "start_time": "2021-05-28T01:28:21.371884Z"
    }
   },
   "outputs": [],
   "source": [
    "def classification_metrics(X, y, pipe, model):\n",
    "    pipe = Pipeline(pipe.steps + [(\"model\", model)])\n",
    "    ls_scores_roc = cross_val_score(estimator=pipe, X=X, y=y, scoring=\"roc_auc\", n_jobs=-1, cv=4)\n",
    "    print(f\"ROC media: {np.mean(ls_scores_roc):,.2f}, desviación estándar: {np.std(ls_scores_roc)}\")"
   ]
  },
  {
   "cell_type": "code",
   "execution_count": 66,
   "metadata": {
    "ExecuteTime": {
     "end_time": "2021-05-28T01:28:23.373486Z",
     "start_time": "2021-05-28T01:28:23.366665Z"
    }
   },
   "outputs": [],
   "source": [
    "def hyperparam_logistic(X, y, pipe):\n",
    "    pipe = Pipeline(pipe.steps + [(\"model\", LogisticRegression())])\n",
    "    param_grid = {\"model__penalty\": [\"l1\", \"l2\"],\n",
    "                  \"model__C\": [x/100 for x in range(100)]+[0],\n",
    "                  \"model__class_weight\": [\"balanced\", None],\n",
    "                  \"model__solver\": ['newton-cg', 'lbfgs', 'liblinear', 'sag', 'saga']\n",
    "                 }\n",
    "    hp = RandomizedSearchCV(cv=4, \n",
    "                            param_distributions=param_grid,\n",
    "                            n_iter=5,\n",
    "                            scoring=\"roc_auc\", \n",
    "                            verbose=10,\n",
    "                            error_score=-1000, \n",
    "                            estimator=pipe, \n",
    "                            n_jobs=-1,\n",
    "                            random_state=0)\n",
    "    hp.fit(X=X, y = y)\n",
    "    print(f\"ROC: {hp.best_score_:,.2f}\")\n",
    "    return hp"
   ]
  },
  {
   "cell_type": "markdown",
   "metadata": {},
   "source": [
    "## Data Wrangling"
   ]
  },
  {
   "cell_type": "markdown",
   "metadata": {},
   "source": [
    "### Lectura de datos"
   ]
  },
  {
   "cell_type": "code",
   "execution_count": 67,
   "metadata": {
    "ExecuteTime": {
     "end_time": "2021-05-28T01:28:27.114923Z",
     "start_time": "2021-05-28T01:28:26.062406Z"
    }
   },
   "outputs": [],
   "source": [
    "df = pd.read_csv(\"./fraud_train.csv\")"
   ]
  },
  {
   "cell_type": "code",
   "execution_count": 68,
   "metadata": {
    "ExecuteTime": {
     "end_time": "2021-05-28T01:28:29.492509Z",
     "start_time": "2021-05-28T01:28:29.466130Z"
    },
    "scrolled": true
   },
   "outputs": [
    {
     "data": {
      "text/html": [
       "<div>\n",
       "<style scoped>\n",
       "    .dataframe tbody tr th:only-of-type {\n",
       "        vertical-align: middle;\n",
       "    }\n",
       "\n",
       "    .dataframe tbody tr th {\n",
       "        vertical-align: top;\n",
       "    }\n",
       "\n",
       "    .dataframe thead th {\n",
       "        text-align: right;\n",
       "    }\n",
       "</style>\n",
       "<table border=\"1\" class=\"dataframe\">\n",
       "  <thead>\n",
       "    <tr style=\"text-align: right;\">\n",
       "      <th></th>\n",
       "      <th>idtxn</th>\n",
       "      <th>is_fraud</th>\n",
       "      <th>amt</th>\n",
       "      <th>age</th>\n",
       "      <th>month</th>\n",
       "      <th>hour</th>\n",
       "      <th>weekday</th>\n",
       "      <th>haversine_distance</th>\n",
       "      <th>n_category</th>\n",
       "      <th>n_gender</th>\n",
       "      <th>n_state</th>\n",
       "    </tr>\n",
       "  </thead>\n",
       "  <tbody>\n",
       "    <tr>\n",
       "      <th>0</th>\n",
       "      <td>445724</td>\n",
       "      <td>0.0000</td>\n",
       "      <td>103.7100</td>\n",
       "      <td>33.0800</td>\n",
       "      <td>7.0000</td>\n",
       "      <td>9.0000</td>\n",
       "      <td>4.0000</td>\n",
       "      <td>54.3322</td>\n",
       "      <td>grocery_pos</td>\n",
       "      <td>M</td>\n",
       "      <td>PA</td>\n",
       "    </tr>\n",
       "    <tr>\n",
       "      <th>1</th>\n",
       "      <td>853618</td>\n",
       "      <td>0.0000</td>\n",
       "      <td>98.6700</td>\n",
       "      <td>33.4900</td>\n",
       "      <td>12.0000</td>\n",
       "      <td>1.0000</td>\n",
       "      <td>2.0000</td>\n",
       "      <td>66.4564</td>\n",
       "      <td>grocery_pos</td>\n",
       "      <td>M</td>\n",
       "      <td>PA</td>\n",
       "    </tr>\n",
       "    <tr>\n",
       "      <th>2</th>\n",
       "      <td>1114083</td>\n",
       "      <td>0.0000</td>\n",
       "      <td>103.3000</td>\n",
       "      <td>33.8000</td>\n",
       "      <td>4.0000</td>\n",
       "      <td>3.0000</td>\n",
       "      <td>4.0000</td>\n",
       "      <td>46.3049</td>\n",
       "      <td>grocery_pos</td>\n",
       "      <td>M</td>\n",
       "      <td>PA</td>\n",
       "    </tr>\n",
       "    <tr>\n",
       "      <th>3</th>\n",
       "      <td>67936</td>\n",
       "      <td>0.0000</td>\n",
       "      <td>112.6900</td>\n",
       "      <td>32.6400</td>\n",
       "      <td>2.0000</td>\n",
       "      <td>5.0000</td>\n",
       "      <td>1.0000</td>\n",
       "      <td>45.7027</td>\n",
       "      <td>grocery_pos</td>\n",
       "      <td>M</td>\n",
       "      <td>PA</td>\n",
       "    </tr>\n",
       "    <tr>\n",
       "      <th>4</th>\n",
       "      <td>1035837</td>\n",
       "      <td>0.0000</td>\n",
       "      <td>104.6100</td>\n",
       "      <td>33.7100</td>\n",
       "      <td>3.0000</td>\n",
       "      <td>10.0000</td>\n",
       "      <td>5.0000</td>\n",
       "      <td>97.4234</td>\n",
       "      <td>grocery_pos</td>\n",
       "      <td>M</td>\n",
       "      <td>PA</td>\n",
       "    </tr>\n",
       "    <tr>\n",
       "      <th>...</th>\n",
       "      <td>...</td>\n",
       "      <td>...</td>\n",
       "      <td>...</td>\n",
       "      <td>...</td>\n",
       "      <td>...</td>\n",
       "      <td>...</td>\n",
       "      <td>...</td>\n",
       "      <td>...</td>\n",
       "      <td>...</td>\n",
       "      <td>...</td>\n",
       "      <td>...</td>\n",
       "    </tr>\n",
       "    <tr>\n",
       "      <th>1296670</th>\n",
       "      <td>965142</td>\n",
       "      <td>0.0000</td>\n",
       "      <td>6.7500</td>\n",
       "      <td>71.2000</td>\n",
       "      <td>1.0000</td>\n",
       "      <td>0.0000</td>\n",
       "      <td>7.0000</td>\n",
       "      <td>120.4260</td>\n",
       "      <td>Other</td>\n",
       "      <td>M</td>\n",
       "      <td>Other</td>\n",
       "    </tr>\n",
       "    <tr>\n",
       "      <th>1296671</th>\n",
       "      <td>252507</td>\n",
       "      <td>0.0000</td>\n",
       "      <td>8.9600</td>\n",
       "      <td>70.4800</td>\n",
       "      <td>5.0000</td>\n",
       "      <td>0.0000</td>\n",
       "      <td>2.0000</td>\n",
       "      <td>81.7382</td>\n",
       "      <td>Other</td>\n",
       "      <td>M</td>\n",
       "      <td>Other</td>\n",
       "    </tr>\n",
       "    <tr>\n",
       "      <th>1296672</th>\n",
       "      <td>1069661</td>\n",
       "      <td>0.0000</td>\n",
       "      <td>3.4700</td>\n",
       "      <td>71.3500</td>\n",
       "      <td>3.0000</td>\n",
       "      <td>9.0000</td>\n",
       "      <td>6.0000</td>\n",
       "      <td>110.9142</td>\n",
       "      <td>Other</td>\n",
       "      <td>M</td>\n",
       "      <td>Other</td>\n",
       "    </tr>\n",
       "    <tr>\n",
       "      <th>1296673</th>\n",
       "      <td>1210934</td>\n",
       "      <td>0.0000</td>\n",
       "      <td>1.8000</td>\n",
       "      <td>71.5200</td>\n",
       "      <td>5.0000</td>\n",
       "      <td>11.0000</td>\n",
       "      <td>5.0000</td>\n",
       "      <td>79.8636</td>\n",
       "      <td>Other</td>\n",
       "      <td>M</td>\n",
       "      <td>Other</td>\n",
       "    </tr>\n",
       "    <tr>\n",
       "      <th>1296674</th>\n",
       "      <td>148460</td>\n",
       "      <td>0.0000</td>\n",
       "      <td>9.1800</td>\n",
       "      <td>70.3500</td>\n",
       "      <td>3.0000</td>\n",
       "      <td>9.0000</td>\n",
       "      <td>5.0000</td>\n",
       "      <td>55.6192</td>\n",
       "      <td>Other</td>\n",
       "      <td>M</td>\n",
       "      <td>Other</td>\n",
       "    </tr>\n",
       "  </tbody>\n",
       "</table>\n",
       "<p>1296675 rows × 11 columns</p>\n",
       "</div>"
      ],
      "text/plain": [
       "           idtxn  is_fraud      amt     age   month    hour  weekday  \\\n",
       "0         445724    0.0000 103.7100 33.0800  7.0000  9.0000   4.0000   \n",
       "1         853618    0.0000  98.6700 33.4900 12.0000  1.0000   2.0000   \n",
       "2        1114083    0.0000 103.3000 33.8000  4.0000  3.0000   4.0000   \n",
       "3          67936    0.0000 112.6900 32.6400  2.0000  5.0000   1.0000   \n",
       "4        1035837    0.0000 104.6100 33.7100  3.0000 10.0000   5.0000   \n",
       "...          ...       ...      ...     ...     ...     ...      ...   \n",
       "1296670   965142    0.0000   6.7500 71.2000  1.0000  0.0000   7.0000   \n",
       "1296671   252507    0.0000   8.9600 70.4800  5.0000  0.0000   2.0000   \n",
       "1296672  1069661    0.0000   3.4700 71.3500  3.0000  9.0000   6.0000   \n",
       "1296673  1210934    0.0000   1.8000 71.5200  5.0000 11.0000   5.0000   \n",
       "1296674   148460    0.0000   9.1800 70.3500  3.0000  9.0000   5.0000   \n",
       "\n",
       "         haversine_distance   n_category n_gender n_state  \n",
       "0                   54.3322  grocery_pos        M      PA  \n",
       "1                   66.4564  grocery_pos        M      PA  \n",
       "2                   46.3049  grocery_pos        M      PA  \n",
       "3                   45.7027  grocery_pos        M      PA  \n",
       "4                   97.4234  grocery_pos        M      PA  \n",
       "...                     ...          ...      ...     ...  \n",
       "1296670            120.4260        Other        M   Other  \n",
       "1296671             81.7382        Other        M   Other  \n",
       "1296672            110.9142        Other        M   Other  \n",
       "1296673             79.8636        Other        M   Other  \n",
       "1296674             55.6192        Other        M   Other  \n",
       "\n",
       "[1296675 rows x 11 columns]"
      ]
     },
     "execution_count": 68,
     "metadata": {},
     "output_type": "execute_result"
    }
   ],
   "source": [
    "df"
   ]
  },
  {
   "cell_type": "markdown",
   "metadata": {},
   "source": [
    "#### Selección de variables"
   ]
  },
  {
   "cell_type": "code",
   "execution_count": 69,
   "metadata": {
    "ExecuteTime": {
     "end_time": "2021-05-28T01:28:52.114023Z",
     "start_time": "2021-05-28T01:28:52.110994Z"
    }
   },
   "outputs": [],
   "source": [
    "ls_disc = [\"n_category\", \"n_gender\", \"n_state\", \"month\", \"hour\", \"weekday\"]"
   ]
  },
  {
   "cell_type": "code",
   "execution_count": 70,
   "metadata": {
    "ExecuteTime": {
     "end_time": "2021-05-28T01:28:55.803245Z",
     "start_time": "2021-05-28T01:28:55.797336Z"
    }
   },
   "outputs": [],
   "source": [
    "ls_cont = [\"amt\", \"age\", \"haversine_distance\"]"
   ]
  },
  {
   "cell_type": "code",
   "execution_count": 71,
   "metadata": {
    "ExecuteTime": {
     "end_time": "2021-05-28T01:28:58.150517Z",
     "start_time": "2021-05-28T01:28:58.147754Z"
    }
   },
   "outputs": [],
   "source": [
    "target = \"is_fraud\""
   ]
  },
  {
   "cell_type": "markdown",
   "metadata": {},
   "source": [
    "### Transformación de variables categóricas"
   ]
  },
  {
   "cell_type": "code",
   "execution_count": 72,
   "metadata": {
    "ExecuteTime": {
     "end_time": "2021-05-28T01:31:40.282022Z",
     "start_time": "2021-05-28T01:29:08.494644Z"
    }
   },
   "outputs": [
    {
     "name": "stdout",
     "output_type": "stream",
     "text": [
      "Creating embedding for n_category\n",
      "\n",
      "Epoch 1/5\n",
      "2594/2594 [==============================] - 5s 2ms/step - loss: 0.0654 - accuracy: 0.9810\n",
      "Epoch 2/5\n",
      "2594/2594 [==============================] - 5s 2ms/step - loss: 0.0341 - accuracy: 0.9942\n",
      "Epoch 3/5\n",
      "2594/2594 [==============================] - 5s 2ms/step - loss: 0.0338 - accuracy: 0.9942\n",
      "Epoch 4/5\n",
      "2594/2594 [==============================] - 5s 2ms/step - loss: 0.0337 - accuracy: 0.9942\n",
      "Epoch 5/5\n",
      "2594/2594 [==============================] - 5s 2ms/step - loss: 0.0337 - accuracy: 0.9942\n",
      "Creating embedding for n_gender\n",
      "\n",
      "Epoch 1/5\n",
      "2594/2594 [==============================] - 5s 2ms/step - loss: 0.0848 - accuracy: 0.9675\n",
      "Epoch 2/5\n",
      "2594/2594 [==============================] - 5s 2ms/step - loss: 0.0356 - accuracy: 0.9942\n",
      "Epoch 3/5\n",
      "2594/2594 [==============================] - 5s 2ms/step - loss: 0.0356 - accuracy: 0.9942\n",
      "Epoch 4/5\n",
      "2594/2594 [==============================] - 5s 2ms/step - loss: 0.0356 - accuracy: 0.9942\n",
      "Epoch 5/5\n",
      "2594/2594 [==============================] - 5s 2ms/step - loss: 0.0356 - accuracy: 0.9942\n",
      "Creating embedding for n_state\n",
      "\n",
      "Epoch 1/5\n",
      "2594/2594 [==============================] - 5s 2ms/step - loss: 0.0618 - accuracy: 0.9877\n",
      "Epoch 2/5\n",
      "2594/2594 [==============================] - 5s 2ms/step - loss: 0.0356 - accuracy: 0.9942\n",
      "Epoch 3/5\n",
      "2594/2594 [==============================] - 5s 2ms/step - loss: 0.0356 - accuracy: 0.9942\n",
      "Epoch 4/5\n",
      "2594/2594 [==============================] - 5s 2ms/step - loss: 0.0356 - accuracy: 0.9942\n",
      "Epoch 5/5\n",
      "2594/2594 [==============================] - 5s 2ms/step - loss: 0.0356 - accuracy: 0.9942\n",
      "Creating embedding for month\n",
      "\n",
      "Epoch 1/5\n",
      "2594/2594 [==============================] - 6s 2ms/step - loss: 0.0746 - accuracy: 0.9753\n",
      "Epoch 2/5\n",
      "2594/2594 [==============================] - 4s 2ms/step - loss: 0.0356 - accuracy: 0.9942\n",
      "Epoch 3/5\n",
      "2594/2594 [==============================] - 5s 2ms/step - loss: 0.0355 - accuracy: 0.9942\n",
      "Epoch 4/5\n",
      "2594/2594 [==============================] - 5s 2ms/step - loss: 0.0354 - accuracy: 0.9942\n",
      "Epoch 5/5\n",
      "2594/2594 [==============================] - 5s 2ms/step - loss: 0.0354 - accuracy: 0.9942\n",
      "Creating embedding for hour\n",
      "\n",
      "Epoch 1/5\n",
      "2594/2594 [==============================] - 5s 2ms/step - loss: 0.0669 - accuracy: 0.9826: 0s - loss:\n",
      "Epoch 2/5\n",
      "2594/2594 [==============================] - 5s 2ms/step - loss: 0.0309 - accuracy: 0.9942\n",
      "Epoch 3/5\n",
      "2594/2594 [==============================] - 5s 2ms/step - loss: 0.0305 - accuracy: 0.9942\n",
      "Epoch 4/5\n",
      "2594/2594 [==============================] - 5s 2ms/step - loss: 0.0305 - accuracy: 0.9942\n",
      "Epoch 5/5\n",
      "2594/2594 [==============================] - 5s 2ms/step - loss: 0.0304 - accuracy: 0.9942\n",
      "Creating embedding for weekday\n",
      "\n",
      "Epoch 1/5\n",
      "2594/2594 [==============================] - 4s 2ms/step - loss: 0.0694 - accuracy: 0.9778\n",
      "Epoch 2/5\n",
      "2594/2594 [==============================] - 5s 2ms/step - loss: 0.0356 - accuracy: 0.9942\n",
      "Epoch 3/5\n",
      "2594/2594 [==============================] - 5s 2ms/step - loss: 0.0356 - accuracy: 0.9942\n",
      "Epoch 4/5\n",
      "2594/2594 [==============================] - 5s 2ms/step - loss: 0.0355 - accuracy: 0.9942\n",
      "Epoch 5/5\n",
      "2594/2594 [==============================] - 5s 2ms/step - loss: 0.0355 - accuracy: 0.9942\n"
     ]
    }
   ],
   "source": [
    "ls_embeddings = []\n",
    "for feature in ls_disc:\n",
    "    df, embedding = make_embedding(df, feature, target)\n",
    "    ls_embeddings.append(embedding)"
   ]
  },
  {
   "cell_type": "markdown",
   "metadata": {},
   "source": [
    "### Modelado"
   ]
  },
  {
   "cell_type": "markdown",
   "metadata": {},
   "source": [
    "#### Separación de sets"
   ]
  },
  {
   "cell_type": "code",
   "execution_count": 73,
   "metadata": {
    "ExecuteTime": {
     "end_time": "2021-05-28T01:31:40.377395Z",
     "start_time": "2021-05-28T01:31:40.284163Z"
    }
   },
   "outputs": [],
   "source": [
    "X = df.set_index(\"idtxn\")[ls_cont+[x for x in df.columns if \"embedding\" in x]]\n",
    "y = df[\"is_fraud\"]"
   ]
  },
  {
   "cell_type": "markdown",
   "metadata": {},
   "source": [
    "#### Escalamiento"
   ]
  },
  {
   "cell_type": "code",
   "execution_count": 74,
   "metadata": {
    "ExecuteTime": {
     "end_time": "2021-05-28T01:31:40.407012Z",
     "start_time": "2021-05-28T01:31:40.380957Z"
    }
   },
   "outputs": [],
   "source": [
    "mm = MinMaxScaler()"
   ]
  },
  {
   "cell_type": "code",
   "execution_count": 75,
   "metadata": {
    "ExecuteTime": {
     "end_time": "2021-05-28T01:31:40.825123Z",
     "start_time": "2021-05-28T01:31:40.409632Z"
    }
   },
   "outputs": [],
   "source": [
    "Xs = pd.DataFrame(mm.fit_transform(X), columns=X.columns, index=X.index)"
   ]
  },
  {
   "cell_type": "code",
   "execution_count": 76,
   "metadata": {
    "ExecuteTime": {
     "end_time": "2021-05-28T01:31:40.850678Z",
     "start_time": "2021-05-28T01:31:40.827217Z"
    }
   },
   "outputs": [
    {
     "data": {
      "text/html": [
       "<div>\n",
       "<style scoped>\n",
       "    .dataframe tbody tr th:only-of-type {\n",
       "        vertical-align: middle;\n",
       "    }\n",
       "\n",
       "    .dataframe tbody tr th {\n",
       "        vertical-align: top;\n",
       "    }\n",
       "\n",
       "    .dataframe thead th {\n",
       "        text-align: right;\n",
       "    }\n",
       "</style>\n",
       "<table border=\"1\" class=\"dataframe\">\n",
       "  <thead>\n",
       "    <tr style=\"text-align: right;\">\n",
       "      <th></th>\n",
       "      <th>amt</th>\n",
       "      <th>age</th>\n",
       "      <th>haversine_distance</th>\n",
       "      <th>n_category_embedding_0</th>\n",
       "      <th>n_category_embedding_1</th>\n",
       "      <th>n_category_embedding_2</th>\n",
       "      <th>n_gender_embedding_0</th>\n",
       "      <th>n_gender_embedding_1</th>\n",
       "      <th>n_gender_embedding_2</th>\n",
       "      <th>n_state_embedding_0</th>\n",
       "      <th>n_state_embedding_1</th>\n",
       "      <th>n_state_embedding_2</th>\n",
       "      <th>month_embedding_0</th>\n",
       "      <th>month_embedding_1</th>\n",
       "      <th>month_embedding_2</th>\n",
       "      <th>hour_embedding_0</th>\n",
       "      <th>hour_embedding_1</th>\n",
       "      <th>hour_embedding_2</th>\n",
       "      <th>weekday_embedding_0</th>\n",
       "      <th>weekday_embedding_1</th>\n",
       "      <th>weekday_embedding_2</th>\n",
       "    </tr>\n",
       "    <tr>\n",
       "      <th>idtxn</th>\n",
       "      <th></th>\n",
       "      <th></th>\n",
       "      <th></th>\n",
       "      <th></th>\n",
       "      <th></th>\n",
       "      <th></th>\n",
       "      <th></th>\n",
       "      <th></th>\n",
       "      <th></th>\n",
       "      <th></th>\n",
       "      <th></th>\n",
       "      <th></th>\n",
       "      <th></th>\n",
       "      <th></th>\n",
       "      <th></th>\n",
       "      <th></th>\n",
       "      <th></th>\n",
       "      <th></th>\n",
       "      <th></th>\n",
       "      <th></th>\n",
       "      <th></th>\n",
       "    </tr>\n",
       "  </thead>\n",
       "  <tbody>\n",
       "    <tr>\n",
       "      <th>445724</th>\n",
       "      <td>0.0035</td>\n",
       "      <td>0.2344</td>\n",
       "      <td>0.3571</td>\n",
       "      <td>0.1066</td>\n",
       "      <td>0.9859</td>\n",
       "      <td>0.9752</td>\n",
       "      <td>1.0000</td>\n",
       "      <td>1.0000</td>\n",
       "      <td>0.0000</td>\n",
       "      <td>0.5949</td>\n",
       "      <td>0.3683</td>\n",
       "      <td>0.3912</td>\n",
       "      <td>0.0000</td>\n",
       "      <td>1.0000</td>\n",
       "      <td>0.0000</td>\n",
       "      <td>0.1528</td>\n",
       "      <td>0.1934</td>\n",
       "      <td>0.8373</td>\n",
       "      <td>0.0736</td>\n",
       "      <td>0.9965</td>\n",
       "      <td>0.8268</td>\n",
       "    </tr>\n",
       "    <tr>\n",
       "      <th>445691</th>\n",
       "      <td>0.0029</td>\n",
       "      <td>0.2001</td>\n",
       "      <td>0.4343</td>\n",
       "      <td>0.1066</td>\n",
       "      <td>0.9859</td>\n",
       "      <td>0.9752</td>\n",
       "      <td>1.0000</td>\n",
       "      <td>1.0000</td>\n",
       "      <td>0.0000</td>\n",
       "      <td>0.5949</td>\n",
       "      <td>0.3683</td>\n",
       "      <td>0.3912</td>\n",
       "      <td>0.0000</td>\n",
       "      <td>1.0000</td>\n",
       "      <td>0.0000</td>\n",
       "      <td>0.1528</td>\n",
       "      <td>0.1934</td>\n",
       "      <td>0.8373</td>\n",
       "      <td>0.0736</td>\n",
       "      <td>0.9965</td>\n",
       "      <td>0.8268</td>\n",
       "    </tr>\n",
       "    <tr>\n",
       "      <th>485143</th>\n",
       "      <td>0.0025</td>\n",
       "      <td>0.6036</td>\n",
       "      <td>0.2621</td>\n",
       "      <td>0.1066</td>\n",
       "      <td>0.9859</td>\n",
       "      <td>0.9752</td>\n",
       "      <td>1.0000</td>\n",
       "      <td>1.0000</td>\n",
       "      <td>0.0000</td>\n",
       "      <td>0.5949</td>\n",
       "      <td>0.3683</td>\n",
       "      <td>0.3912</td>\n",
       "      <td>0.0000</td>\n",
       "      <td>1.0000</td>\n",
       "      <td>0.0000</td>\n",
       "      <td>0.1528</td>\n",
       "      <td>0.1934</td>\n",
       "      <td>0.8373</td>\n",
       "      <td>0.0736</td>\n",
       "      <td>0.9965</td>\n",
       "      <td>0.8268</td>\n",
       "    </tr>\n",
       "    <tr>\n",
       "      <th>426148</th>\n",
       "      <td>0.0019</td>\n",
       "      <td>0.1850</td>\n",
       "      <td>0.8085</td>\n",
       "      <td>0.1672</td>\n",
       "      <td>0.8795</td>\n",
       "      <td>0.8188</td>\n",
       "      <td>1.0000</td>\n",
       "      <td>1.0000</td>\n",
       "      <td>0.0000</td>\n",
       "      <td>0.5949</td>\n",
       "      <td>0.3683</td>\n",
       "      <td>0.3912</td>\n",
       "      <td>0.0000</td>\n",
       "      <td>1.0000</td>\n",
       "      <td>0.0000</td>\n",
       "      <td>0.1528</td>\n",
       "      <td>0.1934</td>\n",
       "      <td>0.8373</td>\n",
       "      <td>0.0736</td>\n",
       "      <td>0.9965</td>\n",
       "      <td>0.8268</td>\n",
       "    </tr>\n",
       "    <tr>\n",
       "      <th>406243</th>\n",
       "      <td>0.0001</td>\n",
       "      <td>0.4374</td>\n",
       "      <td>0.6199</td>\n",
       "      <td>0.1672</td>\n",
       "      <td>0.8795</td>\n",
       "      <td>0.8188</td>\n",
       "      <td>1.0000</td>\n",
       "      <td>1.0000</td>\n",
       "      <td>0.0000</td>\n",
       "      <td>0.5949</td>\n",
       "      <td>0.3683</td>\n",
       "      <td>0.3912</td>\n",
       "      <td>0.0000</td>\n",
       "      <td>1.0000</td>\n",
       "      <td>0.0000</td>\n",
       "      <td>0.1528</td>\n",
       "      <td>0.1934</td>\n",
       "      <td>0.8373</td>\n",
       "      <td>0.0736</td>\n",
       "      <td>0.9965</td>\n",
       "      <td>0.8268</td>\n",
       "    </tr>\n",
       "    <tr>\n",
       "      <th>...</th>\n",
       "      <td>...</td>\n",
       "      <td>...</td>\n",
       "      <td>...</td>\n",
       "      <td>...</td>\n",
       "      <td>...</td>\n",
       "      <td>...</td>\n",
       "      <td>...</td>\n",
       "      <td>...</td>\n",
       "      <td>...</td>\n",
       "      <td>...</td>\n",
       "      <td>...</td>\n",
       "      <td>...</td>\n",
       "      <td>...</td>\n",
       "      <td>...</td>\n",
       "      <td>...</td>\n",
       "      <td>...</td>\n",
       "      <td>...</td>\n",
       "      <td>...</td>\n",
       "      <td>...</td>\n",
       "      <td>...</td>\n",
       "      <td>...</td>\n",
       "    </tr>\n",
       "    <tr>\n",
       "      <th>704630</th>\n",
       "      <td>0.0059</td>\n",
       "      <td>0.3745</td>\n",
       "      <td>0.0998</td>\n",
       "      <td>0.2268</td>\n",
       "      <td>0.8730</td>\n",
       "      <td>0.8111</td>\n",
       "      <td>0.0000</td>\n",
       "      <td>0.0000</td>\n",
       "      <td>1.0000</td>\n",
       "      <td>1.0000</td>\n",
       "      <td>0.0000</td>\n",
       "      <td>1.0000</td>\n",
       "      <td>0.9495</td>\n",
       "      <td>0.2360</td>\n",
       "      <td>0.8332</td>\n",
       "      <td>0.0873</td>\n",
       "      <td>0.0560</td>\n",
       "      <td>1.0000</td>\n",
       "      <td>0.7810</td>\n",
       "      <td>0.1185</td>\n",
       "      <td>0.3410</td>\n",
       "    </tr>\n",
       "    <tr>\n",
       "      <th>672847</th>\n",
       "      <td>0.0001</td>\n",
       "      <td>0.4282</td>\n",
       "      <td>0.3600</td>\n",
       "      <td>0.2268</td>\n",
       "      <td>0.8730</td>\n",
       "      <td>0.8111</td>\n",
       "      <td>0.0000</td>\n",
       "      <td>0.0000</td>\n",
       "      <td>1.0000</td>\n",
       "      <td>1.0000</td>\n",
       "      <td>0.0000</td>\n",
       "      <td>1.0000</td>\n",
       "      <td>0.9495</td>\n",
       "      <td>0.2360</td>\n",
       "      <td>0.8332</td>\n",
       "      <td>0.0873</td>\n",
       "      <td>0.0560</td>\n",
       "      <td>1.0000</td>\n",
       "      <td>0.7810</td>\n",
       "      <td>0.1185</td>\n",
       "      <td>0.3410</td>\n",
       "    </tr>\n",
       "    <tr>\n",
       "      <th>672709</th>\n",
       "      <td>0.0058</td>\n",
       "      <td>0.3504</td>\n",
       "      <td>0.5262</td>\n",
       "      <td>0.2268</td>\n",
       "      <td>0.8730</td>\n",
       "      <td>0.8111</td>\n",
       "      <td>0.0000</td>\n",
       "      <td>0.0000</td>\n",
       "      <td>1.0000</td>\n",
       "      <td>1.0000</td>\n",
       "      <td>0.0000</td>\n",
       "      <td>1.0000</td>\n",
       "      <td>0.9495</td>\n",
       "      <td>0.2360</td>\n",
       "      <td>0.8332</td>\n",
       "      <td>0.0873</td>\n",
       "      <td>0.0560</td>\n",
       "      <td>1.0000</td>\n",
       "      <td>0.7810</td>\n",
       "      <td>0.1185</td>\n",
       "      <td>0.3410</td>\n",
       "    </tr>\n",
       "    <tr>\n",
       "      <th>672702</th>\n",
       "      <td>0.0003</td>\n",
       "      <td>0.2265</td>\n",
       "      <td>0.7878</td>\n",
       "      <td>0.2268</td>\n",
       "      <td>0.8730</td>\n",
       "      <td>0.8111</td>\n",
       "      <td>0.0000</td>\n",
       "      <td>0.0000</td>\n",
       "      <td>1.0000</td>\n",
       "      <td>1.0000</td>\n",
       "      <td>0.0000</td>\n",
       "      <td>1.0000</td>\n",
       "      <td>0.9495</td>\n",
       "      <td>0.2360</td>\n",
       "      <td>0.8332</td>\n",
       "      <td>0.0873</td>\n",
       "      <td>0.0560</td>\n",
       "      <td>1.0000</td>\n",
       "      <td>0.7810</td>\n",
       "      <td>0.1185</td>\n",
       "      <td>0.3410</td>\n",
       "    </tr>\n",
       "    <tr>\n",
       "      <th>688732</th>\n",
       "      <td>0.0000</td>\n",
       "      <td>0.2744</td>\n",
       "      <td>0.5919</td>\n",
       "      <td>0.2268</td>\n",
       "      <td>0.8730</td>\n",
       "      <td>0.8111</td>\n",
       "      <td>0.0000</td>\n",
       "      <td>0.0000</td>\n",
       "      <td>1.0000</td>\n",
       "      <td>1.0000</td>\n",
       "      <td>0.0000</td>\n",
       "      <td>1.0000</td>\n",
       "      <td>0.9495</td>\n",
       "      <td>0.2360</td>\n",
       "      <td>0.8332</td>\n",
       "      <td>0.0873</td>\n",
       "      <td>0.0560</td>\n",
       "      <td>1.0000</td>\n",
       "      <td>0.7810</td>\n",
       "      <td>0.1185</td>\n",
       "      <td>0.3410</td>\n",
       "    </tr>\n",
       "  </tbody>\n",
       "</table>\n",
       "<p>1296675 rows × 21 columns</p>\n",
       "</div>"
      ],
      "text/plain": [
       "          amt    age  haversine_distance  n_category_embedding_0  \\\n",
       "idtxn                                                              \n",
       "445724 0.0035 0.2344              0.3571                  0.1066   \n",
       "445691 0.0029 0.2001              0.4343                  0.1066   \n",
       "485143 0.0025 0.6036              0.2621                  0.1066   \n",
       "426148 0.0019 0.1850              0.8085                  0.1672   \n",
       "406243 0.0001 0.4374              0.6199                  0.1672   \n",
       "...       ...    ...                 ...                     ...   \n",
       "704630 0.0059 0.3745              0.0998                  0.2268   \n",
       "672847 0.0001 0.4282              0.3600                  0.2268   \n",
       "672709 0.0058 0.3504              0.5262                  0.2268   \n",
       "672702 0.0003 0.2265              0.7878                  0.2268   \n",
       "688732 0.0000 0.2744              0.5919                  0.2268   \n",
       "\n",
       "        n_category_embedding_1  n_category_embedding_2  n_gender_embedding_0  \\\n",
       "idtxn                                                                          \n",
       "445724                  0.9859                  0.9752                1.0000   \n",
       "445691                  0.9859                  0.9752                1.0000   \n",
       "485143                  0.9859                  0.9752                1.0000   \n",
       "426148                  0.8795                  0.8188                1.0000   \n",
       "406243                  0.8795                  0.8188                1.0000   \n",
       "...                        ...                     ...                   ...   \n",
       "704630                  0.8730                  0.8111                0.0000   \n",
       "672847                  0.8730                  0.8111                0.0000   \n",
       "672709                  0.8730                  0.8111                0.0000   \n",
       "672702                  0.8730                  0.8111                0.0000   \n",
       "688732                  0.8730                  0.8111                0.0000   \n",
       "\n",
       "        n_gender_embedding_1  n_gender_embedding_2  n_state_embedding_0  \\\n",
       "idtxn                                                                     \n",
       "445724                1.0000                0.0000               0.5949   \n",
       "445691                1.0000                0.0000               0.5949   \n",
       "485143                1.0000                0.0000               0.5949   \n",
       "426148                1.0000                0.0000               0.5949   \n",
       "406243                1.0000                0.0000               0.5949   \n",
       "...                      ...                   ...                  ...   \n",
       "704630                0.0000                1.0000               1.0000   \n",
       "672847                0.0000                1.0000               1.0000   \n",
       "672709                0.0000                1.0000               1.0000   \n",
       "672702                0.0000                1.0000               1.0000   \n",
       "688732                0.0000                1.0000               1.0000   \n",
       "\n",
       "        n_state_embedding_1  n_state_embedding_2  month_embedding_0  \\\n",
       "idtxn                                                                 \n",
       "445724               0.3683               0.3912             0.0000   \n",
       "445691               0.3683               0.3912             0.0000   \n",
       "485143               0.3683               0.3912             0.0000   \n",
       "426148               0.3683               0.3912             0.0000   \n",
       "406243               0.3683               0.3912             0.0000   \n",
       "...                     ...                  ...                ...   \n",
       "704630               0.0000               1.0000             0.9495   \n",
       "672847               0.0000               1.0000             0.9495   \n",
       "672709               0.0000               1.0000             0.9495   \n",
       "672702               0.0000               1.0000             0.9495   \n",
       "688732               0.0000               1.0000             0.9495   \n",
       "\n",
       "        month_embedding_1  month_embedding_2  hour_embedding_0  \\\n",
       "idtxn                                                            \n",
       "445724             1.0000             0.0000            0.1528   \n",
       "445691             1.0000             0.0000            0.1528   \n",
       "485143             1.0000             0.0000            0.1528   \n",
       "426148             1.0000             0.0000            0.1528   \n",
       "406243             1.0000             0.0000            0.1528   \n",
       "...                   ...                ...               ...   \n",
       "704630             0.2360             0.8332            0.0873   \n",
       "672847             0.2360             0.8332            0.0873   \n",
       "672709             0.2360             0.8332            0.0873   \n",
       "672702             0.2360             0.8332            0.0873   \n",
       "688732             0.2360             0.8332            0.0873   \n",
       "\n",
       "        hour_embedding_1  hour_embedding_2  weekday_embedding_0  \\\n",
       "idtxn                                                             \n",
       "445724            0.1934            0.8373               0.0736   \n",
       "445691            0.1934            0.8373               0.0736   \n",
       "485143            0.1934            0.8373               0.0736   \n",
       "426148            0.1934            0.8373               0.0736   \n",
       "406243            0.1934            0.8373               0.0736   \n",
       "...                  ...               ...                  ...   \n",
       "704630            0.0560            1.0000               0.7810   \n",
       "672847            0.0560            1.0000               0.7810   \n",
       "672709            0.0560            1.0000               0.7810   \n",
       "672702            0.0560            1.0000               0.7810   \n",
       "688732            0.0560            1.0000               0.7810   \n",
       "\n",
       "        weekday_embedding_1  weekday_embedding_2  \n",
       "idtxn                                             \n",
       "445724               0.9965               0.8268  \n",
       "445691               0.9965               0.8268  \n",
       "485143               0.9965               0.8268  \n",
       "426148               0.9965               0.8268  \n",
       "406243               0.9965               0.8268  \n",
       "...                     ...                  ...  \n",
       "704630               0.1185               0.3410  \n",
       "672847               0.1185               0.3410  \n",
       "672709               0.1185               0.3410  \n",
       "672702               0.1185               0.3410  \n",
       "688732               0.1185               0.3410  \n",
       "\n",
       "[1296675 rows x 21 columns]"
      ]
     },
     "execution_count": 76,
     "metadata": {},
     "output_type": "execute_result"
    }
   ],
   "source": [
    "Xs"
   ]
  },
  {
   "cell_type": "markdown",
   "metadata": {},
   "source": [
    "#### Autoencoder"
   ]
  },
  {
   "cell_type": "code",
   "execution_count": 77,
   "metadata": {
    "ExecuteTime": {
     "end_time": "2021-05-28T01:33:49.654202Z",
     "start_time": "2021-05-28T01:32:01.792300Z"
    }
   },
   "outputs": [
    {
     "name": "stdout",
     "output_type": "stream",
     "text": [
      "Epoch 1/20\n",
      "2594/2594 [==============================] - 5s 2ms/step - loss: 0.0105 - rms: 0.1026 - mae: 0.0479\n",
      "Epoch 2/20\n",
      "2594/2594 [==============================] - 6s 2ms/step - loss: 9.7462e-04 - rms: 0.0312 - mae: 0.0217\n",
      "Epoch 3/20\n",
      "2594/2594 [==============================] - 5s 2ms/step - loss: 7.3031e-04 - rms: 0.0270 - mae: 0.0184\n",
      "Epoch 4/20\n",
      "2594/2594 [==============================] - 5s 2ms/step - loss: 6.4805e-04 - rms: 0.0255 - mae: 0.0171\n",
      "Epoch 5/20\n",
      "2594/2594 [==============================] - 5s 2ms/step - loss: 6.2344e-04 - rms: 0.0250 - mae: 0.0161\n",
      "Epoch 6/20\n",
      "2594/2594 [==============================] - 5s 2ms/step - loss: 6.1978e-04 - rms: 0.0249 - mae: 0.0160\n",
      "Epoch 7/20\n",
      "2594/2594 [==============================] - 5s 2ms/step - loss: 6.1792e-04 - rms: 0.0249 - mae: 0.0159\n",
      "Epoch 8/20\n",
      "2594/2594 [==============================] - 6s 2ms/step - loss: 7.1553e-04 - rms: 0.0267 - mae: 0.0174\n",
      "Epoch 9/20\n",
      "2594/2594 [==============================] - 5s 2ms/step - loss: 7.1611e-04 - rms: 0.0268 - mae: 0.0173\n",
      "Epoch 10/20\n",
      "2594/2594 [==============================] - 5s 2ms/step - loss: 6.4704e-04 - rms: 0.0254 - mae: 0.0163\n",
      "Epoch 11/20\n",
      "2594/2594 [==============================] - 5s 2ms/step - loss: 6.3484e-04 - rms: 0.0252 - mae: 0.0161\n",
      "Epoch 12/20\n",
      "2594/2594 [==============================] - 5s 2ms/step - loss: 6.3488e-04 - rms: 0.0252 - mae: 0.0161\n",
      "Epoch 13/20\n",
      "2594/2594 [==============================] - 5s 2ms/step - loss: 6.3438e-04 - rms: 0.0252 - mae: 0.0161\n",
      "Epoch 14/20\n",
      "2594/2594 [==============================] - 5s 2ms/step - loss: 6.3395e-04 - rms: 0.0252 - mae: 0.0160\n",
      "Epoch 15/20\n",
      "2594/2594 [==============================] - 6s 2ms/step - loss: 6.3407e-04 - rms: 0.0252 - mae: 0.0160\n",
      "Epoch 16/20\n",
      "2594/2594 [==============================] - 6s 2ms/step - loss: 6.3389e-04 - rms: 0.0252 - mae: 0.0160\n",
      "Epoch 17/20\n",
      "2594/2594 [==============================] - 6s 2ms/step - loss: 6.3335e-04 - rms: 0.0252 - mae: 0.0160\n",
      "Epoch 18/20\n",
      "2594/2594 [==============================] - 5s 2ms/step - loss: 6.3345e-04 - rms: 0.0252 - mae: 0.0160\n",
      "Epoch 19/20\n",
      "2594/2594 [==============================] - 5s 2ms/step - loss: 6.3337e-04 - rms: 0.0252 - mae: 0.0160\n",
      "Epoch 20/20\n",
      "2594/2594 [==============================] - 5s 2ms/step - loss: 6.3315e-04 - rms: 0.0252 - mae: 0.0160\n"
     ]
    }
   ],
   "source": [
    "autoencoder, encoder = make_autoencoder(Xs)"
   ]
  },
  {
   "cell_type": "code",
   "execution_count": 78,
   "metadata": {
    "ExecuteTime": {
     "end_time": "2021-05-28T01:34:17.081038Z",
     "start_time": "2021-05-28T01:34:03.769614Z"
    }
   },
   "outputs": [],
   "source": [
    "Xe = pd.DataFrame(data=encoder.predict(Xs), index=Xs.index)"
   ]
  },
  {
   "cell_type": "code",
   "execution_count": 79,
   "metadata": {
    "ExecuteTime": {
     "end_time": "2021-05-28T01:34:19.840790Z",
     "start_time": "2021-05-28T01:34:19.809090Z"
    }
   },
   "outputs": [
    {
     "data": {
      "text/html": [
       "<div>\n",
       "<style scoped>\n",
       "    .dataframe tbody tr th:only-of-type {\n",
       "        vertical-align: middle;\n",
       "    }\n",
       "\n",
       "    .dataframe tbody tr th {\n",
       "        vertical-align: top;\n",
       "    }\n",
       "\n",
       "    .dataframe thead th {\n",
       "        text-align: right;\n",
       "    }\n",
       "</style>\n",
       "<table border=\"1\" class=\"dataframe\">\n",
       "  <thead>\n",
       "    <tr style=\"text-align: right;\">\n",
       "      <th></th>\n",
       "      <th>0</th>\n",
       "      <th>1</th>\n",
       "      <th>2</th>\n",
       "      <th>3</th>\n",
       "      <th>4</th>\n",
       "      <th>5</th>\n",
       "      <th>6</th>\n",
       "      <th>7</th>\n",
       "      <th>8</th>\n",
       "      <th>9</th>\n",
       "      <th>10</th>\n",
       "      <th>11</th>\n",
       "      <th>12</th>\n",
       "      <th>13</th>\n",
       "      <th>14</th>\n",
       "      <th>15</th>\n",
       "    </tr>\n",
       "    <tr>\n",
       "      <th>idtxn</th>\n",
       "      <th></th>\n",
       "      <th></th>\n",
       "      <th></th>\n",
       "      <th></th>\n",
       "      <th></th>\n",
       "      <th></th>\n",
       "      <th></th>\n",
       "      <th></th>\n",
       "      <th></th>\n",
       "      <th></th>\n",
       "      <th></th>\n",
       "      <th></th>\n",
       "      <th></th>\n",
       "      <th></th>\n",
       "      <th></th>\n",
       "      <th></th>\n",
       "    </tr>\n",
       "  </thead>\n",
       "  <tbody>\n",
       "    <tr>\n",
       "      <th>445724</th>\n",
       "      <td>1.1578</td>\n",
       "      <td>0.0000</td>\n",
       "      <td>0.0000</td>\n",
       "      <td>0.0000</td>\n",
       "      <td>1.6931</td>\n",
       "      <td>0.0000</td>\n",
       "      <td>0.9541</td>\n",
       "      <td>0.2790</td>\n",
       "      <td>0.0000</td>\n",
       "      <td>0.0000</td>\n",
       "      <td>2.3452</td>\n",
       "      <td>0.6578</td>\n",
       "      <td>0.7883</td>\n",
       "      <td>1.4577</td>\n",
       "      <td>1.6939</td>\n",
       "      <td>0.0000</td>\n",
       "    </tr>\n",
       "    <tr>\n",
       "      <th>445691</th>\n",
       "      <td>1.2034</td>\n",
       "      <td>0.0000</td>\n",
       "      <td>0.0000</td>\n",
       "      <td>0.0000</td>\n",
       "      <td>1.6748</td>\n",
       "      <td>0.0000</td>\n",
       "      <td>0.9809</td>\n",
       "      <td>0.2500</td>\n",
       "      <td>0.0000</td>\n",
       "      <td>0.0000</td>\n",
       "      <td>2.3466</td>\n",
       "      <td>0.6300</td>\n",
       "      <td>0.7836</td>\n",
       "      <td>1.4786</td>\n",
       "      <td>1.7039</td>\n",
       "      <td>0.0000</td>\n",
       "    </tr>\n",
       "    <tr>\n",
       "      <th>485143</th>\n",
       "      <td>1.0432</td>\n",
       "      <td>0.0000</td>\n",
       "      <td>0.0000</td>\n",
       "      <td>0.0000</td>\n",
       "      <td>1.9165</td>\n",
       "      <td>0.0000</td>\n",
       "      <td>0.9215</td>\n",
       "      <td>0.6045</td>\n",
       "      <td>0.0000</td>\n",
       "      <td>0.0000</td>\n",
       "      <td>2.4365</td>\n",
       "      <td>0.6536</td>\n",
       "      <td>0.8288</td>\n",
       "      <td>1.5184</td>\n",
       "      <td>1.6456</td>\n",
       "      <td>0.0000</td>\n",
       "    </tr>\n",
       "    <tr>\n",
       "      <th>426148</th>\n",
       "      <td>1.3245</td>\n",
       "      <td>0.0000</td>\n",
       "      <td>0.0000</td>\n",
       "      <td>0.0000</td>\n",
       "      <td>1.6824</td>\n",
       "      <td>0.0000</td>\n",
       "      <td>1.1798</td>\n",
       "      <td>0.2471</td>\n",
       "      <td>0.0000</td>\n",
       "      <td>0.0000</td>\n",
       "      <td>2.3261</td>\n",
       "      <td>0.4683</td>\n",
       "      <td>0.8079</td>\n",
       "      <td>1.6298</td>\n",
       "      <td>1.7440</td>\n",
       "      <td>0.0000</td>\n",
       "    </tr>\n",
       "    <tr>\n",
       "      <th>406243</th>\n",
       "      <td>1.1831</td>\n",
       "      <td>0.0000</td>\n",
       "      <td>0.0000</td>\n",
       "      <td>0.0000</td>\n",
       "      <td>1.8308</td>\n",
       "      <td>0.0000</td>\n",
       "      <td>1.1145</td>\n",
       "      <td>0.4674</td>\n",
       "      <td>0.0000</td>\n",
       "      <td>0.0000</td>\n",
       "      <td>2.3708</td>\n",
       "      <td>0.5163</td>\n",
       "      <td>0.8372</td>\n",
       "      <td>1.6233</td>\n",
       "      <td>1.7010</td>\n",
       "      <td>0.0000</td>\n",
       "    </tr>\n",
       "    <tr>\n",
       "      <th>...</th>\n",
       "      <td>...</td>\n",
       "      <td>...</td>\n",
       "      <td>...</td>\n",
       "      <td>...</td>\n",
       "      <td>...</td>\n",
       "      <td>...</td>\n",
       "      <td>...</td>\n",
       "      <td>...</td>\n",
       "      <td>...</td>\n",
       "      <td>...</td>\n",
       "      <td>...</td>\n",
       "      <td>...</td>\n",
       "      <td>...</td>\n",
       "      <td>...</td>\n",
       "      <td>...</td>\n",
       "      <td>...</td>\n",
       "    </tr>\n",
       "    <tr>\n",
       "      <th>704630</th>\n",
       "      <td>1.3378</td>\n",
       "      <td>0.0000</td>\n",
       "      <td>0.0000</td>\n",
       "      <td>0.0000</td>\n",
       "      <td>0.2484</td>\n",
       "      <td>0.0000</td>\n",
       "      <td>0.1991</td>\n",
       "      <td>1.3466</td>\n",
       "      <td>0.0000</td>\n",
       "      <td>0.0000</td>\n",
       "      <td>1.1975</td>\n",
       "      <td>0.5967</td>\n",
       "      <td>1.3704</td>\n",
       "      <td>1.3702</td>\n",
       "      <td>0.8423</td>\n",
       "      <td>0.0000</td>\n",
       "    </tr>\n",
       "    <tr>\n",
       "      <th>672847</th>\n",
       "      <td>1.4609</td>\n",
       "      <td>0.0000</td>\n",
       "      <td>0.0000</td>\n",
       "      <td>0.0000</td>\n",
       "      <td>0.2905</td>\n",
       "      <td>0.0000</td>\n",
       "      <td>0.2896</td>\n",
       "      <td>1.3989</td>\n",
       "      <td>0.0000</td>\n",
       "      <td>0.0000</td>\n",
       "      <td>1.2501</td>\n",
       "      <td>0.4832</td>\n",
       "      <td>1.3726</td>\n",
       "      <td>1.4853</td>\n",
       "      <td>0.8575</td>\n",
       "      <td>0.0000</td>\n",
       "    </tr>\n",
       "    <tr>\n",
       "      <th>672709</th>\n",
       "      <td>1.5596</td>\n",
       "      <td>0.0000</td>\n",
       "      <td>0.0000</td>\n",
       "      <td>0.0000</td>\n",
       "      <td>0.2485</td>\n",
       "      <td>0.0000</td>\n",
       "      <td>0.3473</td>\n",
       "      <td>1.3329</td>\n",
       "      <td>0.0000</td>\n",
       "      <td>0.0000</td>\n",
       "      <td>1.2519</td>\n",
       "      <td>0.4238</td>\n",
       "      <td>1.3622</td>\n",
       "      <td>1.5292</td>\n",
       "      <td>0.8796</td>\n",
       "      <td>0.0000</td>\n",
       "    </tr>\n",
       "    <tr>\n",
       "      <th>672702</th>\n",
       "      <td>1.7153</td>\n",
       "      <td>0.0000</td>\n",
       "      <td>0.0000</td>\n",
       "      <td>0.0000</td>\n",
       "      <td>0.1816</td>\n",
       "      <td>0.0000</td>\n",
       "      <td>0.4381</td>\n",
       "      <td>1.2279</td>\n",
       "      <td>0.0000</td>\n",
       "      <td>0.0000</td>\n",
       "      <td>1.2542</td>\n",
       "      <td>0.3306</td>\n",
       "      <td>1.3455</td>\n",
       "      <td>1.5980</td>\n",
       "      <td>0.9144</td>\n",
       "      <td>0.0000</td>\n",
       "    </tr>\n",
       "    <tr>\n",
       "      <th>688732</th>\n",
       "      <td>1.6068</td>\n",
       "      <td>0.0000</td>\n",
       "      <td>0.0000</td>\n",
       "      <td>0.0000</td>\n",
       "      <td>0.2041</td>\n",
       "      <td>0.0000</td>\n",
       "      <td>0.3701</td>\n",
       "      <td>1.2668</td>\n",
       "      <td>0.0000</td>\n",
       "      <td>0.0000</td>\n",
       "      <td>1.2397</td>\n",
       "      <td>0.4057</td>\n",
       "      <td>1.3532</td>\n",
       "      <td>1.5346</td>\n",
       "      <td>0.8933</td>\n",
       "      <td>0.0000</td>\n",
       "    </tr>\n",
       "  </tbody>\n",
       "</table>\n",
       "<p>1296675 rows × 16 columns</p>\n",
       "</div>"
      ],
      "text/plain": [
       "           0      1      2      3      4      5      6      7      8      9   \\\n",
       "idtxn                                                                          \n",
       "445724 1.1578 0.0000 0.0000 0.0000 1.6931 0.0000 0.9541 0.2790 0.0000 0.0000   \n",
       "445691 1.2034 0.0000 0.0000 0.0000 1.6748 0.0000 0.9809 0.2500 0.0000 0.0000   \n",
       "485143 1.0432 0.0000 0.0000 0.0000 1.9165 0.0000 0.9215 0.6045 0.0000 0.0000   \n",
       "426148 1.3245 0.0000 0.0000 0.0000 1.6824 0.0000 1.1798 0.2471 0.0000 0.0000   \n",
       "406243 1.1831 0.0000 0.0000 0.0000 1.8308 0.0000 1.1145 0.4674 0.0000 0.0000   \n",
       "...       ...    ...    ...    ...    ...    ...    ...    ...    ...    ...   \n",
       "704630 1.3378 0.0000 0.0000 0.0000 0.2484 0.0000 0.1991 1.3466 0.0000 0.0000   \n",
       "672847 1.4609 0.0000 0.0000 0.0000 0.2905 0.0000 0.2896 1.3989 0.0000 0.0000   \n",
       "672709 1.5596 0.0000 0.0000 0.0000 0.2485 0.0000 0.3473 1.3329 0.0000 0.0000   \n",
       "672702 1.7153 0.0000 0.0000 0.0000 0.1816 0.0000 0.4381 1.2279 0.0000 0.0000   \n",
       "688732 1.6068 0.0000 0.0000 0.0000 0.2041 0.0000 0.3701 1.2668 0.0000 0.0000   \n",
       "\n",
       "           10     11     12     13     14     15  \n",
       "idtxn                                             \n",
       "445724 2.3452 0.6578 0.7883 1.4577 1.6939 0.0000  \n",
       "445691 2.3466 0.6300 0.7836 1.4786 1.7039 0.0000  \n",
       "485143 2.4365 0.6536 0.8288 1.5184 1.6456 0.0000  \n",
       "426148 2.3261 0.4683 0.8079 1.6298 1.7440 0.0000  \n",
       "406243 2.3708 0.5163 0.8372 1.6233 1.7010 0.0000  \n",
       "...       ...    ...    ...    ...    ...    ...  \n",
       "704630 1.1975 0.5967 1.3704 1.3702 0.8423 0.0000  \n",
       "672847 1.2501 0.4832 1.3726 1.4853 0.8575 0.0000  \n",
       "672709 1.2519 0.4238 1.3622 1.5292 0.8796 0.0000  \n",
       "672702 1.2542 0.3306 1.3455 1.5980 0.9144 0.0000  \n",
       "688732 1.2397 0.4057 1.3532 1.5346 0.8933 0.0000  \n",
       "\n",
       "[1296675 rows x 16 columns]"
      ]
     },
     "execution_count": 79,
     "metadata": {},
     "output_type": "execute_result"
    }
   ],
   "source": [
    "Xe"
   ]
  },
  {
   "cell_type": "markdown",
   "metadata": {},
   "source": [
    "#### Pipeline"
   ]
  },
  {
   "cell_type": "code",
   "execution_count": 80,
   "metadata": {
    "ExecuteTime": {
     "end_time": "2021-05-28T01:36:00.427922Z",
     "start_time": "2021-05-28T01:36:00.040009Z"
    }
   },
   "outputs": [
    {
     "data": {
      "text/plain": [
       "0    0.4510\n",
       "1    0.0000\n",
       "2    0.0000\n",
       "3    0.0000\n",
       "4    0.6306\n",
       "5    0.0000\n",
       "6    0.3740\n",
       "7    0.3720\n",
       "8    0.0000\n",
       "9    0.0000\n",
       "10   0.5412\n",
       "11   0.1332\n",
       "12   0.2981\n",
       "13   0.3264\n",
       "14   0.6479\n",
       "15   0.0000\n",
       "dtype: float32"
      ]
     },
     "execution_count": 80,
     "metadata": {},
     "output_type": "execute_result"
    }
   ],
   "source": [
    "Xe.std()"
   ]
  },
  {
   "cell_type": "code",
   "execution_count": 81,
   "metadata": {
    "ExecuteTime": {
     "end_time": "2021-05-28T01:36:11.836138Z",
     "start_time": "2021-05-28T01:36:11.821325Z"
    }
   },
   "outputs": [],
   "source": [
    "pipe = Pipeline([(\"vt\", VarianceThreshold(threshold=0.0001)), (\"mm\", StandardScaler())]) #Prueben con MinMaxScaler y vean que se tarda más"
   ]
  },
  {
   "cell_type": "code",
   "execution_count": 83,
   "metadata": {
    "ExecuteTime": {
     "end_time": "2021-05-28T01:36:27.911466Z",
     "start_time": "2021-05-28T01:36:27.906445Z"
    }
   },
   "outputs": [],
   "source": [
    "modelo = LogisticRegression(max_iter=1000, n_jobs=-1, class_weight=\"balanced\")"
   ]
  },
  {
   "cell_type": "markdown",
   "metadata": {},
   "source": [
    "#### Cross-validation"
   ]
  },
  {
   "cell_type": "code",
   "execution_count": 84,
   "metadata": {
    "ExecuteTime": {
     "end_time": "2021-05-28T01:36:36.161087Z",
     "start_time": "2021-05-28T01:36:29.778707Z"
    }
   },
   "outputs": [
    {
     "name": "stdout",
     "output_type": "stream",
     "text": [
      "ROC media: 0.88, desviación estándar: 0.007127734591191246\n"
     ]
    }
   ],
   "source": [
    "classification_metrics(Xe, y, pipe, modelo)"
   ]
  },
  {
   "cell_type": "markdown",
   "metadata": {},
   "source": [
    "#### Hyperparametrización"
   ]
  },
  {
   "cell_type": "code",
   "execution_count": 85,
   "metadata": {
    "ExecuteTime": {
     "end_time": "2021-05-28T01:39:04.169921Z",
     "start_time": "2021-05-28T01:37:06.755796Z"
    }
   },
   "outputs": [
    {
     "name": "stdout",
     "output_type": "stream",
     "text": [
      "Fitting 4 folds for each of 5 candidates, totalling 20 fits\n",
      "ROC: 0.88\n"
     ]
    }
   ],
   "source": [
    "bm = hyperparam_logistic(Xe, y, pipe)"
   ]
  },
  {
   "cell_type": "markdown",
   "metadata": {},
   "source": [
    "#### Resultados"
   ]
  },
  {
   "cell_type": "code",
   "execution_count": 86,
   "metadata": {
    "ExecuteTime": {
     "end_time": "2021-05-28T01:39:04.378987Z",
     "start_time": "2021-05-28T01:39:04.172673Z"
    }
   },
   "outputs": [],
   "source": [
    "proba = bm.predict_proba(Xe)[:, 1]"
   ]
  },
  {
   "cell_type": "code",
   "execution_count": 87,
   "metadata": {
    "ExecuteTime": {
     "end_time": "2021-05-28T01:39:04.676387Z",
     "start_time": "2021-05-28T01:39:04.381655Z"
    }
   },
   "outputs": [],
   "source": [
    "res = Xe.join(y)[[target]]"
   ]
  },
  {
   "cell_type": "code",
   "execution_count": 88,
   "metadata": {
    "ExecuteTime": {
     "end_time": "2021-05-28T01:39:04.683605Z",
     "start_time": "2021-05-28T01:39:04.678373Z"
    }
   },
   "outputs": [],
   "source": [
    "res[\"proba\"] = proba"
   ]
  },
  {
   "cell_type": "code",
   "execution_count": 89,
   "metadata": {
    "ExecuteTime": {
     "end_time": "2021-05-28T01:39:05.406159Z",
     "start_time": "2021-05-28T01:39:04.685759Z"
    }
   },
   "outputs": [
    {
     "data": {
      "text/plain": [
       "<matplotlib.axes._subplots.AxesSubplot at 0x7f0d5010a410>"
      ]
     },
     "execution_count": 89,
     "metadata": {},
     "output_type": "execute_result"
    },
    {
     "data": {
      "image/png": "[encoded data removed]",
      "text/plain": [
       "<Figure size 432x288 with 1 Axes>"
      ]
     },
     "metadata": {
      "needs_background": "light"
     },
     "output_type": "display_data"
    }
   ],
   "source": [
    "res[\"proba\"].hist()"
   ]
  },
  {
   "cell_type": "code",
   "execution_count": null,
   "metadata": {},
   "outputs": [],
   "source": []
  }
 ],
 "metadata": {
  "kernelspec": {
   "display_name": "Python 3",
   "language": "python",
   "name": "python3"
  },
  "language_info": {
   "codemirror_mode": {
    "name": "ipython",
    "version": 3
   },
   "file_extension": ".py",
   "mimetype": "text/x-python",
   "name": "python",
   "nbconvert_exporter": "python",
   "pygments_lexer": "ipython3",
   "version": "3.8.5"
  },
  "notify_time": "5",
  "toc": {
   "base_numbering": 1,
   "nav_menu": {},
   "number_sections": true,
   "sideBar": true,
   "skip_h1_title": true,
   "title_cell": "Table of Contents",
   "title_sidebar": "Contents",
   "toc_cell": false,
   "toc_position": {},
   "toc_section_display": true,
   "toc_window_display": false
  },
  "varInspector": {
   "cols": {
    "lenName": 16,
    "lenType": 16,
    "lenVar": 40
   },
   "kernels_config": {
    "python": {
     "delete_cmd_postfix": "",
     "delete_cmd_prefix": "del ",
     "library": "var_list.py",
     "varRefreshCmd": "print(var_dic_list())"
    },
    "r": {
     "delete_cmd_postfix": ") ",
     "delete_cmd_prefix": "rm(",
     "library": "var_list.r",
     "varRefreshCmd": "cat(var_dic_list()) "
    }
   },
   "types_to_exclude": [
    "module",
    "function",
    "builtin_function_or_method",
    "instance",
    "_Feature"
   ],
   "window_display": false
  }
 },
 "nbformat": 4,
 "nbformat_minor": 5
}
